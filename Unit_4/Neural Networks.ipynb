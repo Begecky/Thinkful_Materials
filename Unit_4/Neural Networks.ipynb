{
 "cells": [
  {
   "cell_type": "markdown",
   "metadata": {},
   "source": [
    "## Importing:"
   ]
  },
  {
   "cell_type": "code",
   "execution_count": 1,
   "metadata": {},
   "outputs": [],
   "source": [
    "import pandas as pd\n",
    "import numpy as np\n",
    "import gc\n",
    "pd.set_option('display.max_rows', 200)"
   ]
  },
  {
   "cell_type": "code",
   "execution_count": 2,
   "metadata": {},
   "outputs": [],
   "source": [
    "col_list = ['GenderSelect', 'Country', 'Age', 'EmploymentStatus', 'StudentStatus', 'LearningDataScience', \n",
    "            'CodeWriter', 'CareerSwitcher', 'CurrentEmployerType', 'MLToolNextYearSelect', 'MLMethodNextYearSelect',\n",
    "            'LanguageRecommendationSelect', 'PublicDatasetsSelect', 'BlogsPodcastsNewslettersSelect', 'LearningDataScienceTime', 'JobSkillImportanceBigData', \n",
    "            'JobSkillImportanceDegree', 'JobSkillImportanceStats', 'JobSkillImportanceEnterpriseTools', \n",
    "            'JobSkillImportancePython', 'JobSkillImportanceR', 'JobSkillImportanceSQL', 'JobSkillImportanceKaggleRanking',\n",
    "            'JobSkillImportanceMOOC', 'JobSkillImportanceVisualizations', 'ProveKnowledgeSelect', 'FormalEducation', \n",
    "            'MajorSelect', 'Tenure', 'PastJobTitlesSelect', 'FirstTrainingSelect', 'LearningCategorySelftTaught', \n",
    "            'LearningCategoryOnlineCourses', 'LearningCategoryWork', 'LearningCategoryUniversity', 'LearningCategoryKaggle', \n",
    "            'LearningCategoryOther', 'MLSkillsSelect', 'MLTechniquesSelect', 'JobHuntTime']\n",
    "\n",
    "df = pd.read_csv('Kaggle_Survey.csv', encoding = 'latin-1', usecols = col_list)"
   ]
  },
  {
   "cell_type": "code",
   "execution_count": 3,
   "metadata": {},
   "outputs": [],
   "source": [
    "# Selecting data where there is a non-null entry for job-time:\n",
    "   # Missing not at random: (review)\n",
    "jobtime_mask = df['JobHuntTime'].notnull()\n",
    "job_time = df[jobtime_mask]"
   ]
  },
  {
   "cell_type": "code",
   "execution_count": 4,
   "metadata": {},
   "outputs": [
    {
     "data": {
      "text/plain": [
       "5"
      ]
     },
     "execution_count": 4,
     "metadata": {},
     "output_type": "execute_result"
    }
   ],
   "source": [
    "del df, jobtime_mask, col_list\n",
    "gc.collect()"
   ]
  },
  {
   "cell_type": "markdown",
   "metadata": {},
   "source": [
    "### Cleaning/Exploratory Analysis:"
   ]
  },
  {
   "cell_type": "markdown",
   "metadata": {},
   "source": [
    "#### Descriptive Stats:"
   ]
  },
  {
   "cell_type": "code",
   "execution_count": 5,
   "metadata": {},
   "outputs": [],
   "source": [
    "pd.set_option('display.max_columns', 45)\n",
    "descr = job_time.describe(include = 'all')"
   ]
  },
  {
   "cell_type": "code",
   "execution_count": 6,
   "metadata": {
    "scrolled": true
   },
   "outputs": [],
   "source": [
    "# Looking at nulls (did drop some columns that were all-nulls from our read in line above)\n",
    "    # Also dropped LearningPlatformSelect since it had a significant amount of unique values \n",
    "    # and would have required significant cleaning. \n",
    "\n",
    "info_df = pd.DataFrame(job_time.isna().sum())\n",
    "info_df['unique_vals'] = descr.iloc[1]\n",
    "info_df['top_val'] = descr.iloc[2]\n",
    "info_df['top_freq'] = descr.iloc[3]\n",
    "info_df['dtype'] = job_time.dtypes\n",
    "\n",
    "# To describe:\n",
    "    # display info_df dataframe.\n",
    "    # display descr stats\n",
    "    # Display ['StudentStatus:CurrentEmployerType'] and describe why you are dropping them\n",
    "    # Dropping columns with nullcounts above 20% (i.e. 740)\n",
    "        # Tenur / learning categories\n",
    "    # Filled Blogs/Media with nothing listed - (for keepings sake)\n",
    "    # Highest Null count after this was 440 - so we imputed the mode here.\n",
    "    # highest null count after that is relatively low - so dropping just before modeling should be safe.\n",
    "    # Display output feature and discuss"
   ]
  },
  {
   "cell_type": "code",
   "execution_count": 7,
   "metadata": {},
   "outputs": [],
   "source": [
    "job_time.drop(['EmploymentStatus', 'StudentStatus', \n",
    "               'LearningDataScience', 'CodeWriter',\n",
    "               'CareerSwitcher', 'CurrentEmployerType',\n",
    "               'Tenure', 'LearningCategorySelftTaught',\n",
    "               'LearningCategoryOnlineCourses',  \n",
    "               'LearningCategoryWork', 'LearningCategoryUniversity',\n",
    "               'LearningCategoryKaggle', 'LearningCategoryOther'], axis = 1, inplace = True)"
   ]
  },
  {
   "cell_type": "code",
   "execution_count": 42,
   "metadata": {},
   "outputs": [],
   "source": [
    "job_time['BlogsPodcastsNewslettersSelect'].fillna('No Info/No Answer Given', inplace = True) \n"
   ]
  },
  {
   "cell_type": "code",
   "execution_count": 24,
   "metadata": {},
   "outputs": [],
   "source": [
    "col_list = ['MLToolNextYearSelect', 'MLMethodNextYearSelect', \n",
    "            'LanguageRecommendationSelect', 'PublicDatasetsSelect', \n",
    "            'JobSkillImportanceBigData', 'JobSkillImportanceDegree', \n",
    "            'JobSkillImportanceStats','JobSkillImportanceEnterpriseTools', \n",
    "            'JobSkillImportancePython','JobSkillImportanceR', \n",
    "            'JobSkillImportanceSQL', 'JobSkillImportanceKaggleRanking', \n",
    "            'JobSkillImportanceMOOC','JobSkillImportanceVisualizations', \n",
    "            'ProveKnowledgeSelect','MajorSelect', 'PastJobTitlesSelect',\n",
    "            'MLSkillsSelect', 'MLTechniquesSelect']\n",
    "\n",
    "for x in col_list:\n",
    "    \n",
    "    alpha = job_time[x].value_counts().index[0]\n",
    "    job_time[x].replace(np.nan, alpha, inplace = True)"
   ]
  },
  {
   "cell_type": "code",
   "execution_count": 25,
   "metadata": {},
   "outputs": [
    {
     "data": {
      "text/plain": [
       "GenderSelect                          8\n",
       "Country                               8\n",
       "Age                                  32\n",
       "MLToolNextYearSelect                  0\n",
       "MLMethodNextYearSelect                0\n",
       "LanguageRecommendationSelect          0\n",
       "PublicDatasetsSelect                  0\n",
       "BlogsPodcastsNewslettersSelect        0\n",
       "LearningDataScienceTime               2\n",
       "JobSkillImportanceBigData             0\n",
       "JobSkillImportanceDegree              0\n",
       "JobSkillImportanceStats               0\n",
       "JobSkillImportanceEnterpriseTools     0\n",
       "JobSkillImportancePython              0\n",
       "JobSkillImportanceR                   0\n",
       "JobSkillImportanceSQL                 0\n",
       "JobSkillImportanceKaggleRanking       0\n",
       "JobSkillImportanceMOOC                0\n",
       "JobSkillImportanceVisualizations      0\n",
       "ProveKnowledgeSelect                  0\n",
       "FormalEducation                      10\n",
       "MajorSelect                           0\n",
       "PastJobTitlesSelect                   0\n",
       "FirstTrainingSelect                   5\n",
       "MLSkillsSelect                        0\n",
       "MLTechniquesSelect                    0\n",
       "JobHuntTime                           0\n",
       "dtype: int64"
      ]
     },
     "execution_count": 25,
     "metadata": {},
     "output_type": "execute_result"
    }
   ],
   "source": [
    "job_time.isna().sum()"
   ]
  },
  {
   "cell_type": "code",
   "execution_count": 21,
   "metadata": {},
   "outputs": [
    {
     "data": {
      "text/plain": [
       "1500"
      ]
     },
     "execution_count": 21,
     "metadata": {},
     "output_type": "execute_result"
    }
   ],
   "source": [
    "# Mode:!!!  can do fillna with this.  (no need for a lambda func)\n",
    "job_time.JobHuntTime.value_counts().values[0]"
   ]
  },
  {
   "cell_type": "markdown",
   "metadata": {},
   "source": [
    "#### Pre-Dummy Prep:\n",
    "> Mainly to prevent an overly large feature-set in our results and maintain as much human-readability as possible.  Took the columns with the most unique values and cut them down."
   ]
  },
  {
   "cell_type": "code",
   "execution_count": 26,
   "metadata": {},
   "outputs": [],
   "source": [
    "job_time_prepped = pd.DataFrame()"
   ]
  },
  {
   "cell_type": "code",
   "execution_count": 27,
   "metadata": {
    "collapsed": true
   },
   "outputs": [
    {
     "name": "stderr",
     "output_type": "stream",
     "text": [
      "/usr/local/lib/python3.7/site-packages/ipykernel_launcher.py:4: UserWarning: This pattern has match groups. To actually get the groups, use str.extract.\n",
      "  after removing the cwd from sys.path.\n",
      "/usr/local/lib/python3.7/site-packages/ipykernel_launcher.py:5: UserWarning: This pattern has match groups. To actually get the groups, use str.extract.\n",
      "  \"\"\"\n",
      "/usr/local/lib/python3.7/site-packages/ipykernel_launcher.py:6: UserWarning: This pattern has match groups. To actually get the groups, use str.extract.\n",
      "  \n",
      "/usr/local/lib/python3.7/site-packages/ipykernel_launcher.py:7: UserWarning: This pattern has match groups. To actually get the groups, use str.extract.\n",
      "  import sys\n",
      "/usr/local/lib/python3.7/site-packages/ipykernel_launcher.py:8: UserWarning: This pattern has match groups. To actually get the groups, use str.extract.\n",
      "  \n",
      "/usr/local/lib/python3.7/site-packages/ipykernel_launcher.py:9: UserWarning: This pattern has match groups. To actually get the groups, use str.extract.\n",
      "  if __name__ == '__main__':\n",
      "/usr/local/lib/python3.7/site-packages/ipykernel_launcher.py:10: UserWarning: This pattern has match groups. To actually get the groups, use str.extract.\n",
      "  # Remove the CWD from sys.path while we load stuff.\n",
      "/usr/local/lib/python3.7/site-packages/ipykernel_launcher.py:11: UserWarning: This pattern has match groups. To actually get the groups, use str.extract.\n",
      "  # This is added back by InteractiveShellApp.init_path()\n",
      "/usr/local/lib/python3.7/site-packages/ipykernel_launcher.py:12: UserWarning: This pattern has match groups. To actually get the groups, use str.extract.\n",
      "  if sys.path[0] == '':\n",
      "/usr/local/lib/python3.7/site-packages/ipykernel_launcher.py:13: UserWarning: This pattern has match groups. To actually get the groups, use str.extract.\n",
      "  del sys.path[0]\n",
      "/usr/local/lib/python3.7/site-packages/ipykernel_launcher.py:14: UserWarning: This pattern has match groups. To actually get the groups, use str.extract.\n",
      "  \n",
      "/usr/local/lib/python3.7/site-packages/ipykernel_launcher.py:15: UserWarning: This pattern has match groups. To actually get the groups, use str.extract.\n",
      "  from ipykernel import kernelapp as app\n",
      "/usr/local/lib/python3.7/site-packages/ipykernel_launcher.py:16: UserWarning: This pattern has match groups. To actually get the groups, use str.extract.\n",
      "  app.launch_new_instance()\n",
      "/usr/local/lib/python3.7/site-packages/ipykernel_launcher.py:17: UserWarning: This pattern has match groups. To actually get the groups, use str.extract.\n",
      "/usr/local/lib/python3.7/site-packages/ipykernel_launcher.py:18: UserWarning: This pattern has match groups. To actually get the groups, use str.extract.\n",
      "/usr/local/lib/python3.7/site-packages/ipykernel_launcher.py:19: UserWarning: This pattern has match groups. To actually get the groups, use str.extract.\n",
      "/usr/local/lib/python3.7/site-packages/ipykernel_launcher.py:20: UserWarning: This pattern has match groups. To actually get the groups, use str.extract.\n"
     ]
    }
   ],
   "source": [
    "import re\n",
    "\n",
    "# BlogsPodcastsNewslettersSelect:\n",
    "job_time_prepped['KDNuggets'] = job_time['BlogsPodcastsNewslettersSelect'].str.contains(r'(KDnuggets.*)', flags = re.IGNORECASE)\n",
    "job_time_prepped['RBloggers'] = job_time['BlogsPodcastsNewslettersSelect'].str.contains(r'(R Bloggers.*)', flags = re.IGNORECASE)\n",
    "job_time_prepped['SirajRaval'] = job_time['BlogsPodcastsNewslettersSelect'].str.contains(r'(Siraj Raval.*)', flags = re.IGNORECASE)\n",
    "job_time_prepped['OReilly'] = job_time['BlogsPodcastsNewslettersSelect'].str.contains(r'(O\\'Reilly Data.*)', flags = re.IGNORECASE)\n",
    "job_time_prepped['NoFreeHunch'] = job_time['BlogsPodcastsNewslettersSelect'].str.contains(r'(No Free Hunch.*)', flags = re.IGNORECASE)\n",
    "job_time_prepped['BecomingDS'] = job_time['BlogsPodcastsNewslettersSelect'].str.contains(r'(Becoming.*)', flags = re.IGNORECASE)\n",
    "job_time_prepped['StatisticalModeling'] = job_time['BlogsPodcastsNewslettersSelect'].str.contains(r'(Statistical Modeling.*)', flags = re.IGNORECASE)\n",
    "job_time_prepped['FastML'] = job_time['BlogsPodcastsNewslettersSelect'].str.contains(r'(FastML)', flags = re.IGNORECASE)\n",
    "job_time_prepped['DataMachina'] = job_time['BlogsPodcastsNewslettersSelect'].str.contains(r'(Data Machina.*)', flags = re.IGNORECASE)\n",
    "job_time_prepped['DataSkeptic'] = job_time['BlogsPodcastsNewslettersSelect'].str.contains(r'(The Data Skeptic.*)', flags = re.IGNORECASE)\n",
    "job_time_prepped['LinDigressions'] = job_time['BlogsPodcastsNewslettersSelect'].str.contains(r'(Linear Digressions.*)', flags = re.IGNORECASE)\n",
    "job_time_prepped['DataElixir'] = job_time['BlogsPodcastsNewslettersSelect'].str.contains(r'(Data Elixir.*)', flags = re.IGNORECASE)\n",
    "job_time_prepped['FlowingData'] = job_time['BlogsPodcastsNewslettersSelect'].str.contains(r'(FlowingData.*)', flags = re.IGNORECASE)\n",
    "job_time_prepped['PartiallyDerivative'] = job_time['BlogsPodcastsNewslettersSelect'].str.contains(r'(Partially Derivative.*)', flags = re.IGNORECASE)\n",
    "job_time_prepped['JacksImport'] = job_time['BlogsPodcastsNewslettersSelect'].str.contains(r'(Jack\\'s Import.*)', flags = re.IGNORECASE)\n",
    "job_time_prepped['AnalyticsDispatch'] = job_time['BlogsPodcastsNewslettersSelect'].str.contains(r'(The Analytics Dispatch.*)', flags = re.IGNORECASE)\n",
    "job_time_prepped['DataStories'] = job_time['BlogsPodcastsNewslettersSelect'].str.contains(r'(Data Stories.*)', flags = re.IGNORECASE)\n",
    "\n"
   ]
  },
  {
   "cell_type": "code",
   "execution_count": 28,
   "metadata": {
    "collapsed": true
   },
   "outputs": [
    {
     "name": "stderr",
     "output_type": "stream",
     "text": [
      "/usr/local/lib/python3.7/site-packages/ipykernel_launcher.py:2: UserWarning: This pattern has match groups. To actually get the groups, use str.extract.\n",
      "  \n",
      "/usr/local/lib/python3.7/site-packages/ipykernel_launcher.py:3: UserWarning: This pattern has match groups. To actually get the groups, use str.extract.\n",
      "  This is separate from the ipykernel package so we can avoid doing imports until\n",
      "/usr/local/lib/python3.7/site-packages/ipykernel_launcher.py:4: UserWarning: This pattern has match groups. To actually get the groups, use str.extract.\n",
      "  after removing the cwd from sys.path.\n",
      "/usr/local/lib/python3.7/site-packages/ipykernel_launcher.py:5: UserWarning: This pattern has match groups. To actually get the groups, use str.extract.\n",
      "  \"\"\"\n",
      "/usr/local/lib/python3.7/site-packages/ipykernel_launcher.py:6: UserWarning: This pattern has match groups. To actually get the groups, use str.extract.\n",
      "  \n",
      "/usr/local/lib/python3.7/site-packages/ipykernel_launcher.py:7: UserWarning: This pattern has match groups. To actually get the groups, use str.extract.\n",
      "  import sys\n"
     ]
    }
   ],
   "source": [
    "# PublicDataSetsSelect:\n",
    "job_time_prepped['Aggregator'] = job_time['PublicDatasetsSelect'].str.contains(r'(Dataset aggregator.*)', flags = re.IGNORECASE)\n",
    "job_time_prepped['SelfCollectData'] = job_time['PublicDatasetsSelect'].str.contains(r'(I collect.*)', flags = re.IGNORECASE)\n",
    "job_time_prepped['GoogleSearch'] = job_time['PublicDatasetsSelect'].str.contains(r'(Google Search)', flags = re.IGNORECASE)\n",
    "job_time_prepped['University'] = job_time['PublicDatasetsSelect'].str.contains(r'(University.*)', flags = re.IGNORECASE)\n",
    "job_time_prepped['Govt'] = job_time['PublicDatasetsSelect'].str.contains(r'(Government.*)', flags = re.IGNORECASE)\n",
    "job_time_prepped['OtherDataCollect'] = job_time['PublicDatasetsSelect'].str.contains(r'(Other)', flags = re.IGNORECASE)"
   ]
  },
  {
   "cell_type": "code",
   "execution_count": 29,
   "metadata": {
    "collapsed": true
   },
   "outputs": [
    {
     "name": "stderr",
     "output_type": "stream",
     "text": [
      "/usr/local/lib/python3.7/site-packages/ipykernel_launcher.py:2: UserWarning: This pattern has match groups. To actually get the groups, use str.extract.\n",
      "  \n",
      "/usr/local/lib/python3.7/site-packages/ipykernel_launcher.py:3: UserWarning: This pattern has match groups. To actually get the groups, use str.extract.\n",
      "  This is separate from the ipykernel package so we can avoid doing imports until\n",
      "/usr/local/lib/python3.7/site-packages/ipykernel_launcher.py:4: UserWarning: This pattern has match groups. To actually get the groups, use str.extract.\n",
      "  after removing the cwd from sys.path.\n",
      "/usr/local/lib/python3.7/site-packages/ipykernel_launcher.py:5: UserWarning: This pattern has match groups. To actually get the groups, use str.extract.\n",
      "  \"\"\"\n",
      "/usr/local/lib/python3.7/site-packages/ipykernel_launcher.py:6: UserWarning: This pattern has match groups. To actually get the groups, use str.extract.\n",
      "  \n",
      "/usr/local/lib/python3.7/site-packages/ipykernel_launcher.py:7: UserWarning: This pattern has match groups. To actually get the groups, use str.extract.\n",
      "  import sys\n",
      "/usr/local/lib/python3.7/site-packages/ipykernel_launcher.py:8: UserWarning: This pattern has match groups. To actually get the groups, use str.extract.\n",
      "  \n",
      "/usr/local/lib/python3.7/site-packages/ipykernel_launcher.py:9: UserWarning: This pattern has match groups. To actually get the groups, use str.extract.\n",
      "  if __name__ == '__main__':\n",
      "/usr/local/lib/python3.7/site-packages/ipykernel_launcher.py:10: UserWarning: This pattern has match groups. To actually get the groups, use str.extract.\n",
      "  # Remove the CWD from sys.path while we load stuff.\n",
      "/usr/local/lib/python3.7/site-packages/ipykernel_launcher.py:11: UserWarning: This pattern has match groups. To actually get the groups, use str.extract.\n",
      "  # This is added back by InteractiveShellApp.init_path()\n",
      "/usr/local/lib/python3.7/site-packages/ipykernel_launcher.py:12: UserWarning: This pattern has match groups. To actually get the groups, use str.extract.\n",
      "  if sys.path[0] == '':\n",
      "/usr/local/lib/python3.7/site-packages/ipykernel_launcher.py:13: UserWarning: This pattern has match groups. To actually get the groups, use str.extract.\n",
      "  del sys.path[0]\n",
      "/usr/local/lib/python3.7/site-packages/ipykernel_launcher.py:14: UserWarning: This pattern has match groups. To actually get the groups, use str.extract.\n",
      "  \n"
     ]
    }
   ],
   "source": [
    "# MLTechniquesSelect:\n",
    "job_time_prepped['Bayesian'] = job_time['MLTechniquesSelect'].str.contains(r'(Bayesian Techniques.*)', flags = re.IGNORECASE)\n",
    "job_time_prepped['DT_GBC'] = job_time['MLTechniquesSelect'].str.contains(r'(Decision Trees - Gradient.*)', flags = re.IGNORECASE)\n",
    "job_time_prepped['DT_RF'] = job_time['MLTechniquesSelect'].str.contains(r'(Decision Trees - Random.*)', flags = re.IGNORECASE)\n",
    "job_time_prepped['Ensembles'] = job_time['MLTechniquesSelect'].str.contains(r'(Ensemble Methods)', flags = re.IGNORECASE)\n",
    "job_time_prepped['LogisticReg'] = job_time['MLTechniquesSelect'].str.contains(r'(Logistic Regression)', flags = re.IGNORECASE)\n",
    "job_time_prepped['MarkovNetworks'] = job_time['MLTechniquesSelect'].str.contains(r'(Markov Logic Networks)', flags = re.IGNORECASE)\n",
    "job_time_prepped['Neural_CNN'] = job_time['MLTechniquesSelect'].str.contains(r'(Neural Networks - CNNs)', flags = re.IGNORECASE)\n",
    "job_time_prepped['Neural_RNN'] = job_time['MLTechniquesSelect'].str.contains(r'(Neural Networks - RNNs)', flags = re.IGNORECASE)\n",
    "job_time_prepped['SVM'] = job_time['MLTechniquesSelect'].str.contains(r'(Support Vector Machines (SVMs))', flags = re.IGNORECASE)\n",
    "job_time_prepped['HiddenMarkov'] = job_time['MLTechniquesSelect'].str.contains(r'(Hidden Markov Models HMMs)', flags = re.IGNORECASE)\n",
    "job_time_prepped['OtherMLTechnique'] = job_time['MLTechniquesSelect'].str.contains(r'(Other)', flags = re.IGNORECASE)\n",
    "job_time_prepped['Neural_GAN'] = job_time['MLTechniquesSelect'].str.contains(r'(Neural Networks - GANs)', flags = re.IGNORECASE)\n",
    "job_time_prepped['Evolutionary'] = job_time['MLTechniquesSelect'].str.contains(r'(Evolutionary Approaches)', flags = re.IGNORECASE)\n",
    "\n"
   ]
  },
  {
   "cell_type": "code",
   "execution_count": 30,
   "metadata": {
    "collapsed": true
   },
   "outputs": [
    {
     "name": "stderr",
     "output_type": "stream",
     "text": [
      "/usr/local/lib/python3.7/site-packages/ipykernel_launcher.py:2: UserWarning: This pattern has match groups. To actually get the groups, use str.extract.\n",
      "  \n",
      "/usr/local/lib/python3.7/site-packages/ipykernel_launcher.py:3: UserWarning: This pattern has match groups. To actually get the groups, use str.extract.\n",
      "  This is separate from the ipykernel package so we can avoid doing imports until\n",
      "/usr/local/lib/python3.7/site-packages/ipykernel_launcher.py:4: UserWarning: This pattern has match groups. To actually get the groups, use str.extract.\n",
      "  after removing the cwd from sys.path.\n",
      "/usr/local/lib/python3.7/site-packages/ipykernel_launcher.py:5: UserWarning: This pattern has match groups. To actually get the groups, use str.extract.\n",
      "  \"\"\"\n",
      "/usr/local/lib/python3.7/site-packages/ipykernel_launcher.py:6: UserWarning: This pattern has match groups. To actually get the groups, use str.extract.\n",
      "  \n",
      "/usr/local/lib/python3.7/site-packages/ipykernel_launcher.py:7: UserWarning: This pattern has match groups. To actually get the groups, use str.extract.\n",
      "  import sys\n",
      "/usr/local/lib/python3.7/site-packages/ipykernel_launcher.py:8: UserWarning: This pattern has match groups. To actually get the groups, use str.extract.\n",
      "  \n",
      "/usr/local/lib/python3.7/site-packages/ipykernel_launcher.py:9: UserWarning: This pattern has match groups. To actually get the groups, use str.extract.\n",
      "  if __name__ == '__main__':\n",
      "/usr/local/lib/python3.7/site-packages/ipykernel_launcher.py:10: UserWarning: This pattern has match groups. To actually get the groups, use str.extract.\n",
      "  # Remove the CWD from sys.path while we load stuff.\n",
      "/usr/local/lib/python3.7/site-packages/ipykernel_launcher.py:11: UserWarning: This pattern has match groups. To actually get the groups, use str.extract.\n",
      "  # This is added back by InteractiveShellApp.init_path()\n",
      "/usr/local/lib/python3.7/site-packages/ipykernel_launcher.py:12: UserWarning: This pattern has match groups. To actually get the groups, use str.extract.\n",
      "  if sys.path[0] == '':\n",
      "/usr/local/lib/python3.7/site-packages/ipykernel_launcher.py:13: UserWarning: This pattern has match groups. To actually get the groups, use str.extract.\n",
      "  del sys.path[0]\n"
     ]
    }
   ],
   "source": [
    "# MLSkillsSelect:\n",
    "job_time_prepped['CVision'] = job_time['MLSkillsSelect'].str.contains(r'(Computer Vision.*)', flags = re.IGNORECASE)\n",
    "job_time_prepped['NLP'] = job_time['MLSkillsSelect'].str.contains(r'(Natural Language.*)', flags = re.IGNORECASE)\n",
    "job_time_prepped['SurAn'] = job_time['MLSkillsSelect'].str.contains(r'(Survival Analysis.*)', flags = re.IGNORECASE)\n",
    "job_time_prepped['OutDetect'] = job_time['MLSkillsSelect'].str.contains(r'(Outlier detection.*)', flags = re.IGNORECASE)\n",
    "job_time_prepped['ReccEngines'] = job_time['MLSkillsSelect'].str.contains(r'(Reccomendation Engines.*)', flags = re.IGNORECASE)\n",
    "job_time_prepped['SupML'] = job_time['MLSkillsSelect'].str.contains(r'(Supervised Machine Learning.*)', flags = re.IGNORECASE)\n",
    "job_time_prepped['UnsupML'] = job_time['MLSkillsSelect'].str.contains(r'(Unsupervised Machine Learning.*)', flags = re.IGNORECASE)\n",
    "job_time_prepped['TimeSeries'] = job_time['MLSkillsSelect'].str.contains(r'(Time Series.*)', flags = re.IGNORECASE)\n",
    "job_time_prepped['ReinforceL'] = job_time['MLSkillsSelect'].str.contains(r'(Reinforcement Learning.*)', flags = re.IGNORECASE)\n",
    "job_time_prepped['AdvL'] = job_time['MLSkillsSelect'].str.contains(r'(Adversarial Learning.*)', flags = re.IGNORECASE)\n",
    "job_time_prepped['MachineTrans'] = job_time['MLSkillsSelect'].str.contains(r'(Machine Translation.*)', flags = re.IGNORECASE)\n",
    "job_time_prepped['SpeechRec'] = job_time['MLSkillsSelect'].str.contains(r'(Speech Recognition.*)', flags = re.IGNORECASE)\n",
    "\n"
   ]
  },
  {
   "cell_type": "code",
   "execution_count": 31,
   "metadata": {},
   "outputs": [],
   "source": [
    "job_time2Y = job_time.drop(['BlogsPodcastsNewslettersSelect', 'PublicDatasetsSelect', \n",
    "                           'MLTechniquesSelect', 'MLSkillsSelect'], axis = 1)"
   ]
  },
  {
   "cell_type": "code",
   "execution_count": 32,
   "metadata": {},
   "outputs": [],
   "source": [
    "job_time2Y = job_time2Y.join(job_time_prepped, on = job_time_prepped.index)"
   ]
  },
  {
   "cell_type": "markdown",
   "metadata": {},
   "source": [
    "#### Some Visuals:"
   ]
  },
  {
   "cell_type": "code",
   "execution_count": null,
   "metadata": {},
   "outputs": [],
   "source": [
    "import seaborn as sns\n",
    "import matplotlib.pyplot as plt"
   ]
  },
  {
   "cell_type": "code",
   "execution_count": null,
   "metadata": {},
   "outputs": [],
   "source": [
    "sns.scatterplot(x = 'Age', y = job_time2Y.index, hue = 'GenderSelect', data = job_time2Y)"
   ]
  },
  {
   "cell_type": "code",
   "execution_count": null,
   "metadata": {},
   "outputs": [],
   "source": [
    "plt.hist(job_time2Y['Age'], range = [-1, 110])"
   ]
  },
  {
   "cell_type": "markdown",
   "metadata": {},
   "source": [
    "### Pre-Liminary Models"
   ]
  },
  {
   "cell_type": "markdown",
   "metadata": {},
   "source": [
    "#### Getting Dummies / Train, Test, Split, etc."
   ]
  },
  {
   "cell_type": "code",
   "execution_count": 33,
   "metadata": {},
   "outputs": [],
   "source": [
    "job_time2 = job_time2Y.drop('JobHuntTime', axis = 1)"
   ]
  },
  {
   "cell_type": "code",
   "execution_count": 36,
   "metadata": {},
   "outputs": [],
   "source": [
    "from sklearn.model_selection import train_test_split\n",
    "\n",
    "X = job_time2.dropna(how = 'any')\n",
    "Y = job_time2Y['JobHuntTime'].loc[X.index]"
   ]
  },
  {
   "cell_type": "code",
   "execution_count": 37,
   "metadata": {},
   "outputs": [],
   "source": [
    "X_train, X_test, Y_train, Y_test = train_test_split(X, Y, test_size = .25)"
   ]
  },
  {
   "cell_type": "code",
   "execution_count": 38,
   "metadata": {},
   "outputs": [],
   "source": [
    "X_train = pd.get_dummies(X_train)\n",
    "X_test = pd.get_dummies(X_test)"
   ]
  },
  {
   "cell_type": "code",
   "execution_count": 39,
   "metadata": {},
   "outputs": [],
   "source": [
    "from sklearn.neural_network import MLPClassifier"
   ]
  },
  {
   "cell_type": "code",
   "execution_count": 40,
   "metadata": {},
   "outputs": [],
   "source": [
    "MLP1 = MLPClassifier(hidden_layer_sizes=[100, 120, 130])"
   ]
  },
  {
   "cell_type": "code",
   "execution_count": 41,
   "metadata": {},
   "outputs": [
    {
     "data": {
      "text/plain": [
       "MLPClassifier(activation='relu', alpha=0.0001, batch_size='auto', beta_1=0.9,\n",
       "       beta_2=0.999, early_stopping=False, epsilon=1e-08,\n",
       "       hidden_layer_sizes=[100, 120, 130], learning_rate='constant',\n",
       "       learning_rate_init=0.001, max_iter=200, momentum=0.9,\n",
       "       n_iter_no_change=10, nesterovs_momentum=True, power_t=0.5,\n",
       "       random_state=None, shuffle=True, solver='adam', tol=0.0001,\n",
       "       validation_fraction=0.1, verbose=False, warm_start=False)"
      ]
     },
     "execution_count": 41,
     "metadata": {},
     "output_type": "execute_result"
    }
   ],
   "source": [
    "MLP1.fit(X_train, Y_train)"
   ]
  },
  {
   "cell_type": "code",
   "execution_count": null,
   "metadata": {},
   "outputs": [],
   "source": []
  },
  {
   "cell_type": "code",
   "execution_count": null,
   "metadata": {},
   "outputs": [],
   "source": []
  },
  {
   "cell_type": "code",
   "execution_count": null,
   "metadata": {},
   "outputs": [],
   "source": []
  },
  {
   "cell_type": "code",
   "execution_count": null,
   "metadata": {},
   "outputs": [],
   "source": []
  },
  {
   "cell_type": "code",
   "execution_count": null,
   "metadata": {},
   "outputs": [],
   "source": []
  },
  {
   "cell_type": "code",
   "execution_count": null,
   "metadata": {},
   "outputs": [],
   "source": []
  },
  {
   "cell_type": "code",
   "execution_count": null,
   "metadata": {},
   "outputs": [],
   "source": []
  },
  {
   "cell_type": "code",
   "execution_count": null,
   "metadata": {},
   "outputs": [],
   "source": []
  }
 ],
 "metadata": {
  "kernelspec": {
   "display_name": "Python 3",
   "language": "python",
   "name": "python3"
  },
  "language_info": {
   "codemirror_mode": {
    "name": "ipython",
    "version": 3
   },
   "file_extension": ".py",
   "mimetype": "text/x-python",
   "name": "python",
   "nbconvert_exporter": "python",
   "pygments_lexer": "ipython3",
   "version": "3.7.1"
  },
  "toc": {
   "base_numbering": 1,
   "nav_menu": {},
   "number_sections": false,
   "sideBar": true,
   "skip_h1_title": false,
   "title_cell": "Table of Contents",
   "title_sidebar": "Contents",
   "toc_cell": false,
   "toc_position": {},
   "toc_section_display": true,
   "toc_window_display": false
  },
  "varInspector": {
   "cols": {
    "lenName": 16,
    "lenType": 16,
    "lenVar": 40
   },
   "kernels_config": {
    "python": {
     "delete_cmd_postfix": "",
     "delete_cmd_prefix": "del ",
     "library": "var_list.py",
     "varRefreshCmd": "print(var_dic_list())"
    },
    "r": {
     "delete_cmd_postfix": ") ",
     "delete_cmd_prefix": "rm(",
     "library": "var_list.r",
     "varRefreshCmd": "cat(var_dic_list()) "
    }
   },
   "oldHeight": 329,
   "position": {
    "height": "351px",
    "left": "1310px",
    "right": "20px",
    "top": "120px",
    "width": "356px"
   },
   "types_to_exclude": [
    "module",
    "function",
    "builtin_function_or_method",
    "instance",
    "_Feature"
   ],
   "varInspector_section_display": "block",
   "window_display": true
  }
 },
 "nbformat": 4,
 "nbformat_minor": 2
}
