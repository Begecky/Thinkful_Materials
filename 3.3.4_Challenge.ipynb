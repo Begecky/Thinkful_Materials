{
 "cells": [
  {
   "cell_type": "markdown",
   "metadata": {},
   "source": [
    "## Colorado Crime Data: Logistic, Lasso and Ridge Regressions:\n",
    "\n",
    "> This dataset is from the same FBI site where the New York Crime data was taken from and represents the same data from Colorado.  Below, we investigate how Logistic, Lasso and Ridge Regressions work with the data."
   ]
  },
  {
   "cell_type": "code",
   "execution_count": 58,
   "metadata": {},
   "outputs": [],
   "source": [
    "import pandas as pd\n",
    "import numpy as np\n",
    "import matplotlib.pyplot as plt\n",
    "import seaborn as sns\n",
    "\n",
    "import warnings\n",
    "warnings.filterwarnings(action=\"ignore\", module=\"scipy\", message=\"^internal gelsd\")"
   ]
  },
  {
   "cell_type": "code",
   "execution_count": 37,
   "metadata": {},
   "outputs": [],
   "source": [
    "col_list = ['Population', 'Violent_Crime', 'Murder', 'Rape', 'Rape_2', 'Robbery', \n",
    "            'Assault', 'Property_Crime', 'Burglary', 'Larceny', 'MV_Theft', 'Arson']\n",
    "\n",
    "data = pd.read_excel('Colorado_2013_Crime.xls', names = col_list, header = 3, \n",
    "                     index_col = 0, skiprows = [0], skipfooter = 2).drop('Rape_2', 1)"
   ]
  },
  {
   "cell_type": "code",
   "execution_count": 38,
   "metadata": {},
   "outputs": [],
   "source": [
    "# A bit of feature engineering:\n",
    "\n",
    "# Making a Binary Violent Crime Column:\n",
    "data.loc[data['Violent_Crime'] == 0, 'Binary_Violent_Crime'] = 0\n",
    "data.loc[data['Violent_Crime'] > 0, 'Binary_Violent_Crime'] = 1\n",
    "\n",
    "#Same for Murder and Larceny:\n",
    "data.loc[data['Larceny'] == 0, 'Binary_Larceny'] = 0\n",
    "data.loc[data['Larceny'] > 0, 'Binary_Larceny'] = 1\n",
    "\n",
    "data.loc[data['Murder'] == 0, 'Binary_Murder'] = 0\n",
    "data.loc[data['Murder'] > 0, 'Binary_Murder'] = 1"
   ]
  },
  {
   "cell_type": "code",
   "execution_count": 39,
   "metadata": {},
   "outputs": [],
   "source": [
    "# Doing some per-capita and per-Larceny columns in a new dataframe:\n",
    "\n",
    "data_modified = pd.DataFrame(data)\n",
    "\n",
    "data_modified['Larceny/Capita'] = data_modified.Larceny / data_modified.Population\n",
    "data_modified['Assault/Capita'] = data_modified.Assault / data_modified.Population\n",
    "data_modified['Violent_Crime/Capita'] = data_modified.Violent_Crime / data_modified.Population\n",
    "data_modified['Murder/Capita'] = data_modified.Murder / data_modified.Population\n",
    "\n",
    "data_modified['Violent_Crime/Larceny'] = data_modified.Violent_Crime / data_modified.Larceny"
   ]
  },
  {
   "cell_type": "code",
   "execution_count": 45,
   "metadata": {},
   "outputs": [],
   "source": [
    "# Removing NaN and Inf values:\n",
    "data.loc[data['Violent_Crime/Larceny'] == np.inf] = np.nan\n",
    "data = data.dropna(axis = 0, how = 'any')"
   ]
  },
  {
   "cell_type": "code",
   "execution_count": 46,
   "metadata": {},
   "outputs": [],
   "source": [
    "\n",
    "data_modified.loc[data_modified['Violent_Crime/Larceny'] == np.inf] = np.nan\n",
    "data_modified = data_modified.dropna(axis = 0, how = 'any')\n",
    "\n",
    "# Double checking for cleanliness:\n",
    "# data_modified.where(cond = data_modified.values == np.nan).count()"
   ]
  },
  {
   "cell_type": "markdown",
   "metadata": {},
   "source": [
    "#### Variables and First Model (Regular Logistic Regression):\n",
    "\n",
    "> After doing a bit of feature engineering, now we can start by defining our input data and our target variables - as well as defining and fitting our first models:"
   ]
  },
  {
   "cell_type": "code",
   "execution_count": 68,
   "metadata": {},
   "outputs": [],
   "source": [
    "from sklearn import linear_model\n",
    "from sklearn.model_selection import train_test_split, cross_val_score"
   ]
  },
  {
   "cell_type": "code",
   "execution_count": 70,
   "metadata": {},
   "outputs": [],
   "source": [
    "# Defining our input and target variables (or at least one of them for now) as well as our train/test sets:\n",
    "\n",
    "x = data.drop(labels = ['Rape', 'Binary_Violent_Crime', 'Assault/Capita', 'Violent_Crime/Capita',\n",
    "       'Murder/Capita', 'Violent_Crime/Larceny'], axis = 1)\n",
    "\n",
    "y = data.Binary_Violent_Crime\n",
    "\n",
    "X_train, X_test, y_train, y_test = train_test_split(x, y, test_size = .2)"
   ]
  },
  {
   "cell_type": "markdown",
   "metadata": {},
   "source": [
    "###### Linear Regression for Practice:"
   ]
  },
  {
   "cell_type": "code",
   "execution_count": 71,
   "metadata": {},
   "outputs": [
    {
     "data": {
      "text/plain": [
       "LogisticRegression(C=1.0, class_weight=None, dual=False, fit_intercept=True,\n",
       "          intercept_scaling=1, max_iter=100, multi_class='ovr', n_jobs=1,\n",
       "          penalty='l2', random_state=None, solver='liblinear', tol=0.0001,\n",
       "          verbose=0, warm_start=False)"
      ]
     },
     "execution_count": 71,
     "metadata": {},
     "output_type": "execute_result"
    }
   ],
   "source": [
    "log_regr1 = linear_model.LogisticRegression()\n",
    "\n",
    "log_regr1.fit(X_train, y_train)\n",
    "log_regr1.fit(X_test, y_test)"
   ]
  },
  {
   "cell_type": "code",
   "execution_count": null,
   "metadata": {},
   "outputs": [],
   "source": []
  },
  {
   "cell_type": "code",
   "execution_count": null,
   "metadata": {
    "scrolled": true
   },
   "outputs": [],
   "source": []
  },
  {
   "cell_type": "code",
   "execution_count": null,
   "metadata": {},
   "outputs": [],
   "source": []
  },
  {
   "cell_type": "code",
   "execution_count": null,
   "metadata": {},
   "outputs": [],
   "source": []
  },
  {
   "cell_type": "code",
   "execution_count": null,
   "metadata": {},
   "outputs": [],
   "source": []
  },
  {
   "cell_type": "code",
   "execution_count": null,
   "metadata": {},
   "outputs": [],
   "source": []
  }
 ],
 "metadata": {
  "kernelspec": {
   "display_name": "Python 3",
   "language": "python",
   "name": "python3"
  },
  "language_info": {
   "codemirror_mode": {
    "name": "ipython",
    "version": 3
   },
   "file_extension": ".py",
   "mimetype": "text/x-python",
   "name": "python",
   "nbconvert_exporter": "python",
   "pygments_lexer": "ipython3",
   "version": "3.7.0"
  }
 },
 "nbformat": 4,
 "nbformat_minor": 2
}
