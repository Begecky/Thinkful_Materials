{
 "cells": [
  {
   "cell_type": "markdown",
   "metadata": {},
   "source": [
    "## Predicting the Success of Cyber-Related Terrorist Attacks:"
   ]
  },
  {
   "cell_type": "markdown",
   "metadata": {},
   "source": [
    "This dataset is from Global Terrorism Database curated by the University of Maryland:\n",
    "\n",
    "National Consortium for the Study of Terrorism and Responses to Terrorism (START). (2018). Global Terrorism Database [Data file]. Retrieved from https://www.start.umd.edu/gtd.\n",
    "\n",
    "It is a rich dataset with numerous variables and plenty of opportunities for analysis.  In this project, we will focus on predicting the 'success' of attacks which are related to cyber-events or have consequences for cyber-infrastructure (we will describe these characteristics in further detail below.   \n",
    "\n",
    "To begin, we will take a look at how this study classifies a successful terrorist attack and distinguishes it from an unsuccessful attack.  Below, is their description from pages 11 and 26 of their code-book (__[GTD Global Terrorism Database. Codebook: Inclusion Criteria and Variables](http://www.start.umd.edu/gtd/downloads/Codebook.pdf)__):\n",
    "\n",
    "> \"The GTD does not include plots or conspiracies that are not enacted, or at least attempted. For\n",
    "an event to be included in the GTD, the attackers must be “out the door,” en route to execute\n",
    "the attack. Planning, reconnaissance, and acquiring supplies do not meet this threshold.\n",
    "The GTD does include attacks that were attempted but ultimately unsuccessful. The\n",
    "circumstances vary depending on tactics (for details see the success variable, below). However,\n",
    "in general if a bomb is planted but fails to detonate; if an arsonist is intercepted by authorities\n",
    "before igniting a fire; or, if an assassin attempts and fails to kill his or her intended target, the\n",
    "attack is considered for inclusion in the GTD, and marked success=0.\" P. 11\n",
    "\n",
    "> \"Success of a terrorist strike is defined according to the tangible effects of the attack.\n",
    "Success is not judged in terms of the larger goals of the perpetrators. For example, a\n",
    "bomb that exploded in a building would be counted as a success even if it did not\n",
    "succeed in bringing the building down or inducing government repression.\n",
    "The definition of a successful attack depends on the type of attack. Essentially, the\n",
    "key question is whether or not the attack type took place. If a case has multiple\n",
    "attack types, it is successful if any of the attack types are successful, with the\n",
    "exception of assassinations, which are only successful if the intended target is killed.\n",
    "        1 = \"Yes\" The incident was successful.\n",
    "        0 = \"No\" The incident was not successful.\" P. 26\n",
    "\n",
    "Thus, our focus below will be on using the data collected to build a model which will successfully predict the success of a terror attack.  Below, we will begin importing and working with our data, and explanations and analysis will follow when pertinent."
   ]
  },
  {
   "cell_type": "code",
   "execution_count": 1,
   "metadata": {},
   "outputs": [
    {
     "name": "stderr",
     "output_type": "stream",
     "text": [
      "/usr/local/lib/python3.7/site-packages/sklearn/utils/__init__.py:4: DeprecationWarning: Using or importing the ABCs from 'collections' instead of from 'collections.abc' is deprecated, and in 3.8 it will stop working\n",
      "  from collections import Sequence\n"
     ]
    }
   ],
   "source": [
    "import pandas as pd\n",
    "import numpy as np\n",
    "import scipy\n",
    "import matplotlib.pyplot as plt\n",
    "import seaborn as sns\n",
    "import sklearn as skl\n",
    "import gc\n",
    "%matplotlib inline\n",
    "\n",
    "import warnings\n",
    "warnings.filterwarnings('ignore')"
   ]
  },
  {
   "cell_type": "markdown",
   "metadata": {},
   "source": [
    "### 1. Importing, Cleaning and General Overview:"
   ]
  },
  {
   "cell_type": "markdown",
   "metadata": {},
   "source": [
    "#### A. Importing Data."
   ]
  },
  {
   "cell_type": "code",
   "execution_count": 2,
   "metadata": {},
   "outputs": [],
   "source": [
    "df = pd.read_excel('globalterrorismdb_0718dist.xlsx', \n",
    "                   usecols = 'A, I, K, M, S:W, AA:AB, AD, AJ, AL, AM, AN, AP, BG, BM:BN, BQ, CE, CG, DA',\n",
    "                   dtype = {'summary':str, 'motive':str})                                                                                         "
   ]
  },
  {
   "cell_type": "code",
   "execution_count": 3,
   "metadata": {},
   "outputs": [],
   "source": [
    "# Renaming our columns for usability:\n",
    "\n",
    "cyber_data = pd.DataFrame(df.rename({'eventid':'event_id', 'doubtterr':'doubt', 'attacktype1_txt':'attack_1txt', \n",
    "                                     'targtype1_txt':'target_1txt', 'targsubtype1':'sub_target',\n",
    "                                     'targsubtype1_txt':'sub_targettxt', 'target1':'specific_target',\n",
    "                                     'natlty1_txt':'victim_nationalitytxt', 'gname':'group_name', \n",
    "                                     'guncertain1':'group_attrib_crtainty', 'individual':'unaffil_individ', \n",
    "                                     'weaptype1':'weapon', 'weaptype1_txt':'weapontxt', \n",
    "                                     'weapsubtype1':'sub_weapon', 'weapsubtype1_txt':'sub_weapontxt'}, axis = 1))"
   ]
  },
  {
   "cell_type": "code",
   "execution_count": 139,
   "metadata": {},
   "outputs": [
    {
     "name": "stdout",
     "output_type": "stream",
     "text": [
      "(7047, 24)\n",
      "(7047, 24)\n"
     ]
    }
   ],
   "source": [
    "# Went ahead and dropped some null values here since our kernel started to crash repeatedly:\n",
    "\n",
    "print(cyber_data.shape)\n",
    "cyber_data.dropna(axis = 0, how = 'any', inplace = True)\n",
    "print(cyber_data.shape)"
   ]
  },
  {
   "cell_type": "markdown",
   "metadata": {},
   "source": [
    "#### B. Selecting Rows Specific to Cyber-Related Terrorism:\n",
    "\n",
    "> In order to filter the dataset and focus our inquiry on cyber-related events, we will use the following regex statement.  This statement attempts to focus on social-networks, email platforms as well as infrastructure (to a certain extent).\n",
    "\n",
    "> It should be note that this statement is susceptible to bias in a few ways.  First of all, it is temporally biased in the sense that it includes Facebook and Twitter, while newer platforms or platforms in other countries might be prevalent. One way to reduce this bias would be to update the expression whenever possible with current data and considerations of standard practice and user habits."
   ]
  },
  {
   "cell_type": "code",
   "execution_count": 140,
   "metadata": {},
   "outputs": [
    {
     "name": "stdout",
     "output_type": "stream",
     "text": [
      "True    7047\n",
      "Name: summary, dtype: int64\n"
     ]
    }
   ],
   "source": [
    "# Creating the input Dataframe (cyber_train):\n",
    "# Using regex to isolate qualifying data and make a mask to filter our main dataframe:\n",
    "\n",
    "import re\n",
    "\n",
    "  # First taking a look to see how many rows that will give us to work with:\n",
    "    \n",
    "print(cyber_data.summary.str.contains('cyb+|social|inform+|network+|twit+|facebook|fake|electio+|internet|ads|adv+|priv+|hac+|breac+|emai+',\n",
    "                         flags = re.IGNORECASE, regex = True).value_counts())\n",
    "\n",
    "# Creating the mask:\n",
    "\n",
    "mask = cyber_data.summary.str.contains(r'(cyb+|social|inform+|network+|twit+|facebook|fake|electio+|internet|ads|adv+|priv+|hac+|breac+|emai+)', \n",
    "                           flags = re.IGNORECASE)\n",
    "\n",
    "# Filtering our main data:\n",
    "\n",
    "cyber_data = pd.DataFrame(cyber_data[mask])"
   ]
  },
  {
   "cell_type": "markdown",
   "metadata": {},
   "source": [
    "#### C. Splitting Our Train/Test Data:"
   ]
  },
  {
   "cell_type": "markdown",
   "metadata": {},
   "source": [
    "> Below, we dropped some specific columns in dataframe in order to make future processing more efficient.  The 'event_id' column wasn't numerically significant and created problems when getting dummies was necessary. The same occured with 'summary' and 'motive.'  These last two columns, however, will come in handy when considering avenues for further research, which we will discuss below."
   ]
  },
  {
   "cell_type": "code",
   "execution_count": 141,
   "metadata": {},
   "outputs": [],
   "source": [
    "from sklearn.model_selection import cross_val_score, train_test_split"
   ]
  },
  {
   "cell_type": "code",
   "execution_count": 142,
   "metadata": {},
   "outputs": [],
   "source": [
    "# Defining our Input and Output data:\n",
    "# (Cleaning afterwards to prevent leakage)\n",
    "\n",
    "X = cyber_data.drop(['event_id', 'success', 'summary', 'motive'], axis = 1)\n",
    "Y = pd.DataFrame(cyber_data['success'])\n",
    "\n",
    "X_train, X_test, Y_train, Y_test = train_test_split(X, Y, test_size = .25)\n",
    "\n",
    "X_train_start_index = X_train.index\n",
    "X_test_start_index = X_test.index"
   ]
  },
  {
   "cell_type": "markdown",
   "metadata": {},
   "source": [
    "#### D. Isolating Columns:"
   ]
  },
  {
   "cell_type": "markdown",
   "metadata": {},
   "source": [
    "> We want to be sure we are only using the numeric columns that are significant (i.e. binary or numerically related to the values they contain) and not arbitrary categoricals (such as using numbers to classify one instance over another).  Initially, we imported more of the dataset which included different types of data-types.  After running the notebook as it was closer to its final form, it took considerably longer to load, at which point we dropped most of these columns from our initial read-in of the data. We account for a few lingering columns below:"
   ]
  },
  {
   "cell_type": "code",
   "execution_count": 143,
   "metadata": {},
   "outputs": [],
   "source": [
    "cyber_train_X = X_train[['country_txt', 'region_txt', 'city', 'crit1', 'crit2', 'crit3', 'doubt',\n",
    "                       'suicide', 'attack_1txt', 'target_1txt', 'sub_targettxt', 'corp1',\n",
    "                       'specific_target', 'victim_nationalitytxt', 'group_name',\n",
    "                       'group_attrib_crtainty', 'unaffil_individ', 'weapontxt',\n",
    "                       'sub_weapontxt']]\n",
    "\n",
    "# Making sure input and output dataframes still have the same amount of rows:\n",
    "\n",
    "cyber_train_Y = Y_train.iloc[Y_train.index == cyber_train_X.index]"
   ]
  },
  {
   "cell_type": "code",
   "execution_count": 144,
   "metadata": {},
   "outputs": [],
   "source": [
    "# Applying the same process above to our test data:\n",
    "\n",
    "cyber_test_X = X_test[['country_txt', 'region_txt', 'city', 'crit1', 'crit2', 'crit3', 'doubt',\n",
    "                       'suicide', 'attack_1txt', 'target_1txt', 'sub_targettxt', 'corp1',\n",
    "                       'specific_target', 'victim_nationalitytxt', 'group_name',\n",
    "                       'group_attrib_crtainty', 'unaffil_individ', 'weapontxt',\n",
    "                       'sub_weapontxt']]\n",
    "\n",
    "cyber_test_Y = Y_test.iloc[Y_test.index == cyber_test_X.index]"
   ]
  },
  {
   "cell_type": "markdown",
   "metadata": {},
   "source": [
    "#### E. Applying Filters to Text Columns."
   ]
  },
  {
   "cell_type": "markdown",
   "metadata": {},
   "source": [
    "The cells below are an attempt to consolidate (or group) some of the values together with a few certain columns we will be focusing on.  Given that these columns have a considerable number of unique values, when getting dummies later, it will greatly increase the size of our feature set.  While an increased feature-set is not necessarily a bad thing, preventing the size from becoming too large will aid in our explanatory power later on.  In other words, our feature set will have a comprehensible size, allowing us to explain the characteristics around a successful attack. Otherwise, we run the risk of a feature set which is too large for a human to understand and too many features - making it difficult to see which columns/characteristics are significant for our analysis.\n",
    "\n",
    "Below, we focus mainly on the types of weapons, the named terrorist groups and the cities attacked.  We also consolidated some of the sub_targets into larger groups.  After running our preliminary models, we found that targets and sub_targets were significant to our models, so we conducted some further feature engineering afterwards, which we will discuss later.\n",
    "\n",
    "There were a number of resources which were helpful in this grouping process, which we will lay out here:\n",
    "\n",
    "> Regarding the 'weapontxt' column, which describes the type of weapons used in the attack, and the 'sub_target' column (which provides further details on the primary target) we mainly referred to the codebook accompanying the study (as mentioned above: (__[GTD Global Terrorism Database. Codebook: Inclusion Criteria and Variables](http://www.start.umd.edu/gtd/downloads/Codebook.pdf)__)).  The grouping below was rather simple - primarily placing a few types of weapon-groups and sub-targets together when it would not negatively impact our explanatory capabilites down the road.\n",
    "\n",
    "> The 'city' and 'group_name' columns were more technical and involved some outside research.  The groupings below are aimed at linking cities together if they fall within an ideological, religious, environmental or political umbrella in which certain terrorist groups are interested.  For example, some middle-eastern cities are considered to lean more 'Sunni' as opposed to 'Shia', while others are 'split.'  Some South American cities lie within an area experiencing heavy gang activity (such as the Northern Triangle between Mexico and Panama).  Our goal with these groupings was to combine cities whenever they had a common interest factor for terrorist events, in the hopes that it would consolidate their correlation and aid in our predictive models.  \n",
    "\n",
    "> These groupings, however, can be improved upon with further in-depth research.  Our time with this project was somewhat limited and there are a handful of regions we were unable to group together or research.  Additionally, our expertise in global terrorism is slight in comparison to those working in the field, which would benefit from an expert team member when creating these filters.  That said, it would be highly interesting to continue improving these classifications, especially given the wealth of information and databases made available by respected international research organizations, which we will list here:\n",
    "\n",
    "> Some cities and groups were classified according to their religious leanings:\n",
    ">> - Some Middle-Eastern cities were grouped under a Sunni/Shia or Sunni/Shia Split category.  These resources were helpful in ascertaining where a city fell with respect to these religious tendencies:\n",
    ">>> -  A New York Times article by Sarah Almukhtar, Sergio Peçanha and Tim Wallace on January 5th, 2016, entitled: __[Behind Stark Political Divisions, a More\n",
    "Complex Map of Sunnis and Shiites.](https://www.nytimes.com/interactive/2016/01/04/world/middleeast/sunni-shiite-map-middle-east-iran-saudi-arabia.html)__\n",
    ">>> - A blog post by Olivier Ypsilantis on August 14th, 2014, entitled: __[Carte religieuse de l’Iran et ses voisins](http://zakhor-online.com/?attachment_id=7932)__.\n",
    ">>> - Max Fisher wrote a great article for Vox on March 26th, 2015 which has a lot of great maps for reference: __[40 maps that explain the Middle East](https://www.vox.com/a/maps-explain-the-middle-east)__\n",
    ">>> The Gulf 2000 Project has a plethora of maps and resources regarding issues in the Middle-East, and specifically this page by Dr. Michael Izady entitled __[Atlas of the Islamic World and Vicinity\n",
    "(Infographs, Maps and Statistics Collection).](http://gulf2000.columbia.edu/maps.shtml)__ Some other maps we used from this site were: - __[A map of West Africa](http://gulf2000.columbia.edu/images/maps/West_Africa_Religion_lg.png)__\n",
    " - __[A map of Libya](http://gulf2000.columbia.edu/images/maps/Libya_Religion_Western_Sector_lg.png)__\n",
    " - __[A Shia territories map](http://gulf2000.columbia.edu/images/maps/ShiasReligionCore_lg.png)__\n",
    "\n",
    ">>> The Crisis Group also has a number of useful resources and articles regarding these topics.  Specifically regarding Colombia and South America, we referenced and article entitled __[Colombia’s Armed Groups Battle for the Spoils of Peace](https://www.crisisgroup.org/latin-america-caribbean/andes/colombia/63-colombias-armed-groups-battle-spoils-peace)__ from Report  63 / Latin America & Caribbean 19 OCTOBER 2017.  There was an interesting map by Mike Shand (International Crisis Group 2017), entitled __[Map of Armed Groups and Coca Crops in Colombia, 2017.](https://www.crisisgroup.org/latin-america-caribbean/andes/colombia/63-colombias-armed-groups-battle-spoils-peace#map-5700-8)__.\n",
    "\n",
    "> We'll also take this opportunity to list out further databases and resources we used for this project:\n",
    ">> For 'group_names' we referenced START's resources again (as they have a wealth of resources surrounding the database we used and the elements it describes.  Here, they list the names of __['Big, Allied and Dangerous' terrorist groups,](http://www.start.umd.edu/baad/database)___ which we used as the basis for a majority of our classification.\n",
    "\n",
    ">> The __[SATP website](http://www.satp.org/conflict-maps/bangladesh)__ was instrumental in gaining insight into Asian conflicts. Within this website, we referenced a specific article regarding the \n",
    "__[Nepalise Maoist conflicts](http://www.satp.org/terrorist-profile/nepal/communist-party-of-nepal-maoist)__, which described their objectives, operating areas, leaders, etc.  Towards the bottom of the page, it includes a ranking by the Nepalese Home Ministry, of areas in Nepal according to their sensitivity to these issues.  We then used this __[map](https://reliefweb.int/map/nepal/nepal-regions-zones-and-districts-cities-april-2015)__ from ReliefWeb to help us locate smaller cities in pertinent areas.\n",
    "\n",
    "> South America and the Northern Triangle:\n",
    ">> Again, there are a number of databases and materials available from top-level international organizations.  Regarding the Northern Triangle (namely Guatemala, Honduras, El Salvador) we referenced the following articles:\n",
    " - __[Central America’s Violent Northern Triangle](https://www.cfr.org/backgrounder/central-americas-violent-northern-triangle)__By Rocio Cara Labrador and Danielle Renwick (updated June 26th, 2018) \n",
    " - The Insight Crime Organiztion has a main page for each country involved in frequent conflicts__[such as this one regarding El Salvador](https://www.insightcrime.org/el-salvador-organized-crime-news/)__   \n",
    " - Relief Web also had a variety of resources we used here, specifically a __[main search page](https://reliefweb.int/country/slv)__ for each country that leads to reports, infographics and the like.\n",
    " - The __[Humanitarian Reponse Group](https://www.humanitarianresponse.info/en/infographics)__ also has great resources and infographics.\n",
    " - The __[United Nations Regional Information Centre](https://www.unric.org/en/databases/26912-refugees-humanitarian-affairs-and-migration)__ points to a number of outside resources depending on what one is looking for.\n",
    " - In refrencing hotspots of violence in Guatemala, we used Relief Web's summary on __[Humanitarian Needs Overview for Guatemala in 2017](https://reliefweb.int/sites/reliefweb.int/files/resources/20180315_SUMMARY_HNO%20GT_ENG.pdf)__\n",
    " - Regarding the same of El Salvador, we used Relief Web's __[Map of El Salvador.](https://reliefweb.int/sites/reliefweb.int/files/resources/20180405%20monthly%20humanitarian%20snapshot%20-%20ENG.pdf)__\n",
    " - For Honduras we referred to an article entitled __['Northern Triangle is World's Extortion Hotspot'](https://www.insightcrime.org/news/brief/northern-triangle-world-extortion-hotspot/)__ by Steven Dudley and Michael Lohmuller on JULY 1st, 2015.  This article has a map that was helpful in locating our cities.\n",
    " - Regarding Columbia, we frequently referred to the __[Crisis Group's resources.](https://www.crisisgroup.org/)__ \n",
    "There were two articles in particular we referred to here.  The first was entitled 'Colombia’s Armed Groups Battle for the Spoils of Peace' (which we already referenced above).  The second was a map entitled __['Map of ELN Presence in Colombia in 2012 and 2018, and Expansion between 2012 and 2018'](https://www.crisisgroup.org/latin-america-caribbean/andes/colombia/68-missing-peace-colombias-new-government-and-last-guerrillas#map-6189-1)__ within an article named __['The Missing Peace: Colombia’s New Government and Last Guerrillas'](https://www.crisisgroup.org/latin-america-caribbean/andes/colombia/68-missing-peace-colombias-new-government-and-last-guerrillas)__ from their Report 68 / Latin America & Caribbean on July 12th, 2018.\n",
    "\n",
    ">> Other General References include:\n",
    " - __[Homeland Security Digital Library](https://www.hsdl.org/?collection&id=2167)__\n",
    " - __[U Mass Lowell](https://www.uml.edu/Research/CTSS/Online-Resources.aspx)__ Has a great page with links to further resources.\n",
    " - The Council on Foreign Relations has a page entitled __[Invisible Armies Insurgency Tracker: A Visual History of Guerrilla Warfare From 1775 to 2012 (from April 18th, 2013](https://www.cfr.org/wars-and-warfare/invisible-armies-insurgency-tracker/p29917)__.  As they describe it at the top of the page: \"The interactive Invisible Armies Insurgency Tracker presents a database of insurgencies from 1775 to 2012. It supplements the comprehensive historical narrative in Invisible Armies: An Epic History of Guerrilla Warfare from Ancient Times to the Present, by CFR Senior Fellow Max Boot.\"\n",
    " - West Point has __[The Combating Terrorism Center](https://ctc.usma.edu/regions/middle-east/)__ which is incredibly helpful and insightful with their background information.\n",
    " - __[The Terrorism Research and Analysis Consortium](https://www.trackingterrorism.org/region/afghanistan)__ has a lot of information - mostly private and paid, but one can at least browse the surface of what they offer (we also used some of their 'vulnerable cities' classifications in our cells below).\n"
   ]
  },
  {
   "cell_type": "markdown",
   "metadata": {},
   "source": [
    "##### Weapontxt:\n",
    "\n",
    "> ###### Training Input:"
   ]
  },
  {
   "cell_type": "code",
   "execution_count": 145,
   "metadata": {},
   "outputs": [],
   "source": [
    "# Grouping Biological and Chemical Weapons:\n",
    "cyber_train_X['weapontxt'] = cyber_train_X['weapontxt'].replace('Chemical', 'Bio-Chem')\n",
    "cyber_train_X['weapontxt'] = cyber_train_X['weapontxt'].replace('Biological', 'Bio-Chem')\n",
    "\n",
    "# Grouping Fake and Other together:\n",
    "cyber_train_X['weapontxt'] = cyber_train_X['weapontxt'].replace('Fake Weapons', 'Fake/Other')\n",
    "cyber_train_X['weapontxt'] = cyber_train_X['weapontxt'].replace('Other', 'Fake/Other')\n",
    "\n",
    "# Aggregating Vehicle into Sabotage Equipment:\n",
    "cyber_train_X['weapontxt'] = cyber_train_X['weapontxt'].replace(\n",
    "    'Vehicle (not to include vehicle-borne explosives, i.e., car or truck bombs)', 'Sabotage Equipment')\n"
   ]
  },
  {
   "cell_type": "markdown",
   "metadata": {},
   "source": [
    "> ###### Test Input:"
   ]
  },
  {
   "cell_type": "code",
   "execution_count": 146,
   "metadata": {},
   "outputs": [],
   "source": [
    "# Grouping Biological and Chemical Weapons:\n",
    "cyber_test_X['weapontxt'] = cyber_test_X['weapontxt'].replace('Chemical', 'Bio-Chem')\n",
    "cyber_test_X['weapontxt'] = cyber_test_X['weapontxt'].replace('Biological', 'Bio-Chem')\n",
    "\n",
    "# Grouping Fake and Other together:\n",
    "cyber_test_X['weapontxt'] = cyber_test_X['weapontxt'].replace('Fake Weapons', 'Fake/Other')\n",
    "cyber_test_X['weapontxt'] = cyber_test_X['weapontxt'].replace('Other', 'Fake/Other')\n",
    "\n",
    "# Aggregating Vehicle into Sabotage Equipment:\n",
    "cyber_test_X['weapontxt'] = cyber_test_X['weapontxt'].replace(\n",
    "    'Vehicle (not to include vehicle-borne explosives, i.e., car or truck bombs)', 'Sabotage Equipment')\n"
   ]
  },
  {
   "cell_type": "markdown",
   "metadata": {},
   "source": [
    "##### Sub_targettxt:\n",
    "\n",
    "> ###### Training Input:"
   ]
  },
  {
   "cell_type": "code",
   "execution_count": 147,
   "metadata": {},
   "outputs": [],
   "source": [
    "industrial = ['Gas/Oil/Electric', 'Industrial/Textiles/Factory', 'Farm/Ranch', 'Mining', 'Construction']\n",
    "cyber_train_X['sub_targettxt'] = cyber_train_X['sub_targettxt'].where(\n",
    "                                     cyber_train_X['sub_targettxt'].apply(lambda x: x not in industrial), \n",
    "                                     other = 'Industrial')\n",
    "\n",
    "\n",
    "white_collar = ['Restaurant/Bar/Café', 'Bank/Commerce', 'Multinational Corporation', \n",
    "                'Medical/Pharmaceutical', 'Retail/Grocery/Bakery (including cell phone shops and generic shops)', \n",
    "                'Hotel/Resort', 'Entertainment/Cultural/Stadium/Casino', 'Private Security Company/Firm',\n",
    "                'Legal Services']\n",
    "cyber_train_X['sub_targettxt'] = cyber_train_X['sub_targettxt'].where(\n",
    "                                     cyber_train_X['sub_targettxt'].apply(lambda x: x not in white_collar), \n",
    "                                     other = 'White_Collar')\n",
    "\n",
    "\n",
    "gov_figure1 = ['Judges/Attorneys/Courts', 'Government Personnel (excluding police, military)']\n",
    "cyber_train_X['sub_targettxt'] = cyber_train_X['sub_targettxt'].where(\n",
    "                                     cyber_train_X['sub_targettxt'].apply(lambda x: x not in gov_figure1), \n",
    "                                     other = 'Gov_Figure1')\n",
    "\n",
    "gov_figure2 = ['Politician or Political Party Movement/Meeting/Rally', 'Royalty', 'Head of State',\n",
    "               'Election-Related']\n",
    "cyber_train_X['sub_targettxt'] = cyber_train_X['sub_targettxt'].where(\n",
    "                                     cyber_train_X['sub_targettxt'].apply(lambda x: x not in gov_figure2), \n",
    "                                     other = 'Gov_Figure2')\n",
    "\n",
    "\n",
    "police_facilities = ['Police Buildings (Headquarters/Stations/School)', \n",
    "                     'Police Patrol (including vehicles and convoys)', \n",
    "                     'Police Checkpoint', 'Prison/Jail']\n",
    "cyber_train_X['sub_targettxt'] = cyber_train_X['sub_targettxt'].where(\n",
    "                                     cyber_train_X['sub_targettxt'].apply(lambda x: x not in gov_figure2), \n",
    "                                     other = 'Police_Facilities')\n",
    "\n",
    "military_facilities = ['Military Barracks/Base/Headquarters/Checkpost', 'Military Recruiting Station/Academy',\n",
    "                       'Military Weaponry', 'Military Aircraft', 'Military Maritime', \n",
    "                       'Military Transportation/Vehicle (excluding convoys)', 'Military Checkpoint',\n",
    "                       'Paramilitary']\n",
    "cyber_train_X['sub_targettxt'] = cyber_train_X['sub_targettxt'].where(\n",
    "                                     cyber_train_X['sub_targettxt'].apply(lambda x: x not in military_facilities), \n",
    "                                     other = 'Military_Facilities')\n",
    "\n",
    "\n",
    "military_personnel = ['Military Unit/Patrol/Convoy', 'Non-combatant Personnel', \n",
    "                      'Military Personnel (soldiers, troops, officers, forces)']\n",
    "cyber_train_X['sub_targettxt'] = cyber_train_X['sub_targettxt'].where(\n",
    "                                     cyber_train_X['sub_targettxt'].apply(lambda x: x not in military_personnel), \n",
    "                                     other = 'Military_Personnel')\n",
    "\n",
    "\n",
    "pilots_aircraft = ['Aircraft (not at an airport)', 'Airline Officer/Personnel']\n",
    "cyber_train_X['sub_targettxt'] = cyber_train_X['sub_targettxt'].where(\n",
    "                                     cyber_train_X['sub_targettxt'].apply(lambda x: x not in military_personnel), \n",
    "                                     other = 'Pilots_Aircraft')\n",
    "\n",
    "gov_diplomatic = [' Diplomatic Personnel (outside of embassy, consulate)', 'Embassy/Consulate', \n",
    "                  'International Organization (peacekeeper, aid agency, compound)']\n",
    "cyber_train_X['sub_targettxt'] = cyber_train_X['sub_targettxt'].where(\n",
    "                                     cyber_train_X['sub_targettxt'].apply(lambda x: x not in gov_diplomatic), \n",
    "                                     other = 'Gov_Diplomatic')\n",
    "\n",
    "educational = ['Teacher/Professor/Instructor', 'School/University/Educational Building', \n",
    "               'Other Personnel']\n",
    "cyber_train_X['sub_targettxt'] = cyber_train_X['sub_targettxt'].where(\n",
    "                                     cyber_train_X['sub_targettxt'].apply(lambda x: x not in educational), \n",
    "                                     other = 'Educational')\n",
    "\n",
    "food_water = ['Food Supply', 'Water Supply']\n",
    "cyber_train_X['sub_targettxt'] = cyber_train_X['sub_targettxt'].where(\n",
    "                                     cyber_train_X['sub_targettxt'].apply(lambda x: x not in food_water), \n",
    "                                     other = 'Food_Water')\n",
    "\n",
    "media = ['Newspaper Journalist/Staff/Facility', 'Radio Journalist/Staff/Facility', \n",
    "         'Television Journalist/Staff/Facility', 'Other (including online news agencies)']\n",
    "cyber_train_X['sub_targettxt'] = cyber_train_X['sub_targettxt'].where(\n",
    "                                     cyber_train_X['sub_targettxt'].apply(lambda x: x not in media), \n",
    "                                     other = 'Media')\n",
    "\n",
    "\n",
    "religious = ['Religion Identified', 'Religious Figure', 'Place of Worship', \n",
    "             'Affiliated Institution']\n",
    "cyber_train_X['sub_targettxt'] = cyber_train_X['sub_targettxt'].where(\n",
    "                                     cyber_train_X['sub_targettxt'].apply(lambda x: x not in military_personnel), \n",
    "                                     other = 'Pilots_Aircraft')\n",
    "\n",
    "\n",
    "political = ['Protrainer', 'Political Party Member/Rally', 'Party Official/Candidate/Other Personnel', \n",
    "             'Party Office/Facility', 'Rally']\n",
    "cyber_train_X['sub_targettxt'] = cyber_train_X['sub_targettxt'].where(\n",
    "                                     cyber_train_X['sub_targettxt'].apply(lambda x: x not in political), \n",
    "                                     other = 'Political')\n",
    "\n",
    "mass_socio = ['Refugee (including Camps/IDP/Asylum Seekers)', 'Named Civilian', 'Student', \n",
    "              'Race/Ethnicity Identified', 'Farmer', 'Vehicles/Transportation', 'Marketplace/Plaza/Square', 'Village/City/Town/Suburb', \n",
    "              'House/Apartment/Residence', 'Laborer (General)/Occupation Identified', 'Procession/Gathering (funeral, wedding, birthday, religious)', \n",
    "              'Public Areas (e.g., Public garden, parking lot, garage, beach, public buildings, camps)',\n",
    "             'Memorial/Cemetery/Monument', 'Museum/Cultural Center/Cultural House', 'Labor Union Related', \n",
    "              'Tourism Travel Agency', 'Tour Bus/Van/Vehicle', 'Tourist', 'Other Facility', 'train/train Tracks/ Trolley', 'Bus Station/Stop', 'Subway', \n",
    "              'Bridge/Car Tunnel', 'Highway/Road/Toll/Traffic Signal', 'Taxi/Rickshaw']\n",
    "cyber_train_X['sub_targettxt'] = cyber_train_X['sub_targettxt'].where(\n",
    "                                     cyber_train_X['sub_targettxt'].apply(lambda x: x not in mass_socio), \n",
    "                                     other = 'Mass_Social')\n",
    "\n",
    "\n",
    "\n",
    "util_telecom = ['Radio', 'Television', 'Telephone/Telegraph', 'Internet Infrastructure', \n",
    "                'Multiple Telecommunication Targets', 'Gas', 'Electricity', 'Oil']\n",
    "cyber_train_X['sub_targettxt'] = cyber_train_X['sub_targettxt'].where(\n",
    "                                     cyber_train_X['sub_targettxt'].apply(lambda x: x not in util_telecom), \n",
    "                                     other = 'Util_Telecom')"
   ]
  },
  {
   "cell_type": "code",
   "execution_count": 148,
   "metadata": {},
   "outputs": [],
   "source": [
    "# Mitigating some memory issues:\n",
    "\n",
    "del industrial\n",
    "del white_collar\n",
    "del gov_figure1\n",
    "del gov_figure2\n",
    "del police_facilities\n",
    "del military_facilities\n",
    "del military_personnel\n",
    "del pilots_aircraft\n",
    "del gov_diplomatic\n",
    "del educational\n",
    "del food_water\n",
    "del media\n",
    "del religious\n",
    "del political\n",
    "del mass_socio\n",
    "del util_telecom"
   ]
  },
  {
   "cell_type": "markdown",
   "metadata": {},
   "source": [
    "> ###### Test Data:"
   ]
  },
  {
   "cell_type": "code",
   "execution_count": 149,
   "metadata": {},
   "outputs": [],
   "source": [
    "# Test Data:\n",
    "\n",
    "industrial = ['Gas/Oil/Electric', 'Industrial/Textiles/Factory', 'Farm/Ranch', 'Mining', 'Construction']\n",
    "cyber_test_X['sub_targettxt'] = cyber_test_X['sub_targettxt'].where(\n",
    "                                     cyber_test_X['sub_targettxt'].apply(lambda x: x not in industrial), \n",
    "                                     other = 'Industrial')\n",
    "\n",
    "\n",
    "white_collar = ['Restaurant/Bar/Café', 'Bank/Commerce', 'Multinational Corporation', \n",
    "                'Medical/Pharmaceutical', 'Retail/Grocery/Bakery (including cell phone shops and generic shops)', \n",
    "                'Hotel/Resort', 'Entertainment/Cultural/Stadium/Casino', 'Private Security Company/Firm',\n",
    "                'Legal Services']\n",
    "cyber_test_X['sub_targettxt'] = cyber_test_X['sub_targettxt'].where(\n",
    "                                     cyber_test_X['sub_targettxt'].apply(lambda x: x not in white_collar), \n",
    "                                     other = 'White_Collar')\n",
    "\n",
    "\n",
    "gov_figure1 = ['Judges/Attorneys/Courts', 'Government Personnel (excluding police, military)']\n",
    "cyber_test_X['sub_targettxt'] = cyber_test_X['sub_targettxt'].where(\n",
    "                                     cyber_test_X['sub_targettxt'].apply(lambda x: x not in gov_figure1), \n",
    "                                     other = 'Gov_Figure1')\n",
    "\n",
    "gov_figure2 = ['Politician or Political Party Movement/Meeting/Rally', 'Royalty', 'Head of State',\n",
    "               'Election-Related']\n",
    "cyber_test_X['sub_targettxt'] = cyber_test_X['sub_targettxt'].where(\n",
    "                                     cyber_test_X['sub_targettxt'].apply(lambda x: x not in gov_figure2), \n",
    "                                     other = 'Gov_Figure2')\n",
    "\n",
    "\n",
    "police_facilities = ['Police Buildings (Headquarters/Stations/School)', \n",
    "                     'Police Patrol (including vehicles and convoys)', \n",
    "                     'Police Checkpoint', 'Prison/Jail']\n",
    "cyber_test_X['sub_targettxt'] = cyber_test_X['sub_targettxt'].where(\n",
    "                                     cyber_test_X['sub_targettxt'].apply(lambda x: x not in gov_figure2), \n",
    "                                     other = 'Police_Facilities')\n",
    "\n",
    "military_facilities = ['Military Barracks/Base/Headquarters/Checkpost', 'Military Recruiting Station/Academy',\n",
    "                       'Military Weaponry', 'Military Aircraft', 'Military Maritime', \n",
    "                       'Military Transportation/Vehicle (excluding convoys)', 'Military Checkpoint',\n",
    "                       'Paramilitary']\n",
    "cyber_test_X['sub_targettxt'] = cyber_test_X['sub_targettxt'].where(\n",
    "                                     cyber_test_X['sub_targettxt'].apply(lambda x: x not in military_facilities), \n",
    "                                     other = 'Military_Facilities')\n",
    "\n",
    "\n",
    "military_personnel = ['Military Unit/Patrol/Convoy', 'Non-combatant Personnel', \n",
    "                      'Military Personnel (soldiers, troops, officers, forces)']\n",
    "cyber_test_X['sub_targettxt'] = cyber_test_X['sub_targettxt'].where(\n",
    "                                     cyber_test_X['sub_targettxt'].apply(lambda x: x not in military_personnel), \n",
    "                                     other = 'Military_Personnel')\n",
    "\n",
    "\n",
    "pilots_aircraft = ['Aircraft (not at an airport)', 'Airline Officer/Personnel']\n",
    "cyber_test_X['sub_targettxt'] = cyber_test_X['sub_targettxt'].where(\n",
    "                                     cyber_test_X['sub_targettxt'].apply(lambda x: x not in military_personnel), \n",
    "                                     other = 'Pilots_Aircraft')\n",
    "\n",
    "gov_diplomatic = [' Diplomatic Personnel (outside of embassy, consulate)', 'Embassy/Consulate', \n",
    "                  'International Organization (peacekeeper, aid agency, compound)']\n",
    "cyber_test_X['sub_targettxt'] = cyber_test_X['sub_targettxt'].where(\n",
    "                                     cyber_test_X['sub_targettxt'].apply(lambda x: x not in gov_diplomatic), \n",
    "                                     other = 'Gov_Diplomatic')\n",
    "\n",
    "educational = ['Teacher/Professor/Instructor', 'School/University/Educational Building', \n",
    "               'Other Personnel']\n",
    "cyber_test_X['sub_targettxt'] = cyber_test_X['sub_targettxt'].where(\n",
    "                                     cyber_test_X['sub_targettxt'].apply(lambda x: x not in educational), \n",
    "                                     other = 'Educational')\n",
    "\n",
    "food_water = ['Food Supply', 'Water Supply']\n",
    "cyber_test_X['sub_targettxt'] = cyber_test_X['sub_targettxt'].where(\n",
    "                                     cyber_test_X['sub_targettxt'].apply(lambda x: x not in food_water), \n",
    "                                     other = 'Food_Water')\n",
    "\n",
    "media = ['Newspaper Journalist/Staff/Facility', 'Radio Journalist/Staff/Facility', \n",
    "         'Television Journalist/Staff/Facility', 'Other (including online news agencies)']\n",
    "cyber_test_X['sub_targettxt'] = cyber_test_X['sub_targettxt'].where(\n",
    "                                     cyber_test_X['sub_targettxt'].apply(lambda x: x not in media), \n",
    "                                     other = 'Media')\n",
    "\n",
    "\n",
    "religious = ['Religion Identified', 'Religious Figure', 'Place of Worship', \n",
    "             'Affiliated Institution']\n",
    "cyber_test_X['sub_targettxt'] = cyber_test_X['sub_targettxt'].where(\n",
    "                                     cyber_test_X['sub_targettxt'].apply(lambda x: x not in military_personnel), \n",
    "                                     other = 'Pilots_Aircraft')\n",
    "\n",
    "\n",
    "political = ['Protester', 'Political Party Member/Rally', 'Party Official/Candidate/Other Personnel', \n",
    "             'Party Office/Facility', 'Rally']\n",
    "cyber_test_X['sub_targettxt'] = cyber_test_X['sub_targettxt'].where(\n",
    "                                     cyber_test_X['sub_targettxt'].apply(lambda x: x not in political), \n",
    "                                     other = 'Political')\n",
    "\n",
    "mass_socio = ['Refugee (including Camps/IDP/Asylum Seekers)', 'Named Civilian', 'Student', \n",
    "              'Race/Ethnicity Identified', 'Farmer', 'Vehicles/Transportation', 'Marketplace/Plaza/Square', 'Village/City/Town/Suburb', \n",
    "              'House/Apartment/Residence', 'Laborer (General)/Occupation Identified', 'Procession/Gathering (funeral, wedding, birthday, religious)', \n",
    "              'Public Areas (e.g., Public garden, parking lot, garage, beach, public buildings, camps)',\n",
    "             'Memorial/Cemetery/Monument', 'Museum/Cultural Center/Cultural House', 'Labor Union Related', \n",
    "              'Tourism Travel Agency', 'Tour Bus/Van/Vehicle', 'Tourist', 'Other Facility', 'test/test Tracks/ Trolley', 'Bus Station/Stop', 'Subway', \n",
    "              'Bridge/Car Tunnel', 'Highway/Road/Toll/Traffic Signal', 'Taxi/Rickshaw']\n",
    "cyber_test_X['sub_targettxt'] = cyber_test_X['sub_targettxt'].where(\n",
    "                                     cyber_test_X['sub_targettxt'].apply(lambda x: x not in mass_socio), \n",
    "                                     other = 'Mass_Social')\n",
    "\n",
    "\n",
    "\n",
    "util_telecom = ['Radio', 'Television', 'Telephone/Telegraph', 'Internet Infrastructure', \n",
    "                'Multiple Telecommunication Targets', 'Gas', 'Electricity', 'Oil']\n",
    "cyber_test_X['sub_targettxt'] = cyber_test_X['sub_targettxt'].where(\n",
    "                                     cyber_test_X['sub_targettxt'].apply(lambda x: x not in util_telecom), \n",
    "                                     other = 'Util_Telecom')"
   ]
  },
  {
   "cell_type": "code",
   "execution_count": 150,
   "metadata": {},
   "outputs": [],
   "source": [
    "# Mitigating some memory issues:\n",
    "\n",
    "del industrial\n",
    "del white_collar\n",
    "del gov_figure1\n",
    "del gov_figure2\n",
    "del police_facilities\n",
    "del military_facilities\n",
    "del military_personnel\n",
    "del pilots_aircraft\n",
    "del gov_diplomatic\n",
    "del educational\n",
    "del food_water\n",
    "del media\n",
    "del religious\n",
    "del political\n",
    "del mass_socio\n",
    "del util_telecom"
   ]
  },
  {
   "cell_type": "code",
   "execution_count": 151,
   "metadata": {},
   "outputs": [
    {
     "data": {
      "text/plain": [
       "0"
      ]
     },
     "execution_count": 151,
     "metadata": {},
     "output_type": "execute_result"
    }
   ],
   "source": [
    "gc.collect()"
   ]
  },
  {
   "cell_type": "markdown",
   "metadata": {},
   "source": [
    "##### Group_name:"
   ]
  },
  {
   "cell_type": "markdown",
   "metadata": {},
   "source": [
    "> Trying Group_name a bit and grouping them by Ideaology.\n",
    "\n",
    "> ###### Training Input:"
   ]
  },
  {
   "cell_type": "code",
   "execution_count": 152,
   "metadata": {},
   "outputs": [],
   "source": [
    "# Separatists, Leftists and Rightists:\n",
    "\n",
    "# Palestinian Separatists:\n",
    "cyber_train_X['group_name'] = cyber_train_X['group_name'].replace('Hamas (Islamic Resistance Movement)', \n",
    "                                                        'Palestinian_Separatists')\n",
    "cyber_train_X['group_name'] = cyber_train_X['group_name'].replace('Palestinian Islamic Jihad (PIJ)', \n",
    "                                                        'Palestinian_Separatists')\n",
    "cyber_train_X['group_name'] = cyber_train_X['group_name'].replace('Popular Front for the Liberation of Palestine (PFLP)',\n",
    "                                                        'Palestinian_Separatists')\n",
    "cyber_train_X['group_name'] = cyber_train_X['group_name'].replace('Popular Resistance Committees',\n",
    "                                                        'Palestinian_Separatists')\n",
    "cyber_train_X['group_name'] = cyber_train_X['group_name'].replace('Al-Fatah',\n",
    "                                                        'Palestinian_Separatists')\n",
    "\n",
    "# Militants:\n",
    "cyber_train_X['group_name'] = cyber_train_X['group_name'].replace('Militants',\n",
    "                                                        'Militant_Gunmen_Groups')\n",
    "cyber_train_X['group_name'] = cyber_train_X['group_name'].replace('Gunmen',\n",
    "                                                        'Militant_Gunmen_Groups')"
   ]
  },
  {
   "cell_type": "code",
   "execution_count": 153,
   "metadata": {},
   "outputs": [],
   "source": [
    "# Asian Separatists:\n",
    "\n",
    "cyber_train_X['group_name'] = cyber_train_X['group_name'].replace('Abu Sayyaf Group (ASG)',\n",
    "                                                        'Asian_Separatists')\n",
    "cyber_train_X['group_name'] = cyber_train_X['group_name'].replace('Colonel Karuna Faction',\n",
    "                                                        'Asian_Separatists')\n",
    "cyber_train_X['group_name'] = cyber_train_X['group_name'].replace('Eastern Turkistan Islamic Movement (ETIM)',\n",
    "                                                        'Asian_Separatists')\n",
    "cyber_train_X['group_name'] = cyber_train_X['group_name'].replace('Free Aceh Movement (GAM)',\n",
    "                                                        'Asian_Separatists')\n",
    "cyber_train_X['group_name'] = cyber_train_X['group_name'].replace('Janatantrik Terai Mukti Morcha (Jtmm)',\n",
    "                                                        'Asian_Separatists')\n",
    "cyber_train_X['group_name'] = cyber_train_X['group_name'].replace('Janatantrik Terai Mukti Morcha- Goit (Jtmm-G)',\n",
    "                                                        'Asian_Separatists')\n",
    "cyber_train_X['group_name'] = cyber_train_X['group_name'].replace('Janatantrik Terai Mukti Morcha- Jwala Singh (Jtmm-J)',\n",
    "                                                        'Asian_Separatists')\n",
    "cyber_train_X['group_name'] = cyber_train_X['group_name'].replace('Janatantrik Terai Mukti Morcha- Rajan Mukti (Jtmm-R)',\n",
    "                                                        'Asian_Separatists')\n",
    "cyber_train_X['group_name'] = cyber_train_X['group_name'].replace('Liberation Tigers of Tamil Eelam (LTTE)',\n",
    "                                                        'Asian_Separatists')\n",
    "cyber_train_X['group_name'] = cyber_train_X['group_name'].replace('Moro Islamic Liberation Front (MILF)',\n",
    "                                                        'Asian_Separatists')\n",
    "cyber_train_X['group_name'] = cyber_train_X['group_name'].replace('Runda Kumpulan Kecil (Rkk)',\n",
    "                                                        'Asian_Separatists')\n",
    "cyber_train_X['group_name'] = cyber_train_X['group_name'].replace('Terai Army',\n",
    "                                                        'Asian_Separatists')"
   ]
  },
  {
   "cell_type": "code",
   "execution_count": 154,
   "metadata": {},
   "outputs": [],
   "source": [
    "# Middle Eastern Separatists\n",
    "cyber_train_X['group_name'] = cyber_train_X['group_name'].replace('Supreme Council For Islamic Revolution In Iraq (Sciri)',\n",
    "                                                        'Middle_Eastern_Separatists')\n",
    "cyber_train_X['group_name'] = cyber_train_X['group_name'].replace('Southern Mobility Movement (Yemen)',\n",
    "                                                        'Middle_Eastern_Separatists')\n",
    "cyber_train_X['group_name'] = cyber_train_X['group_name'].replace('Riyadus-Salikhin Reconnaissance And Sabotage Battalion Of Chechen Martyrs',\n",
    "                                                        'Middle_Eastern_Separatists')\n",
    "cyber_train_X['group_name'] = cyber_train_X['group_name'].replace('Haqqani Network',\n",
    "                                                        'Middle_Eastern_Separatists')\n",
    "cyber_train_X['group_name'] = cyber_train_X['group_name'].replace('Harkatul Jihad-E-Islami',\n",
    "                                                        'Middle_Eastern_Separatists')\n",
    "cyber_train_X['group_name'] = cyber_train_X['group_name'].replace('Hizbul Mujahideen (Hm)',\n",
    "                                                        'Middle_Eastern_Separatists')\n",
    "cyber_train_X['group_name'] = cyber_train_X['group_name'].replace('Jaish-E-Mohammad (Jem)',\n",
    "                                                        'Middle_Eastern_Separatists')\n",
    "cyber_train_X['group_name'] = cyber_train_X['group_name'].replace('Kurdistan Free Life Party',\n",
    "                                                        'Middle_Eastern_Separatists')\n",
    "cyber_train_X['group_name'] = cyber_train_X['group_name'].replace('Kurdistan Workers\\' Party (PKK)',\n",
    "                                                        'Middle_Eastern_Separatists')\n",
    "cyber_train_X['group_name'] = cyber_train_X['group_name'].replace('Lashkar-E-Balochistan',\n",
    "                                                        'Middle_Eastern_Separatists')\n",
    "cyber_train_X['group_name'] = cyber_train_X['group_name'].replace('Lashkar-E-Taiba (Let)',\n",
    "                                                        'Middle_Eastern_Separatists')\n",
    "cyber_train_X['group_name'] = cyber_train_X['group_name'].replace('Ansar Al-Islam',\n",
    "                                                        'Middle_Eastern_Separatists')\n",
    "cyber_train_X['group_name'] = cyber_train_X['group_name'].replace('Ansar Al-Sharia (Libya)',\n",
    "                                                        'Middle_Eastern_Separatists')\n",
    "cyber_train_X['group_name'] = cyber_train_X['group_name'].replace('Baloch Liberation Army (BLA)',\n",
    "                                                        'Middle_Eastern_Separatists')\n",
    "cyber_train_X['group_name'] = cyber_train_X['group_name'].replace('Baloch Liberation Front (Blf)',\n",
    "                                                        'Middle_Eastern_Separatists')\n",
    "cyber_train_X['group_name'] = cyber_train_X['group_name'].replace('Baloch Republican Army (BRA)',\n",
    "                                                        'Middle_Eastern_Separatists')\n",
    "cyber_train_X['group_name'] = cyber_train_X['group_name'].replace('Caucasus Emirate',\n",
    "                                                        'Middle_Eastern_Separatists')\n",
    "cyber_train_X['group_name'] = cyber_train_X['group_name'].replace('Free Syrian Army',\n",
    "                                                        'Middle_Eastern_Separatists')\n",
    "cyber_train_X['group_name'] = cyber_train_X['group_name'].replace('Chechen Rebels',\n",
    "                                                        'Middle_Eastern_Separatists')"
   ]
  },
  {
   "cell_type": "code",
   "execution_count": 155,
   "metadata": {},
   "outputs": [],
   "source": [
    "# Indian Separatists\n",
    "cyber_train_X['group_name'] = cyber_train_X['group_name'].replace('Black Widows',\n",
    "                                                        'Indian_Separatists')\n",
    "cyber_train_X['group_name'] = cyber_train_X['group_name'].replace('Dima Halao Daoga (Dhd)',\n",
    "                                                        'Indian_Separatists')\n",
    "cyber_train_X['group_name'] = cyber_train_X['group_name'].replace('Garo National Liberation Army',\n",
    "                                                        'Indian_Separatists')\n",
    "cyber_train_X['group_name'] = cyber_train_X['group_name'].replace('Kangleipak Communist Party (KCP)',\n",
    "                                                        'Indian_Separatists')\n",
    "cyber_train_X['group_name'] = cyber_train_X['group_name'].replace('Karbi Longri North Cachar Liberation Front (Klnlf)',\n",
    "                                                        'Indian_Separatists')\n",
    "cyber_train_X['group_name'] = cyber_train_X['group_name'].replace('National Democratic Front of Bodoland (NDFB)',\n",
    "                                                        'Indian_Separatists')\n",
    "cyber_train_X['group_name'] = cyber_train_X['group_name'].replace('National Liberation Front of Tripura (NLFT)',\n",
    "                                                        'Indian_Separatists')\n",
    "cyber_train_X['group_name'] = cyber_train_X['group_name'].replace('National Socialist Council of Nagaland-Isak-Muivah (NSCN-IM)',\n",
    "                                                        'Indian_Separatists')\n",
    "cyber_train_X['group_name'] = cyber_train_X['group_name'].replace('People\\'s Liberation Army (PLA)',\n",
    "                                                        'Indian_Separatists')\n",
    "cyber_train_X['group_name'] = cyber_train_X['group_name'].replace('People\\'s Revolutionary Party of Kangleipak (PREPAK)',\n",
    "                                                        'Indian_Separatists')\n",
    "cyber_train_X['group_name'] = cyber_train_X['group_name'].replace('United Liberation Front of Assam (ULFA)',\n",
    "                                                        'Indian_Separatists')\n",
    "cyber_train_X['group_name'] = cyber_train_X['group_name'].replace('United National Liberation Front (UNLF)',\n",
    "                                                        'Indian_Separatists')"
   ]
  },
  {
   "cell_type": "code",
   "execution_count": 156,
   "metadata": {},
   "outputs": [],
   "source": [
    "# NW_Indian_Groups:\n",
    "\n",
    "cyber_train_X['group_name'] = cyber_train_X['group_name'].replace('Lashkar-e-Jhangvi',\n",
    "                                                        'NW_Indian_Groups')\n",
    "cyber_train_X['group_name'] = cyber_train_X['group_name'].replace('Sipah-e-Sahaba/Pakistan (SSP)',\n",
    "                                                        'NW_Indian_Groups')\n",
    "cyber_train_X['group_name'] = cyber_train_X['group_name'].replace('Hizbul Mujahideen (HM)',\n",
    "                                                        'NW_Indian_Groups')\n",
    "cyber_train_X['group_name'] = cyber_train_X['group_name'].replace('Baloch Liberation Front (BLF)',\n",
    "                                                        'NW_Indian_Groups')\n",
    "cyber_train_X['group_name'] = cyber_train_X['group_name'].replace('Baloch Young Tigers (BYT)',\n",
    "                                                        'NW_Indian_Groups')\n",
    "cyber_train_X['group_name'] = cyber_train_X['group_name'].replace('Baloch Young Tigers (BYT)',\n",
    "                                                        'NW_Indian_Groups')\n",
    "cyber_train_X['group_name'] = cyber_train_X['group_name'].replace('Baloch Liberation Army (BLA)',\n",
    "                                                        'NW_Indian_Groups')\n",
    "cyber_train_X['group_name'] = cyber_train_X['group_name'].replace('Baloch Republican Army (BRA)',\n",
    "                                                        'NW_Indian_Groups')\n",
    "cyber_train_X['group_name'] = cyber_train_X['group_name'].replace('United Baloch Army (UBA)',\n",
    "                                                        'NW_Indian_Groups')\n",
    "cyber_train_X['group_name'] = cyber_train_X['group_name'].replace('Free Balochistan Army (FBA)',\n",
    "                                                        'NW_Indian_Groups')\n",
    "cyber_train_X['group_name'] = cyber_train_X['group_name'].replace('Baloch Nationalists',\n",
    "                                                        'NW_Indian_Groups')"
   ]
  },
  {
   "cell_type": "code",
   "execution_count": 157,
   "metadata": {},
   "outputs": [],
   "source": [
    "# SE_Indian_Groups:\n",
    "\n",
    "cyber_train_X['group_name'] = cyber_train_X['group_name'].replace('Communist Party of India - Maoist (CPI-Maoist)',\n",
    "                                                        'SE_Indian_Groups')\n",
    "cyber_train_X['group_name'] = cyber_train_X['group_name'].replace('Indian Mujahideen',\n",
    "                                                        'SE_Indian_Groups')\n",
    "cyber_train_X['group_name'] = cyber_train_X['group_name'].replace('Jama\\'atul Mujahideen Bangladesh (JMB)',\n",
    "                                                        'SE_Indian_Groups')\n",
    "cyber_train_X['group_name'] = cyber_train_X['group_name'].replace('Bangladesh Sarbahara Party',\n",
    "                                                        'SE_Indian_Groups')\n",
    "cyber_train_X['group_name'] = cyber_train_X['group_name'].replace('Purbo Banglar Communist Party',\n",
    "                                                        'SE_Indian_Groups')\n",
    "cyber_train_X['group_name'] = cyber_train_X['group_name'].replace('Harkatul Jihad-e-Islami',\n",
    "                                                        'SE_Indian_Groups')\n",
    "cyber_train_X['group_name'] = cyber_train_X['group_name'].replace('Hynniewtrep National Liberation Council (HNLC)',\n",
    "                                                        'SE_Indian_Groups')\n",
    "cyber_train_X['group_name'] = cyber_train_X['group_name'].replace('Kanglei Yawol Kanna Lup (KYKL)',\n",
    "                                                        'SE_Indian_Groups')\n",
    "cyber_train_X['group_name'] = cyber_train_X['group_name'].replace('Kuki Tribal Militants',\n",
    "                                                        'SE_Indian_Groups')\n",
    "cyber_train_X['group_name'] = cyber_train_X['group_name'].replace('Kuki National Front (KNF)',\n",
    "                                                        'SE_Indian_Groups')\n",
    "cyber_train_X['group_name'] = cyber_train_X['group_name'].replace('United Kuki Liberation Front (UKLF) - India',\n",
    "                                                        'SE_Indian_Groups')\n",
    "cyber_train_X['group_name'] = cyber_train_X['group_name'].replace('Hill Tiger Force (HTF)',\n",
    "                                                        'SE_Indian_Groups')\n",
    "cyber_train_X['group_name'] = cyber_train_X['group_name'].replace('National Socialist Council of Nagaland-Khaplang (NSCN-K)',\n",
    "                                                        'SE_Indian_Groups')\n",
    "cyber_train_X['group_name'] = cyber_train_X['group_name'].replace('National Socialist Council of Nagaland-Isak-Muivah (NSCN-IM)',\n",
    "                                                        'SE_Indian_Groups')\n",
    "cyber_train_X['group_name'] = cyber_train_X['group_name'].replace('National Socialist Council of Nagaland-Unification (NSCN-U)',\n",
    "                                                        'SE_Indian_Groups')\n",
    "cyber_train_X['group_name'] = cyber_train_X['group_name'].replace('',\n",
    "                                                        'SE_Indian_Groups')\n",
    "cyber_train_X['group_name'] = cyber_train_X['group_name'].replace('',\n",
    "                                                        'SE_Indian_Groups')\n",
    "cyber_train_X['group_name'] = cyber_train_X['group_name'].replace('',\n",
    "                                                        'SE_Indian_Groups')"
   ]
  },
  {
   "cell_type": "code",
   "execution_count": 158,
   "metadata": {},
   "outputs": [],
   "source": [
    "# African Political:\n",
    "cyber_train_X['group_name'] = cyber_train_X['group_name'].replace('National Union for the Total Independence of Angola (UNITA)',\n",
    "                                                         'African_Political')"
   ]
  },
  {
   "cell_type": "code",
   "execution_count": 159,
   "metadata": {},
   "outputs": [],
   "source": [
    "# Irish Separatists\n",
    "cyber_train_X['group_name'] = cyber_train_X['group_name'].replace('Real Irish Republican Army (RIRA)',\n",
    "                                                        'Irish_Separatists')\n",
    "cyber_train_X['group_name'] = cyber_train_X['group_name'].replace('Oglaigh Na Heireann',\n",
    "                                                        'Irish_Separatists')\n",
    "cyber_train_X['group_name'] = cyber_train_X['group_name'].replace('Irish Republican Army (IRA)',\n",
    "                                                        'rish_Separatists')\n"
   ]
  },
  {
   "cell_type": "code",
   "execution_count": 160,
   "metadata": {},
   "outputs": [],
   "source": [
    "# Farc left and right\n",
    "cyber_train_X['group_name'] = cyber_train_X['group_name'].replace('National Liberation Army of Colombia (ELN)',\n",
    "                                                        'FARC_Leftist')\n",
    "cyber_train_X['group_name'] = cyber_train_X['group_name'].replace('Popular Liberation Army (EPL)',\n",
    "                                                        'FARC_Leftist')\n",
    "cyber_train_X['group_name'] = cyber_train_X['group_name'].replace('Revolutionary Armed Forces of Colombia (FARC)',\n",
    "                                                        'FARC_Leftist')\n",
    "\n",
    "cyber_train_X['group_name'] = cyber_train_X['group_name'].replace('United Self Defense Units of Colombia (AUC)',\n",
    "                                                        'FARC_Rightist')\n",
    "  "
   ]
  },
  {
   "cell_type": "code",
   "execution_count": 161,
   "metadata": {},
   "outputs": [],
   "source": [
    "# Middle Eastern Religious:\n",
    "cyber_train_X['group_name'] = cyber_train_X['group_name'].replace('Al-Gama\\'at Al-Islamiyya (IG)',\n",
    "                                                        'Middle_Eastern_Religious')\n",
    "cyber_train_X['group_name'] = cyber_train_X['group_name'].replace('Al-Nusrah Front',\n",
    "                                                        'Middle_Eastern_Religious')\n",
    "cyber_train_X['group_name'] = cyber_train_X['group_name'].replace('Al-Qa\\'ida',\n",
    "                                                        'Middle_Eastern_Religious')\n",
    "cyber_train_X['group_name'] = cyber_train_X['group_name'].replace('Al-Qa\\'ida in the Arabian Peninsula (AQAP)',\n",
    "                                                        'Middle_Eastern_Religious')\n",
    "cyber_train_X['group_name'] = cyber_train_X['group_name'].replace('Al-Qa\\'ida in the Lands of the Islamic Maghreb (AQLIM)',\n",
    "                                                        'Middle_Eastern_Religious')\n",
    "cyber_train_X['group_name'] = cyber_train_X['group_name'].replace('Al-Shabaab',\n",
    "                                                        'Middle_Eastern_Religious')\n",
    "cyber_train_X['group_name'] = cyber_train_X['group_name'].replace('Ansar Al-Islam',\n",
    "                                                        'Middle_Eastern_Religious')\n",
    "cyber_train_X['group_name'] = cyber_train_X['group_name'].replace('Ansar Al-Sharia (Libya)',\n",
    "                                                        'Middle_Eastern_Religious')\n",
    "cyber_train_X['group_name'] = cyber_train_X['group_name'].replace('Asa\\'Ib Ahl Al-Haqq',\n",
    "                                                        'Middle_Eastern_Religious')\n",
    "cyber_train_X['group_name'] = cyber_train_X['group_name'].replace('Caucasus Emirate',\n",
    "                                                        'Middle_Eastern_Religious')\n",
    "cyber_train_X['group_name'] = cyber_train_X['group_name'].replace('Eritrean Islamic Jihad Movement (EIJM)',\n",
    "                                                        'Middle_Eastern_Religious')\n",
    "cyber_train_X['group_name'] = cyber_train_X['group_name'].replace('Great Eastern Islamic Raiders Front (Ibda-C)',\n",
    "                                                        'Middle_Eastern_Religious')\n",
    "cyber_train_X['group_name'] = cyber_train_X['group_name'].replace('Hizbul Al Islam (Somalia)',\n",
    "                                                        'Middle_Eastern_Religious')\n",
    "cyber_train_X['group_name'] = cyber_train_X['group_name'].replace('Islamic Courts Union (ICU)',\n",
    "                                                        'Middle_Eastern_Religious')\n",
    "cyber_train_X['group_name'] = cyber_train_X['group_name'].replace('Islamic State of Iraq and al Sham (ISIS)',\n",
    "                                                        'Middle_Eastern_Religious')\n",
    "cyber_train_X['group_name'] = cyber_train_X['group_name'].replace('Islamic Movement of Uzbekistan (IMU)',\n",
    "                                                        'Middle_Eastern_Religious')\n",
    "cyber_train_X['group_name'] = cyber_train_X['group_name'].replace('Jamiat Ul-Mujahedin (Jum)',\n",
    "                                                        'Middle_Eastern_Religious')\n",
    "cyber_train_X['group_name'] = cyber_train_X['group_name'].replace('Jundallah',\n",
    "                                                        'Middle_Eastern_Religious')\n",
    "cyber_train_X['group_name'] = cyber_train_X['group_name'].replace('Mahdi Army',\n",
    "                                                        'Middle_Eastern_Religious')\n",
    "cyber_train_X['group_name'] = cyber_train_X['group_name'].replace('Taliban',\n",
    "                                                        'Middle_Eastern_Religious')\n",
    "cyber_train_X['group_name'] = cyber_train_X['group_name'].replace('Tehrik-i-Taliban Pakistan (TTP)',\n",
    "                                                        'Middle_Eastern_Religious')\n",
    "cyber_train_X['group_name'] = cyber_train_X['group_name'].replace('Muslim extremists',\n",
    "                                                        'Middle_Eastern_Religious')\n",
    "cyber_train_X['group_name'] = cyber_train_X['group_name'].replace('Armed Islamic Group (GIA)',\n",
    "                                                        'Middle_Eastern_Religious')\n",
    "cyber_train_X['group_name'] = cyber_train_X['group_name'].replace('Sunni Muslim extremists',\n",
    "                                                        'Middle_Eastern_Religious')\n",
    "cyber_train_X['group_name'] = cyber_train_X['group_name'].replace('Al-Qaida in the Islamic Maghreb (AQIM)',\n",
    "                                                        'Middle_Eastern_Religious')\n",
    "cyber_train_X['group_name'] = cyber_train_X['group_name'].replace('Islamic State of Iraq and the Levant (ISIL)',\n",
    "                                                        'Middle_Eastern_Religious')\n",
    "cyber_train_X['group_name'] = cyber_train_X['group_name'].replace('Al-Qaida in Iraq',\n",
    "                                                        'Middle_Eastern_Religious')\n",
    "cyber_train_X['group_name'] = cyber_train_X['group_name'].replace('Al-Qaida in the Arabian Peninsula (AQAP)',\n",
    "                                                        'Middle_Eastern_Religious')\n",
    "cyber_train_X['group_name'] = cyber_train_X['group_name'].replace('Al-Qaida',\n",
    "                                                        'Middle_Eastern_Religious')"
   ]
  },
  {
   "cell_type": "code",
   "execution_count": 162,
   "metadata": {},
   "outputs": [],
   "source": [
    "# Israeli, Palestinian, Lebanese Religious:\n",
    "cyber_train_X['group_name'] = cyber_train_X['group_name'].replace('Anti-Semitic extremists',\n",
    "                                                        'Near_Israel_Religious')\n",
    "cyber_train_X['group_name'] = cyber_train_X['group_name'].replace('Hezbollah',\n",
    "                                                        'Near_Israel_Religious')"
   ]
  },
  {
   "cell_type": "code",
   "execution_count": 163,
   "metadata": {},
   "outputs": [],
   "source": [
    "# Asian and African Religious:\n",
    "\n",
    "cyber_train_X['group_name'] = cyber_train_X['group_name'].replace('Students Islamic Movement of India (Simi)',\n",
    "                                                        'Asian/Asian-Pacific_Religious')\n",
    "cyber_train_X['group_name'] = cyber_train_X['group_name'].replace('Ranbir Sena',\n",
    "                                                        'Asian/Asian-Pacific_Religious')\n",
    "cyber_train_X['group_name'] = cyber_train_X['group_name'].replace('Jemaah Islamiya (JI)',\n",
    "                                                        'Asian/Asian-Pacific_Religious')\n",
    "\n",
    "\n",
    "cyber_train_X['group_name'] = cyber_train_X['group_name'].replace('Movement for Oneness and Jihad in West Africa (MUJAO)',\n",
    "                                                        'African_Religious')\n",
    "cyber_train_X['group_name'] = cyber_train_X['group_name'].replace('Lord\\'s Resistance Army (LRA)',\n",
    "                                                        'African_Religious')\n",
    "cyber_train_X['group_name'] = cyber_train_X['group_name'].replace('Boko Haram',\n",
    "                                                        'African_Religious')\n"
   ]
  },
  {
   "cell_type": "markdown",
   "metadata": {},
   "source": [
    "> ###### Test Input:"
   ]
  },
  {
   "cell_type": "code",
   "execution_count": 164,
   "metadata": {},
   "outputs": [],
   "source": [
    "# Separatists, Leftists and Rightists:\n",
    "\n",
    "# Palestinian Separatists:\n",
    "cyber_test_X['group_name'] = cyber_test_X['group_name'].replace('Hamas (Islamic Resistance Movement)', \n",
    "                                                        'Palestinian_Separatists')\n",
    "cyber_test_X['group_name'] = cyber_test_X['group_name'].replace('Palestinian Islamic Jihad (PIJ)', \n",
    "                                                        'Palestinian_Separatists')\n",
    "cyber_test_X['group_name'] = cyber_test_X['group_name'].replace('Popular Front for the Liberation of Palestine (PFLP)',\n",
    "                                                        'Palestinian_Separatists')\n",
    "cyber_test_X['group_name'] = cyber_test_X['group_name'].replace('Popular Resistance Committees',\n",
    "                                                        'Palestinian_Separatists')\n",
    "cyber_test_X['group_name'] = cyber_test_X['group_name'].replace('Al-Fatah',\n",
    "                                                        'Palestinian_Separatists')\n",
    "\n",
    "# Militants:\n",
    "cyber_test_X['group_name'] = cyber_test_X['group_name'].replace('Militants',\n",
    "                                                        'Militant_Gunmen_Groups')\n",
    "cyber_test_X['group_name'] = cyber_test_X['group_name'].replace('Gunmen',\n",
    "                                                        'Militant_Gunmen_Groups')"
   ]
  },
  {
   "cell_type": "code",
   "execution_count": 165,
   "metadata": {},
   "outputs": [],
   "source": [
    "# Asian Separatists:\n",
    "\n",
    "cyber_test_X['group_name'] = cyber_test_X['group_name'].replace('Abu Sayyaf Group (ASG)',\n",
    "                                                        'Asian_Separatists')\n",
    "cyber_test_X['group_name'] = cyber_test_X['group_name'].replace('Colonel Karuna Faction',\n",
    "                                                        'Asian_Separatists')\n",
    "cyber_test_X['group_name'] = cyber_test_X['group_name'].replace('Eastern Turkistan Islamic Movement (ETIM)',\n",
    "                                                        'Asian_Separatists')\n",
    "cyber_test_X['group_name'] = cyber_test_X['group_name'].replace('Free Aceh Movement (GAM)',\n",
    "                                                        'Asian_Separatists')\n",
    "cyber_test_X['group_name'] = cyber_test_X['group_name'].replace('Janatantrik Terai Mukti Morcha (Jtmm)',\n",
    "                                                        'Asian_Separatists')\n",
    "cyber_test_X['group_name'] = cyber_test_X['group_name'].replace('Janatantrik Terai Mukti Morcha- Goit (Jtmm-G)',\n",
    "                                                        'Asian_Separatists')\n",
    "cyber_test_X['group_name'] = cyber_test_X['group_name'].replace('Janatantrik Terai Mukti Morcha- Jwala Singh (Jtmm-J)',\n",
    "                                                        'Asian_Separatists')\n",
    "cyber_test_X['group_name'] = cyber_test_X['group_name'].replace('Janatantrik Terai Mukti Morcha- Rajan Mukti (Jtmm-R)',\n",
    "                                                        'Asian_Separatists')\n",
    "cyber_test_X['group_name'] = cyber_test_X['group_name'].replace('Liberation Tigers of Tamil Eelam (LTTE)',\n",
    "                                                        'Asian_Separatists')\n",
    "cyber_test_X['group_name'] = cyber_test_X['group_name'].replace('Moro Islamic Liberation Front (MILF)',\n",
    "                                                        'Asian_Separatists')\n",
    "cyber_test_X['group_name'] = cyber_test_X['group_name'].replace('Runda Kumpulan Kecil (Rkk)',\n",
    "                                                        'Asian_Separatists')\n",
    "cyber_test_X['group_name'] = cyber_test_X['group_name'].replace('Terai Army',\n",
    "                                                        'Asian_Separatists')"
   ]
  },
  {
   "cell_type": "code",
   "execution_count": 166,
   "metadata": {},
   "outputs": [],
   "source": [
    "# Middle Eastern Separatists\n",
    "cyber_test_X['group_name'] = cyber_test_X['group_name'].replace('Supreme Council For Islamic Revolution In Iraq (Sciri)',\n",
    "                                                        'Middle_Eastern_Separatists')\n",
    "cyber_test_X['group_name'] = cyber_test_X['group_name'].replace('Southern Mobility Movement (Yemen)',\n",
    "                                                        'Middle_Eastern_Separatists')\n",
    "cyber_test_X['group_name'] = cyber_test_X['group_name'].replace('Riyadus-Salikhin Reconnaissance And Sabotage Battalion Of Chechen Martyrs',\n",
    "                                                        'Middle_Eastern_Separatists')\n",
    "cyber_test_X['group_name'] = cyber_test_X['group_name'].replace('Haqqani Network',\n",
    "                                                        'Middle_Eastern_Separatists')\n",
    "cyber_test_X['group_name'] = cyber_test_X['group_name'].replace('Harkatul Jihad-E-Islami',\n",
    "                                                        'Middle_Eastern_Separatists')\n",
    "cyber_test_X['group_name'] = cyber_test_X['group_name'].replace('Hizbul Mujahideen (Hm)',\n",
    "                                                        'Middle_Eastern_Separatists')\n",
    "cyber_test_X['group_name'] = cyber_test_X['group_name'].replace('Jaish-E-Mohammad (Jem)',\n",
    "                                                        'Middle_Eastern_Separatists')\n",
    "cyber_test_X['group_name'] = cyber_test_X['group_name'].replace('Kurdistan Free Life Party',\n",
    "                                                        'Middle_Eastern_Separatists')\n",
    "cyber_test_X['group_name'] = cyber_test_X['group_name'].replace('Kurdistan Workers\\' Party (PKK)',\n",
    "                                                        'Middle_Eastern_Separatists')\n",
    "cyber_test_X['group_name'] = cyber_test_X['group_name'].replace('Lashkar-E-Balochistan',\n",
    "                                                        'Middle_Eastern_Separatists')\n",
    "cyber_test_X['group_name'] = cyber_test_X['group_name'].replace('Lashkar-E-Taiba (Let)',\n",
    "                                                        'Middle_Eastern_Separatists')\n",
    "cyber_test_X['group_name'] = cyber_test_X['group_name'].replace('Ansar Al-Islam',\n",
    "                                                        'Middle_Eastern_Separatists')\n",
    "cyber_test_X['group_name'] = cyber_test_X['group_name'].replace('Ansar Al-Sharia (Libya)',\n",
    "                                                        'Middle_Eastern_Separatists')\n",
    "cyber_test_X['group_name'] = cyber_test_X['group_name'].replace('Baloch Liberation Army (BLA)',\n",
    "                                                        'Middle_Eastern_Separatists')\n",
    "cyber_test_X['group_name'] = cyber_test_X['group_name'].replace('Baloch Liberation Front (Blf)',\n",
    "                                                        'Middle_Eastern_Separatists')\n",
    "cyber_test_X['group_name'] = cyber_test_X['group_name'].replace('Baloch Republican Army (BRA)',\n",
    "                                                        'Middle_Eastern_Separatists')\n",
    "cyber_test_X['group_name'] = cyber_test_X['group_name'].replace('Caucasus Emirate',\n",
    "                                                        'Middle_Eastern_Separatists')\n",
    "cyber_test_X['group_name'] = cyber_test_X['group_name'].replace('Free Syrian Army',\n",
    "                                                        'Middle_Eastern_Separatists')\n",
    "cyber_test_X['group_name'] = cyber_test_X['group_name'].replace('Chechen Rebels',\n",
    "                                                        'Middle_Eastern_Separatists')"
   ]
  },
  {
   "cell_type": "code",
   "execution_count": 167,
   "metadata": {},
   "outputs": [],
   "source": [
    "# Indian Separatists\n",
    "cyber_test_X['group_name'] = cyber_test_X['group_name'].replace('Black Widows',\n",
    "                                                        'Indian_Separatists')\n",
    "cyber_test_X['group_name'] = cyber_test_X['group_name'].replace('Dima Halao Daoga (Dhd)',\n",
    "                                                        'Indian_Separatists')\n",
    "cyber_test_X['group_name'] = cyber_test_X['group_name'].replace('Garo National Liberation Army',\n",
    "                                                        'Indian_Separatists')\n",
    "cyber_test_X['group_name'] = cyber_test_X['group_name'].replace('Kangleipak Communist Party (KCP)',\n",
    "                                                        'Indian_Separatists')\n",
    "cyber_test_X['group_name'] = cyber_test_X['group_name'].replace('Karbi Longri North Cachar Liberation Front (Klnlf)',\n",
    "                                                        'Indian_Separatists')\n",
    "cyber_test_X['group_name'] = cyber_test_X['group_name'].replace('National Democratic Front of Bodoland (NDFB)',\n",
    "                                                        'Indian_Separatists')\n",
    "cyber_test_X['group_name'] = cyber_test_X['group_name'].replace('National Liberation Front of Tripura (NLFT)',\n",
    "                                                        'Indian_Separatists')\n",
    "cyber_test_X['group_name'] = cyber_test_X['group_name'].replace('National Socialist Council of Nagaland-Isak-Muivah (NSCN-IM)',\n",
    "                                                        'Indian_Separatists')\n",
    "cyber_test_X['group_name'] = cyber_test_X['group_name'].replace('People\\'s Liberation Army (PLA)',\n",
    "                                                        'Indian_Separatists')\n",
    "cyber_test_X['group_name'] = cyber_test_X['group_name'].replace('People\\'s Revolutionary Party of Kangleipak (PREPAK)',\n",
    "                                                        'Indian_Separatists')\n",
    "cyber_test_X['group_name'] = cyber_test_X['group_name'].replace('United Liberation Front of Assam (ULFA)',\n",
    "                                                        'Indian_Separatists')\n",
    "cyber_test_X['group_name'] = cyber_test_X['group_name'].replace('United National Liberation Front (UNLF)',\n",
    "                                                        'Indian_Separatists')"
   ]
  },
  {
   "cell_type": "code",
   "execution_count": 168,
   "metadata": {},
   "outputs": [],
   "source": [
    "# NW_Indian_Groups:\n",
    "\n",
    "cyber_test_X['group_name'] = cyber_test_X['group_name'].replace('Lashkar-e-Jhangvi',\n",
    "                                                        'NW_Indian_Groups')\n",
    "cyber_test_X['group_name'] = cyber_test_X['group_name'].replace('Sipah-e-Sahaba/Pakistan (SSP)',\n",
    "                                                        'NW_Indian_Groups')\n",
    "cyber_test_X['group_name'] = cyber_test_X['group_name'].replace('Hizbul Mujahideen (HM)',\n",
    "                                                        'NW_Indian_Groups')\n",
    "cyber_test_X['group_name'] = cyber_test_X['group_name'].replace('Baloch Liberation Front (BLF)',\n",
    "                                                        'NW_Indian_Groups')\n",
    "cyber_test_X['group_name'] = cyber_test_X['group_name'].replace('Baloch Young Tigers (BYT)',\n",
    "                                                        'NW_Indian_Groups')\n",
    "cyber_test_X['group_name'] = cyber_test_X['group_name'].replace('Baloch Young Tigers (BYT)',\n",
    "                                                        'NW_Indian_Groups')\n",
    "cyber_test_X['group_name'] = cyber_test_X['group_name'].replace('Baloch Liberation Army (BLA)',\n",
    "                                                        'NW_Indian_Groups')\n",
    "cyber_test_X['group_name'] = cyber_test_X['group_name'].replace('Baloch Republican Army (BRA)',\n",
    "                                                        'NW_Indian_Groups')\n",
    "cyber_test_X['group_name'] = cyber_test_X['group_name'].replace('United Baloch Army (UBA)',\n",
    "                                                        'NW_Indian_Groups')\n",
    "cyber_test_X['group_name'] = cyber_test_X['group_name'].replace('Free Balochistan Army (FBA)',\n",
    "                                                        'NW_Indian_Groups')\n",
    "cyber_test_X['group_name'] = cyber_test_X['group_name'].replace('Baloch Nationalists',\n",
    "                                                        'NW_Indian_Groups')"
   ]
  },
  {
   "cell_type": "code",
   "execution_count": 169,
   "metadata": {},
   "outputs": [],
   "source": [
    "# SE_Indian_Groups:\n",
    "\n",
    "cyber_test_X['group_name'] = cyber_test_X['group_name'].replace('Communist Party of India - Maoist (CPI-Maoist)',\n",
    "                                                        'SE_Indian_Groups')\n",
    "cyber_test_X['group_name'] = cyber_test_X['group_name'].replace('Indian Mujahideen',\n",
    "                                                        'SE_Indian_Groups')\n",
    "cyber_test_X['group_name'] = cyber_test_X['group_name'].replace('Jama\\'atul Mujahideen Bangladesh (JMB)',\n",
    "                                                        'SE_Indian_Groups')\n",
    "cyber_test_X['group_name'] = cyber_test_X['group_name'].replace('Bangladesh Sarbahara Party',\n",
    "                                                        'SE_Indian_Groups')\n",
    "cyber_test_X['group_name'] = cyber_test_X['group_name'].replace('Purbo Banglar Communist Party',\n",
    "                                                        'SE_Indian_Groups')\n",
    "cyber_test_X['group_name'] = cyber_test_X['group_name'].replace('Harkatul Jihad-e-Islami',\n",
    "                                                        'SE_Indian_Groups')\n",
    "cyber_test_X['group_name'] = cyber_test_X['group_name'].replace('Hynniewtrep National Liberation Council (HNLC)',\n",
    "                                                        'SE_Indian_Groups')\n",
    "cyber_test_X['group_name'] = cyber_test_X['group_name'].replace('Kanglei Yawol Kanna Lup (KYKL)',\n",
    "                                                        'SE_Indian_Groups')\n",
    "cyber_test_X['group_name'] = cyber_test_X['group_name'].replace('Kuki Tribal Militants',\n",
    "                                                        'SE_Indian_Groups')\n",
    "cyber_test_X['group_name'] = cyber_test_X['group_name'].replace('Kuki National Front (KNF)',\n",
    "                                                        'SE_Indian_Groups')\n",
    "cyber_test_X['group_name'] = cyber_test_X['group_name'].replace('United Kuki Liberation Front (UKLF) - India',\n",
    "                                                        'SE_Indian_Groups')\n",
    "cyber_test_X['group_name'] = cyber_test_X['group_name'].replace('Hill Tiger Force (HTF)',\n",
    "                                                        'SE_Indian_Groups')\n",
    "cyber_test_X['group_name'] = cyber_test_X['group_name'].replace('National Socialist Council of Nagaland-Khaplang (NSCN-K)',\n",
    "                                                        'SE_Indian_Groups')\n",
    "cyber_test_X['group_name'] = cyber_test_X['group_name'].replace('National Socialist Council of Nagaland-Isak-Muivah (NSCN-IM)',\n",
    "                                                        'SE_Indian_Groups')\n",
    "cyber_test_X['group_name'] = cyber_test_X['group_name'].replace('National Socialist Council of Nagaland-Unification (NSCN-U)',\n",
    "                                                        'SE_Indian_Groups')"
   ]
  },
  {
   "cell_type": "code",
   "execution_count": 170,
   "metadata": {},
   "outputs": [],
   "source": [
    "# African Political:\n",
    "cyber_test_X['group_name'] = cyber_test_X['group_name'].replace('National Union for the Total Independence of Angola (UNITA)',\n",
    "                                                         'African_Political')"
   ]
  },
  {
   "cell_type": "code",
   "execution_count": 171,
   "metadata": {},
   "outputs": [],
   "source": [
    "# Irish Separatists\n",
    "cyber_test_X['group_name'] = cyber_test_X['group_name'].replace('Real Irish Republican Army (RIRA)',\n",
    "                                                        'Irish_Separatists')\n",
    "cyber_test_X['group_name'] = cyber_test_X['group_name'].replace('Oglaigh Na Heireann',\n",
    "                                                        'Irish_Separatists')\n",
    "cyber_test_X['group_name'] = cyber_test_X['group_name'].replace('Irish Republican Army (IRA)',\n",
    "                                                        'Irish_Separatists')\n"
   ]
  },
  {
   "cell_type": "code",
   "execution_count": 172,
   "metadata": {},
   "outputs": [],
   "source": [
    "# Farc left and right\n",
    "cyber_test_X['group_name'] = cyber_test_X['group_name'].replace('National Liberation Army of Colombia (ELN)',\n",
    "                                                        'FARC_Leftist')\n",
    "cyber_test_X['group_name'] = cyber_test_X['group_name'].replace('Popular Liberation Army (EPL)',\n",
    "                                                        'FARC_Leftist')\n",
    "cyber_test_X['group_name'] = cyber_test_X['group_name'].replace('Revolutionary Armed Forces of Colombia (FARC)',\n",
    "                                                        'FARC_Leftist')\n",
    "\n",
    "cyber_test_X['group_name'] = cyber_test_X['group_name'].replace('United Self Defense Units of Colombia (AUC)',\n",
    "                                                        'FARC_Rightist')\n",
    "  "
   ]
  },
  {
   "cell_type": "code",
   "execution_count": 173,
   "metadata": {},
   "outputs": [],
   "source": [
    "# Middle Eastern Religious:\n",
    "cyber_test_X['group_name'] = cyber_test_X['group_name'].replace('Al-Gama\\'at Al-Islamiyya (IG)',\n",
    "                                                        'Middle_Eastern_Religious')\n",
    "cyber_test_X['group_name'] = cyber_test_X['group_name'].replace('Al-Nusrah Front',\n",
    "                                                        'Middle_Eastern_Religious')\n",
    "cyber_test_X['group_name'] = cyber_test_X['group_name'].replace('Al-Qa\\'ida',\n",
    "                                                        'Middle_Eastern_Religious')\n",
    "cyber_test_X['group_name'] = cyber_test_X['group_name'].replace('Al-Qa\\'ida in the Arabian Peninsula (AQAP)',\n",
    "                                                        'Middle_Eastern_Religious')\n",
    "cyber_test_X['group_name'] = cyber_test_X['group_name'].replace('Al-Qa\\'ida in the Lands of the Islamic Maghreb (AQLIM)',\n",
    "                                                        'Middle_Eastern_Religious')\n",
    "cyber_test_X['group_name'] = cyber_test_X['group_name'].replace('Al-Shabaab',\n",
    "                                                        'Middle_Eastern_Religious')\n",
    "cyber_test_X['group_name'] = cyber_test_X['group_name'].replace('Ansar Al-Islam',\n",
    "                                                        'Middle_Eastern_Religious')\n",
    "cyber_test_X['group_name'] = cyber_test_X['group_name'].replace('Ansar Al-Sharia (Libya)',\n",
    "                                                        'Middle_Eastern_Religious')\n",
    "cyber_test_X['group_name'] = cyber_test_X['group_name'].replace('Asa\\'Ib Ahl Al-Haqq',\n",
    "                                                        'Middle_Eastern_Religious')\n",
    "cyber_test_X['group_name'] = cyber_test_X['group_name'].replace('Caucasus Emirate',\n",
    "                                                        'Middle_Eastern_Religious')\n",
    "cyber_test_X['group_name'] = cyber_test_X['group_name'].replace('Eritrean Islamic Jihad Movement (EIJM)',\n",
    "                                                        'Middle_Eastern_Religious')\n",
    "cyber_test_X['group_name'] = cyber_test_X['group_name'].replace('Great Eastern Islamic Raiders Front (Ibda-C)',\n",
    "                                                        'Middle_Eastern_Religious')\n",
    "cyber_test_X['group_name'] = cyber_test_X['group_name'].replace('Hizbul Al Islam (Somalia)',\n",
    "                                                        'Middle_Eastern_Religious')\n",
    "cyber_test_X['group_name'] = cyber_test_X['group_name'].replace('Islamic Courts Union (ICU)',\n",
    "                                                        'Middle_Eastern_Religious')\n",
    "cyber_test_X['group_name'] = cyber_test_X['group_name'].replace('Islamic State of Iraq and al Sham (ISIS)',\n",
    "                                                        'Middle_Eastern_Religious')\n",
    "cyber_test_X['group_name'] = cyber_test_X['group_name'].replace('Islamic Movement of Uzbekistan (IMU)',\n",
    "                                                        'Middle_Eastern_Religious')\n",
    "cyber_test_X['group_name'] = cyber_test_X['group_name'].replace('Jamiat Ul-Mujahedin (Jum)',\n",
    "                                                        'Middle_Eastern_Religious')\n",
    "cyber_test_X['group_name'] = cyber_test_X['group_name'].replace('Jundallah',\n",
    "                                                        'Middle_Eastern_Religious')\n",
    "cyber_test_X['group_name'] = cyber_test_X['group_name'].replace('Mahdi Army',\n",
    "                                                        'Middle_Eastern_Religious')\n",
    "cyber_test_X['group_name'] = cyber_test_X['group_name'].replace('Taliban',\n",
    "                                                        'Middle_Eastern_Religious')\n",
    "cyber_test_X['group_name'] = cyber_test_X['group_name'].replace('Tehrik-i-Taliban Pakistan (TTP)',\n",
    "                                                        'Middle_Eastern_Religious')\n",
    "cyber_test_X['group_name'] = cyber_test_X['group_name'].replace('Muslim extremists',\n",
    "                                                        'Middle_Eastern_Religious')\n",
    "cyber_test_X['group_name'] = cyber_test_X['group_name'].replace('Armed Islamic Group (GIA)',\n",
    "                                                        'Middle_Eastern_Religious')\n",
    "cyber_test_X['group_name'] = cyber_test_X['group_name'].replace('Sunni Muslim extremists',\n",
    "                                                        'Middle_Eastern_Religious')\n",
    "cyber_test_X['group_name'] = cyber_test_X['group_name'].replace('Al-Qaida in the Islamic Maghreb (AQIM)',\n",
    "                                                        'Middle_Eastern_Religious')\n",
    "cyber_test_X['group_name'] = cyber_test_X['group_name'].replace('Islamic State of Iraq and the Levant (ISIL)',\n",
    "                                                        'Middle_Eastern_Religious')\n",
    "cyber_test_X['group_name'] = cyber_test_X['group_name'].replace('Al-Qaida in Iraq',\n",
    "                                                        'Middle_Eastern_Religious')\n",
    "cyber_test_X['group_name'] = cyber_test_X['group_name'].replace('Al-Qaida in the Arabian Peninsula (AQAP)',\n",
    "                                                        'Middle_Eastern_Religious')\n",
    "cyber_test_X['group_name'] = cyber_test_X['group_name'].replace('Al-Qaida',\n",
    "                                                        'Middle_Eastern_Religious')"
   ]
  },
  {
   "cell_type": "code",
   "execution_count": 174,
   "metadata": {},
   "outputs": [],
   "source": [
    "# Israeli, Palestinian, Lebanese Religious:\n",
    "cyber_test_X['group_name'] = cyber_test_X['group_name'].replace('Anti-Semitic extremists',\n",
    "                                                        'Near_Israel_Religious')\n",
    "cyber_test_X['group_name'] = cyber_test_X['group_name'].replace('Hezbollah',\n",
    "                                                        'Near_Israel_Religious')"
   ]
  },
  {
   "cell_type": "code",
   "execution_count": 175,
   "metadata": {},
   "outputs": [],
   "source": [
    "# Asian and African Religious:\n",
    "\n",
    "cyber_test_X['group_name'] = cyber_test_X['group_name'].replace('Students Islamic Movement of India (Simi)',\n",
    "                                                        'Asian/Asian-Pacific_Religious')\n",
    "cyber_test_X['group_name'] = cyber_test_X['group_name'].replace('Ranbir Sena',\n",
    "                                                        'Asian/Asian-Pacific_Religious')\n",
    "cyber_test_X['group_name'] = cyber_test_X['group_name'].replace('Jemaah Islamiya (JI)',\n",
    "                                                        'Asian/Asian-Pacific_Religious')\n",
    "\n",
    "\n",
    "cyber_test_X['group_name'] = cyber_test_X['group_name'].replace('Movement for Oneness and Jihad in West Africa (MUJAO)',\n",
    "                                                        'African_Religious')\n",
    "cyber_test_X['group_name'] = cyber_test_X['group_name'].replace('Lord\\'s Resistance Army (LRA)',\n",
    "                                                        'African_Religious')\n",
    "cyber_test_X['group_name'] = cyber_test_X['group_name'].replace('Boko Haram',\n",
    "                                                        'African_Religious')\n"
   ]
  },
  {
   "cell_type": "code",
   "execution_count": 176,
   "metadata": {},
   "outputs": [
    {
     "data": {
      "text/plain": [
       "0"
      ]
     },
     "execution_count": 176,
     "metadata": {},
     "output_type": "execute_result"
    }
   ],
   "source": [
    "import gc\n",
    "gc.collect()"
   ]
  },
  {
   "cell_type": "markdown",
   "metadata": {},
   "source": [
    "##### City:  Trying City Names by Religion, Tribal Associations or Conflict Areas:\n",
    "\n"
   ]
  },
  {
   "cell_type": "markdown",
   "metadata": {},
   "source": [
    "> ###### Training Input:"
   ]
  },
  {
   "cell_type": "code",
   "execution_count": 177,
   "metadata": {},
   "outputs": [],
   "source": [
    "sunni_cities = ['Mosul', 'Kirkuk', 'Sanandaj', 'Ramadi', 'Trabzone', 'Diarbekir', \n",
    "                'Damascus', 'Gwadar', 'Zahedan', 'Kandahar', 'Khiva', 'Fallujah',\n",
    "                'Dakhla', 'Tajura', 'Sabrata', 'Azizia', 'Kasabat', 'Misrata', 'Tripoli',\n",
    "                'Takrit', 'Tikrit']\n",
    "cyber_train_X['city'] = cyber_train_X['city'].where(cyber_train_X['city'].apply(\n",
    "                                lambda x: x not in sunni_cities), other = 'Sunni_Cities')"
   ]
  },
  {
   "cell_type": "code",
   "execution_count": 178,
   "metadata": {},
   "outputs": [],
   "source": [
    "shia_cities = ['Mecca', 'Najaf', 'Karbala', 'Samarra', 'Ahwaz', 'Basra', \n",
    "               'Medina', 'Tabriz', 'Tunceli', 'Zahran', 'Tehran', 'Rasht', 'Bojnurd',\n",
    "               'Hillah', 'Diwania', 'Khalis', 'Dujali', 'Balad', 'Khanaqin', \n",
    "               'Sargodha', 'Dadu', 'Moro']\n",
    "cyber_train_X['city'] = cyber_train_X['city'].where(cyber_train_X['city'].apply(\n",
    "                                lambda x: x not in shia_cities), other = 'Shia_Cities')"
   ]
  },
  {
   "cell_type": "code",
   "execution_count": 179,
   "metadata": {},
   "outputs": [],
   "source": [
    "split_cities = ['Kirmanshah', 'Baghdad', 'Kadhimia', 'Kuwait', 'Kars', 'Maras', \n",
    "               'Ankara', 'Sivas', 'Aleppo', 'Beirut', 'Abha', 'Jizan', 'Qazvin',\n",
    "               'Gunbad', 'Ashgabat', 'Mashhad', 'Herat', 'Merv', 'Charju', 'Bukhara',\n",
    "               'Samarkand', 'Mazari Sharif', 'Kandahar', 'Lar', 'Bandar Abbas', 'Dubai', \n",
    "               'Abu Dhabi', 'Tashkent', 'Erzurum', 'Konya', 'Izmir', 'Bursa', 'Istanbul',\n",
    "               'Tarhuna', ]\n",
    "cyber_train_X['city'] = cyber_train_X['city'].where(cyber_train_X['city'].apply(\n",
    "                                lambda x: x not in split_cities), other = 'Sunni_Shia_Split')"
   ]
  },
  {
   "cell_type": "code",
   "execution_count": 180,
   "metadata": {},
   "outputs": [],
   "source": [
    "ibadi_cities_libya = ['Nalut', 'Zentan', 'Gharian', 'Dafnia', 'Abu Kammash', 'Zuwara']\n",
    "cyber_train_X['city'] = cyber_train_X['city'].where(cyber_train_X['city'].apply(\n",
    "                                lambda x: x not in ibadi_cities_libya), other = 'Ibadi_Cities_Libya')\n"
   ]
  },
  {
   "cell_type": "code",
   "execution_count": 181,
   "metadata": {},
   "outputs": [],
   "source": [
    "columbia_eln_cities = ['Riosucio', 'Buenaventura', 'Cali', 'Popayán', 'Bucaramanga',\n",
    "                       'Barrancabermeja', 'Cucuta', 'Santa Rita']\n",
    "cyber_train_X['city'] = cyber_train_X['city'].where(cyber_train_X['city'].apply(\n",
    "                                lambda x: x not in columbia_eln_cities), other = 'ELN_Cities')"
   ]
  },
  {
   "cell_type": "code",
   "execution_count": 182,
   "metadata": {},
   "outputs": [],
   "source": [
    "maoist_insurgency = ['Bhagalpur', 'Arwal', 'Khagaria', 'Rohtas', 'Kaimur',\n",
    "                       'Bhabua', 'Munger', 'Monghyr', 'Vaishali',\n",
    "                    'Dhanbad', 'Pakur', 'Koderma', 'Palamu', 'Balaghat',\n",
    "                     'Katni', 'Khandwa', 'Rajgarh', 'Shajapur']\n",
    "cyber_train_X['city'] = cyber_train_X['city'].where(cyber_train_X['city'].apply(\n",
    "                                lambda x: x not in maoist_insurgency), other = 'Maoist_Insurgency')\n"
   ]
  },
  {
   "cell_type": "code",
   "execution_count": 183,
   "metadata": {},
   "outputs": [],
   "source": [
    "w_africa_muslim = ['Touba', 'N\\'Djamena', 'Maiduguri', 'Zaria', 'Sokoto', 'Kenema',\n",
    "                   'Cetoua', 'Mopte', 'Bobo-Dioulasso', 'Kayes', 'Monrovia']\n",
    "cyber_train_X['city'] = cyber_train_X['city'].where(cyber_train_X['city'].apply(\n",
    "                                lambda x: x not in w_africa_muslim), other = 'Muslim_West_Africa')\n"
   ]
  },
  {
   "cell_type": "code",
   "execution_count": 184,
   "metadata": {},
   "outputs": [],
   "source": [
    "w_africa_mixed = ['Dogondutchi', 'Niamey', 'Parakou', 'Abuja', 'Kaduna', 'Kankan',\n",
    "                  'Lagos', 'Port Harcourt', 'Couala', 'Yaounde', 'Kumasi', 'Bamako',\n",
    "                  'Bertoua', 'Liberville', 'Port-Gentil', 'Zinder', 'Ouagadougou',\n",
    "                  'Freetown', 'Conakry', 'Bissau', 'Banjul', 'Dakar']\n",
    "cyber_train_X['city'] = cyber_train_X['city'].where(cyber_train_X['city'].apply(\n",
    "                                lambda x: x not in w_africa_mixed), other = 'Mixed_West_Africa')\n"
   ]
  },
  {
   "cell_type": "code",
   "execution_count": 185,
   "metadata": {},
   "outputs": [],
   "source": [
    "w_africa_christian = ['Benin City', 'Onitsha', 'Abidjan', 'Takoradi', 'Accra',\n",
    "                       'Lome']\n",
    "cyber_train_X['city'] = cyber_train_X['city'].where(cyber_train_X['city'].apply(\n",
    "                                lambda x: x not in w_africa_christian), other = 'Christian_West_Africa')\n"
   ]
  },
  {
   "cell_type": "code",
   "execution_count": 186,
   "metadata": {},
   "outputs": [],
   "source": [
    "# Nepal Maoist Conflict - Class A According to SATP\n",
    "Nepal_maoist_A = ['Musikot', 'Rukumkot', 'Jajarkot District', 'Salyan', 'Pyuthan', 'Gajul', 'Rank', 'Budagaun',\n",
    "                  'Kalikot District', 'Rolpa', 'Rolpa District', 'Rukum District', 'Khalanga']\n",
    "cyber_train_X['city'] = cyber_train_X['city'].where(cyber_train_X['city'].apply(\n",
    "                                lambda x: x not in Nepal_maoist_A), other = 'Nepal_maoist_A')\n"
   ]
  },
  {
   "cell_type": "code",
   "execution_count": 187,
   "metadata": {},
   "outputs": [],
   "source": [
    "# Nepal Maoist Conflict - Class B According to SATP\n",
    "Nepal_maoist_B = ['Charikot', 'Dolakha', 'Jiri', 'Ramechhap', 'Sindhuli Garhi', 'Sindhuli District', 'Dhungrebas',\n",
    "                  'Panaoti', 'Gorkha', 'Tulsipur', 'Ghorahi', 'Surkhet', 'Birendranagar',\n",
    "                  'Accham', 'Kamal Bajar', 'Dang', 'Dang District']\n",
    "cyber_train_X['city'] = cyber_train_X['city'].where(cyber_train_X['city'].apply(\n",
    "                                lambda x: x not in Nepal_maoist_B), other = 'Nepal_maoist_B')\n"
   ]
  },
  {
   "cell_type": "code",
   "execution_count": 188,
   "metadata": {},
   "outputs": [],
   "source": [
    "# Nepal Maoist Conflict - Class C According to SATP\n",
    "Nepal_maoist_C = ['Khotang Bajar', 'Khotang District', 'Khandanda', 'Okhaldhunga', 'Rumjatar', 'Udayapur Garhi',\n",
    "                  'Rasuwa District', 'Gaighat', 'Hitura', 'Makwanpur Garhi', 'Patan', 'Baglung', 'Dhorpatan',\n",
    "                  'Bardiya', 'Gulariya', 'Dailekh', 'Dailekh District', 'Jumla', 'Dhading District', \n",
    "                  'Udayapur District', 'Lalitpur', 'Hetauda', 'Gulariya']\n",
    "cyber_train_X['city'] = cyber_train_X['city'].where(cyber_train_X['city'].apply(\n",
    "                                lambda x: x not in Nepal_maoist_C), other = 'Nepal_maoist_C')\n"
   ]
  },
  {
   "cell_type": "code",
   "execution_count": 189,
   "metadata": {},
   "outputs": [],
   "source": [
    "northern_triangle = ['Tegucigalpa', 'San Pedro Sula', 'Guatemala City', 'Villa Nueva', 'Villa Canales', \n",
    "                     'Mixco', 'San Jan Sacatepequez', 'Chinautla', 'Escuintla', 'Jalapa', 'Puerto Barrios', \n",
    "                     'Morales', 'La Libertad', 'Nueva Concepcion', 'Metapan', 'Acajutla', 'Sonsonate',\n",
    "                     'Izalco', 'San Salvador', 'Apopa', 'Zaragoza', 'Colon', 'Santa Tecla', 'Usulutan',\n",
    "                     'San Miguel', 'La Union']\n",
    "cyber_train_X['city'] = cyber_train_X['city'].where(cyber_train_X['city'].apply(\n",
    "                                lambda x: x not in northern_triangle), other = 'Northern_Triangle')\n"
   ]
  },
  {
   "cell_type": "code",
   "execution_count": 190,
   "metadata": {},
   "outputs": [],
   "source": [
    "del sunni_cities\n",
    "del shia_cities\n",
    "del split_cities\n",
    "del ibadi_cities_libya\n",
    "del columbia_eln_cities\n",
    "del maoist_insurgency\n",
    "del w_africa_muslim\n",
    "del w_africa_mixed\n",
    "del w_africa_christian\n",
    "del Nepal_maoist_A\n",
    "del Nepal_maoist_B\n",
    "del Nepal_maoist_C\n",
    "del northern_triangle\n"
   ]
  },
  {
   "cell_type": "markdown",
   "metadata": {},
   "source": [
    "> ###### Test Input:"
   ]
  },
  {
   "cell_type": "code",
   "execution_count": 191,
   "metadata": {},
   "outputs": [],
   "source": [
    "sunni_cities = ['Mosul', 'Kirkuk', 'Sanandaj', 'Ramadi', 'Trabzone', 'Diarbekir', \n",
    "                'Damascus', 'Gwadar', 'Zahedan', 'Kandahar', 'Khiva', 'Fallujah',\n",
    "                'Dakhla', 'Tajura', 'Sabrata', 'Azizia', 'Kasabat', 'Misrata', 'Tripoli',\n",
    "                'Takrit', 'Tikrit']\n",
    "cyber_test_X['city'] = cyber_test_X['city'].where(cyber_test_X['city'].apply(\n",
    "                                lambda x: x not in sunni_cities), other = 'Sunni_Cities')"
   ]
  },
  {
   "cell_type": "code",
   "execution_count": 192,
   "metadata": {},
   "outputs": [],
   "source": [
    "shia_cities = ['Mecca', 'Najaf', 'Karbala', 'Samarra', 'Ahwaz', 'Basra', \n",
    "               'Medina', 'Tabriz', 'Tunceli', 'Zahran', 'Tehran', 'Rasht', 'Bojnurd',\n",
    "               'Hillah', 'Diwania', 'Khalis', 'Dujali', 'Balad', 'Khanaqin', \n",
    "               'Sargodha', 'Dadu', 'Moro']\n",
    "cyber_test_X['city'] = cyber_test_X['city'].where(cyber_test_X['city'].apply(\n",
    "                                lambda x: x not in shia_cities), other = 'Shia_Cities')"
   ]
  },
  {
   "cell_type": "code",
   "execution_count": 193,
   "metadata": {},
   "outputs": [],
   "source": [
    "split_cities = ['Kirmanshah', 'Baghdad', 'Kadhimia', 'Kuwait', 'Kars', 'Maras', \n",
    "               'Ankara', 'Sivas', 'Aleppo', 'Beirut', 'Abha', 'Jizan', 'Qazvin',\n",
    "               'Gunbad', 'Ashgabat', 'Mashhad', 'Herat', 'Merv', 'Charju', 'Bukhara',\n",
    "               'Samarkand', 'Mazari Sharif', 'Kandahar', 'Lar', 'Bandar Abbas', 'Dubai', \n",
    "               'Abu Dhabi', 'Tashkent', 'Erzurum', 'Konya', 'Izmir', 'Bursa', 'Istanbul',\n",
    "               'Tarhuna', ]\n",
    "cyber_test_X['city'] = cyber_test_X['city'].where(cyber_test_X['city'].apply(\n",
    "                                lambda x: x not in split_cities), other = 'Sunni_Shia_Split')"
   ]
  },
  {
   "cell_type": "code",
   "execution_count": 194,
   "metadata": {},
   "outputs": [],
   "source": [
    "ibadi_cities_libya = ['Nalut', 'Zentan', 'Gharian', 'Dafnia', 'Abu Kammash', 'Zuwara', \n",
    "               '', '', '', '', '', '', '']\n",
    "cyber_test_X['city'] = cyber_test_X['city'].where(cyber_test_X['city'].apply(\n",
    "                                lambda x: x not in ibadi_cities_libya), other = 'Ibadi_Cities_Libya')\n"
   ]
  },
  {
   "cell_type": "code",
   "execution_count": 195,
   "metadata": {},
   "outputs": [],
   "source": [
    "columbia_eln_cities = ['Riosucio', 'Buenaventura', 'Cali', 'Popayán', 'Bucaramanga',\n",
    "                       'Barrancabermeja', 'Cucuta', 'Santa Rita']\n",
    "cyber_test_X['city'] = cyber_test_X['city'].where(cyber_test_X['city'].apply(\n",
    "                                lambda x: x not in columbia_eln_cities), other = 'ELN_Cities')"
   ]
  },
  {
   "cell_type": "code",
   "execution_count": 196,
   "metadata": {},
   "outputs": [],
   "source": [
    "maoist_insurgency = ['Bhagalpur', 'Arwal', 'Khagaria', 'Rohtas', 'Kaimur',\n",
    "                       'Bhabua', 'Munger', 'Monghyr', 'Vaishali',\n",
    "                    'Dhanbad', 'Pakur', 'Koderma', 'Palamu', 'Balaghat',\n",
    "                     'Katni', 'Khandwa', 'Rajgarh', 'Shajapur']\n",
    "cyber_test_X['city'] = cyber_test_X['city'].where(cyber_test_X['city'].apply(\n",
    "                                lambda x: x not in maoist_insurgency), other = 'Maoist_Insurgency')\n"
   ]
  },
  {
   "cell_type": "code",
   "execution_count": 197,
   "metadata": {},
   "outputs": [],
   "source": [
    "w_africa_muslim = ['Touba', 'N\\'Djamena', 'Maiduguri', 'Zaria', 'Sokoto', 'Kenema',\n",
    "                   'Cetoua', 'Mopte', 'Bobo-Dioulasso', 'Kayes', 'Monrovia']\n",
    "cyber_test_X['city'] = cyber_test_X['city'].where(cyber_test_X['city'].apply(\n",
    "                                lambda x: x not in w_africa_muslim), other = 'Muslim_West_Africa')\n"
   ]
  },
  {
   "cell_type": "code",
   "execution_count": 198,
   "metadata": {},
   "outputs": [],
   "source": [
    "w_africa_mixed = ['Dogondutchi', 'Niamey', 'Parakou', 'Abuja', 'Kaduna', 'Kankan',\n",
    "                  'Lagos', 'Port Harcourt', 'Couala', 'Yaounde', 'Kumasi', 'Bamako',\n",
    "                  'Bertoua', 'Liberville', 'Port-Gentil', 'Zinder', 'Ouagadougou',\n",
    "                  'Freetown', 'Conakry', 'Bissau', 'Banjul', 'Dakar']\n",
    "cyber_test_X['city'] = cyber_test_X['city'].where(cyber_test_X['city'].apply(\n",
    "                                lambda x: x not in w_africa_mixed), other = 'Mixed_West_Africa')\n"
   ]
  },
  {
   "cell_type": "code",
   "execution_count": 199,
   "metadata": {},
   "outputs": [],
   "source": [
    "w_africa_christian = ['Benin City', 'Onitsha', 'Abidjan', 'Takoradi', 'Accra',\n",
    "                       'Lome']\n",
    "cyber_test_X['city'] = cyber_test_X['city'].where(cyber_test_X['city'].apply(\n",
    "                                lambda x: x not in w_africa_christian), other = 'Christian_West_Africa')\n"
   ]
  },
  {
   "cell_type": "code",
   "execution_count": 200,
   "metadata": {},
   "outputs": [],
   "source": [
    "# Nepal Maoist Conflict - Class A According to SATP\n",
    "Nepal_maoist_A = ['Musikot', 'Rukumkot', 'Jajarkot District', 'Salyan', 'Pyuthan', 'Gajul', 'Rank', 'Budagaun',\n",
    "                  'Kalikot District', 'Rolpa', 'Rolpa District', 'Rukum District', 'Khalanga']\n",
    "cyber_test_X['city'] = cyber_test_X['city'].where(cyber_test_X['city'].apply(\n",
    "                                lambda x: x not in Nepal_maoist_A), other = 'Nepal_maoist_A')\n"
   ]
  },
  {
   "cell_type": "code",
   "execution_count": 201,
   "metadata": {},
   "outputs": [],
   "source": [
    "# Nepal Maoist Conflict - Class B According to SATP\n",
    "Nepal_maoist_B = ['Charikot', 'Dolakha', 'Jiri', 'Ramechhap', 'Sindhuli Garhi', 'Sindhuli District', 'Dhungrebas',\n",
    "                  'Panaoti', 'Gorkha', 'Tulsipur', 'Ghorahi', 'Surkhet', 'Birendranagar',\n",
    "                  'Accham', 'Kamal Bajar', 'Dang', 'Dang District']\n",
    "cyber_test_X['city'] = cyber_test_X['city'].where(cyber_test_X['city'].apply(\n",
    "                                lambda x: x not in Nepal_maoist_B), other = 'Nepal_maoist_B')\n"
   ]
  },
  {
   "cell_type": "code",
   "execution_count": 202,
   "metadata": {},
   "outputs": [],
   "source": [
    "# Nepal Maoist Conflict - Class C According to SATP\n",
    "Nepal_maoist_C = ['Khotang Bajar', 'Khotang District', 'Khandanda', 'Okhaldhunga', 'Rumjatar', 'Udayapur Garhi',\n",
    "                  'Rasuwa District', 'Gaighat', 'Hitura', 'Makwanpur Garhi', 'Patan', 'Baglung', 'Dhorpatan',\n",
    "                  'Bardiya', 'Gulariya', 'Dailekh', 'Dailekh District', 'Jumla', 'Dhading District', \n",
    "                  'Udayapur District', 'Lalitpur', 'Hetauda', 'Gulariya']\n",
    "cyber_test_X['city'] = cyber_test_X['city'].where(cyber_test_X['city'].apply(\n",
    "                                lambda x: x not in Nepal_maoist_C), other = 'Nepal_maoist_C')\n"
   ]
  },
  {
   "cell_type": "code",
   "execution_count": 203,
   "metadata": {},
   "outputs": [],
   "source": [
    "northern_triangle = ['Tegucigalpa', 'San Pedro Sula', 'Guatemala City', 'Villa Nueva', 'Villa Canales', \n",
    "                     'Mixco', 'San Jan Sacatepequez', 'Chinautla', 'Escuintla', 'Jalapa', 'Puerto Barrios', \n",
    "                     'Morales', 'La Libertad', 'Nueva Concepcion', 'Metapan', 'Acajutla', 'Sonsonate',\n",
    "                     'Izalco', 'San Salvador', 'Apopa', 'Zaragoza', 'Colon', 'Santa Tecla', 'Usulutan',\n",
    "                     'San Miguel', 'La Union']\n",
    "cyber_test_X['city'] = cyber_test_X['city'].where(cyber_test_X['city'].apply(\n",
    "                                lambda x: x not in northern_triangle), other = 'Northern_Triangle')\n"
   ]
  },
  {
   "cell_type": "code",
   "execution_count": 204,
   "metadata": {},
   "outputs": [
    {
     "data": {
      "text/plain": [
       "0"
      ]
     },
     "execution_count": 204,
     "metadata": {},
     "output_type": "execute_result"
    }
   ],
   "source": [
    "del sunni_cities\n",
    "del shia_cities\n",
    "del split_cities\n",
    "del ibadi_cities_libya\n",
    "del columbia_eln_cities\n",
    "del maoist_insurgency\n",
    "del w_africa_muslim\n",
    "del w_africa_mixed\n",
    "del w_africa_christian\n",
    "del Nepal_maoist_A\n",
    "del Nepal_maoist_B\n",
    "del Nepal_maoist_C\n",
    "del northern_triangle\n",
    "gc.collect()"
   ]
  },
  {
   "cell_type": "markdown",
   "metadata": {},
   "source": [
    "### 2. Preliminary Visualizations and Exploration:\n",
    "\n",
    "> Here we take a look at some of the correlations and relationships between our features/columns and see what we might want to focus on with our models."
   ]
  },
  {
   "cell_type": "markdown",
   "metadata": {},
   "source": [
    "#### A. Correlation:"
   ]
  },
  {
   "cell_type": "code",
   "execution_count": 205,
   "metadata": {},
   "outputs": [
    {
     "data": {
      "image/png": "[encoded data removed]",
      "text/plain": [
       "<Figure size 936x720 with 2 Axes>"
      ]
     },
     "metadata": {
      "needs_background": "light"
     },
     "output_type": "display_data"
    }
   ],
   "source": [
    "f, ax = plt.subplots(figsize = (13, 10))\n",
    "sns.heatmap(cyber_train_X.corr(), annot = True)\n",
    "plt.show()"
   ]
  },
  {
   "cell_type": "markdown",
   "metadata": {},
   "source": [
    "#### B. Most Active Groups:"
   ]
  },
  {
   "cell_type": "code",
   "execution_count": 245,
   "metadata": {},
   "outputs": [],
   "source": [
    "# Most prolific groups:\n",
    "\n",
    "actives = cyber_train_X['group_name'].value_counts().head(10).drop('Unknown')\n",
    "mask3 = cyber_train_X['group_name'].map(lambda x: x in actives)\n",
    "actives_df = cyber_train_X[mask3]\n",
    "\n",
    "temp_output = cyber_train_Y.loc[actives_df.index]"
   ]
  },
  {
   "cell_type": "code",
   "execution_count": 246,
   "metadata": {},
   "outputs": [],
   "source": [
    "beta = actives.keys()\n",
    "gamma = actives.values"
   ]
  },
  {
   "cell_type": "code",
   "execution_count": 248,
   "metadata": {
    "scrolled": false
   },
   "outputs": [
    {
     "data": {
      "image/png": "[encoded data removed]",
      "text/plain": [
       "<Figure size 864x576 with 1 Axes>"
      ]
     },
     "metadata": {
      "needs_background": "light"
     },
     "output_type": "display_data"
    }
   ],
   "source": [
    "f, ax = plt.subplots(figsize = (12, 8))\n",
    "sns.pointplot(x = actives_df['group_name'], y = temp_output.success)\n",
    "ax.set_xticklabels(labels = beta, rotation = '90')\n",
    "ax.set_xlabel('Name of Terrorist Group')\n",
    "ax.set_ylabel('Success Rate')\n",
    "ax.set_title('Most Active Terror Groups and Their Success Rates')\n",
    "plt.show()"
   ]
  },
  {
   "cell_type": "markdown",
   "metadata": {},
   "source": [
    "#### C.  Countries with Most Actifity:"
   ]
  },
  {
   "cell_type": "code",
   "execution_count": 209,
   "metadata": {},
   "outputs": [],
   "source": [
    "# Most Successful Hot-Spots:\n",
    "hot_countries = cyber_train_X['country_txt'].value_counts().head(10)\n",
    "mask3 = cyber_train_X['country_txt'].map(lambda x: x in hot_countries)\n",
    "hot_countries_df = cyber_train_X[mask3]\n",
    "phi = hot_countries_df['country_txt'].value_counts().head(10)\n",
    "\n",
    "temp_output2 = cyber_train_Y.loc[hot_countries_df.index]\n"
   ]
  },
  {
   "cell_type": "code",
   "execution_count": 238,
   "metadata": {},
   "outputs": [],
   "source": [
    "beta = phi.keys()\n",
    "gamma = phi.values"
   ]
  },
  {
   "cell_type": "code",
   "execution_count": 241,
   "metadata": {
    "scrolled": true
   },
   "outputs": [
    {
     "data": {
      "image/png": "[encoded data removed]",
      "text/plain": [
       "<Figure size 864x576 with 1 Axes>"
      ]
     },
     "metadata": {
      "needs_background": "light"
     },
     "output_type": "display_data"
    }
   ],
   "source": [
    "f, ax = plt.subplots(figsize = (12, 8))\n",
    "sns.pointplot(x = beta, y = gamma)\n",
    "ax.set_xticklabels(labels = beta, rotation = '90')\n",
    "ax.set_xlabel('Name of Country')\n",
    "ax.set_ylabel('Success Rate')\n",
    "ax.set_title('Countries with Most Activity and Attack Success Rates')\n",
    "plt.show()"
   ]
  },
  {
   "cell_type": "code",
   "execution_count": 249,
   "metadata": {},
   "outputs": [],
   "source": [
    "del actives\n",
    "del actives_df\n",
    "del temp_output\n",
    "del beta\n",
    "del hot_countries\n",
    "del hot_countries_df\n",
    "del phi\n",
    "del temp_output2\n",
    "del mask3"
   ]
  },
  {
   "cell_type": "code",
   "execution_count": 250,
   "metadata": {},
   "outputs": [
    {
     "data": {
      "text/plain": [
       "20701"
      ]
     },
     "execution_count": 250,
     "metadata": {},
     "output_type": "execute_result"
    }
   ],
   "source": [
    "gc.collect()"
   ]
  },
  {
   "cell_type": "code",
   "execution_count": null,
   "metadata": {},
   "outputs": [],
   "source": []
  },
  {
   "cell_type": "code",
   "execution_count": null,
   "metadata": {},
   "outputs": [],
   "source": []
  },
  {
   "cell_type": "code",
   "execution_count": null,
   "metadata": {},
   "outputs": [],
   "source": []
  },
  {
   "cell_type": "code",
   "execution_count": null,
   "metadata": {},
   "outputs": [],
   "source": []
  },
  {
   "cell_type": "code",
   "execution_count": null,
   "metadata": {},
   "outputs": [],
   "source": []
  },
  {
   "cell_type": "code",
   "execution_count": null,
   "metadata": {},
   "outputs": [],
   "source": []
  },
  {
   "cell_type": "markdown",
   "metadata": {},
   "source": [
    "### 3. Feature Selection:\n",
    "\n",
    "> Getting closer to modeling and using feature selection algorithms to see what will help us best minimize our feature set while maintaining the most amount of variation in our data.\n",
    "\n",
    "> We mainly focused on Select KBest within sklearn and PCA analysis to give us two perspectives on the data (one that we can parse out as humans, namely Select KBest, and one that is mostly computationally described, namely PCA). "
   ]
  },
  {
   "cell_type": "markdown",
   "metadata": {},
   "source": [
    "#### A. Select K-Best:"
   ]
  },
  {
   "cell_type": "markdown",
   "metadata": {},
   "source": [
    "##### Assessing the Overall DataFrame and its Features:"
   ]
  },
  {
   "cell_type": "code",
   "execution_count": 79,
   "metadata": {},
   "outputs": [],
   "source": [
    "from sklearn import feature_selection"
   ]
  },
  {
   "cell_type": "code",
   "execution_count": 80,
   "metadata": {},
   "outputs": [],
   "source": [
    "# Getting dummies on our training and test sets (slight wrangling involved):\n",
    "  # First dropping any na's:\n",
    "cyber_train_X.dropna(axis = 0, inplace = True)\n",
    "cyber_test_X.dropna(axis = 0, inplace = True)\n",
    "\n",
    "  # Then grabbing an index to make sure we maintain our train/test split:\n",
    "train_index = cyber_train_X.index\n",
    "test_index = cyber_test_X.index\n",
    "\n",
    "  # Dummy-time (we combined the dataframes here to make sure we didn't get duplicated dummies in both \n",
    "    # training and test sets):\n",
    "dummy_prep = pd.concat([cyber_train_X, cyber_test_X]).drop(['group_name', 'city', 'weapontxt'], axis = 1)\n",
    "dummy_1 = pd.get_dummies(dummy_prep)\n",
    "\n",
    "  # Re-filtering our Training/Test Inputs:\n",
    "cyber_train_dummy_X = dummy_1.loc[train_index]\n",
    "cyber_test_dummy_X = dummy_1.loc[test_index]\n",
    "\n",
    "  # Re-filtering our Training/Test Outputs:\n",
    "cyber_train_dummy_Y = cyber_train_Y.loc[train_index]\n",
    "cyber_test_dummy_Y = cyber_test_Y.loc[test_index]"
   ]
  },
  {
   "cell_type": "code",
   "execution_count": 81,
   "metadata": {},
   "outputs": [
    {
     "name": "stdout",
     "output_type": "stream",
     "text": [
      "(5285, 6945)\n",
      "(1762, 6945)\n"
     ]
    }
   ],
   "source": [
    "# Making sure we have the same sizes still:\n",
    "print(cyber_train_dummy_X.shape)\n",
    "print(cyber_test_dummy_X.shape)"
   ]
  },
  {
   "cell_type": "code",
   "execution_count": 82,
   "metadata": {},
   "outputs": [],
   "source": [
    "# Fitting SelectKBest to our Features and output:\n",
    "  # Here we tried a number of sizes: 20, 30, 500 and 700. We found that 25-30 got us the best results.\n",
    "KBest_1 = feature_selection.SelectKBest(k = 25) \n",
    "cyber_train_KBest1 = KBest_1.fit_transform(cyber_train_dummy_X, cyber_train_dummy_Y)\n",
    "\n",
    "# Transforming the test-set\n",
    "cyber_test_KBest1 = KBest_1.transform(cyber_test_dummy_X)"
   ]
  },
  {
   "cell_type": "code",
   "execution_count": 83,
   "metadata": {
    "scrolled": true
   },
   "outputs": [
    {
     "data": {
      "text/html": [
       "<div>\n",
       "<style scoped>\n",
       "    .dataframe tbody tr th:only-of-type {\n",
       "        vertical-align: middle;\n",
       "    }\n",
       "\n",
       "    .dataframe tbody tr th {\n",
       "        vertical-align: top;\n",
       "    }\n",
       "\n",
       "    .dataframe thead th {\n",
       "        text-align: right;\n",
       "    }\n",
       "</style>\n",
       "<table border=\"1\" class=\"dataframe\">\n",
       "  <thead>\n",
       "    <tr style=\"text-align: right;\">\n",
       "      <th></th>\n",
       "      <th>0</th>\n",
       "    </tr>\n",
       "  </thead>\n",
       "  <tbody>\n",
       "    <tr>\n",
       "      <th>0</th>\n",
       "      <td>crit3</td>\n",
       "    </tr>\n",
       "    <tr>\n",
       "      <th>1</th>\n",
       "      <td>doubt</td>\n",
       "    </tr>\n",
       "    <tr>\n",
       "      <th>2</th>\n",
       "      <td>country_txt_Germany</td>\n",
       "    </tr>\n",
       "    <tr>\n",
       "      <th>3</th>\n",
       "      <td>country_txt_Ireland</td>\n",
       "    </tr>\n",
       "    <tr>\n",
       "      <th>4</th>\n",
       "      <td>region_txt_Western Europe</td>\n",
       "    </tr>\n",
       "    <tr>\n",
       "      <th>5</th>\n",
       "      <td>attack_1txt_Assassination</td>\n",
       "    </tr>\n",
       "    <tr>\n",
       "      <th>6</th>\n",
       "      <td>attack_1txt_Bombing/Explosion</td>\n",
       "    </tr>\n",
       "    <tr>\n",
       "      <th>7</th>\n",
       "      <td>attack_1txt_Hostage Taking (Kidnapping)</td>\n",
       "    </tr>\n",
       "    <tr>\n",
       "      <th>8</th>\n",
       "      <td>target_1txt_Military</td>\n",
       "    </tr>\n",
       "    <tr>\n",
       "      <th>9</th>\n",
       "      <td>target_1txt_Private Citizens &amp; Property</td>\n",
       "    </tr>\n",
       "    <tr>\n",
       "      <th>10</th>\n",
       "      <td>target_1txt_Unknown</td>\n",
       "    </tr>\n",
       "    <tr>\n",
       "      <th>11</th>\n",
       "      <td>sub_targettxt_Gov_Figure1</td>\n",
       "    </tr>\n",
       "    <tr>\n",
       "      <th>12</th>\n",
       "      <td>sub_targettxt_Political</td>\n",
       "    </tr>\n",
       "    <tr>\n",
       "      <th>13</th>\n",
       "      <td>sub_targettxt_Unnamed Civilian/Unspecified</td>\n",
       "    </tr>\n",
       "    <tr>\n",
       "      <th>14</th>\n",
       "      <td>corp1_Council of Representatives of Iraq</td>\n",
       "    </tr>\n",
       "    <tr>\n",
       "      <th>15</th>\n",
       "      <td>corp1_Election Commission of India</td>\n",
       "    </tr>\n",
       "    <tr>\n",
       "      <th>16</th>\n",
       "      <td>corp1_Government of Nineveh</td>\n",
       "    </tr>\n",
       "    <tr>\n",
       "      <th>17</th>\n",
       "      <td>corp1_Unified Communist Party of Nepal: Maoist...</td>\n",
       "    </tr>\n",
       "    <tr>\n",
       "      <th>18</th>\n",
       "      <td>specific_target_A police chief</td>\n",
       "    </tr>\n",
       "    <tr>\n",
       "      <th>19</th>\n",
       "      <td>specific_target_Polling Station</td>\n",
       "    </tr>\n",
       "    <tr>\n",
       "      <th>20</th>\n",
       "      <td>victim_nationalitytxt_Ireland</td>\n",
       "    </tr>\n",
       "    <tr>\n",
       "      <th>21</th>\n",
       "      <td>sub_weapontxt_Letter Bomb</td>\n",
       "    </tr>\n",
       "    <tr>\n",
       "      <th>22</th>\n",
       "      <td>sub_weapontxt_Other Explosive Type</td>\n",
       "    </tr>\n",
       "    <tr>\n",
       "      <th>23</th>\n",
       "      <td>sub_weapontxt_Pipe Bomb</td>\n",
       "    </tr>\n",
       "    <tr>\n",
       "      <th>24</th>\n",
       "      <td>sub_weapontxt_Time Fuse</td>\n",
       "    </tr>\n",
       "  </tbody>\n",
       "</table>\n",
       "</div>"
      ],
      "text/plain": [
       "                                                    0\n",
       "0                                               crit3\n",
       "1                                               doubt\n",
       "2                                 country_txt_Germany\n",
       "3                                 country_txt_Ireland\n",
       "4                           region_txt_Western Europe\n",
       "5                           attack_1txt_Assassination\n",
       "6                       attack_1txt_Bombing/Explosion\n",
       "7             attack_1txt_Hostage Taking (Kidnapping)\n",
       "8                                target_1txt_Military\n",
       "9             target_1txt_Private Citizens & Property\n",
       "10                                target_1txt_Unknown\n",
       "11                          sub_targettxt_Gov_Figure1\n",
       "12                            sub_targettxt_Political\n",
       "13         sub_targettxt_Unnamed Civilian/Unspecified\n",
       "14           corp1_Council of Representatives of Iraq\n",
       "15                 corp1_Election Commission of India\n",
       "16                        corp1_Government of Nineveh\n",
       "17  corp1_Unified Communist Party of Nepal: Maoist...\n",
       "18                     specific_target_A police chief\n",
       "19                    specific_target_Polling Station\n",
       "20                      victim_nationalitytxt_Ireland\n",
       "21                          sub_weapontxt_Letter Bomb\n",
       "22                 sub_weapontxt_Other Explosive Type\n",
       "23                            sub_weapontxt_Pipe Bomb\n",
       "24                            sub_weapontxt_Time Fuse"
      ]
     },
     "execution_count": 83,
     "metadata": {},
     "output_type": "execute_result"
    }
   ],
   "source": [
    "# Creating a DF with the top 25 features:\n",
    "feature_mask = KBest_1.get_support(indices = True)\n",
    "KBest_1_features = pd.DataFrame(cyber_train_dummy_X.columns[feature_mask])\n",
    "\n",
    "KBest_1_features"
   ]
  },
  {
   "cell_type": "markdown",
   "metadata": {},
   "source": [
    "Here, we are getting a lot of return from the attack, target, sub-target and a few country features.  The doubt column indicates whether doubt exists regarding the classification of this incident as a terrorist incident, as opposed to some sort of other crime.  High-correlation here would make sense, but for now, we will focus on the columns below as the doubt feature is potentially over-correlated."
   ]
  },
  {
   "cell_type": "markdown",
   "metadata": {},
   "source": [
    "##### Assessing Individual Features:\n",
    "\n",
    "> Running SelectKBest on a few features individually to see which of their values is selected as most important.  This will help us consolidate some of those values and make a more specific dataframe. \n"
   ]
  },
  {
   "cell_type": "markdown",
   "metadata": {},
   "source": [
    "> ###### Group_name:"
   ]
  },
  {
   "cell_type": "code",
   "execution_count": 84,
   "metadata": {},
   "outputs": [],
   "source": [
    "# Getting dummies on our training and test sets (slight wrangling involved):\n",
    "names_train_X = cyber_train_X['group_name']\n",
    "names_test_X = cyber_test_X['group_name']\n",
    "\n",
    "names_train_index = cyber_train_X['group_name'].index\n",
    "names_test_index = cyber_test_X['group_name'].index\n",
    "\n",
    "names_dummy_prep = pd.concat([names_train_X, names_test_X])\n",
    "names_dummy_1 = pd.get_dummies(names_dummy_prep)\n",
    "\n",
    "# Filtering Training/Test Inputs:\n",
    "names_train_dummy_X = names_dummy_1.loc[names_train_index]\n",
    "names_test_dummy_X = names_dummy_1.loc[names_test_index]\n",
    "\n",
    "# Filtering Training Outputs:\n",
    "names_train_dummy_Y = cyber_train_Y.loc[names_train_index]\n",
    "names_test_dummy_Y = cyber_test_Y.loc[names_test_index]"
   ]
  },
  {
   "cell_type": "code",
   "execution_count": 85,
   "metadata": {},
   "outputs": [],
   "source": [
    "# Fitting model to our features and output.\n",
    "  # Again, we tried 30, 50 and 150, here. It seemed like 25-30 features gave us the best results.\n",
    "KBest_names = feature_selection.SelectKBest(k = 25)  \n",
    "names_train_KBest = KBest_names.fit_transform(names_train_dummy_X, names_train_dummy_Y)\n",
    "\n",
    "# Transforming our test set.\n",
    "names_test_KBest = KBest_names.transform(names_test_dummy_X)"
   ]
  },
  {
   "cell_type": "code",
   "execution_count": 86,
   "metadata": {
    "scrolled": true
   },
   "outputs": [
    {
     "data": {
      "text/html": [
       "<div>\n",
       "<style scoped>\n",
       "    .dataframe tbody tr th:only-of-type {\n",
       "        vertical-align: middle;\n",
       "    }\n",
       "\n",
       "    .dataframe tbody tr th {\n",
       "        vertical-align: top;\n",
       "    }\n",
       "\n",
       "    .dataframe thead th {\n",
       "        text-align: right;\n",
       "    }\n",
       "</style>\n",
       "<table border=\"1\" class=\"dataframe\">\n",
       "  <thead>\n",
       "    <tr style=\"text-align: right;\">\n",
       "      <th></th>\n",
       "      <th>0</th>\n",
       "    </tr>\n",
       "  </thead>\n",
       "  <tbody>\n",
       "    <tr>\n",
       "      <th>0</th>\n",
       "      <td>Armed Commandos of Liberation</td>\n",
       "    </tr>\n",
       "    <tr>\n",
       "      <th>1</th>\n",
       "      <td>Bangladesh Nationalist Party (BNP)</td>\n",
       "    </tr>\n",
       "    <tr>\n",
       "      <th>2</th>\n",
       "      <td>Besi Merah Putih Militia</td>\n",
       "    </tr>\n",
       "    <tr>\n",
       "      <th>3</th>\n",
       "      <td>Black Liberation Army</td>\n",
       "    </tr>\n",
       "    <tr>\n",
       "      <th>4</th>\n",
       "      <td>Communist Party of Nepal - Maoist (CPN-Maoist-...</td>\n",
       "    </tr>\n",
       "    <tr>\n",
       "      <th>5</th>\n",
       "      <td>Communist Party of Nepal-Maoist (Baidya)</td>\n",
       "    </tr>\n",
       "    <tr>\n",
       "      <th>6</th>\n",
       "      <td>Dima Halao Daoga (DHD)</td>\n",
       "    </tr>\n",
       "    <tr>\n",
       "      <th>7</th>\n",
       "      <td>Hekla Reception Committee-Initiative for More ...</td>\n",
       "    </tr>\n",
       "    <tr>\n",
       "      <th>8</th>\n",
       "      <td>Informal Anarchist Federation</td>\n",
       "    </tr>\n",
       "    <tr>\n",
       "      <th>9</th>\n",
       "      <td>Irish_Separatists</td>\n",
       "    </tr>\n",
       "    <tr>\n",
       "      <th>10</th>\n",
       "      <td>Loyalists</td>\n",
       "    </tr>\n",
       "    <tr>\n",
       "      <th>11</th>\n",
       "      <td>Maoist Communist Party of Manipur</td>\n",
       "    </tr>\n",
       "    <tr>\n",
       "      <th>12</th>\n",
       "      <td>Middle_Eastern_Religious</td>\n",
       "    </tr>\n",
       "    <tr>\n",
       "      <th>13</th>\n",
       "      <td>Muslim Brotherhood</td>\n",
       "    </tr>\n",
       "    <tr>\n",
       "      <th>14</th>\n",
       "      <td>National Socialist Council of Nagaland</td>\n",
       "    </tr>\n",
       "    <tr>\n",
       "      <th>15</th>\n",
       "      <td>Organization for Revolutionary Self Defense</td>\n",
       "    </tr>\n",
       "    <tr>\n",
       "      <th>16</th>\n",
       "      <td>Popular Resistance (Laiki Antistasi)</td>\n",
       "    </tr>\n",
       "    <tr>\n",
       "      <th>17</th>\n",
       "      <td>Pro Hartal Activists</td>\n",
       "    </tr>\n",
       "    <tr>\n",
       "      <th>18</th>\n",
       "      <td>Revolutionary Struggle</td>\n",
       "    </tr>\n",
       "    <tr>\n",
       "      <th>19</th>\n",
       "      <td>Riyadus-Salikhin Reconnaissance and Sabotage B...</td>\n",
       "    </tr>\n",
       "    <tr>\n",
       "      <th>20</th>\n",
       "      <td>Tawhid and Jihad</td>\n",
       "    </tr>\n",
       "    <tr>\n",
       "      <th>21</th>\n",
       "      <td>The World United Formosans for Independence (W...</td>\n",
       "    </tr>\n",
       "    <tr>\n",
       "      <th>22</th>\n",
       "      <td>Tripoli Province of the Islamic State</td>\n",
       "    </tr>\n",
       "    <tr>\n",
       "      <th>23</th>\n",
       "      <td>Unknown</td>\n",
       "    </tr>\n",
       "    <tr>\n",
       "      <th>24</th>\n",
       "      <td>White extremists</td>\n",
       "    </tr>\n",
       "  </tbody>\n",
       "</table>\n",
       "</div>"
      ],
      "text/plain": [
       "                                                    0\n",
       "0                       Armed Commandos of Liberation\n",
       "1                  Bangladesh Nationalist Party (BNP)\n",
       "2                            Besi Merah Putih Militia\n",
       "3                               Black Liberation Army\n",
       "4   Communist Party of Nepal - Maoist (CPN-Maoist-...\n",
       "5            Communist Party of Nepal-Maoist (Baidya)\n",
       "6                              Dima Halao Daoga (DHD)\n",
       "7   Hekla Reception Committee-Initiative for More ...\n",
       "8                       Informal Anarchist Federation\n",
       "9                                   Irish_Separatists\n",
       "10                                          Loyalists\n",
       "11                  Maoist Communist Party of Manipur\n",
       "12                           Middle_Eastern_Religious\n",
       "13                                 Muslim Brotherhood\n",
       "14             National Socialist Council of Nagaland\n",
       "15        Organization for Revolutionary Self Defense\n",
       "16               Popular Resistance (Laiki Antistasi)\n",
       "17                               Pro Hartal Activists\n",
       "18                             Revolutionary Struggle\n",
       "19  Riyadus-Salikhin Reconnaissance and Sabotage B...\n",
       "20                                   Tawhid and Jihad\n",
       "21  The World United Formosans for Independence (W...\n",
       "22              Tripoli Province of the Islamic State\n",
       "23                                            Unknown\n",
       "24                                   White extremists"
      ]
     },
     "execution_count": 86,
     "metadata": {},
     "output_type": "execute_result"
    }
   ],
   "source": [
    "# Summarizing the scores for those top 25 features in a df:\n",
    "\n",
    "names_mask = KBest_names.get_support(indices = True)\n",
    "KBest_names_features = pd.DataFrame(names_train_dummy_X.columns[names_mask])\n",
    "\n",
    "KBest_names_features"
   ]
  },
  {
   "cell_type": "markdown",
   "metadata": {},
   "source": [
    "It looks like some of our groupings from above made it into the top-25 features, which is reassuring that our efforts above produced a result.  This also gives us a slightly broader view of the terrorist groups that are highly active, as opposed to overly-specific groups that might wash out the activity in other countries.\n",
    "\n",
    "This also points to another issue for consideration when performing future work on the dataset. When making these groups and filters, one will want to be sure to create groups that consider as much of the globe as possible. Otherwise, one would run the risk of coagulating a few groups together from one area, thereby increasing their significance, and over-powering the significance of other groups.  The groups we created above were an attempt at creating well-represented portions of the globe.  It would benefit, however, from more time and research so as to further tweak these groupings towards a higher accuracy."
   ]
  },
  {
   "cell_type": "markdown",
   "metadata": {},
   "source": [
    "> ###### City:"
   ]
  },
  {
   "cell_type": "code",
   "execution_count": 87,
   "metadata": {},
   "outputs": [],
   "source": [
    "# Getting dummies on our training and test sets (slight wrangling involved):\n",
    "city_train_X = cyber_train_X['city']\n",
    "city_test_X = cyber_test_X['city']\n",
    "\n",
    "city_train_index = cyber_train_X['city'].index\n",
    "city_test_index = cyber_test_X['city'].index\n",
    "\n",
    "city_dummy_prep = pd.concat([city_train_X, city_test_X])\n",
    "city_dummy_1 = pd.get_dummies(city_dummy_prep)\n",
    "\n",
    "# Training/Test Inputs:\n",
    "city_train_dummy_X = city_dummy_1.loc[city_train_index]\n",
    "city_test_dummy_X = city_dummy_1.loc[city_test_index]\n",
    "\n",
    "# Training Output:\n",
    "city_train_dummy_Y = cyber_train_Y.loc[city_train_index]\n",
    "city_test_dummy_Y = cyber_test_Y.loc[city_test_index]"
   ]
  },
  {
   "cell_type": "code",
   "execution_count": 88,
   "metadata": {},
   "outputs": [],
   "source": [
    "# Fitting model to our features and output.\n",
    "KBest_city = feature_selection.SelectKBest(k = 25) # Tried 30 and 150. 25-30 was our best range.\n",
    "city_train_KBest = KBest_city.fit_transform(city_train_dummy_X, city_train_dummy_Y)\n",
    "\n",
    "# Transforming our test set:\n",
    "city_test_KBest = KBest_city.transform(city_test_dummy_X)"
   ]
  },
  {
   "cell_type": "code",
   "execution_count": 89,
   "metadata": {},
   "outputs": [
    {
     "data": {
      "text/html": [
       "<div>\n",
       "<style scoped>\n",
       "    .dataframe tbody tr th:only-of-type {\n",
       "        vertical-align: middle;\n",
       "    }\n",
       "\n",
       "    .dataframe tbody tr th {\n",
       "        vertical-align: top;\n",
       "    }\n",
       "\n",
       "    .dataframe thead th {\n",
       "        text-align: right;\n",
       "    }\n",
       "</style>\n",
       "<table border=\"1\" class=\"dataframe\">\n",
       "  <thead>\n",
       "    <tr style=\"text-align: right;\">\n",
       "      <th></th>\n",
       "      <th>0</th>\n",
       "    </tr>\n",
       "  </thead>\n",
       "  <tbody>\n",
       "    <tr>\n",
       "      <th>0</th>\n",
       "      <td>Aguada</td>\n",
       "    </tr>\n",
       "    <tr>\n",
       "      <th>1</th>\n",
       "      <td>Baharak district</td>\n",
       "    </tr>\n",
       "    <tr>\n",
       "      <th>2</th>\n",
       "      <td>Belfast</td>\n",
       "    </tr>\n",
       "    <tr>\n",
       "      <th>3</th>\n",
       "      <td>Bosaso</td>\n",
       "    </tr>\n",
       "    <tr>\n",
       "      <th>4</th>\n",
       "      <td>Dhaka</td>\n",
       "    </tr>\n",
       "    <tr>\n",
       "      <th>5</th>\n",
       "      <td>Dublin</td>\n",
       "    </tr>\n",
       "    <tr>\n",
       "      <th>6</th>\n",
       "      <td>Faizabad</td>\n",
       "    </tr>\n",
       "    <tr>\n",
       "      <th>7</th>\n",
       "      <td>Frankfurt</td>\n",
       "    </tr>\n",
       "    <tr>\n",
       "      <th>8</th>\n",
       "      <td>Imphal</td>\n",
       "    </tr>\n",
       "    <tr>\n",
       "      <th>9</th>\n",
       "      <td>Mingora</td>\n",
       "    </tr>\n",
       "    <tr>\n",
       "      <th>10</th>\n",
       "      <td>Pagadian</td>\n",
       "    </tr>\n",
       "    <tr>\n",
       "      <th>11</th>\n",
       "      <td>Paris</td>\n",
       "    </tr>\n",
       "    <tr>\n",
       "      <th>12</th>\n",
       "      <td>Tibu</td>\n",
       "    </tr>\n",
       "    <tr>\n",
       "      <th>13</th>\n",
       "      <td>Tiguma</td>\n",
       "    </tr>\n",
       "    <tr>\n",
       "      <th>14</th>\n",
       "      <td>Tirap district</td>\n",
       "    </tr>\n",
       "    <tr>\n",
       "      <th>15</th>\n",
       "      <td>Tissa</td>\n",
       "    </tr>\n",
       "    <tr>\n",
       "      <th>16</th>\n",
       "      <td>Tral</td>\n",
       "    </tr>\n",
       "    <tr>\n",
       "      <th>17</th>\n",
       "      <td>Tuddingan</td>\n",
       "    </tr>\n",
       "    <tr>\n",
       "      <th>18</th>\n",
       "      <td>Turin</td>\n",
       "    </tr>\n",
       "    <tr>\n",
       "      <th>19</th>\n",
       "      <td>Urgun district</td>\n",
       "    </tr>\n",
       "    <tr>\n",
       "      <th>20</th>\n",
       "      <td>Virginia Beach</td>\n",
       "    </tr>\n",
       "    <tr>\n",
       "      <th>21</th>\n",
       "      <td>Yairipok</td>\n",
       "    </tr>\n",
       "    <tr>\n",
       "      <th>22</th>\n",
       "      <td>Zab</td>\n",
       "    </tr>\n",
       "    <tr>\n",
       "      <th>23</th>\n",
       "      <td>Zemraya</td>\n",
       "    </tr>\n",
       "    <tr>\n",
       "      <th>24</th>\n",
       "      <td>Zhutovi</td>\n",
       "    </tr>\n",
       "  </tbody>\n",
       "</table>\n",
       "</div>"
      ],
      "text/plain": [
       "                   0\n",
       "0             Aguada\n",
       "1   Baharak district\n",
       "2            Belfast\n",
       "3             Bosaso\n",
       "4              Dhaka\n",
       "5             Dublin\n",
       "6           Faizabad\n",
       "7          Frankfurt\n",
       "8             Imphal\n",
       "9            Mingora\n",
       "10          Pagadian\n",
       "11             Paris\n",
       "12              Tibu\n",
       "13            Tiguma\n",
       "14    Tirap district\n",
       "15             Tissa\n",
       "16              Tral\n",
       "17         Tuddingan\n",
       "18             Turin\n",
       "19    Urgun district\n",
       "20    Virginia Beach\n",
       "21          Yairipok\n",
       "22               Zab\n",
       "23           Zemraya\n",
       "24           Zhutovi"
      ]
     },
     "execution_count": 89,
     "metadata": {},
     "output_type": "execute_result"
    }
   ],
   "source": [
    "# Summarizing the scores for those top 25 features in a df:\n",
    "pd.set_option('max_rows', 101)\n",
    "city_mask = KBest_city.get_support(indices = True)\n",
    "KBest_city_features = pd.DataFrame(city_train_dummy_X.columns[city_mask])\n",
    "KBest_city_features"
   ]
  },
  {
   "cell_type": "markdown",
   "metadata": {},
   "source": [
    "> ###### Weapontxt (weapon_train_dummy/weapon_train_output2):"
   ]
  },
  {
   "cell_type": "code",
   "execution_count": 90,
   "metadata": {},
   "outputs": [],
   "source": [
    "# Getting dummies on our training and test sets (slight wrangling involved):\n",
    "weapon_train_X = cyber_train_X['weapontxt']\n",
    "weapon_test_X = cyber_test_X['weapontxt']\n",
    "\n",
    "weapon_train_index = cyber_train_X['weapontxt'].index\n",
    "weapon_test_index = cyber_test_X['weapontxt'].index\n",
    "\n",
    "weapon_dummy_prep = pd.concat([weapon_train_X, weapon_test_X])\n",
    "weapon_dummy_1 = pd.get_dummies(weapon_dummy_prep)\n",
    "\n",
    "# Training/Test Inputs:\n",
    "weapon_train_dummy_X = weapon_dummy_1.loc[weapon_train_index]\n",
    "weapon_test_dummy_X = weapon_dummy_1.loc[weapon_test_index]\n",
    "\n",
    "# Training Output:\n",
    "weapon_train_dummy_Y = cyber_train_Y.loc[weapon_train_index]\n",
    "weapon_test_dummy_Y = cyber_test_Y.loc[weapon_test_index]"
   ]
  },
  {
   "cell_type": "code",
   "execution_count": 91,
   "metadata": {},
   "outputs": [],
   "source": [
    "# Fitting the model to our features and training output:\n",
    "\n",
    "KBest_weapon = feature_selection.SelectKBest(k = 3) # Tried 5, but 3 was best.\n",
    "weapon_train_KBest = KBest_weapon.fit_transform(weapon_train_dummy_X, weapon_train_dummy_Y)\n",
    "\n",
    "# Transforming our test set:\n",
    "weapon_test_KBest = KBest_weapon.transform(weapon_test_dummy_X)"
   ]
  },
  {
   "cell_type": "code",
   "execution_count": 92,
   "metadata": {},
   "outputs": [
    {
     "data": {
      "text/html": [
       "<div>\n",
       "<style scoped>\n",
       "    .dataframe tbody tr th:only-of-type {\n",
       "        vertical-align: middle;\n",
       "    }\n",
       "\n",
       "    .dataframe tbody tr th {\n",
       "        vertical-align: top;\n",
       "    }\n",
       "\n",
       "    .dataframe thead th {\n",
       "        text-align: right;\n",
       "    }\n",
       "</style>\n",
       "<table border=\"1\" class=\"dataframe\">\n",
       "  <thead>\n",
       "    <tr style=\"text-align: right;\">\n",
       "      <th></th>\n",
       "      <th>0</th>\n",
       "    </tr>\n",
       "  </thead>\n",
       "  <tbody>\n",
       "    <tr>\n",
       "      <th>0</th>\n",
       "      <td>Explosives</td>\n",
       "    </tr>\n",
       "    <tr>\n",
       "      <th>1</th>\n",
       "      <td>Incendiary</td>\n",
       "    </tr>\n",
       "    <tr>\n",
       "      <th>2</th>\n",
       "      <td>Melee</td>\n",
       "    </tr>\n",
       "  </tbody>\n",
       "</table>\n",
       "</div>"
      ],
      "text/plain": [
       "            0\n",
       "0  Explosives\n",
       "1  Incendiary\n",
       "2       Melee"
      ]
     },
     "execution_count": 92,
     "metadata": {},
     "output_type": "execute_result"
    }
   ],
   "source": [
    "# Summarizing the scores for those top 3 features in a df:\n",
    "\n",
    "weapon_mask = KBest_weapon.get_support(indices = True)\n",
    "KBest_weapon_features = pd.DataFrame(weapon_train_dummy_X.columns[weapon_mask])\n",
    "KBest_weapon_features "
   ]
  },
  {
   "cell_type": "markdown",
   "metadata": {},
   "source": [
    "From here, we can infer that while the data-set we are looking at somehow has consequences for cyber infrastructre or networks (including email and social networks as well as the physical networks), there seems to be a correlation with bombings and incendiary methods as well.  As such, we cannot rule out the possibility that cyber-related attacks are often related to physical or other forms of terrorist attacks (at least in the current analysis we are doing here)."
   ]
  },
  {
   "cell_type": "code",
   "execution_count": 93,
   "metadata": {},
   "outputs": [],
   "source": [
    "del dummy_prep\n",
    "del dummy_1\n",
    "del names_dummy_prep\n",
    "del names_dummy_1\n",
    "del city_dummy_prep\n",
    "del city_dummy_1\n",
    "del weapon_dummy_prep\n",
    "del weapon_dummy_1"
   ]
  },
  {
   "cell_type": "code",
   "execution_count": 94,
   "metadata": {},
   "outputs": [
    {
     "data": {
      "text/plain": [
       "42"
      ]
     },
     "execution_count": 94,
     "metadata": {},
     "output_type": "execute_result"
    }
   ],
   "source": [
    "gc.collect()"
   ]
  },
  {
   "cell_type": "markdown",
   "metadata": {},
   "source": [
    "#### B. Principle Component Analysis:\n",
    "\n",
    "> ##### Assessing the Overall DataFrame:"
   ]
  },
  {
   "cell_type": "code",
   "execution_count": 95,
   "metadata": {},
   "outputs": [],
   "source": [
    "from sklearn.decomposition import PCA\n",
    "\n",
    "# Using the whole dataset (cyber_train_data):\n",
    "PCA_1 = PCA(n_components = 25)  # Tried 30 and 500\n",
    "cyber_train_PCA = PCA_1.fit_transform(cyber_train_dummy_X)  \n",
    "cyber_test_PCA = PCA_1.transform(cyber_test_dummy_X)"
   ]
  },
  {
   "cell_type": "markdown",
   "metadata": {},
   "source": [
    "> ##### Assessing Individual Features\n",
    "\n",
    "> ###### Group_name (names_train/test_PCA):"
   ]
  },
  {
   "cell_type": "code",
   "execution_count": 96,
   "metadata": {},
   "outputs": [],
   "source": [
    "# Now looking at group_name values:\n",
    "PCA_name = PCA(n_components = 25) # Tried 30 and 150\n",
    "name_train_PCA = PCA_name.fit_transform(names_train_dummy_X)\n",
    "name_test_PCA = PCA_name.transform(names_test_dummy_X)"
   ]
  },
  {
   "cell_type": "markdown",
   "metadata": {},
   "source": [
    "> ###### City:"
   ]
  },
  {
   "cell_type": "code",
   "execution_count": 97,
   "metadata": {},
   "outputs": [],
   "source": [
    "# Then some city stuff:\n",
    "PCA_cities = PCA(n_components = 25) # Tried 30 and 150\n",
    "cities_train_PCA = PCA_cities.fit_transform(city_train_dummy_X)\n",
    "cities_test_PCA = PCA_cities.transform(city_test_dummy_X)"
   ]
  },
  {
   "cell_type": "markdown",
   "metadata": {},
   "source": [
    "> ###### Weapontxt:"
   ]
  },
  {
   "cell_type": "code",
   "execution_count": 98,
   "metadata": {},
   "outputs": [],
   "source": [
    "# Group_subweapon:\n",
    "PCA_weapon = PCA(n_components = 3)  # Tried 5\n",
    "weapon_train_PCA = PCA_weapon.fit_transform(weapon_train_dummy_X)\n",
    "weapon_test_PCA = PCA_weapon.transform(weapon_test_dummy_X)"
   ]
  },
  {
   "cell_type": "markdown",
   "metadata": {},
   "source": [
    "#### C. Creating Specified DF with Selected Features:"
   ]
  },
  {
   "cell_type": "markdown",
   "metadata": {},
   "source": [
    "> ##### DataFrame from KBest Algorithms:"
   ]
  },
  {
   "cell_type": "code",
   "execution_count": 99,
   "metadata": {},
   "outputs": [],
   "source": [
    "# Training:\n",
    "alpha = pd.DataFrame(cyber_train_KBest1, columns = KBest_1_features[0])\n",
    "beta = pd.DataFrame(names_train_KBest, columns = KBest_names_features[0])\n",
    "gamma = pd.DataFrame(city_train_KBest, columns = KBest_city_features[0])\n",
    "delta = pd.DataFrame(weapon_train_KBest, columns = KBest_weapon_features[0])\n",
    "\n",
    "KBest_train_X = pd.concat([alpha, beta, gamma, delta], axis = 1)"
   ]
  },
  {
   "cell_type": "code",
   "execution_count": 100,
   "metadata": {},
   "outputs": [],
   "source": [
    "# Test:\n",
    "alpha2 = pd.DataFrame(cyber_test_KBest1, columns = KBest_1_features[0])\n",
    "beta2 = pd.DataFrame(names_test_KBest, columns = KBest_names_features[0])\n",
    "gamma2 = pd.DataFrame(city_test_KBest, columns = KBest_city_features[0])\n",
    "delta2 = pd.DataFrame(weapon_test_KBest, columns = KBest_weapon_features[0])\n",
    "\n",
    "KBest_test_X = pd.concat([alpha2, beta2, gamma2, delta2], axis = 1)"
   ]
  },
  {
   "cell_type": "code",
   "execution_count": 101,
   "metadata": {},
   "outputs": [],
   "source": [
    "del alpha\n",
    "del beta\n",
    "del gamma\n",
    "del delta\n",
    "del alpha2\n",
    "del beta2\n",
    "del gamma2\n",
    "del delta2\n",
    "del cyber_train_KBest1\n",
    "del names_train_KBest\n",
    "del city_train_KBest\n",
    "del weapon_train_KBest\n",
    "del cyber_test_KBest1\n",
    "del names_test_KBest\n",
    "del city_test_KBest\n",
    "del weapon_test_KBest"
   ]
  },
  {
   "cell_type": "code",
   "execution_count": 102,
   "metadata": {},
   "outputs": [
    {
     "data": {
      "text/plain": [
       "0"
      ]
     },
     "execution_count": 102,
     "metadata": {},
     "output_type": "execute_result"
    }
   ],
   "source": [
    "gc.collect()"
   ]
  },
  {
   "cell_type": "markdown",
   "metadata": {},
   "source": [
    "> ##### DataFrame from PCA:"
   ]
  },
  {
   "cell_type": "code",
   "execution_count": 103,
   "metadata": {},
   "outputs": [],
   "source": [
    "# Training:\n",
    "cyber_train_PCA = pd.DataFrame(cyber_train_PCA)\n",
    "name_train_PCA = pd.DataFrame(name_train_PCA)\n",
    "cities_train_PCA = pd.DataFrame(cities_train_PCA)\n",
    "weapon_train_PCA = pd.DataFrame(weapon_train_PCA)\n",
    "\n",
    "PCA_train_X = pd.DataFrame()\n",
    "PCA_train_X = pd.concat([cyber_train_PCA, name_train_PCA, cities_train_PCA, weapon_train_PCA], axis = 1)"
   ]
  },
  {
   "cell_type": "code",
   "execution_count": 104,
   "metadata": {},
   "outputs": [],
   "source": [
    "# Test:\n",
    "cyber_test_PCA = pd.DataFrame(cyber_test_PCA)\n",
    "name_test_PCA = pd.DataFrame(name_test_PCA)\n",
    "cities_test_PCA = pd.DataFrame(cities_test_PCA)\n",
    "weapon_test_PCA = pd.DataFrame(weapon_test_PCA)\n",
    "\n",
    "PCA_test_X = pd.DataFrame()\n",
    "PCA_test_X = pd.concat([cyber_test_PCA, name_test_PCA, cities_test_PCA, weapon_test_PCA], axis = 1)"
   ]
  },
  {
   "cell_type": "code",
   "execution_count": 105,
   "metadata": {},
   "outputs": [],
   "source": [
    "del cyber_train_PCA\n",
    "del name_train_PCA\n",
    "del cities_train_PCA\n",
    "del weapon_train_PCA\n",
    "del cyber_test_PCA\n",
    "del name_test_PCA\n",
    "del cities_test_PCA\n",
    "del weapon_test_PCA"
   ]
  },
  {
   "cell_type": "code",
   "execution_count": 106,
   "metadata": {},
   "outputs": [
    {
     "data": {
      "text/plain": [
       "0"
      ]
     },
     "execution_count": 106,
     "metadata": {},
     "output_type": "execute_result"
    }
   ],
   "source": [
    "gc.collect()"
   ]
  },
  {
   "cell_type": "markdown",
   "metadata": {},
   "source": [
    "### 4. Preliminary Models:"
   ]
  },
  {
   "cell_type": "markdown",
   "metadata": {},
   "source": [
    "> Starting with a simple Logistic Regression since our output feature is binary. Afterwards, we will move on to our Random Forest, Support Vector Classifier and Gradient Booster. We chose these models since they often work well with binary output features. These models will also be discussed below in more detail."
   ]
  },
  {
   "cell_type": "markdown",
   "metadata": {},
   "source": [
    "#### Logistic Regression:"
   ]
  },
  {
   "cell_type": "markdown",
   "metadata": {},
   "source": [
    "##### KBest Features:"
   ]
  },
  {
   "cell_type": "code",
   "execution_count": 107,
   "metadata": {},
   "outputs": [],
   "source": [
    "from sklearn.linear_model import LogisticRegression\n",
    "from sklearn.metrics import confusion_matrix, balanced_accuracy_score\n",
    "from sklearn.model_selection import cross_val_score\n",
    "\n",
    "KBest_logistic = LogisticRegression()\n",
    "\n",
    "KBest_logistic = KBest_logistic.fit(KBest_train_X, cyber_train_dummy_Y)\n",
    "KBest_logistic_train_pred_ = KBest_logistic.predict(KBest_train_X)\n",
    "KBest_logistic_test_pred_ = KBest_logistic.predict(KBest_test_X)\n",
    "\n",
    "# Evaluation:\n",
    "  # Confustion Matrices:    \n",
    "KBest_logistic_confusion_train = confusion_matrix(cyber_train_dummy_Y, KBest_logistic_train_pred_, labels = [0, 1])\n",
    "KBest_logistic_confusion_test = confusion_matrix(cyber_test_dummy_Y, KBest_logistic_test_pred_, labels = [0, 1])\n",
    "\n",
    "  # Cross-validation and train/test scores:\n",
    "KBest_logistic_cv = cross_val_score(KBest_logistic, KBest_train_X, cyber_train_dummy_Y, cv = 5)\n",
    "KBest_logistic_train_score = KBest_logistic.score(KBest_train_X, cyber_train_dummy_Y)\n",
    "KBest_logistic_test_score = KBest_logistic.score(KBest_test_X, cyber_test_dummy_Y)\n",
    "\n",
    "  # Looking at balanced accuracy/f1 scores:\n",
    "KBest_logistic_train = balanced_accuracy_score(cyber_train_dummy_Y, KBest_logistic_train_pred_)    \n",
    "KBest_logistic_test = balanced_accuracy_score(cyber_test_dummy_Y, KBest_logistic_test_pred_)    "
   ]
  },
  {
   "cell_type": "code",
   "execution_count": 108,
   "metadata": {},
   "outputs": [
    {
     "name": "stdout",
     "output_type": "stream",
     "text": [
      "\n",
      "The mean cross-validation score is: 93.76% ±0.33%\n",
      "The cv scores are: [0.93761815 0.93667297 0.94039735 0.93181818 0.94128788]\n",
      "\n",
      "Training-Set Metrics:\n",
      "The training score is: 94.21%\n",
      "\n",
      "     0     1\n",
      "0  201   252\n",
      "1   54  4778\n",
      "\n",
      "False Positive/Type I Error: 252 (55.63%)\n",
      "False Negative/Type II Error: 54 (1.12%)\n",
      "Balanced Accuracy: 71.63%\n",
      "\n",
      "Test-Set Metrics:\n",
      "The test score is: 94.15%\n",
      "\n",
      "    0     1\n",
      "0  69    86\n",
      "1  17  1590\n",
      "\n",
      "False Positive/Type I Error: 86 (55.48%)\n",
      "False Negative/Type II Error: 17 (1.06%)\n",
      "Balanced Accuracy: 71.73%\n"
     ]
    }
   ],
   "source": [
    "plusminus = u\"\\u00B1\"\n",
    "print(\"\\nThe mean cross-validation score is: {:.2%} {}{:.2%}\".format(KBest_logistic_cv.mean(),\n",
    "                                                                     plusminus, KBest_logistic_cv.std()))\n",
    "print(\"The cv scores are: {}\".format(KBest_logistic_cv))\n",
    "\n",
    "conf_df = pd.DataFrame(KBest_logistic_confusion_train)\n",
    "\n",
    "FP = conf_df.loc[0, 1]\n",
    "FN = conf_df.loc[1, 0]\n",
    "NegT = conf_df.iloc[0].sum()\n",
    "PosT = conf_df.iloc[1].sum()\n",
    "\n",
    "print(\"\\nTraining-Set Metrics:\")\n",
    "print(\"The training score is: {:.2%}\\n\".format(KBest_logistic_train_score))\n",
    "print(conf_df)\n",
    "print('\\nFalse Positive/Type I Error: {} ({:.2%})'.format(FP, (FP / NegT)))\n",
    "print('False Negative/Type II Error: {} ({:.2%})'.format(FN, (FN / PosT)))\n",
    "print('Balanced Accuracy: {:.2%}\\n'.format(KBest_logistic_train))\n",
    "\n",
    "conf_df2 = pd.DataFrame(KBest_logistic_confusion_test)\n",
    "\n",
    "FP2 = conf_df2.loc[0, 1]\n",
    "FN2 = conf_df2.loc[1, 0]\n",
    "NegT2 = conf_df2.iloc[0].sum()\n",
    "PosT2 = conf_df2.iloc[1].sum()\n",
    "\n",
    "print(\"Test-Set Metrics:\")\n",
    "print(\"The test score is: {:.2%}\\n\".format(KBest_logistic_test_score))\n",
    "print(conf_df2)\n",
    "print('\\nFalse Positive/Type I Error: {} ({:.2%})'.format(FP2, (FP2 / NegT2)))\n",
    "print('False Negative/Type II Error: {} ({:.2%})'.format(FN2, (FN2 / PosT2)))\n",
    "print('Balanced Accuracy: {:.2%}'.format(KBest_logistic_test))"
   ]
  },
  {
   "cell_type": "code",
   "execution_count": 109,
   "metadata": {},
   "outputs": [
    {
     "data": {
      "text/plain": [
       "0"
      ]
     },
     "execution_count": 109,
     "metadata": {},
     "output_type": "execute_result"
    }
   ],
   "source": [
    "del KBest_logistic\n",
    "del KBest_logistic_train_pred_\n",
    "del KBest_logistic_test_pred_ \n",
    "del KBest_logistic_confusion_train\n",
    "del KBest_logistic_confusion_test\n",
    "del KBest_logistic_cv\n",
    "del KBest_logistic_train_score\n",
    "del KBest_logistic_test_score\n",
    "del KBest_logistic_train\n",
    "del KBest_logistic_test\n",
    "gc.collect()"
   ]
  },
  {
   "cell_type": "markdown",
   "metadata": {},
   "source": [
    "##### PCA Features:"
   ]
  },
  {
   "cell_type": "code",
   "execution_count": 110,
   "metadata": {},
   "outputs": [],
   "source": [
    "PCA_logistic = LogisticRegression()\n",
    "\n",
    "PCA_logistic = PCA_logistic.fit(PCA_train_X, cyber_train_dummy_Y)\n",
    "PCA_logistic_train_pred_ = PCA_logistic.predict(PCA_train_X)\n",
    "PCA_logistic_test_pred_ = PCA_logistic.predict(PCA_test_X)\n",
    "\n",
    "# Evaluation:\n",
    "  # Confustion Matrices:    \n",
    "PCA_logistic_confusion_train = confusion_matrix(cyber_train_dummy_Y, PCA_logistic_train_pred_, labels = [0, 1])\n",
    "PCA_logistic_confusion_test = confusion_matrix(cyber_test_dummy_Y, PCA_logistic_test_pred_, labels = [0, 1])\n",
    "\n",
    "  # Cross-validation and train/test scores:\n",
    "PCA_logistic_cv = cross_val_score(PCA_logistic, PCA_train_X, cyber_train_dummy_Y, cv = 5)\n",
    "PCA_logistic_train_score = PCA_logistic.score(PCA_train_X, cyber_train_dummy_Y)\n",
    "PCA_logistic_test_score = PCA_logistic.score(PCA_test_X, cyber_test_dummy_Y)\n",
    "\n",
    "  # Looking at balanced accuracy/f1 scores:\n",
    "PCA_logistic_train = balanced_accuracy_score(cyber_train_dummy_Y, PCA_logistic_train_pred_)    \n",
    "PCA_logistic_test = balanced_accuracy_score(cyber_test_dummy_Y, PCA_logistic_test_pred_)    "
   ]
  },
  {
   "cell_type": "code",
   "execution_count": 111,
   "metadata": {},
   "outputs": [
    {
     "name": "stdout",
     "output_type": "stream",
     "text": [
      "\n",
      "The mean cross-validation score is: 93.06% ±0.45%\n",
      "The cv scores are: [0.93194707 0.92438563 0.93472091 0.92613636 0.93560606]\n",
      "\n",
      "Training-Set Metrics:\n",
      "The training score is: 93.23%\n",
      "\n",
      "     0     1\n",
      "0  156   297\n",
      "1   61  4771\n",
      "\n",
      "False Positive/Type I Error: 297 (65.56%)\n",
      "False Negative/Type II Error: 61 (1.26%)\n",
      "Balanced Accuracy: 66.59%\n",
      "\n",
      "Test-Set Metrics:\n",
      "The test score is: 93.59%\n",
      "\n",
      "    0     1\n",
      "0  61    94\n",
      "1  19  1588\n",
      "\n",
      "False Positive/Type I Error: 94 (60.65%)\n",
      "False Negative/Type II Error: 19 (1.18%)\n",
      "Balanced Accuracy: 69.09%\n"
     ]
    }
   ],
   "source": [
    "plusminus = u\"\\u00B1\"\n",
    "print(\"\\nThe mean cross-validation score is: {:.2%} {}{:.2%}\".format(PCA_logistic_cv.mean(),\n",
    "                                                                     plusminus, PCA_logistic_cv.std()))\n",
    "print(\"The cv scores are: {}\".format(PCA_logistic_cv))\n",
    "\n",
    "conf_df = pd.DataFrame(PCA_logistic_confusion_train)\n",
    "\n",
    "FP = conf_df.loc[0, 1]\n",
    "FN = conf_df.loc[1, 0]\n",
    "NegT = conf_df.iloc[0].sum()\n",
    "PosT = conf_df.iloc[1].sum()\n",
    "\n",
    "print(\"\\nTraining-Set Metrics:\")\n",
    "print(\"The training score is: {:.2%}\\n\".format(PCA_logistic_train_score))\n",
    "print(conf_df)\n",
    "print('\\nFalse Positive/Type I Error: {} ({:.2%})'.format(FP, (FP / NegT)))\n",
    "print('False Negative/Type II Error: {} ({:.2%})'.format(FN, (FN / PosT)))\n",
    "print('Balanced Accuracy: {:.2%}\\n'.format(PCA_logistic_train))\n",
    "\n",
    "conf_df2 = pd.DataFrame(PCA_logistic_confusion_test)\n",
    "\n",
    "FP2 = conf_df2.loc[0, 1]\n",
    "FN2 = conf_df2.loc[1, 0]\n",
    "NegT2 = conf_df2.iloc[0].sum()\n",
    "PosT2 = conf_df2.iloc[1].sum()\n",
    "\n",
    "print(\"Test-Set Metrics:\")\n",
    "print(\"The test score is: {:.2%}\\n\".format(PCA_logistic_test_score))\n",
    "print(conf_df2)\n",
    "print('\\nFalse Positive/Type I Error: {} ({:.2%})'.format(FP2, (FP2 / NegT2)))\n",
    "print('False Negative/Type II Error: {} ({:.2%})'.format(FN2, (FN2 / PosT2)))\n",
    "print('Balanced Accuracy: {:.2%}'.format(PCA_logistic_test))"
   ]
  },
  {
   "cell_type": "markdown",
   "metadata": {},
   "source": [
    "Now, while we do have some decent scores here, especially regarding the true positive predictions, we do have a class imbalance issue we will need to take into consideration (as demonstrated below).  One way of doing that will work on increasing the accuracy of our true negatives and focusing less on our true positives. It will also help to take into consideration our False Negatives and Positives. Lowering these will help strengthen our model and give us more predictive integrity.  In other words, we want to make sure we avoid as many False Negatives (i.e. instances where our model does not predict a terrorist attack, when instead one does, in fact, occur) as possible.  We also want to be sure we are keeping our False Positive count as low as possible since responding to predicted terrorist incidents when there are none will exhaust resources and employees - in turn taking away their energies from realistic threats. \n",
    "\n",
    "In order to do so, we have implemented the Balanced Accuracy score, which gives us an average of our False Negatives and Positives.  It allows us to consider another aspect of the model results outside of the training and test-set scores (which only allow us to see on aspect of a model's predictive results).  The Balanced Accuracy is a nice addition to the confusion matrix, which gives us the hard-numbers which are factored into the Balanced Accuracy score.  In assessing the models above along with those below, we will be looking at all of these evaluation methods in order to determine which model is the best and make our reasoning as well-rounded as possible. "
   ]
  },
  {
   "cell_type": "code",
   "execution_count": 112,
   "metadata": {},
   "outputs": [
    {
     "name": "stdout",
     "output_type": "stream",
     "text": [
      "1    4832\n",
      "0     453\n",
      "Name: success, dtype: int64\n",
      "1    1607\n",
      "0     155\n",
      "Name: success, dtype: int64\n"
     ]
    }
   ],
   "source": [
    "print(cyber_train_dummy_Y.success.value_counts())\n",
    "print(cyber_test_dummy_Y.success.value_counts())"
   ]
  },
  {
   "cell_type": "code",
   "execution_count": 113,
   "metadata": {},
   "outputs": [
    {
     "data": {
      "text/plain": [
       "34"
      ]
     },
     "execution_count": 113,
     "metadata": {},
     "output_type": "execute_result"
    }
   ],
   "source": [
    "del PCA_logistic\n",
    "del PCA_logistic_train_pred_\n",
    "del PCA_logistic_test_pred_ \n",
    "del PCA_logistic_confusion_train\n",
    "del PCA_logistic_confusion_test\n",
    "del PCA_logistic_cv\n",
    "del PCA_logistic_train_score\n",
    "del PCA_logistic_test_score\n",
    "del PCA_logistic_train\n",
    "del PCA_logistic_test\n",
    "gc.collect()"
   ]
  },
  {
   "cell_type": "markdown",
   "metadata": {},
   "source": [
    "#### Random Forest:"
   ]
  },
  {
   "cell_type": "markdown",
   "metadata": {},
   "source": [
    "##### KBest Features:"
   ]
  },
  {
   "cell_type": "code",
   "execution_count": 114,
   "metadata": {},
   "outputs": [],
   "source": [
    "from sklearn.ensemble import RandomForestClassifier\n",
    "\n",
    "KBest_forest = RandomForestClassifier(n_estimators = 30, max_depth = 12)\n",
    "\n",
    "KBest_forest = KBest_forest.fit(KBest_train_X, cyber_train_dummy_Y)\n",
    "KBest_forest_train_pred_ = KBest_forest.predict(KBest_train_X)\n",
    "KBest_forest_test_pred_ = KBest_forest.predict(KBest_test_X)\n",
    "\n",
    "# Evaluation:\n",
    "  # Confustion Matrices:    \n",
    "KBest_forest_confusion_train = confusion_matrix(cyber_train_dummy_Y, KBest_forest_train_pred_, labels = [0, 1])\n",
    "KBest_forest_confusion_test = confusion_matrix(cyber_test_dummy_Y, KBest_forest_test_pred_, labels = [0, 1])\n",
    "\n",
    "  # Cross-validation and train/test scores:\n",
    "KBest_forest_cv = cross_val_score(KBest_forest, KBest_train_X, cyber_train_dummy_Y, cv = 5)\n",
    "KBest_forest_train_score = KBest_forest.score(KBest_train_X, cyber_train_dummy_Y)\n",
    "KBest_forest_test_score = KBest_forest.score(KBest_test_X, cyber_test_dummy_Y)\n",
    "\n",
    "  # Looking at balanced accuracy/f1 scores:\n",
    "KBest_forest_train = balanced_accuracy_score(cyber_train_dummy_Y, KBest_forest_train_pred_)    \n",
    "KBest_forest_test = balanced_accuracy_score(cyber_test_dummy_Y, KBest_forest_test_pred_)    \n",
    "    "
   ]
  },
  {
   "cell_type": "code",
   "execution_count": 115,
   "metadata": {},
   "outputs": [
    {
     "name": "stdout",
     "output_type": "stream",
     "text": [
      "\n",
      "The mean cross-validation score is: 93.68% ±0.22%\n",
      "The cv scores are: [0.93761815 0.93856333 0.93945128 0.93465909 0.93371212]\n",
      "\n",
      "Training-Set Metrics:\n",
      "The training score is: 94.44%\n",
      "\n",
      "     0     1\n",
      "0  198   255\n",
      "1   39  4793\n",
      "\n",
      "False Positive/Type I Error: 255 (56.29%)\n",
      "False Negative/Type II Error: 39 (0.81%)\n",
      "Balanced Accuracy: 71.45%\n",
      "\n",
      "Test-Set Metrics:\n",
      "The test score is: 93.87%\n",
      "\n",
      "    0     1\n",
      "0  62    93\n",
      "1  15  1592\n",
      "\n",
      "False Positive/Type I Error: 93 (60.00%)\n",
      "False Negative/Type II Error: 15 (0.93%)\n",
      "Balanced Accuracy: 69.53%\n",
      "\n",
      "\n",
      "Feature Importances:\n",
      "\n"
     ]
    },
    {
     "data": {
      "text/html": [
       "<div>\n",
       "<style scoped>\n",
       "    .dataframe tbody tr th:only-of-type {\n",
       "        vertical-align: middle;\n",
       "    }\n",
       "\n",
       "    .dataframe tbody tr th {\n",
       "        vertical-align: top;\n",
       "    }\n",
       "\n",
       "    .dataframe thead th {\n",
       "        text-align: right;\n",
       "    }\n",
       "</style>\n",
       "<table border=\"1\" class=\"dataframe\">\n",
       "  <thead>\n",
       "    <tr style=\"text-align: right;\">\n",
       "      <th></th>\n",
       "      <th>Importances</th>\n",
       "    </tr>\n",
       "    <tr>\n",
       "      <th>0</th>\n",
       "      <th></th>\n",
       "    </tr>\n",
       "  </thead>\n",
       "  <tbody>\n",
       "    <tr>\n",
       "      <th>attack_1txt_Assassination</th>\n",
       "      <td>0.19</td>\n",
       "    </tr>\n",
       "    <tr>\n",
       "      <th>target_1txt_Military</th>\n",
       "      <td>0.19</td>\n",
       "    </tr>\n",
       "    <tr>\n",
       "      <th>Explosives</th>\n",
       "      <td>0.10</td>\n",
       "    </tr>\n",
       "    <tr>\n",
       "      <th>attack_1txt_Bombing/Explosion</th>\n",
       "      <td>0.04</td>\n",
       "    </tr>\n",
       "    <tr>\n",
       "      <th>corp1_Election Commission of India</th>\n",
       "      <td>0.04</td>\n",
       "    </tr>\n",
       "    <tr>\n",
       "      <th>sub_weapontxt_Other Explosive Type</th>\n",
       "      <td>0.04</td>\n",
       "    </tr>\n",
       "    <tr>\n",
       "      <th>Unknown</th>\n",
       "      <td>0.03</td>\n",
       "    </tr>\n",
       "    <tr>\n",
       "      <th>country_txt_Ireland</th>\n",
       "      <td>0.03</td>\n",
       "    </tr>\n",
       "    <tr>\n",
       "      <th>target_1txt_Private Citizens &amp; Property</th>\n",
       "      <td>0.02</td>\n",
       "    </tr>\n",
       "    <tr>\n",
       "      <th>sub_weapontxt_Pipe Bomb</th>\n",
       "      <td>0.02</td>\n",
       "    </tr>\n",
       "    <tr>\n",
       "      <th>sub_weapontxt_Letter Bomb</th>\n",
       "      <td>0.02</td>\n",
       "    </tr>\n",
       "    <tr>\n",
       "      <th>sub_targettxt_Gov_Figure1</th>\n",
       "      <td>0.02</td>\n",
       "    </tr>\n",
       "    <tr>\n",
       "      <th>Melee</th>\n",
       "      <td>0.01</td>\n",
       "    </tr>\n",
       "    <tr>\n",
       "      <th>Informal Anarchist Federation</th>\n",
       "      <td>0.01</td>\n",
       "    </tr>\n",
       "    <tr>\n",
       "      <th>Middle_Eastern_Religious</th>\n",
       "      <td>0.01</td>\n",
       "    </tr>\n",
       "    <tr>\n",
       "      <th>specific_target_Polling Station</th>\n",
       "      <td>0.01</td>\n",
       "    </tr>\n",
       "    <tr>\n",
       "      <th>doubt</th>\n",
       "      <td>0.01</td>\n",
       "    </tr>\n",
       "    <tr>\n",
       "      <th>Paris</th>\n",
       "      <td>0.01</td>\n",
       "    </tr>\n",
       "    <tr>\n",
       "      <th>victim_nationalitytxt_Ireland</th>\n",
       "      <td>0.01</td>\n",
       "    </tr>\n",
       "    <tr>\n",
       "      <th>Armed Commandos of Liberation</th>\n",
       "      <td>0.01</td>\n",
       "    </tr>\n",
       "    <tr>\n",
       "      <th>Aguada</th>\n",
       "      <td>0.01</td>\n",
       "    </tr>\n",
       "    <tr>\n",
       "      <th>country_txt_Germany</th>\n",
       "      <td>0.01</td>\n",
       "    </tr>\n",
       "    <tr>\n",
       "      <th>corp1_Unified Communist Party of Nepal: Maoist (UCPN-M)</th>\n",
       "      <td>0.01</td>\n",
       "    </tr>\n",
       "    <tr>\n",
       "      <th>region_txt_Western Europe</th>\n",
       "      <td>0.01</td>\n",
       "    </tr>\n",
       "    <tr>\n",
       "      <th>sub_targettxt_Political</th>\n",
       "      <td>0.01</td>\n",
       "    </tr>\n",
       "    <tr>\n",
       "      <th>attack_1txt_Hostage Taking (Kidnapping)</th>\n",
       "      <td>0.01</td>\n",
       "    </tr>\n",
       "    <tr>\n",
       "      <th>sub_targettxt_Unnamed Civilian/Unspecified</th>\n",
       "      <td>0.01</td>\n",
       "    </tr>\n",
       "    <tr>\n",
       "      <th>corp1_Council of Representatives of Iraq</th>\n",
       "      <td>0.01</td>\n",
       "    </tr>\n",
       "    <tr>\n",
       "      <th>Dhaka</th>\n",
       "      <td>0.00</td>\n",
       "    </tr>\n",
       "    <tr>\n",
       "      <th>Dublin</th>\n",
       "      <td>0.00</td>\n",
       "    </tr>\n",
       "    <tr>\n",
       "      <th>Tibu</th>\n",
       "      <td>0.00</td>\n",
       "    </tr>\n",
       "    <tr>\n",
       "      <th>Frankfurt</th>\n",
       "      <td>0.00</td>\n",
       "    </tr>\n",
       "    <tr>\n",
       "      <th>Imphal</th>\n",
       "      <td>0.00</td>\n",
       "    </tr>\n",
       "    <tr>\n",
       "      <th>Mingora</th>\n",
       "      <td>0.00</td>\n",
       "    </tr>\n",
       "    <tr>\n",
       "      <th>Pagadian</th>\n",
       "      <td>0.00</td>\n",
       "    </tr>\n",
       "    <tr>\n",
       "      <th>Bosaso</th>\n",
       "      <td>0.00</td>\n",
       "    </tr>\n",
       "    <tr>\n",
       "      <th>Faizabad</th>\n",
       "      <td>0.00</td>\n",
       "    </tr>\n",
       "    <tr>\n",
       "      <th>Zhutovi</th>\n",
       "      <td>0.00</td>\n",
       "    </tr>\n",
       "    <tr>\n",
       "      <th>Incendiary</th>\n",
       "      <td>0.00</td>\n",
       "    </tr>\n",
       "    <tr>\n",
       "      <th>Tiguma</th>\n",
       "      <td>0.00</td>\n",
       "    </tr>\n",
       "    <tr>\n",
       "      <th>Tissa</th>\n",
       "      <td>0.00</td>\n",
       "    </tr>\n",
       "    <tr>\n",
       "      <th>Tral</th>\n",
       "      <td>0.00</td>\n",
       "    </tr>\n",
       "    <tr>\n",
       "      <th>Tuddingan</th>\n",
       "      <td>0.00</td>\n",
       "    </tr>\n",
       "    <tr>\n",
       "      <th>Turin</th>\n",
       "      <td>0.00</td>\n",
       "    </tr>\n",
       "    <tr>\n",
       "      <th>Urgun district</th>\n",
       "      <td>0.00</td>\n",
       "    </tr>\n",
       "    <tr>\n",
       "      <th>Virginia Beach</th>\n",
       "      <td>0.00</td>\n",
       "    </tr>\n",
       "    <tr>\n",
       "      <th>Yairipok</th>\n",
       "      <td>0.00</td>\n",
       "    </tr>\n",
       "    <tr>\n",
       "      <th>Zab</th>\n",
       "      <td>0.00</td>\n",
       "    </tr>\n",
       "    <tr>\n",
       "      <th>Belfast</th>\n",
       "      <td>0.00</td>\n",
       "    </tr>\n",
       "    <tr>\n",
       "      <th>Zemraya</th>\n",
       "      <td>0.00</td>\n",
       "    </tr>\n",
       "    <tr>\n",
       "      <th>Tirap district</th>\n",
       "      <td>0.00</td>\n",
       "    </tr>\n",
       "    <tr>\n",
       "      <th>crit3</th>\n",
       "      <td>0.00</td>\n",
       "    </tr>\n",
       "    <tr>\n",
       "      <th>Baharak district</th>\n",
       "      <td>0.00</td>\n",
       "    </tr>\n",
       "    <tr>\n",
       "      <th>White extremists</th>\n",
       "      <td>0.00</td>\n",
       "    </tr>\n",
       "    <tr>\n",
       "      <th>target_1txt_Unknown</th>\n",
       "      <td>0.00</td>\n",
       "    </tr>\n",
       "    <tr>\n",
       "      <th>corp1_Government of Nineveh</th>\n",
       "      <td>0.00</td>\n",
       "    </tr>\n",
       "    <tr>\n",
       "      <th>specific_target_A police chief</th>\n",
       "      <td>0.00</td>\n",
       "    </tr>\n",
       "    <tr>\n",
       "      <th>sub_weapontxt_Time Fuse</th>\n",
       "      <td>0.00</td>\n",
       "    </tr>\n",
       "    <tr>\n",
       "      <th>Bangladesh Nationalist Party (BNP)</th>\n",
       "      <td>0.00</td>\n",
       "    </tr>\n",
       "    <tr>\n",
       "      <th>Besi Merah Putih Militia</th>\n",
       "      <td>0.00</td>\n",
       "    </tr>\n",
       "    <tr>\n",
       "      <th>Black Liberation Army</th>\n",
       "      <td>0.00</td>\n",
       "    </tr>\n",
       "    <tr>\n",
       "      <th>Communist Party of Nepal - Maoist (CPN-Maoist-Chand)</th>\n",
       "      <td>0.00</td>\n",
       "    </tr>\n",
       "    <tr>\n",
       "      <th>Communist Party of Nepal-Maoist (Baidya)</th>\n",
       "      <td>0.00</td>\n",
       "    </tr>\n",
       "    <tr>\n",
       "      <th>Dima Halao Daoga (DHD)</th>\n",
       "      <td>0.00</td>\n",
       "    </tr>\n",
       "    <tr>\n",
       "      <th>Hekla Reception Committee-Initiative for More Social Eruptions</th>\n",
       "      <td>0.00</td>\n",
       "    </tr>\n",
       "    <tr>\n",
       "      <th>Irish_Separatists</th>\n",
       "      <td>0.00</td>\n",
       "    </tr>\n",
       "    <tr>\n",
       "      <th>Loyalists</th>\n",
       "      <td>0.00</td>\n",
       "    </tr>\n",
       "    <tr>\n",
       "      <th>Maoist Communist Party of Manipur</th>\n",
       "      <td>0.00</td>\n",
       "    </tr>\n",
       "    <tr>\n",
       "      <th>Muslim Brotherhood</th>\n",
       "      <td>0.00</td>\n",
       "    </tr>\n",
       "    <tr>\n",
       "      <th>Organization for Revolutionary Self Defense</th>\n",
       "      <td>0.00</td>\n",
       "    </tr>\n",
       "    <tr>\n",
       "      <th>Popular Resistance (Laiki Antistasi)</th>\n",
       "      <td>0.00</td>\n",
       "    </tr>\n",
       "    <tr>\n",
       "      <th>Pro Hartal Activists</th>\n",
       "      <td>0.00</td>\n",
       "    </tr>\n",
       "    <tr>\n",
       "      <th>Revolutionary Struggle</th>\n",
       "      <td>0.00</td>\n",
       "    </tr>\n",
       "    <tr>\n",
       "      <th>Riyadus-Salikhin Reconnaissance and Sabotage Battalion of Chechen Martyrs</th>\n",
       "      <td>0.00</td>\n",
       "    </tr>\n",
       "    <tr>\n",
       "      <th>Tawhid and Jihad</th>\n",
       "      <td>0.00</td>\n",
       "    </tr>\n",
       "    <tr>\n",
       "      <th>The World United Formosans for Independence (WUFI)</th>\n",
       "      <td>0.00</td>\n",
       "    </tr>\n",
       "    <tr>\n",
       "      <th>Tripoli Province of the Islamic State</th>\n",
       "      <td>0.00</td>\n",
       "    </tr>\n",
       "    <tr>\n",
       "      <th>National Socialist Council of Nagaland</th>\n",
       "      <td>0.00</td>\n",
       "    </tr>\n",
       "  </tbody>\n",
       "</table>\n",
       "</div>"
      ],
      "text/plain": [
       "                                                    Importances\n",
       "0                                                              \n",
       "attack_1txt_Assassination                                  0.19\n",
       "target_1txt_Military                                       0.19\n",
       "Explosives                                                 0.10\n",
       "attack_1txt_Bombing/Explosion                              0.04\n",
       "corp1_Election Commission of India                         0.04\n",
       "sub_weapontxt_Other Explosive Type                         0.04\n",
       "Unknown                                                    0.03\n",
       "country_txt_Ireland                                        0.03\n",
       "target_1txt_Private Citizens & Property                    0.02\n",
       "sub_weapontxt_Pipe Bomb                                    0.02\n",
       "sub_weapontxt_Letter Bomb                                  0.02\n",
       "sub_targettxt_Gov_Figure1                                  0.02\n",
       "Melee                                                      0.01\n",
       "Informal Anarchist Federation                              0.01\n",
       "Middle_Eastern_Religious                                   0.01\n",
       "specific_target_Polling Station                            0.01\n",
       "doubt                                                      0.01\n",
       "Paris                                                      0.01\n",
       "victim_nationalitytxt_Ireland                              0.01\n",
       "Armed Commandos of Liberation                              0.01\n",
       "Aguada                                                     0.01\n",
       "country_txt_Germany                                        0.01\n",
       "corp1_Unified Communist Party of Nepal: Maoist ...         0.01\n",
       "region_txt_Western Europe                                  0.01\n",
       "sub_targettxt_Political                                    0.01\n",
       "attack_1txt_Hostage Taking (Kidnapping)                    0.01\n",
       "sub_targettxt_Unnamed Civilian/Unspecified                 0.01\n",
       "corp1_Council of Representatives of Iraq                   0.01\n",
       "Dhaka                                                      0.00\n",
       "Dublin                                                     0.00\n",
       "Tibu                                                       0.00\n",
       "Frankfurt                                                  0.00\n",
       "Imphal                                                     0.00\n",
       "Mingora                                                    0.00\n",
       "Pagadian                                                   0.00\n",
       "Bosaso                                                     0.00\n",
       "Faizabad                                                   0.00\n",
       "Zhutovi                                                    0.00\n",
       "Incendiary                                                 0.00\n",
       "Tiguma                                                     0.00\n",
       "Tissa                                                      0.00\n",
       "Tral                                                       0.00\n",
       "Tuddingan                                                  0.00\n",
       "Turin                                                      0.00\n",
       "Urgun district                                             0.00\n",
       "Virginia Beach                                             0.00\n",
       "Yairipok                                                   0.00\n",
       "Zab                                                        0.00\n",
       "Belfast                                                    0.00\n",
       "Zemraya                                                    0.00\n",
       "Tirap district                                             0.00\n",
       "crit3                                                      0.00\n",
       "Baharak district                                           0.00\n",
       "White extremists                                           0.00\n",
       "target_1txt_Unknown                                        0.00\n",
       "corp1_Government of Nineveh                                0.00\n",
       "specific_target_A police chief                             0.00\n",
       "sub_weapontxt_Time Fuse                                    0.00\n",
       "Bangladesh Nationalist Party (BNP)                         0.00\n",
       "Besi Merah Putih Militia                                   0.00\n",
       "Black Liberation Army                                      0.00\n",
       "Communist Party of Nepal - Maoist (CPN-Maoist-C...         0.00\n",
       "Communist Party of Nepal-Maoist (Baidya)                   0.00\n",
       "Dima Halao Daoga (DHD)                                     0.00\n",
       "Hekla Reception Committee-Initiative for More S...         0.00\n",
       "Irish_Separatists                                          0.00\n",
       "Loyalists                                                  0.00\n",
       "Maoist Communist Party of Manipur                          0.00\n",
       "Muslim Brotherhood                                         0.00\n",
       "Organization for Revolutionary Self Defense                0.00\n",
       "Popular Resistance (Laiki Antistasi)                       0.00\n",
       "Pro Hartal Activists                                       0.00\n",
       "Revolutionary Struggle                                     0.00\n",
       "Riyadus-Salikhin Reconnaissance and Sabotage Ba...         0.00\n",
       "Tawhid and Jihad                                           0.00\n",
       "The World United Formosans for Independence (WUFI)         0.00\n",
       "Tripoli Province of the Islamic State                      0.00\n",
       "National Socialist Council of Nagaland                     0.00"
      ]
     },
     "metadata": {},
     "output_type": "display_data"
    }
   ],
   "source": [
    "plusminus = u\"\\u00B1\"\n",
    "print(\"\\nThe mean cross-validation score is: {:.2%} {}{:.2%}\".format(KBest_forest_cv.mean(),\n",
    "                                                                     plusminus, KBest_forest_cv.std()))\n",
    "print(\"The cv scores are: {}\".format(KBest_forest_cv))\n",
    "\n",
    "conf_df = pd.DataFrame(KBest_forest_confusion_train)\n",
    "\n",
    "FP = conf_df.loc[0, 1]\n",
    "FN = conf_df.loc[1, 0]\n",
    "NegT = conf_df.iloc[0].sum()\n",
    "PosT = conf_df.iloc[1].sum()\n",
    "\n",
    "print(\"\\nTraining-Set Metrics:\")\n",
    "print(\"The training score is: {:.2%}\\n\".format(KBest_forest_train_score))\n",
    "print(conf_df)\n",
    "print('\\nFalse Positive/Type I Error: {} ({:.2%})'.format(FP, (FP / NegT)))\n",
    "print('False Negative/Type II Error: {} ({:.2%})'.format(FN, (FN / PosT)))\n",
    "print('Balanced Accuracy: {:.2%}\\n'.format(KBest_forest_train))\n",
    "\n",
    "conf_df2 = pd.DataFrame(KBest_forest_confusion_test)\n",
    "\n",
    "FP2 = conf_df2.loc[0, 1]\n",
    "FN2 = conf_df2.loc[1, 0]\n",
    "NegT2 = conf_df2.iloc[0].sum()\n",
    "PosT2 = conf_df2.iloc[1].sum()\n",
    "\n",
    "print(\"Test-Set Metrics:\")\n",
    "print(\"The test score is: {:.2%}\\n\".format(KBest_forest_test_score))\n",
    "print(conf_df2)\n",
    "print('\\nFalse Positive/Type I Error: {} ({:.2%})'.format(FP2, (FP2 / NegT2)))\n",
    "print('False Negative/Type II Error: {} ({:.2%})'.format(FN2, (FN2 / PosT2)))\n",
    "print('Balanced Accuracy: {:.2%}'.format(KBest_forest_test))\n",
    "\n",
    "print('\\n\\nFeature Importances:\\n')\n",
    "feat_imp = pd.DataFrame(KBest_forest.feature_importances_.round(2), index = KBest_train_X.columns, \n",
    "                        columns = [\"Importances\"])\n",
    "display(feat_imp.sort_values('Importances', ascending = False))"
   ]
  },
  {
   "cell_type": "code",
   "execution_count": 116,
   "metadata": {},
   "outputs": [
    {
     "data": {
      "text/plain": [
       "28"
      ]
     },
     "execution_count": 116,
     "metadata": {},
     "output_type": "execute_result"
    }
   ],
   "source": [
    "del KBest_forest\n",
    "del KBest_forest_train_pred_\n",
    "del KBest_forest_test_pred_ \n",
    "del KBest_forest_confusion_train\n",
    "del KBest_forest_confusion_test\n",
    "del KBest_forest_cv\n",
    "del KBest_forest_train_score\n",
    "del KBest_forest_test_score\n",
    "del KBest_forest_train\n",
    "del KBest_forest_test\n",
    "gc.collect()"
   ]
  },
  {
   "cell_type": "markdown",
   "metadata": {},
   "source": [
    "##### PCA Features"
   ]
  },
  {
   "cell_type": "code",
   "execution_count": 117,
   "metadata": {},
   "outputs": [],
   "source": [
    "PCA_forest = RandomForestClassifier()\n",
    "\n",
    "PCA_forest = PCA_forest.fit(PCA_train_X, cyber_train_dummy_Y)\n",
    "PCA_forest_train_pred_ = PCA_forest.predict(PCA_train_X)\n",
    "PCA_forest_test_pred_ = PCA_forest.predict(PCA_test_X)\n",
    "\n",
    "# Evaluation:\n",
    "  # Confusion Matrices:\n",
    "PCA_forest_confusion_train = confusion_matrix(cyber_train_dummy_Y, PCA_forest_train_pred_, labels = [0, 1])\n",
    "PCA_forest_confusion_test = confusion_matrix(cyber_test_dummy_Y, PCA_forest_test_pred_, labels = [0, 1])\n",
    "\n",
    "  # Cross-validation and train/test scores:\n",
    "PCA_forest_cv = cross_val_score(PCA_forest, PCA_train_X, cyber_train_dummy_Y, cv = 5)\n",
    "PCA_forest_train_score = PCA_forest.score(PCA_train_X, cyber_train_dummy_Y)\n",
    "PCA_forest_test_score = PCA_forest.score(PCA_test_X, cyber_test_dummy_Y)\n",
    "\n",
    "  # Looking and balanced accuracy/f1 scores:\n",
    "PCA_forest_train = balanced_accuracy_score(cyber_train_dummy_Y, PCA_forest_train_pred_)    \n",
    "PCA_forest_test = balanced_accuracy_score(cyber_test_dummy_Y, PCA_forest_test_pred_)    "
   ]
  },
  {
   "cell_type": "code",
   "execution_count": 118,
   "metadata": {
    "scrolled": true
   },
   "outputs": [
    {
     "name": "stdout",
     "output_type": "stream",
     "text": [
      "\n",
      "The mean cross-validation score is: 93.04% ±0.43%\n",
      "The cv scores are: [0.93005671 0.92249527 0.93377483 0.93087121 0.93465909]\n",
      "\n",
      "Training-Set Metrics:\n",
      "The training score is: 99.28%\n",
      "\n",
      "     0     1\n",
      "0  430    23\n",
      "1   15  4817\n",
      "\n",
      "False Positive/Type I Error: 23 (5.08%)\n",
      "False Negative/Type II Error: 15 (0.31%)\n",
      "Balanced Accuracy: 97.31%\n",
      "\n",
      "Test-Set Metrics:\n",
      "The test score is: 93.25%\n",
      "\n",
      "    0     1\n",
      "0  66    89\n",
      "1  30  1577\n",
      "\n",
      "False Positive/Type I Error: 89 (57.42%)\n",
      "False Negative/Type II Error: 30 (1.87%)\n",
      "Balanced Accuracy: 70.36%\n"
     ]
    }
   ],
   "source": [
    "plusminus = u\"\\u00B1\"\n",
    "print(\"\\nThe mean cross-validation score is: {:.2%} {}{:.2%}\".format(PCA_forest_cv.mean(),\n",
    "                                                                     plusminus, PCA_forest_cv.std()))\n",
    "print(\"The cv scores are: {}\".format(PCA_forest_cv))\n",
    "\n",
    "conf_df = pd.DataFrame(PCA_forest_confusion_train)\n",
    "\n",
    "FP = conf_df.loc[0, 1]\n",
    "FN = conf_df.loc[1, 0]\n",
    "NegT = conf_df.iloc[0].sum()\n",
    "PosT = conf_df.iloc[1].sum()\n",
    "\n",
    "print(\"\\nTraining-Set Metrics:\")\n",
    "print(\"The training score is: {:.2%}\\n\".format(PCA_forest_train_score))\n",
    "print(conf_df)\n",
    "print('\\nFalse Positive/Type I Error: {} ({:.2%})'.format(FP, (FP / NegT)))\n",
    "print('False Negative/Type II Error: {} ({:.2%})'.format(FN, (FN / PosT)))\n",
    "print('Balanced Accuracy: {:.2%}\\n'.format(PCA_forest_train))\n",
    "\n",
    "conf_df2 = pd.DataFrame(PCA_forest_confusion_test)\n",
    "\n",
    "FP2 = conf_df2.loc[0, 1]\n",
    "FN2 = conf_df2.loc[1, 0]\n",
    "NegT2 = conf_df2.iloc[0].sum()\n",
    "PosT2 = conf_df2.iloc[1].sum()\n",
    "\n",
    "print(\"Test-Set Metrics:\")\n",
    "print(\"The test score is: {:.2%}\\n\".format(PCA_forest_test_score))\n",
    "print(conf_df2)\n",
    "print('\\nFalse Positive/Type I Error: {} ({:.2%})'.format(FP2, (FP2 / NegT2)))\n",
    "print('False Negative/Type II Error: {} ({:.2%})'.format(FN2, (FN2 / PosT2)))\n",
    "print('Balanced Accuracy: {:.2%}'.format(PCA_forest_test))\n"
   ]
  },
  {
   "cell_type": "markdown",
   "metadata": {},
   "source": [
    "Here, we can see quite a bit of over-fitting given that the training score and balanced accuracy scores are nearly perfect, while the test score is about 5 percentage points lower than the training score and over 20 points below the balanced accuracy (a drastic difference compared to what we have seen thus far). The nice aspect about the Random Forest, however, is that it lets us look into the feature importances which were used in creating the model, which we saw in the KBest model above."
   ]
  },
  {
   "cell_type": "code",
   "execution_count": 119,
   "metadata": {},
   "outputs": [
    {
     "data": {
      "text/plain": [
       "34"
      ]
     },
     "execution_count": 119,
     "metadata": {},
     "output_type": "execute_result"
    }
   ],
   "source": [
    "del PCA_forest\n",
    "del PCA_forest_train_pred_\n",
    "del PCA_forest_test_pred_ \n",
    "del PCA_forest_confusion_train\n",
    "del PCA_forest_confusion_test\n",
    "del PCA_forest_cv\n",
    "del PCA_forest_train_score\n",
    "del PCA_forest_test_score\n",
    "del PCA_forest_train\n",
    "del PCA_forest_test\n",
    "gc.collect()"
   ]
  },
  {
   "cell_type": "markdown",
   "metadata": {},
   "source": [
    "#### Support Vector Classifier:"
   ]
  },
  {
   "cell_type": "markdown",
   "metadata": {},
   "source": [
    "##### KBest Features:"
   ]
  },
  {
   "cell_type": "code",
   "execution_count": 120,
   "metadata": {},
   "outputs": [],
   "source": [
    "from sklearn.svm import SVC\n",
    "\n",
    "KBest_SVC = SVC()\n",
    "\n",
    "KBest_SVC = KBest_SVC.fit(KBest_train_X, cyber_train_dummy_Y)\n",
    "KBest_SVC_train_pred_ = KBest_SVC.predict(KBest_train_X)\n",
    "KBest_SVC_test_pred_ = KBest_SVC.predict(KBest_test_X)\n",
    "\n",
    "# Evaluation:\n",
    "  # Confusion matrices:\n",
    "KBest_SVC_confusion_train = confusion_matrix(cyber_train_dummy_Y, KBest_SVC_train_pred_, labels = [0, 1])\n",
    "KBest_SVC_confusion_test = confusion_matrix(cyber_test_dummy_Y, KBest_SVC_test_pred_, labels = [0, 1])\n",
    "\n",
    "  # Cross-validation and train/test scores:\n",
    "KBest_SVC_cv = cross_val_score(KBest_SVC, KBest_train_X, cyber_train_dummy_Y, cv = 5)\n",
    "KBest_SVC_train_score = KBest_SVC.score(KBest_train_X, cyber_train_dummy_Y)\n",
    "KBest_SVC_test_score = KBest_SVC.score(KBest_test_X, cyber_test_dummy_Y)\n",
    "\n",
    "  # Looking at balanced accuracy/f1 scores:\n",
    "KBest_SVC_train = balanced_accuracy_score(cyber_train_dummy_Y, KBest_SVC_train_pred_)\n",
    "KBest_SVC_test = balanced_accuracy_score(cyber_test_dummy_Y, KBest_SVC_test_pred_)    "
   ]
  },
  {
   "cell_type": "code",
   "execution_count": 121,
   "metadata": {},
   "outputs": [
    {
     "name": "stdout",
     "output_type": "stream",
     "text": [
      "\n",
      "The mean cross-validation score is: 92.47% ±0.62%\n",
      "The cv scores are: [0.92533081 0.93194707 0.92147588 0.92992424 0.91477273]\n",
      "\n",
      "Training-Set Metrics:\n",
      "The training score is: 93.62%\n",
      "\n",
      "     0     1\n",
      "0  165   288\n",
      "1   49  4783\n",
      "\n",
      "False Positive/Type I Error: 288 (63.58%)\n",
      "False Negative/Type II Error: 49 (1.01%)\n",
      "Balanced Accuracy: 67.70%\n",
      "\n",
      "Test-Set Metrics:\n",
      "The test score is: 94.04%\n",
      "\n",
      "    0     1\n",
      "0  64    91\n",
      "1  14  1593\n",
      "\n",
      "False Positive/Type I Error: 91 (58.71%)\n",
      "False Negative/Type II Error: 14 (0.87%)\n",
      "Balanced Accuracy: 70.21%\n"
     ]
    }
   ],
   "source": [
    "plusminus = u\"\\u00B1\"\n",
    "print(\"\\nThe mean cross-validation score is: {:.2%} {}{:.2%}\".format(KBest_SVC_cv.mean(),\n",
    "                                                                     plusminus, KBest_SVC_cv.std()))\n",
    "print(\"The cv scores are: {}\".format(KBest_SVC_cv))\n",
    "\n",
    "conf_df = pd.DataFrame(KBest_SVC_confusion_train)\n",
    "\n",
    "FP = conf_df.loc[0, 1]\n",
    "FN = conf_df.loc[1, 0]\n",
    "NegT = conf_df.iloc[0].sum()\n",
    "PosT = conf_df.iloc[1].sum()\n",
    "\n",
    "print(\"\\nTraining-Set Metrics:\")\n",
    "print(\"The training score is: {:.2%}\\n\".format(KBest_SVC_train_score))\n",
    "print(conf_df)\n",
    "print('\\nFalse Positive/Type I Error: {} ({:.2%})'.format(FP, (FP / NegT)))\n",
    "print('False Negative/Type II Error: {} ({:.2%})'.format(FN, (FN / PosT)))\n",
    "print('Balanced Accuracy: {:.2%}\\n'.format(KBest_SVC_train))\n",
    "\n",
    "conf_df2 = pd.DataFrame(KBest_SVC_confusion_test)\n",
    "\n",
    "FP2 = conf_df2.loc[0, 1]\n",
    "FN2 = conf_df2.loc[1, 0]\n",
    "NegT2 = conf_df2.iloc[0].sum()\n",
    "PosT2 = conf_df2.iloc[1].sum()\n",
    "\n",
    "print(\"Test-Set Metrics:\")\n",
    "print(\"The test score is: {:.2%}\\n\".format(KBest_SVC_test_score))\n",
    "print(conf_df2)\n",
    "print('\\nFalse Positive/Type I Error: {} ({:.2%})'.format(FP2, (FP2 / NegT2)))\n",
    "print('False Negative/Type II Error: {} ({:.2%})'.format(FN2, (FN2 / PosT2)))\n",
    "print('Balanced Accuracy: {:.2%}'.format(KBest_SVC_test))"
   ]
  },
  {
   "cell_type": "code",
   "execution_count": 122,
   "metadata": {},
   "outputs": [
    {
     "data": {
      "text/plain": [
       "34"
      ]
     },
     "execution_count": 122,
     "metadata": {},
     "output_type": "execute_result"
    }
   ],
   "source": [
    "del KBest_SVC\n",
    "del KBest_SVC_train_pred_\n",
    "del KBest_SVC_test_pred_ \n",
    "del KBest_SVC_confusion_train\n",
    "del KBest_SVC_confusion_test\n",
    "del KBest_SVC_cv\n",
    "del KBest_SVC_train_score\n",
    "del KBest_SVC_test_score\n",
    "del KBest_SVC_train\n",
    "del KBest_SVC_test\n",
    "gc.collect()"
   ]
  },
  {
   "cell_type": "markdown",
   "metadata": {},
   "source": [
    "##### PCA Features"
   ]
  },
  {
   "cell_type": "code",
   "execution_count": 123,
   "metadata": {},
   "outputs": [],
   "source": [
    "PCA_SVC = SVC()\n",
    "\n",
    "PCA_SVC = PCA_SVC.fit(PCA_train_X, cyber_train_dummy_Y)\n",
    "PCA_SVC_train_pred_ = PCA_SVC.predict(PCA_train_X)\n",
    "PCA_SVC_test_pred_ = PCA_SVC.predict(PCA_test_X)\n",
    "\n",
    "# Evaluation:\n",
    "  # Confusion Matrices:\n",
    "PCA_SVC_confusion_train = confusion_matrix(cyber_train_dummy_Y, PCA_SVC_train_pred_, labels = [0, 1])\n",
    "PCA_SVC_confusion_test = confusion_matrix(cyber_test_dummy_Y, PCA_SVC_test_pred_, labels = [0, 1])\n",
    "\n",
    "  # Cross-validation and train/test scores:\n",
    "PCA_SVC_cv = cross_val_score(PCA_SVC, PCA_train_X, cyber_train_dummy_Y, cv = 5)\n",
    "PCA_SVC_train_score = PCA_SVC.score(PCA_train_X, cyber_train_dummy_Y)\n",
    "PCA_SVC_test_score = PCA_SVC.score(PCA_test_X, cyber_test_dummy_Y)\n",
    "\n",
    "  # Looking at the F1/balanced accuracy scores:\n",
    "PCA_SVC_train = balanced_accuracy_score(cyber_train_dummy_Y, PCA_SVC_train_pred_)\n",
    "PCA_SVC_test = balanced_accuracy_score(cyber_test_dummy_Y, PCA_SVC_test_pred_)"
   ]
  },
  {
   "cell_type": "code",
   "execution_count": 124,
   "metadata": {},
   "outputs": [
    {
     "name": "stdout",
     "output_type": "stream",
     "text": [
      "\n",
      "The mean cross-validation score is: 93.45% ±0.25%\n",
      "The cv scores are: [0.93383743 0.93667297 0.93661306 0.92992424 0.93560606]\n",
      "\n",
      "Training-Set Metrics:\n",
      "The training score is: 93.55%\n",
      "\n",
      "     0     1\n",
      "0  166   287\n",
      "1   54  4778\n",
      "\n",
      "False Positive/Type I Error: 287 (63.36%)\n",
      "False Negative/Type II Error: 54 (1.12%)\n",
      "Balanced Accuracy: 67.76%\n",
      "\n",
      "Test-Set Metrics:\n",
      "The test score is: 94.10%\n",
      "\n",
      "    0     1\n",
      "0  66    89\n",
      "1  15  1592\n",
      "\n",
      "False Positive/Type I Error: 89 (57.42%)\n",
      "False Negative/Type II Error: 15 (0.93%)\n",
      "Balanced Accuracy: 70.82%\n"
     ]
    }
   ],
   "source": [
    "plusminus = u\"\\u00B1\"\n",
    "print(\"\\nThe mean cross-validation score is: {:.2%} {}{:.2%}\".format(PCA_SVC_cv.mean(),\n",
    "                                                                     plusminus, PCA_SVC_cv.std()))\n",
    "print(\"The cv scores are: {}\".format(PCA_SVC_cv))\n",
    "\n",
    "conf_df = pd.DataFrame(PCA_SVC_confusion_train)\n",
    "\n",
    "FP = conf_df.loc[0, 1]\n",
    "FN = conf_df.loc[1, 0]\n",
    "NegT = conf_df.iloc[0].sum()\n",
    "PosT = conf_df.iloc[1].sum()\n",
    "\n",
    "print(\"\\nTraining-Set Metrics:\")\n",
    "print(\"The training score is: {:.2%}\\n\".format(PCA_SVC_train_score))\n",
    "print(conf_df)\n",
    "print('\\nFalse Positive/Type I Error: {} ({:.2%})'.format(FP, (FP / NegT)))\n",
    "print('False Negative/Type II Error: {} ({:.2%})'.format(FN, (FN / PosT)))\n",
    "print('Balanced Accuracy: {:.2%}\\n'.format(PCA_SVC_train))\n",
    "\n",
    "conf_df2 = pd.DataFrame(PCA_SVC_confusion_test)\n",
    "\n",
    "FP2 = conf_df2.loc[0, 1]\n",
    "FN2 = conf_df2.loc[1, 0]\n",
    "NegT2 = conf_df2.iloc[0].sum()\n",
    "PosT2 = conf_df2.iloc[1].sum()\n",
    "\n",
    "print(\"Test-Set Metrics:\")\n",
    "print(\"The test score is: {:.2%}\\n\".format(PCA_SVC_test_score))\n",
    "print(conf_df2)\n",
    "print('\\nFalse Positive/Type I Error: {} ({:.2%})'.format(FP2, (FP2 / NegT2)))\n",
    "print('False Negative/Type II Error: {} ({:.2%})'.format(FN2, (FN2 / PosT2)))\n",
    "print('Balanced Accuracy: {:.2%}'.format(PCA_SVC_test))"
   ]
  },
  {
   "cell_type": "markdown",
   "metadata": {},
   "source": [
    "These support vector models are considerably stable in the sense that they are able to achieve similar test scores throughout various rounds, which is good.  The balanced accuracy scores are decent and the amount of error is considerably less than the models above. Let's take a look at one more round of model-type before we make this our official model."
   ]
  },
  {
   "cell_type": "code",
   "execution_count": 125,
   "metadata": {},
   "outputs": [
    {
     "data": {
      "text/plain": [
       "34"
      ]
     },
     "execution_count": 125,
     "metadata": {},
     "output_type": "execute_result"
    }
   ],
   "source": [
    "del PCA_SVC\n",
    "del PCA_SVC_train_pred_\n",
    "del PCA_SVC_test_pred_ \n",
    "del PCA_SVC_confusion_train\n",
    "del PCA_SVC_confusion_test\n",
    "del PCA_SVC_cv\n",
    "del PCA_SVC_train_score\n",
    "del PCA_SVC_test_score\n",
    "del PCA_SVC_train\n",
    "del PCA_SVC_test\n",
    "gc.collect()"
   ]
  },
  {
   "cell_type": "markdown",
   "metadata": {},
   "source": [
    "#### Gradient Boosting:"
   ]
  },
  {
   "cell_type": "markdown",
   "metadata": {},
   "source": [
    "##### KBest Features:"
   ]
  },
  {
   "cell_type": "code",
   "execution_count": 126,
   "metadata": {},
   "outputs": [],
   "source": [
    "from sklearn.ensemble import GradientBoostingClassifier\n",
    "\n",
    "KBest_GBC = GradientBoostingClassifier()\n",
    "\n",
    "KBest_GBC = KBest_GBC.fit(KBest_train_X, cyber_train_dummy_Y)\n",
    "KBest_GBC_train_pred_ = KBest_GBC.predict(KBest_train_X)\n",
    "KBest_GBC_test_pred_ = KBest_GBC.predict(KBest_test_X)\n",
    "\n",
    "# Evaluation:\n",
    "  # Confusion matrices:    \n",
    "KBest_GBC_confusion_train = confusion_matrix(cyber_train_dummy_Y, KBest_GBC_train_pred_, labels = [0, 1])\n",
    "KBest_GBC_confusion_test = confusion_matrix(cyber_test_dummy_Y, KBest_GBC_test_pred_, labels = [0, 1])\n",
    "\n",
    "  # Cross-validation and train/test scores:\n",
    "KBest_GBC_cv = cross_val_score(KBest_GBC, KBest_train_X, cyber_train_dummy_Y, cv = 5)\n",
    "KBest_GBC_train_score = KBest_GBC.score(KBest_train_X, cyber_train_dummy_Y)\n",
    "KBest_GBC_test_score = KBest_GBC.score(KBest_test_X, cyber_test_dummy_Y)\n",
    "\n",
    "  # Looking at the F1/balanced-accuracy scores:\n",
    "KBest_GBC_train = balanced_accuracy_score(cyber_train_dummy_Y, KBest_GBC_train_pred_)\n",
    "KBest_GBC_test = balanced_accuracy_score(cyber_test_dummy_Y, KBest_GBC_test_pred_)"
   ]
  },
  {
   "cell_type": "code",
   "execution_count": 127,
   "metadata": {},
   "outputs": [
    {
     "name": "stdout",
     "output_type": "stream",
     "text": [
      "\n",
      "The mean cross-validation score is: 93.93% ±0.27%\n",
      "The cv scores are: [0.93950851 0.93950851 0.93945128 0.93465909 0.94318182]\n",
      "\n",
      "Training-Set Metrics:\n",
      "The training score is: 94.85%\n",
      "\n",
      "     0     1\n",
      "0  235   218\n",
      "1   54  4778\n",
      "\n",
      "False Positive/Type I Error: 218 (48.12%)\n",
      "False Negative/Type II Error: 54 (1.12%)\n",
      "Balanced Accuracy: 75.38%\n",
      "\n",
      "Test-Set Metrics:\n",
      "The test score is: 94.04%\n",
      "\n",
      "    0     1\n",
      "0  71    84\n",
      "1  21  1586\n",
      "\n",
      "False Positive/Type I Error: 84 (54.19%)\n",
      "False Negative/Type II Error: 21 (1.31%)\n",
      "Balanced Accuracy: 72.25%\n",
      "\n",
      "\n",
      "Feature Importances:\n",
      "\n"
     ]
    },
    {
     "data": {
      "text/html": [
       "<div>\n",
       "<style scoped>\n",
       "    .dataframe tbody tr th:only-of-type {\n",
       "        vertical-align: middle;\n",
       "    }\n",
       "\n",
       "    .dataframe tbody tr th {\n",
       "        vertical-align: top;\n",
       "    }\n",
       "\n",
       "    .dataframe thead th {\n",
       "        text-align: right;\n",
       "    }\n",
       "</style>\n",
       "<table border=\"1\" class=\"dataframe\">\n",
       "  <thead>\n",
       "    <tr style=\"text-align: right;\">\n",
       "      <th></th>\n",
       "      <th>Importances</th>\n",
       "    </tr>\n",
       "    <tr>\n",
       "      <th>0</th>\n",
       "      <th></th>\n",
       "    </tr>\n",
       "  </thead>\n",
       "  <tbody>\n",
       "    <tr>\n",
       "      <th>target_1txt_Military</th>\n",
       "      <td>0.34</td>\n",
       "    </tr>\n",
       "    <tr>\n",
       "      <th>Explosives</th>\n",
       "      <td>0.15</td>\n",
       "    </tr>\n",
       "    <tr>\n",
       "      <th>attack_1txt_Assassination</th>\n",
       "      <td>0.15</td>\n",
       "    </tr>\n",
       "    <tr>\n",
       "      <th>corp1_Election Commission of India</th>\n",
       "      <td>0.05</td>\n",
       "    </tr>\n",
       "    <tr>\n",
       "      <th>country_txt_Ireland</th>\n",
       "      <td>0.03</td>\n",
       "    </tr>\n",
       "    <tr>\n",
       "      <th>sub_weapontxt_Pipe Bomb</th>\n",
       "      <td>0.02</td>\n",
       "    </tr>\n",
       "    <tr>\n",
       "      <th>target_1txt_Private Citizens &amp; Property</th>\n",
       "      <td>0.02</td>\n",
       "    </tr>\n",
       "    <tr>\n",
       "      <th>sub_weapontxt_Letter Bomb</th>\n",
       "      <td>0.02</td>\n",
       "    </tr>\n",
       "    <tr>\n",
       "      <th>attack_1txt_Bombing/Explosion</th>\n",
       "      <td>0.02</td>\n",
       "    </tr>\n",
       "    <tr>\n",
       "      <th>region_txt_Western Europe</th>\n",
       "      <td>0.02</td>\n",
       "    </tr>\n",
       "    <tr>\n",
       "      <th>Unknown</th>\n",
       "      <td>0.01</td>\n",
       "    </tr>\n",
       "    <tr>\n",
       "      <th>sub_weapontxt_Time Fuse</th>\n",
       "      <td>0.01</td>\n",
       "    </tr>\n",
       "    <tr>\n",
       "      <th>country_txt_Germany</th>\n",
       "      <td>0.01</td>\n",
       "    </tr>\n",
       "    <tr>\n",
       "      <th>corp1_Unified Communist Party of Nepal: Maoist (UCPN-M)</th>\n",
       "      <td>0.01</td>\n",
       "    </tr>\n",
       "    <tr>\n",
       "      <th>Faizabad</th>\n",
       "      <td>0.01</td>\n",
       "    </tr>\n",
       "    <tr>\n",
       "      <th>Pagadian</th>\n",
       "      <td>0.01</td>\n",
       "    </tr>\n",
       "    <tr>\n",
       "      <th>Mingora</th>\n",
       "      <td>0.00</td>\n",
       "    </tr>\n",
       "    <tr>\n",
       "      <th>Dublin</th>\n",
       "      <td>0.00</td>\n",
       "    </tr>\n",
       "    <tr>\n",
       "      <th>Imphal</th>\n",
       "      <td>0.00</td>\n",
       "    </tr>\n",
       "    <tr>\n",
       "      <th>Frankfurt</th>\n",
       "      <td>0.00</td>\n",
       "    </tr>\n",
       "    <tr>\n",
       "      <th>crit3</th>\n",
       "      <td>0.00</td>\n",
       "    </tr>\n",
       "    <tr>\n",
       "      <th>Dhaka</th>\n",
       "      <td>0.00</td>\n",
       "    </tr>\n",
       "    <tr>\n",
       "      <th>Bosaso</th>\n",
       "      <td>0.00</td>\n",
       "    </tr>\n",
       "    <tr>\n",
       "      <th>Belfast</th>\n",
       "      <td>0.00</td>\n",
       "    </tr>\n",
       "    <tr>\n",
       "      <th>Paris</th>\n",
       "      <td>0.00</td>\n",
       "    </tr>\n",
       "    <tr>\n",
       "      <th>Aguada</th>\n",
       "      <td>0.00</td>\n",
       "    </tr>\n",
       "    <tr>\n",
       "      <th>White extremists</th>\n",
       "      <td>0.00</td>\n",
       "    </tr>\n",
       "    <tr>\n",
       "      <th>Tripoli Province of the Islamic State</th>\n",
       "      <td>0.00</td>\n",
       "    </tr>\n",
       "    <tr>\n",
       "      <th>Baharak district</th>\n",
       "      <td>0.00</td>\n",
       "    </tr>\n",
       "    <tr>\n",
       "      <th>Tral</th>\n",
       "      <td>0.00</td>\n",
       "    </tr>\n",
       "    <tr>\n",
       "      <th>Tibu</th>\n",
       "      <td>0.00</td>\n",
       "    </tr>\n",
       "    <tr>\n",
       "      <th>Tiguma</th>\n",
       "      <td>0.00</td>\n",
       "    </tr>\n",
       "    <tr>\n",
       "      <th>Tirap district</th>\n",
       "      <td>0.00</td>\n",
       "    </tr>\n",
       "    <tr>\n",
       "      <th>Tissa</th>\n",
       "      <td>0.00</td>\n",
       "    </tr>\n",
       "    <tr>\n",
       "      <th>Tawhid and Jihad</th>\n",
       "      <td>0.00</td>\n",
       "    </tr>\n",
       "    <tr>\n",
       "      <th>Tuddingan</th>\n",
       "      <td>0.00</td>\n",
       "    </tr>\n",
       "    <tr>\n",
       "      <th>Turin</th>\n",
       "      <td>0.00</td>\n",
       "    </tr>\n",
       "    <tr>\n",
       "      <th>Urgun district</th>\n",
       "      <td>0.00</td>\n",
       "    </tr>\n",
       "    <tr>\n",
       "      <th>Virginia Beach</th>\n",
       "      <td>0.00</td>\n",
       "    </tr>\n",
       "    <tr>\n",
       "      <th>Yairipok</th>\n",
       "      <td>0.00</td>\n",
       "    </tr>\n",
       "    <tr>\n",
       "      <th>Zab</th>\n",
       "      <td>0.00</td>\n",
       "    </tr>\n",
       "    <tr>\n",
       "      <th>Zemraya</th>\n",
       "      <td>0.00</td>\n",
       "    </tr>\n",
       "    <tr>\n",
       "      <th>Zhutovi</th>\n",
       "      <td>0.00</td>\n",
       "    </tr>\n",
       "    <tr>\n",
       "      <th>Incendiary</th>\n",
       "      <td>0.00</td>\n",
       "    </tr>\n",
       "    <tr>\n",
       "      <th>The World United Formosans for Independence (WUFI)</th>\n",
       "      <td>0.00</td>\n",
       "    </tr>\n",
       "    <tr>\n",
       "      <th>National Socialist Council of Nagaland</th>\n",
       "      <td>0.00</td>\n",
       "    </tr>\n",
       "    <tr>\n",
       "      <th>Riyadus-Salikhin Reconnaissance and Sabotage Battalion of Chechen Martyrs</th>\n",
       "      <td>0.00</td>\n",
       "    </tr>\n",
       "    <tr>\n",
       "      <th>Revolutionary Struggle</th>\n",
       "      <td>0.00</td>\n",
       "    </tr>\n",
       "    <tr>\n",
       "      <th>attack_1txt_Hostage Taking (Kidnapping)</th>\n",
       "      <td>0.00</td>\n",
       "    </tr>\n",
       "    <tr>\n",
       "      <th>target_1txt_Unknown</th>\n",
       "      <td>0.00</td>\n",
       "    </tr>\n",
       "    <tr>\n",
       "      <th>sub_targettxt_Gov_Figure1</th>\n",
       "      <td>0.00</td>\n",
       "    </tr>\n",
       "    <tr>\n",
       "      <th>sub_targettxt_Political</th>\n",
       "      <td>0.00</td>\n",
       "    </tr>\n",
       "    <tr>\n",
       "      <th>sub_targettxt_Unnamed Civilian/Unspecified</th>\n",
       "      <td>0.00</td>\n",
       "    </tr>\n",
       "    <tr>\n",
       "      <th>corp1_Council of Representatives of Iraq</th>\n",
       "      <td>0.00</td>\n",
       "    </tr>\n",
       "    <tr>\n",
       "      <th>corp1_Government of Nineveh</th>\n",
       "      <td>0.00</td>\n",
       "    </tr>\n",
       "    <tr>\n",
       "      <th>specific_target_A police chief</th>\n",
       "      <td>0.00</td>\n",
       "    </tr>\n",
       "    <tr>\n",
       "      <th>specific_target_Polling Station</th>\n",
       "      <td>0.00</td>\n",
       "    </tr>\n",
       "    <tr>\n",
       "      <th>victim_nationalitytxt_Ireland</th>\n",
       "      <td>0.00</td>\n",
       "    </tr>\n",
       "    <tr>\n",
       "      <th>sub_weapontxt_Other Explosive Type</th>\n",
       "      <td>0.00</td>\n",
       "    </tr>\n",
       "    <tr>\n",
       "      <th>Armed Commandos of Liberation</th>\n",
       "      <td>0.00</td>\n",
       "    </tr>\n",
       "    <tr>\n",
       "      <th>Bangladesh Nationalist Party (BNP)</th>\n",
       "      <td>0.00</td>\n",
       "    </tr>\n",
       "    <tr>\n",
       "      <th>Besi Merah Putih Militia</th>\n",
       "      <td>0.00</td>\n",
       "    </tr>\n",
       "    <tr>\n",
       "      <th>Black Liberation Army</th>\n",
       "      <td>0.00</td>\n",
       "    </tr>\n",
       "    <tr>\n",
       "      <th>Communist Party of Nepal - Maoist (CPN-Maoist-Chand)</th>\n",
       "      <td>0.00</td>\n",
       "    </tr>\n",
       "    <tr>\n",
       "      <th>Communist Party of Nepal-Maoist (Baidya)</th>\n",
       "      <td>0.00</td>\n",
       "    </tr>\n",
       "    <tr>\n",
       "      <th>Dima Halao Daoga (DHD)</th>\n",
       "      <td>0.00</td>\n",
       "    </tr>\n",
       "    <tr>\n",
       "      <th>Hekla Reception Committee-Initiative for More Social Eruptions</th>\n",
       "      <td>0.00</td>\n",
       "    </tr>\n",
       "    <tr>\n",
       "      <th>Informal Anarchist Federation</th>\n",
       "      <td>0.00</td>\n",
       "    </tr>\n",
       "    <tr>\n",
       "      <th>Irish_Separatists</th>\n",
       "      <td>0.00</td>\n",
       "    </tr>\n",
       "    <tr>\n",
       "      <th>Loyalists</th>\n",
       "      <td>0.00</td>\n",
       "    </tr>\n",
       "    <tr>\n",
       "      <th>Maoist Communist Party of Manipur</th>\n",
       "      <td>0.00</td>\n",
       "    </tr>\n",
       "    <tr>\n",
       "      <th>Middle_Eastern_Religious</th>\n",
       "      <td>0.00</td>\n",
       "    </tr>\n",
       "    <tr>\n",
       "      <th>Muslim Brotherhood</th>\n",
       "      <td>0.00</td>\n",
       "    </tr>\n",
       "    <tr>\n",
       "      <th>doubt</th>\n",
       "      <td>0.00</td>\n",
       "    </tr>\n",
       "    <tr>\n",
       "      <th>Organization for Revolutionary Self Defense</th>\n",
       "      <td>0.00</td>\n",
       "    </tr>\n",
       "    <tr>\n",
       "      <th>Popular Resistance (Laiki Antistasi)</th>\n",
       "      <td>0.00</td>\n",
       "    </tr>\n",
       "    <tr>\n",
       "      <th>Pro Hartal Activists</th>\n",
       "      <td>0.00</td>\n",
       "    </tr>\n",
       "    <tr>\n",
       "      <th>Melee</th>\n",
       "      <td>0.00</td>\n",
       "    </tr>\n",
       "  </tbody>\n",
       "</table>\n",
       "</div>"
      ],
      "text/plain": [
       "                                                    Importances\n",
       "0                                                              \n",
       "target_1txt_Military                                       0.34\n",
       "Explosives                                                 0.15\n",
       "attack_1txt_Assassination                                  0.15\n",
       "corp1_Election Commission of India                         0.05\n",
       "country_txt_Ireland                                        0.03\n",
       "sub_weapontxt_Pipe Bomb                                    0.02\n",
       "target_1txt_Private Citizens & Property                    0.02\n",
       "sub_weapontxt_Letter Bomb                                  0.02\n",
       "attack_1txt_Bombing/Explosion                              0.02\n",
       "region_txt_Western Europe                                  0.02\n",
       "Unknown                                                    0.01\n",
       "sub_weapontxt_Time Fuse                                    0.01\n",
       "country_txt_Germany                                        0.01\n",
       "corp1_Unified Communist Party of Nepal: Maoist ...         0.01\n",
       "Faizabad                                                   0.01\n",
       "Pagadian                                                   0.01\n",
       "Mingora                                                    0.00\n",
       "Dublin                                                     0.00\n",
       "Imphal                                                     0.00\n",
       "Frankfurt                                                  0.00\n",
       "crit3                                                      0.00\n",
       "Dhaka                                                      0.00\n",
       "Bosaso                                                     0.00\n",
       "Belfast                                                    0.00\n",
       "Paris                                                      0.00\n",
       "Aguada                                                     0.00\n",
       "White extremists                                           0.00\n",
       "Tripoli Province of the Islamic State                      0.00\n",
       "Baharak district                                           0.00\n",
       "Tral                                                       0.00\n",
       "Tibu                                                       0.00\n",
       "Tiguma                                                     0.00\n",
       "Tirap district                                             0.00\n",
       "Tissa                                                      0.00\n",
       "Tawhid and Jihad                                           0.00\n",
       "Tuddingan                                                  0.00\n",
       "Turin                                                      0.00\n",
       "Urgun district                                             0.00\n",
       "Virginia Beach                                             0.00\n",
       "Yairipok                                                   0.00\n",
       "Zab                                                        0.00\n",
       "Zemraya                                                    0.00\n",
       "Zhutovi                                                    0.00\n",
       "Incendiary                                                 0.00\n",
       "The World United Formosans for Independence (WUFI)         0.00\n",
       "National Socialist Council of Nagaland                     0.00\n",
       "Riyadus-Salikhin Reconnaissance and Sabotage Ba...         0.00\n",
       "Revolutionary Struggle                                     0.00\n",
       "attack_1txt_Hostage Taking (Kidnapping)                    0.00\n",
       "target_1txt_Unknown                                        0.00\n",
       "sub_targettxt_Gov_Figure1                                  0.00\n",
       "sub_targettxt_Political                                    0.00\n",
       "sub_targettxt_Unnamed Civilian/Unspecified                 0.00\n",
       "corp1_Council of Representatives of Iraq                   0.00\n",
       "corp1_Government of Nineveh                                0.00\n",
       "specific_target_A police chief                             0.00\n",
       "specific_target_Polling Station                            0.00\n",
       "victim_nationalitytxt_Ireland                              0.00\n",
       "sub_weapontxt_Other Explosive Type                         0.00\n",
       "Armed Commandos of Liberation                              0.00\n",
       "Bangladesh Nationalist Party (BNP)                         0.00\n",
       "Besi Merah Putih Militia                                   0.00\n",
       "Black Liberation Army                                      0.00\n",
       "Communist Party of Nepal - Maoist (CPN-Maoist-C...         0.00\n",
       "Communist Party of Nepal-Maoist (Baidya)                   0.00\n",
       "Dima Halao Daoga (DHD)                                     0.00\n",
       "Hekla Reception Committee-Initiative for More S...         0.00\n",
       "Informal Anarchist Federation                              0.00\n",
       "Irish_Separatists                                          0.00\n",
       "Loyalists                                                  0.00\n",
       "Maoist Communist Party of Manipur                          0.00\n",
       "Middle_Eastern_Religious                                   0.00\n",
       "Muslim Brotherhood                                         0.00\n",
       "doubt                                                      0.00\n",
       "Organization for Revolutionary Self Defense                0.00\n",
       "Popular Resistance (Laiki Antistasi)                       0.00\n",
       "Pro Hartal Activists                                       0.00\n",
       "Melee                                                      0.00"
      ]
     },
     "metadata": {},
     "output_type": "display_data"
    }
   ],
   "source": [
    "plusminus = u\"\\u00B1\"\n",
    "print(\"\\nThe mean cross-validation score is: {:.2%} {}{:.2%}\".format(KBest_GBC_cv.mean(),\n",
    "                                                                     plusminus, KBest_GBC_cv.std()))\n",
    "print(\"The cv scores are: {}\".format(KBest_GBC_cv))\n",
    "\n",
    "conf_df = pd.DataFrame(KBest_GBC_confusion_train)\n",
    "\n",
    "FP = conf_df.loc[0, 1]\n",
    "FN = conf_df.loc[1, 0]\n",
    "NegT = conf_df.iloc[0].sum()\n",
    "PosT = conf_df.iloc[1].sum()\n",
    "\n",
    "print(\"\\nTraining-Set Metrics:\")\n",
    "print(\"The training score is: {:.2%}\\n\".format(KBest_GBC_train_score))\n",
    "print(conf_df)\n",
    "print('\\nFalse Positive/Type I Error: {} ({:.2%})'.format(FP, (FP / NegT)))\n",
    "print('False Negative/Type II Error: {} ({:.2%})'.format(FN, (FN / PosT)))\n",
    "print('Balanced Accuracy: {:.2%}\\n'.format(KBest_GBC_train))\n",
    "\n",
    "conf_df2 = pd.DataFrame(KBest_GBC_confusion_test)\n",
    "\n",
    "FP2 = conf_df2.loc[0, 1]\n",
    "FN2 = conf_df2.loc[1, 0]\n",
    "NegT2 = conf_df2.iloc[0].sum()\n",
    "PosT2 = conf_df2.iloc[1].sum()\n",
    "\n",
    "print(\"Test-Set Metrics:\")\n",
    "print(\"The test score is: {:.2%}\\n\".format(KBest_GBC_test_score))\n",
    "print(conf_df2)\n",
    "print('\\nFalse Positive/Type I Error: {} ({:.2%})'.format(FP2, (FP2 / NegT2)))\n",
    "print('False Negative/Type II Error: {} ({:.2%})'.format(FN2, (FN2 / PosT2)))\n",
    "print('Balanced Accuracy: {:.2%}'.format(KBest_GBC_test))\n",
    "\n",
    "print('\\n\\nFeature Importances:\\n')\n",
    "feat_imp = pd.DataFrame(KBest_GBC.feature_importances_.round(2), index = KBest_train_X.columns, \n",
    "                        columns = [\"Importances\"])\n",
    "display(feat_imp.sort_values('Importances', ascending = False))"
   ]
  },
  {
   "cell_type": "code",
   "execution_count": 128,
   "metadata": {},
   "outputs": [
    {
     "data": {
      "text/plain": [
       "35"
      ]
     },
     "execution_count": 128,
     "metadata": {},
     "output_type": "execute_result"
    }
   ],
   "source": [
    "del KBest_GBC\n",
    "del KBest_GBC_train_pred_\n",
    "del KBest_GBC_test_pred_ \n",
    "del KBest_GBC_confusion_train\n",
    "del KBest_GBC_confusion_test\n",
    "del KBest_GBC_cv\n",
    "del KBest_GBC_train_score\n",
    "del KBest_GBC_test_score\n",
    "del KBest_GBC_train\n",
    "del KBest_GBC_test\n",
    "gc.collect()"
   ]
  },
  {
   "cell_type": "markdown",
   "metadata": {},
   "source": [
    "##### PCA Features"
   ]
  },
  {
   "cell_type": "code",
   "execution_count": 129,
   "metadata": {},
   "outputs": [],
   "source": [
    "PCA_GBC = GradientBoostingClassifier()\n",
    "\n",
    "PCA_GBC = PCA_GBC.fit(PCA_train_X, cyber_train_dummy_Y)\n",
    "PCA_GBC_train_pred_ = PCA_GBC.predict(PCA_train_X) \n",
    "PCA_GBC_test_pred_ = PCA_GBC.predict(PCA_test_X) \n",
    "\n",
    "# Evaluation:\n",
    "\n",
    "  # Confusion matrices:\n",
    "PCA_GBC_confusion_train = confusion_matrix(cyber_train_dummy_Y, PCA_GBC_train_pred_, labels = [0, 1])\n",
    "PCA_GBC_confusion_test = confusion_matrix(cyber_test_dummy_Y, PCA_GBC_test_pred_, labels = [0, 1])\n",
    "\n",
    "  # Cross_validation and train/test score:\n",
    "PCA_GBC_cv = cross_val_score(PCA_GBC, PCA_train_X, cyber_train_dummy_Y, cv = 5, scoring = 'f1')\n",
    "PCA_GBC_train_score = PCA_GBC.score(PCA_train_X, cyber_train_dummy_Y)\n",
    "PCA_GBC_test_score = PCA_GBC.score(PCA_test_X, cyber_test_dummy_Y)\n",
    "\n",
    "  # Looking at the F1/balanced accuracy scores:\n",
    "PCA_GBC_train = balanced_accuracy_score(cyber_train_dummy_Y, PCA_GBC_train_pred_)\n",
    "PCA_GBC_test = balanced_accuracy_score(cyber_test_dummy_Y, PCA_GBC_test_pred_)"
   ]
  },
  {
   "cell_type": "code",
   "execution_count": 130,
   "metadata": {},
   "outputs": [
    {
     "name": "stdout",
     "output_type": "stream",
     "text": [
      "\n",
      "The mean cross-validation score is: 96.47% ±0.20%\n",
      "The cv scores are: [0.96251266 0.96202532 0.96649746 0.96593798 0.96663296]\n",
      "\n",
      "Training-Set Metrics:\n",
      "The training score is: 95.31%\n",
      "\n",
      "     0     1\n",
      "0  234   219\n",
      "1   29  4803\n",
      "\n",
      "False Positive/Type I Error: 219 (48.34%)\n",
      "False Negative/Type II Error: 29 (0.60%)\n",
      "Balanced Accuracy: 75.53%\n",
      "\n",
      "Test-Set Metrics:\n",
      "The test score is: 93.64%\n",
      "\n",
      "    0     1\n",
      "0  64    91\n",
      "1  21  1586\n",
      "\n",
      "False Positive/Type I Error: 91 (58.71%)\n",
      "False Negative/Type II Error: 21 (1.31%)\n",
      "Balanced Accuracy: 69.99%\n"
     ]
    }
   ],
   "source": [
    "plusminus = u\"\\u00B1\"\n",
    "print(\"\\nThe mean cross-validation score is: {:.2%} {}{:.2%}\".format(PCA_GBC_cv.mean(),\n",
    "                                                                     plusminus, PCA_GBC_cv.std()))\n",
    "print(\"The cv scores are: {}\".format(PCA_GBC_cv))\n",
    "\n",
    "conf_df = pd.DataFrame(PCA_GBC_confusion_train)\n",
    "\n",
    "FP = conf_df.loc[0, 1]\n",
    "FN = conf_df.loc[1, 0]\n",
    "NegT = conf_df.iloc[0].sum()\n",
    "PosT = conf_df.iloc[1].sum()\n",
    "\n",
    "print(\"\\nTraining-Set Metrics:\")\n",
    "print(\"The training score is: {:.2%}\\n\".format(PCA_GBC_train_score))\n",
    "print(conf_df)\n",
    "print('\\nFalse Positive/Type I Error: {} ({:.2%})'.format(FP, (FP / NegT)))\n",
    "print('False Negative/Type II Error: {} ({:.2%})'.format(FN, (FN / PosT)))\n",
    "print('Balanced Accuracy: {:.2%}\\n'.format(PCA_GBC_train))\n",
    "\n",
    "conf_df2 = pd.DataFrame(PCA_GBC_confusion_test)\n",
    "\n",
    "FP2 = conf_df2.loc[0, 1]\n",
    "FN2 = conf_df2.loc[1, 0]\n",
    "NegT2 = conf_df2.iloc[0].sum()\n",
    "PosT2 = conf_df2.iloc[1].sum()\n",
    "\n",
    "print(\"Test-Set Metrics:\")\n",
    "print(\"The test score is: {:.2%}\\n\".format(PCA_GBC_test_score))\n",
    "print(conf_df2)\n",
    "print('\\nFalse Positive/Type I Error: {} ({:.2%})'.format(FP2, (FP2 / NegT2)))\n",
    "print('False Negative/Type II Error: {} ({:.2%})'.format(FN2, (FN2 / PosT2)))\n",
    "print('Balanced Accuracy: {:.2%}'.format(PCA_GBC_test))"
   ]
  },
  {
   "cell_type": "code",
   "execution_count": 131,
   "metadata": {},
   "outputs": [
    {
     "data": {
      "text/plain": [
       "34"
      ]
     },
     "execution_count": 131,
     "metadata": {},
     "output_type": "execute_result"
    }
   ],
   "source": [
    "del PCA_GBC\n",
    "del PCA_GBC_train_pred_\n",
    "del PCA_GBC_test_pred_ \n",
    "del PCA_GBC_confusion_train\n",
    "del PCA_GBC_confusion_test\n",
    "del PCA_GBC_cv\n",
    "del PCA_GBC_train_score\n",
    "del PCA_GBC_test_score\n",
    "del PCA_GBC_train\n",
    "del PCA_GBC_test\n",
    "gc.collect()"
   ]
  },
  {
   "cell_type": "markdown",
   "metadata": {},
   "source": [
    "#### Summary of First Models:"
   ]
  },
  {
   "cell_type": "markdown",
   "metadata": {},
   "source": [
    "> Based on these preliminary results, we were able to get similar results from nearly all models, but it looks like our Support Vector Classifier did best, with both the KBest and PCA Features (PCA being slightly better). As such, we will try and focus on that with our next phase and tune the parameters to see if we can optimize those results.  "
   ]
  }
 ],
 "metadata": {
  "kernelspec": {
   "display_name": "Python 3",
   "language": "python",
   "name": "python3"
  },
  "language_info": {
   "codemirror_mode": {
    "name": "ipython",
    "version": 3
   },
   "file_extension": ".py",
   "mimetype": "text/x-python",
   "name": "python",
   "nbconvert_exporter": "python",
   "pygments_lexer": "ipython3",
   "version": "3.7.0"
  },
  "toc": {
   "base_numbering": 1,
   "nav_menu": {
    "height": "119px",
    "width": "173px"
   },
   "number_sections": false,
   "sideBar": true,
   "skip_h1_title": false,
   "title_cell": "Table of Contents",
   "title_sidebar": "Contents",
   "toc_cell": false,
   "toc_position": {},
   "toc_section_display": true,
   "toc_window_display": true
  }
 },
 "nbformat": 4,
 "nbformat_minor": 2
}
