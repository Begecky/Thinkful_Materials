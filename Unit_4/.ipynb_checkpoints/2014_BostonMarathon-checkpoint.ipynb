{
 "cells": [
  {
   "cell_type": "markdown",
   "metadata": {},
   "source": [
    "## Boston Marathon Data:"
   ]
  },
  {
   "cell_type": "markdown",
   "metadata": {},
   "source": [
    "### 1. Importing:"
   ]
  },
  {
   "cell_type": "code",
   "execution_count": 168,
   "metadata": {},
   "outputs": [],
   "source": [
    "import pandas as pd\n",
    "import numpy as np\n",
    "import matplotlib.pyplot as plt\n",
    "import scipy\n",
    "import seaborn as sns\n",
    "from IPython.display import Markdown\n",
    "%matplotlib inline"
   ]
  },
  {
   "cell_type": "code",
   "execution_count": 169,
   "metadata": {},
   "outputs": [],
   "source": [
    "df = pd.read_csv('2014BostonMarathon.csv')"
   ]
  },
  {
   "cell_type": "markdown",
   "metadata": {},
   "source": [
    "### 2. Exploratory Analysis and Cleaning:"
   ]
  },
  {
   "cell_type": "markdown",
   "metadata": {},
   "source": [
    "#### A. Null Values and Dropping Some:"
   ]
  },
  {
   "cell_type": "code",
   "execution_count": 194,
   "metadata": {},
   "outputs": [],
   "source": [
    "# Looking at null-values:\n",
    "\n",
    "starting_row_ct = len(df)\n",
    "starting_nulls = pd.DataFrame(df.isna().sum())\n",
    "starting_nulls = starting_nulls.where(starting_nulls.values != 0).dropna()"
   ]
  },
  {
   "cell_type": "markdown",
   "metadata": {
    "variables": {
     "starting_nulls": "<div>\n<style scoped>\n    .dataframe tbody tr th:only-of-type {\n        vertical-align: middle;\n    }\n\n    .dataframe tbody tr th {\n        vertical-align: top;\n    }\n\n    .dataframe thead th {\n        text-align: right;\n    }\n</style>\n<table border=\"1\" class=\"dataframe\">\n  <thead>\n    <tr style=\"text-align: right;\">\n      <th></th>\n      <th>0</th>\n    </tr>\n  </thead>\n  <tbody>\n    <tr>\n      <th>ctz</th>\n      <td>30740.0</td>\n    </tr>\n    <tr>\n      <th>state</th>\n      <td>2576.0</td>\n    </tr>\n    <tr>\n      <th>city</th>\n      <td>1.0</td>\n    </tr>\n  </tbody>\n</table>\n</div>",
     "starting_row_ct": "31984"
    }
   },
   "source": [
    "   Here is our starting row count: {{starting_row_ct}}.  \n",
    "    \n",
    "   We will wait before doing anything with a significant number of null-values, but it is good to know where\n",
    "    our null-values are before setting out on further exploration. In this table we have removed all of the\n",
    "    columns which do not have null-values, and isolated the columns that do have null-values: {{starting_nulls}}\n",
    "        \n",
    "   In the cell below, we will drop our 'Citizenship' feature (since it is similar to/overly-correlated with \n",
    "    our 'Country' feature). We will also drop the singular null-value in 'City', as it will be inconsequential\n",
    "    and will lesson our errors as we move forward."
   ]
  },
  {
   "cell_type": "code",
   "execution_count": 195,
   "metadata": {},
   "outputs": [],
   "source": [
    "# Dropping 'Citizenship':\n",
    "\n",
    "df.drop('ctz', axis = 1, inplace = True)\n",
    "\n",
    "# Dropping the null-value in 'City':\n",
    "\n",
    "df.dropna(axis = 0, how = 'any', subset = ['city'], inplace = True)"
   ]
  },
  {
   "cell_type": "markdown",
   "metadata": {},
   "source": [
    "#### B. Understanding the Structure and Distrubution:"
   ]
  },
  {
   "cell_type": "code",
   "execution_count": 228,
   "metadata": {},
   "outputs": [],
   "source": [
    "object_descr = df.describe(include = 'O')\n",
    "num_descr = df.describe()\n",
    "objects = pd.DataFrame(df.dtypes.loc[df.dtypes == 'O'])\n",
    "ints = pd.DataFrame(df.dtypes.loc[df.dtypes == 'int64'])\n",
    "floats = pd.DataFrame(df.dtypes.loc[df.dtypes == 'float'])"
   ]
  },
  {
   "cell_type": "markdown",
   "metadata": {
    "variables": {
     "floats": "<div>\n<style scoped>\n    .dataframe tbody tr th:only-of-type {\n        vertical-align: middle;\n    }\n\n    .dataframe tbody tr th {\n        vertical-align: top;\n    }\n\n    .dataframe thead th {\n        text-align: right;\n    }\n</style>\n<table border=\"1\" class=\"dataframe\">\n  <thead>\n    <tr style=\"text-align: right;\">\n      <th></th>\n      <th>0</th>\n    </tr>\n  </thead>\n  <tbody>\n    <tr>\n      <th>official</th>\n      <td>float64</td>\n    </tr>\n    <tr>\n      <th>pace</th>\n      <td>float64</td>\n    </tr>\n  </tbody>\n</table>\n</div>",
     "ints": "<div>\n<style scoped>\n    .dataframe tbody tr th:only-of-type {\n        vertical-align: middle;\n    }\n\n    .dataframe tbody tr th {\n        vertical-align: top;\n    }\n\n    .dataframe thead th {\n        text-align: right;\n    }\n</style>\n<table border=\"1\" class=\"dataframe\">\n  <thead>\n    <tr style=\"text-align: right;\">\n      <th></th>\n      <th>0</th>\n    </tr>\n  </thead>\n  <tbody>\n    <tr>\n      <th>division</th>\n      <td>int64</td>\n    </tr>\n    <tr>\n      <th>age</th>\n      <td>int64</td>\n    </tr>\n    <tr>\n      <th>genderdiv</th>\n      <td>int64</td>\n    </tr>\n    <tr>\n      <th>overall</th>\n      <td>int64</td>\n    </tr>\n  </tbody>\n</table>\n</div>",
     "objects": "<div>\n<style scoped>\n    .dataframe tbody tr th:only-of-type {\n        vertical-align: middle;\n    }\n\n    .dataframe tbody tr th {\n        vertical-align: top;\n    }\n\n    .dataframe thead th {\n        text-align: right;\n    }\n</style>\n<table border=\"1\" class=\"dataframe\">\n  <thead>\n    <tr style=\"text-align: right;\">\n      <th></th>\n      <th>0</th>\n    </tr>\n  </thead>\n  <tbody>\n    <tr>\n      <th>10k</th>\n      <td>object</td>\n    </tr>\n    <tr>\n      <th>name</th>\n      <td>object</td>\n    </tr>\n    <tr>\n      <th>25k</th>\n      <td>object</td>\n    </tr>\n    <tr>\n      <th>gender</th>\n      <td>object</td>\n    </tr>\n    <tr>\n      <th>bib</th>\n      <td>object</td>\n    </tr>\n    <tr>\n      <th>35k</th>\n      <td>object</td>\n    </tr>\n    <tr>\n      <th>state</th>\n      <td>object</td>\n    </tr>\n    <tr>\n      <th>30k</th>\n      <td>object</td>\n    </tr>\n    <tr>\n      <th>5k</th>\n      <td>object</td>\n    </tr>\n    <tr>\n      <th>half</th>\n      <td>object</td>\n    </tr>\n    <tr>\n      <th>20k</th>\n      <td>object</td>\n    </tr>\n    <tr>\n      <th>country</th>\n      <td>object</td>\n    </tr>\n    <tr>\n      <th>city</th>\n      <td>object</td>\n    </tr>\n    <tr>\n      <th>40k</th>\n      <td>object</td>\n    </tr>\n  </tbody>\n</table>\n</div>"
    }
   },
   "source": [
    "> Here, we have our feature-set and its corresponding data-types.  We can see that a lot\n",
    "of our columns which we would expect to be numerical are, in fact, object-types. This shouldn't be too troublesome, but is always helpful to know as we move forward.\n",
    "\n",
    "<table width = '600' align = 'left'>\n",
    "    <tr>\n",
    "    </tr>\n",
    "    <tr>\n",
    "        <td> {{objects}} </td>\n",
    "        <td> {{ints}}    </td>\n",
    "        <td> {{floats}} </td>\n",
    "    </tr>\n",
    "</table>"
   ]
  },
  {
   "cell_type": "markdown",
   "metadata": {
    "variables": {
     "num_descr": "<div>\n<style scoped>\n    .dataframe tbody tr th:only-of-type {\n        vertical-align: middle;\n    }\n\n    .dataframe tbody tr th {\n        vertical-align: top;\n    }\n\n    .dataframe thead th {\n        text-align: right;\n    }\n</style>\n<table border=\"1\" class=\"dataframe\">\n  <thead>\n    <tr style=\"text-align: right;\">\n      <th></th>\n      <th>division</th>\n      <th>age</th>\n      <th>official</th>\n      <th>genderdiv</th>\n      <th>overall</th>\n      <th>pace</th>\n    </tr>\n  </thead>\n  <tbody>\n    <tr>\n      <th>count</th>\n      <td>31983.000000</td>\n      <td>31983.000000</td>\n      <td>31983.000000</td>\n      <td>31983.000000</td>\n      <td>31983.000000</td>\n      <td>31983.000000</td>\n    </tr>\n    <tr>\n      <th>mean</th>\n      <td>1932.615858</td>\n      <td>42.406716</td>\n      <td>242.997837</td>\n      <td>8051.148579</td>\n      <td>15939.640340</td>\n      <td>9.275678</td>\n    </tr>\n    <tr>\n      <th>std</th>\n      <td>1715.229489</td>\n      <td>11.316488</td>\n      <td>52.301165</td>\n      <td>4754.043678</td>\n      <td>9233.117792</td>\n      <td>1.992514</td>\n    </tr>\n    <tr>\n      <th>min</th>\n      <td>1.000000</td>\n      <td>18.000000</td>\n      <td>80.600000</td>\n      <td>1.000000</td>\n      <td>1.000000</td>\n      <td>3.080000</td>\n    </tr>\n    <tr>\n      <th>25%</th>\n      <td>610.000000</td>\n      <td>33.000000</td>\n      <td>205.525000</td>\n      <td>3972.000000</td>\n      <td>7943.500000</td>\n      <td>7.850000</td>\n    </tr>\n    <tr>\n      <th>50%</th>\n      <td>1425.000000</td>\n      <td>42.000000</td>\n      <td>232.370000</td>\n      <td>7970.000000</td>\n      <td>15940.000000</td>\n      <td>8.870000</td>\n    </tr>\n    <tr>\n      <th>75%</th>\n      <td>2611.000000</td>\n      <td>50.000000</td>\n      <td>273.240000</td>\n      <td>11968.000000</td>\n      <td>23935.500000</td>\n      <td>10.430000</td>\n    </tr>\n    <tr>\n      <th>max</th>\n      <td>6979.000000</td>\n      <td>81.000000</td>\n      <td>538.880000</td>\n      <td>17575.000000</td>\n      <td>31931.000000</td>\n      <td>20.570000</td>\n    </tr>\n  </tbody>\n</table>\n</div>",
     "object_descr": "<div>\n<style scoped>\n    .dataframe tbody tr th:only-of-type {\n        vertical-align: middle;\n    }\n\n    .dataframe tbody tr th {\n        vertical-align: top;\n    }\n\n    .dataframe thead th {\n        text-align: right;\n    }\n</style>\n<table border=\"1\" class=\"dataframe\">\n  <thead>\n    <tr style=\"text-align: right;\">\n      <th></th>\n      <th>10k</th>\n      <th>name</th>\n      <th>25k</th>\n      <th>gender</th>\n      <th>bib</th>\n      <th>35k</th>\n      <th>state</th>\n      <th>30k</th>\n      <th>5k</th>\n      <th>half</th>\n      <th>20k</th>\n      <th>country</th>\n      <th>city</th>\n      <th>40k</th>\n    </tr>\n  </thead>\n  <tbody>\n    <tr>\n      <th>count</th>\n      <td>31983</td>\n      <td>31983</td>\n      <td>31983</td>\n      <td>31983</td>\n      <td>31983</td>\n      <td>31983</td>\n      <td>29408</td>\n      <td>31983</td>\n      <td>31983</td>\n      <td>31983</td>\n      <td>31983</td>\n      <td>31983</td>\n      <td>31983</td>\n      <td>31983</td>\n    </tr>\n    <tr>\n      <th>unique</th>\n      <td>2766</td>\n      <td>31914</td>\n      <td>6570</td>\n      <td>2</td>\n      <td>31983</td>\n      <td>9516</td>\n      <td>68</td>\n      <td>8090</td>\n      <td>1491</td>\n      <td>5651</td>\n      <td>5375</td>\n      <td>78</td>\n      <td>5934</td>\n      <td>10546</td>\n    </tr>\n    <tr>\n      <th>top</th>\n      <td>-</td>\n      <td>Cao, Jun</td>\n      <td>-</td>\n      <td>M</td>\n      <td>30041</td>\n      <td>-</td>\n      <td>MA</td>\n      <td>-</td>\n      <td>23.93</td>\n      <td>-</td>\n      <td>-</td>\n      <td>USA</td>\n      <td>Boston</td>\n      <td>-</td>\n    </tr>\n    <tr>\n      <th>freq</th>\n      <td>50</td>\n      <td>2</td>\n      <td>216</td>\n      <td>17617</td>\n      <td>1</td>\n      <td>34</td>\n      <td>7587</td>\n      <td>40</td>\n      <td>81</td>\n      <td>72</td>\n      <td>51</td>\n      <td>27233</td>\n      <td>1034</td>\n      <td>39</td>\n    </tr>\n  </tbody>\n</table>\n</div>"
    }
   },
   "source": [
    ">Here we have our descriptive statistics:\n",
    " Based on these, we can see that a majority of the participants are male, and the most\n",
    " predominant state represented was Massachusets (makes sense). \n",
    "\n",
    "\n",
    "<table width = '1000' align = 'left'>\n",
    "    <tr> \n",
    "    </tr>\n",
    "    <tr>\n",
    "        <table align = 'left' >\n",
    "            <tr>  \n",
    "                <td style = 'text-align:center'> Numeric Columns </td>\n",
    "            </tr>\n",
    "            <tr>\n",
    "                <td> {{num_descr}} </td>\n",
    "            </tr>\n",
    "        </table>\n",
    "    </tr>\n",
    "</table>\n",
    "\n",
    "\n",
    "<table width = '1200' align = 'left'>\n",
    "    <tr> \n",
    "        <table align = 'left'>\n",
    "            <tr>\n",
    "               <td style = 'text-align:center'> Object Columns </td> \n",
    "            </tr>\n",
    "            <tr>\n",
    "               <td> {{object_descr}} </td>\n",
    "            </tr>\n",
    "        </table>\n",
    "    </tr>    \n",
    "</table>\n",
    "\n"
   ]
  },
  {
   "cell_type": "markdown",
   "metadata": {},
   "source": [
    "#### C. Dash Control:"
   ]
  },
  {
   "cell_type": "code",
   "execution_count": 229,
   "metadata": {},
   "outputs": [],
   "source": [
    "# Had to take care of some dashes within the dataset ('-'), which were making it difficult to run models.  \n",
    "# Did not want to drop these since that would cause a lot of information loss\n",
    "\n",
    "import re\n",
    "\n",
    "df['5k'] = df['5k'].replace(to_replace = '-', value = np.nan)\n",
    "df['10k'] = df['10k'].replace(to_replace = '-', value = np.nan)\n",
    "df['20k'] = df['20k'].replace(to_replace = '-', value = np.nan)\n",
    "df['25k'] = df['25k'].replace(to_replace = '-', value = np.nan)\n",
    "df['30k'] = df['30k'].replace(to_replace = '-', value = np.nan)\n",
    "df['35k'] = df['35k'].replace(to_replace = '-', value = np.nan)\n",
    "df['40k'] = df['40k'].replace(to_replace = '-', value = np.nan)\n",
    "df['half'] = df['half'].replace(to_replace = '-', value = np.nan)"
   ]
  },
  {
   "cell_type": "markdown",
   "metadata": {},
   "source": [
    "#### D. Dummy Control:"
   ]
  },
  {
   "cell_type": "code",
   "execution_count": 230,
   "metadata": {},
   "outputs": [],
   "source": [
    "# Had to do some grouping to control dummies:\n",
    "EUR = ['TUR', 'HUN', 'LUX', 'UKR', 'BLR', 'CRO', 'EST', 'SVK', 'SLO', 'POR', 'GRE', 'CZE', 'ROU', 'LIE',\n",
    "       'POL', 'AUT', 'NOR', 'BEL', 'FIN', 'ISL']\n",
    "df['country'] = df['country'].where(df['country'].apply(lambda x: x not in EUR), other = 'EUR')\n",
    "\n",
    "SEA = ['PHI', 'THA', 'MAS', 'INA', 'NZL']\n",
    "df['country'] = df['country'].where(df['country'].apply(lambda x: x not in SEA), other = 'SEA')\n",
    "\n",
    "AFR = ['EGY', 'ZIM', 'TAN', 'ETH', 'MAR', 'KEN', 'RSA']\n",
    "df['country'] = df['country'].where(df['country'].apply(lambda x: x not in AFR), other = 'AFR')\n",
    "\n",
    "CAM = ['PAN', 'DOM', 'BAH', 'CAY', 'VGB', 'BAR', 'ESA', 'GUA', 'CRC', 'BER']\n",
    "df['country'] = df['country'].where(df['country'].apply(lambda x: x not in CAM), other = 'CAM')\n",
    "\n",
    "SAM = ['ECU', 'BOL', 'TRI', 'PER', 'URU', 'ARG', 'CHI', 'VEN']\n",
    "df['country'] = df['country'].where(df['country'].apply(lambda x: x not in SAM), other = 'SAM')\n",
    "\n",
    "MEA = ['QAT', 'BRN', 'ISR', 'UAE']\n",
    "df['country'] = df['country'].where(df['country'].apply(lambda x: x not in MEA), other = 'MEA')\n",
    "\n",
    "ASI = ['IND', 'RUS', 'TPE', 'SIN']\n",
    "df['country'] = df['country'].where(df['country'].apply(lambda x: x not in ASI), other = 'ASI')"
   ]
  },
  {
   "cell_type": "markdown",
   "metadata": {},
   "source": [
    "#### E. Error NaN/Inf Error Mitigation:"
   ]
  },
  {
   "cell_type": "code",
   "execution_count": 231,
   "metadata": {},
   "outputs": [],
   "source": [
    "# Was getting an NaN, Inf, Value Too Large error when running the preliminary models. So: \n",
    "\n",
    "df['pace'] = pd.to_numeric(df['pace'], downcast = 'float')\n",
    "df['official'] = pd.to_numeric(df['official'], downcast = 'float')"
   ]
  },
  {
   "cell_type": "markdown",
   "metadata": {},
   "source": [
    "#### F. Preliminary Visualizations:"
   ]
  },
  {
   "cell_type": "markdown",
   "metadata": {},
   "source": [
    "##### F-1. Correlation:"
   ]
  },
  {
   "cell_type": "code",
   "execution_count": 232,
   "metadata": {},
   "outputs": [
    {
     "data": {
      "image/png": "[encoded data removed]",
      "text/plain": [
       "<Figure size 648x504 with 2 Axes>"
      ]
     },
     "metadata": {
      "needs_background": "light"
     },
     "output_type": "display_data"
    }
   ],
   "source": [
    "plt.figure(figsize = (9, 7))\n",
    "sns.heatmap(df.corr(), annot = True)\n",
    "plt.show()"
   ]
  },
  {
   "cell_type": "markdown",
   "metadata": {},
   "source": [
    "##### F-2. Univariate Distributions:"
   ]
  },
  {
   "cell_type": "code",
   "execution_count": null,
   "metadata": {},
   "outputs": [],
   "source": []
  },
  {
   "cell_type": "code",
   "execution_count": null,
   "metadata": {},
   "outputs": [],
   "source": []
  },
  {
   "cell_type": "code",
   "execution_count": null,
   "metadata": {},
   "outputs": [],
   "source": []
  },
  {
   "cell_type": "code",
   "execution_count": null,
   "metadata": {},
   "outputs": [],
   "source": []
  },
  {
   "cell_type": "code",
   "execution_count": null,
   "metadata": {},
   "outputs": [],
   "source": []
  },
  {
   "cell_type": "code",
   "execution_count": null,
   "metadata": {},
   "outputs": [],
   "source": []
  },
  {
   "cell_type": "code",
   "execution_count": null,
   "metadata": {},
   "outputs": [],
   "source": []
  },
  {
   "cell_type": "code",
   "execution_count": null,
   "metadata": {},
   "outputs": [],
   "source": []
  },
  {
   "cell_type": "code",
   "execution_count": null,
   "metadata": {},
   "outputs": [],
   "source": []
  },
  {
   "cell_type": "code",
   "execution_count": null,
   "metadata": {},
   "outputs": [],
   "source": []
  },
  {
   "cell_type": "code",
   "execution_count": null,
   "metadata": {},
   "outputs": [],
   "source": []
  },
  {
   "cell_type": "code",
   "execution_count": null,
   "metadata": {},
   "outputs": [],
   "source": []
  },
  {
   "cell_type": "code",
   "execution_count": null,
   "metadata": {},
   "outputs": [],
   "source": []
  },
  {
   "cell_type": "code",
   "execution_count": null,
   "metadata": {},
   "outputs": [],
   "source": []
  },
  {
   "cell_type": "code",
   "execution_count": null,
   "metadata": {},
   "outputs": [],
   "source": []
  },
  {
   "cell_type": "markdown",
   "metadata": {},
   "source": [
    "### Using GridSearchCV to run some preliminary models:"
   ]
  },
  {
   "cell_type": "code",
   "execution_count": 37,
   "metadata": {},
   "outputs": [],
   "source": [
    "from sklearn.model_selection import GridSearchCV, train_test_split\n",
    "from sklearn.decomposition import PCA\n",
    "from sklearn.feature_selection import SelectKBest\n",
    "\n",
    "df.dropna(axis = 1, how = 'any')\n",
    "end_df_len = len(df)\n",
    "\n",
    "X = pd.get_dummies(data = df.drop(['name', 'bib', 'city', 'state', 'genderdiv'], axis = 1), columns = ['gender', 'country'])\n",
    "y = df['genderdiv']"
   ]
  },
  {
   "cell_type": "code",
   "execution_count": 38,
   "metadata": {
    "collapsed": true
   },
   "outputs": [
    {
     "data": {
      "text/html": [
       "<div>\n",
       "<style scoped>\n",
       "    .dataframe tbody tr th:only-of-type {\n",
       "        vertical-align: middle;\n",
       "    }\n",
       "\n",
       "    .dataframe tbody tr th {\n",
       "        vertical-align: top;\n",
       "    }\n",
       "\n",
       "    .dataframe thead th {\n",
       "        text-align: right;\n",
       "    }\n",
       "</style>\n",
       "<table border=\"1\" class=\"dataframe\">\n",
       "  <thead>\n",
       "    <tr style=\"text-align: right;\">\n",
       "      <th></th>\n",
       "      <th>index</th>\n",
       "      <th>genderdiv</th>\n",
       "    </tr>\n",
       "  </thead>\n",
       "  <tbody>\n",
       "    <tr>\n",
       "      <th>0</th>\n",
       "      <td>0</td>\n",
       "      <td>8</td>\n",
       "    </tr>\n",
       "    <tr>\n",
       "      <th>1</th>\n",
       "      <td>1</td>\n",
       "      <td>1</td>\n",
       "    </tr>\n",
       "    <tr>\n",
       "      <th>2</th>\n",
       "      <td>2</td>\n",
       "      <td>1</td>\n",
       "    </tr>\n",
       "    <tr>\n",
       "      <th>3</th>\n",
       "      <td>3</td>\n",
       "      <td>3</td>\n",
       "    </tr>\n",
       "    <tr>\n",
       "      <th>4</th>\n",
       "      <td>4</td>\n",
       "      <td>2</td>\n",
       "    </tr>\n",
       "    <tr>\n",
       "      <th>5</th>\n",
       "      <td>5</td>\n",
       "      <td>4</td>\n",
       "    </tr>\n",
       "    <tr>\n",
       "      <th>6</th>\n",
       "      <td>6</td>\n",
       "      <td>4</td>\n",
       "    </tr>\n",
       "    <tr>\n",
       "      <th>7</th>\n",
       "      <td>7</td>\n",
       "      <td>5</td>\n",
       "    </tr>\n",
       "    <tr>\n",
       "      <th>8</th>\n",
       "      <td>8</td>\n",
       "      <td>3</td>\n",
       "    </tr>\n",
       "    <tr>\n",
       "      <th>9</th>\n",
       "      <td>9</td>\n",
       "      <td>20</td>\n",
       "    </tr>\n",
       "    <tr>\n",
       "      <th>10</th>\n",
       "      <td>10</td>\n",
       "      <td>8</td>\n",
       "    </tr>\n",
       "    <tr>\n",
       "      <th>11</th>\n",
       "      <td>11</td>\n",
       "      <td>2</td>\n",
       "    </tr>\n",
       "    <tr>\n",
       "      <th>12</th>\n",
       "      <td>12</td>\n",
       "      <td>11</td>\n",
       "    </tr>\n",
       "    <tr>\n",
       "      <th>13</th>\n",
       "      <td>13</td>\n",
       "      <td>17</td>\n",
       "    </tr>\n",
       "    <tr>\n",
       "      <th>14</th>\n",
       "      <td>14</td>\n",
       "      <td>13</td>\n",
       "    </tr>\n",
       "    <tr>\n",
       "      <th>15</th>\n",
       "      <td>15</td>\n",
       "      <td>10</td>\n",
       "    </tr>\n",
       "    <tr>\n",
       "      <th>16</th>\n",
       "      <td>16</td>\n",
       "      <td>5</td>\n",
       "    </tr>\n",
       "    <tr>\n",
       "      <th>17</th>\n",
       "      <td>17</td>\n",
       "      <td>2</td>\n",
       "    </tr>\n",
       "    <tr>\n",
       "      <th>18</th>\n",
       "      <td>18</td>\n",
       "      <td>7</td>\n",
       "    </tr>\n",
       "    <tr>\n",
       "      <th>19</th>\n",
       "      <td>19</td>\n",
       "      <td>13</td>\n",
       "    </tr>\n",
       "    <tr>\n",
       "      <th>20</th>\n",
       "      <td>20</td>\n",
       "      <td>3</td>\n",
       "    </tr>\n",
       "    <tr>\n",
       "      <th>21</th>\n",
       "      <td>21</td>\n",
       "      <td>6</td>\n",
       "    </tr>\n",
       "    <tr>\n",
       "      <th>22</th>\n",
       "      <td>22</td>\n",
       "      <td>17</td>\n",
       "    </tr>\n",
       "    <tr>\n",
       "      <th>23</th>\n",
       "      <td>23</td>\n",
       "      <td>12</td>\n",
       "    </tr>\n",
       "    <tr>\n",
       "      <th>24</th>\n",
       "      <td>24</td>\n",
       "      <td>14</td>\n",
       "    </tr>\n",
       "    <tr>\n",
       "      <th>25</th>\n",
       "      <td>25</td>\n",
       "      <td>12</td>\n",
       "    </tr>\n",
       "    <tr>\n",
       "      <th>26</th>\n",
       "      <td>26</td>\n",
       "      <td>10</td>\n",
       "    </tr>\n",
       "    <tr>\n",
       "      <th>27</th>\n",
       "      <td>27</td>\n",
       "      <td>15</td>\n",
       "    </tr>\n",
       "    <tr>\n",
       "      <th>28</th>\n",
       "      <td>28</td>\n",
       "      <td>9</td>\n",
       "    </tr>\n",
       "    <tr>\n",
       "      <th>29</th>\n",
       "      <td>29</td>\n",
       "      <td>9</td>\n",
       "    </tr>\n",
       "    <tr>\n",
       "      <th>...</th>\n",
       "      <td>...</td>\n",
       "      <td>...</td>\n",
       "    </tr>\n",
       "    <tr>\n",
       "      <th>31953</th>\n",
       "      <td>31954</td>\n",
       "      <td>12059</td>\n",
       "    </tr>\n",
       "    <tr>\n",
       "      <th>31954</th>\n",
       "      <td>31955</td>\n",
       "      <td>15001</td>\n",
       "    </tr>\n",
       "    <tr>\n",
       "      <th>31955</th>\n",
       "      <td>31956</td>\n",
       "      <td>14174</td>\n",
       "    </tr>\n",
       "    <tr>\n",
       "      <th>31956</th>\n",
       "      <td>31957</td>\n",
       "      <td>8479</td>\n",
       "    </tr>\n",
       "    <tr>\n",
       "      <th>31957</th>\n",
       "      <td>31958</td>\n",
       "      <td>17199</td>\n",
       "    </tr>\n",
       "    <tr>\n",
       "      <th>31958</th>\n",
       "      <td>31959</td>\n",
       "      <td>12445</td>\n",
       "    </tr>\n",
       "    <tr>\n",
       "      <th>31959</th>\n",
       "      <td>31960</td>\n",
       "      <td>15057</td>\n",
       "    </tr>\n",
       "    <tr>\n",
       "      <th>31960</th>\n",
       "      <td>31961</td>\n",
       "      <td>13960</td>\n",
       "    </tr>\n",
       "    <tr>\n",
       "      <th>31961</th>\n",
       "      <td>31962</td>\n",
       "      <td>13959</td>\n",
       "    </tr>\n",
       "    <tr>\n",
       "      <th>31962</th>\n",
       "      <td>31963</td>\n",
       "      <td>11919</td>\n",
       "    </tr>\n",
       "    <tr>\n",
       "      <th>31963</th>\n",
       "      <td>31964</td>\n",
       "      <td>12816</td>\n",
       "    </tr>\n",
       "    <tr>\n",
       "      <th>31964</th>\n",
       "      <td>31965</td>\n",
       "      <td>16671</td>\n",
       "    </tr>\n",
       "    <tr>\n",
       "      <th>31965</th>\n",
       "      <td>31966</td>\n",
       "      <td>17260</td>\n",
       "    </tr>\n",
       "    <tr>\n",
       "      <th>31966</th>\n",
       "      <td>31967</td>\n",
       "      <td>9237</td>\n",
       "    </tr>\n",
       "    <tr>\n",
       "      <th>31967</th>\n",
       "      <td>31968</td>\n",
       "      <td>13872</td>\n",
       "    </tr>\n",
       "    <tr>\n",
       "      <th>31968</th>\n",
       "      <td>31969</td>\n",
       "      <td>13377</td>\n",
       "    </tr>\n",
       "    <tr>\n",
       "      <th>31969</th>\n",
       "      <td>31970</td>\n",
       "      <td>14068</td>\n",
       "    </tr>\n",
       "    <tr>\n",
       "      <th>31970</th>\n",
       "      <td>31971</td>\n",
       "      <td>13441</td>\n",
       "    </tr>\n",
       "    <tr>\n",
       "      <th>31971</th>\n",
       "      <td>31972</td>\n",
       "      <td>16541</td>\n",
       "    </tr>\n",
       "    <tr>\n",
       "      <th>31972</th>\n",
       "      <td>31973</td>\n",
       "      <td>17092</td>\n",
       "    </tr>\n",
       "    <tr>\n",
       "      <th>31973</th>\n",
       "      <td>31974</td>\n",
       "      <td>14339</td>\n",
       "    </tr>\n",
       "    <tr>\n",
       "      <th>31974</th>\n",
       "      <td>31975</td>\n",
       "      <td>17389</td>\n",
       "    </tr>\n",
       "    <tr>\n",
       "      <th>31975</th>\n",
       "      <td>31976</td>\n",
       "      <td>14730</td>\n",
       "    </tr>\n",
       "    <tr>\n",
       "      <th>31976</th>\n",
       "      <td>31977</td>\n",
       "      <td>15472</td>\n",
       "    </tr>\n",
       "    <tr>\n",
       "      <th>31977</th>\n",
       "      <td>31978</td>\n",
       "      <td>17288</td>\n",
       "    </tr>\n",
       "    <tr>\n",
       "      <th>31978</th>\n",
       "      <td>31979</td>\n",
       "      <td>7500</td>\n",
       "    </tr>\n",
       "    <tr>\n",
       "      <th>31979</th>\n",
       "      <td>31980</td>\n",
       "      <td>15459</td>\n",
       "    </tr>\n",
       "    <tr>\n",
       "      <th>31980</th>\n",
       "      <td>31981</td>\n",
       "      <td>10788</td>\n",
       "    </tr>\n",
       "    <tr>\n",
       "      <th>31981</th>\n",
       "      <td>31982</td>\n",
       "      <td>12009</td>\n",
       "    </tr>\n",
       "    <tr>\n",
       "      <th>31982</th>\n",
       "      <td>31983</td>\n",
       "      <td>9771</td>\n",
       "    </tr>\n",
       "  </tbody>\n",
       "</table>\n",
       "<p>31983 rows × 2 columns</p>\n",
       "</div>"
      ],
      "text/plain": [
       "       index  genderdiv\n",
       "0          0          8\n",
       "1          1          1\n",
       "2          2          1\n",
       "3          3          3\n",
       "4          4          2\n",
       "5          5          4\n",
       "6          6          4\n",
       "7          7          5\n",
       "8          8          3\n",
       "9          9         20\n",
       "10        10          8\n",
       "11        11          2\n",
       "12        12         11\n",
       "13        13         17\n",
       "14        14         13\n",
       "15        15         10\n",
       "16        16          5\n",
       "17        17          2\n",
       "18        18          7\n",
       "19        19         13\n",
       "20        20          3\n",
       "21        21          6\n",
       "22        22         17\n",
       "23        23         12\n",
       "24        24         14\n",
       "25        25         12\n",
       "26        26         10\n",
       "27        27         15\n",
       "28        28          9\n",
       "29        29          9\n",
       "...      ...        ...\n",
       "31953  31954      12059\n",
       "31954  31955      15001\n",
       "31955  31956      14174\n",
       "31956  31957       8479\n",
       "31957  31958      17199\n",
       "31958  31959      12445\n",
       "31959  31960      15057\n",
       "31960  31961      13960\n",
       "31961  31962      13959\n",
       "31962  31963      11919\n",
       "31963  31964      12816\n",
       "31964  31965      16671\n",
       "31965  31966      17260\n",
       "31966  31967       9237\n",
       "31967  31968      13872\n",
       "31968  31969      13377\n",
       "31969  31970      14068\n",
       "31970  31971      13441\n",
       "31971  31972      16541\n",
       "31972  31973      17092\n",
       "31973  31974      14339\n",
       "31974  31975      17389\n",
       "31975  31976      14730\n",
       "31976  31977      15472\n",
       "31977  31978      17288\n",
       "31978  31979       7500\n",
       "31979  31980      15459\n",
       "31980  31981      10788\n",
       "31981  31982      12009\n",
       "31982  31983       9771\n",
       "\n",
       "[31983 rows x 2 columns]"
      ]
     },
     "execution_count": 38,
     "metadata": {},
     "output_type": "execute_result"
    }
   ],
   "source": [
    "# Resetting the index from a value error that I was getting:\n",
    "\n",
    "X.reset_index()\n",
    "y.reset_index()\n",
    "\n"
   ]
  },
  {
   "cell_type": "code",
   "execution_count": null,
   "metadata": {},
   "outputs": [],
   "source": []
  },
  {
   "cell_type": "code",
   "execution_count": null,
   "metadata": {},
   "outputs": [],
   "source": []
  },
  {
   "cell_type": "code",
   "execution_count": null,
   "metadata": {
    "scrolled": true
   },
   "outputs": [],
   "source": []
  },
  {
   "cell_type": "code",
   "execution_count": null,
   "metadata": {},
   "outputs": [],
   "source": []
  },
  {
   "cell_type": "code",
   "execution_count": null,
   "metadata": {},
   "outputs": [],
   "source": []
  },
  {
   "cell_type": "code",
   "execution_count": null,
   "metadata": {},
   "outputs": [],
   "source": []
  },
  {
   "cell_type": "code",
   "execution_count": null,
   "metadata": {},
   "outputs": [],
   "source": []
  },
  {
   "cell_type": "code",
   "execution_count": null,
   "metadata": {},
   "outputs": [],
   "source": []
  },
  {
   "cell_type": "code",
   "execution_count": null,
   "metadata": {},
   "outputs": [],
   "source": []
  },
  {
   "cell_type": "code",
   "execution_count": null,
   "metadata": {},
   "outputs": [],
   "source": []
  },
  {
   "cell_type": "code",
   "execution_count": null,
   "metadata": {},
   "outputs": [],
   "source": []
  },
  {
   "cell_type": "code",
   "execution_count": null,
   "metadata": {},
   "outputs": [],
   "source": []
  }
 ],
 "metadata": {
  "kernelspec": {
   "display_name": "Python 3",
   "language": "python",
   "name": "python3"
  },
  "language_info": {
   "codemirror_mode": {
    "name": "ipython",
    "version": 3
   },
   "file_extension": ".py",
   "mimetype": "text/x-python",
   "name": "python",
   "nbconvert_exporter": "python",
   "pygments_lexer": "ipython3",
   "version": "3.7.0"
  },
  "toc": {
   "base_numbering": 1,
   "nav_menu": {
    "height": "460px",
    "width": "603px"
   },
   "number_sections": false,
   "sideBar": true,
   "skip_h1_title": false,
   "title_cell": "Table of Contents",
   "title_sidebar": "Contents",
   "toc_cell": false,
   "toc_position": {},
   "toc_section_display": true,
   "toc_window_display": false
  }
 },
 "nbformat": 4,
 "nbformat_minor": 2
}
