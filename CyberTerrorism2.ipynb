{
 "cells": [
  {
   "cell_type": "code",
   "execution_count": 1,
   "metadata": {},
   "outputs": [
    {
     "name": "stderr",
     "output_type": "stream",
     "text": [
      "/usr/local/lib/python3.7/site-packages/sklearn/utils/__init__.py:4: DeprecationWarning: Using or importing the ABCs from 'collections' instead of from 'collections.abc' is deprecated, and in 3.8 it will stop working\n",
      "  from collections import Sequence\n"
     ]
    }
   ],
   "source": [
    "import pandas as pd\n",
    "import numpy as np\n",
    "import scipy\n",
    "import matplotlib.pyplot as plt\n",
    "import seaborn as sns\n",
    "import sklearn as skl\n",
    "%matplotlib inline\n",
    "\n",
    "import warnings\n",
    "warnings.filterwarnings('ignore')"
   ]
  },
  {
   "cell_type": "markdown",
   "metadata": {},
   "source": [
    "### 1. Importing, Cleaning and General Overview:"
   ]
  },
  {
   "cell_type": "code",
   "execution_count": 2,
   "metadata": {
    "scrolled": true
   },
   "outputs": [],
   "source": [
    "df = pd.read_excel('globalterrorismdb_0718dist.xlsx', \n",
    "                   usecols = 'A:D, F, H:M, S:W, AA:AD, AI:AN, AP, BG, BM:BN, BQ:BR, CD:CG, DA',\n",
    "                   dtype = {'summary':str, 'motive':str})                                                                                         "
   ]
  },
  {
   "cell_type": "code",
   "execution_count": 3,
   "metadata": {},
   "outputs": [],
   "source": [
    "# Renaming for usability:\n",
    "\n",
    "df = pd.DataFrame(df.rename({'eventid':'event_id', 'iyear':'year', 'imonth':'month',\n",
    "             'iday':'day', 'extended':'24+hrs', 'provstate':'region_2', 'doubtterr':'doubt', \n",
    "             'attacktype1':'attack_1', 'attacktype1_txt':'attack_1txt','attacktype2':'attack_2', \n",
    "             'targtype1':'target_1', 'targtype1_txt':'target_1txt', 'targsubtype1':'sub_target',\n",
    "             'targsubtype1_txt':'sub_targettxt', 'target1':'specific_target',\n",
    "             'natlty1':'victim_nationality', 'natlty1_txt':'victim_nationalitytxt', 'gname':'group_name', \n",
    "             'guncertain1':'group_attrib_crtainty', 'individual':'unaffil_individ', 'weaptype1':'weapon', \n",
    "             'weaptype1_txt':'weapontxt', 'weapsubtype1':'sub_weapon', 'weapsubtype1_txt':'sub_weapontxt'}, axis = 1))"
   ]
  },
  {
   "cell_type": "code",
   "execution_count": 4,
   "metadata": {},
   "outputs": [],
   "source": [
    "# Cleaning up some of the null values in our object-type columns:\n",
    "# (not dropping them but setting them to 'No Data'):\n",
    "\n",
    "df['motive'] = df['motive'].where(df['motive'].apply(lambda x: x != 'nan'), other = 'No Data')\n",
    "df['summary'] = df['summary'].where(df['summary'].apply(lambda x: x != 'nan'), other = 'No Data')"
   ]
  },
  {
   "cell_type": "markdown",
   "metadata": {},
   "source": [
    "### 2. Preliminary Exploration and Visualization:"
   ]
  },
  {
   "cell_type": "markdown",
   "metadata": {},
   "source": [
    "##### A. Isolating relevant data - Regex:\n",
    "\n",
    "> Here, we want to try to isolate the rows whose summaries relate directly to what we want to analyze:"
   ]
  },
  {
   "cell_type": "code",
   "execution_count": 25,
   "metadata": {},
   "outputs": [
    {
     "name": "stdout",
     "output_type": "stream",
     "text": [
      "False    172205\n",
      "True       9486\n",
      "Name: summary, dtype: int64\n"
     ]
    }
   ],
   "source": [
    "# Creating the dyber_df Dataframe:\n",
    "# Regex to isolate qualifying data (This set is more flexible in its Regex):\n",
    "import re\n",
    "import gc\n",
    "\n",
    "print(df.summary.str.contains('cyb+|social|inform+|network+|twit+|facebook|fake|electio+|internet|ads|adv+|priv+|hac+|breac+|emai+',\n",
    "                         flags = re.IGNORECASE, regex = True).value_counts())"
   ]
  },
  {
   "cell_type": "code",
   "execution_count": 26,
   "metadata": {},
   "outputs": [],
   "source": [
    "# Creating a mask which represents the results from our search above:\n",
    "\n",
    "mask = df.summary.str.contains(r'(cyb+|social|inform+|network+|twit+|facebook|fake|electio+|internet|ads|adv+|priv+|hac+|breac+|emai+)', \n",
    "                           flags = re.IGNORECASE)\n",
    "\n",
    "# Creating a new, filtered dataframe with this specific information:\n",
    "\n",
    "cyber_df = pd.DataFrame(df[mask])"
   ]
  },
  {
   "cell_type": "markdown",
   "metadata": {},
   "source": [
    "### 3. Wranglin':"
   ]
  },
  {
   "cell_type": "markdown",
   "metadata": {},
   "source": [
    "##### Dropping inconsequential NA Values:"
   ]
  },
  {
   "cell_type": "code",
   "execution_count": 27,
   "metadata": {},
   "outputs": [],
   "source": [
    "# Since making dummies of the entire dataframe didn't quite work, looking at doing some customized dummy columns\n",
    "# and then using the get_dummies method for the rest:\n",
    "\n",
    "# Running into NA issues, so dropping na where na values are under 50:\n",
    "\n",
    "cyber_df = pd.DataFrame(cyber_df.dropna(subset = ['city', 'group_attrib_crtainty',\n",
    "                                                        'specific_target']))"
   ]
  },
  {
   "cell_type": "markdown",
   "metadata": {},
   "source": [
    "##### Wrangling the more considerable nulls:"
   ]
  },
  {
   "cell_type": "code",
   "execution_count": 28,
   "metadata": {},
   "outputs": [],
   "source": [
    "# Taking out the NA the mean of the remaining values and \n",
    "# setting the values we did not consider with the mean of the others: \n",
    "\n",
    "# sub_target:\n",
    "\n",
    "sub_target_mean = cyber_df['sub_target'].mean(skipna = True)\n",
    "\n",
    "cyber_df['sub_target'] = cyber_df['sub_target'].fillna(sub_target_mean, inplace = True)\n",
    "\n",
    "# sub_targettxt:\n",
    "# Following the same pattern as above:\n",
    "\n",
    "cyber_df['sub_targettxt'] = cyber_df['sub_targettxt'].fillna('No Data')\n",
    "\n",
    "# victim_nationality:\n",
    "\n",
    "cyber_df['victim_nationality'] = cyber_df['victim_nationalitytxt'].fillna('No Data')\n",
    "\n",
    "# sub_weapon and sub_weapontxt:\n",
    "# Filling in the NA with the mean:\n",
    "\n",
    "sub_weapon_mean = cyber_df['sub_weapon'].mean(skipna = True)\n",
    "\n",
    "cyber_df['sub_weapon'] = cyber_df['sub_weapon'].fillna(sub_weapon_mean, inplace = True)\n",
    "\n",
    "# Filling the NA with 'No Data'\n",
    "\n",
    "cyber_df['sub_weapontxt'] = cyber_df['sub_weapontxt'].fillna('No Data')"
   ]
  },
  {
   "cell_type": "markdown",
   "metadata": {},
   "source": [
    "#### Manual Dummies:\n",
    "\n",
    "> Still a lot of unique values - will try dropping the ones with unmanageable numbers for our model. Will try grouping with the others"
   ]
  },
  {
   "cell_type": "markdown",
   "metadata": {},
   "source": [
    "##### weapon and weapon_txt:"
   ]
  },
  {
   "cell_type": "code",
   "execution_count": 29,
   "metadata": {},
   "outputs": [],
   "source": [
    "# Weapon:\n",
    "# Grouping related values together after looking at value-counts:\n",
    "\n",
    "# Grouping Chemical and Biological Weapons together:\n",
    "cyber_df['weapon'] = cyber_df['weapon'].replace(1, 2)\n",
    "\n",
    "# Putting Fake and 'Other' types of weapons into the same category:\n",
    "cyber_df['weapon'] = cyber_df['weapon'].replace(12, 7)\n",
    "\n",
    "# Putting vehicles into category 11 (sabotage equipment):\n",
    "cyber_df['weapon'] = cyber_df['weapon'].replace(10, 11)"
   ]
  },
  {
   "cell_type": "code",
   "execution_count": 30,
   "metadata": {},
   "outputs": [],
   "source": [
    "# Weapon_txt:\n",
    "\n",
    "# Grouping Biological and Chemical Weapons:\n",
    "cyber_df['weapontxt'] = cyber_df['weapontxt'].replace('Chemical', 'Bio-Chem')\n",
    "cyber_df['weapontxt'] = cyber_df['weapontxt'].replace('Biological', 'Bio-Chem')\n",
    "\n",
    "# Grouping Fake and Other together:\n",
    "cyber_df['weapontxt'] = cyber_df['weapontxt'].replace('Fake Weapons', 'Fake/Other')\n",
    "cyber_df['weapontxt'] = cyber_df['weapontxt'].replace('Other', 'Fake/Other')\n",
    "\n",
    "# Aggregating Vehicle into Sabotage Equipment:\n",
    "cyber_df['weapontxt'] = cyber_df['weapontxt'].replace(\n",
    "    'Vehicle (not to include vehicle-borne explosives, i.e., car or truck bombs)', 'Sabotage Equipment')\n"
   ]
  },
  {
   "cell_type": "markdown",
   "metadata": {},
   "source": [
    "##### sub_target and sub_targettxt"
   ]
  },
  {
   "cell_type": "code",
   "execution_count": 31,
   "metadata": {},
   "outputs": [],
   "source": [
    "# Sub_target:\n",
    "\n",
    "# I didn't want to isolate all of this, else it would reflect the target column exactly - \n",
    "# but made some sub-groupings:\n",
    "\n",
    "industrial = [1, 5, 9, 10, 12]\n",
    "white_collar = [2, 3, 4, 6, 7, 8, 11, 13, 112]\n",
    "gov_figure1 = [14, 18]\n",
    "gov_figure2 = [15, 16, 17, 19]\n",
    "police_facilities = [22, 23, 24, 26]\n",
    "mil_facilities = [27, 28, 30, 31, 32, 35, 36, 39]\n",
    "mil_personnel = [29, 33, 34]\n",
    "pilots_planes = [42, 43]\n",
    "gov_diplomatic = [45, 46, 47]\n",
    "educational = [48, 49, 50]\n",
    "food_water = [51, 52]\n",
    "media = [53, 54, 55, 56]\n",
    "religious = [69, 85, 86, 87]\n",
    "political = [83, 84, 109, 110, 111]\n",
    "mass_socio = [65, 68, 70, 71, 72, 73, 74, 75, 76, 77, 78, 79, 80, 81, 82, 95, 96, 97, 98, 99, 100, 101, 102, 103, 104, 105]\n",
    "util_telecom = [88, 89, 90, 91, 92, 106, 107, 108]\n",
    "\n",
    "# Sub_target Assignment:\n",
    "\n",
    "cyber_df['sub_target'].replace({'sub_target': {'industrial':1, 'white_collar':2, \n",
    "                                       'gov_figure1':14,'gov_figure2':15, \n",
    "                                       'police_facilities':22, 'mil_facilities':27,\n",
    "                                       'mil_personnel':29, 'pilots_planes':42, \n",
    "                                       'gov_diplomatic':45, 'educational': 48, \n",
    "                                       'food_water':51, 'media':53, 'religious':69,\n",
    "                                       'political':83, 'mass_socio': 65,\n",
    "                                       'util_telecom': 88}}, inplace = True)"
   ]
  },
  {
   "cell_type": "code",
   "execution_count": 33,
   "metadata": {},
   "outputs": [],
   "source": [
    "# Sub_targettxt:\n",
    "\n",
    "industrial = ['Gas/Oil/Electric', 'Industrial/Textiles/Factory', 'Farm/Ranch', 'Mining', 'Construction']\n",
    "df['sub_targettxt'] = df['sub_targettxt'].where(df['sub_targettxt'].apply(lambda x: x not in industrial), other = 'Industrial')\n",
    "\n",
    "\n",
    "white_collar = ['Restaurant/Bar/Café', 'Bank/Commerce', 'Multinational Corporation', \n",
    "                'Medical/Pharmaceutical', 'Retail/Grocery/Bakery (including cell phone shops and generic shops)', \n",
    "                'Hotel/Resort', 'Entertainment/Cultural/Stadium/Casino', 'Private Security Company/Firm',\n",
    "                'Legal Services']\n",
    "df['sub_targettxt'] = df['sub_targettxt'].where(df['sub_targettxt'].apply(lambda x: x not in white_collar), other = 'White_Collar')\n",
    "\n",
    "\n",
    "gov_figure1 = ['Judges/Attorneys/Courts', 'Government Personnel (excluding police, military)']\n",
    "df['sub_targettxt'] = df['sub_targettxt'].where(df['sub_targettxt'].apply(lambda x: x not in gov_figure1), other = 'Gov_Figure1')\n",
    "\n",
    "gov_figure2 = ['Politician or Political Party Movement/Meeting/Rally', 'Royalty', 'Head of State',\n",
    "               'Election-Related']\n",
    "df['sub_targettxt'] = df['sub_targettxt'].where(df['sub_targettxt'].apply(lambda x: x not in gov_figure2), other = 'Gov_Figure2')\n",
    "\n",
    "\n",
    "police_facilities = ['Police Buildings (Headquarters/Stations/School)', \n",
    "                     'Police Patrol (including vehicles and convoys)', \n",
    "                     'Police Checkpoint', 'Prison/Jail']\n",
    "df['sub_targettxt'] = df['sub_targettxt'].where(df['sub_targettxt'].apply(lambda x: x not in gov_figure2), \n",
    "                                                other = 'Police_Facilities')\n",
    "\n",
    "military_facilities = ['Military Barracks/Base/Headquarters/Checkpost', 'Military Recruiting Station/Academy',\n",
    "                       'Military Weaponry', 'Military Aircraft', 'Military Maritime', \n",
    "                       'Military Transportation/Vehicle (excluding convoys)', 'Military Checkpoint',\n",
    "                       'Paramilitary']\n",
    "df['sub_targettxt'] = df['sub_targettxt'].where(df['sub_targettxt'].apply(lambda x: x not in military_facilities), \n",
    "                                                other = 'Military_Facilities')\n",
    "\n",
    "\n",
    "military_personnel = ['Military Unit/Patrol/Convoy', 'Non-combatant Personnel', \n",
    "                      'Military Personnel (soldiers, troops, officers, forces)']\n",
    "df['sub_targettxt'] = df['sub_targettxt'].where(df['sub_targettxt'].apply(lambda x: x not in military_personnel), \n",
    "                                                other = 'Military_Personnel')\n",
    "\n",
    "\n",
    "pilots_aircraft = ['Aircraft (not at an airport)', 'Airline Officer/Personnel']\n",
    "df['sub_targettxt'] = df['sub_targettxt'].where(df['sub_targettxt'].apply(lambda x: x not in military_personnel), \n",
    "                                                other = 'Pilots_Aircraft')\n",
    "\n",
    "gov_diplomatic = [' Diplomatic Personnel (outside of embassy, consulate)', 'Embassy/Consulate', \n",
    "                  'International Organization (peacekeeper, aid agency, compound)']\n",
    "df['sub_targettxt'] = df['sub_targettxt'].where(df['sub_targettxt'].apply(lambda x: x not in gov_diplomatic), \n",
    "                                                other = 'Gov_Diplomatic')\n",
    "\n",
    "educational = ['Teacher/Professor/Instructor', 'School/University/Educational Building', \n",
    "               'Other Personnel']\n",
    "df['sub_targettxt'] = df['sub_targettxt'].where(df['sub_targettxt'].apply(lambda x: x not in educational), \n",
    "                                                other = 'Educational')\n",
    "\n",
    "food_water = ['Food Supply', 'Water Supply']\n",
    "df['sub_targettxt'] = df['sub_targettxt'].where(df['sub_targettxt'].apply(lambda x: x not in food_water), \n",
    "                                                other = 'Food_Water')\n",
    "\n",
    "media = ['Newspaper Journalist/Staff/Facility', 'Radio Journalist/Staff/Facility', \n",
    "         'Television Journalist/Staff/Facility', 'Other (including online news agencies)']\n",
    "df['sub_targettxt'] = df['sub_targettxt'].where(df['sub_targettxt'].apply(lambda x: x not in media), \n",
    "                                                other = 'Media')\n",
    "\n",
    "\n",
    "religious = ['Religion Identified', 'Religious Figure', 'Place of Worship', \n",
    "             'Affiliated Institution']\n",
    "df['sub_targettxt'] = df['sub_targettxt'].where(df['sub_targettxt'].apply(lambda x: x not in military_personnel), \n",
    "                                                other = 'Pilots_Aircraft')\n",
    "\n",
    "\n",
    "political = ['Protester', 'Political Party Member/Rally', 'Party Official/Candidate/Other Personnel', \n",
    "             'Party Office/Facility', 'Rally']\n",
    "df['sub_targettxt'] = df['sub_targettxt'].where(df['sub_targettxt'].apply(lambda x: x not in political), \n",
    "                                                other = 'Political')\n",
    "\n",
    "mass_socio = ['Refugee (including Camps/IDP/Asylum Seekers)', 'Named Civilian', 'Student', \n",
    "              'Race/Ethnicity Identified', 'Farmer', 'Vehicles/Transportation', 'Marketplace/Plaza/Square', 'Village/City/Town/Suburb', \n",
    "              'House/Apartment/Residence', 'Laborer (General)/Occupation Identified', 'Procession/Gathering (funeral, wedding, birthday, religious)', \n",
    "              'Public Areas (e.g., Public garden, parking lot, garage, beach, public buildings, camps)',\n",
    "             'Memorial/Cemetery/Monument', 'Museum/Cultural Center/Cultural House', 'Labor Union Related', \n",
    "              'Tourism Travel Agency', 'Tour Bus/Van/Vehicle', 'Tourist', 'Other Facility', 'Train/Train Tracks/ Trolley', 'Bus Station/Stop', 'Subway', \n",
    "              'Bridge/Car Tunnel', 'Highway/Road/Toll/Traffic Signal', 'Taxi/Rickshaw']\n",
    "df['sub_targettxt'] = df['sub_targettxt'].where(df['sub_targettxt'].apply(lambda x: x not in mass_socio), \n",
    "                                                other = 'Mass_Social')\n",
    "\n",
    "\n",
    "\n",
    "util_telecom = ['Radio', 'Television', 'Telephone/Telegraph', 'Internet Infrastructure', \n",
    "                'Multiple Telecommunication Targets', 'Gas', 'Electricity', 'Oil']\n",
    "df['sub_targettxt'] = df['sub_targettxt'].where(df['sub_targettxt'].apply(lambda x: x not in util_telecom), \n",
    "                                                other = 'Util_Telecom')"
   ]
  },
  {
   "cell_type": "code",
   "execution_count": 38,
   "metadata": {},
   "outputs": [],
   "source": [
    "# Trying Group_name a bit and grouping them by Ideaology.\n",
    "# Separatists, Leftists and Rightists:\n",
    "\n",
    "# Palestinian Separatists:\n",
    "cyber_df['group_name'] = cyber_df['group_name'].replace('Hamas (Islamic Resistance Movement)', \n",
    "                                                        'Palestinian_Separatists')\n",
    "cyber_df['group_name'] = cyber_df['group_name'].replace('Palestinian Islamic Jihad (PIJ)', \n",
    "                                                        'Palestinian_Separatists')\n",
    "cyber_df['group_name'] = cyber_df['group_name'].replace('Popular Front for the Liberation of Palestine (PFLP)',\n",
    "                                                        'Palestinian_Separatists')\n",
    "cyber_df['group_name'] = cyber_df['group_name'].replace('Popular Resistance Committees',\n",
    "                                                        'Palestinian_Separatists')\n",
    "cyber_df['group_name'] = cyber_df['group_name'].replace('Al-Fatah',\n",
    "                                                        'Palestinian_Separatists')\n",
    "\n",
    "# Militants:\n",
    "cyber_df['group_name'] = cyber_df['group_name'].replace('Militants',\n",
    "                                                        'Militant_Gunmen_Groups')\n",
    "cyber_df['group_name'] = cyber_df['group_name'].replace('Gunmen',\n",
    "                                                        'Militant_Gunmen_Groups')"
   ]
  },
  {
   "cell_type": "code",
   "execution_count": 39,
   "metadata": {},
   "outputs": [],
   "source": [
    "# Asian Separatists:\n",
    "\n",
    "cyber_df['group_name'] = cyber_df['group_name'].replace('Abu Sayyaf Group (ASG)',\n",
    "                                                        'Asian_Separatists')\n",
    "cyber_df['group_name'] = cyber_df['group_name'].replace('Colonel Karuna Faction',\n",
    "                                                        'Asian_Separatists')\n",
    "cyber_df['group_name'] = cyber_df['group_name'].replace('Eastern Turkistan Islamic Movement (ETIM)',\n",
    "                                                        'Asian_Separatists')\n",
    "cyber_df['group_name'] = cyber_df['group_name'].replace('Free Aceh Movement (GAM)',\n",
    "                                                        'Asian_Separatists')\n",
    "cyber_df['group_name'] = cyber_df['group_name'].replace('Janatantrik Terai Mukti Morcha (Jtmm)',\n",
    "                                                        'Asian_Separatists')\n",
    "cyber_df['group_name'] = cyber_df['group_name'].replace('Janatantrik Terai Mukti Morcha- Goit (Jtmm-G)',\n",
    "                                                        'Asian_Separatists')\n",
    "cyber_df['group_name'] = cyber_df['group_name'].replace('Janatantrik Terai Mukti Morcha- Jwala Singh (Jtmm-J)',\n",
    "                                                        'Asian_Separatists')\n",
    "cyber_df['group_name'] = cyber_df['group_name'].replace('Janatantrik Terai Mukti Morcha- Rajan Mukti (Jtmm-R)',\n",
    "                                                        'Asian_Separatists')\n",
    "cyber_df['group_name'] = cyber_df['group_name'].replace('Liberation Tigers of Tamil Eelam (LTTE)',\n",
    "                                                        'Asian_Separatists')\n",
    "cyber_df['group_name'] = cyber_df['group_name'].replace('Moro Islamic Liberation Front (MILF)',\n",
    "                                                        'Asian_Separatists')\n",
    "cyber_df['group_name'] = cyber_df['group_name'].replace('Runda Kumpulan Kecil (Rkk)',\n",
    "                                                        'Asian_Separatists')\n",
    "cyber_df['group_name'] = cyber_df['group_name'].replace('Terai Army',\n",
    "                                                        'Asian_Separatists')\n"
   ]
  },
  {
   "cell_type": "code",
   "execution_count": 54,
   "metadata": {},
   "outputs": [],
   "source": [
    "# Middle Eastern Separatists\n",
    "cyber_df['group_name'] = cyber_df['group_name'].replace('Supreme Council For Islamic Revolution In Iraq (Sciri)',\n",
    "                                                        'Middle_Eastern_Separatists')\n",
    "cyber_df['group_name'] = cyber_df['group_name'].replace('Southern Mobility Movement (Yemen)',\n",
    "                                                        'Middle_Eastern_Separatists')\n",
    "cyber_df['group_name'] = cyber_df['group_name'].replace('Riyadus-Salikhin Reconnaissance And Sabotage Battalion Of Chechen Martyrs',\n",
    "                                                        'Middle_Eastern_Separatists')\n",
    "cyber_df['group_name'] = cyber_df['group_name'].replace('Haqqani Network',\n",
    "                                                        'Middle_Eastern_Separatists')\n",
    "cyber_df['group_name'] = cyber_df['group_name'].replace('Harkatul Jihad-E-Islami',\n",
    "                                                        'Middle_Eastern_Separatists')\n",
    "cyber_df['group_name'] = cyber_df['group_name'].replace('Hizbul Mujahideen (Hm)',\n",
    "                                                        'Middle_Eastern_Separatists')\n",
    "cyber_df['group_name'] = cyber_df['group_name'].replace('Jaish-E-Mohammad (Jem)',\n",
    "                                                        'Middle_Eastern_Separatists')\n",
    "cyber_df['group_name'] = cyber_df['group_name'].replace('Kurdistan Free Life Party',\n",
    "                                                        'Middle_Eastern_Separatists')\n",
    "cyber_df['group_name'] = cyber_df['group_name'].replace('Kurdistan Workers Party (PKK)',\n",
    "                                                        'Middle_Eastern_Separatists')\n",
    "cyber_df['group_name'] = cyber_df['group_name'].replace('Lashkar-E-Balochistan',\n",
    "                                                        'Middle_Eastern_Separatists')\n",
    "cyber_df['group_name'] = cyber_df['group_name'].replace('Lashkar-E-Taiba (Let)',\n",
    "                                                        'Middle_Eastern_Separatists')\n",
    "cyber_df['group_name'] = cyber_df['group_name'].replace('Ansar Al-Islam',\n",
    "                                                        'Middle_Eastern_Separatists')\n",
    "cyber_df['group_name'] = cyber_df['group_name'].replace('Ansar Al-Sharia (Libya)',\n",
    "                                                        'Middle_Eastern_Separatists')\n",
    "cyber_df['group_name'] = cyber_df['group_name'].replace('Baloch Liberation Army (BLA)',\n",
    "                                                        'Middle_Eastern_Separatists')\n",
    "cyber_df['group_name'] = cyber_df['group_name'].replace('Baloch Liberation Front (Blf)',\n",
    "                                                        'Middle_Eastern_Separatists')\n",
    "cyber_df['group_name'] = cyber_df['group_name'].replace('Baloch Republican Army (BRA)',\n",
    "                                                        'Middle_Eastern_Separatists')\n",
    "cyber_df['group_name'] = cyber_df['group_name'].replace('Caucasus Emirate',\n",
    "                                                        'Middle_Eastern_Separatists')\n",
    "cyber_df['group_name'] = cyber_df['group_name'].replace('Free Syrian Army',\n",
    "                                                        'Middle_Eastern_Separatists')\n",
    "cyber_df['group_name'] = cyber_df['group_name'].replace('Chechen Rebels ',\n",
    "                                                        'Middle_Eastern_Separatists')"
   ]
  },
  {
   "cell_type": "code",
   "execution_count": 55,
   "metadata": {},
   "outputs": [],
   "source": [
    "# Indian Separatists\n",
    "cyber_df['group_name'] = cyber_df['group_name'].replace('Black Widows',\n",
    "                                                        'Indian_Separatists')\n",
    "cyber_df['group_name'] = cyber_df['group_name'].replace('Dima Halao Daoga (Dhd)',\n",
    "                                                        'Indian_Separatists')\n",
    "cyber_df['group_name'] = cyber_df['group_name'].replace('Garo National Liberation Army',\n",
    "                                                        'Indian_Separatists')\n",
    "cyber_df['group_name'] = cyber_df['group_name'].replace('Kangleipak Communist Party (KCP)',\n",
    "                                                        'Indian_Separatists')\n",
    "cyber_df['group_name'] = cyber_df['group_name'].replace('Karbi Longri North Cachar Liberation Front (Klnlf)',\n",
    "                                                        'Indian_Separatists')\n",
    "cyber_df['group_name'] = cyber_df['group_name'].replace('National Democratic Front of Bodoland (NDFB)',\n",
    "                                                        'Indian_Separatists')\n",
    "cyber_df['group_name'] = cyber_df['group_name'].replace('National Liberation Front of Tripura (NLFT)',\n",
    "                                                        'Indian_Separatists')\n",
    "cyber_df['group_name'] = cyber_df['group_name'].replace('National Socialist Council of Nagaland-Isak-Muivah (NSCN-IM)',\n",
    "                                                        'Indian_Separatists')\n",
    "cyber_df['group_name'] = cyber_df['group_name'].replace('People\\'s Liberation Army (PLA)',\n",
    "                                                        'Indian_Separatists')\n",
    "cyber_df['group_name'] = cyber_df['group_name'].replace('People\\'s Revolutionary Party of Kangleipak (PREPAK)',\n",
    "                                                        'Indian_Separatists')\n",
    "cyber_df['group_name'] = cyber_df['group_name'].replace('United Liberation Front of Assam (ULFA)',\n",
    "                                                        'Indian_Separatists')\n",
    "cyber_df['group_name'] = cyber_df['group_name'].replace('United National Liberation Front (UNLF)',\n",
    "                                                        'Indian_Separatists')"
   ]
  },
  {
   "cell_type": "code",
   "execution_count": 56,
   "metadata": {},
   "outputs": [],
   "source": [
    "# Irish Separatists\n",
    "cyber_df['group_name'] = cyber_df['group_name'].replace('Real Irish Republican Army (RIRA)',\n",
    "                                                        'Irish_Separatists')\n",
    "cyber_df['group_name'] = cyber_df['group_name'].replace('Oglaigh Na Heireann',\n",
    "                                                        'Irish_Separatists')\n",
    "cyber_df['group_name'] = cyber_df['group_name'].replace('Irish Republican Army (IRA)',\n",
    "                                                        'rish_Separatists')\n"
   ]
  },
  {
   "cell_type": "code",
   "execution_count": 57,
   "metadata": {},
   "outputs": [],
   "source": [
    "# Farc left and right\n",
    "cyber_df['group_name'] = cyber_df['group_name'].replace('National Liberation Army of Colombia (ELN)',\n",
    "                                                        'FARC_Leftist')\n",
    "cyber_df['group_name'] = cyber_df['group_name'].replace('Popular Liberation Army (EPL)',\n",
    "                                                        'FARC_Leftist')\n",
    "cyber_df['group_name'] = cyber_df['group_name'].replace('Revolutionary Armed Forces of Colombia (FARC)',\n",
    "                                                        'FARC_Leftist')\n",
    "\n",
    "cyber_df['group_name'] = cyber_df['group_name'].replace('United Self Defense Units of Colombia (AUC)',\n",
    "                                                        'FARC_Rightist')\n",
    "  "
   ]
  },
  {
   "cell_type": "code",
   "execution_count": 58,
   "metadata": {},
   "outputs": [],
   "source": [
    "# Middle Eastern Religious:\n",
    "cyber_df['group_name'] = cyber_df['group_name'].replace('Al-Gama\\'at Al-Islamiyya (IG)',\n",
    "                                                        'Middle_Eastern_Religious')\n",
    "cyber_df['group_name'] = cyber_df['group_name'].replace('Al-Nusrah Front',\n",
    "                                                        'Middle_Eastern_Religious')\n",
    "cyber_df['group_name'] = cyber_df['group_name'].replace('Al-Qa\\'ida',\n",
    "                                                        'Middle_Eastern_Religious')\n",
    "cyber_df['group_name'] = cyber_df['group_name'].replace('Al-Qa\\'ida in the Arabian Peninsula (AQAP)',\n",
    "                                                        'Middle_Eastern_Religious')\n",
    "cyber_df['group_name'] = cyber_df['group_name'].replace('Al-Qa\\'ida in the Lands of the Islamic Maghreb (AQLIM)',\n",
    "                                                        'Middle_Eastern_Religious')\n",
    "cyber_df['group_name'] = cyber_df['group_name'].replace('Al-Shabaab',\n",
    "                                                        'Middle_Eastern_Religious')\n",
    "cyber_df['group_name'] = cyber_df['group_name'].replace('Ansar Al-Islam',\n",
    "                                                        'Middle_Eastern_Religious')\n",
    "cyber_df['group_name'] = cyber_df['group_name'].replace('Ansar Al-Sharia (Libya)',\n",
    "                                                        'Middle_Eastern_Religious')\n",
    "cyber_df['group_name'] = cyber_df['group_name'].replace('Asa\\'Ib Ahl Al-Haqq',\n",
    "                                                        'Middle_Eastern_Religious')\n",
    "cyber_df['group_name'] = cyber_df['group_name'].replace('Caucasus Emirate',\n",
    "                                                        'Middle_Eastern_Religious')\n",
    "cyber_df['group_name'] = cyber_df['group_name'].replace('Eritrean Islamic Jihad Movement (EIJM)',\n",
    "                                                        'Middle_Eastern_Religious')\n",
    "cyber_df['group_name'] = cyber_df['group_name'].replace('Great Eastern Islamic Raiders Front (Ibda-C)',\n",
    "                                                        'Middle_Eastern_Religious')\n",
    "cyber_df['group_name'] = cyber_df['group_name'].replace('Hizbul Al Islam (Somalia)',\n",
    "                                                        'Middle_Eastern_Religious')\n",
    "cyber_df['group_name'] = cyber_df['group_name'].replace('Islamic Courts Union (ICU)',\n",
    "                                                        'Middle_Eastern_Religious')\n",
    "cyber_df['group_name'] = cyber_df['group_name'].replace('Islamic State of Iraq and al Sham (ISIS)',\n",
    "                                                        'Middle_Eastern_Religious')\n",
    "cyber_df['group_name'] = cyber_df['group_name'].replace('Islamic Movement of Uzbekistan (IMU)',\n",
    "                                                        'Middle_Eastern_Religious')\n",
    "cyber_df['group_name'] = cyber_df['group_name'].replace('Jamiat Ul-Mujahedin (Jum)',\n",
    "                                                        'Middle_Eastern_Religious')\n",
    "cyber_df['group_name'] = cyber_df['group_name'].replace('Jundallah',\n",
    "                                                        'Middle_Eastern_Religious')\n",
    "cyber_df['group_name'] = cyber_df['group_name'].replace('Mahdi Army',\n",
    "                                                        'Middle_Eastern_Religious')\n",
    "cyber_df['group_name'] = cyber_df['group_name'].replace('Taliban',\n",
    "                                                        'Middle_Eastern_Religious')\n",
    "cyber_df['group_name'] = cyber_df['group_name'].replace('Tehrik-i-Taliban Pakistan (TTP)',\n",
    "                                                        'Middle_Eastern_Religious')\n",
    "cyber_df['group_name'] = cyber_df['group_name'].replace('Muslim extremists ',\n",
    "                                                        'Middle_Eastern_Religious')\n"
   ]
  },
  {
   "cell_type": "code",
   "execution_count": 59,
   "metadata": {},
   "outputs": [],
   "source": [
    "# Asian and African Religious:\n",
    "\n",
    "cyber_df['group_name'] = cyber_df['group_name'].replace('Students Islamic Movement of India (Simi)',\n",
    "                                                        'Asian/Asian-Pacific_Religious')\n",
    "cyber_df['group_name'] = cyber_df['group_name'].replace('Ranbir Sena',\n",
    "                                                        'Asian/Asian-Pacific_Religious')\n",
    "cyber_df['group_name'] = cyber_df['group_name'].replace('Jemaah Islamiya (JI)',\n",
    "                                                        'Asian/Asian-Pacific_Religious')\n",
    "\n",
    "\n",
    "cyber_df['group_name'] = cyber_df['group_name'].replace('Movement for Oneness and Jihad in West Africa (MUJAO)',\n",
    "                                                        'African_Religious')\n",
    "cyber_df['group_name'] = cyber_df['group_name'].replace('Lord\\'s Resistance Army (LRA)',\n",
    "                                                        'African_Religious')\n"
   ]
  },
  {
   "cell_type": "code",
   "execution_count": 60,
   "metadata": {},
   "outputs": [
    {
     "data": {
      "text/plain": [
       "Unknown                                                                       5266\n",
       "Middle_Eastern_Religious                                                       948\n",
       "Communist Party of India - Maoist (CPI-Maoist)                                 400\n",
       "Maoists                                                                        231\n",
       "Islamic State of Iraq and the Levant (ISIL)                                    190\n",
       "Indian_Separatists                                                             166\n",
       "FARC_Leftist                                                                   125\n",
       "Middle_Eastern_Separatists                                                     114\n",
       "New People's Army (NPA)                                                        111\n",
       "Boko Haram                                                                      88\n",
       "Asian_Separatists                                                               86\n",
       "Al-Qaida in Iraq                                                                79\n",
       "Kurdistan Workers' Party (PKK)                                                  64\n",
       "Palestinian_Separatists                                                         60\n",
       "National Socialist Council of Nagaland-Khaplang (NSCN-K)                        57\n",
       "Informal Anarchist Federation                                                   45\n",
       "African_Religious                                                               44\n",
       "Militant_Gunmen_Groups                                                          41\n",
       "Al-Qaida in the Arabian Peninsula (AQAP)                                        39\n",
       "Salafist Group for Preaching and Fighting (GSPC)                                37\n",
       "Separatists                                                                     29\n",
       "Muslim extremists                                                               28\n",
       "Bangsamoro Islamic Freedom Movement (BIFM)                                      27\n",
       "Al-Qaida in the Islamic Maghreb (AQIM)                                          25\n",
       "Basque Fatherland and Freedom (ETA)                                             23\n",
       "Sinai Province of the Islamic State                                             22\n",
       "Baloch Liberation Front (BLF)                                                   22\n",
       "Chechen Rebels                                                                  21\n",
       "Houthi extremists (Ansar Allah)                                                 21\n",
       "Indian Mujahideen                                                               18\n",
       "                                                                              ... \n",
       "Hadramawt Tribes Alliance                                                        1\n",
       "Gono Bahini (GB)                                                                 1\n",
       "Movement of Niger People for Justice (MNJ)                                       1\n",
       "Bodo Liberation Tigers (BLT)                                                     1\n",
       "Sisters in Arms                                                                  1\n",
       "Americans for a Competent Federal Judicial System                                1\n",
       "Paramilitaries                                                                   1\n",
       "Pattani United Liberation Organization (PULO)                                    1\n",
       "Bini-Oru                                                                         1\n",
       "All Burma Students' Democratic Front (ABSDF)                                     1\n",
       "Rastriya Janashakti Party (RJP)                                                  1\n",
       "Jaish-e-Mohammad (Iraq)                                                          1\n",
       "Ajnad Misr                                                                       1\n",
       "Syrian Social Nationalist Party                                                  1\n",
       "The United Revolutionary Front of Bhutan                                         1\n",
       "Republic of New Afrika                                                           1\n",
       "Rastas                                                                           1\n",
       "Jundallah (Pakistan)                                                             1\n",
       "Informal Feminist Commando for Anti-authoritarian Action                         1\n",
       "Popular Revolutionary Army (Mexico)                                              1\n",
       "Wild Individualities                                                             1\n",
       "Rashtriya Swayamsevak Sangh                                                      1\n",
       "Rebel Military Unit                                                              1\n",
       "Muslims                                                                          1\n",
       "Armed Forces Revolutionary Council (AFRC)                                        1\n",
       "Terena Indians                                                                   1\n",
       "1920 Revolution Brigades                                                         1\n",
       "Turkish radicals                                                                 1\n",
       "Tehrik-e-Nifaz-e-Aman Balochistan-Jhalawan Brigade (TNAB-Jhalawan Brigade)       1\n",
       "Tritiya Prastuti Committee (TPC)                                                 1\n",
       "Name: group_name, Length: 429, dtype: int64"
      ]
     },
     "execution_count": 60,
     "metadata": {},
     "output_type": "execute_result"
    }
   ],
   "source": [
    "cyber_df['group_name'].value_counts()"
   ]
  },
  {
   "cell_type": "code",
   "execution_count": null,
   "metadata": {},
   "outputs": [],
   "source": [
    "# Trying City Names by Religion or Tribal Associations:\n",
    "sunni_cities = ['Mosul', 'Kirkuk', 'Sanandaj', 'Ramadi', 'Trabzone', 'Diarbekir', \n",
    "                'Damascus', 'Gwadar', 'Zahedan', 'Kandahar', 'Khiva']\n",
    "cyber_data1['city'] = cyber_data1['city'].apply(lambda x: x not in sunni_cities), \n",
    "                                                other = 'Sunni_Cities')"
   ]
  },
  {
   "cell_type": "code",
   "execution_count": null,
   "metadata": {},
   "outputs": [],
   "source": [
    "cyber_data1['city'] = cyber_data1['city'].str.replace(r'''(?isx)(.*)|(.*)|(.*)|()|\n",
    "                                    (.*)|()|(.*)|(.*)|(.*)|\n",
    "                                    (.*)|(.*)(.*)|(.*)''', 'Shia Cities')"
   ]
  },
  {
   "cell_type": "code",
   "execution_count": null,
   "metadata": {},
   "outputs": [],
   "source": [
    "cyber_data1['city'] = cyber_data1['city'].str.replace(r'''(?isx)()|()|()|()|\n",
    "                                    (.*)|(.*)|(.*)|(.*)|\n",
    "                                    (.*)''', '')"
   ]
  },
  {
   "cell_type": "code",
   "execution_count": null,
   "metadata": {},
   "outputs": [],
   "source": [
    "cyber_data1['city'] = cyber_data1['city'].str.replace(r'''(?isx)()|()|()|()|\n",
    "                                    (.*)|(.*)|(.*)|(.*)|\n",
    "                                    (.*)''', '')"
   ]
  },
  {
   "cell_type": "code",
   "execution_count": null,
   "metadata": {},
   "outputs": [],
   "source": [
    "cyber_data1['city'] = cyber_data1['city'].str.replace(r'''(?isx)()|()|()|()|\n",
    "                                    (.*)|(.*)|(.*)|(.*)|\n",
    "                                    (.*)''', '')"
   ]
  },
  {
   "cell_type": "code",
   "execution_count": null,
   "metadata": {},
   "outputs": [],
   "source": []
  },
  {
   "cell_type": "code",
   "execution_count": null,
   "metadata": {},
   "outputs": [],
   "source": []
  },
  {
   "cell_type": "code",
   "execution_count": null,
   "metadata": {},
   "outputs": [],
   "source": []
  }
 ],
 "metadata": {
  "kernelspec": {
   "display_name": "Python 3",
   "language": "python",
   "name": "python3"
  },
  "language_info": {
   "codemirror_mode": {
    "name": "ipython",
    "version": 3
   },
   "file_extension": ".py",
   "mimetype": "text/x-python",
   "name": "python",
   "nbconvert_exporter": "python",
   "pygments_lexer": "ipython3",
   "version": "3.7.0"
  },
  "toc": {
   "base_numbering": 1,
   "nav_menu": {},
   "number_sections": false,
   "sideBar": true,
   "skip_h1_title": false,
   "title_cell": "Table of Contents",
   "title_sidebar": "Contents",
   "toc_cell": false,
   "toc_position": {},
   "toc_section_display": true,
   "toc_window_display": false
  }
 },
 "nbformat": 4,
 "nbformat_minor": 2
}
