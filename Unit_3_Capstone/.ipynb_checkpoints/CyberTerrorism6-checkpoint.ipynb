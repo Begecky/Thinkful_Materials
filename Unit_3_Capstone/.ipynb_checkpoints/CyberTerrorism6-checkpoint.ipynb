{
 "cells": [
  {
   "cell_type": "markdown",
   "metadata": {
    "slideshow": {
     "slide_type": "slide"
    }
   },
   "source": [
    "## Predicting the Success of Cyber-Related Terrorist Attacks:"
   ]
  },
  {
   "cell_type": "markdown",
   "metadata": {
    "slideshow": {
     "slide_type": "subslide"
    }
   },
   "source": [
    "This dataset is from Global Terrorism Database curated by the University of Maryland:\n",
    "\n",
    "National Consortium for the Study of Terrorism and Responses to Terrorism (START). (2018). Global Terrorism Database [Data file]. Retrieved from https://www.start.umd.edu/gtd.\n",
    "\n",
    "It is a rich dataset with numerous variables and plenty of opportunities for analysis.  In this project, we will focus on predicting the 'success' of attacks which are related to cyber-events or have consequences for cyber-infrastructure (we will describe these characteristics in further detail below.   \n",
    "\n",
    "To begin, we will take a look at how this study classifies a successful terrorist attack and distinguishes it from an unsuccessful attack.  Below, is their description from pages 11 and 26 of their code-book (__[GTD Global Terrorism Database. Codebook: Inclusion Criteria and Variables](http://www.start.umd.edu/gtd/downloads/Codebook.pdf)__):\n",
    "\n",
    "> \"The GTD does not include plots or conspiracies that are not enacted, or at least attempted. For\n",
    "an event to be included in the GTD, the attackers must be “out the door,” en route to execute\n",
    "the attack. Planning, reconnaissance, and acquiring supplies do not meet this threshold.\n",
    "The GTD does include attacks that were attempted but ultimately unsuccessful. The\n",
    "circumstances vary depending on tactics (for details see the success variable, below). However,\n",
    "in general if a bomb is planted but fails to detonate; if an arsonist is intercepted by authorities\n",
    "before igniting a fire; or, if an assassin attempts and fails to kill his or her intended target, the\n",
    "attack is considered for inclusion in the GTD, and marked success=0.\" P. 11\n",
    "\n",
    "> \"Success of a terrorist strike is defined according to the tangible effects of the attack.\n",
    "Success is not judged in terms of the larger goals of the perpetrators. For example, a\n",
    "bomb that exploded in a building would be counted as a success even if it did not\n",
    "succeed in bringing the building down or inducing government repression.\n",
    "The definition of a successful attack depends on the type of attack. Essentially, the\n",
    "key question is whether or not the attack type took place. If a case has multiple\n",
    "attack types, it is successful if any of the attack types are successful, with the\n",
    "exception of assassinations, which are only successful if the intended target is killed.\n",
    "        1 = \"Yes\" The incident was successful.\n",
    "        0 = \"No\" The incident was not successful.\" P. 26\n",
    "\n",
    "Thus, our focus below will be on using the data collected to build a model which will successfully predict the success of a terror attack.  Below, we will begin importing and working with our data, and explanations and analysis will follow when pertinent."
   ]
  },
  {
   "cell_type": "code",
   "execution_count": 1,
   "metadata": {
    "slideshow": {
     "slide_type": "skip"
    }
   },
   "outputs": [
    {
     "name": "stderr",
     "output_type": "stream",
     "text": [
      "/usr/local/lib/python3.7/site-packages/sklearn/utils/__init__.py:4: DeprecationWarning: Using or importing the ABCs from 'collections' instead of from 'collections.abc' is deprecated, and in 3.8 it will stop working\n",
      "  from collections import Sequence\n"
     ]
    }
   ],
   "source": [
    "import pandas as pd\n",
    "import numpy as np\n",
    "import scipy\n",
    "import matplotlib.pyplot as plt\n",
    "import seaborn as sns\n",
    "import sklearn as skl\n",
    "import gc\n",
    "import sys\n",
    "%matplotlib inline\n",
    "\n",
    "import warnings\n",
    "warnings.filterwarnings('ignore')"
   ]
  },
  {
   "cell_type": "markdown",
   "metadata": {
    "slideshow": {
     "slide_type": "slide"
    }
   },
   "source": [
    "### 1. Importing, Cleaning and General Overview:\n",
    "\n",
    "#### A. Importing Data."
   ]
  },
  {
   "cell_type": "code",
   "execution_count": 2,
   "metadata": {
    "slideshow": {
     "slide_type": "subslide"
    }
   },
   "outputs": [],
   "source": [
    "df = pd.read_excel('globalterrorismdb_0718dist.xlsx', \n",
    "                   usecols = 'A, I, K, M, S:W, AA:AB, AD, AJ, AL, AM, AN, AP, BG, BM:BN, BQ, CE, CG, DA',\n",
    "                   dtype = {'summary':str, 'motive':str})                                                                                         "
   ]
  },
  {
   "cell_type": "code",
   "execution_count": 3,
   "metadata": {
    "slideshow": {
     "slide_type": "skip"
    }
   },
   "outputs": [],
   "source": [
    "# Renaming our columns for usability:\n",
    "\n",
    "cyber_data = pd.DataFrame(df.rename({'eventid':'event_id', 'doubtterr':'doubt', 'attacktype1_txt':'attack_1txt', \n",
    "                                     'targtype1_txt':'target_1txt', 'targsubtype1':'sub_target',\n",
    "                                     'targsubtype1_txt':'sub_targettxt', 'target1':'specific_target',\n",
    "                                     'natlty1_txt':'victim_nationalitytxt', 'gname':'group_name', \n",
    "                                     'guncertain1':'group_attrib_crtainty', 'individual':'unaffil_individ', \n",
    "                                     'weaptype1':'weapon', 'weaptype1_txt':'weapontxt', \n",
    "                                     'weapsubtype1':'sub_weapon', 'weapsubtype1_txt':'sub_weapontxt'}, axis = 1))"
   ]
  },
  {
   "cell_type": "code",
   "execution_count": 4,
   "metadata": {
    "slideshow": {
     "slide_type": "subslide"
    }
   },
   "outputs": [],
   "source": [
    "# Went ahead and dropped some null values here since our kernel started to crash repeatedly:\n",
    "\n",
    "start_len = cyber_data.shape\n",
    "cyber_data.dropna(axis = 0, how = 'any', inplace = True)\n",
    "mid_len_1 = cyber_data.shape"
   ]
  },
  {
   "cell_type": "code",
   "execution_count": 5,
   "metadata": {},
   "outputs": [
    {
     "data": {
      "text/plain": [
       "363439"
      ]
     },
     "execution_count": 5,
     "metadata": {},
     "output_type": "execute_result"
    }
   ],
   "source": [
    "del df\n",
    "gc.collect()"
   ]
  },
  {
   "cell_type": "markdown",
   "metadata": {
    "slideshow": {
     "slide_type": "slide"
    }
   },
   "source": [
    "#### B. Selecting Rows Specific to Cyber-Related Terrorism:\n",
    "\n",
    "In order to filter the dataset and focus our inquiry on cyber-related events, we will use the following regex statement.  This statement attempts to focus on social-networks, email platforms as well as infrastructure (to a certain extent).\n",
    "\n",
    "It should be note that this statement is susceptible to bias in a few ways.  First of all, it is temporally biased in the sense that it includes Facebook and Twitter, while newer platforms or platforms in other countries might be prevalent. One way to reduce this bias would be to update the expression whenever possible with current data and considerations of standard practice and user habits."
   ]
  },
  {
   "cell_type": "code",
   "execution_count": 6,
   "metadata": {
    "slideshow": {
     "slide_type": "subslide"
    }
   },
   "outputs": [
    {
     "name": "stdout",
     "output_type": "stream",
     "text": [
      "False    109486\n",
      "True       7047\n",
      "Name: summary, dtype: int64\n"
     ]
    }
   ],
   "source": [
    "# Creating the input Dataframe (cyber_train):\n",
    "# Using regex to isolate qualifying data and make a mask to filter our main dataframe:\n",
    "\n",
    "import re\n",
    "\n",
    "  # First taking a look to see how many rows that will give us to work with:\n",
    "    \n",
    "print(cyber_data.summary.str.contains('cyb+|social|inform+|network+|twit+|facebook|fake|electio+|internet|ads|adv+|priv+|hac+|breac+|emai+',\n",
    "                         flags = re.IGNORECASE, regex = True).value_counts())\n",
    "\n",
    "# Creating the mask:\n",
    "\n",
    "mask = cyber_data.summary.str.contains(r'(cyb+|social|inform+|network+|twit+|facebook|fake|electio+|internet|ads|adv+|priv+|hac+|breac+|emai+)', \n",
    "                           flags = re.IGNORECASE)\n",
    "\n",
    "# Filtering our main data:\n",
    "\n",
    "cyber_data = pd.DataFrame(cyber_data[mask])"
   ]
  },
  {
   "cell_type": "markdown",
   "metadata": {
    "slideshow": {
     "slide_type": "slide"
    }
   },
   "source": [
    "#### C. Splitting Our Train/Test Data:\n",
    "\n",
    "Below, we dropped some specific columns in dataframe in order to make future processing more efficient.  The 'event_id' column wasn't numerically significant and created problems when getting dummies was necessary. The same occured with 'summary' and 'motive.'  These last two columns, however, will come in handy when considering avenues for further research, which we will discuss below."
   ]
  },
  {
   "cell_type": "code",
   "execution_count": 7,
   "metadata": {
    "slideshow": {
     "slide_type": "subslide"
    }
   },
   "outputs": [],
   "source": [
    "from sklearn.model_selection import cross_val_score, train_test_split\n",
    "\n",
    "# Defining our Input and Output data:\n",
    "# (Cleaning afterwards to prevent leakage)\n",
    "\n",
    "X = cyber_data.drop(['event_id', 'success', 'summary', 'motive'], axis = 1)\n",
    "Y = pd.DataFrame(cyber_data['success'])\n",
    "\n",
    "X_train, X_test, Y_train, Y_test = train_test_split(X, Y, test_size = .25)\n",
    "\n",
    "X_train_start_index = X_train.index\n",
    "X_test_start_index = X_test.index"
   ]
  },
  {
   "cell_type": "code",
   "execution_count": 8,
   "metadata": {},
   "outputs": [
    {
     "data": {
      "text/plain": [
       "[('cyber_data', 10429396),\n",
       " ('X', 6722124),\n",
       " ('X_train', 5042218),\n",
       " ('X_test', 1679930),\n",
       " ('mask', 1048821),\n",
       " ('Y', 112776),\n",
       " ('Y_train', 84584),\n",
       " ('X_train_start_index', 42304),\n",
       " ('Y_test', 28216),\n",
       " ('X_test_start_index', 14120),\n",
       " ('cross_val_score', 136),\n",
       " ('train_test_split', 136),\n",
       " ('np', 80),\n",
       " ('pd', 80),\n",
       " ('plt', 80),\n",
       " ('skl', 80),\n",
       " ('sns', 80),\n",
       " ('mid_len_1', 64),\n",
       " ('start_len', 64)]"
      ]
     },
     "execution_count": 8,
     "metadata": {},
     "output_type": "execute_result"
    }
   ],
   "source": [
    "\n",
    "# These are the usual ipython objects, including this one you are creating\n",
    "ipython_vars = ['In', 'Out', 'exit', 'quit', 'get_ipython', 'ipython_vars']\n",
    "\n",
    "# Get a sorted list of the objects and their sizes\n",
    "\n",
    "cleaner = sorted([(x, sys.getsizeof(globals().get(x))) for x in dir() if not x.startswith('_') and x not in sys.modules and x not in ipython_vars], key=lambda x: x[1], reverse=True)\n",
    "cleaner"
   ]
  },
  {
   "cell_type": "code",
   "execution_count": 9,
   "metadata": {},
   "outputs": [
    {
     "data": {
      "text/plain": [
       "21"
      ]
     },
     "execution_count": 9,
     "metadata": {},
     "output_type": "execute_result"
    }
   ],
   "source": [
    "del cyber_data\n",
    "del X\n",
    "del mask\n",
    "del Y\n",
    "del cleaner\n",
    "gc.collect()"
   ]
  },
  {
   "cell_type": "markdown",
   "metadata": {
    "slideshow": {
     "slide_type": "skip"
    }
   },
   "source": [
    "#### D. Isolating Columns:\n",
    "\n",
    "We want to be sure we are only using the numeric columns that are significant (i.e. binary or numerically related to the values they contain) and not arbitrary categoricals (such as using numbers to classify one instance over another).  Initially, we imported more of the dataset which included different types of data-types.  After running the notebook as it was closer to its final form, it took considerably longer to load, at which point we dropped most of these columns from our initial read-in of the data. We account for a few lingering columns below:"
   ]
  },
  {
   "cell_type": "code",
   "execution_count": 10,
   "metadata": {
    "slideshow": {
     "slide_type": "skip"
    }
   },
   "outputs": [],
   "source": [
    "cyber_train_X = X_train[['country_txt', 'region_txt', 'city', 'crit1', 'crit2', 'crit3', 'doubt',\n",
    "                       'suicide', 'attack_1txt', 'target_1txt', 'sub_targettxt', 'corp1',\n",
    "                       'specific_target', 'victim_nationalitytxt', 'group_name',\n",
    "                       'group_attrib_crtainty', 'unaffil_individ', 'weapontxt',\n",
    "                       'sub_weapontxt']]\n",
    "\n",
    "# Making sure input and output dataframes still have the same amount of rows:\n",
    "\n",
    "cyber_train_Y = Y_train.iloc[Y_train.index == cyber_train_X.index]"
   ]
  },
  {
   "cell_type": "code",
   "execution_count": 11,
   "metadata": {
    "slideshow": {
     "slide_type": "skip"
    }
   },
   "outputs": [],
   "source": [
    "# Applying the same process above to our test data:\n",
    "\n",
    "cyber_test_X = X_test[['country_txt', 'region_txt', 'city', 'crit1', 'crit2', 'crit3', 'doubt',\n",
    "                       'suicide', 'attack_1txt', 'target_1txt', 'sub_targettxt', 'corp1',\n",
    "                       'specific_target', 'victim_nationalitytxt', 'group_name',\n",
    "                       'group_attrib_crtainty', 'unaffil_individ', 'weapontxt',\n",
    "                       'sub_weapontxt']]\n",
    "\n",
    "cyber_test_Y = Y_test.iloc[Y_test.index == cyber_test_X.index]"
   ]
  },
  {
   "cell_type": "code",
   "execution_count": 12,
   "metadata": {},
   "outputs": [],
   "source": [
    "del X_train \n",
    "del X_test\n",
    "del Y_train\n",
    "del Y_test"
   ]
  },
  {
   "cell_type": "markdown",
   "metadata": {
    "slideshow": {
     "slide_type": "slide"
    }
   },
   "source": [
    "#### E. Applying Filters to Text Columns.\n",
    "\n",
    "The cells below are an attempt to consolidate (or group) some of the values together with a few certain columns we will be focusing on.  Given that these columns have a considerable number of unique values, when getting dummies later, it will greatly increase the size of our feature set.  While an increased feature-set is not necessarily a bad thing, preventing the size from becoming too large will aid in our explanatory power later on.  In other words, our feature set will have a comprehensible size, allowing us to explain the characteristics around a successful attack. Otherwise, we run the risk of a feature set which is too large for a human to understand and too many features - making it difficult to see which columns/characteristics are significant for our analysis.\n",
    "\n",
    "Below, we focus mainly on the types of weapons, the named terrorist groups and the cities attacked.  We also consolidated some of the sub_targets into larger groups.  After running our preliminary models, we found that targets and sub_targets were significant to our models, so we conducted some further feature engineering afterwards, which we will discuss later."
   ]
  },
  {
   "cell_type": "markdown",
   "metadata": {
    "slideshow": {
     "slide_type": "subslide"
    }
   },
   "source": [
    "There were a number of resources which were helpful in this grouping process, which we will lay out here:\n",
    "\n",
    "Regarding the 'weapontxt' column, which describes the type of weapons used in the attack, and the 'sub_target' column (which provides further details on the primary target) we mainly referred to the codebook accompanying the study (as mentioned above: (__[GTD Global Terrorism Database. Codebook: Inclusion Criteria and Variables](http://www.start.umd.edu/gtd/downloads/Codebook.pdf)__)).  The grouping below was rather simple - primarily placing a few types of weapon-groups and sub-targets together when it would not negatively impact our explanatory capabilites down the road."
   ]
  },
  {
   "cell_type": "markdown",
   "metadata": {
    "slideshow": {
     "slide_type": "subslide"
    }
   },
   "source": [
    "The 'city' and 'group_name' columns were more technical and involved some outside research.  The groupings below are aimed at linking cities together if they fall within an ideological, religious, environmental or political umbrella in which certain terrorist groups are interested.  For example, some middle-eastern cities are considered to lean more 'Sunni' as opposed to 'Shia', while others are 'split.'  Some South American cities lie within an area experiencing heavy gang activity (such as the Northern Triangle between Mexico and Panama).  Our goal with these groupings was to combine cities whenever they had a common interest factor for terrorist events, in the hopes that it would consolidate their correlation and aid in our predictive models.  \n",
    "\n",
    "These groupings, however, can be improved upon with further in-depth research.  Our time with this project was somewhat limited and there are a handful of regions we were unable to group together or research.  Additionally, our expertise in global terrorism is slight in comparison to those working in the field, which would benefit from an expert team member when creating these filters.  That said, it would be highly interesting to continue improving these classifications, especially given the wealth of information and databases made available by respected international research organizations, which we will list here:"
   ]
  },
  {
   "cell_type": "markdown",
   "metadata": {
    "slideshow": {
     "slide_type": "subslide"
    }
   },
   "source": [
    "Some cities and groups were classified according to their religious leanings:\n",
    "\n",
    "- Some Middle-Eastern cities were grouped under a Sunni/Shia or Sunni/Shia Split category.  These resources were helpful in ascertaining where a city fell with respect to these religious tendencies:\n",
    "-  A New York Times article by Sarah Almukhtar, Sergio Peçanha and Tim Wallace on January 5th, 2016, entitled: __[Behind Stark Political Divisions, a More\n",
    "Complex Map of Sunnis and Shiites.](https://www.nytimes.com/interactive/2016/01/04/world/middleeast/sunni-shiite-map-middle-east-iran-saudi-arabia.html)__\n",
    "- A blog post by Olivier Ypsilantis on August 14th, 2014, entitled: __[Carte religieuse de l’Iran et ses voisins](http://zakhor-online.com/?attachment_id=7932)__.\n",
    "- Max Fisher wrote a great article for Vox on March 26th, 2015 which has a lot of great maps for reference: __[40 maps that explain the Middle East](https://www.vox.com/a/maps-explain-the-middle-east)__\n",
    "The Gulf 2000 Project has a plethora of maps and resources regarding issues in the Middle-East, and specifically this page by Dr. Michael Izady entitled __[Atlas of the Islamic World and Vicinity\n",
    "(Infographs, Maps and Statistics Collection).](http://gulf2000.columbia.edu/maps.shtml)__ Some other maps we used from this site were: - __[A map of West Africa](http://gulf2000.columbia.edu/images/maps/West_Africa_Religion_lg.png)__\n",
    " - __[A map of Libya](http://gulf2000.columbia.edu/images/maps/Libya_Religion_Western_Sector_lg.png)__\n",
    " - __[A Shia territories map](http://gulf2000.columbia.edu/images/maps/ShiasReligionCore_lg.png)__\n",
    "\n",
    "The Crisis Group also has a number of useful resources and articles regarding these topics.  Specifically regarding Colombia and South America, we referenced and article entitled __[Colombia’s Armed Groups Battle for the Spoils of Peace](https://www.crisisgroup.org/latin-america-caribbean/andes/colombia/63-colombias-armed-groups-battle-spoils-peace)__ from Report  63 / Latin America & Caribbean 19 OCTOBER 2017.  There was an interesting map by Mike Shand (International Crisis Group 2017), entitled __[Map of Armed Groups and Coca Crops in Colombia, 2017.](https://www.crisisgroup.org/latin-america-caribbean/andes/colombia/63-colombias-armed-groups-battle-spoils-peace#map-5700-8)__."
   ]
  },
  {
   "cell_type": "markdown",
   "metadata": {
    "slideshow": {
     "slide_type": "subslide"
    }
   },
   "source": [
    "We'll also take this opportunity to list out further databases and resources we used for this project:\n",
    "\n",
    "For 'group_names' we referenced START's resources again (as they have a wealth of resources surrounding the database we used and the elements it describes.  Here, they list the names of __['Big, Allied and Dangerous' terrorist groups,](http://www.start.umd.edu/baad/database)___ which we used as the basis for a majority of our classification.\n",
    "\n",
    "The __[SATP website](http://www.satp.org/conflict-maps/bangladesh)__ was instrumental in gaining insight into Asian conflicts. Within this website, we referenced a specific article regarding the \n",
    "__[Nepalise Maoist conflicts](http://www.satp.org/terrorist-profile/nepal/communist-party-of-nepal-maoist)__, which described their objectives, operating areas, leaders, etc.  Towards the bottom of the page, it includes a ranking by the Nepalese Home Ministry, of areas in Nepal according to their sensitivity to these issues.  We then used this __[map](https://reliefweb.int/map/nepal/nepal-regions-zones-and-districts-cities-april-2015)__ from ReliefWeb to help us locate smaller cities in pertinent areas."
   ]
  },
  {
   "cell_type": "markdown",
   "metadata": {
    "slideshow": {
     "slide_type": "subslide"
    }
   },
   "source": [
    "South America and the Northern Triangle:\n",
    "\n",
    "Again, there are a number of databases and materials available from top-level international organizations.  Regarding the Northern Triangle (namely Guatemala, Honduras, El Salvador) we referenced the following articles:\n",
    " - __[Central America’s Violent Northern Triangle](https://www.cfr.org/backgrounder/central-americas-violent-northern-triangle)__By Rocio Cara Labrador and Danielle Renwick (updated June 26th, 2018) \n",
    " - The Insight Crime Organiztion has a main page for each country involved in frequent conflicts__[such as this one regarding El Salvador](https://www.insightcrime.org/el-salvador-organized-crime-news/)__   \n",
    " - Relief Web also had a variety of resources we used here, specifically a __[main search page](https://reliefweb.int/country/slv)__ for each country that leads to reports, infographics and the like.\n",
    " - The __[Humanitarian Reponse Group](https://www.humanitarianresponse.info/en/infographics)__ also has great resources and infographics.\n",
    " - The __[United Nations Regional Information Centre](https://www.unric.org/en/databases/26912-refugees-humanitarian-affairs-and-migration)__ points to a number of outside resources depending on what one is looking for.\n",
    " - In refrencing hotspots of violence in Guatemala, we used Relief Web's summary on __[Humanitarian Needs Overview for Guatemala in 2017](https://reliefweb.int/sites/reliefweb.int/files/resources/20180315_SUMMARY_HNO%20GT_ENG.pdf)__\n",
    " - Regarding the same of El Salvador, we used Relief Web's __[Map of El Salvador.](https://reliefweb.int/sites/reliefweb.int/files/resources/20180405%20monthly%20humanitarian%20snapshot%20-%20ENG.pdf)__\n",
    " - For Honduras we referred to an article entitled __['Northern Triangle is World's Extortion Hotspot'](https://www.insightcrime.org/news/brief/northern-triangle-world-extortion-hotspot/)__ by Steven Dudley and Michael Lohmuller on JULY 1st, 2015.  This article has a map that was helpful in locating our cities.\n",
    " - Regarding Columbia, we frequently referred to the __[Crisis Group's resources.](https://www.crisisgroup.org/)__ \n",
    "There were two articles in particular we referred to here.  The first was entitled 'Colombia’s Armed Groups Battle for the Spoils of Peace' (which we already referenced above).  The second was a map entitled __['Map of ELN Presence in Colombia in 2012 and 2018, and Expansion between 2012 and 2018'](https://www.crisisgroup.org/latin-america-caribbean/andes/colombia/68-missing-peace-colombias-new-government-and-last-guerrillas#map-6189-1)__ within an article named __['The Missing Peace: Colombia’s New Government and Last Guerrillas'](https://www.crisisgroup.org/latin-america-caribbean/andes/colombia/68-missing-peace-colombias-new-government-and-last-guerrillas)__ from their Report 68 / Latin America & Caribbean on July 12th, 2018."
   ]
  },
  {
   "cell_type": "markdown",
   "metadata": {
    "slideshow": {
     "slide_type": "subslide"
    }
   },
   "source": [
    "Other General References include:\n",
    "\n",
    " - __[Homeland Security Digital Library](https://www.hsdl.org/?collection&id=2167)__\n",
    " - __[U Mass Lowell](https://www.uml.edu/Research/CTSS/Online-Resources.aspx)__ Has a great page with links to further resources.\n",
    " - The Council on Foreign Relations has a page entitled __[Invisible Armies Insurgency Tracker: A Visual History of Guerrilla Warfare From 1775 to 2012 (from April 18th, 2013](https://www.cfr.org/wars-and-warfare/invisible-armies-insurgency-tracker/p29917)__.  As they describe it at the top of the page: \"The interactive Invisible Armies Insurgency Tracker presents a database of insurgencies from 1775 to 2012. It supplements the comprehensive historical narrative in Invisible Armies: An Epic History of Guerrilla Warfare from Ancient Times to the Present, by CFR Senior Fellow Max Boot.\"\n",
    " - West Point has __[The Combating Terrorism Center](https://ctc.usma.edu/regions/middle-east/)__ which is incredibly helpful and insightful with their background information.\n",
    " - __[The Terrorism Research and Analysis Consortium](https://www.trackingterrorism.org/region/afghanistan)__ has a lot of information - mostly private and paid, but one can at least browse the surface of what they offer (we also used some of their 'vulnerable cities' classifications in our cells below)."
   ]
  },
  {
   "cell_type": "markdown",
   "metadata": {
    "slideshow": {
     "slide_type": "slide"
    }
   },
   "source": [
    "##### Sub_targettxt:\n",
    "\n",
    "###### Training Input:"
   ]
  },
  {
   "cell_type": "code",
   "execution_count": 13,
   "metadata": {
    "slideshow": {
     "slide_type": "subslide"
    }
   },
   "outputs": [],
   "source": [
    "industrial = ['Gas/Oil/Electric', 'Industrial/Textiles/Factory', 'Farm/Ranch', 'Mining', 'Construction']\n",
    "cyber_train_X['sub_targettxt'] = cyber_train_X['sub_targettxt'].replace(industrial ,'Industrial')\n",
    "\n",
    "\n",
    "white_collar = ['Restaurant/Bar/Café', 'Bank/Commerce', 'Multinational Corporation', \n",
    "                'Medical/Pharmaceutical', 'Retail/Grocery/Bakery (including cell phone shops and generic shops)', \n",
    "                'Hotel/Resort', 'Entertainment/Cultural/Stadium/Casino', 'Private Security Company/Firm',\n",
    "                'Legal Services', 'Retail/Grocery/Bakery']\n",
    "cyber_train_X['sub_targettxt'] = cyber_train_X['sub_targettxt'].replace(white_collar, 'White_Collar')\n",
    "\n",
    "\n",
    "gov_figure1 = ['Judges/Attorneys/Courts', 'Judge/Attorney/Court', \n",
    "               'Government Personnel (excluding police, military)']\n",
    "cyber_train_X['sub_targettxt'] = cyber_train_X['sub_targettxt'].replace(gov_figure1, 'Gov_Figure1')\n",
    "\n",
    "gov_figure2 = ['Politician or Political Party Movement/Meeting/Rally', 'Royalty', 'Head of State',\n",
    "               'Election Related', 'Election-related']\n",
    "cyber_train_X['sub_targettxt'] = cyber_train_X['sub_targettxt'].replace(gov_figure2, 'Gov_Figure2')\n",
    "\n",
    "police_facilities = ['Police Buildings (Headquarters/Stations/School)', \n",
    "                     'Police Patrol (including vehicles and convoys)', 'Police Checkpoint', 'Prison/Jail']\n",
    "cyber_train_X['sub_targettxt'] = cyber_train_X['sub_targettxt'].replace(police_facilities, 'Police_Facilities')\n",
    "\n",
    "military_facilities = ['Military Barracks/Base/Headquarters/Checkpost', 'Military Recruiting Station/Academy',\n",
    "                       'Military Weaponry', 'Military Aircraft', 'Military Maritime', 'Paramilitary', \n",
    "                       'Military Transportation/Vehicle (excluding convoys)', 'Military Checkpoint']\n",
    "cyber_train_X['sub_targettxt'] = cyber_train_X['sub_targettxt'].replace(military_facilities, 'Military_Facilities')\n",
    "\n",
    "military_personnel = ['Military Unit/Patrol/Convoy', 'Non-combatant Personnel', \n",
    "                      'Military Personnel (soldiers, troops, officers, forces)']\n",
    "cyber_train_X['sub_targettxt'] = cyber_train_X['sub_targettxt'].replace(military_personnel, 'Military_Personnel')\n",
    "\n",
    "gov_diplomatic = ['Diplomatic Personnel (outside of embassy, consulate)', 'Embassy/Consulate', 'NATO', \n",
    "                  'International Organization (peacekeeper, aid agency, compound)']\n",
    "cyber_train_X['sub_targettxt'] = cyber_train_X['sub_targettxt'].replace(gov_diplomatic, 'Gov_Diplomatic')\n",
    "\n",
    "educational = ['Teacher/Professor/Instructor', 'School/University/Educational Building', 'Other Personnel']\n",
    "cyber_train_X['sub_targettxt'] = cyber_train_X['sub_targettxt'].replace(educational, 'Educational')\n",
    "\n",
    "food_water = ['Food Supply', 'Water Supply']\n",
    "cyber_train_X['sub_targettxt'] = cyber_train_X['sub_targettxt'].replace(food_water, 'Food_Water')\n",
    "\n",
    "media = ['Newspaper Journalist/Staff/Facility', 'Radio Journalist/Staff/Facility', \n",
    "         'Television Journalist/Staff/Facility', 'Other (including online news agencies)']\n",
    "cyber_train_X['sub_targettxt'] = cyber_train_X['sub_targettxt'].replace(media, 'Media')\n",
    "\n",
    "\n",
    "religious = ['Religion Identified', 'Religious Figure', 'Place of Worship', 'Affiliated Institution']\n",
    "cyber_train_X['sub_targettxt'] = cyber_train_X['sub_targettxt'].replace(religious, 'Religious')\n",
    "\n",
    "political = ['Protrainer', 'Political Party Member/Rally', 'Party Official/Candidate/Other Personnel', \n",
    "             'Party Office/Facility', 'Rally']\n",
    "cyber_train_X['sub_targettxt'] = cyber_train_X['sub_targettxt'].replace(political, 'Political')\n",
    "\n",
    "mass_socio = ['Refugee (including Camps/IDP/Asylum Seekers)', 'Named Civilian', 'Student', \n",
    "              'Race/Ethnicity Identified', 'Farmer', 'Vehicles/Transportation', 'Marketplace/Plaza/Square', \n",
    "              'Village/City/Town/Suburb', 'House/Apartment/Residence', 'Laborer (General)/Occupation Identified', \n",
    "              'Procession/Gathering (funeral, wedding, birthday, religious)', 'Civilian Maritime',\n",
    "              'Public Areas (e.g., Public garden, parking lot, garage, beach, public buildings, camps)',\n",
    "              'Public Area (garden, parking lot, garage, beach, public building, camp)', 'Port', \n",
    "              'Memorial/Cemetery/Monument', 'Museum/Cultural Center/Cultural House', 'Labor Union Related', \n",
    "              'Tourism Travel Agency', 'Tour Bus/Van/Vehicle', 'Tourist', 'Other Facility', 'Airport',\n",
    "              'train/train Tracks/ Trolley', 'Bus Station/Stop', 'Subway', 'Bridge/Car Tunnel', \n",
    "              'Highway/Road/Toll/Traffic Signal', 'Taxi/Rickshaw', 'Bus (excluding tourists)', \n",
    "              'Commercial Maritime', 'Train/Train Tracks/Trolley', 'Aircraft (not at an airport)', \n",
    "              'Airline Officer/Personnel', 'Aircraft (not at an airport)', \n",
    "              'Demilitarized Zone (including Green Zone)']\n",
    "cyber_train_X['sub_targettxt'] = cyber_train_X['sub_targettxt'].replace(mass_socio, 'Mass_Social')\n",
    "\n",
    "first_responders = ['Clinics', 'Fire Fighter/Truck', 'Ambulance']\n",
    "cyber_train_X['sub_targettxt'] = cyber_train_X['sub_targettxt'].replace(first_responders, \n",
    "                                                                        'First_Responders/Medical')\n",
    "\n",
    "util_telecom = ['Radio', 'Television', 'Telephone/Telegraph', 'Internet Infrastructure', \n",
    "                'Multiple Telecommunication Targets', 'Gas', 'Electricity', 'Oil', 'Oil Tanker']\n",
    "cyber_train_X['sub_targettxt'] = cyber_train_X['sub_targettxt'].replace(util_telecom, 'Util_Telecom')"
   ]
  },
  {
   "cell_type": "code",
   "execution_count": 14,
   "metadata": {
    "slideshow": {
     "slide_type": "skip"
    }
   },
   "outputs": [],
   "source": [
    "# Mitigating some memory issues:\n",
    "\n",
    "del industrial\n",
    "del white_collar\n",
    "del gov_figure1\n",
    "del gov_figure2\n",
    "del police_facilities\n",
    "del military_facilities\n",
    "del military_personnel\n",
    "del gov_diplomatic\n",
    "del educational\n",
    "del food_water\n",
    "del media\n",
    "del religious\n",
    "del political\n",
    "del mass_socio\n",
    "del util_telecom\n",
    "del first_responders"
   ]
  },
  {
   "cell_type": "markdown",
   "metadata": {
    "slideshow": {
     "slide_type": "skip"
    }
   },
   "source": [
    "###### Test Data:"
   ]
  },
  {
   "cell_type": "code",
   "execution_count": 15,
   "metadata": {
    "slideshow": {
     "slide_type": "subslide"
    }
   },
   "outputs": [],
   "source": [
    "industrial = ['Gas/Oil/Electric', 'Industrial/Textiles/Factory', 'Farm/Ranch', 'Mining', 'Construction']\n",
    "cyber_test_X['sub_targettxt'] = cyber_test_X['sub_targettxt'].replace(industrial ,'Industrial')\n",
    "\n",
    "\n",
    "white_collar = ['Restaurant/Bar/Café', 'Bank/Commerce', 'Multinational Corporation', \n",
    "                'Medical/Pharmaceutical', 'Retail/Grocery/Bakery (including cell phone shops and generic shops)', \n",
    "                'Hotel/Resort', 'Entertainment/Cultural/Stadium/Casino', 'Private Security Company/Firm',\n",
    "                'Legal Services', 'Retail/Grocery/Bakery']\n",
    "cyber_test_X['sub_targettxt'] = cyber_test_X['sub_targettxt'].replace(white_collar, 'White_Collar')\n",
    "\n",
    "\n",
    "gov_figure1 = ['Judges/Attorneys/Courts', 'Judge/Attorney/Court', \n",
    "               'Government Personnel (excluding police, military)']\n",
    "cyber_test_X['sub_targettxt'] = cyber_test_X['sub_targettxt'].replace(gov_figure1, 'Gov_Figure1')\n",
    "\n",
    "gov_figure2 = ['Politician or Political Party Movement/Meeting/Rally', 'Royalty', 'Head of State',\n",
    "               'Election Related', 'Election-related']\n",
    "cyber_test_X['sub_targettxt'] = cyber_test_X['sub_targettxt'].replace(gov_figure2, 'Gov_Figure2')\n",
    "\n",
    "police_facilities = ['Police Buildings (Headquarters/Stations/School)', \n",
    "                     'Police Patrol (including vehicles and convoys)', 'Police Checkpoint', 'Prison/Jail']\n",
    "cyber_test_X['sub_targettxt'] = cyber_test_X['sub_targettxt'].replace(police_facilities, 'Police_Facilities')\n",
    "\n",
    "military_facilities = ['Military Barracks/Base/Headquarters/Checkpost', 'Military Recruiting Station/Academy',\n",
    "                       'Military Weaponry', 'Military Aircraft', 'Military Maritime', 'Paramilitary', \n",
    "                       'Military Transportation/Vehicle (excluding convoys)', 'Military Checkpoint']\n",
    "cyber_test_X['sub_targettxt'] = cyber_test_X['sub_targettxt'].replace(military_facilities, 'Military_Facilities')\n",
    "\n",
    "military_personnel = ['Military Unit/Patrol/Convoy', 'Non-combatant Personnel', \n",
    "                      'Military Personnel (soldiers, troops, officers, forces)']\n",
    "cyber_test_X['sub_targettxt'] = cyber_test_X['sub_targettxt'].replace(military_personnel, 'Military_Personnel')\n",
    "\n",
    "gov_diplomatic = ['Diplomatic Personnel (outside of embassy, consulate)', 'Embassy/Consulate', 'NATO', \n",
    "                  'International Organization (peacekeeper, aid agency, compound)']\n",
    "cyber_test_X['sub_targettxt'] = cyber_test_X['sub_targettxt'].replace(gov_diplomatic, 'Gov_Diplomatic')\n",
    "\n",
    "educational = ['Teacher/Professor/Instructor', 'School/University/Educational Building', 'Other Personnel']\n",
    "cyber_test_X['sub_targettxt'] = cyber_test_X['sub_targettxt'].replace(educational, 'Educational')\n",
    "\n",
    "food_water = ['Food Supply', 'Water Supply']\n",
    "cyber_test_X['sub_targettxt'] = cyber_test_X['sub_targettxt'].replace(food_water, 'Food_Water')\n",
    "\n",
    "media = ['Newspaper Journalist/Staff/Facility', 'Radio Journalist/Staff/Facility', \n",
    "         'Television Journalist/Staff/Facility', 'Other (including online news agencies)']\n",
    "cyber_test_X['sub_targettxt'] = cyber_test_X['sub_targettxt'].replace(media, 'Media')\n",
    "\n",
    "\n",
    "religious = ['Religion Identified', 'Religious Figure', 'Place of Worship', 'Affiliated Institution']\n",
    "cyber_test_X['sub_targettxt'] = cyber_test_X['sub_targettxt'].replace(religious, 'Religious')\n",
    "\n",
    "political = ['Protester', 'Political Party Member/Rally', 'Party Official/Candidate/Other Personnel', \n",
    "             'Party Office/Facility', 'Rally']\n",
    "cyber_test_X['sub_targettxt'] = cyber_test_X['sub_targettxt'].replace(political, 'Political')\n",
    "\n",
    "mass_socio = ['Refugee (including Camps/IDP/Asylum Seekers)', 'Named Civilian', 'Student', \n",
    "              'Race/Ethnicity Identified', 'Farmer', 'Vehicles/Transportation', 'Marketplace/Plaza/Square', \n",
    "              'Village/City/Town/Suburb', 'House/Apartment/Residence', 'Laborer (General)/Occupation Identified', \n",
    "              'Procession/Gathering (funeral, wedding, birthday, religious)', 'Civilian Maritime',\n",
    "              'Public Areas (e.g., Public garden, parking lot, garage, beach, public buildings, camps)',\n",
    "              'Public Area (garden, parking lot, garage, beach, public building, camp)', 'Port', \n",
    "              'Memorial/Cemetery/Monument', 'Museum/Cultural Center/Cultural House', 'Labor Union Related', \n",
    "              'Tourism Travel Agency', 'Tour Bus/Van/Vehicle', 'Tourist', 'Other Facility', 'Airport',\n",
    "              'test/test Tracks/ Trolley', 'Bus Station/Stop', 'Subway', 'Bridge/Car Tunnel', \n",
    "              'Highway/Road/Toll/Traffic Signal', 'Taxi/Rickshaw', 'Bus (excluding tourists)', \n",
    "              'Commercial Maritime', 'test/test Tracks/Trolley', 'Aircraft (not at an airport)', \n",
    "              'Airline Officer/Personnel', 'Aircraft (not at an airport)', \n",
    "              'Demilitarized Zone (including Green Zone)']\n",
    "cyber_test_X['sub_targettxt'] = cyber_test_X['sub_targettxt'].replace(mass_socio, 'Mass_Social')\n",
    "\n",
    "first_responders = ['Clinics', 'Fire Fighter/Truck', 'Ambulance']\n",
    "cyber_test_X['sub_targettxt'] = cyber_test_X['sub_targettxt'].replace(first_responders, \n",
    "                                                                        'First_Responders/Medical')\n",
    "\n",
    "util_telecom = ['Radio', 'Television', 'Telephone/Telegraph', 'Internet Infrastructure', \n",
    "                'Multiple Telecommunication Targets', 'Gas', 'Electricity', 'Oil', 'Oil Tanker']\n",
    "cyber_test_X['sub_targettxt'] = cyber_test_X['sub_targettxt'].replace(util_telecom, 'Util_Telecom')"
   ]
  },
  {
   "cell_type": "code",
   "execution_count": 16,
   "metadata": {
    "slideshow": {
     "slide_type": "skip"
    }
   },
   "outputs": [],
   "source": [
    "# Mitigating some memory issues:\n",
    "\n",
    "del industrial\n",
    "del white_collar\n",
    "del gov_figure1\n",
    "del gov_figure2\n",
    "del police_facilities\n",
    "del military_facilities\n",
    "del military_personnel\n",
    "del gov_diplomatic\n",
    "del educational\n",
    "del food_water\n",
    "del media\n",
    "del religious\n",
    "del political\n",
    "del mass_socio\n",
    "del util_telecom\n",
    "del first_responders"
   ]
  },
  {
   "cell_type": "code",
   "execution_count": 17,
   "metadata": {
    "slideshow": {
     "slide_type": "skip"
    }
   },
   "outputs": [
    {
     "data": {
      "text/plain": [
       "0"
      ]
     },
     "execution_count": 17,
     "metadata": {},
     "output_type": "execute_result"
    }
   ],
   "source": [
    "gc.collect()"
   ]
  },
  {
   "cell_type": "markdown",
   "metadata": {
    "slideshow": {
     "slide_type": "slide"
    }
   },
   "source": [
    "##### Group_name:\n",
    "\n",
    "Trying Group_name a bit and grouping them by ideology.\n",
    "\n",
    "###### Training Input:"
   ]
  },
  {
   "cell_type": "code",
   "execution_count": 18,
   "metadata": {
    "slideshow": {
     "slide_type": "skip"
    }
   },
   "outputs": [],
   "source": [
    "# Separatists, Leftists and Rightists:\n",
    "\n",
    "Palestinian_Separatists = ['Hamas (Islamic Resistance Movement)', 'Palestinian Islamic Jihad (PIJ)',\n",
    "                           'Popular Front for the Liberation of Palestine (PFLP)', 'Popular Resistance Committees',\n",
    "                           'Al-Fatah']\n",
    "cyber_train_X['group_name'] = cyber_train_X['group_name'].replace(Palestinian_Separatists, \n",
    "                                                                  'Palestinian_Separatists')\n",
    "\n",
    "# Militants:\n",
    "\n",
    "Militants = ['Militants', 'Gunmen']\n",
    "cyber_train_X['group_name'] = cyber_train_X['group_name'].replace(Militants, 'Militant_Gunmen_Groups')\n",
    "\n",
    "# Asian Separatists:\n",
    "\n",
    "Asian_Separatists = ['Abu Sayyaf Group (ASG)', 'Colonel Karuna Faction', 'Eastern Turkistan Islamic Movement (ETIM)',\n",
    "                     'Free Aceh Movement (GAM)', 'Janatantrik Terai Mukti Morcha (Jtmm)', \n",
    "                     'Janatantrik Terai Mukti Morcha- Goit (Jtmm-G)', \n",
    "                     'Janatantrik Terai Mukti Morcha- Jwala Singh (Jtmm-J)',\n",
    "                     'Janatantrik Terai Mukti Morcha- Rajan Mukti (Jtmm-R)',\n",
    "                     'Liberation Tigers of Tamil Eelam (LTTE)', 'Moro Islamic Liberation Front (MILF)',\n",
    "                     'Runda Kumpulan Kecil (Rkk)', 'Terai Army',]\n",
    "\n",
    "cyber_train_X['group_name'] = cyber_train_X['group_name'].replace(Asian_Separatists, 'Asian_Separatists')\n",
    "\n",
    "\n",
    "# Middle Eastern Separatists\n",
    "\n",
    "Middle_Eastern_Separatists = ['Haqqani Network', 'Harkatul Jihad-E-Islami', 'Lashkar-E-Taiba (Let)',\n",
    "                             'Kurdistan Workers\\' Party (PKK)', 'Lashkar-E-Balochistan', 'Chechen Rebels',\n",
    "                             'Free Syrian Army', 'Caucasus Emirate', 'Baloch Republican Army (BRA)',\n",
    "                             'Ansar Al-Islam', 'Kurdistan Free Life Party', 'Baloch Liberation Front (Blf)',\n",
    "                             'Baloch Liberation Army (BLA)', 'Ansar Al-Sharia (Libya)', 'Jaish-E-Mohammad (Jem)',\n",
    "                             'Riyadus-Salikhin Reconnaissance And Sabotage Battalion Of Chechen Martyrs',\n",
    "                             'Hizbul Mujahideen (Hm)', 'Southern Mobility Movement (Yemen)',\n",
    "                             'Supreme Council For Islamic Revolution In Iraq (Sciri)']\n",
    "\n",
    "cyber_train_X['group_name'] = cyber_train_X['group_name'].replace(Middle_Eastern_Separatists,\n",
    "                                                                 'Middle_Eastern_Separatists')\n",
    "\n",
    "\n",
    "# Indian Separatists\n",
    "\n",
    "Indian_Separatists = ['Dima Halao Daoga (Dhd)', 'Black Widows', 'Garo National Liberation Army',\n",
    "                      'Kangleipak Communist Party (KCP)', 'National Democratic Front of Bodoland (NDFB)',\n",
    "                      'National Liberation Front of Tripura (NLFT)', 'People\\'s Liberation Army (PLA)',\n",
    "                      'United Liberation Front of Assam (ULFA)', 'United National Liberation Front (UNLF)',\n",
    "                      'Karbi Longri North Cachar Liberation Front (Klnlf)', \n",
    "                      'National Socialist Council of Nagaland-Isak-Muivah (NSCN-IM)',\n",
    "                      'People\\'s Revolutionary Party of Kangleipak (PREPAK)']\n",
    "\n",
    "cyber_train_X['group_name'] = cyber_train_X['group_name'].replace(Indian_Separatists, 'Indian_Separatists')\n",
    "\n",
    "\n",
    "# NW_Indian_Groups:\n",
    "\n",
    "NW_Indian_Groups = ['Lashkar-e-Jhangvi', 'Sipah-e-Sahaba/Pakistan (SSP)', 'Hizbul Mujahideen (HM)', \n",
    "                    'Baloch Liberation Front (BLF)', 'Baloch Young Tigers (BYT)', 'Baloch Young Tigers (BYT)',\n",
    "                    'Baloch Liberation Army (BLA)', 'Baloch Republican Army (BRA)', 'United Baloch Army (UBA)',\n",
    "                    'Free Balochistan Army (FBA)', 'Baloch Nationalists',]\n",
    "\n",
    "cyber_train_X['group_name'] = cyber_train_X['group_name'].replace(NW_Indian_Groups, 'NW_Indian_Groups')\n",
    "\n",
    "\n",
    "# SE_Indian_Groups:\n",
    "\n",
    "SE_Indian_Groups = ['Communist Party of India - Maoist (CPI-Maoist)', 'Indian Mujahideen', \n",
    "                    'Jama\\'atul Mujahideen Bangladesh (JMB)', 'Bangladesh Sarbahara Party',\n",
    "                    'Purbo Banglar Communist Party', 'Harkatul Jihad-e-Islami',\n",
    "                    'National Socialist Council of Nagaland-Unification (NSCN-U)',\n",
    "                    'Kanglei Yawol Kanna Lup (KYKL)', 'Kuki Tribal Militants', 'Kuki National Front (KNF)',\n",
    "                    'United Kuki Liberation Front (UKLF) - India', 'Hill Tiger Force (HTF)',\n",
    "                    'National Socialist Council of Nagaland-Khaplang (NSCN-K)',\n",
    "                    'National Socialist Council of Nagaland-Isak-Muivah (NSCN-IM)',\n",
    "                    'Hynniewtrep National Liberation Council (HNLC)']\n",
    "\n",
    "cyber_train_X['group_name'] = cyber_train_X['group_name'].replace(SE_Indian_Groups, 'SE_Indian_Groups')\n",
    "\n",
    "\n",
    "# African Political:\n",
    "\n",
    "cyber_train_X['group_name'] = cyber_train_X['group_name'].replace(\n",
    "                                'National Union for the Total Independence of Angola (UNITA)', 'African_Political')\n",
    "\n",
    "# Irish Separatists:\n",
    "\n",
    "Irish_Separatists = ['Real Irish Republican Army (RIRA)', 'Oglaigh Na Heireann', 'Irish Republican Army (IRA)']\n",
    "\n",
    "cyber_train_X['group_name'] = cyber_train_X['group_name'].replace(Irish_Separatists, 'Irish_Separatists')\n",
    "\n",
    "\n",
    "# Farc left and right\n",
    "\n",
    "FARC_left_right = ['National Liberation Army of Colombia (ELN)', 'Popular Liberation Army (EPL)',\n",
    "                   'Revolutionary Armed Forces of Colombia (FARC)', 'United Self Defense Units of Colombia (AUC)']\n",
    "\n",
    "cyber_train_X['group_name'] = cyber_train_X['group_name'].replace(FARC_left_right, 'FARC_left_right')\n",
    "  \n",
    "\n",
    "# Middle Eastern Religious:\n",
    "\n",
    "Middle_Eastern_Religious = ['Al-Gama\\'at Al-Islamiyya (IG)', 'Al-Nusrah Front', 'Al-Qa\\'ida',\n",
    "                            'Al-Qa\\'ida in the Arabian Peninsula (AQAP)', 'Al-Shabaab', 'Ansar Al-Islam',\n",
    "                            'Ansar Al-Sharia (Libya)', 'Al-Qa\\'ida in the Lands of the Islamic Maghreb (AQLIM)',\n",
    "                            'Asa\\'Ib Ahl Al-Haqq', 'Caucasus Emirate', 'Eritrean Islamic Jihad Movement (EIJM)',\n",
    "                            'Great Eastern Islamic Raiders Front (Ibda-C)', 'Hizbul Al Islam (Somalia)',\n",
    "                            'Islamic Courts Union (ICU)', 'Islamic State of Iraq and al Sham (ISIS)',\n",
    "                            'Islamic Movement of Uzbekistan (IMU)', 'Jamiat Ul-Mujahedin (Jum)',\n",
    "                            'Jundallah', 'Mahdi Army', 'Taliban', 'Tehrik-i-Taliban Pakistan (TTP)', \n",
    "                            'Muslim extremists', 'Armed Islamic Group (GIA)', 'Sunni Muslim extremists',\n",
    "                            'Al-Qaida in the Islamic Maghreb (AQIM)', 'Al-Qaida', 'Al-Qaida in Iraq', \n",
    "                            'Islamic State of Iraq and the Levant (ISIL)',\n",
    "                            'Al-Qaida in the Arabian Peninsula (AQAP)']\n",
    "\n",
    "cyber_train_X['group_name'] = cyber_train_X['group_name'].replace(Middle_Eastern_Religious, \n",
    "                                                                  'Middle_Eastern_Religious')\n",
    "\n",
    "# Israeli, Palestinian, Lebanese Religious:\n",
    "\n",
    "Isr_Pal_Leb = ['Anti-Semitic extremists', 'Hezbollah']\n",
    "\n",
    "cyber_train_X['group_name'] = cyber_train_X['group_name'].replace(Isr_Pal_Leb, 'Near_Israel_Religious')\n",
    "\n",
    "# Asian and African Religious:\n",
    "\n",
    "As_Af_Rel = ['Students Islamic Movement of India (Simi)', 'Ranbir Sena', 'Jemaah Islamiya (JI)', \n",
    "             'Movement for Oneness and Jihad in West Africa (MUJAO)', 'Lord\\'s Resistance Army (LRA)',\n",
    "             'Boko Haram']\n",
    "\n",
    "cyber_train_X['group_name'] = cyber_train_X['group_name'].replace(As_Af_Rel, 'African_Religious')\n"
   ]
  },
  {
   "cell_type": "code",
   "execution_count": 19,
   "metadata": {},
   "outputs": [],
   "source": [
    "del FARC_left_right\n",
    "del Middle_Eastern_Religious\n",
    "del Isr_Pal_Leb\n",
    "del As_Af_Rel\n",
    "del Middle_Eastern_Separatists\n",
    "del Indian_Separatists\n",
    "del NW_Indian_Groups\n",
    "del SE_Indian_Groups\n",
    "del Irish_Separatists\n",
    "del Palestinian_Separatists\n",
    "del Militants\n",
    "del Asian_Separatists"
   ]
  },
  {
   "cell_type": "markdown",
   "metadata": {
    "slideshow": {
     "slide_type": "skip"
    }
   },
   "source": [
    "> ###### Test Input:"
   ]
  },
  {
   "cell_type": "code",
   "execution_count": 20,
   "metadata": {
    "slideshow": {
     "slide_type": "skip"
    }
   },
   "outputs": [],
   "source": [
    "# Separatists, Leftists and Rightists:\n",
    "\n",
    "Palestinian_Separatists = ['Hamas (Islamic Resistance Movement)', 'Palestinian Islamic Jihad (PIJ)',\n",
    "                           'Popular Front for the Liberation of Palestine (PFLP)', 'Popular Resistance Committees',\n",
    "                           'Al-Fatah']\n",
    "cyber_test_X['group_name'] = cyber_test_X['group_name'].replace(Palestinian_Separatists, \n",
    "                                                                  'Palestinian_Separatists')\n",
    "\n",
    "# Militants:\n",
    "\n",
    "Militants = ['Militants', 'Gunmen']\n",
    "cyber_test_X['group_name'] = cyber_test_X['group_name'].replace(Militants, 'Militant_Gunmen_Groups')\n",
    "\n",
    "# Asian Separatists:\n",
    "\n",
    "Asian_Separatists = ['Abu Sayyaf Group (ASG)', 'Colonel Karuna Faction', 'Eastern Turkistan Islamic Movement (ETIM)',\n",
    "                     'Free Aceh Movement (GAM)', 'Janatantrik Terai Mukti Morcha (Jtmm)', \n",
    "                     'Janatantrik Terai Mukti Morcha- Goit (Jtmm-G)', \n",
    "                     'Janatantrik Terai Mukti Morcha- Jwala Singh (Jtmm-J)',\n",
    "                     'Janatantrik Terai Mukti Morcha- Rajan Mukti (Jtmm-R)',\n",
    "                     'Liberation Tigers of Tamil Eelam (LTTE)', 'Moro Islamic Liberation Front (MILF)',\n",
    "                     'Runda Kumpulan Kecil (Rkk)', 'Terai Army',]\n",
    "\n",
    "cyber_test_X['group_name'] = cyber_test_X['group_name'].replace(Asian_Separatists, 'Asian_Separatists')\n",
    "\n",
    "\n",
    "# Middle Eastern Separatists\n",
    "\n",
    "Middle_Eastern_Separatists = ['Haqqani Network', 'Harkatul Jihad-E-Islami', 'Lashkar-E-Taiba (Let)',\n",
    "                             'Kurdistan Workers\\' Party (PKK)', 'Lashkar-E-Balochistan', 'Chechen Rebels',\n",
    "                             'Free Syrian Army', 'Caucasus Emirate', 'Baloch Republican Army (BRA)',\n",
    "                             'Ansar Al-Islam', 'Kurdistan Free Life Party', 'Baloch Liberation Front (Blf)',\n",
    "                             'Baloch Liberation Army (BLA)', 'Ansar Al-Sharia (Libya)', 'Jaish-E-Mohammad (Jem)',\n",
    "                             'Riyadus-Salikhin Reconnaissance And Sabotage Battalion Of Chechen Martyrs',\n",
    "                             'Hizbul Mujahideen (Hm)', 'Southern Mobility Movement (Yemen)',\n",
    "                             'Supreme Council For Islamic Revolution In Iraq (Sciri)']\n",
    "\n",
    "cyber_test_X['group_name'] = cyber_test_X['group_name'].replace(Middle_Eastern_Separatists,\n",
    "                                                                 'Middle_Eastern_Separatists')\n",
    "\n",
    "\n",
    "# Indian Separatists\n",
    "\n",
    "Indian_Separatists = ['Dima Halao Daoga (Dhd)', 'Black Widows', 'Garo National Liberation Army',\n",
    "                      'Kangleipak Communist Party (KCP)', 'National Democratic Front of Bodoland (NDFB)',\n",
    "                      'National Liberation Front of Tripura (NLFT)', 'People\\'s Liberation Army (PLA)',\n",
    "                      'United Liberation Front of Assam (ULFA)', 'United National Liberation Front (UNLF)',\n",
    "                      'Karbi Longri North Cachar Liberation Front (Klnlf)', \n",
    "                      'National Socialist Council of Nagaland-Isak-Muivah (NSCN-IM)',\n",
    "                      'People\\'s Revolutionary Party of Kangleipak (PREPAK)']\n",
    "\n",
    "cyber_test_X['group_name'] = cyber_test_X['group_name'].replace(Indian_Separatists, 'Indian_Separatists')\n",
    "\n",
    "\n",
    "# NW_Indian_Groups:\n",
    "\n",
    "NW_Indian_Groups = ['Lashkar-e-Jhangvi', 'Sipah-e-Sahaba/Pakistan (SSP)', 'Hizbul Mujahideen (HM)', \n",
    "                    'Baloch Liberation Front (BLF)', 'Baloch Young Tigers (BYT)', 'Baloch Young Tigers (BYT)',\n",
    "                    'Baloch Liberation Army (BLA)', 'Baloch Republican Army (BRA)', 'United Baloch Army (UBA)',\n",
    "                    'Free Balochistan Army (FBA)', 'Baloch Nationalists',]\n",
    "\n",
    "cyber_test_X['group_name'] = cyber_test_X['group_name'].replace(NW_Indian_Groups, 'NW_Indian_Groups')\n",
    "\n",
    "\n",
    "# SE_Indian_Groups:\n",
    "\n",
    "SE_Indian_Groups = ['Communist Party of India - Maoist (CPI-Maoist)', 'Indian Mujahideen', \n",
    "                    'Jama\\'atul Mujahideen Bangladesh (JMB)', 'Bangladesh Sarbahara Party',\n",
    "                    'Purbo Banglar Communist Party', 'Harkatul Jihad-e-Islami',\n",
    "                    'National Socialist Council of Nagaland-Unification (NSCN-U)',\n",
    "                    'Kanglei Yawol Kanna Lup (KYKL)', 'Kuki Tribal Militants', 'Kuki National Front (KNF)',\n",
    "                    'United Kuki Liberation Front (UKLF) - India', 'Hill Tiger Force (HTF)',\n",
    "                    'National Socialist Council of Nagaland-Khaplang (NSCN-K)',\n",
    "                    'National Socialist Council of Nagaland-Isak-Muivah (NSCN-IM)',\n",
    "                    'Hynniewtrep National Liberation Council (HNLC)']\n",
    "\n",
    "cyber_test_X['group_name'] = cyber_test_X['group_name'].replace(SE_Indian_Groups, 'SE_Indian_Groups')\n",
    "\n",
    "\n",
    "# African Political:\n",
    "\n",
    "cyber_test_X['group_name'] = cyber_test_X['group_name'].replace(\n",
    "                                'National Union for the Total Independence of Angola (UNITA)', 'African_Political')\n",
    "\n",
    "# Irish Separatists:\n",
    "\n",
    "Irish_Separatists = ['Real Irish Republican Army (RIRA)', 'Oglaigh Na Heireann', 'Irish Republican Army (IRA)']\n",
    "\n",
    "cyber_test_X['group_name'] = cyber_test_X['group_name'].replace(Irish_Separatists, 'Irish_Separatists')\n",
    "\n",
    "\n",
    "# Farc left and right\n",
    "\n",
    "FARC_left_right = ['National Liberation Army of Colombia (ELN)', 'Popular Liberation Army (EPL)',\n",
    "                   'Revolutionary Armed Forces of Colombia (FARC)', 'United Self Defense Units of Colombia (AUC)']\n",
    "\n",
    "cyber_test_X['group_name'] = cyber_test_X['group_name'].replace(FARC_left_right, 'FARC_left_right')\n",
    "  \n",
    "\n",
    "# Middle Eastern Religious:\n",
    "\n",
    "Middle_Eastern_Religious = ['Al-Gama\\'at Al-Islamiyya (IG)', 'Al-Nusrah Front', 'Al-Qa\\'ida',\n",
    "                            'Al-Qa\\'ida in the Arabian Peninsula (AQAP)', 'Al-Shabaab', 'Ansar Al-Islam',\n",
    "                            'Ansar Al-Sharia (Libya)', 'Al-Qa\\'ida in the Lands of the Islamic Maghreb (AQLIM)',\n",
    "                            'Asa\\'Ib Ahl Al-Haqq', 'Caucasus Emirate', 'Eritrean Islamic Jihad Movement (EIJM)',\n",
    "                            'Great Eastern Islamic Raiders Front (Ibda-C)', 'Hizbul Al Islam (Somalia)',\n",
    "                            'Islamic Courts Union (ICU)', 'Islamic State of Iraq and al Sham (ISIS)',\n",
    "                            'Islamic Movement of Uzbekistan (IMU)', 'Jamiat Ul-Mujahedin (Jum)',\n",
    "                            'Jundallah', 'Mahdi Army', 'Taliban', 'Tehrik-i-Taliban Pakistan (TTP)', \n",
    "                            'Muslim extremists', 'Armed Islamic Group (GIA)', 'Sunni Muslim extremists',\n",
    "                            'Al-Qaida in the Islamic Maghreb (AQIM)', 'Al-Qaida', 'Al-Qaida in Iraq', \n",
    "                            'Islamic State of Iraq and the Levant (ISIL)',\n",
    "                            'Al-Qaida in the Arabian Peninsula (AQAP)']\n",
    "\n",
    "cyber_test_X['group_name'] = cyber_test_X['group_name'].replace(Middle_Eastern_Religious, \n",
    "                                                                  'Middle_Eastern_Religious')\n",
    "\n",
    "# Israeli, Palestinian, Lebanese Religious:\n",
    "\n",
    "Isr_Pal_Leb = ['Anti-Semitic extremists', 'Hezbollah']\n",
    "\n",
    "cyber_test_X['group_name'] = cyber_test_X['group_name'].replace(Isr_Pal_Leb, 'Near_Israel_Religious')\n",
    "\n",
    "# Asian and African Religious:\n",
    "\n",
    "As_Af_Rel = ['Students Islamic Movement of India (Simi)', 'Ranbir Sena', 'Jemaah Islamiya (JI)', \n",
    "             'Movement for Oneness and Jihad in West Africa (MUJAO)', 'Lord\\'s Resistance Army (LRA)',\n",
    "             'Boko Haram']\n",
    "\n",
    "cyber_test_X['group_name'] = cyber_test_X['group_name'].replace(As_Af_Rel, 'African_Religious')\n"
   ]
  },
  {
   "cell_type": "code",
   "execution_count": 21,
   "metadata": {},
   "outputs": [],
   "source": [
    "del FARC_left_right\n",
    "del Middle_Eastern_Religious\n",
    "del Isr_Pal_Leb\n",
    "del As_Af_Rel\n",
    "del Middle_Eastern_Separatists\n",
    "del Indian_Separatists\n",
    "del NW_Indian_Groups\n",
    "del SE_Indian_Groups\n",
    "del Irish_Separatists\n",
    "del Palestinian_Separatists\n",
    "del Militants\n",
    "del Asian_Separatists"
   ]
  },
  {
   "cell_type": "markdown",
   "metadata": {
    "slideshow": {
     "slide_type": "slide"
    }
   },
   "source": [
    "##### City:  Trying City Names by Religion, Tribal Associations or Conflict Areas:\n",
    "\n",
    "\n",
    "\n",
    "###### Training Input:"
   ]
  },
  {
   "cell_type": "code",
   "execution_count": 22,
   "metadata": {
    "slideshow": {
     "slide_type": "skip"
    }
   },
   "outputs": [],
   "source": [
    "# Sunni:\n",
    "sunni_cities = ['Mosul', 'Kirkuk', 'Sanandaj', 'Ramadi', 'Trabzone', 'Diarbekir', \n",
    "                'Damascus', 'Gwadar', 'Zahedan', 'Kandahar', 'Khiva', 'Fallujah',\n",
    "                'Dakhla', 'Tajura', 'Sabrata', 'Azizia', 'Kasabat', 'Misrata', 'Tripoli',\n",
    "                'Takrit', 'Tikrit']\n",
    "cyber_train_X['city'] = cyber_train_X['city'].replace(sunni_cities, 'Sunni_Cities')\n",
    "\n",
    "# Shia:\n",
    "shia_cities = ['Mecca', 'Najaf', 'Karbala', 'Samarra', 'Ahwaz', 'Basra', \n",
    "               'Medina', 'Tabriz', 'Tunceli', 'Zahran', 'Tehran', 'Rasht', 'Bojnurd',\n",
    "               'Hillah', 'Diwania', 'Khalis', 'Dujali', 'Balad', 'Khanaqin', \n",
    "               'Sargodha', 'Dadu', 'Moro']\n",
    "cyber_train_X['city'] = cyber_train_X['city'].replace(shia_cities, 'Shia_Cities')\n",
    "\n",
    "# Split:\n",
    "split_cities = ['Kirmanshah', 'Baghdad', 'Kadhimia', 'Kuwait', 'Kars', 'Maras', \n",
    "               'Ankara', 'Sivas', 'Aleppo', 'Beirut', 'Abha', 'Jizan', 'Qazvin',\n",
    "               'Gunbad', 'Ashgabat', 'Mashhad', 'Herat', 'Merv', 'Charju', 'Bukhara',\n",
    "               'Samarkand', 'Mazari Sharif', 'Kandahar', 'Lar', 'Bandar Abbas', 'Dubai', \n",
    "               'Abu Dhabi', 'Tashkent', 'Erzurum', 'Konya', 'Izmir', 'Bursa', 'Istanbul',\n",
    "               'Tarhuna', ]\n",
    "cyber_train_X['city'] = cyber_train_X['city'].replace(split_cities, 'Split_Cities')\n",
    "\n",
    "# Ibadi:\n",
    "ibadi_cities_libya = ['Nalut', 'Zentan', 'Gharian', 'Dafnia', 'Abu Kammash', 'Zuwara']\n",
    "cyber_train_X['city'] = cyber_train_X['city'].replace(ibadi_cities_libya, 'Ibadi_Cities_Libya')\n",
    "\n",
    "# Columbia-ELN:\n",
    "columbia_eln_cities = ['Riosucio', 'Buenaventura', 'Cali', 'Popayán', 'Bucaramanga',\n",
    "                       'Barrancabermeja', 'Cucuta', 'Santa Rita']\n",
    "cyber_train_X['city'] = cyber_train_X['city'].replace(columbia_eln_cities, 'Columbia_ELN_Cities')\n",
    "\n",
    "# Maoist:\n",
    "maoist_insurgency = ['Bhagalpur', 'Arwal', 'Khagaria', 'Rohtas', 'Kaimur',\n",
    "                       'Bhabua', 'Munger', 'Monghyr', 'Vaishali',\n",
    "                    'Dhanbad', 'Pakur', 'Koderma', 'Palamu', 'Balaghat',\n",
    "                     'Katni', 'Khandwa', 'Rajgarh', 'Shajapur']\n",
    "cyber_train_X['city'] = cyber_train_X['city'].replace(maoist_insurgency, 'Maoist_Insurgency')\n",
    "\n",
    "\n",
    "# Muslim_West_Africa: \n",
    "w_africa_muslim = ['Touba', 'N\\'Djamena', 'Maiduguri', 'Zaria', 'Sokoto', 'Kenema',\n",
    "                   'Cetoua', 'Mopte', 'Bobo-Dioulasso', 'Kayes', 'Monrovia']\n",
    "cyber_train_X['city'] = cyber_train_X['city'].replace(w_africa_muslim, 'Muslim_West_Africa')\n",
    "\n",
    "\n",
    "# Mixed_West_Africa:\n",
    "w_africa_mixed = ['Dogondutchi', 'Niamey', 'Parakou', 'Abuja', 'Kaduna', 'Kankan',\n",
    "                  'Lagos', 'Port Harcourt', 'Couala', 'Yaounde', 'Kumasi', 'Bamako',\n",
    "                  'Bertoua', 'Liberville', 'Port-Gentil', 'Zinder', 'Ouagadougou',\n",
    "                  'Freetown', 'Conakry', 'Bissau', 'Banjul', 'Dakar']\n",
    "cyber_train_X['city'] = cyber_train_X['city'].replace(w_africa_mixed, 'Mixed_West_Africa')\n",
    "\n",
    "\n",
    "# Christian_West_Africa:\n",
    "w_africa_christian = ['Benin City', 'Onitsha', 'Abidjan', 'Takoradi', 'Accra', 'Lome']\n",
    "cyber_train_X['city'] = cyber_train_X['city'].replace(w_africa_christian, 'Christian_West_Africa')\n"
   ]
  },
  {
   "cell_type": "code",
   "execution_count": 23,
   "metadata": {
    "slideshow": {
     "slide_type": "skip"
    }
   },
   "outputs": [],
   "source": [
    "# Nepal Maoist Conflict - Class A According to SATP\n",
    "Nepal_maoist_A = ['Musikot', 'Rukumkot', 'Jajarkot District', 'Salyan', 'Pyuthan', 'Gajul', 'Rank', 'Budagaun',\n",
    "                  'Kalikot District', 'Rolpa', 'Rolpa District', 'Rukum District', 'Khalanga']\n",
    "cyber_train_X['city'] = cyber_train_X['city'].replace(Nepal_maoist_A, 'Nepal_Maoist_A')\n",
    "\n",
    "\n",
    "# Nepal Maoist Conflict - Class B According to SATP\n",
    "Nepal_maoist_B = ['Charikot', 'Dolakha', 'Jiri', 'Ramechhap', 'Sindhuli Garhi', 'Sindhuli District', 'Dhungrebas',\n",
    "                  'Panaoti', 'Gorkha', 'Tulsipur', 'Ghorahi', 'Surkhet', 'Birendranagar',\n",
    "                  'Accham', 'Kamal Bajar', 'Dang', 'Dang District']\n",
    "cyber_train_X['city'] = cyber_train_X['city'].replace(Nepal_maoist_B, 'CNepal_Maoist_B')\n",
    "\n",
    "\n",
    "# Nepal Maoist Conflict - Class C According to SATP\n",
    "Nepal_maoist_C = ['Khotang Bajar', 'Khotang District', 'Khandanda', 'Okhaldhunga', 'Rumjatar', 'Udayapur Garhi',\n",
    "                  'Rasuwa District', 'Gaighat', 'Hitura', 'Makwanpur Garhi', 'Patan', 'Baglung', 'Dhorpatan',\n",
    "                  'Bardiya', 'Gulariya', 'Dailekh', 'Dailekh District', 'Jumla', 'Dhading District', \n",
    "                  'Udayapur District', 'Lalitpur', 'Hetauda', 'Gulariya']\n",
    "cyber_train_X['city'] = cyber_train_X['city'].replace(Nepal_maoist_C, 'Nepal_Maoist_C')\n"
   ]
  },
  {
   "cell_type": "code",
   "execution_count": 24,
   "metadata": {
    "slideshow": {
     "slide_type": "skip"
    }
   },
   "outputs": [],
   "source": [
    "# N_Trianble_S.America:\n",
    "northern_triangle = ['Tegucigalpa', 'San Pedro Sula', 'Guatemala City', 'Villa Nueva', 'Villa Canales', \n",
    "                     'Mixco', 'San Jan Sacatepequez', 'Chinautla', 'Escuintla', 'Jalapa', 'Puerto Barrios', \n",
    "                     'Morales', 'La Libertad', 'Nueva Concepcion', 'Metapan', 'Acajutla', 'Sonsonate',\n",
    "                     'Izalco', 'San Salvador', 'Apopa', 'Zaragoza', 'Colon', 'Santa Tecla', 'Usulutan',\n",
    "                     'San Miguel', 'La Union']\n",
    "cyber_train_X['city'] = cyber_train_X['city'].replace(northern_triangle, 'Northern_Triangle')\n"
   ]
  },
  {
   "cell_type": "code",
   "execution_count": 25,
   "metadata": {
    "slideshow": {
     "slide_type": "skip"
    }
   },
   "outputs": [],
   "source": [
    "del sunni_cities\n",
    "del shia_cities\n",
    "del split_cities\n",
    "del ibadi_cities_libya\n",
    "del columbia_eln_cities\n",
    "del maoist_insurgency\n",
    "del w_africa_muslim\n",
    "del w_africa_mixed\n",
    "del w_africa_christian\n",
    "del Nepal_maoist_A\n",
    "del Nepal_maoist_B\n",
    "del Nepal_maoist_C\n",
    "del northern_triangle\n"
   ]
  },
  {
   "cell_type": "markdown",
   "metadata": {
    "slideshow": {
     "slide_type": "skip"
    }
   },
   "source": [
    "> ###### Test Input:"
   ]
  },
  {
   "cell_type": "code",
   "execution_count": 26,
   "metadata": {
    "slideshow": {
     "slide_type": "skip"
    }
   },
   "outputs": [],
   "source": [
    "# Sunni:\n",
    "sunni_cities = ['Mosul', 'Kirkuk', 'Sanandaj', 'Ramadi', 'Trabzone', 'Diarbekir', \n",
    "                'Damascus', 'Gwadar', 'Zahedan', 'Kandahar', 'Khiva', 'Fallujah',\n",
    "                'Dakhla', 'Tajura', 'Sabrata', 'Azizia', 'Kasabat', 'Misrata', 'Tripoli',\n",
    "                'Takrit', 'Tikrit']\n",
    "cyber_test_X['city'] = cyber_test_X['city'].replace(sunni_cities, 'Sunni_Cities')\n",
    "\n",
    "# Shia:\n",
    "shia_cities = ['Mecca', 'Najaf', 'Karbala', 'Samarra', 'Ahwaz', 'Basra', \n",
    "               'Medina', 'Tabriz', 'Tunceli', 'Zahran', 'Tehran', 'Rasht', 'Bojnurd',\n",
    "               'Hillah', 'Diwania', 'Khalis', 'Dujali', 'Balad', 'Khanaqin', \n",
    "               'Sargodha', 'Dadu', 'Moro']\n",
    "cyber_test_X['city'] = cyber_test_X['city'].replace(shia_cities, 'Shia_Cities')\n",
    "\n",
    "# Split:\n",
    "split_cities = ['Kirmanshah', 'Baghdad', 'Kadhimia', 'Kuwait', 'Kars', 'Maras', \n",
    "               'Ankara', 'Sivas', 'Aleppo', 'Beirut', 'Abha', 'Jizan', 'Qazvin',\n",
    "               'Gunbad', 'Ashgabat', 'Mashhad', 'Herat', 'Merv', 'Charju', 'Bukhara',\n",
    "               'Samarkand', 'Mazari Sharif', 'Kandahar', 'Lar', 'Bandar Abbas', 'Dubai', \n",
    "               'Abu Dhabi', 'Tashkent', 'Erzurum', 'Konya', 'Izmir', 'Bursa', 'Istanbul',\n",
    "               'Tarhuna', ]\n",
    "cyber_test_X['city'] = cyber_test_X['city'].replace(split_cities, 'Split_Cities')\n",
    "\n",
    "# Ibadi:\n",
    "ibadi_cities_libya = ['Nalut', 'Zentan', 'Gharian', 'Dafnia', 'Abu Kammash', 'Zuwara']\n",
    "cyber_test_X['city'] = cyber_test_X['city'].replace(ibadi_cities_libya, 'Ibadi_Cities_Libya')\n",
    "\n",
    "# Columbia-ELN:\n",
    "columbia_eln_cities = ['Riosucio', 'Buenaventura', 'Cali', 'Popayán', 'Bucaramanga',\n",
    "                       'Barrancabermeja', 'Cucuta', 'Santa Rita']\n",
    "cyber_test_X['city'] = cyber_test_X['city'].replace(columbia_eln_cities, 'Columbia_ELN_Cities')\n",
    "\n",
    "# Maoist:\n",
    "maoist_insurgency = ['Bhagalpur', 'Arwal', 'Khagaria', 'Rohtas', 'Kaimur',\n",
    "                       'Bhabua', 'Munger', 'Monghyr', 'Vaishali',\n",
    "                    'Dhanbad', 'Pakur', 'Koderma', 'Palamu', 'Balaghat',\n",
    "                     'Katni', 'Khandwa', 'Rajgarh', 'Shajapur']\n",
    "cyber_test_X['city'] = cyber_test_X['city'].replace(maoist_insurgency, 'Maoist_Insurgency')\n",
    "\n",
    "\n",
    "# Muslim_West_Africa: \n",
    "w_africa_muslim = ['Touba', 'N\\'Djamena', 'Maiduguri', 'Zaria', 'Sokoto', 'Kenema',\n",
    "                   'Cetoua', 'Mopte', 'Bobo-Dioulasso', 'Kayes', 'Monrovia']\n",
    "cyber_test_X['city'] = cyber_test_X['city'].replace(w_africa_muslim, 'Muslim_West_Africa')\n",
    "\n",
    "\n",
    "# Mixed_West_Africa:\n",
    "w_africa_mixed = ['Dogondutchi', 'Niamey', 'Parakou', 'Abuja', 'Kaduna', 'Kankan',\n",
    "                  'Lagos', 'Port Harcourt', 'Couala', 'Yaounde', 'Kumasi', 'Bamako',\n",
    "                  'Bertoua', 'Liberville', 'Port-Gentil', 'Zinder', 'Ouagadougou',\n",
    "                  'Freetown', 'Conakry', 'Bissau', 'Banjul', 'Dakar']\n",
    "cyber_test_X['city'] = cyber_test_X['city'].replace(w_africa_mixed, 'Mixed_West_Africa')\n",
    "\n",
    "\n",
    "# Christian_West_Africa:\n",
    "w_africa_christian = ['Benin City', 'Onitsha', 'Abidjan', 'Takoradi', 'Accra', 'Lome']\n",
    "cyber_test_X['city'] = cyber_test_X['city'].replace(w_africa_christian, 'Christian_West_Africa')\n"
   ]
  },
  {
   "cell_type": "code",
   "execution_count": 27,
   "metadata": {
    "slideshow": {
     "slide_type": "skip"
    }
   },
   "outputs": [],
   "source": [
    "# Nepal Maoist Conflict - Class A According to SATP\n",
    "Nepal_maoist_A = ['Musikot', 'Rukumkot', 'Jajarkot District', 'Salyan', 'Pyuthan', 'Gajul', 'Rank', 'Budagaun',\n",
    "                  'Kalikot District', 'Rolpa', 'Rolpa District', 'Rukum District', 'Khalanga']\n",
    "cyber_test_X['city'] = cyber_test_X['city'].replace(Nepal_maoist_A, 'Nepal_Maoist_A')\n",
    "\n",
    "\n",
    "# Nepal Maoist Conflict - Class B According to SATP\n",
    "Nepal_maoist_B = ['Charikot', 'Dolakha', 'Jiri', 'Ramechhap', 'Sindhuli Garhi', 'Sindhuli District', 'Dhungrebas',\n",
    "                  'Panaoti', 'Gorkha', 'Tulsipur', 'Ghorahi', 'Surkhet', 'Birendranagar',\n",
    "                  'Accham', 'Kamal Bajar', 'Dang', 'Dang District']\n",
    "cyber_test_X['city'] = cyber_test_X['city'].replace(Nepal_maoist_B, 'CNepal_Maoist_B')\n",
    "\n",
    "\n",
    "# Nepal Maoist Conflict - Class C According to SATP\n",
    "Nepal_maoist_C = ['Khotang Bajar', 'Khotang District', 'Khandanda', 'Okhaldhunga', 'Rumjatar', 'Udayapur Garhi',\n",
    "                  'Rasuwa District', 'Gaighat', 'Hitura', 'Makwanpur Garhi', 'Patan', 'Baglung', 'Dhorpatan',\n",
    "                  'Bardiya', 'Gulariya', 'Dailekh', 'Dailekh District', 'Jumla', 'Dhading District', \n",
    "                  'Udayapur District', 'Lalitpur', 'Hetauda', 'Gulariya']\n",
    "cyber_test_X['city'] = cyber_test_X['city'].replace(Nepal_maoist_C, 'Nepal_Maoist_C')\n"
   ]
  },
  {
   "cell_type": "code",
   "execution_count": 28,
   "metadata": {
    "slideshow": {
     "slide_type": "skip"
    }
   },
   "outputs": [],
   "source": [
    "# N_Trianble_S.America:\n",
    "northern_triangle = ['Tegucigalpa', 'San Pedro Sula', 'Guatemala City', 'Villa Nueva', 'Villa Canales', \n",
    "                     'Mixco', 'San Jan Sacatepequez', 'Chinautla', 'Escuintla', 'Jalapa', 'Puerto Barrios', \n",
    "                     'Morales', 'La Libertad', 'Nueva Concepcion', 'Metapan', 'Acajutla', 'Sonsonate',\n",
    "                     'Izalco', 'San Salvador', 'Apopa', 'Zaragoza', 'Colon', 'Santa Tecla', 'Usulutan',\n",
    "                     'San Miguel', 'La Union']\n",
    "cyber_test_X['city'] = cyber_test_X['city'].replace(northern_triangle, 'Northern_Triangle')\n"
   ]
  },
  {
   "cell_type": "code",
   "execution_count": 29,
   "metadata": {
    "slideshow": {
     "slide_type": "skip"
    }
   },
   "outputs": [
    {
     "data": {
      "text/plain": [
       "0"
      ]
     },
     "execution_count": 29,
     "metadata": {},
     "output_type": "execute_result"
    }
   ],
   "source": [
    "del sunni_cities\n",
    "del shia_cities\n",
    "del split_cities\n",
    "del ibadi_cities_libya\n",
    "del columbia_eln_cities\n",
    "del maoist_insurgency\n",
    "del w_africa_muslim\n",
    "del w_africa_mixed\n",
    "del w_africa_christian\n",
    "del Nepal_maoist_A\n",
    "del Nepal_maoist_B\n",
    "del Nepal_maoist_C\n",
    "del northern_triangle\n",
    "gc.collect()"
   ]
  },
  {
   "cell_type": "code",
   "execution_count": 30,
   "metadata": {},
   "outputs": [],
   "source": [
    "\n",
    "# These are the usual ipython objects, including this one you are creating\n",
    "ipython_vars = ['In', 'Out', 'exit', 'quit', 'get_ipython', 'ipython_vars']\n",
    "\n",
    "# Get a sorted list of the objects and their sizes\n",
    "\n",
    "cleaner = sorted([(x, sys.getsizeof(globals().get(x))) for x in dir() if not x.startswith('_') and x not in sys.modules and x not in ipython_vars], key=lambda x: x[1], reverse=True)"
   ]
  },
  {
   "cell_type": "code",
   "execution_count": 31,
   "metadata": {},
   "outputs": [
    {
     "data": {
      "text/plain": [
       "[('cyber_train_X', 4919211),\n",
       " ('cyber_test_X', 1638523),\n",
       " ('cyber_train_Y', 84584),\n",
       " ('X_train_start_index', 42304),\n",
       " ('cyber_test_Y', 28216),\n",
       " ('X_test_start_index', 14120),\n",
       " ('cross_val_score', 136),\n",
       " ('train_test_split', 136),\n",
       " ('np', 80),\n",
       " ('pd', 80),\n",
       " ('plt', 80),\n",
       " ('skl', 80),\n",
       " ('sns', 80),\n",
       " ('mid_len_1', 64),\n",
       " ('start_len', 64)]"
      ]
     },
     "execution_count": 31,
     "metadata": {},
     "output_type": "execute_result"
    }
   ],
   "source": [
    "cleaner"
   ]
  },
  {
   "cell_type": "markdown",
   "metadata": {
    "slideshow": {
     "slide_type": "slide"
    }
   },
   "source": [
    "### 2. Preliminary Visualizations and Exploration:\n",
    "\n",
    "Here we take a look at some of the correlations and relationships between our features/columns and see what we might want to focus on with our models."
   ]
  },
  {
   "cell_type": "markdown",
   "metadata": {
    "slideshow": {
     "slide_type": "subslide"
    }
   },
   "source": [
    "#### A. Correlation:"
   ]
  },
  {
   "cell_type": "code",
   "execution_count": 32,
   "metadata": {
    "slideshow": {
     "slide_type": "subslide"
    }
   },
   "outputs": [
    {
     "data": {
      "image/png": "[encoded data removed]",
      "text/plain": [
       "<Figure size 648x504 with 2 Axes>"
      ]
     },
     "metadata": {
      "needs_background": "light"
     },
     "output_type": "display_data"
    }
   ],
   "source": [
    "f, ax = plt.subplots(figsize = (9, 7))\n",
    "sns.heatmap(cyber_train_X.corr(), annot = True)\n",
    "plt.show()"
   ]
  },
  {
   "cell_type": "markdown",
   "metadata": {
    "slideshow": {
     "slide_type": "slide"
    }
   },
   "source": [
    "#### B. Most Active Groups:"
   ]
  },
  {
   "cell_type": "code",
   "execution_count": 33,
   "metadata": {
    "slideshow": {
     "slide_type": "fragment"
    }
   },
   "outputs": [],
   "source": [
    "# Most prolific groups:\n",
    "\n",
    "actives = cyber_train_X['group_name'].value_counts().head(10).drop('Unknown')\n",
    "mask3 = cyber_train_X['group_name'].map(lambda x: x in actives)\n",
    "actives_df = cyber_train_X[mask3]\n",
    "\n",
    "temp_output = cyber_train_Y.loc[actives_df.index]\n",
    "\n",
    "beta = actives.keys()\n",
    "gamma = actives.values"
   ]
  },
  {
   "cell_type": "code",
   "execution_count": 34,
   "metadata": {
    "scrolled": false,
    "slideshow": {
     "slide_type": "subslide"
    }
   },
   "outputs": [
    {
     "data": {
      "image/png": "[encoded data removed]",
      "text/plain": [
       "<Figure size 864x576 with 1 Axes>"
      ]
     },
     "metadata": {
      "needs_background": "light"
     },
     "output_type": "display_data"
    }
   ],
   "source": [
    "f, ax = plt.subplots(figsize = (12, 8))\n",
    "sns.pointplot(x = actives_df['group_name'], y = temp_output.success)\n",
    "ax.set_xticklabels(labels = beta, rotation = '90')\n",
    "ax.set_xlabel('Name of Terrorist Group')\n",
    "ax.set_ylabel('Success Rate')\n",
    "ax.set_title('Most Active Terror Groups and Their Success Rates')\n",
    "plt.show()"
   ]
  },
  {
   "cell_type": "markdown",
   "metadata": {
    "slideshow": {
     "slide_type": "slide"
    }
   },
   "source": [
    "#### C.  Countries with Most Activity:"
   ]
  },
  {
   "cell_type": "code",
   "execution_count": 35,
   "metadata": {
    "slideshow": {
     "slide_type": "subslide"
    }
   },
   "outputs": [],
   "source": [
    "# Hot-Spots:\n",
    "\n",
    "hot_countries = cyber_train_X['country_txt'].value_counts().head(10)\n",
    "mask3 = cyber_train_X['country_txt'].map(lambda x: x in hot_countries)\n",
    "hot_countries_df = cyber_train_X[mask3]\n",
    "phi = hot_countries_df['country_txt'].value_counts().head(10)\n",
    "\n",
    "temp_output2 = cyber_train_Y.loc[hot_countries_df.index]\n",
    "\n",
    "\n",
    "beta = phi.keys()\n",
    "gamma = phi.values"
   ]
  },
  {
   "cell_type": "code",
   "execution_count": 36,
   "metadata": {
    "scrolled": true,
    "slideshow": {
     "slide_type": "subslide"
    }
   },
   "outputs": [
    {
     "data": {
      "image/png": "[encoded data removed]",
      "text/plain": [
       "<Figure size 864x576 with 1 Axes>"
      ]
     },
     "metadata": {
      "needs_background": "light"
     },
     "output_type": "display_data"
    }
   ],
   "source": [
    "f, ax = plt.subplots(figsize = (12, 8))\n",
    "sns.pointplot(x = beta, y = gamma)\n",
    "ax.set_xticklabels(labels = beta, rotation = '90')\n",
    "ax.set_xlabel('Name of Country')\n",
    "ax.set_ylabel('Success Rate')\n",
    "ax.set_title('Countries with Most Activity and Attack Success Rates')\n",
    "plt.show()"
   ]
  },
  {
   "cell_type": "code",
   "execution_count": 37,
   "metadata": {
    "slideshow": {
     "slide_type": "skip"
    }
   },
   "outputs": [],
   "source": [
    "del actives\n",
    "del actives_df\n",
    "del temp_output\n",
    "del beta\n",
    "del hot_countries\n",
    "del hot_countries_df\n",
    "del phi\n",
    "del temp_output2\n",
    "del mask3"
   ]
  },
  {
   "cell_type": "code",
   "execution_count": 38,
   "metadata": {
    "slideshow": {
     "slide_type": "skip"
    }
   },
   "outputs": [
    {
     "data": {
      "text/plain": [
       "8174"
      ]
     },
     "execution_count": 38,
     "metadata": {},
     "output_type": "execute_result"
    }
   ],
   "source": [
    "gc.collect()"
   ]
  },
  {
   "cell_type": "markdown",
   "metadata": {
    "slideshow": {
     "slide_type": "slide"
    }
   },
   "source": [
    "### 3. Feature Selection:\n",
    "\n",
    "Getting closer to modeling and using feature selection algorithms to see what will help us best minimize our feature set while maintaining the most amount of variation in our data.\n",
    "\n",
    "We mainly focused on Select KBest within sklearn and PCA analysis to give us two perspectives on the data (one that we can parse out as humans, namely Select KBest, and one that is mostly computationally described, namely PCA). "
   ]
  },
  {
   "cell_type": "markdown",
   "metadata": {
    "slideshow": {
     "slide_type": "fragment"
    }
   },
   "source": [
    "#### A. Select K-Best:\n",
    "\n",
    "##### Assessing the Overall DataFrame and its Features:"
   ]
  },
  {
   "cell_type": "code",
   "execution_count": 39,
   "metadata": {
    "slideshow": {
     "slide_type": "skip"
    }
   },
   "outputs": [],
   "source": [
    "from sklearn import feature_selection"
   ]
  },
  {
   "cell_type": "code",
   "execution_count": 40,
   "metadata": {
    "slideshow": {
     "slide_type": "subslide"
    }
   },
   "outputs": [],
   "source": [
    "# Getting dummies on our training and test sets (slight wrangling involved):\n",
    "  # First dropping any na's:\n",
    "cyber_train_X.dropna(axis = 0, inplace = True)\n",
    "cyber_test_X.dropna(axis = 0, inplace = True)\n",
    "\n",
    "  # Then grabbing an index to make sure we maintain our train/test split:\n",
    "train_index = cyber_train_X.index\n",
    "test_index = cyber_test_X.index\n",
    "\n",
    "  # Dummy-time (we combined the dataframes here to make sure we didn't get duplicated dummies in both \n",
    "    # training and test sets):\n",
    "dummy_prep = pd.concat([cyber_train_X, cyber_test_X]).drop(['group_name', 'city', 'weapontxt'], axis = 1)\n",
    "dummy_1 = pd.get_dummies(dummy_prep)\n",
    "\n",
    "  # Re-filtering our Training/Test Inputs:\n",
    "cyber_train_dummy_X = dummy_1.loc[train_index]\n",
    "cyber_test_dummy_X = dummy_1.loc[test_index]\n",
    "\n",
    "  # Re-filtering our Training/Test Outputs:\n",
    "cyber_train_dummy_Y = cyber_train_Y.loc[train_index]\n",
    "cyber_test_dummy_Y = cyber_test_Y.loc[test_index]"
   ]
  },
  {
   "cell_type": "code",
   "execution_count": 41,
   "metadata": {
    "slideshow": {
     "slide_type": "subslide"
    }
   },
   "outputs": [
    {
     "name": "stdout",
     "output_type": "stream",
     "text": [
      "(5285, 6927)\n",
      "(1762, 6927)\n"
     ]
    }
   ],
   "source": [
    "# Making sure we have the same sizes still:\n",
    "print(cyber_train_dummy_X.shape)\n",
    "print(cyber_test_dummy_X.shape)"
   ]
  },
  {
   "cell_type": "code",
   "execution_count": 42,
   "metadata": {
    "slideshow": {
     "slide_type": "subslide"
    }
   },
   "outputs": [],
   "source": [
    "# Fitting SelectKBest to our Features and output:\n",
    "  # Here we tried a number of sizes: 20, 30, 500 and 700. We found that 25-30 got us the best results.\n",
    "KBest_1 = feature_selection.SelectKBest(k = 25) \n",
    "cyber_train_KBest1 = KBest_1.fit_transform(cyber_train_dummy_X, cyber_train_dummy_Y)\n",
    "\n",
    "# Transforming the test-set\n",
    "cyber_test_KBest1 = KBest_1.transform(cyber_test_dummy_X)"
   ]
  },
  {
   "cell_type": "code",
   "execution_count": 43,
   "metadata": {
    "scrolled": true,
    "slideshow": {
     "slide_type": "subslide"
    }
   },
   "outputs": [
    {
     "data": {
      "text/html": [
       "<div>\n",
       "<style scoped>\n",
       "    .dataframe tbody tr th:only-of-type {\n",
       "        vertical-align: middle;\n",
       "    }\n",
       "\n",
       "    .dataframe tbody tr th {\n",
       "        vertical-align: top;\n",
       "    }\n",
       "\n",
       "    .dataframe thead th {\n",
       "        text-align: right;\n",
       "    }\n",
       "</style>\n",
       "<table border=\"1\" class=\"dataframe\">\n",
       "  <thead>\n",
       "    <tr style=\"text-align: right;\">\n",
       "      <th></th>\n",
       "      <th>0</th>\n",
       "    </tr>\n",
       "  </thead>\n",
       "  <tbody>\n",
       "    <tr>\n",
       "      <th>0</th>\n",
       "      <td>country_txt_Germany</td>\n",
       "    </tr>\n",
       "    <tr>\n",
       "      <th>1</th>\n",
       "      <td>country_txt_Ireland</td>\n",
       "    </tr>\n",
       "    <tr>\n",
       "      <th>2</th>\n",
       "      <td>attack_1txt_Assassination</td>\n",
       "    </tr>\n",
       "    <tr>\n",
       "      <th>3</th>\n",
       "      <td>attack_1txt_Bombing/Explosion</td>\n",
       "    </tr>\n",
       "    <tr>\n",
       "      <th>4</th>\n",
       "      <td>attack_1txt_Hostage Taking (Kidnapping)</td>\n",
       "    </tr>\n",
       "    <tr>\n",
       "      <th>5</th>\n",
       "      <td>target_1txt_Government (General)</td>\n",
       "    </tr>\n",
       "    <tr>\n",
       "      <th>6</th>\n",
       "      <td>target_1txt_Private Citizens &amp; Property</td>\n",
       "    </tr>\n",
       "    <tr>\n",
       "      <th>7</th>\n",
       "      <td>sub_targettxt_Gov_Figure1</td>\n",
       "    </tr>\n",
       "    <tr>\n",
       "      <th>8</th>\n",
       "      <td>sub_targettxt_Political</td>\n",
       "    </tr>\n",
       "    <tr>\n",
       "      <th>9</th>\n",
       "      <td>sub_targettxt_Unnamed Civilian/Unspecified</td>\n",
       "    </tr>\n",
       "    <tr>\n",
       "      <th>10</th>\n",
       "      <td>corp1_Election Commission of India</td>\n",
       "    </tr>\n",
       "    <tr>\n",
       "      <th>11</th>\n",
       "      <td>corp1_Not Applicable</td>\n",
       "    </tr>\n",
       "    <tr>\n",
       "      <th>12</th>\n",
       "      <td>corp1_Pakistani Ministry of Education, Trainin...</td>\n",
       "    </tr>\n",
       "    <tr>\n",
       "      <th>13</th>\n",
       "      <td>corp1_Puerto Rican telecommunications facility</td>\n",
       "    </tr>\n",
       "    <tr>\n",
       "      <th>14</th>\n",
       "      <td>corp1_Staaken</td>\n",
       "    </tr>\n",
       "    <tr>\n",
       "      <th>15</th>\n",
       "      <td>corp1_Tehrik-e-Taliban Pakistan</td>\n",
       "    </tr>\n",
       "    <tr>\n",
       "      <th>16</th>\n",
       "      <td>corp1_Unified Communist Party of Nepal: Maoist...</td>\n",
       "    </tr>\n",
       "    <tr>\n",
       "      <th>17</th>\n",
       "      <td>specific_target_A police chief</td>\n",
       "    </tr>\n",
       "    <tr>\n",
       "      <th>18</th>\n",
       "      <td>specific_target_Adviser to Prime Minister: Ami...</td>\n",
       "    </tr>\n",
       "    <tr>\n",
       "      <th>19</th>\n",
       "      <td>specific_target_Chair: Pushpa Kamal Dahal Prac...</td>\n",
       "    </tr>\n",
       "    <tr>\n",
       "      <th>20</th>\n",
       "      <td>specific_target_Private Residence</td>\n",
       "    </tr>\n",
       "    <tr>\n",
       "      <th>21</th>\n",
       "      <td>specific_target_Unidentified Village Chairperson</td>\n",
       "    </tr>\n",
       "    <tr>\n",
       "      <th>22</th>\n",
       "      <td>victim_nationalitytxt_Ireland</td>\n",
       "    </tr>\n",
       "    <tr>\n",
       "      <th>23</th>\n",
       "      <td>sub_weapontxt_Other Explosive Type</td>\n",
       "    </tr>\n",
       "    <tr>\n",
       "      <th>24</th>\n",
       "      <td>sub_weapontxt_Pipe Bomb</td>\n",
       "    </tr>\n",
       "  </tbody>\n",
       "</table>\n",
       "</div>"
      ],
      "text/plain": [
       "                                                    0\n",
       "0                                 country_txt_Germany\n",
       "1                                 country_txt_Ireland\n",
       "2                           attack_1txt_Assassination\n",
       "3                       attack_1txt_Bombing/Explosion\n",
       "4             attack_1txt_Hostage Taking (Kidnapping)\n",
       "5                    target_1txt_Government (General)\n",
       "6             target_1txt_Private Citizens & Property\n",
       "7                           sub_targettxt_Gov_Figure1\n",
       "8                             sub_targettxt_Political\n",
       "9          sub_targettxt_Unnamed Civilian/Unspecified\n",
       "10                 corp1_Election Commission of India\n",
       "11                               corp1_Not Applicable\n",
       "12  corp1_Pakistani Ministry of Education, Trainin...\n",
       "13     corp1_Puerto Rican telecommunications facility\n",
       "14                                      corp1_Staaken\n",
       "15                    corp1_Tehrik-e-Taliban Pakistan\n",
       "16  corp1_Unified Communist Party of Nepal: Maoist...\n",
       "17                     specific_target_A police chief\n",
       "18  specific_target_Adviser to Prime Minister: Ami...\n",
       "19  specific_target_Chair: Pushpa Kamal Dahal Prac...\n",
       "20                  specific_target_Private Residence\n",
       "21   specific_target_Unidentified Village Chairperson\n",
       "22                      victim_nationalitytxt_Ireland\n",
       "23                 sub_weapontxt_Other Explosive Type\n",
       "24                            sub_weapontxt_Pipe Bomb"
      ]
     },
     "execution_count": 43,
     "metadata": {},
     "output_type": "execute_result"
    }
   ],
   "source": [
    "# Creating a DF with the top 25 features:\n",
    "feature_mask = KBest_1.get_support(indices = True)\n",
    "KBest_1_features = pd.DataFrame(cyber_train_dummy_X.columns[feature_mask])\n",
    "\n",
    "KBest_1_features"
   ]
  },
  {
   "cell_type": "markdown",
   "metadata": {
    "slideshow": {
     "slide_type": "notes"
    }
   },
   "source": [
    "Here, we are getting a lot of return from the attack, target, sub-target and a few country features.  The doubt column indicates whether doubt exists regarding the classification of this incident as a terrorist incident, as opposed to some sort of other crime.  High-correlation here would make sense, but for now, we will focus on the columns below as the doubt feature is potentially over-correlated."
   ]
  },
  {
   "cell_type": "markdown",
   "metadata": {
    "slideshow": {
     "slide_type": "slide"
    }
   },
   "source": [
    "##### Assessing Individual Features:\n",
    "\n",
    "Running SelectKBest on a few features individually to see which of their values is selected as most important.  This will help us consolidate some of those values and make a more specific dataframe. \n",
    "\n",
    "\n",
    "###### Group_name:"
   ]
  },
  {
   "cell_type": "code",
   "execution_count": 44,
   "metadata": {
    "slideshow": {
     "slide_type": "subslide"
    }
   },
   "outputs": [],
   "source": [
    "# Getting dummies on our training and test sets (slight wrangling involved):\n",
    "names_train_X = cyber_train_X['group_name']\n",
    "names_test_X = cyber_test_X['group_name']\n",
    "\n",
    "names_train_index = cyber_train_X['group_name'].index\n",
    "names_test_index = cyber_test_X['group_name'].index\n",
    "\n",
    "names_dummy_prep = pd.concat([names_train_X, names_test_X])\n",
    "names_dummy_1 = pd.get_dummies(names_dummy_prep)\n",
    "\n",
    "# Filtering Training/Test Inputs:\n",
    "names_train_dummy_X = names_dummy_1.loc[names_train_index]\n",
    "names_test_dummy_X = names_dummy_1.loc[names_test_index]\n",
    "\n",
    "# Filtering Training Outputs:\n",
    "names_train_dummy_Y = cyber_train_Y.loc[names_train_index]\n",
    "names_test_dummy_Y = cyber_test_Y.loc[names_test_index]"
   ]
  },
  {
   "cell_type": "code",
   "execution_count": 45,
   "metadata": {
    "slideshow": {
     "slide_type": "subslide"
    }
   },
   "outputs": [],
   "source": [
    "# Fitting model to our features and output.\n",
    "  # Again, we tried 30, 50 and 150, here. It seemed like 25-30 features gave us the best results.\n",
    "KBest_names = feature_selection.SelectKBest(k = 25)  \n",
    "names_train_KBest = KBest_names.fit_transform(names_train_dummy_X, names_train_dummy_Y)\n",
    "\n",
    "# Transforming our test set.\n",
    "names_test_KBest = KBest_names.transform(names_test_dummy_X)"
   ]
  },
  {
   "cell_type": "code",
   "execution_count": 46,
   "metadata": {
    "scrolled": true,
    "slideshow": {
     "slide_type": "subslide"
    }
   },
   "outputs": [
    {
     "data": {
      "text/html": [
       "<div>\n",
       "<style scoped>\n",
       "    .dataframe tbody tr th:only-of-type {\n",
       "        vertical-align: middle;\n",
       "    }\n",
       "\n",
       "    .dataframe tbody tr th {\n",
       "        vertical-align: top;\n",
       "    }\n",
       "\n",
       "    .dataframe thead th {\n",
       "        text-align: right;\n",
       "    }\n",
       "</style>\n",
       "<table border=\"1\" class=\"dataframe\">\n",
       "  <thead>\n",
       "    <tr style=\"text-align: right;\">\n",
       "      <th></th>\n",
       "      <th>0</th>\n",
       "    </tr>\n",
       "  </thead>\n",
       "  <tbody>\n",
       "    <tr>\n",
       "      <th>0</th>\n",
       "      <td>Armed Commandos of Liberation</td>\n",
       "    </tr>\n",
       "    <tr>\n",
       "      <th>1</th>\n",
       "      <td>Besi Merah Putih Militia</td>\n",
       "    </tr>\n",
       "    <tr>\n",
       "      <th>2</th>\n",
       "      <td>Black Liberation Army</td>\n",
       "    </tr>\n",
       "    <tr>\n",
       "      <th>3</th>\n",
       "      <td>Communist Party of Nepal - Maoist (CPN-Maoist-...</td>\n",
       "    </tr>\n",
       "    <tr>\n",
       "      <th>4</th>\n",
       "      <td>Communist Party of Nepal-Maoist (Baidya)</td>\n",
       "    </tr>\n",
       "    <tr>\n",
       "      <th>5</th>\n",
       "      <td>Conspiracy of Cells of Fire</td>\n",
       "    </tr>\n",
       "    <tr>\n",
       "      <th>6</th>\n",
       "      <td>Dima Halao Daoga (DHD)</td>\n",
       "    </tr>\n",
       "    <tr>\n",
       "      <th>7</th>\n",
       "      <td>Hekla Reception Committee-Initiative for More ...</td>\n",
       "    </tr>\n",
       "    <tr>\n",
       "      <th>8</th>\n",
       "      <td>Informal Anarchist Federation</td>\n",
       "    </tr>\n",
       "    <tr>\n",
       "      <th>9</th>\n",
       "      <td>Irish_Separatists</td>\n",
       "    </tr>\n",
       "    <tr>\n",
       "      <th>10</th>\n",
       "      <td>Madhesh Rastra Janatantrik Revolutionary (RJR)...</td>\n",
       "    </tr>\n",
       "    <tr>\n",
       "      <th>11</th>\n",
       "      <td>Maoist Communist Party of Manipur</td>\n",
       "    </tr>\n",
       "    <tr>\n",
       "      <th>12</th>\n",
       "      <td>Maoists</td>\n",
       "    </tr>\n",
       "    <tr>\n",
       "      <th>13</th>\n",
       "      <td>Middle_Eastern_Religious</td>\n",
       "    </tr>\n",
       "    <tr>\n",
       "      <th>14</th>\n",
       "      <td>Muslim Brotherhood</td>\n",
       "    </tr>\n",
       "    <tr>\n",
       "      <th>15</th>\n",
       "      <td>National Socialist Council of Nagaland</td>\n",
       "    </tr>\n",
       "    <tr>\n",
       "      <th>16</th>\n",
       "      <td>Popular Resistance (Laiki Antistasi)</td>\n",
       "    </tr>\n",
       "    <tr>\n",
       "      <th>17</th>\n",
       "      <td>Pro Hartal Activists</td>\n",
       "    </tr>\n",
       "    <tr>\n",
       "      <th>18</th>\n",
       "      <td>Revolutionary Cells-Animal Liberation Brigade</td>\n",
       "    </tr>\n",
       "    <tr>\n",
       "      <th>19</th>\n",
       "      <td>Revolutionary Struggle</td>\n",
       "    </tr>\n",
       "    <tr>\n",
       "      <th>20</th>\n",
       "      <td>Riyadus-Salikhin Reconnaissance and Sabotage B...</td>\n",
       "    </tr>\n",
       "    <tr>\n",
       "      <th>21</th>\n",
       "      <td>Salafi Abu-Bakr al-Siddiq Army</td>\n",
       "    </tr>\n",
       "    <tr>\n",
       "      <th>22</th>\n",
       "      <td>Tehrik-e-Nifaz-e-Aman Balochistan-Jhalawan Bri...</td>\n",
       "    </tr>\n",
       "    <tr>\n",
       "      <th>23</th>\n",
       "      <td>The World United Formosans for Independence (W...</td>\n",
       "    </tr>\n",
       "    <tr>\n",
       "      <th>24</th>\n",
       "      <td>Unknown</td>\n",
       "    </tr>\n",
       "  </tbody>\n",
       "</table>\n",
       "</div>"
      ],
      "text/plain": [
       "                                                    0\n",
       "0                       Armed Commandos of Liberation\n",
       "1                            Besi Merah Putih Militia\n",
       "2                               Black Liberation Army\n",
       "3   Communist Party of Nepal - Maoist (CPN-Maoist-...\n",
       "4            Communist Party of Nepal-Maoist (Baidya)\n",
       "5                         Conspiracy of Cells of Fire\n",
       "6                              Dima Halao Daoga (DHD)\n",
       "7   Hekla Reception Committee-Initiative for More ...\n",
       "8                       Informal Anarchist Federation\n",
       "9                                   Irish_Separatists\n",
       "10  Madhesh Rastra Janatantrik Revolutionary (RJR)...\n",
       "11                  Maoist Communist Party of Manipur\n",
       "12                                            Maoists\n",
       "13                           Middle_Eastern_Religious\n",
       "14                                 Muslim Brotherhood\n",
       "15             National Socialist Council of Nagaland\n",
       "16               Popular Resistance (Laiki Antistasi)\n",
       "17                               Pro Hartal Activists\n",
       "18      Revolutionary Cells-Animal Liberation Brigade\n",
       "19                             Revolutionary Struggle\n",
       "20  Riyadus-Salikhin Reconnaissance and Sabotage B...\n",
       "21                     Salafi Abu-Bakr al-Siddiq Army\n",
       "22  Tehrik-e-Nifaz-e-Aman Balochistan-Jhalawan Bri...\n",
       "23  The World United Formosans for Independence (W...\n",
       "24                                            Unknown"
      ]
     },
     "execution_count": 46,
     "metadata": {},
     "output_type": "execute_result"
    }
   ],
   "source": [
    "# Summarizing the scores for those top 25 features in a df:\n",
    "\n",
    "names_mask = KBest_names.get_support(indices = True)\n",
    "KBest_names_features = pd.DataFrame(names_train_dummy_X.columns[names_mask])\n",
    "\n",
    "KBest_names_features"
   ]
  },
  {
   "cell_type": "markdown",
   "metadata": {
    "slideshow": {
     "slide_type": "notes"
    }
   },
   "source": [
    "It looks like some of our groupings from above made it into the top-25 features, which is reassuring that our efforts above produced a result.  This also gives us a slightly broader view of the terrorist groups that are highly active, as opposed to overly-specific groups that might wash out the activity in other countries.\n",
    "\n",
    "This also points to another issue for consideration when performing future work on the dataset. When making these groups and filters, one will want to be sure to create groups that consider as much of the globe as possible. Otherwise, one would run the risk of coagulating a few groups together from one area, thereby increasing their significance, and over-powering the significance of other groups.  The groups we created above were an attempt at creating well-represented portions of the globe.  It would benefit, however, from more time and research so as to further tweak these groupings towards a higher accuracy."
   ]
  },
  {
   "cell_type": "markdown",
   "metadata": {
    "slideshow": {
     "slide_type": "skip"
    }
   },
   "source": [
    "###### City:"
   ]
  },
  {
   "cell_type": "code",
   "execution_count": 47,
   "metadata": {
    "slideshow": {
     "slide_type": "skip"
    }
   },
   "outputs": [],
   "source": [
    "# Getting dummies on our training and test sets (slight wrangling involved):\n",
    "city_train_X = cyber_train_X['city']\n",
    "city_test_X = cyber_test_X['city']\n",
    "\n",
    "city_train_index = cyber_train_X['city'].index\n",
    "city_test_index = cyber_test_X['city'].index\n",
    "\n",
    "city_dummy_prep = pd.concat([city_train_X, city_test_X])\n",
    "city_dummy_1 = pd.get_dummies(city_dummy_prep)\n",
    "\n",
    "# Training/Test Inputs:\n",
    "city_train_dummy_X = city_dummy_1.loc[city_train_index]\n",
    "city_test_dummy_X = city_dummy_1.loc[city_test_index]\n",
    "\n",
    "# Training Output:\n",
    "city_train_dummy_Y = cyber_train_Y.loc[city_train_index]\n",
    "city_test_dummy_Y = cyber_test_Y.loc[city_test_index]"
   ]
  },
  {
   "cell_type": "code",
   "execution_count": 48,
   "metadata": {
    "slideshow": {
     "slide_type": "skip"
    }
   },
   "outputs": [],
   "source": [
    "# Fitting model to our features and output.\n",
    "KBest_city = feature_selection.SelectKBest(k = 25) # Tried 30 and 150. 25-30 was our best range.\n",
    "city_train_KBest = KBest_city.fit_transform(city_train_dummy_X, city_train_dummy_Y)\n",
    "\n",
    "# Transforming our test set:\n",
    "city_test_KBest = KBest_city.transform(city_test_dummy_X)"
   ]
  },
  {
   "cell_type": "code",
   "execution_count": 49,
   "metadata": {
    "slideshow": {
     "slide_type": "skip"
    }
   },
   "outputs": [
    {
     "data": {
      "text/html": [
       "<div>\n",
       "<style scoped>\n",
       "    .dataframe tbody tr th:only-of-type {\n",
       "        vertical-align: middle;\n",
       "    }\n",
       "\n",
       "    .dataframe tbody tr th {\n",
       "        vertical-align: top;\n",
       "    }\n",
       "\n",
       "    .dataframe thead th {\n",
       "        text-align: right;\n",
       "    }\n",
       "</style>\n",
       "<table border=\"1\" class=\"dataframe\">\n",
       "  <thead>\n",
       "    <tr style=\"text-align: right;\">\n",
       "      <th></th>\n",
       "      <th>0</th>\n",
       "    </tr>\n",
       "  </thead>\n",
       "  <tbody>\n",
       "    <tr>\n",
       "      <th>0</th>\n",
       "      <td>Aguada</td>\n",
       "    </tr>\n",
       "    <tr>\n",
       "      <th>1</th>\n",
       "      <td>Baharak district</td>\n",
       "    </tr>\n",
       "    <tr>\n",
       "      <th>2</th>\n",
       "      <td>Belauri</td>\n",
       "    </tr>\n",
       "    <tr>\n",
       "      <th>3</th>\n",
       "      <td>Belbari</td>\n",
       "    </tr>\n",
       "    <tr>\n",
       "      <th>4</th>\n",
       "      <td>Belfast</td>\n",
       "    </tr>\n",
       "    <tr>\n",
       "      <th>5</th>\n",
       "      <td>Dhaka</td>\n",
       "    </tr>\n",
       "    <tr>\n",
       "      <th>6</th>\n",
       "      <td>Doaba</td>\n",
       "    </tr>\n",
       "    <tr>\n",
       "      <th>7</th>\n",
       "      <td>Dublin</td>\n",
       "    </tr>\n",
       "    <tr>\n",
       "      <th>8</th>\n",
       "      <td>Faizabad</td>\n",
       "    </tr>\n",
       "    <tr>\n",
       "      <th>9</th>\n",
       "      <td>Frankfurt</td>\n",
       "    </tr>\n",
       "    <tr>\n",
       "      <th>10</th>\n",
       "      <td>Imphal</td>\n",
       "    </tr>\n",
       "    <tr>\n",
       "      <th>11</th>\n",
       "      <td>Pagadian</td>\n",
       "    </tr>\n",
       "    <tr>\n",
       "      <th>12</th>\n",
       "      <td>Peshawar</td>\n",
       "    </tr>\n",
       "    <tr>\n",
       "      <th>13</th>\n",
       "      <td>Smile</td>\n",
       "    </tr>\n",
       "    <tr>\n",
       "      <th>14</th>\n",
       "      <td>Staaken</td>\n",
       "    </tr>\n",
       "    <tr>\n",
       "      <th>15</th>\n",
       "      <td>Thoubal</td>\n",
       "    </tr>\n",
       "    <tr>\n",
       "      <th>16</th>\n",
       "      <td>Thouda Bhabok Leikai</td>\n",
       "    </tr>\n",
       "    <tr>\n",
       "      <th>17</th>\n",
       "      <td>Tibu</td>\n",
       "    </tr>\n",
       "    <tr>\n",
       "      <th>18</th>\n",
       "      <td>Tigzirt</td>\n",
       "    </tr>\n",
       "    <tr>\n",
       "      <th>19</th>\n",
       "      <td>Tirap district</td>\n",
       "    </tr>\n",
       "    <tr>\n",
       "      <th>20</th>\n",
       "      <td>Tral</td>\n",
       "    </tr>\n",
       "    <tr>\n",
       "      <th>21</th>\n",
       "      <td>Tuddingan</td>\n",
       "    </tr>\n",
       "    <tr>\n",
       "      <th>22</th>\n",
       "      <td>Tunga</td>\n",
       "    </tr>\n",
       "    <tr>\n",
       "      <th>23</th>\n",
       "      <td>Zhavoronki</td>\n",
       "    </tr>\n",
       "    <tr>\n",
       "      <th>24</th>\n",
       "      <td>Zhutovi</td>\n",
       "    </tr>\n",
       "  </tbody>\n",
       "</table>\n",
       "</div>"
      ],
      "text/plain": [
       "                       0\n",
       "0                 Aguada\n",
       "1       Baharak district\n",
       "2                Belauri\n",
       "3                Belbari\n",
       "4                Belfast\n",
       "5                  Dhaka\n",
       "6                  Doaba\n",
       "7                 Dublin\n",
       "8               Faizabad\n",
       "9              Frankfurt\n",
       "10                Imphal\n",
       "11              Pagadian\n",
       "12              Peshawar\n",
       "13                 Smile\n",
       "14               Staaken\n",
       "15               Thoubal\n",
       "16  Thouda Bhabok Leikai\n",
       "17                  Tibu\n",
       "18               Tigzirt\n",
       "19        Tirap district\n",
       "20                  Tral\n",
       "21             Tuddingan\n",
       "22                 Tunga\n",
       "23            Zhavoronki\n",
       "24               Zhutovi"
      ]
     },
     "execution_count": 49,
     "metadata": {},
     "output_type": "execute_result"
    }
   ],
   "source": [
    "# Summarizing the scores for those top 25 features in a df:\n",
    "pd.set_option('max_rows', 101)\n",
    "city_mask = KBest_city.get_support(indices = True)\n",
    "KBest_city_features = pd.DataFrame(city_train_dummy_X.columns[city_mask])\n",
    "KBest_city_features"
   ]
  },
  {
   "cell_type": "markdown",
   "metadata": {
    "slideshow": {
     "slide_type": "skip"
    }
   },
   "source": [
    "###### Weapontxt (weapon_train_dummy/weapon_train_output2):"
   ]
  },
  {
   "cell_type": "code",
   "execution_count": 50,
   "metadata": {
    "slideshow": {
     "slide_type": "skip"
    }
   },
   "outputs": [],
   "source": [
    "# Getting dummies on our training and test sets (slight wrangling involved):\n",
    "weapon_train_X = cyber_train_X['weapontxt']\n",
    "weapon_test_X = cyber_test_X['weapontxt']\n",
    "\n",
    "weapon_train_index = cyber_train_X['weapontxt'].index\n",
    "weapon_test_index = cyber_test_X['weapontxt'].index\n",
    "\n",
    "weapon_dummy_prep = pd.concat([weapon_train_X, weapon_test_X])\n",
    "weapon_dummy_1 = pd.get_dummies(weapon_dummy_prep)\n",
    "\n",
    "# Training/Test Inputs:\n",
    "weapon_train_dummy_X = weapon_dummy_1.loc[weapon_train_index]\n",
    "weapon_test_dummy_X = weapon_dummy_1.loc[weapon_test_index]\n",
    "\n",
    "# Training Output:\n",
    "weapon_train_dummy_Y = cyber_train_Y.loc[weapon_train_index]\n",
    "weapon_test_dummy_Y = cyber_test_Y.loc[weapon_test_index]"
   ]
  },
  {
   "cell_type": "code",
   "execution_count": 51,
   "metadata": {
    "slideshow": {
     "slide_type": "skip"
    }
   },
   "outputs": [],
   "source": [
    "# Fitting the model to our features and training output:\n",
    "\n",
    "KBest_weapon = feature_selection.SelectKBest(k = 3) # Tried 5, but 3 was best.\n",
    "weapon_train_KBest = KBest_weapon.fit_transform(weapon_train_dummy_X, weapon_train_dummy_Y)\n",
    "\n",
    "# Transforming our test set:\n",
    "weapon_test_KBest = KBest_weapon.transform(weapon_test_dummy_X)"
   ]
  },
  {
   "cell_type": "code",
   "execution_count": 52,
   "metadata": {
    "slideshow": {
     "slide_type": "skip"
    }
   },
   "outputs": [
    {
     "data": {
      "text/html": [
       "<div>\n",
       "<style scoped>\n",
       "    .dataframe tbody tr th:only-of-type {\n",
       "        vertical-align: middle;\n",
       "    }\n",
       "\n",
       "    .dataframe tbody tr th {\n",
       "        vertical-align: top;\n",
       "    }\n",
       "\n",
       "    .dataframe thead th {\n",
       "        text-align: right;\n",
       "    }\n",
       "</style>\n",
       "<table border=\"1\" class=\"dataframe\">\n",
       "  <thead>\n",
       "    <tr style=\"text-align: right;\">\n",
       "      <th></th>\n",
       "      <th>0</th>\n",
       "    </tr>\n",
       "  </thead>\n",
       "  <tbody>\n",
       "    <tr>\n",
       "      <th>0</th>\n",
       "      <td>Explosives</td>\n",
       "    </tr>\n",
       "    <tr>\n",
       "      <th>1</th>\n",
       "      <td>Incendiary</td>\n",
       "    </tr>\n",
       "    <tr>\n",
       "      <th>2</th>\n",
       "      <td>Melee</td>\n",
       "    </tr>\n",
       "  </tbody>\n",
       "</table>\n",
       "</div>"
      ],
      "text/plain": [
       "            0\n",
       "0  Explosives\n",
       "1  Incendiary\n",
       "2       Melee"
      ]
     },
     "execution_count": 52,
     "metadata": {},
     "output_type": "execute_result"
    }
   ],
   "source": [
    "# Summarizing the scores for those top 3 features in a df:\n",
    "\n",
    "weapon_mask = KBest_weapon.get_support(indices = True)\n",
    "KBest_weapon_features = pd.DataFrame(weapon_train_dummy_X.columns[weapon_mask])\n",
    "KBest_weapon_features "
   ]
  },
  {
   "cell_type": "markdown",
   "metadata": {
    "slideshow": {
     "slide_type": "skip"
    }
   },
   "source": [
    "From here, we can infer that while the data-set we are looking at somehow has consequences for cyber infrastructre or networks (including email and social networks as well as the physical networks), there seems to be a correlation with bombings and incendiary methods as well.  As such, we cannot rule out the possibility that cyber-related attacks are often related to physical or other forms of terrorist attacks (at least in the current analysis we are doing here)."
   ]
  },
  {
   "cell_type": "code",
   "execution_count": 53,
   "metadata": {
    "slideshow": {
     "slide_type": "skip"
    }
   },
   "outputs": [
    {
     "data": {
      "text/plain": [
       "105"
      ]
     },
     "execution_count": 53,
     "metadata": {},
     "output_type": "execute_result"
    }
   ],
   "source": [
    "del dummy_prep\n",
    "del dummy_1\n",
    "del names_dummy_prep\n",
    "del names_dummy_1\n",
    "del city_dummy_prep\n",
    "del city_dummy_1\n",
    "del weapon_dummy_prep\n",
    "del weapon_dummy_1\n",
    "\n",
    "gc.collect()"
   ]
  },
  {
   "cell_type": "markdown",
   "metadata": {
    "slideshow": {
     "slide_type": "slide"
    }
   },
   "source": [
    "#### B. Principle Component Analysis:\n",
    "##### Assessing the Overall DataFrame:"
   ]
  },
  {
   "cell_type": "code",
   "execution_count": 54,
   "metadata": {
    "slideshow": {
     "slide_type": "subslide"
    }
   },
   "outputs": [],
   "source": [
    "from sklearn.decomposition import PCA\n",
    "\n",
    "# Using the whole dataset (cyber_train_data):\n",
    "PCA_1 = PCA(n_components = 25)  # Tried 30 and 500\n",
    "cyber_train_PCA = PCA_1.fit_transform(cyber_train_dummy_X)  \n",
    "cyber_test_PCA = PCA_1.transform(cyber_test_dummy_X)"
   ]
  },
  {
   "cell_type": "markdown",
   "metadata": {
    "slideshow": {
     "slide_type": "slide"
    }
   },
   "source": [
    "##### Assessing Individual Features\n",
    "\n",
    "###### Group_name:"
   ]
  },
  {
   "cell_type": "code",
   "execution_count": 55,
   "metadata": {
    "slideshow": {
     "slide_type": "subslide"
    }
   },
   "outputs": [],
   "source": [
    "# Now looking at group_name values:\n",
    "PCA_name = PCA(n_components = 25) # Tried 30 and 150\n",
    "name_train_PCA = PCA_name.fit_transform(names_train_dummy_X)\n",
    "name_test_PCA = PCA_name.transform(names_test_dummy_X)"
   ]
  },
  {
   "cell_type": "markdown",
   "metadata": {
    "slideshow": {
     "slide_type": "skip"
    }
   },
   "source": [
    "###### City:"
   ]
  },
  {
   "cell_type": "code",
   "execution_count": 56,
   "metadata": {
    "slideshow": {
     "slide_type": "skip"
    }
   },
   "outputs": [],
   "source": [
    "# Then some city stuff:\n",
    "PCA_cities = PCA(n_components = 25) # Tried 30 and 150\n",
    "cities_train_PCA = PCA_cities.fit_transform(city_train_dummy_X)\n",
    "cities_test_PCA = PCA_cities.transform(city_test_dummy_X)"
   ]
  },
  {
   "cell_type": "markdown",
   "metadata": {
    "slideshow": {
     "slide_type": "skip"
    }
   },
   "source": [
    "###### Weapontxt:"
   ]
  },
  {
   "cell_type": "code",
   "execution_count": 57,
   "metadata": {
    "slideshow": {
     "slide_type": "skip"
    }
   },
   "outputs": [],
   "source": [
    "# Group_subweapon:\n",
    "PCA_weapon = PCA(n_components = 3)  # Tried 5\n",
    "weapon_train_PCA = PCA_weapon.fit_transform(weapon_train_dummy_X)\n",
    "weapon_test_PCA = PCA_weapon.transform(weapon_test_dummy_X)"
   ]
  },
  {
   "cell_type": "markdown",
   "metadata": {
    "slideshow": {
     "slide_type": "slide"
    }
   },
   "source": [
    "#### C. Creating Specified DF with Selected Features:\n",
    "\n",
    "##### DataFrame from KBest Algorithms:"
   ]
  },
  {
   "cell_type": "code",
   "execution_count": 58,
   "metadata": {
    "slideshow": {
     "slide_type": "subslide"
    }
   },
   "outputs": [],
   "source": [
    "# Training:\n",
    "alpha = pd.DataFrame(cyber_train_KBest1, columns = KBest_1_features[0])\n",
    "beta = pd.DataFrame(names_train_KBest, columns = KBest_names_features[0])\n",
    "gamma = pd.DataFrame(city_train_KBest, columns = KBest_city_features[0])\n",
    "delta = pd.DataFrame(weapon_train_KBest, columns = KBest_weapon_features[0])\n",
    "\n",
    "KBest_train_X = pd.concat([alpha, beta, gamma, delta], axis = 1)"
   ]
  },
  {
   "cell_type": "code",
   "execution_count": 59,
   "metadata": {
    "slideshow": {
     "slide_type": "skip"
    }
   },
   "outputs": [],
   "source": [
    "# Test:\n",
    "alpha2 = pd.DataFrame(cyber_test_KBest1, columns = KBest_1_features[0])\n",
    "beta2 = pd.DataFrame(names_test_KBest, columns = KBest_names_features[0])\n",
    "gamma2 = pd.DataFrame(city_test_KBest, columns = KBest_city_features[0])\n",
    "delta2 = pd.DataFrame(weapon_test_KBest, columns = KBest_weapon_features[0])\n",
    "\n",
    "KBest_test_X = pd.concat([alpha2, beta2, gamma2, delta2], axis = 1)"
   ]
  },
  {
   "cell_type": "code",
   "execution_count": 60,
   "metadata": {
    "slideshow": {
     "slide_type": "skip"
    }
   },
   "outputs": [
    {
     "data": {
      "text/plain": [
       "0"
      ]
     },
     "execution_count": 60,
     "metadata": {},
     "output_type": "execute_result"
    }
   ],
   "source": [
    "del alpha\n",
    "del beta\n",
    "del gamma\n",
    "del delta\n",
    "del alpha2\n",
    "del beta2\n",
    "del gamma2\n",
    "del delta2\n",
    "del cyber_train_KBest1\n",
    "del names_train_KBest\n",
    "del city_train_KBest\n",
    "del weapon_train_KBest\n",
    "del cyber_test_KBest1\n",
    "del names_test_KBest\n",
    "del city_test_KBest\n",
    "del weapon_test_KBest\n",
    "\n",
    "gc.collect()"
   ]
  },
  {
   "cell_type": "markdown",
   "metadata": {
    "slideshow": {
     "slide_type": "slide"
    }
   },
   "source": [
    "##### DataFrame from PCA:"
   ]
  },
  {
   "cell_type": "code",
   "execution_count": 61,
   "metadata": {
    "slideshow": {
     "slide_type": "subslide"
    }
   },
   "outputs": [],
   "source": [
    "# Training:\n",
    "cyber_train_PCA = pd.DataFrame(cyber_train_PCA)\n",
    "name_train_PCA = pd.DataFrame(name_train_PCA)\n",
    "cities_train_PCA = pd.DataFrame(cities_train_PCA)\n",
    "weapon_train_PCA = pd.DataFrame(weapon_train_PCA)\n",
    "\n",
    "PCA_train_X = pd.DataFrame()\n",
    "PCA_train_X = pd.concat([cyber_train_PCA, name_train_PCA, cities_train_PCA, weapon_train_PCA], axis = 1)"
   ]
  },
  {
   "cell_type": "code",
   "execution_count": 62,
   "metadata": {
    "slideshow": {
     "slide_type": "skip"
    }
   },
   "outputs": [],
   "source": [
    "# Test:\n",
    "cyber_test_PCA = pd.DataFrame(cyber_test_PCA)\n",
    "name_test_PCA = pd.DataFrame(name_test_PCA)\n",
    "cities_test_PCA = pd.DataFrame(cities_test_PCA)\n",
    "weapon_test_PCA = pd.DataFrame(weapon_test_PCA)\n",
    "\n",
    "PCA_test_X = pd.DataFrame()\n",
    "PCA_test_X = pd.concat([cyber_test_PCA, name_test_PCA, cities_test_PCA, weapon_test_PCA], axis = 1)"
   ]
  },
  {
   "cell_type": "code",
   "execution_count": 63,
   "metadata": {
    "slideshow": {
     "slide_type": "skip"
    }
   },
   "outputs": [
    {
     "data": {
      "text/plain": [
       "0"
      ]
     },
     "execution_count": 63,
     "metadata": {},
     "output_type": "execute_result"
    }
   ],
   "source": [
    "del cyber_train_PCA\n",
    "del name_train_PCA\n",
    "del cities_train_PCA\n",
    "del weapon_train_PCA\n",
    "del cyber_test_PCA\n",
    "del name_test_PCA\n",
    "del cities_test_PCA\n",
    "del weapon_test_PCA\n",
    "\n",
    "gc.collect()"
   ]
  },
  {
   "cell_type": "markdown",
   "metadata": {
    "slideshow": {
     "slide_type": "slide"
    }
   },
   "source": [
    "### 4. Preliminary Models:\n",
    "\n",
    "Starting with a simple Logistic Regression since our output feature is binary. Afterwards, we will move on to our Random Forest, Support Vector Classifier and Gradient Booster. We chose these models since they often work well with binary output features. These models will also be discussed below in more detail."
   ]
  },
  {
   "cell_type": "markdown",
   "metadata": {
    "slideshow": {
     "slide_type": "subslide"
    }
   },
   "source": [
    "#### Logistic Regression:\n",
    "\n",
    "##### KBest Features:"
   ]
  },
  {
   "cell_type": "code",
   "execution_count": 64,
   "metadata": {
    "slideshow": {
     "slide_type": "subslide"
    }
   },
   "outputs": [],
   "source": [
    "from sklearn.linear_model import LogisticRegression\n",
    "from sklearn.metrics import confusion_matrix, balanced_accuracy_score\n",
    "from sklearn.model_selection import cross_val_score\n",
    "\n",
    "KBest_logistic = LogisticRegression()\n",
    "\n",
    "KBest_logistic = KBest_logistic.fit(KBest_train_X, cyber_train_dummy_Y)\n",
    "KBest_logistic_train_pred_ = KBest_logistic.predict(KBest_train_X)\n",
    "KBest_logistic_test_pred_ = KBest_logistic.predict(KBest_test_X)\n",
    "\n",
    "# Evaluation:\n",
    "  # Confustion Matrices:    \n",
    "KBest_logistic_confusion_train = confusion_matrix(cyber_train_dummy_Y, KBest_logistic_train_pred_, labels = [0, 1])\n",
    "KBest_logistic_confusion_test = confusion_matrix(cyber_test_dummy_Y, KBest_logistic_test_pred_, labels = [0, 1])\n",
    "\n",
    "  # Cross-validation and train/test scores:\n",
    "KBest_logistic_cv = cross_val_score(KBest_logistic, KBest_train_X, cyber_train_dummy_Y, \n",
    "                                    scoring = 'balanced_accuracy', cv = 5)\n",
    "\n",
    "  # Looking at balanced accuracy/f1 scores:\n",
    "KBest_logistic_train = balanced_accuracy_score(cyber_train_dummy_Y, KBest_logistic_train_pred_)    \n",
    "KBest_logistic_test = balanced_accuracy_score(cyber_test_dummy_Y, KBest_logistic_test_pred_)    "
   ]
  },
  {
   "cell_type": "code",
   "execution_count": 65,
   "metadata": {
    "slideshow": {
     "slide_type": "subslide"
    }
   },
   "outputs": [
    {
     "name": "stdout",
     "output_type": "stream",
     "text": [
      "\n",
      "The mean cross-validation score is: 69.99% ±2.14%\n",
      "The cv scores are: [0.68281328 0.68430329 0.72779459 0.6802686  0.72417355]\n",
      "\n",
      "Training-Set Metrics:\n",
      "     0     1\n",
      "0  192   250\n",
      "1   46  4797\n",
      "\n",
      "False Positive/Type I Error: 250 (56.56%)\n",
      "False Negative/Type II Error: 46 (0.95%)\n",
      "Balanced Accuracy: 71.24%\n",
      "\n",
      "Test-Set Metrics:\n",
      "    0     1\n",
      "0  60   106\n",
      "1  15  1581\n",
      "\n",
      "False Positive/Type I Error: 106 (63.86%)\n",
      "False Negative/Type II Error: 15 (0.94%)\n",
      "Balanced Accuracy: 67.60%\n"
     ]
    }
   ],
   "source": [
    "plusminus = u\"\\u00B1\"\n",
    "print(\"\\nThe mean cross-validation score is: {:.2%} {}{:.2%}\".format(KBest_logistic_cv.mean(),\n",
    "                                                                     plusminus, KBest_logistic_cv.std()))\n",
    "print(\"The cv scores are: {}\".format(KBest_logistic_cv))\n",
    "\n",
    "conf_df = pd.DataFrame(KBest_logistic_confusion_train)\n",
    "\n",
    "FP = conf_df.loc[0, 1]\n",
    "FN = conf_df.loc[1, 0]\n",
    "NegT = conf_df.iloc[0].sum()\n",
    "PosT = conf_df.iloc[1].sum()\n",
    "\n",
    "print(\"\\nTraining-Set Metrics:\")\n",
    "print(conf_df)\n",
    "print('\\nFalse Positive/Type I Error: {} ({:.2%})'.format(FP, (FP / NegT)))\n",
    "print('False Negative/Type II Error: {} ({:.2%})'.format(FN, (FN / PosT)))\n",
    "print('Balanced Accuracy: {:.2%}\\n'.format(KBest_logistic_train))\n",
    "\n",
    "conf_df2 = pd.DataFrame(KBest_logistic_confusion_test)\n",
    "\n",
    "FP2 = conf_df2.loc[0, 1]\n",
    "FN2 = conf_df2.loc[1, 0]\n",
    "NegT2 = conf_df2.iloc[0].sum()\n",
    "PosT2 = conf_df2.iloc[1].sum()\n",
    "\n",
    "print(\"Test-Set Metrics:\")\n",
    "print(conf_df2)\n",
    "print('\\nFalse Positive/Type I Error: {} ({:.2%})'.format(FP2, (FP2 / NegT2)))\n",
    "print('False Negative/Type II Error: {} ({:.2%})'.format(FN2, (FN2 / PosT2)))\n",
    "print('Balanced Accuracy: {:.2%}'.format(KBest_logistic_test))"
   ]
  },
  {
   "cell_type": "code",
   "execution_count": 66,
   "metadata": {
    "slideshow": {
     "slide_type": "skip"
    }
   },
   "outputs": [
    {
     "data": {
      "text/plain": [
       "6"
      ]
     },
     "execution_count": 66,
     "metadata": {},
     "output_type": "execute_result"
    }
   ],
   "source": [
    "del KBest_logistic\n",
    "del KBest_logistic_train_pred_\n",
    "del KBest_logistic_test_pred_ \n",
    "del KBest_logistic_confusion_train\n",
    "del KBest_logistic_confusion_test\n",
    "del KBest_logistic_cv\n",
    "del KBest_logistic_train\n",
    "del KBest_logistic_test\n",
    "gc.collect()"
   ]
  },
  {
   "cell_type": "markdown",
   "metadata": {
    "slideshow": {
     "slide_type": "slide"
    }
   },
   "source": [
    "##### PCA Features:"
   ]
  },
  {
   "cell_type": "code",
   "execution_count": 67,
   "metadata": {
    "slideshow": {
     "slide_type": "subslide"
    }
   },
   "outputs": [],
   "source": [
    "PCA_logistic = LogisticRegression()\n",
    "\n",
    "PCA_logistic = PCA_logistic.fit(PCA_train_X, cyber_train_dummy_Y)\n",
    "PCA_logistic_train_pred_ = PCA_logistic.predict(PCA_train_X)\n",
    "PCA_logistic_test_pred_ = PCA_logistic.predict(PCA_test_X)\n",
    "\n",
    "# Evaluation:\n",
    "  # Confustion Matrices:    \n",
    "PCA_logistic_confusion_train = confusion_matrix(cyber_train_dummy_Y, PCA_logistic_train_pred_, labels = [0, 1])\n",
    "PCA_logistic_confusion_test = confusion_matrix(cyber_test_dummy_Y, PCA_logistic_test_pred_, labels = [0, 1])\n",
    "\n",
    "  # Cross-validation and train/test scores:\n",
    "PCA_logistic_cv = cross_val_score(PCA_logistic, PCA_train_X, cyber_train_dummy_Y,\n",
    "                                  scoring = 'balanced_accuracy', cv = 5)\n",
    "\n",
    "  # Looking at balanced accuracy/f1 scores:\n",
    "PCA_logistic_train = balanced_accuracy_score(cyber_train_dummy_Y, PCA_logistic_train_pred_)    \n",
    "PCA_logistic_test = balanced_accuracy_score(cyber_test_dummy_Y, PCA_logistic_test_pred_)    "
   ]
  },
  {
   "cell_type": "code",
   "execution_count": 68,
   "metadata": {
    "slideshow": {
     "slide_type": "subslide"
    }
   },
   "outputs": [
    {
     "name": "stdout",
     "output_type": "stream",
     "text": [
      "\n",
      "The mean cross-validation score is: 66.59% ±1.47%\n",
      "The cv scores are: [0.6536914  0.66079939 0.69163969 0.65134298 0.67200413]\n",
      "\n",
      "Training-Set Metrics:\n",
      "     0     1\n",
      "0  165   277\n",
      "1   55  4788\n",
      "\n",
      "False Positive/Type I Error: 277 (62.67%)\n",
      "False Negative/Type II Error: 55 (1.14%)\n",
      "Balanced Accuracy: 68.10%\n",
      "\n",
      "Test-Set Metrics:\n",
      "    0     1\n",
      "0  53   113\n",
      "1  18  1578\n",
      "\n",
      "False Positive/Type I Error: 113 (68.07%)\n",
      "False Negative/Type II Error: 18 (1.13%)\n",
      "Balanced Accuracy: 65.40%\n"
     ]
    }
   ],
   "source": [
    "plusminus = u\"\\u00B1\"\n",
    "print(\"\\nThe mean cross-validation score is: {:.2%} {}{:.2%}\".format(PCA_logistic_cv.mean(),\n",
    "                                                                     plusminus, PCA_logistic_cv.std()))\n",
    "print(\"The cv scores are: {}\".format(PCA_logistic_cv))\n",
    "\n",
    "conf_df = pd.DataFrame(PCA_logistic_confusion_train)\n",
    "\n",
    "FP = conf_df.loc[0, 1]\n",
    "FN = conf_df.loc[1, 0]\n",
    "NegT = conf_df.iloc[0].sum()\n",
    "PosT = conf_df.iloc[1].sum()\n",
    "\n",
    "print(\"\\nTraining-Set Metrics:\")\n",
    "print(conf_df)\n",
    "print('\\nFalse Positive/Type I Error: {} ({:.2%})'.format(FP, (FP / NegT)))\n",
    "print('False Negative/Type II Error: {} ({:.2%})'.format(FN, (FN / PosT)))\n",
    "print('Balanced Accuracy: {:.2%}\\n'.format(PCA_logistic_train))\n",
    "\n",
    "conf_df2 = pd.DataFrame(PCA_logistic_confusion_test)\n",
    "\n",
    "FP2 = conf_df2.loc[0, 1]\n",
    "FN2 = conf_df2.loc[1, 0]\n",
    "NegT2 = conf_df2.iloc[0].sum()\n",
    "PosT2 = conf_df2.iloc[1].sum()\n",
    "\n",
    "print(\"Test-Set Metrics:\")\n",
    "print(conf_df2)\n",
    "print('\\nFalse Positive/Type I Error: {} ({:.2%})'.format(FP2, (FP2 / NegT2)))\n",
    "print('False Negative/Type II Error: {} ({:.2%})'.format(FN2, (FN2 / PosT2)))\n",
    "print('Balanced Accuracy: {:.2%}'.format(PCA_logistic_test))"
   ]
  },
  {
   "cell_type": "markdown",
   "metadata": {
    "slideshow": {
     "slide_type": "subslide"
    }
   },
   "source": [
    "Now, while we do have some decent scores here, especially regarding the true positive predictions, we do have a class imbalance issue we will need to take into consideration (as demonstrated below).  One way of doing that will work on increasing the accuracy of our true negatives and focusing less on our true positives. It will also help to take into consideration our False Negatives and Positives. Lowering these will help strengthen our model and give us more predictive integrity.  In other words, we want to make sure we avoid as many False Negatives (i.e. instances where our model does not predict a terrorist attack, when instead one does, in fact, occur) as possible.  We also want to be sure we are keeping our False Positive count as low as possible since responding to predicted terrorist incidents when there are none will exhaust resources and employees - in turn taking away their energies from realistic threats. \n",
    "\n",
    "In order to do so, we have implemented the Balanced Accuracy score, which gives us an average of our False Negatives and Positives.  It allows us to consider another aspect of the model results outside of the training and test-set scores (which only allow us to see on aspect of a model's predictive results).  The Balanced Accuracy is a nice addition to the confusion matrix, which gives us the hard-numbers which are factored into the Balanced Accuracy score.  In assessing the models above along with those below, we will be looking at all of these evaluation methods in order to determine which model is the best and make our reasoning as well-rounded as possible. "
   ]
  },
  {
   "cell_type": "code",
   "execution_count": 69,
   "metadata": {
    "slideshow": {
     "slide_type": "skip"
    }
   },
   "outputs": [
    {
     "name": "stdout",
     "output_type": "stream",
     "text": [
      "1    4843\n",
      "0     442\n",
      "Name: success, dtype: int64\n",
      "1    1596\n",
      "0     166\n",
      "Name: success, dtype: int64\n"
     ]
    }
   ],
   "source": [
    "print(cyber_train_dummy_Y.success.value_counts())\n",
    "print(cyber_test_dummy_Y.success.value_counts())"
   ]
  },
  {
   "cell_type": "code",
   "execution_count": 70,
   "metadata": {
    "slideshow": {
     "slide_type": "skip"
    }
   },
   "outputs": [
    {
     "data": {
      "text/plain": [
       "28"
      ]
     },
     "execution_count": 70,
     "metadata": {},
     "output_type": "execute_result"
    }
   ],
   "source": [
    "del PCA_logistic\n",
    "del PCA_logistic_train_pred_\n",
    "del PCA_logistic_test_pred_ \n",
    "del PCA_logistic_confusion_train\n",
    "del PCA_logistic_confusion_test\n",
    "del PCA_logistic_cv\n",
    "del PCA_logistic_train\n",
    "del PCA_logistic_test\n",
    "gc.collect()"
   ]
  },
  {
   "cell_type": "markdown",
   "metadata": {
    "slideshow": {
     "slide_type": "skip"
    }
   },
   "source": [
    "#### Random Forest:\n",
    "\n",
    "##### KBest Features:"
   ]
  },
  {
   "cell_type": "code",
   "execution_count": 71,
   "metadata": {
    "slideshow": {
     "slide_type": "skip"
    }
   },
   "outputs": [],
   "source": [
    "from sklearn.ensemble import RandomForestClassifier\n",
    "\n",
    "KBest_forest = RandomForestClassifier(n_estimators = 30, max_depth = 12)\n",
    "\n",
    "KBest_forest = KBest_forest.fit(KBest_train_X, cyber_train_dummy_Y)\n",
    "KBest_forest_train_pred_ = KBest_forest.predict(KBest_train_X)\n",
    "KBest_forest_test_pred_ = KBest_forest.predict(KBest_test_X)\n",
    "\n",
    "# Evaluation:\n",
    "  # Confustion Matrices:    \n",
    "KBest_forest_confusion_train = confusion_matrix(cyber_train_dummy_Y, KBest_forest_train_pred_, labels = [0, 1])\n",
    "KBest_forest_confusion_test = confusion_matrix(cyber_test_dummy_Y, KBest_forest_test_pred_, labels = [0, 1])\n",
    "\n",
    "  # Cross-validation and train/test scores:\n",
    "KBest_forest_cv = cross_val_score(KBest_forest, KBest_train_X, cyber_train_dummy_Y, \n",
    "                                  scoring = 'balanced_accuracy', cv = 5)\n",
    "\n",
    "  # Looking at balanced accuracy/f1 scores:\n",
    "KBest_forest_train = balanced_accuracy_score(cyber_train_dummy_Y, KBest_forest_train_pred_)    \n",
    "KBest_forest_test = balanced_accuracy_score(cyber_test_dummy_Y, KBest_forest_test_pred_)    \n",
    "    "
   ]
  },
  {
   "cell_type": "code",
   "execution_count": 72,
   "metadata": {
    "slideshow": {
     "slide_type": "skip"
    }
   },
   "outputs": [
    {
     "name": "stdout",
     "output_type": "stream",
     "text": [
      "\n",
      "The mean cross-validation score is: 68.13% ±1.95%\n",
      "The cv scores are: [0.64858942 0.67461532 0.70506731 0.68181818 0.69628099]\n",
      "\n",
      "Training-Set Metrics:\n",
      "     0     1\n",
      "0  201   241\n",
      "1   40  4803\n",
      "\n",
      "False Positive/Type I Error: 241 (54.52%)\n",
      "False Negative/Type II Error: 40 (0.83%)\n",
      "Balanced Accuracy: 72.32%\n",
      "\n",
      "Test-Set Metrics:\n",
      "    0     1\n",
      "0  62   104\n",
      "1  14  1582\n",
      "\n",
      "False Positive/Type I Error: 104 (62.65%)\n",
      "False Negative/Type II Error: 14 (0.88%)\n",
      "Balanced Accuracy: 68.24%\n",
      "\n",
      "\n",
      "Feature Importances:\n",
      "\n"
     ]
    },
    {
     "data": {
      "text/html": [
       "<div>\n",
       "<style scoped>\n",
       "    .dataframe tbody tr th:only-of-type {\n",
       "        vertical-align: middle;\n",
       "    }\n",
       "\n",
       "    .dataframe tbody tr th {\n",
       "        vertical-align: top;\n",
       "    }\n",
       "\n",
       "    .dataframe thead th {\n",
       "        text-align: right;\n",
       "    }\n",
       "</style>\n",
       "<table border=\"1\" class=\"dataframe\">\n",
       "  <thead>\n",
       "    <tr style=\"text-align: right;\">\n",
       "      <th></th>\n",
       "      <th>Importances</th>\n",
       "    </tr>\n",
       "    <tr>\n",
       "      <th>0</th>\n",
       "      <th></th>\n",
       "    </tr>\n",
       "  </thead>\n",
       "  <tbody>\n",
       "    <tr>\n",
       "      <th>attack_1txt_Assassination</th>\n",
       "      <td>0.35</td>\n",
       "    </tr>\n",
       "    <tr>\n",
       "      <th>Explosives</th>\n",
       "      <td>0.16</td>\n",
       "    </tr>\n",
       "    <tr>\n",
       "      <th>attack_1txt_Bombing/Explosion</th>\n",
       "      <td>0.07</td>\n",
       "    </tr>\n",
       "    <tr>\n",
       "      <th>sub_weapontxt_Other Explosive Type</th>\n",
       "      <td>0.05</td>\n",
       "    </tr>\n",
       "    <tr>\n",
       "      <th>Unknown</th>\n",
       "      <td>0.03</td>\n",
       "    </tr>\n",
       "    <tr>\n",
       "      <th>sub_targettxt_Gov_Figure1</th>\n",
       "      <td>0.03</td>\n",
       "    </tr>\n",
       "    <tr>\n",
       "      <th>country_txt_Ireland</th>\n",
       "      <td>0.02</td>\n",
       "    </tr>\n",
       "    <tr>\n",
       "      <th>corp1_Election Commission of India</th>\n",
       "      <td>0.02</td>\n",
       "    </tr>\n",
       "    <tr>\n",
       "      <th>Armed Commandos of Liberation</th>\n",
       "      <td>0.01</td>\n",
       "    </tr>\n",
       "    <tr>\n",
       "      <th>Thoubal</th>\n",
       "      <td>0.01</td>\n",
       "    </tr>\n",
       "    <tr>\n",
       "      <th>Smile</th>\n",
       "      <td>0.01</td>\n",
       "    </tr>\n",
       "    <tr>\n",
       "      <th>Peshawar</th>\n",
       "      <td>0.01</td>\n",
       "    </tr>\n",
       "    <tr>\n",
       "      <th>Maoists</th>\n",
       "      <td>0.01</td>\n",
       "    </tr>\n",
       "    <tr>\n",
       "      <th>Dublin</th>\n",
       "      <td>0.01</td>\n",
       "    </tr>\n",
       "    <tr>\n",
       "      <th>Tral</th>\n",
       "      <td>0.01</td>\n",
       "    </tr>\n",
       "    <tr>\n",
       "      <th>Middle_Eastern_Religious</th>\n",
       "      <td>0.01</td>\n",
       "    </tr>\n",
       "    <tr>\n",
       "      <th>Belfast</th>\n",
       "      <td>0.01</td>\n",
       "    </tr>\n",
       "    <tr>\n",
       "      <th>Aguada</th>\n",
       "      <td>0.01</td>\n",
       "    </tr>\n",
       "    <tr>\n",
       "      <th>victim_nationalitytxt_Ireland</th>\n",
       "      <td>0.01</td>\n",
       "    </tr>\n",
       "    <tr>\n",
       "      <th>country_txt_Germany</th>\n",
       "      <td>0.01</td>\n",
       "    </tr>\n",
       "    <tr>\n",
       "      <th>sub_weapontxt_Pipe Bomb</th>\n",
       "      <td>0.01</td>\n",
       "    </tr>\n",
       "    <tr>\n",
       "      <th>attack_1txt_Hostage Taking (Kidnapping)</th>\n",
       "      <td>0.01</td>\n",
       "    </tr>\n",
       "    <tr>\n",
       "      <th>corp1_Unified Communist Party of Nepal: Maoist (UCPN-M)</th>\n",
       "      <td>0.01</td>\n",
       "    </tr>\n",
       "    <tr>\n",
       "      <th>target_1txt_Government (General)</th>\n",
       "      <td>0.01</td>\n",
       "    </tr>\n",
       "    <tr>\n",
       "      <th>corp1_Tehrik-e-Taliban Pakistan</th>\n",
       "      <td>0.01</td>\n",
       "    </tr>\n",
       "    <tr>\n",
       "      <th>target_1txt_Private Citizens &amp; Property</th>\n",
       "      <td>0.01</td>\n",
       "    </tr>\n",
       "    <tr>\n",
       "      <th>sub_targettxt_Political</th>\n",
       "      <td>0.01</td>\n",
       "    </tr>\n",
       "    <tr>\n",
       "      <th>Incendiary</th>\n",
       "      <td>0.01</td>\n",
       "    </tr>\n",
       "    <tr>\n",
       "      <th>corp1_Not Applicable</th>\n",
       "      <td>0.01</td>\n",
       "    </tr>\n",
       "    <tr>\n",
       "      <th>Faizabad</th>\n",
       "      <td>0.00</td>\n",
       "    </tr>\n",
       "    <tr>\n",
       "      <th>Baharak district</th>\n",
       "      <td>0.00</td>\n",
       "    </tr>\n",
       "    <tr>\n",
       "      <th>Belauri</th>\n",
       "      <td>0.00</td>\n",
       "    </tr>\n",
       "    <tr>\n",
       "      <th>Belbari</th>\n",
       "      <td>0.00</td>\n",
       "    </tr>\n",
       "    <tr>\n",
       "      <th>Dhaka</th>\n",
       "      <td>0.00</td>\n",
       "    </tr>\n",
       "    <tr>\n",
       "      <th>Doaba</th>\n",
       "      <td>0.00</td>\n",
       "    </tr>\n",
       "    <tr>\n",
       "      <th>Tirap district</th>\n",
       "      <td>0.00</td>\n",
       "    </tr>\n",
       "    <tr>\n",
       "      <th>Tigzirt</th>\n",
       "      <td>0.00</td>\n",
       "    </tr>\n",
       "    <tr>\n",
       "      <th>Imphal</th>\n",
       "      <td>0.00</td>\n",
       "    </tr>\n",
       "    <tr>\n",
       "      <th>Pagadian</th>\n",
       "      <td>0.00</td>\n",
       "    </tr>\n",
       "    <tr>\n",
       "      <th>Zhutovi</th>\n",
       "      <td>0.00</td>\n",
       "    </tr>\n",
       "    <tr>\n",
       "      <th>Zhavoronki</th>\n",
       "      <td>0.00</td>\n",
       "    </tr>\n",
       "    <tr>\n",
       "      <th>Staaken</th>\n",
       "      <td>0.00</td>\n",
       "    </tr>\n",
       "    <tr>\n",
       "      <th>Thouda Bhabok Leikai</th>\n",
       "      <td>0.00</td>\n",
       "    </tr>\n",
       "    <tr>\n",
       "      <th>Tibu</th>\n",
       "      <td>0.00</td>\n",
       "    </tr>\n",
       "    <tr>\n",
       "      <th>The World United Formosans for Independence (WUFI)</th>\n",
       "      <td>0.00</td>\n",
       "    </tr>\n",
       "    <tr>\n",
       "      <th>Tunga</th>\n",
       "      <td>0.00</td>\n",
       "    </tr>\n",
       "    <tr>\n",
       "      <th>Tuddingan</th>\n",
       "      <td>0.00</td>\n",
       "    </tr>\n",
       "    <tr>\n",
       "      <th>Frankfurt</th>\n",
       "      <td>0.00</td>\n",
       "    </tr>\n",
       "    <tr>\n",
       "      <th>Muslim Brotherhood</th>\n",
       "      <td>0.00</td>\n",
       "    </tr>\n",
       "    <tr>\n",
       "      <th>Tehrik-e-Nifaz-e-Aman Balochistan-Jhalawan Brigade (TNAB-Jhalawan Brigade)</th>\n",
       "      <td>0.00</td>\n",
       "    </tr>\n",
       "    <tr>\n",
       "      <th>Communist Party of Nepal-Maoist (Baidya)</th>\n",
       "      <td>0.00</td>\n",
       "    </tr>\n",
       "    <tr>\n",
       "      <th>sub_targettxt_Unnamed Civilian/Unspecified</th>\n",
       "      <td>0.00</td>\n",
       "    </tr>\n",
       "    <tr>\n",
       "      <th>corp1_Pakistani Ministry of Education, Trainings and Standards in Higher Education</th>\n",
       "      <td>0.00</td>\n",
       "    </tr>\n",
       "    <tr>\n",
       "      <th>corp1_Puerto Rican telecommunications facility</th>\n",
       "      <td>0.00</td>\n",
       "    </tr>\n",
       "    <tr>\n",
       "      <th>corp1_Staaken</th>\n",
       "      <td>0.00</td>\n",
       "    </tr>\n",
       "    <tr>\n",
       "      <th>specific_target_A police chief</th>\n",
       "      <td>0.00</td>\n",
       "    </tr>\n",
       "    <tr>\n",
       "      <th>specific_target_Adviser to Prime Minister: Amir Muqam</th>\n",
       "      <td>0.00</td>\n",
       "    </tr>\n",
       "    <tr>\n",
       "      <th>specific_target_Chair: Pushpa Kamal Dahal Prachanda</th>\n",
       "      <td>0.00</td>\n",
       "    </tr>\n",
       "    <tr>\n",
       "      <th>specific_target_Private Residence</th>\n",
       "      <td>0.00</td>\n",
       "    </tr>\n",
       "    <tr>\n",
       "      <th>specific_target_Unidentified Village Chairperson</th>\n",
       "      <td>0.00</td>\n",
       "    </tr>\n",
       "    <tr>\n",
       "      <th>Besi Merah Putih Militia</th>\n",
       "      <td>0.00</td>\n",
       "    </tr>\n",
       "    <tr>\n",
       "      <th>Black Liberation Army</th>\n",
       "      <td>0.00</td>\n",
       "    </tr>\n",
       "    <tr>\n",
       "      <th>Communist Party of Nepal - Maoist (CPN-Maoist-Chand)</th>\n",
       "      <td>0.00</td>\n",
       "    </tr>\n",
       "    <tr>\n",
       "      <th>Conspiracy of Cells of Fire</th>\n",
       "      <td>0.00</td>\n",
       "    </tr>\n",
       "    <tr>\n",
       "      <th>Salafi Abu-Bakr al-Siddiq Army</th>\n",
       "      <td>0.00</td>\n",
       "    </tr>\n",
       "    <tr>\n",
       "      <th>Dima Halao Daoga (DHD)</th>\n",
       "      <td>0.00</td>\n",
       "    </tr>\n",
       "    <tr>\n",
       "      <th>Hekla Reception Committee-Initiative for More Social Eruptions</th>\n",
       "      <td>0.00</td>\n",
       "    </tr>\n",
       "    <tr>\n",
       "      <th>Informal Anarchist Federation</th>\n",
       "      <td>0.00</td>\n",
       "    </tr>\n",
       "    <tr>\n",
       "      <th>Irish_Separatists</th>\n",
       "      <td>0.00</td>\n",
       "    </tr>\n",
       "    <tr>\n",
       "      <th>Madhesh Rastra Janatantrik Revolutionary (RJR) - Nepal</th>\n",
       "      <td>0.00</td>\n",
       "    </tr>\n",
       "    <tr>\n",
       "      <th>Maoist Communist Party of Manipur</th>\n",
       "      <td>0.00</td>\n",
       "    </tr>\n",
       "    <tr>\n",
       "      <th>National Socialist Council of Nagaland</th>\n",
       "      <td>0.00</td>\n",
       "    </tr>\n",
       "    <tr>\n",
       "      <th>Popular Resistance (Laiki Antistasi)</th>\n",
       "      <td>0.00</td>\n",
       "    </tr>\n",
       "    <tr>\n",
       "      <th>Pro Hartal Activists</th>\n",
       "      <td>0.00</td>\n",
       "    </tr>\n",
       "    <tr>\n",
       "      <th>Revolutionary Cells-Animal Liberation Brigade</th>\n",
       "      <td>0.00</td>\n",
       "    </tr>\n",
       "    <tr>\n",
       "      <th>Revolutionary Struggle</th>\n",
       "      <td>0.00</td>\n",
       "    </tr>\n",
       "    <tr>\n",
       "      <th>Riyadus-Salikhin Reconnaissance and Sabotage Battalion of Chechen Martyrs</th>\n",
       "      <td>0.00</td>\n",
       "    </tr>\n",
       "    <tr>\n",
       "      <th>Melee</th>\n",
       "      <td>0.00</td>\n",
       "    </tr>\n",
       "  </tbody>\n",
       "</table>\n",
       "</div>"
      ],
      "text/plain": [
       "                                                    Importances\n",
       "0                                                              \n",
       "attack_1txt_Assassination                                  0.35\n",
       "Explosives                                                 0.16\n",
       "attack_1txt_Bombing/Explosion                              0.07\n",
       "sub_weapontxt_Other Explosive Type                         0.05\n",
       "Unknown                                                    0.03\n",
       "sub_targettxt_Gov_Figure1                                  0.03\n",
       "country_txt_Ireland                                        0.02\n",
       "corp1_Election Commission of India                         0.02\n",
       "Armed Commandos of Liberation                              0.01\n",
       "Thoubal                                                    0.01\n",
       "Smile                                                      0.01\n",
       "Peshawar                                                   0.01\n",
       "Maoists                                                    0.01\n",
       "Dublin                                                     0.01\n",
       "Tral                                                       0.01\n",
       "Middle_Eastern_Religious                                   0.01\n",
       "Belfast                                                    0.01\n",
       "Aguada                                                     0.01\n",
       "victim_nationalitytxt_Ireland                              0.01\n",
       "country_txt_Germany                                        0.01\n",
       "sub_weapontxt_Pipe Bomb                                    0.01\n",
       "attack_1txt_Hostage Taking (Kidnapping)                    0.01\n",
       "corp1_Unified Communist Party of Nepal: Maoist ...         0.01\n",
       "target_1txt_Government (General)                           0.01\n",
       "corp1_Tehrik-e-Taliban Pakistan                            0.01\n",
       "target_1txt_Private Citizens & Property                    0.01\n",
       "sub_targettxt_Political                                    0.01\n",
       "Incendiary                                                 0.01\n",
       "corp1_Not Applicable                                       0.01\n",
       "Faizabad                                                   0.00\n",
       "Baharak district                                           0.00\n",
       "Belauri                                                    0.00\n",
       "Belbari                                                    0.00\n",
       "Dhaka                                                      0.00\n",
       "Doaba                                                      0.00\n",
       "Tirap district                                             0.00\n",
       "Tigzirt                                                    0.00\n",
       "Imphal                                                     0.00\n",
       "Pagadian                                                   0.00\n",
       "Zhutovi                                                    0.00\n",
       "Zhavoronki                                                 0.00\n",
       "Staaken                                                    0.00\n",
       "Thouda Bhabok Leikai                                       0.00\n",
       "Tibu                                                       0.00\n",
       "The World United Formosans for Independence (WUFI)         0.00\n",
       "Tunga                                                      0.00\n",
       "Tuddingan                                                  0.00\n",
       "Frankfurt                                                  0.00\n",
       "Muslim Brotherhood                                         0.00\n",
       "Tehrik-e-Nifaz-e-Aman Balochistan-Jhalawan Brig...         0.00\n",
       "Communist Party of Nepal-Maoist (Baidya)                   0.00\n",
       "sub_targettxt_Unnamed Civilian/Unspecified                 0.00\n",
       "corp1_Pakistani Ministry of Education, Training...         0.00\n",
       "corp1_Puerto Rican telecommunications facility             0.00\n",
       "corp1_Staaken                                              0.00\n",
       "specific_target_A police chief                             0.00\n",
       "specific_target_Adviser to Prime Minister: Amir...         0.00\n",
       "specific_target_Chair: Pushpa Kamal Dahal Prach...         0.00\n",
       "specific_target_Private Residence                          0.00\n",
       "specific_target_Unidentified Village Chairperson           0.00\n",
       "Besi Merah Putih Militia                                   0.00\n",
       "Black Liberation Army                                      0.00\n",
       "Communist Party of Nepal - Maoist (CPN-Maoist-C...         0.00\n",
       "Conspiracy of Cells of Fire                                0.00\n",
       "Salafi Abu-Bakr al-Siddiq Army                             0.00\n",
       "Dima Halao Daoga (DHD)                                     0.00\n",
       "Hekla Reception Committee-Initiative for More S...         0.00\n",
       "Informal Anarchist Federation                              0.00\n",
       "Irish_Separatists                                          0.00\n",
       "Madhesh Rastra Janatantrik Revolutionary (RJR) ...         0.00\n",
       "Maoist Communist Party of Manipur                          0.00\n",
       "National Socialist Council of Nagaland                     0.00\n",
       "Popular Resistance (Laiki Antistasi)                       0.00\n",
       "Pro Hartal Activists                                       0.00\n",
       "Revolutionary Cells-Animal Liberation Brigade              0.00\n",
       "Revolutionary Struggle                                     0.00\n",
       "Riyadus-Salikhin Reconnaissance and Sabotage Ba...         0.00\n",
       "Melee                                                      0.00"
      ]
     },
     "metadata": {},
     "output_type": "display_data"
    }
   ],
   "source": [
    "plusminus = u\"\\u00B1\"\n",
    "print(\"\\nThe mean cross-validation score is: {:.2%} {}{:.2%}\".format(KBest_forest_cv.mean(),\n",
    "                                                                     plusminus, KBest_forest_cv.std()))\n",
    "print(\"The cv scores are: {}\".format(KBest_forest_cv))\n",
    "\n",
    "conf_df = pd.DataFrame(KBest_forest_confusion_train)\n",
    "\n",
    "FP = conf_df.loc[0, 1]\n",
    "FN = conf_df.loc[1, 0]\n",
    "NegT = conf_df.iloc[0].sum()\n",
    "PosT = conf_df.iloc[1].sum()\n",
    "\n",
    "print(\"\\nTraining-Set Metrics:\")\n",
    "print(conf_df)\n",
    "print('\\nFalse Positive/Type I Error: {} ({:.2%})'.format(FP, (FP / NegT)))\n",
    "print('False Negative/Type II Error: {} ({:.2%})'.format(FN, (FN / PosT)))\n",
    "print('Balanced Accuracy: {:.2%}\\n'.format(KBest_forest_train))\n",
    "\n",
    "conf_df2 = pd.DataFrame(KBest_forest_confusion_test)\n",
    "\n",
    "FP2 = conf_df2.loc[0, 1]\n",
    "FN2 = conf_df2.loc[1, 0]\n",
    "NegT2 = conf_df2.iloc[0].sum()\n",
    "PosT2 = conf_df2.iloc[1].sum()\n",
    "\n",
    "print(\"Test-Set Metrics:\")\n",
    "print(conf_df2)\n",
    "print('\\nFalse Positive/Type I Error: {} ({:.2%})'.format(FP2, (FP2 / NegT2)))\n",
    "print('False Negative/Type II Error: {} ({:.2%})'.format(FN2, (FN2 / PosT2)))\n",
    "print('Balanced Accuracy: {:.2%}'.format(KBest_forest_test))\n",
    "\n",
    "print('\\n\\nFeature Importances:\\n')\n",
    "feat_imp = pd.DataFrame(KBest_forest.feature_importances_.round(2), index = KBest_train_X.columns, \n",
    "                        columns = [\"Importances\"])\n",
    "display(feat_imp.sort_values('Importances', ascending = False))"
   ]
  },
  {
   "cell_type": "code",
   "execution_count": 73,
   "metadata": {
    "slideshow": {
     "slide_type": "skip"
    }
   },
   "outputs": [
    {
     "data": {
      "text/plain": [
       "34"
      ]
     },
     "execution_count": 73,
     "metadata": {},
     "output_type": "execute_result"
    }
   ],
   "source": [
    "del KBest_forest\n",
    "del KBest_forest_train_pred_\n",
    "del KBest_forest_test_pred_ \n",
    "del KBest_forest_confusion_train\n",
    "del KBest_forest_confusion_test\n",
    "del KBest_forest_cv\n",
    "del KBest_forest_train\n",
    "del KBest_forest_test\n",
    "gc.collect()"
   ]
  },
  {
   "cell_type": "markdown",
   "metadata": {
    "slideshow": {
     "slide_type": "skip"
    }
   },
   "source": [
    "##### PCA Features"
   ]
  },
  {
   "cell_type": "code",
   "execution_count": 74,
   "metadata": {
    "slideshow": {
     "slide_type": "skip"
    }
   },
   "outputs": [],
   "source": [
    "PCA_forest = RandomForestClassifier()\n",
    "\n",
    "PCA_forest = PCA_forest.fit(PCA_train_X, cyber_train_dummy_Y)\n",
    "PCA_forest_train_pred_ = PCA_forest.predict(PCA_train_X)\n",
    "PCA_forest_test_pred_ = PCA_forest.predict(PCA_test_X)\n",
    "\n",
    "# Evaluation:\n",
    "  # Confusion Matrices:\n",
    "PCA_forest_confusion_train = confusion_matrix(cyber_train_dummy_Y, PCA_forest_train_pred_, labels = [0, 1])\n",
    "PCA_forest_confusion_test = confusion_matrix(cyber_test_dummy_Y, PCA_forest_test_pred_, labels = [0, 1])\n",
    "\n",
    "  # Cross-validation and train/test scores:\n",
    "PCA_forest_cv = cross_val_score(PCA_forest, PCA_train_X, cyber_train_dummy_Y, \n",
    "                                scoring = 'balanced_accuracy', cv = 5)\n",
    "\n",
    "  # Looking and balanced accuracy/f1 scores:\n",
    "PCA_forest_train = balanced_accuracy_score(cyber_train_dummy_Y, PCA_forest_train_pred_)    \n",
    "PCA_forest_test = balanced_accuracy_score(cyber_test_dummy_Y, PCA_forest_test_pred_)    "
   ]
  },
  {
   "cell_type": "code",
   "execution_count": 75,
   "metadata": {
    "scrolled": true,
    "slideshow": {
     "slide_type": "skip"
    }
   },
   "outputs": [
    {
     "name": "stdout",
     "output_type": "stream",
     "text": [
      "\n",
      "The mean cross-validation score is: 67.62% ±0.28%\n",
      "The cv scores are: [0.67151935 0.67914333 0.6751161  0.67871901 0.67665289]\n",
      "\n",
      "Training-Set Metrics:\n",
      "     0     1\n",
      "0  418    24\n",
      "1   13  4830\n",
      "\n",
      "False Positive/Type I Error: 24 (5.43%)\n",
      "False Negative/Type II Error: 13 (0.27%)\n",
      "Balanced Accuracy: 97.15%\n",
      "\n",
      "Test-Set Metrics:\n",
      "    0     1\n",
      "0  65   101\n",
      "1  33  1563\n",
      "\n",
      "False Positive/Type I Error: 101 (60.84%)\n",
      "False Negative/Type II Error: 33 (2.07%)\n",
      "Balanced Accuracy: 68.54%\n"
     ]
    }
   ],
   "source": [
    "plusminus = u\"\\u00B1\"\n",
    "print(\"\\nThe mean cross-validation score is: {:.2%} {}{:.2%}\".format(PCA_forest_cv.mean(),\n",
    "                                                                     plusminus, PCA_forest_cv.std()))\n",
    "print(\"The cv scores are: {}\".format(PCA_forest_cv))\n",
    "\n",
    "conf_df = pd.DataFrame(PCA_forest_confusion_train)\n",
    "\n",
    "FP = conf_df.loc[0, 1]\n",
    "FN = conf_df.loc[1, 0]\n",
    "NegT = conf_df.iloc[0].sum()\n",
    "PosT = conf_df.iloc[1].sum()\n",
    "\n",
    "print(\"\\nTraining-Set Metrics:\")\n",
    "print(conf_df)\n",
    "print('\\nFalse Positive/Type I Error: {} ({:.2%})'.format(FP, (FP / NegT)))\n",
    "print('False Negative/Type II Error: {} ({:.2%})'.format(FN, (FN / PosT)))\n",
    "print('Balanced Accuracy: {:.2%}\\n'.format(PCA_forest_train))\n",
    "\n",
    "conf_df2 = pd.DataFrame(PCA_forest_confusion_test)\n",
    "\n",
    "FP2 = conf_df2.loc[0, 1]\n",
    "FN2 = conf_df2.loc[1, 0]\n",
    "NegT2 = conf_df2.iloc[0].sum()\n",
    "PosT2 = conf_df2.iloc[1].sum()\n",
    "\n",
    "print(\"Test-Set Metrics:\")\n",
    "print(conf_df2)\n",
    "print('\\nFalse Positive/Type I Error: {} ({:.2%})'.format(FP2, (FP2 / NegT2)))\n",
    "print('False Negative/Type II Error: {} ({:.2%})'.format(FN2, (FN2 / PosT2)))\n",
    "print('Balanced Accuracy: {:.2%}'.format(PCA_forest_test))\n"
   ]
  },
  {
   "cell_type": "markdown",
   "metadata": {
    "slideshow": {
     "slide_type": "skip"
    }
   },
   "source": [
    "Here, we can see quite a bit of over-fitting given that the training score and balanced accuracy scores are nearly perfect, while the test score is about 5 percentage points lower than the training score and over 20 points below the balanced accuracy (a drastic difference compared to what we have seen thus far). The nice aspect about the Random Forest, however, is that it lets us look into the feature importances which were used in creating the model, which we saw in the KBest model above."
   ]
  },
  {
   "cell_type": "code",
   "execution_count": 76,
   "metadata": {
    "slideshow": {
     "slide_type": "skip"
    }
   },
   "outputs": [
    {
     "data": {
      "text/plain": [
       "94"
      ]
     },
     "execution_count": 76,
     "metadata": {},
     "output_type": "execute_result"
    }
   ],
   "source": [
    "del PCA_forest\n",
    "del PCA_forest_train_pred_\n",
    "del PCA_forest_test_pred_ \n",
    "del PCA_forest_confusion_train\n",
    "del PCA_forest_confusion_test\n",
    "del PCA_forest_cv\n",
    "del PCA_forest_train\n",
    "del PCA_forest_test\n",
    "gc.collect()"
   ]
  },
  {
   "cell_type": "markdown",
   "metadata": {
    "slideshow": {
     "slide_type": "slide"
    }
   },
   "source": [
    "#### Support Vector Classifier:\n",
    "\n",
    "##### KBest Features:"
   ]
  },
  {
   "cell_type": "code",
   "execution_count": 77,
   "metadata": {
    "slideshow": {
     "slide_type": "subslide"
    }
   },
   "outputs": [],
   "source": [
    "from sklearn.svm import SVC\n",
    "\n",
    "KBest_SVC = SVC()\n",
    "\n",
    "KBest_SVC = KBest_SVC.fit(KBest_train_X, cyber_train_dummy_Y)\n",
    "KBest_SVC_train_pred_ = KBest_SVC.predict(KBest_train_X)\n",
    "KBest_SVC_test_pred_ = KBest_SVC.predict(KBest_test_X)\n",
    "\n",
    "# Evaluation:\n",
    "  # Confusion matrices:\n",
    "KBest_SVC_confusion_train = confusion_matrix(cyber_train_dummy_Y, KBest_SVC_train_pred_, labels = [0, 1])\n",
    "KBest_SVC_confusion_test = confusion_matrix(cyber_test_dummy_Y, KBest_SVC_test_pred_, labels = [0, 1])\n",
    "\n",
    "  # Cross-validation and train/test scores:\n",
    "KBest_SVC_cv = cross_val_score(KBest_SVC, KBest_train_X, cyber_train_dummy_Y, \n",
    "                               scoring = 'balanced_accuracy', cv = 5)\n",
    "\n",
    "  # Looking at balanced accuracy/f1 scores:\n",
    "KBest_SVC_train = balanced_accuracy_score(cyber_train_dummy_Y, KBest_SVC_train_pred_)\n",
    "KBest_SVC_test = balanced_accuracy_score(cyber_test_dummy_Y, KBest_SVC_test_pred_)    "
   ]
  },
  {
   "cell_type": "code",
   "execution_count": 78,
   "metadata": {
    "slideshow": {
     "slide_type": "subslide"
    }
   },
   "outputs": [
    {
     "name": "stdout",
     "output_type": "stream",
     "text": [
      "\n",
      "The mean cross-validation score is: 53.28% ±4.74%\n",
      "The cv scores are: [0.50561798 0.62405352 0.5        0.53409091 0.5       ]\n",
      "\n",
      "Training-Set Metrics:\n",
      "     0     1\n",
      "0  157   285\n",
      "1   39  4804\n",
      "\n",
      "False Positive/Type I Error: 285 (64.48%)\n",
      "False Negative/Type II Error: 39 (0.81%)\n",
      "Balanced Accuracy: 67.36%\n",
      "\n",
      "Test-Set Metrics:\n",
      "    0     1\n",
      "0  50   116\n",
      "1  10  1586\n",
      "\n",
      "False Positive/Type I Error: 116 (69.88%)\n",
      "False Negative/Type II Error: 10 (0.63%)\n",
      "Balanced Accuracy: 64.75%\n"
     ]
    }
   ],
   "source": [
    "plusminus = u\"\\u00B1\"\n",
    "print(\"\\nThe mean cross-validation score is: {:.2%} {}{:.2%}\".format(KBest_SVC_cv.mean(),\n",
    "                                                                     plusminus, KBest_SVC_cv.std()))\n",
    "print(\"The cv scores are: {}\".format(KBest_SVC_cv))\n",
    "\n",
    "conf_df = pd.DataFrame(KBest_SVC_confusion_train)\n",
    "\n",
    "FP = conf_df.loc[0, 1]\n",
    "FN = conf_df.loc[1, 0]\n",
    "NegT = conf_df.iloc[0].sum()\n",
    "PosT = conf_df.iloc[1].sum()\n",
    "\n",
    "print(\"\\nTraining-Set Metrics:\")\n",
    "print(conf_df)\n",
    "print('\\nFalse Positive/Type I Error: {} ({:.2%})'.format(FP, (FP / NegT)))\n",
    "print('False Negative/Type II Error: {} ({:.2%})'.format(FN, (FN / PosT)))\n",
    "print('Balanced Accuracy: {:.2%}\\n'.format(KBest_SVC_train))\n",
    "\n",
    "conf_df2 = pd.DataFrame(KBest_SVC_confusion_test)\n",
    "\n",
    "FP2 = conf_df2.loc[0, 1]\n",
    "FN2 = conf_df2.loc[1, 0]\n",
    "NegT2 = conf_df2.iloc[0].sum()\n",
    "PosT2 = conf_df2.iloc[1].sum()\n",
    "\n",
    "print(\"Test-Set Metrics:\")\n",
    "print(conf_df2)\n",
    "print('\\nFalse Positive/Type I Error: {} ({:.2%})'.format(FP2, (FP2 / NegT2)))\n",
    "print('False Negative/Type II Error: {} ({:.2%})'.format(FN2, (FN2 / PosT2)))\n",
    "print('Balanced Accuracy: {:.2%}'.format(KBest_SVC_test))"
   ]
  },
  {
   "cell_type": "code",
   "execution_count": 79,
   "metadata": {
    "slideshow": {
     "slide_type": "skip"
    }
   },
   "outputs": [
    {
     "data": {
      "text/plain": [
       "28"
      ]
     },
     "execution_count": 79,
     "metadata": {},
     "output_type": "execute_result"
    }
   ],
   "source": [
    "del KBest_SVC\n",
    "del KBest_SVC_train_pred_\n",
    "del KBest_SVC_test_pred_ \n",
    "del KBest_SVC_confusion_train\n",
    "del KBest_SVC_confusion_test\n",
    "del KBest_SVC_cv\n",
    "del KBest_SVC_train\n",
    "del KBest_SVC_test\n",
    "gc.collect()"
   ]
  },
  {
   "cell_type": "markdown",
   "metadata": {
    "slideshow": {
     "slide_type": "slide"
    }
   },
   "source": [
    "##### PCA Features"
   ]
  },
  {
   "cell_type": "code",
   "execution_count": 80,
   "metadata": {
    "slideshow": {
     "slide_type": "subslide"
    }
   },
   "outputs": [],
   "source": [
    "PCA_SVC = SVC()\n",
    "\n",
    "PCA_SVC = PCA_SVC.fit(PCA_train_X, cyber_train_dummy_Y)\n",
    "PCA_SVC_train_pred_ = PCA_SVC.predict(PCA_train_X)\n",
    "PCA_SVC_test_pred_ = PCA_SVC.predict(PCA_test_X)\n",
    "\n",
    "# Evaluation:\n",
    "  # Confusion Matrices:\n",
    "PCA_SVC_confusion_train = confusion_matrix(cyber_train_dummy_Y, PCA_SVC_train_pred_, labels = [0, 1])\n",
    "PCA_SVC_confusion_test = confusion_matrix(cyber_test_dummy_Y, PCA_SVC_test_pred_, labels = [0, 1])\n",
    "\n",
    "  # Cross-validation and train/test scores:\n",
    "PCA_SVC_cv = cross_val_score(PCA_SVC, PCA_train_X, cyber_train_dummy_Y, \n",
    "                             scoring = 'balanced_accuracy', cv = 5)\n",
    "\n",
    "  # Looking at the F1/balanced accuracy scores:\n",
    "PCA_SVC_train = balanced_accuracy_score(cyber_train_dummy_Y, PCA_SVC_train_pred_)\n",
    "PCA_SVC_test = balanced_accuracy_score(cyber_test_dummy_Y, PCA_SVC_test_pred_)"
   ]
  },
  {
   "cell_type": "code",
   "execution_count": 81,
   "metadata": {
    "slideshow": {
     "slide_type": "subslide"
    }
   },
   "outputs": [
    {
     "name": "stdout",
     "output_type": "stream",
     "text": [
      "\n",
      "The mean cross-validation score is: 57.94% ±4.92%\n",
      "The cv scores are: [0.61746153 0.6301875  0.5        0.60382231 0.54545455]\n",
      "\n",
      "Training-Set Metrics:\n",
      "     0     1\n",
      "0  156   286\n",
      "1   43  4800\n",
      "\n",
      "False Positive/Type I Error: 286 (64.71%)\n",
      "False Negative/Type II Error: 43 (0.89%)\n",
      "Balanced Accuracy: 67.20%\n",
      "\n",
      "Test-Set Metrics:\n",
      "    0     1\n",
      "0  52   114\n",
      "1  10  1586\n",
      "\n",
      "False Positive/Type I Error: 114 (68.67%)\n",
      "False Negative/Type II Error: 10 (0.63%)\n",
      "Balanced Accuracy: 65.35%\n"
     ]
    }
   ],
   "source": [
    "plusminus = u\"\\u00B1\"\n",
    "print(\"\\nThe mean cross-validation score is: {:.2%} {}{:.2%}\".format(PCA_SVC_cv.mean(),\n",
    "                                                                     plusminus, PCA_SVC_cv.std()))\n",
    "print(\"The cv scores are: {}\".format(PCA_SVC_cv))\n",
    "\n",
    "conf_df = pd.DataFrame(PCA_SVC_confusion_train)\n",
    "\n",
    "FP = conf_df.loc[0, 1]\n",
    "FN = conf_df.loc[1, 0]\n",
    "NegT = conf_df.iloc[0].sum()\n",
    "PosT = conf_df.iloc[1].sum()\n",
    "\n",
    "print(\"\\nTraining-Set Metrics:\")\n",
    "print(conf_df)\n",
    "print('\\nFalse Positive/Type I Error: {} ({:.2%})'.format(FP, (FP / NegT)))\n",
    "print('False Negative/Type II Error: {} ({:.2%})'.format(FN, (FN / PosT)))\n",
    "print('Balanced Accuracy: {:.2%}\\n'.format(PCA_SVC_train))\n",
    "\n",
    "conf_df2 = pd.DataFrame(PCA_SVC_confusion_test)\n",
    "\n",
    "FP2 = conf_df2.loc[0, 1]\n",
    "FN2 = conf_df2.loc[1, 0]\n",
    "NegT2 = conf_df2.iloc[0].sum()\n",
    "PosT2 = conf_df2.iloc[1].sum()\n",
    "\n",
    "print(\"Test-Set Metrics:\")\n",
    "print(conf_df2)\n",
    "print('\\nFalse Positive/Type I Error: {} ({:.2%})'.format(FP2, (FP2 / NegT2)))\n",
    "print('False Negative/Type II Error: {} ({:.2%})'.format(FN2, (FN2 / PosT2)))\n",
    "print('Balanced Accuracy: {:.2%}'.format(PCA_SVC_test))"
   ]
  },
  {
   "cell_type": "markdown",
   "metadata": {
    "slideshow": {
     "slide_type": "skip"
    }
   },
   "source": [
    "These support vector models are considerably stable in the sense that they are able to achieve similar test scores throughout various rounds, which is good.  The balanced accuracy scores are decent and the amount of error is considerably less than the models above. Let's take a look at one more round of model-type before we make this our official model."
   ]
  },
  {
   "cell_type": "code",
   "execution_count": 82,
   "metadata": {
    "slideshow": {
     "slide_type": "skip"
    }
   },
   "outputs": [
    {
     "data": {
      "text/plain": [
       "28"
      ]
     },
     "execution_count": 82,
     "metadata": {},
     "output_type": "execute_result"
    }
   ],
   "source": [
    "del PCA_SVC\n",
    "del PCA_SVC_train_pred_\n",
    "del PCA_SVC_test_pred_ \n",
    "del PCA_SVC_confusion_train\n",
    "del PCA_SVC_confusion_test\n",
    "del PCA_SVC_cv\n",
    "del PCA_SVC_train\n",
    "del PCA_SVC_test\n",
    "gc.collect()"
   ]
  },
  {
   "cell_type": "markdown",
   "metadata": {
    "slideshow": {
     "slide_type": "slide"
    }
   },
   "source": [
    "#### Gradient Boosting:\n",
    "\n",
    "##### KBest Features:"
   ]
  },
  {
   "cell_type": "code",
   "execution_count": 83,
   "metadata": {
    "slideshow": {
     "slide_type": "subslide"
    }
   },
   "outputs": [],
   "source": [
    "from sklearn.ensemble import GradientBoostingClassifier\n",
    "\n",
    "KBest_GBC = GradientBoostingClassifier()\n",
    "\n",
    "KBest_GBC = KBest_GBC.fit(KBest_train_X, cyber_train_dummy_Y)\n",
    "KBest_GBC_train_pred_ = KBest_GBC.predict(KBest_train_X)\n",
    "KBest_GBC_test_pred_ = KBest_GBC.predict(KBest_test_X)\n",
    "\n",
    "# Evaluation:\n",
    "  # Confusion matrices:    \n",
    "KBest_GBC_confusion_train = confusion_matrix(cyber_train_dummy_Y, KBest_GBC_train_pred_, labels = [0, 1])\n",
    "KBest_GBC_confusion_test = confusion_matrix(cyber_test_dummy_Y, KBest_GBC_test_pred_, labels = [0, 1])\n",
    "\n",
    "  # Cross-validation and train/test scores:\n",
    "KBest_GBC_cv = cross_val_score(KBest_GBC, KBest_train_X, cyber_train_dummy_Y, \n",
    "                               scoring = 'balanced_accuracy', cv = 5)\n",
    "\n",
    "\n",
    "  # Looking at the F1/balanced-accuracy scores:\n",
    "KBest_GBC_train = balanced_accuracy_score(cyber_train_dummy_Y, KBest_GBC_train_pred_)\n",
    "KBest_GBC_test = balanced_accuracy_score(cyber_test_dummy_Y, KBest_GBC_test_pred_)"
   ]
  },
  {
   "cell_type": "code",
   "execution_count": 84,
   "metadata": {
    "slideshow": {
     "slide_type": "subslide"
    }
   },
   "outputs": [
    {
     "name": "stdout",
     "output_type": "stream",
     "text": [
      "\n",
      "The mean cross-validation score is: 71.59% ±2.18%\n",
      "The cv scores are: [0.69250125 0.71187718 0.7536237  0.69783058 0.72365702]\n",
      "\n",
      "Training-Set Metrics:\n",
      "     0     1\n",
      "0  233   209\n",
      "1   52  4791\n",
      "\n",
      "False Positive/Type I Error: 209 (47.29%)\n",
      "False Negative/Type II Error: 52 (1.07%)\n",
      "Balanced Accuracy: 75.82%\n",
      "\n",
      "Test-Set Metrics:\n",
      "    0     1\n",
      "0  67    99\n",
      "1  24  1572\n",
      "\n",
      "False Positive/Type I Error: 99 (59.64%)\n",
      "False Negative/Type II Error: 24 (1.50%)\n",
      "Balanced Accuracy: 69.43%\n",
      "\n",
      "\n",
      "Feature Importances:\n",
      "\n"
     ]
    },
    {
     "data": {
      "text/html": [
       "<div>\n",
       "<style scoped>\n",
       "    .dataframe tbody tr th:only-of-type {\n",
       "        vertical-align: middle;\n",
       "    }\n",
       "\n",
       "    .dataframe tbody tr th {\n",
       "        vertical-align: top;\n",
       "    }\n",
       "\n",
       "    .dataframe thead th {\n",
       "        text-align: right;\n",
       "    }\n",
       "</style>\n",
       "<table border=\"1\" class=\"dataframe\">\n",
       "  <thead>\n",
       "    <tr style=\"text-align: right;\">\n",
       "      <th></th>\n",
       "      <th>Importances</th>\n",
       "    </tr>\n",
       "    <tr>\n",
       "      <th>0</th>\n",
       "      <th></th>\n",
       "    </tr>\n",
       "  </thead>\n",
       "  <tbody>\n",
       "    <tr>\n",
       "      <th>attack_1txt_Assassination</th>\n",
       "      <td>0.51</td>\n",
       "    </tr>\n",
       "    <tr>\n",
       "      <th>Explosives</th>\n",
       "      <td>0.19</td>\n",
       "    </tr>\n",
       "    <tr>\n",
       "      <th>corp1_Election Commission of India</th>\n",
       "      <td>0.03</td>\n",
       "    </tr>\n",
       "    <tr>\n",
       "      <th>country_txt_Ireland</th>\n",
       "      <td>0.02</td>\n",
       "    </tr>\n",
       "    <tr>\n",
       "      <th>Unknown</th>\n",
       "      <td>0.02</td>\n",
       "    </tr>\n",
       "    <tr>\n",
       "      <th>sub_weapontxt_Pipe Bomb</th>\n",
       "      <td>0.02</td>\n",
       "    </tr>\n",
       "    <tr>\n",
       "      <th>country_txt_Germany</th>\n",
       "      <td>0.01</td>\n",
       "    </tr>\n",
       "    <tr>\n",
       "      <th>corp1_Tehrik-e-Taliban Pakistan</th>\n",
       "      <td>0.01</td>\n",
       "    </tr>\n",
       "    <tr>\n",
       "      <th>Aguada</th>\n",
       "      <td>0.01</td>\n",
       "    </tr>\n",
       "    <tr>\n",
       "      <th>Dublin</th>\n",
       "      <td>0.01</td>\n",
       "    </tr>\n",
       "    <tr>\n",
       "      <th>Faizabad</th>\n",
       "      <td>0.01</td>\n",
       "    </tr>\n",
       "    <tr>\n",
       "      <th>Armed Commandos of Liberation</th>\n",
       "      <td>0.01</td>\n",
       "    </tr>\n",
       "    <tr>\n",
       "      <th>Smile</th>\n",
       "      <td>0.01</td>\n",
       "    </tr>\n",
       "    <tr>\n",
       "      <th>Thoubal</th>\n",
       "      <td>0.01</td>\n",
       "    </tr>\n",
       "    <tr>\n",
       "      <th>corp1_Unified Communist Party of Nepal: Maoist (UCPN-M)</th>\n",
       "      <td>0.01</td>\n",
       "    </tr>\n",
       "    <tr>\n",
       "      <th>Pagadian</th>\n",
       "      <td>0.01</td>\n",
       "    </tr>\n",
       "    <tr>\n",
       "      <th>Tral</th>\n",
       "      <td>0.01</td>\n",
       "    </tr>\n",
       "    <tr>\n",
       "      <th>Thouda Bhabok Leikai</th>\n",
       "      <td>0.00</td>\n",
       "    </tr>\n",
       "    <tr>\n",
       "      <th>Belfast</th>\n",
       "      <td>0.00</td>\n",
       "    </tr>\n",
       "    <tr>\n",
       "      <th>Riyadus-Salikhin Reconnaissance and Sabotage Battalion of Chechen Martyrs</th>\n",
       "      <td>0.00</td>\n",
       "    </tr>\n",
       "    <tr>\n",
       "      <th>Incendiary</th>\n",
       "      <td>0.00</td>\n",
       "    </tr>\n",
       "    <tr>\n",
       "      <th>Salafi Abu-Bakr al-Siddiq Army</th>\n",
       "      <td>0.00</td>\n",
       "    </tr>\n",
       "    <tr>\n",
       "      <th>Tehrik-e-Nifaz-e-Aman Balochistan-Jhalawan Brigade (TNAB-Jhalawan Brigade)</th>\n",
       "      <td>0.00</td>\n",
       "    </tr>\n",
       "    <tr>\n",
       "      <th>The World United Formosans for Independence (WUFI)</th>\n",
       "      <td>0.00</td>\n",
       "    </tr>\n",
       "    <tr>\n",
       "      <th>Zhutovi</th>\n",
       "      <td>0.00</td>\n",
       "    </tr>\n",
       "    <tr>\n",
       "      <th>Zhavoronki</th>\n",
       "      <td>0.00</td>\n",
       "    </tr>\n",
       "    <tr>\n",
       "      <th>Baharak district</th>\n",
       "      <td>0.00</td>\n",
       "    </tr>\n",
       "    <tr>\n",
       "      <th>Belauri</th>\n",
       "      <td>0.00</td>\n",
       "    </tr>\n",
       "    <tr>\n",
       "      <th>Belbari</th>\n",
       "      <td>0.00</td>\n",
       "    </tr>\n",
       "    <tr>\n",
       "      <th>Dhaka</th>\n",
       "      <td>0.00</td>\n",
       "    </tr>\n",
       "    <tr>\n",
       "      <th>Tibu</th>\n",
       "      <td>0.00</td>\n",
       "    </tr>\n",
       "    <tr>\n",
       "      <th>Doaba</th>\n",
       "      <td>0.00</td>\n",
       "    </tr>\n",
       "    <tr>\n",
       "      <th>Tunga</th>\n",
       "      <td>0.00</td>\n",
       "    </tr>\n",
       "    <tr>\n",
       "      <th>Tuddingan</th>\n",
       "      <td>0.00</td>\n",
       "    </tr>\n",
       "    <tr>\n",
       "      <th>Tirap district</th>\n",
       "      <td>0.00</td>\n",
       "    </tr>\n",
       "    <tr>\n",
       "      <th>Frankfurt</th>\n",
       "      <td>0.00</td>\n",
       "    </tr>\n",
       "    <tr>\n",
       "      <th>Imphal</th>\n",
       "      <td>0.00</td>\n",
       "    </tr>\n",
       "    <tr>\n",
       "      <th>Revolutionary Cells-Animal Liberation Brigade</th>\n",
       "      <td>0.00</td>\n",
       "    </tr>\n",
       "    <tr>\n",
       "      <th>Peshawar</th>\n",
       "      <td>0.00</td>\n",
       "    </tr>\n",
       "    <tr>\n",
       "      <th>Tigzirt</th>\n",
       "      <td>0.00</td>\n",
       "    </tr>\n",
       "    <tr>\n",
       "      <th>Staaken</th>\n",
       "      <td>0.00</td>\n",
       "    </tr>\n",
       "    <tr>\n",
       "      <th>Revolutionary Struggle</th>\n",
       "      <td>0.00</td>\n",
       "    </tr>\n",
       "    <tr>\n",
       "      <th>Muslim Brotherhood</th>\n",
       "      <td>0.00</td>\n",
       "    </tr>\n",
       "    <tr>\n",
       "      <th>Pro Hartal Activists</th>\n",
       "      <td>0.00</td>\n",
       "    </tr>\n",
       "    <tr>\n",
       "      <th>corp1_Not Applicable</th>\n",
       "      <td>0.00</td>\n",
       "    </tr>\n",
       "    <tr>\n",
       "      <th>specific_target_Chair: Pushpa Kamal Dahal Prachanda</th>\n",
       "      <td>0.00</td>\n",
       "    </tr>\n",
       "    <tr>\n",
       "      <th>specific_target_Adviser to Prime Minister: Amir Muqam</th>\n",
       "      <td>0.00</td>\n",
       "    </tr>\n",
       "    <tr>\n",
       "      <th>specific_target_A police chief</th>\n",
       "      <td>0.00</td>\n",
       "    </tr>\n",
       "    <tr>\n",
       "      <th>corp1_Staaken</th>\n",
       "      <td>0.00</td>\n",
       "    </tr>\n",
       "    <tr>\n",
       "      <th>corp1_Puerto Rican telecommunications facility</th>\n",
       "      <td>0.00</td>\n",
       "    </tr>\n",
       "    <tr>\n",
       "      <th>corp1_Pakistani Ministry of Education, Trainings and Standards in Higher Education</th>\n",
       "      <td>0.00</td>\n",
       "    </tr>\n",
       "    <tr>\n",
       "      <th>sub_targettxt_Unnamed Civilian/Unspecified</th>\n",
       "      <td>0.00</td>\n",
       "    </tr>\n",
       "    <tr>\n",
       "      <th>specific_target_Unidentified Village Chairperson</th>\n",
       "      <td>0.00</td>\n",
       "    </tr>\n",
       "    <tr>\n",
       "      <th>sub_targettxt_Political</th>\n",
       "      <td>0.00</td>\n",
       "    </tr>\n",
       "    <tr>\n",
       "      <th>sub_targettxt_Gov_Figure1</th>\n",
       "      <td>0.00</td>\n",
       "    </tr>\n",
       "    <tr>\n",
       "      <th>target_1txt_Private Citizens &amp; Property</th>\n",
       "      <td>0.00</td>\n",
       "    </tr>\n",
       "    <tr>\n",
       "      <th>target_1txt_Government (General)</th>\n",
       "      <td>0.00</td>\n",
       "    </tr>\n",
       "    <tr>\n",
       "      <th>attack_1txt_Hostage Taking (Kidnapping)</th>\n",
       "      <td>0.00</td>\n",
       "    </tr>\n",
       "    <tr>\n",
       "      <th>attack_1txt_Bombing/Explosion</th>\n",
       "      <td>0.00</td>\n",
       "    </tr>\n",
       "    <tr>\n",
       "      <th>specific_target_Private Residence</th>\n",
       "      <td>0.00</td>\n",
       "    </tr>\n",
       "    <tr>\n",
       "      <th>victim_nationalitytxt_Ireland</th>\n",
       "      <td>0.00</td>\n",
       "    </tr>\n",
       "    <tr>\n",
       "      <th>Popular Resistance (Laiki Antistasi)</th>\n",
       "      <td>0.00</td>\n",
       "    </tr>\n",
       "    <tr>\n",
       "      <th>Informal Anarchist Federation</th>\n",
       "      <td>0.00</td>\n",
       "    </tr>\n",
       "    <tr>\n",
       "      <th>National Socialist Council of Nagaland</th>\n",
       "      <td>0.00</td>\n",
       "    </tr>\n",
       "    <tr>\n",
       "      <th>Middle_Eastern_Religious</th>\n",
       "      <td>0.00</td>\n",
       "    </tr>\n",
       "    <tr>\n",
       "      <th>Maoists</th>\n",
       "      <td>0.00</td>\n",
       "    </tr>\n",
       "    <tr>\n",
       "      <th>Maoist Communist Party of Manipur</th>\n",
       "      <td>0.00</td>\n",
       "    </tr>\n",
       "    <tr>\n",
       "      <th>Madhesh Rastra Janatantrik Revolutionary (RJR) - Nepal</th>\n",
       "      <td>0.00</td>\n",
       "    </tr>\n",
       "    <tr>\n",
       "      <th>Irish_Separatists</th>\n",
       "      <td>0.00</td>\n",
       "    </tr>\n",
       "    <tr>\n",
       "      <th>Hekla Reception Committee-Initiative for More Social Eruptions</th>\n",
       "      <td>0.00</td>\n",
       "    </tr>\n",
       "    <tr>\n",
       "      <th>sub_weapontxt_Other Explosive Type</th>\n",
       "      <td>0.00</td>\n",
       "    </tr>\n",
       "    <tr>\n",
       "      <th>Dima Halao Daoga (DHD)</th>\n",
       "      <td>0.00</td>\n",
       "    </tr>\n",
       "    <tr>\n",
       "      <th>Conspiracy of Cells of Fire</th>\n",
       "      <td>0.00</td>\n",
       "    </tr>\n",
       "    <tr>\n",
       "      <th>Communist Party of Nepal-Maoist (Baidya)</th>\n",
       "      <td>0.00</td>\n",
       "    </tr>\n",
       "    <tr>\n",
       "      <th>Communist Party of Nepal - Maoist (CPN-Maoist-Chand)</th>\n",
       "      <td>0.00</td>\n",
       "    </tr>\n",
       "    <tr>\n",
       "      <th>Black Liberation Army</th>\n",
       "      <td>0.00</td>\n",
       "    </tr>\n",
       "    <tr>\n",
       "      <th>Besi Merah Putih Militia</th>\n",
       "      <td>0.00</td>\n",
       "    </tr>\n",
       "    <tr>\n",
       "      <th>Melee</th>\n",
       "      <td>0.00</td>\n",
       "    </tr>\n",
       "  </tbody>\n",
       "</table>\n",
       "</div>"
      ],
      "text/plain": [
       "                                                    Importances\n",
       "0                                                              \n",
       "attack_1txt_Assassination                                  0.51\n",
       "Explosives                                                 0.19\n",
       "corp1_Election Commission of India                         0.03\n",
       "country_txt_Ireland                                        0.02\n",
       "Unknown                                                    0.02\n",
       "sub_weapontxt_Pipe Bomb                                    0.02\n",
       "country_txt_Germany                                        0.01\n",
       "corp1_Tehrik-e-Taliban Pakistan                            0.01\n",
       "Aguada                                                     0.01\n",
       "Dublin                                                     0.01\n",
       "Faizabad                                                   0.01\n",
       "Armed Commandos of Liberation                              0.01\n",
       "Smile                                                      0.01\n",
       "Thoubal                                                    0.01\n",
       "corp1_Unified Communist Party of Nepal: Maoist ...         0.01\n",
       "Pagadian                                                   0.01\n",
       "Tral                                                       0.01\n",
       "Thouda Bhabok Leikai                                       0.00\n",
       "Belfast                                                    0.00\n",
       "Riyadus-Salikhin Reconnaissance and Sabotage Ba...         0.00\n",
       "Incendiary                                                 0.00\n",
       "Salafi Abu-Bakr al-Siddiq Army                             0.00\n",
       "Tehrik-e-Nifaz-e-Aman Balochistan-Jhalawan Brig...         0.00\n",
       "The World United Formosans for Independence (WUFI)         0.00\n",
       "Zhutovi                                                    0.00\n",
       "Zhavoronki                                                 0.00\n",
       "Baharak district                                           0.00\n",
       "Belauri                                                    0.00\n",
       "Belbari                                                    0.00\n",
       "Dhaka                                                      0.00\n",
       "Tibu                                                       0.00\n",
       "Doaba                                                      0.00\n",
       "Tunga                                                      0.00\n",
       "Tuddingan                                                  0.00\n",
       "Tirap district                                             0.00\n",
       "Frankfurt                                                  0.00\n",
       "Imphal                                                     0.00\n",
       "Revolutionary Cells-Animal Liberation Brigade              0.00\n",
       "Peshawar                                                   0.00\n",
       "Tigzirt                                                    0.00\n",
       "Staaken                                                    0.00\n",
       "Revolutionary Struggle                                     0.00\n",
       "Muslim Brotherhood                                         0.00\n",
       "Pro Hartal Activists                                       0.00\n",
       "corp1_Not Applicable                                       0.00\n",
       "specific_target_Chair: Pushpa Kamal Dahal Prach...         0.00\n",
       "specific_target_Adviser to Prime Minister: Amir...         0.00\n",
       "specific_target_A police chief                             0.00\n",
       "corp1_Staaken                                              0.00\n",
       "corp1_Puerto Rican telecommunications facility             0.00\n",
       "corp1_Pakistani Ministry of Education, Training...         0.00\n",
       "sub_targettxt_Unnamed Civilian/Unspecified                 0.00\n",
       "specific_target_Unidentified Village Chairperson           0.00\n",
       "sub_targettxt_Political                                    0.00\n",
       "sub_targettxt_Gov_Figure1                                  0.00\n",
       "target_1txt_Private Citizens & Property                    0.00\n",
       "target_1txt_Government (General)                           0.00\n",
       "attack_1txt_Hostage Taking (Kidnapping)                    0.00\n",
       "attack_1txt_Bombing/Explosion                              0.00\n",
       "specific_target_Private Residence                          0.00\n",
       "victim_nationalitytxt_Ireland                              0.00\n",
       "Popular Resistance (Laiki Antistasi)                       0.00\n",
       "Informal Anarchist Federation                              0.00\n",
       "National Socialist Council of Nagaland                     0.00\n",
       "Middle_Eastern_Religious                                   0.00\n",
       "Maoists                                                    0.00\n",
       "Maoist Communist Party of Manipur                          0.00\n",
       "Madhesh Rastra Janatantrik Revolutionary (RJR) ...         0.00\n",
       "Irish_Separatists                                          0.00\n",
       "Hekla Reception Committee-Initiative for More S...         0.00\n",
       "sub_weapontxt_Other Explosive Type                         0.00\n",
       "Dima Halao Daoga (DHD)                                     0.00\n",
       "Conspiracy of Cells of Fire                                0.00\n",
       "Communist Party of Nepal-Maoist (Baidya)                   0.00\n",
       "Communist Party of Nepal - Maoist (CPN-Maoist-C...         0.00\n",
       "Black Liberation Army                                      0.00\n",
       "Besi Merah Putih Militia                                   0.00\n",
       "Melee                                                      0.00"
      ]
     },
     "metadata": {},
     "output_type": "display_data"
    }
   ],
   "source": [
    "plusminus = u\"\\u00B1\"\n",
    "print(\"\\nThe mean cross-validation score is: {:.2%} {}{:.2%}\".format(KBest_GBC_cv.mean(),\n",
    "                                                                     plusminus, KBest_GBC_cv.std()))\n",
    "print(\"The cv scores are: {}\".format(KBest_GBC_cv))\n",
    "\n",
    "conf_df = pd.DataFrame(KBest_GBC_confusion_train)\n",
    "\n",
    "FP = conf_df.loc[0, 1]\n",
    "FN = conf_df.loc[1, 0]\n",
    "NegT = conf_df.iloc[0].sum()\n",
    "PosT = conf_df.iloc[1].sum()\n",
    "\n",
    "print(\"\\nTraining-Set Metrics:\")\n",
    "print(conf_df)\n",
    "print('\\nFalse Positive/Type I Error: {} ({:.2%})'.format(FP, (FP / NegT)))\n",
    "print('False Negative/Type II Error: {} ({:.2%})'.format(FN, (FN / PosT)))\n",
    "print('Balanced Accuracy: {:.2%}\\n'.format(KBest_GBC_train))\n",
    "\n",
    "conf_df2 = pd.DataFrame(KBest_GBC_confusion_test)\n",
    "\n",
    "FP2 = conf_df2.loc[0, 1]\n",
    "FN2 = conf_df2.loc[1, 0]\n",
    "NegT2 = conf_df2.iloc[0].sum()\n",
    "PosT2 = conf_df2.iloc[1].sum()\n",
    "\n",
    "print(\"Test-Set Metrics:\")\n",
    "print(conf_df2)\n",
    "print('\\nFalse Positive/Type I Error: {} ({:.2%})'.format(FP2, (FP2 / NegT2)))\n",
    "print('False Negative/Type II Error: {} ({:.2%})'.format(FN2, (FN2 / PosT2)))\n",
    "print('Balanced Accuracy: {:.2%}'.format(KBest_GBC_test))\n",
    "\n",
    "print('\\n\\nFeature Importances:\\n')\n",
    "feat_imp = pd.DataFrame(KBest_GBC.feature_importances_.round(2), index = KBest_train_X.columns, \n",
    "                        columns = [\"Importances\"])\n",
    "display(feat_imp.sort_values('Importances', ascending = False))"
   ]
  },
  {
   "cell_type": "code",
   "execution_count": 85,
   "metadata": {
    "slideshow": {
     "slide_type": "skip"
    }
   },
   "outputs": [
    {
     "data": {
      "text/plain": [
       "41"
      ]
     },
     "execution_count": 85,
     "metadata": {},
     "output_type": "execute_result"
    }
   ],
   "source": [
    "del KBest_GBC\n",
    "del KBest_GBC_train_pred_\n",
    "del KBest_GBC_test_pred_ \n",
    "del KBest_GBC_confusion_train\n",
    "del KBest_GBC_confusion_test\n",
    "del KBest_GBC_cv\n",
    "del KBest_GBC_train\n",
    "del KBest_GBC_test\n",
    "gc.collect()"
   ]
  },
  {
   "cell_type": "markdown",
   "metadata": {
    "slideshow": {
     "slide_type": "slide"
    }
   },
   "source": [
    "##### PCA Features"
   ]
  },
  {
   "cell_type": "code",
   "execution_count": 86,
   "metadata": {
    "slideshow": {
     "slide_type": "subslide"
    }
   },
   "outputs": [],
   "source": [
    "PCA_GBC = GradientBoostingClassifier()\n",
    "\n",
    "PCA_GBC = PCA_GBC.fit(PCA_train_X, cyber_train_dummy_Y)\n",
    "PCA_GBC_train_pred_ = PCA_GBC.predict(PCA_train_X) \n",
    "PCA_GBC_test_pred_ = PCA_GBC.predict(PCA_test_X) \n",
    "\n",
    "# Evaluation:\n",
    "\n",
    "  # Confusion matrices:\n",
    "PCA_GBC_confusion_train = confusion_matrix(cyber_train_dummy_Y, PCA_GBC_train_pred_, labels = [0, 1])\n",
    "PCA_GBC_confusion_test = confusion_matrix(cyber_test_dummy_Y, PCA_GBC_test_pred_, labels = [0, 1])\n",
    "\n",
    "  # Cross_validation and train/test score:\n",
    "PCA_GBC_cv = cross_val_score(PCA_GBC, PCA_train_X, cyber_train_dummy_Y, \n",
    "                             scoring = 'balanced_accuracy', cv = 5)\n",
    "\n",
    "  # Looking at the F1/balanced accuracy scores:\n",
    "PCA_GBC_train = balanced_accuracy_score(cyber_train_dummy_Y, PCA_GBC_train_pred_)\n",
    "PCA_GBC_test = balanced_accuracy_score(cyber_test_dummy_Y, PCA_GBC_test_pred_)"
   ]
  },
  {
   "cell_type": "code",
   "execution_count": 87,
   "metadata": {
    "scrolled": true,
    "slideshow": {
     "slide_type": "subslide"
    }
   },
   "outputs": [
    {
     "name": "stdout",
     "output_type": "stream",
     "text": [
      "\n",
      "The mean cross-validation score is: 67.86% ±2.42%\n",
      "The cv scores are: [0.65879338 0.66796535 0.72056478 0.65547521 0.69008264]\n",
      "\n",
      "Training-Set Metrics:\n",
      "     0     1\n",
      "0  243   199\n",
      "1   34  4809\n",
      "\n",
      "False Positive/Type I Error: 199 (45.02%)\n",
      "False Negative/Type II Error: 34 (0.70%)\n",
      "Balanced Accuracy: 77.14%\n",
      "\n",
      "Test-Set Metrics:\n",
      "    0     1\n",
      "0  62   104\n",
      "1  18  1578\n",
      "\n",
      "False Positive/Type I Error: 104 (62.65%)\n",
      "False Negative/Type II Error: 18 (1.13%)\n",
      "Balanced Accuracy: 68.11%\n"
     ]
    }
   ],
   "source": [
    "plusminus = u\"\\u00B1\"\n",
    "print(\"\\nThe mean cross-validation score is: {:.2%} {}{:.2%}\".format(PCA_GBC_cv.mean(),\n",
    "                                                                     plusminus, PCA_GBC_cv.std()))\n",
    "print(\"The cv scores are: {}\".format(PCA_GBC_cv))\n",
    "\n",
    "conf_df = pd.DataFrame(PCA_GBC_confusion_train)\n",
    "\n",
    "FP = conf_df.loc[0, 1]\n",
    "FN = conf_df.loc[1, 0]\n",
    "NegT = conf_df.iloc[0].sum()\n",
    "PosT = conf_df.iloc[1].sum()\n",
    "\n",
    "print(\"\\nTraining-Set Metrics:\")\n",
    "print(conf_df)\n",
    "print('\\nFalse Positive/Type I Error: {} ({:.2%})'.format(FP, (FP / NegT)))\n",
    "print('False Negative/Type II Error: {} ({:.2%})'.format(FN, (FN / PosT)))\n",
    "print('Balanced Accuracy: {:.2%}\\n'.format(PCA_GBC_train))\n",
    "\n",
    "conf_df2 = pd.DataFrame(PCA_GBC_confusion_test)\n",
    "\n",
    "FP2 = conf_df2.loc[0, 1]\n",
    "FN2 = conf_df2.loc[1, 0]\n",
    "NegT2 = conf_df2.iloc[0].sum()\n",
    "PosT2 = conf_df2.iloc[1].sum()\n",
    "\n",
    "print(\"Test-Set Metrics:\")\n",
    "print(conf_df2)\n",
    "print('\\nFalse Positive/Type I Error: {} ({:.2%})'.format(FP2, (FP2 / NegT2)))\n",
    "print('False Negative/Type II Error: {} ({:.2%})'.format(FN2, (FN2 / PosT2)))\n",
    "print('Balanced Accuracy: {:.2%}'.format(PCA_GBC_test))"
   ]
  },
  {
   "cell_type": "code",
   "execution_count": 88,
   "metadata": {
    "slideshow": {
     "slide_type": "skip"
    }
   },
   "outputs": [
    {
     "data": {
      "text/plain": [
       "34"
      ]
     },
     "execution_count": 88,
     "metadata": {},
     "output_type": "execute_result"
    }
   ],
   "source": [
    "del PCA_GBC\n",
    "del PCA_GBC_train_pred_\n",
    "del PCA_GBC_test_pred_ \n",
    "del PCA_GBC_confusion_train\n",
    "del PCA_GBC_confusion_test\n",
    "del PCA_GBC_cv\n",
    "del PCA_GBC_train\n",
    "del PCA_GBC_test\n",
    "gc.collect()"
   ]
  },
  {
   "cell_type": "markdown",
   "metadata": {
    "slideshow": {
     "slide_type": "skip"
    }
   },
   "source": [
    "#### Summary of First Models:\n",
    "\n",
    "> Based on these preliminary results, we were able to get similar results from nearly all models, but it looks like our Support Vector Classifier did best, with both the KBest and PCA Features (PCA being slightly better). As such, we will try and focus on the Gradient Booster with our next phase and tune the parameters to see if we can optimize those results.  \n",
    "\n",
    "> Now onto tuning our model parameters!"
   ]
  },
  {
   "cell_type": "code",
   "execution_count": 95,
   "metadata": {
    "collapsed": true
   },
   "outputs": [
    {
     "ename": "NameError",
     "evalue": "name 'PCA_weapon' is not defined",
     "output_type": "error",
     "traceback": [
      "\u001b[0;31m---------------------------------------------------------------------------\u001b[0m",
      "\u001b[0;31mNameError\u001b[0m                                 Traceback (most recent call last)",
      "\u001b[0;32m<ipython-input-95-6b78d478d39d>\u001b[0m in \u001b[0;36m<module>\u001b[0;34m\u001b[0m\n\u001b[1;32m      1\u001b[0m \u001b[0;34m\u001b[0m\u001b[0m\n\u001b[0;32m----> 2\u001b[0;31m \u001b[0;32mdel\u001b[0m \u001b[0mPCA_weapon\u001b[0m\u001b[0;34m\u001b[0m\u001b[0m\n\u001b[0m\u001b[1;32m      3\u001b[0m \u001b[0;32mdel\u001b[0m \u001b[0mPCA_name\u001b[0m\u001b[0;34m\u001b[0m\u001b[0m\n\u001b[1;32m      4\u001b[0m \u001b[0;32mdel\u001b[0m \u001b[0mPCA_cities\u001b[0m\u001b[0;34m\u001b[0m\u001b[0m\n\u001b[1;32m      5\u001b[0m \u001b[0;32mdel\u001b[0m \u001b[0mPCA_1\u001b[0m\u001b[0;34m\u001b[0m\u001b[0m\n",
      "\u001b[0;31mNameError\u001b[0m: name 'PCA_weapon' is not defined"
     ]
    }
   ],
   "source": [
    "\n",
    "del PCA_weapon\n",
    "del PCA_name\n",
    "del PCA_cities\n",
    "del PCA_1\n",
    "del KBest_weapon\n",
    "del KBest_names\n",
    "del KBest_city\n",
    "del KBest_1\n",
    "del city_mask\n",
    "del feature_mask\n",
    "del names_mask\n",
    "del weapon_mask\n",
    "del feature_selection\n",
    "del KBest_weapon_features\n",
    "del conf_df\n",
    "del conf_df2\n",
    "del KBest_city_features\n",
    "del KBest_names_features\n",
    "del KBest_1_features\n",
    "del weapon_test_index\n",
    "del city_test_dummy_Y\n",
    "del names_test_dummy_Y\n",
    "del weapon_test_dummy_Y\n",
    "del weapon_test_dummy_X\n",
    "del X_test_start_index\n",
    "del city_test_index\n",
    "del names_test_index\n",
    "del weapon_train_index\n",
    "del city_train_dummy_Y\n",
    "del names_train_dummy_Y\n",
    "del weapon_train_dummy_Y\n",
    "del weapon_train_dummy_X\n",
    "del city_train_index\n",
    "del names_train_index\n",
    "del names_test_dummy_X\n",
    "del names_train_X\n",
    "del city_train_X\n",
    "del weapon_train_X\n",
    "del names_test_X\n",
    "del city_test_X\n",
    "del weapon_test_X\n",
    "del PosT2\n",
    "del PosT\n",
    "del first_responders\n",
    "del names_train_dummy_X\n",
    "del city_test_dummy_X\n",
    "del city_train_dummy_X\n",
    "gc.collect()"
   ]
  },
  {
   "cell_type": "code",
   "execution_count": 96,
   "metadata": {
    "collapsed": true
   },
   "outputs": [
    {
     "data": {
      "text/plain": [
       "[('cyber_train_dummy_X', 36910464),\n",
       " ('city_train_dummy_X', 16795754),\n",
       " ('cyber_test_dummy_X', 12305832),\n",
       " ('city_test_dummy_X', 5599660),\n",
       " ('cyber_train_X', 5302357),\n",
       " ('PCA_train_X', 3297944),\n",
       " ('names_train_dummy_X', 1844489),\n",
       " ('cyber_test_X', 1769298),\n",
       " ('KBest_train_X', 1337209),\n",
       " ('PCA_test_X', 1099592),\n",
       " ('KBest_test_X', 445890),\n",
       " ('cyber_train_Y', 248424),\n",
       " ('cyber_test_Y', 110136),\n",
       " ('cyber_train_dummy_Y', 84584),\n",
       " ('X_train_start_index', 42304),\n",
       " ('train_index', 42304),\n",
       " ('cyber_test_dummy_Y', 28216),\n",
       " ('test_index', 14120),\n",
       " ('feat_imp', 9736),\n",
       " ('GradientBoostingClassifier', 2000),\n",
       " ('RandomForestClassifier', 2000),\n",
       " ('SVC', 2000),\n",
       " ('LogisticRegression', 1464),\n",
       " ('PCA', 1464),\n",
       " ('cleaner', 456),\n",
       " ('balanced_accuracy_score', 136),\n",
       " ('confusion_matrix', 136),\n",
       " ('cross_val_score', 136),\n",
       " ('train_test_split', 136),\n",
       " ('np', 80),\n",
       " ('pd', 80),\n",
       " ('plt', 80),\n",
       " ('skl', 80),\n",
       " ('sns', 80),\n",
       " ('plusminus', 74),\n",
       " ('mid_len_1', 64),\n",
       " ('start_len', 64),\n",
       " ('ax', 56),\n",
       " ('f', 56)]"
      ]
     },
     "execution_count": 96,
     "metadata": {},
     "output_type": "execute_result"
    }
   ],
   "source": [
    "\n",
    "# These are the usual ipython objects, including this one you are creating\n",
    "ipython_vars = ['In', 'Out', 'exit', 'quit', 'get_ipython', 'ipython_vars']\n",
    "\n",
    "# Get a sorted list of the objects and their sizes\n",
    "\n",
    "cleaner = sorted([(x, sys.getsizeof(globals().get(x))) for x in dir() if not x.startswith('_') and x not in sys.modules and x not in ipython_vars], key=lambda x: x[1], reverse=True)\n",
    "cleaner"
   ]
  },
  {
   "cell_type": "markdown",
   "metadata": {
    "slideshow": {
     "slide_type": "slide"
    }
   },
   "source": [
    "### 5. Improving our Scores:\n",
    "\n",
    "#### A. Investigating the Data Itself:\n",
    "\n"
   ]
  },
  {
   "cell_type": "markdown",
   "metadata": {
    "slideshow": {
     "slide_type": "slide"
    }
   },
   "source": [
    "### 6. Tuning our Final Model:\n",
    "\n",
    "Here, we will try and use a for loop to run through a set of parameters, which we will then use to visualize the parameters which will optimize our model's predictive power.  For the moment, the parameters we will focus on are the 'learning_rate', 'n_estimators', 'sub_sample' and 'max_depth.'"
   ]
  },
  {
   "cell_type": "markdown",
   "metadata": {
    "slideshow": {
     "slide_type": "subslide"
    }
   },
   "source": [
    "#### A. RandomForest with KBest:"
   ]
  },
  {
   "cell_type": "code",
   "execution_count": null,
   "metadata": {
    "slideshow": {
     "slide_type": "subslide"
    }
   },
   "outputs": [],
   "source": [
    "param_dict = {'C': [.1, .25, .5, .75, 1, 20, 40, 60, 80, 100]}\n",
    "\n",
    "param_df = pd.DataFrame(param_dict)"
   ]
  },
  {
   "cell_type": "code",
   "execution_count": 103,
   "metadata": {
    "slideshow": {
     "slide_type": "subslide"
    }
   },
   "outputs": [
    {
     "ename": "TypeError",
     "evalue": "__init__() got an unexpected keyword argument 'C'",
     "output_type": "error",
     "traceback": [
      "\u001b[0;31m---------------------------------------------------------------------------\u001b[0m",
      "\u001b[0;31mTypeError\u001b[0m                                 Traceback (most recent call last)",
      "\u001b[0;32m<ipython-input-103-41c849b3ee87>\u001b[0m in \u001b[0;36m<module>\u001b[0;34m\u001b[0m\n\u001b[1;32m      4\u001b[0m \u001b[0;32mfor\u001b[0m \u001b[0mrow\u001b[0m \u001b[0;32min\u001b[0m \u001b[0mparam_df\u001b[0m\u001b[0;34m.\u001b[0m\u001b[0mitertuples\u001b[0m\u001b[0;34m(\u001b[0m\u001b[0mindex\u001b[0m \u001b[0;34m=\u001b[0m \u001b[0;32mFalse\u001b[0m\u001b[0;34m)\u001b[0m\u001b[0;34m:\u001b[0m\u001b[0;34m\u001b[0m\u001b[0m\n\u001b[1;32m      5\u001b[0m \u001b[0;34m\u001b[0m\u001b[0m\n\u001b[0;32m----> 6\u001b[0;31m     \u001b[0mKBest_RF\u001b[0m \u001b[0;34m=\u001b[0m \u001b[0mRandomForestClassifier\u001b[0m\u001b[0;34m(\u001b[0m\u001b[0mC\u001b[0m \u001b[0;34m=\u001b[0m \u001b[0mrow\u001b[0m\u001b[0;34m[\u001b[0m\u001b[0;36m0\u001b[0m\u001b[0;34m]\u001b[0m\u001b[0;34m)\u001b[0m\u001b[0;34m\u001b[0m\u001b[0m\n\u001b[0m\u001b[1;32m      7\u001b[0m \u001b[0;34m\u001b[0m\u001b[0m\n\u001b[1;32m      8\u001b[0m     \u001b[0mKBest_RF\u001b[0m \u001b[0;34m=\u001b[0m \u001b[0mKBest_RF\u001b[0m\u001b[0;34m.\u001b[0m\u001b[0mfit\u001b[0m\u001b[0;34m(\u001b[0m\u001b[0mKBest_train_X\u001b[0m\u001b[0;34m,\u001b[0m \u001b[0mcyber_train_dummy_Y\u001b[0m\u001b[0;34m)\u001b[0m\u001b[0;34m\u001b[0m\u001b[0m\n",
      "\u001b[0;31mTypeError\u001b[0m: __init__() got an unexpected keyword argument 'C'"
     ]
    }
   ],
   "source": [
    "results_list = []\n",
    "plusminus = u\"\\u00B1\"\n",
    "\n",
    "for row in param_df.itertuples(index = False):\n",
    "\n",
    "    KBest_RF = RandomForestClassifier(C = row[0])\n",
    "\n",
    "    KBest_RF = KBest_RF.fit(KBest_train_X, cyber_train_dummy_Y)\n",
    "    KBest_RF_train_pred_ = KBest_RF.predict(KBest_train_X) \n",
    "    KBest_RF_test_pred_ = KBest_RF.predict(KBest_test_X) \n",
    "\n",
    "    # Evaluation:\n",
    "\n",
    "      # Confusion matrices:\n",
    "    KBest_RF_confusion_train = confusion_matrix(cyber_train_dummy_Y, KBest_RF_train_pred_, labels = [0, 1])\n",
    "    KBest_RF_confusion_test = confusion_matrix(cyber_test_dummy_Y, KBest_RF_test_pred_, labels = [0, 1])\n",
    "\n",
    "      # Cross_validation and train/test score:\n",
    "    KBest_RF_cv = cross_val_score(KBest_RF, PCA_train_X, cyber_train_dummy_Y, cv = 5, \n",
    "                                  scoring = 'balanced_accuracy')\n",
    "\n",
    "      # Looking at the F1/balanced accuracy scores:\n",
    "    KBest_RF_train = balanced_accuracy_score(cyber_train_dummy_Y, KBest_RF_train_pred_)\n",
    "    KBest_RF_test = balanced_accuracy_score(cyber_test_dummy_Y, KBest_RF_test_pred_)\n",
    "    \n",
    "      # Getting some scores on cross-validation, False Negatives and Positives and Balanced Accuracy:\n",
    "    print(\"\\nThe mean cross-validation score is: {:.2%} {}{:.2%}\".format(KBest_RF_cv.mean(),\n",
    "                                                                     plusminus, KBest_RF_cv.std()))\n",
    "    conf_df = pd.DataFrame(KBest_RF_confusion_train)\n",
    "  \n",
    "    FP = conf_df.loc[0, 1]\n",
    "    FN = conf_df.loc[1, 0]\n",
    "    NegT = conf_df.iloc[0].sum()\n",
    "    PosT = conf_df.iloc[1].sum()\n",
    "    \n",
    "    print(\"Training set results:\")\n",
    "    print(conf_df)\n",
    "    print('\\nFalse Positive/Type I Error: {} ({:.2%})'.format(FP, (FP / NegT)))\n",
    "    print('False Negative/Type II Error: {} ({:.2%})'.format(FN, (FN / PosT)))\n",
    "    print('Balanced Accuracy: {:.2%}\\n'.format(KBest_RF_train))\n",
    "    \n",
    "    conf_df2 = pd.DataFrame(KBest_RF_confusion_test)\n",
    "\n",
    "    FP2 = conf_df2.loc[0, 1]\n",
    "    FN2 = conf_df2.loc[1, 0]\n",
    "    NegT2 = conf_df2.iloc[0].sum()\n",
    "    PosT2 = conf_df2.iloc[1].sum()\n",
    "    \n",
    "    print(\"Test set results:\")\n",
    "    print(conf_df2)\n",
    "    print('\\nFalse Positive/Type I Error: {} ({:.2%})'.format(FP2, (FP2 / NegT2)))\n",
    "    print('False Negative/Type II Error: {} ({:.2%})'.format(FN2, (FN2 / PosT2)))\n",
    "    print('Balanced Accuracy: {:.2%}'.format(KBest_RF_test))\n",
    "    print('-----------------')\n",
    "    \n",
    "    results_list.append([KBest_RF_test, (FP2 + FN2), KBest_RF_cv.std()])"
   ]
  },
  {
   "cell_type": "markdown",
   "metadata": {
    "slideshow": {
     "slide_type": "slide"
    }
   },
   "source": [
    "#### B. Gradient Boosting Classifier with KBest:"
   ]
  },
  {
   "cell_type": "code",
   "execution_count": 99,
   "metadata": {
    "slideshow": {
     "slide_type": "subslide"
    }
   },
   "outputs": [],
   "source": [
    "from sklearn.ensemble import GradientBoostingClassifier\n",
    "\n",
    "param_dict2 = {'n_estimators': [70, 90, 60, 70, 50, 300, 400],\n",
    "              'max_depth': [5, 4, 6, 6, 6, 5, 4]}\n",
    "\n",
    "param_df2 = pd.DataFrame(param_dict2)"
   ]
  },
  {
   "cell_type": "code",
   "execution_count": 100,
   "metadata": {
    "slideshow": {
     "slide_type": "subslide"
    }
   },
   "outputs": [
    {
     "ename": "NameError",
     "evalue": "name 'KBest_train_X2' is not defined",
     "output_type": "error",
     "traceback": [
      "\u001b[0;31m---------------------------------------------------------------------------\u001b[0m",
      "\u001b[0;31mNameError\u001b[0m                                 Traceback (most recent call last)",
      "\u001b[0;32m<ipython-input-100-3e3b19ec25d7>\u001b[0m in \u001b[0;36m<module>\u001b[0;34m\u001b[0m\n\u001b[1;32m      6\u001b[0m                                            max_depth = row[1])\n\u001b[1;32m      7\u001b[0m \u001b[0;34m\u001b[0m\u001b[0m\n\u001b[0;32m----> 8\u001b[0;31m     \u001b[0mKBest_GBC\u001b[0m \u001b[0;34m=\u001b[0m \u001b[0mKBest_GBC\u001b[0m\u001b[0;34m.\u001b[0m\u001b[0mfit\u001b[0m\u001b[0;34m(\u001b[0m\u001b[0mKBest_train_X2\u001b[0m\u001b[0;34m,\u001b[0m \u001b[0mcyber_train_dummy_Y\u001b[0m\u001b[0;34m)\u001b[0m\u001b[0;34m\u001b[0m\u001b[0m\n\u001b[0m\u001b[1;32m      9\u001b[0m     \u001b[0mKBest_GBC_train_pred_\u001b[0m \u001b[0;34m=\u001b[0m \u001b[0mKBest_GBC\u001b[0m\u001b[0;34m.\u001b[0m\u001b[0mpredict\u001b[0m\u001b[0;34m(\u001b[0m\u001b[0mKBest_train_X2\u001b[0m\u001b[0;34m)\u001b[0m\u001b[0;34m\u001b[0m\u001b[0m\n\u001b[1;32m     10\u001b[0m     \u001b[0mKBest_GBC_test_pred_\u001b[0m \u001b[0;34m=\u001b[0m \u001b[0mKBest_GBC\u001b[0m\u001b[0;34m.\u001b[0m\u001b[0mpredict\u001b[0m\u001b[0;34m(\u001b[0m\u001b[0mKBest_test_X2\u001b[0m\u001b[0;34m)\u001b[0m\u001b[0;34m\u001b[0m\u001b[0m\n",
      "\u001b[0;31mNameError\u001b[0m: name 'KBest_train_X2' is not defined"
     ]
    }
   ],
   "source": [
    "results_list2 = []\n",
    "\n",
    "for row in param_df2.itertuples(index = False):\n",
    "\n",
    "    KBest_GBC = GradientBoostingClassifier(n_estimators = row[0],\n",
    "                                           max_depth = row[1])\n",
    "\n",
    "    KBest_GBC = KBest_GBC.fit(KBest_train_X2, cyber_train_dummy_Y)\n",
    "    KBest_GBC_train_pred_ = KBest_GBC.predict(KBest_train_X2) \n",
    "    KBest_GBC_test_pred_ = KBest_GBC.predict(KBest_test_X2) \n",
    "\n",
    "    # Evaluation:\n",
    "\n",
    "      # Confusion matrices:\n",
    "    KBest_GBC_confusion_train = confusion_matrix(cyber_train_dummy_Y, KBest_GBC_train_pred_, labels = [0, 1])\n",
    "    KBest_GBC_confusion_test = confusion_matrix(cyber_test_dummy_Y, KBest_GBC_test_pred_, labels = [0, 1])\n",
    "\n",
    "      # Cross_validation and train/test score:\n",
    "    KBest_GBC_cv = cross_val_score(KBest_GBC, KBest_train_X2, cyber_train_dummy_Y, cv = 5, scoring = 'f1')\n",
    "    KBest_GBC_train_score = KBest_GBC.score(KBest_train_X2, cyber_train_dummy_Y)\n",
    "    KBest_GBC_test_score = KBest_GBC.score(KBest_test_X2, cyber_test_dummy_Y)\n",
    "\n",
    "      # Looking at the F1/balanced accuracy scores:\n",
    "    KBest_GBC_train = balanced_accuracy_score(cyber_train_dummy_Y, KBest_GBC_train_pred_)\n",
    "    KBest_GBC_test = balanced_accuracy_score(cyber_test_dummy_Y, KBest_GBC_test_pred_)\n",
    "    \n",
    "      # Getting some scores on cross-validation, False Negatives and Positives and Balanced Accuracy:\n",
    "    print(\"\\nThe mean cross-validation score is: {:.2%} {}{:.2%}\".format(KBest_GBC_cv.mean(),\n",
    "                                                                     plusminus, KBest_GBC_cv.std()))\n",
    "    conf_df = pd.DataFrame(KBest_GBC_confusion_train)\n",
    "  \n",
    "    FP = conf_df.loc[0, 1]\n",
    "    FN = conf_df.loc[1, 0]\n",
    "    NegT = conf_df.iloc[0].sum()\n",
    "    PosT = conf_df.iloc[1].sum()\n",
    "    \n",
    "    print(\"Training set results:\")\n",
    "    print(conf_df)\n",
    "    print('\\nFalse Positive/Type I Error: {} ({:.2%})'.format(FP, (FP / NegT)))\n",
    "    print('False Negative/Type II Error: {} ({:.2%})'.format(FN, (FN / PosT)))\n",
    "    print('Balanced Accuracy: {:.2%}\\n'.format(KBest_GBC_train))\n",
    "    \n",
    "    conf_df2 = pd.DataFrame(KBest_GBC_confusion_test)\n",
    "\n",
    "    FP2 = conf_df2.loc[0, 1]\n",
    "    FN2 = conf_df2.loc[1, 0]\n",
    "    NegT2 = conf_df2.iloc[0].sum()\n",
    "    PosT2 = conf_df2.iloc[1].sum()\n",
    "    \n",
    "    print(\"Test set results:\")\n",
    "    print(conf_df2)\n",
    "    print('\\nFalse Positive/Type I Error: {} ({:.2%})'.format(FP2, (FP2 / NegT2)))\n",
    "    print('False Negative/Type II Error: {} ({:.2%})'.format(FN2, (FN2 / PosT2)))\n",
    "    print('Balanced Accuracy: {:.2%}'.format(KBest_GBC_test))\n",
    "    print('-----------------')\n",
    "    \n",
    "    results_list2.append([KBest_GBC_test, (FP2 + FN2), KBest_GBC_cv.std()])"
   ]
  },
  {
   "cell_type": "markdown",
   "metadata": {
    "slideshow": {
     "slide_type": "slide"
    }
   },
   "source": [
    "Thus, after running a few models, it looks like our Gradient Booster model came through in the end with the best results.  The key to tweaking this model a bit more was limiting the max-depth for each tree.  This allowed the model to limit the depth to 11 so as to keep the model relatively efficient and avoid over-fitting (allowing our model some more flexibility with newer, incoming data. \n",
    "\n",
    "Even though we tried a number of iterations on the SVC model, we were unable to improve our scores considerably enough from earlier. They were, in fact, worse than our first iterations.  The fact that this Gradient Booster was able to get our False Negatives to under a handful, is noteworthy enough to serve as our selected model for a real-life scenario."
   ]
  },
  {
   "cell_type": "markdown",
   "metadata": {
    "slideshow": {
     "slide_type": "slide"
    }
   },
   "source": [
    "### 6. Final Analysis, Considerations and Avenues for Further Research:"
   ]
  },
  {
   "cell_type": "markdown",
   "metadata": {
    "slideshow": {
     "slide_type": "subslide"
    }
   },
   "source": [
    "#### Potential Weaknesses:\n",
    "\n",
    "While we were able to get some decent scores, there are a few things to not regarding this model and its dataset.  First of all, the filters would greatly benefit from further research and detailed attention.  The above filters are merely a start and represent a base amount of research.  It could certainly serve as a starting point for someone with expertise in the field.\n",
    "\n",
    "In addition, the filters we applied could be susceptible to a certain amount of bias: the filter itself will not be able to catch all instances of cyber-related terrorism conclusively; more likely than not it will miss one certain aspect or another. Increasing the number of eyes on the model and data will help with this.\n",
    "\n"
   ]
  },
  {
   "cell_type": "markdown",
   "metadata": {
    "slideshow": {
     "slide_type": "subslide"
    }
   },
   "source": [
    "#### Further research:\n",
    "\n",
    "Given the richness of the variables within this dataset, there are plenty of avenues for further research.  One could use Regex to search the summary and motive columns for further detail and insight into the nature of these cyber-related tasks.  The filter above is relatively broad and potentially encapsulates instances that many might not consider related to 'cyber' events.  It would be interesting to create a more intricate regex filter which could give us a more detailed understanding of the 'cyber' aspect of these events: How specifically are they related and in what manners? What geographical locations tend to be hotbeds for such activity.  What targets are specified and why?  The 'motive' feature, in particular, could have extensive benefits with prediction, depending on the vocabulary used by those conducting the study and entering the data. \n"
   ]
  },
  {
   "cell_type": "markdown",
   "metadata": {
    "slideshow": {
     "slide_type": "subslide"
    }
   },
   "source": [
    "#### Explanatory v. Predictive Power:\n",
    "\n",
    "With the current analysis, our goal lies mainly in the predictive power of our model - in other words, its ability to fit with the current data and produce an output with completely new data - preferably an output with as little variation in this new accuracy score as possible. We are trying to look at the trends in our current data and use it to identify the classifications and probabilities in which new or future observations will fall.  An explanatory model, with regards to a dataset describing Terrorism, might have interest to a scholar or an academic institution in the sense that it reveals behaviors and patterns of observations that have already occurred, but it has no bearing on future observations. It would offer no suggestions on what these patterns might say regarding incoming data (and in this case, future terror attacks). \n",
    "\n",
    "The caveat, however, is making sure that our model adapts well to new input (or test) data so that the variation between training and test results can be as minimal as possible (i.e. so the difference between the model's prediction and reality is minimal).  Predictive analysis, especially in a terror-related context, involves considerably more risk than an explanatory model, and should be handled with an intense attention to detail and accuracy.\n",
    "\n",
    "\n",
    "\n"
   ]
  },
  {
   "cell_type": "markdown",
   "metadata": {
    "slideshow": {
     "slide_type": "slide"
    }
   },
   "source": [
    "General References:\n",
    "\n",
    "Referenced the following sites for honing my knowledge of the models, python, etc:\n",
    "\n",
    "1. https://www.analyticsvidhya.com/blog/2017/06/a-comprehensive-guide-for-linear-ridge-and-lasso-regression/\n",
    "2. https://machinelearningmastery.com/feature-selection-machine-learning-python/\n",
    "3. https://medium.com/@pushkarmandot/what-is-the-significance-of-c-value-in-support-vector-machine-28224e852c5a"
   ]
  },
  {
   "cell_type": "code",
   "execution_count": null,
   "metadata": {},
   "outputs": [],
   "source": []
  },
  {
   "cell_type": "code",
   "execution_count": null,
   "metadata": {},
   "outputs": [],
   "source": []
  },
  {
   "cell_type": "code",
   "execution_count": null,
   "metadata": {},
   "outputs": [],
   "source": []
  },
  {
   "cell_type": "code",
   "execution_count": null,
   "metadata": {},
   "outputs": [],
   "source": []
  },
  {
   "cell_type": "code",
   "execution_count": null,
   "metadata": {},
   "outputs": [],
   "source": []
  }
 ],
 "metadata": {
  "celltoolbar": "Slideshow",
  "kernelspec": {
   "display_name": "Python 3",
   "language": "python",
   "name": "python3"
  },
  "language_info": {
   "codemirror_mode": {
    "name": "ipython",
    "version": 3
   },
   "file_extension": ".py",
   "mimetype": "text/x-python",
   "name": "python",
   "nbconvert_exporter": "python",
   "pygments_lexer": "ipython3",
   "version": "3.7.0"
  },
  "toc": {
   "base_numbering": 1,
   "nav_menu": {
    "height": "510px",
    "width": "555px"
   },
   "number_sections": false,
   "sideBar": true,
   "skip_h1_title": false,
   "title_cell": "Table of Contents",
   "title_sidebar": "Contents",
   "toc_cell": false,
   "toc_position": {},
   "toc_section_display": true,
   "toc_window_display": false
  }
 },
 "nbformat": 4,
 "nbformat_minor": 2
}
