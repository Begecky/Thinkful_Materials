{
 "cells": [
  {
   "cell_type": "code",
   "execution_count": 1,
   "metadata": {},
   "outputs": [],
   "source": [
    "import pandas as pd\n",
    "import numpy as np\n",
    "import matplotlib.pyplot as plt\n",
    "import seaborn as sns"
   ]
  },
  {
   "cell_type": "code",
   "execution_count": 2,
   "metadata": {},
   "outputs": [],
   "source": [
    "df = pd.read_csv('ESS_data.csv')"
   ]
  },
  {
   "cell_type": "markdown",
   "metadata": {},
   "source": [
    "#### Cleaning for the whole project:"
   ]
  },
  {
   "cell_type": "code",
   "execution_count": 3,
   "metadata": {},
   "outputs": [],
   "source": [
    "# Creating a few dataframes with the data separated by country:\n",
    "\n",
    "spain = df.loc[df['cntry'] == 'ES']\n",
    "serbia = df.loc[df['cntry'] == 'SE']\n",
    "swiss = df.loc[df['cntry'] == 'CH']\n",
    "norway = df.loc[df['cntry'] == 'NO']\n",
    "czech = df.loc[df['cntry'] == 'CZ']\n",
    "denmark = df.loc[df['cntry'] == 'DE']"
   ]
  },
  {
   "cell_type": "markdown",
   "metadata": {},
   "source": [
    "##### Functions for later use:"
   ]
  },
  {
   "cell_type": "code",
   "execution_count": 4,
   "metadata": {},
   "outputs": [],
   "source": [
    "# This helps rid a specific row of nulls:\n",
    "#     (preserving as many rows in the whole df as possible)\n",
    "\n",
    "def NA_Cleaner(df, col):\n",
    "\n",
    "    beta = df.loc[df[col].isna()].index\n",
    "    df.drop(index = beta, axis = 0, inplace = True)"
   ]
  },
  {
   "cell_type": "code",
   "execution_count": 5,
   "metadata": {},
   "outputs": [],
   "source": [
    "# This takes care of rare instances where an id was only found in one of the years:\n",
    "\n",
    "def double_id_issue(df):\n",
    "    \n",
    "    beta = df['idno'].value_counts()\n",
    "    delta = beta.loc[beta == 1]\n",
    "            \n",
    "    ids = list()\n",
    "\n",
    "    for x in delta.index:\n",
    "        ids.append(x)\n",
    "\n",
    "    for x in ids:\n",
    "        gamma = df.loc[df['idno'] == x].index\n",
    "        df.drop(index = gamma, axis = 0, inplace = True)"
   ]
  },
  {
   "cell_type": "markdown",
   "metadata": {},
   "source": [
    "#### Question 1 - Did people become less trusting from 2012 to 2014?"
   ]
  },
  {
   "cell_type": "code",
   "execution_count": 6,
   "metadata": {},
   "outputs": [
    {
     "data": {
      "text/html": [
       "<div>\n",
       "<style scoped>\n",
       "    .dataframe tbody tr th:only-of-type {\n",
       "        vertical-align: middle;\n",
       "    }\n",
       "\n",
       "    .dataframe tbody tr th {\n",
       "        vertical-align: top;\n",
       "    }\n",
       "\n",
       "    .dataframe thead th {\n",
       "        text-align: right;\n",
       "    }\n",
       "</style>\n",
       "<table border=\"1\" class=\"dataframe\">\n",
       "  <thead>\n",
       "    <tr style=\"text-align: right;\">\n",
       "      <th></th>\n",
       "      <th>idno</th>\n",
       "      <th>tvtot</th>\n",
       "      <th>ppltrst</th>\n",
       "      <th>pplfair</th>\n",
       "      <th>pplhlp</th>\n",
       "      <th>happy</th>\n",
       "      <th>sclmeet</th>\n",
       "      <th>sclact</th>\n",
       "      <th>gndr</th>\n",
       "      <th>agea</th>\n",
       "      <th>partner</th>\n",
       "    </tr>\n",
       "    <tr>\n",
       "      <th>year</th>\n",
       "      <th></th>\n",
       "      <th></th>\n",
       "      <th></th>\n",
       "      <th></th>\n",
       "      <th></th>\n",
       "      <th></th>\n",
       "      <th></th>\n",
       "      <th></th>\n",
       "      <th></th>\n",
       "      <th></th>\n",
       "      <th></th>\n",
       "    </tr>\n",
       "  </thead>\n",
       "  <tbody>\n",
       "    <tr>\n",
       "      <th>6</th>\n",
       "      <td>1467.60676</td>\n",
       "      <td>3.977741</td>\n",
       "      <td>5.114592</td>\n",
       "      <td>5.354253</td>\n",
       "      <td>4.748344</td>\n",
       "      <td>7.548680</td>\n",
       "      <td>5.228737</td>\n",
       "      <td>2.560266</td>\n",
       "      <td>1.515251</td>\n",
       "      <td>47.700340</td>\n",
       "      <td>1.372727</td>\n",
       "    </tr>\n",
       "    <tr>\n",
       "      <th>7</th>\n",
       "      <td>1467.60676</td>\n",
       "      <td>4.015677</td>\n",
       "      <td>4.895128</td>\n",
       "      <td>5.340284</td>\n",
       "      <td>4.326716</td>\n",
       "      <td>7.419967</td>\n",
       "      <td>5.260116</td>\n",
       "      <td>2.616878</td>\n",
       "      <td>1.493817</td>\n",
       "      <td>48.048223</td>\n",
       "      <td>1.398347</td>\n",
       "    </tr>\n",
       "  </tbody>\n",
       "</table>\n",
       "</div>"
      ],
      "text/plain": [
       "            idno     tvtot   ppltrst   pplfair    pplhlp     happy   sclmeet  \\\n",
       "year                                                                           \n",
       "6     1467.60676  3.977741  5.114592  5.354253  4.748344  7.548680  5.228737   \n",
       "7     1467.60676  4.015677  4.895128  5.340284  4.326716  7.419967  5.260116   \n",
       "\n",
       "        sclact      gndr       agea   partner  \n",
       "year                                           \n",
       "6     2.560266  1.515251  47.700340  1.372727  \n",
       "7     2.616878  1.493817  48.048223  1.398347  "
      ]
     },
     "execution_count": 6,
     "metadata": {},
     "output_type": "execute_result"
    }
   ],
   "source": [
    "# Looking at the averages for Spain:\n",
    "\n",
    "spain.groupby('year').mean()"
   ]
  },
  {
   "cell_type": "code",
   "execution_count": 7,
   "metadata": {},
   "outputs": [
    {
     "name": "stderr",
     "output_type": "stream",
     "text": [
      "/usr/local/lib/python3.7/site-packages/scipy/stats/stats.py:1713: FutureWarning: Using a non-tuple sequence for multidimensional indexing is deprecated; use `arr[tuple(seq)]` instead of `arr[seq]`. In the future this will be interpreted as an array index, `arr[np.array(seq)]`, which will result either in an error or a different result.\n",
      "  return np.add.reduce(sorted[indexer] * weights, axis=axis) / sumval\n"
     ]
    },
    {
     "data": {
      "image/png": "[encoded data removed]",
      "text/plain": [
       "<Figure size 864x360 with 2 Axes>"
      ]
     },
     "metadata": {
      "needs_background": "light"
     },
     "output_type": "display_data"
    }
   ],
   "source": [
    "# Looking at the distribution visually:\n",
    "\n",
    "fig, (ax1, ax2) = plt.subplots(1, 2, figsize = (12, 5))\n",
    "\n",
    "ax1.hist(spain.loc[spain['year'] == 6, 'ppltrst'])\n",
    "\n",
    "ax2 = sns.kdeplot(spain.loc[spain['year'] == 6, 'ppltrst'])\n",
    "\n",
    "plt.show()"
   ]
  },
  {
   "cell_type": "code",
   "execution_count": 8,
   "metadata": {},
   "outputs": [
    {
     "data": {
      "text/html": [
       "<div>\n",
       "<style scoped>\n",
       "    .dataframe tbody tr th:only-of-type {\n",
       "        vertical-align: middle;\n",
       "    }\n",
       "\n",
       "    .dataframe tbody tr th {\n",
       "        vertical-align: top;\n",
       "    }\n",
       "\n",
       "    .dataframe thead th {\n",
       "        text-align: right;\n",
       "    }\n",
       "</style>\n",
       "<table border=\"1\" class=\"dataframe\">\n",
       "  <thead>\n",
       "    <tr style=\"text-align: right;\">\n",
       "      <th></th>\n",
       "      <th>cntry</th>\n",
       "      <th>idno</th>\n",
       "      <th>year</th>\n",
       "      <th>tvtot</th>\n",
       "      <th>ppltrst</th>\n",
       "      <th>pplfair</th>\n",
       "      <th>pplhlp</th>\n",
       "      <th>happy</th>\n",
       "      <th>sclmeet</th>\n",
       "      <th>sclact</th>\n",
       "      <th>gndr</th>\n",
       "      <th>agea</th>\n",
       "      <th>partner</th>\n",
       "    </tr>\n",
       "  </thead>\n",
       "  <tbody>\n",
       "    <tr>\n",
       "      <th>4409</th>\n",
       "      <td>ES</td>\n",
       "      <td>814.0</td>\n",
       "      <td>7</td>\n",
       "      <td>7.0</td>\n",
       "      <td>NaN</td>\n",
       "      <td>5.0</td>\n",
       "      <td>5.0</td>\n",
       "      <td>8.0</td>\n",
       "      <td>7.0</td>\n",
       "      <td>1.0</td>\n",
       "      <td>2.0</td>\n",
       "      <td>80.0</td>\n",
       "      <td>2.0</td>\n",
       "    </tr>\n",
       "    <tr>\n",
       "      <th>4891</th>\n",
       "      <td>ES</td>\n",
       "      <td>1921.0</td>\n",
       "      <td>7</td>\n",
       "      <td>1.0</td>\n",
       "      <td>NaN</td>\n",
       "      <td>4.0</td>\n",
       "      <td>4.0</td>\n",
       "      <td>7.0</td>\n",
       "      <td>6.0</td>\n",
       "      <td>3.0</td>\n",
       "      <td>2.0</td>\n",
       "      <td>33.0</td>\n",
       "      <td>2.0</td>\n",
       "    </tr>\n",
       "  </tbody>\n",
       "</table>\n",
       "</div>"
      ],
      "text/plain": [
       "     cntry    idno  year  tvtot  ppltrst  pplfair  pplhlp  happy  sclmeet  \\\n",
       "4409    ES   814.0     7    7.0      NaN      5.0     5.0    8.0      7.0   \n",
       "4891    ES  1921.0     7    1.0      NaN      4.0     4.0    7.0      6.0   \n",
       "\n",
       "      sclact  gndr  agea  partner  \n",
       "4409     1.0   2.0  80.0      2.0  \n",
       "4891     3.0   2.0  33.0      2.0  "
      ]
     },
     "execution_count": 8,
     "metadata": {},
     "output_type": "execute_result"
    }
   ],
   "source": [
    "from scipy.stats import ttest_rel\n",
    "\n",
    "# Checking for nulls here and mitigating them:\n",
    "\n",
    "spain.loc[spain['ppltrst'].isna()]"
   ]
  },
  {
   "cell_type": "code",
   "execution_count": 9,
   "metadata": {},
   "outputs": [
    {
     "data": {
      "text/html": [
       "<div>\n",
       "<style scoped>\n",
       "    .dataframe tbody tr th:only-of-type {\n",
       "        vertical-align: middle;\n",
       "    }\n",
       "\n",
       "    .dataframe tbody tr th {\n",
       "        vertical-align: top;\n",
       "    }\n",
       "\n",
       "    .dataframe thead th {\n",
       "        text-align: right;\n",
       "    }\n",
       "</style>\n",
       "<table border=\"1\" class=\"dataframe\">\n",
       "  <thead>\n",
       "    <tr style=\"text-align: right;\">\n",
       "      <th></th>\n",
       "      <th>cntry</th>\n",
       "      <th>idno</th>\n",
       "      <th>year</th>\n",
       "      <th>tvtot</th>\n",
       "      <th>ppltrst</th>\n",
       "      <th>pplfair</th>\n",
       "      <th>pplhlp</th>\n",
       "      <th>happy</th>\n",
       "      <th>sclmeet</th>\n",
       "      <th>sclact</th>\n",
       "      <th>gndr</th>\n",
       "      <th>agea</th>\n",
       "      <th>partner</th>\n",
       "    </tr>\n",
       "  </thead>\n",
       "  <tbody>\n",
       "    <tr>\n",
       "      <th>3196</th>\n",
       "      <td>ES</td>\n",
       "      <td>814.0</td>\n",
       "      <td>6</td>\n",
       "      <td>7.0</td>\n",
       "      <td>6.0</td>\n",
       "      <td>7.0</td>\n",
       "      <td>4.0</td>\n",
       "      <td>8.0</td>\n",
       "      <td>7.0</td>\n",
       "      <td>3.0</td>\n",
       "      <td>2.0</td>\n",
       "      <td>51.0</td>\n",
       "      <td>1.0</td>\n",
       "    </tr>\n",
       "    <tr>\n",
       "      <th>3678</th>\n",
       "      <td>ES</td>\n",
       "      <td>1921.0</td>\n",
       "      <td>6</td>\n",
       "      <td>3.0</td>\n",
       "      <td>7.0</td>\n",
       "      <td>8.0</td>\n",
       "      <td>4.0</td>\n",
       "      <td>8.0</td>\n",
       "      <td>6.0</td>\n",
       "      <td>4.0</td>\n",
       "      <td>1.0</td>\n",
       "      <td>17.0</td>\n",
       "      <td>2.0</td>\n",
       "    </tr>\n",
       "    <tr>\n",
       "      <th>4409</th>\n",
       "      <td>ES</td>\n",
       "      <td>814.0</td>\n",
       "      <td>7</td>\n",
       "      <td>7.0</td>\n",
       "      <td>NaN</td>\n",
       "      <td>5.0</td>\n",
       "      <td>5.0</td>\n",
       "      <td>8.0</td>\n",
       "      <td>7.0</td>\n",
       "      <td>1.0</td>\n",
       "      <td>2.0</td>\n",
       "      <td>80.0</td>\n",
       "      <td>2.0</td>\n",
       "    </tr>\n",
       "    <tr>\n",
       "      <th>4891</th>\n",
       "      <td>ES</td>\n",
       "      <td>1921.0</td>\n",
       "      <td>7</td>\n",
       "      <td>1.0</td>\n",
       "      <td>NaN</td>\n",
       "      <td>4.0</td>\n",
       "      <td>4.0</td>\n",
       "      <td>7.0</td>\n",
       "      <td>6.0</td>\n",
       "      <td>3.0</td>\n",
       "      <td>2.0</td>\n",
       "      <td>33.0</td>\n",
       "      <td>2.0</td>\n",
       "    </tr>\n",
       "  </tbody>\n",
       "</table>\n",
       "</div>"
      ],
      "text/plain": [
       "     cntry    idno  year  tvtot  ppltrst  pplfair  pplhlp  happy  sclmeet  \\\n",
       "3196    ES   814.0     6    7.0      6.0      7.0     4.0    8.0      7.0   \n",
       "3678    ES  1921.0     6    3.0      7.0      8.0     4.0    8.0      6.0   \n",
       "4409    ES   814.0     7    7.0      NaN      5.0     5.0    8.0      7.0   \n",
       "4891    ES  1921.0     7    1.0      NaN      4.0     4.0    7.0      6.0   \n",
       "\n",
       "      sclact  gndr  agea  partner  \n",
       "3196     3.0   2.0  51.0      1.0  \n",
       "3678     4.0   1.0  17.0      2.0  \n",
       "4409     1.0   2.0  80.0      2.0  \n",
       "4891     3.0   2.0  33.0      2.0  "
      ]
     },
     "execution_count": 9,
     "metadata": {},
     "output_type": "execute_result"
    }
   ],
   "source": [
    "# Locating the nulls by 'idno' so we can take them out:\n",
    "\n",
    "spain.loc[(spain['idno'] == 814)|(spain['idno'] == 1921)]"
   ]
  },
  {
   "cell_type": "code",
   "execution_count": 10,
   "metadata": {},
   "outputs": [
    {
     "name": "stderr",
     "output_type": "stream",
     "text": [
      "/usr/local/lib/python3.7/site-packages/pandas/core/frame.py:3940: SettingWithCopyWarning: \n",
      "A value is trying to be set on a copy of a slice from a DataFrame\n",
      "\n",
      "See the caveats in the documentation: http://pandas.pydata.org/pandas-docs/stable/indexing.html#indexing-view-versus-copy\n",
      "  errors=errors)\n"
     ]
    },
    {
     "data": {
      "text/plain": [
       "(2422, 13)"
      ]
     },
     "execution_count": 10,
     "metadata": {},
     "output_type": "execute_result"
    }
   ],
   "source": [
    "# Dropping the nulls:\n",
    "\n",
    "spain.drop(index = [3196, 3678, 4409, 4891], axis = 0, inplace = True)\n",
    "spain.shape"
   ]
  },
  {
   "cell_type": "code",
   "execution_count": 11,
   "metadata": {},
   "outputs": [
    {
     "data": {
      "text/plain": [
       "Ttest_relResult(statistic=2.4561906976601646, pvalue=0.014181580725321856)"
      ]
     },
     "execution_count": 11,
     "metadata": {},
     "output_type": "execute_result"
    }
   ],
   "source": [
    "ttest_rel(spain.loc[spain['year'] == 6, 'ppltrst'], \n",
    "          spain.loc[spain['year'] == 7, 'ppltrst'],\n",
    "          axis = 0)"
   ]
  },
  {
   "cell_type": "markdown",
   "metadata": {},
   "source": [
    "This is a solid p-result here, so you can infer that the difference between these two groups is significant enough to allow acceptance of the other hypothesis (i.e. not the null hypothesis)."
   ]
  },
  {
   "cell_type": "markdown",
   "metadata": {},
   "source": [
    "#### Question 2 - Did people become happier from 2012 to 2014?"
   ]
  },
  {
   "cell_type": "code",
   "execution_count": 12,
   "metadata": {},
   "outputs": [],
   "source": [
    "# Taking care of the null values:\n",
    "\n",
    "NA_Cleaner(swiss, 'happy')\n",
    "NA_Cleaner(norway, 'happy')\n",
    "NA_Cleaner(serbia, 'happy')\n",
    "NA_Cleaner(czech, 'happy')"
   ]
  },
  {
   "cell_type": "code",
   "execution_count": 13,
   "metadata": {},
   "outputs": [],
   "source": [
    "# Taking care of the double-ids:\n",
    "\n",
    "double_id_issue(swiss)\n",
    "double_id_issue(czech)\n",
    "double_id_issue(serbia)\n",
    "double_id_issue(norway)\n",
    "\n",
    "# A list of our current data-frames for later use:\n",
    "\n",
    "df_list = [swiss, serbia, czech, norway]"
   ]
  },
  {
   "cell_type": "code",
   "execution_count": 14,
   "metadata": {},
   "outputs": [],
   "source": [
    "# Looking at the mean and descriptive statistics:\n",
    "\n",
    "swiss_dscr6 = swiss.loc[swiss['year'] == 6, 'happy'].describe()\n",
    "swiss_dscr7 = swiss.loc[swiss['year'] == 7, 'happy'].describe()\n",
    "\n",
    "czech_dscr6 = czech.loc[czech['year'] == 6, 'happy'].describe()\n",
    "czech_dscr7 = czech.loc[czech['year'] == 7, 'happy'].describe()\n",
    "\n",
    "norway_dscr6 = norway.loc[norway['year'] == 6, 'happy'].describe()\n",
    "norway_dscr7 = norway.loc[norway['year'] == 7, 'happy'].describe()\n",
    "\n",
    "serbia_dscr6 = serbia.loc[serbia['year'] == 6, 'happy'].describe()\n",
    "serbia_dscr7 = serbia.loc[serbia['year'] == 7, 'happy'].describe()"
   ]
  },
  {
   "cell_type": "markdown",
   "metadata": {
    "variables": {
     "czech.loc[czech['year'] == 6, 'happy'].shape": "(640,)",
     "czech.loc[czech['year'] == 7, 'happy'].shape": "(640,)",
     "czech_dscr6": "count    640.000000\nmean       6.767188\nstd        2.056446\nmin        0.000000\n25%        5.000000\n50%        7.000000\n75%        8.000000\nmax       10.000000\nName: happy, dtype: float64",
     "czech_dscr7": "count    640.000000\nmean       6.929688\nstd        1.902077\nmin        0.000000\n25%        6.000000\n50%        7.000000\n75%        8.000000\nmax       10.000000\nName: happy, dtype: float64",
     "norway.loc[norway['year'] == 6, 'happy'].shape": "(727,)",
     "norway.loc[norway['year'] == 7, 'happy'].shape": "(727,)",
     "norway_dscr6": "count    727.000000\nmean       8.251719\nstd        1.427270\nmin        0.000000\n25%        8.000000\n50%        8.000000\n75%        9.000000\nmax       10.000000\nName: happy, dtype: float64",
     "norway_dscr7": "count    727.000000\nmean       7.911967\nstd        1.579991\nmin        0.000000\n25%        7.000000\n50%        8.000000\n75%        9.000000\nmax       10.000000\nName: happy, dtype: float64",
     "serbia.loc[serbia['year'] == 6, 'happy'].shape": "(904,)",
     "serbia.loc[serbia['year'] == 7, 'happy'].shape": "(904,)",
     "serbia_dscr6": "count    904.000000\nmean       7.909292\nstd        1.523737\nmin        1.000000\n25%        7.000000\n50%        8.000000\n75%        9.000000\nmax       10.000000\nName: happy, dtype: float64",
     "serbia_dscr7": "count    904.000000\nmean       7.948009\nstd        1.406580\nmin        3.000000\n25%        7.000000\n50%        8.000000\n75%        9.000000\nmax       10.000000\nName: happy, dtype: float64",
     "swiss.loc[swiss['year'] == 6, 'happy'].shape": "(770,)",
     "swiss.loc[swiss['year'] == 7, 'happy'].shape": "(770,)",
     "swiss_dscr6": "count    770.000000\nmean       8.088312\nstd        1.437920\nmin        0.000000\n25%        7.000000\n50%        8.000000\n75%        9.000000\nmax       10.000000\nName: happy, dtype: float64",
     "swiss_dscr7": "count    770.000000\nmean       8.111688\nstd        1.406096\nmin        0.000000\n25%        7.000000\n50%        8.000000\n75%        9.000000\nmax       10.000000\nName: happy, dtype: float64"
    }
   },
   "source": [
    "Here are the descriptive statistics for each country, divided up by the two years in question.  The results are also describing the results for the 'Happy' variable:\n",
    "\n",
    "<table>\n",
    "    <tr>\n",
    "        <th> Switzerland 2012\n",
    "        </th>\n",
    "        <th> Switzerland 2014\n",
    "        </th>\n",
    "        <th> Czechoslovakia 2012\n",
    "        </th>\n",
    "        <th> Czechoslovakia 2014\n",
    "        </th>\n",
    "        <th> Norway 2012\n",
    "        </th>\n",
    "        <th> Norway 2014\n",
    "        </th>\n",
    "        <th> Serbia 2012\n",
    "        </th>\n",
    "        <th> Serbia 2014\n",
    "        </th>\n",
    "    </tr>\n",
    "    <tr>\n",
    "        <td>  {{swiss_dscr6}} \n",
    "        </td>\n",
    "        <td>  {{swiss_dscr7}}\n",
    "        </td>\n",
    "        <td>  {{czech_dscr6}}\n",
    "        </td>\n",
    "        <td>  {{czech_dscr7}}\n",
    "        </td>\n",
    "        <td>  {{norway_dscr6}}\n",
    "        </td>\n",
    "        <td>  {{norway_dscr7}}\n",
    "        </td>\n",
    "        <td>  {{serbia_dscr6}}\n",
    "        </td>\n",
    "        <td>  {{serbia_dscr7}}\n",
    "        </td>\n",
    "    </tr>\n",
    "    <tr>\n",
    "        <td>  {{swiss.loc[swiss['year'] == 6, 'happy'].shape}}\n",
    "        </td>\n",
    "        <td>  {{swiss.loc[swiss['year'] == 7, 'happy'].shape}}\n",
    "        </td>\n",
    "        <td>  {{czech.loc[czech['year'] == 6, 'happy'].shape}}\n",
    "        </td>\n",
    "        <td>  {{czech.loc[czech['year'] == 7, 'happy'].shape}}\n",
    "        </td>\n",
    "        <td>  {{norway.loc[norway['year'] == 6, 'happy'].shape}}\n",
    "        </td>\n",
    "        <td>  {{norway.loc[norway['year'] == 7, 'happy'].shape}}\n",
    "        </td>\n",
    "        <td>  {{serbia.loc[serbia['year'] == 6, 'happy'].shape}}\n",
    "        </td>\n",
    "        <td>  {{serbia.loc[serbia['year'] == 7, 'happy'].shape}}\n",
    "        </td>\n",
    "    </tr>    \n",
    "</table>"
   ]
  },
  {
   "cell_type": "code",
   "execution_count": 15,
   "metadata": {},
   "outputs": [
    {
     "data": {
      "image/png": "[encoded data removed]",
      "text/plain": [
       "<Figure size 864x576 with 4 Axes>"
      ]
     },
     "metadata": {
      "needs_background": "light"
     },
     "output_type": "display_data"
    }
   ],
   "source": [
    "# Looking at the distributions visually:\n",
    "\n",
    "fig, ((ax1, ax2), (ax3, ax4)) = plt.subplots(2, 2, figsize = (12, 8))\n",
    "\n",
    "ax1.hist(swiss.loc[swiss['year'] == 6, 'happy'])\n",
    "ax1.set_title('Switzerland 2012')\n",
    "ax2.hist(swiss.loc[swiss['year'] == 7, 'happy'])\n",
    "ax2.set_title('Switzerland 2014')\n",
    "\n",
    "ax3.hist(czech.loc[czech['year'] == 6, 'happy'])\n",
    "ax3.set_title('Czechoslovakia 2012')\n",
    "ax4.hist(czech.loc[czech['year'] == 7, 'happy'])\n",
    "ax4.set_title('Czechoslovakia 2014')\n",
    "\n",
    "plt.show()"
   ]
  },
  {
   "cell_type": "code",
   "execution_count": 16,
   "metadata": {},
   "outputs": [
    {
     "data": {
      "image/png": "[encoded data removed]",
      "text/plain": [
       "<Figure size 864x576 with 4 Axes>"
      ]
     },
     "metadata": {
      "needs_background": "light"
     },
     "output_type": "display_data"
    }
   ],
   "source": [
    "fig, ((ax1, ax2), (ax3, ax4)) = plt.subplots(2, 2, figsize = (12, 8))\n",
    "\n",
    "ax1.hist(norway.loc[norway['year'] == 6, 'happy'])\n",
    "ax1.set_title('Norway 2012')\n",
    "ax2.hist(norway.loc[norway['year'] == 7, 'happy'])\n",
    "ax2.set_title('Norway 2014')\n",
    "\n",
    "ax3.hist(serbia.loc[serbia['year'] == 6, 'happy'])\n",
    "ax3.set_title('Serbia 2012')\n",
    "ax4.hist(serbia.loc[serbia['year'] == 7, 'happy'])\n",
    "ax4.set_title('Serbia 2014')\n",
    "\n",
    "plt.show()"
   ]
  },
  {
   "cell_type": "code",
   "execution_count": 17,
   "metadata": {},
   "outputs": [
    {
     "data": {
      "image/png": "[encoded data removed]",
      "text/plain": [
       "<Figure size 432x288 with 1 Axes>"
      ]
     },
     "metadata": {
      "needs_background": "light"
     },
     "output_type": "display_data"
    }
   ],
   "source": [
    "# Looking at Serbia's 2014 results in a different way to compare:\n",
    "\n",
    "sns.kdeplot(data = serbia.loc[serbia['year'] == 7, 'happy'])\n",
    "plt.show()"
   ]
  },
  {
   "cell_type": "code",
   "execution_count": 18,
   "metadata": {},
   "outputs": [],
   "source": [
    "def ttests(df_list, col):\n",
    "    \n",
    "    for x in df_list:\n",
    "        print(ttest_rel(x.loc[x['year'] == 6, col], \n",
    "                        x.loc[x['year'] == 7, col],\n",
    "                        axis = 0))\n",
    "    \n",
    "    "
   ]
  },
  {
   "cell_type": "code",
   "execution_count": 19,
   "metadata": {},
   "outputs": [
    {
     "name": "stdout",
     "output_type": "stream",
     "text": [
      "Ttest_relResult(statistic=-0.319412957862232, pvalue=0.7495001355428359)\n",
      "Ttest_relResult(statistic=-0.5581637086030012, pvalue=0.5768709591234161)\n",
      "Ttest_relResult(statistic=-1.4561384833039597, pvalue=0.14584548433894534)\n",
      "Ttest_relResult(statistic=4.2856826576235925, pvalue=2.0674530134057013e-05)\n"
     ]
    }
   ],
   "source": [
    "ttests(df_list, 'happy')"
   ]
  },
  {
   "cell_type": "markdown",
   "metadata": {},
   "source": [
    "#### Question 3 - Who reported watching more TV in 2012, men or women?"
   ]
  },
  {
   "cell_type": "code",
   "execution_count": 20,
   "metadata": {},
   "outputs": [],
   "source": [
    "# Isolating the groups in question:\n",
    "\n",
    "male = df.loc[(df['year'] == 6)&(df['gndr'] == 1)]\n",
    "female = df.loc[(df['year'] == 6)&(df['gndr'] == 2)]"
   ]
  },
  {
   "cell_type": "code",
   "execution_count": 21,
   "metadata": {},
   "outputs": [],
   "source": [
    "NA_Cleaner(male, 'tvtot')\n",
    "NA_Cleaner(female, 'tvtot')"
   ]
  },
  {
   "cell_type": "markdown",
   "metadata": {
    "variables": {
     "female['tvtot'].describe()": "count    2140.000000\nmean        3.944393\nstd         2.049457\nmin         0.000000\n25%         2.000000\n50%         4.000000\n75%         6.000000\nmax         7.000000\nName: tvtot, dtype: float64",
     "male['tvtot'].describe()": "count    2151.000000\nmean        3.901906\nstd         1.983690\nmin         0.000000\n25%         2.000000\n50%         4.000000\n75%         5.000000\nmax         7.000000\nName: tvtot, dtype: float64"
    }
   },
   "source": [
    "Here are the descriptive statistics for our two groups:\n",
    "\n",
    "><table width='210'>\n",
    "     <tr>\n",
    "         <th style='textalign:center'> Male </th>\n",
    "         <th style='textalign:center'> Female </th>\n",
    "     </tr>\n",
    "     <tr>\n",
    "         <td style='textalign:right'> \n",
    "             {{male['tvtot'].describe()}} </td>\n",
    "         <td style='textalign:right'> \n",
    "             {{female['tvtot'].describe()}} </td>\n",
    "     </tr>\n",
    " </table>"
   ]
  },
  {
   "cell_type": "code",
   "execution_count": 26,
   "metadata": {},
   "outputs": [
    {
     "data": {
      "image/png": "[encoded data removed]",
      "text/plain": [
       "<Figure size 432x288 with 1 Axes>"
      ]
     },
     "metadata": {
      "needs_background": "light"
     },
     "output_type": "display_data"
    }
   ],
   "source": [
    "hist_kw = {'alpha':.75}\n",
    "plt.hist(male['tvtot'], color = 'darkblue', **hist_kw)\n",
    "plt.hist(female['tvtot'], color = 'plum', **hist_kw)\n",
    "plt.xlabel('Amount of TV Watched')\n",
    "plt.ylabel('Number of Respondents')\n",
    "plt.show()"
   ]
  },
  {
   "cell_type": "code",
   "execution_count": 23,
   "metadata": {},
   "outputs": [],
   "source": [
    "from scipy.stats import ttest_ind\n",
    "\n",
    "results_3 = ttest_ind(male['tvtot'], \n",
    "                      female['tvtot'])"
   ]
  },
  {
   "cell_type": "code",
   "execution_count": 24,
   "metadata": {},
   "outputs": [
    {
     "name": "stdout",
     "output_type": "stream",
     "text": [
      "The T-Statistic is: -0.6899928109209502.\n",
      "The P-Value is: 0.4902360402696986\n"
     ]
    }
   ],
   "source": [
    "print(\"The T-Statistic is: {}.\\nThe P-Value is: {}\".format(results_3.statistic, \n",
    "                                                            results_3.pvalue))"
   ]
  },
  {
   "cell_type": "markdown",
   "metadata": {},
   "source": [
    "At first glance, it looks like women watched more tv since the descriptive statistics mention that the 75th percentile was at 6 for women and 5 for men.  It is difficult to reach a solid conclusion, however, since self-rating of this nature could vary differently for the groups. The P-value, however, is way off, so you cannot claim a significant difference between the two groups."
   ]
  },
  {
   "cell_type": "markdown",
   "metadata": {},
   "source": [
    "#### Question 4 - Who was more likely to believe people were fair in 2012, people living with a partner or people living alone?"
   ]
  },
  {
   "cell_type": "code",
   "execution_count": 28,
   "metadata": {},
   "outputs": [],
   "source": [
    "# Isolating the groups in question:\n",
    "\n",
    "couple = df.loc[(df['year'] == 6)&(df['partner'] == 1)]\n",
    "alone = df.loc[(df['year'] == 6)&(df['partner'] == 2)]"
   ]
  },
  {
   "cell_type": "code",
   "execution_count": 38,
   "metadata": {},
   "outputs": [
    {
     "name": "stderr",
     "output_type": "stream",
     "text": [
      "/usr/local/lib/python3.7/site-packages/pandas/core/frame.py:3940: SettingWithCopyWarning: \n",
      "A value is trying to be set on a copy of a slice from a DataFrame\n",
      "\n",
      "See the caveats in the documentation: http://pandas.pydata.org/pandas-docs/stable/indexing.html#indexing-view-versus-copy\n",
      "  errors=errors)\n"
     ]
    }
   ],
   "source": [
    "NA_Cleaner(couple, 'pplfair')\n",
    "NA_Cleaner(alone, 'pplfair')"
   ]
  },
  {
   "cell_type": "code",
   "execution_count": 39,
   "metadata": {},
   "outputs": [
    {
     "data": {
      "image/png": "[encoded data removed]",
      "text/plain": [
       "<Figure size 432x288 with 1 Axes>"
      ]
     },
     "metadata": {
      "needs_background": "light"
     },
     "output_type": "display_data"
    }
   ],
   "source": [
    "hist_kw = {'alpha':.75}\n",
    "plt.hist(couple['pplfair'], color = 'darkblue', **hist_kw)\n",
    "plt.hist(alone['pplfair'], color = 'plum', **hist_kw)\n",
    "plt.xlabel('Scale of Responses')\n",
    "plt.ylabel('Number of Respondents')\n",
    "plt.show()"
   ]
  },
  {
   "cell_type": "code",
   "execution_count": 41,
   "metadata": {},
   "outputs": [
    {
     "data": {
      "text/plain": [
       "count    2663.000000\n",
       "mean        6.080736\n",
       "std         2.116945\n",
       "min         0.000000\n",
       "25%         5.000000\n",
       "50%         7.000000\n",
       "75%         8.000000\n",
       "max        10.000000\n",
       "Name: pplfair, dtype: float64"
      ]
     },
     "execution_count": 41,
     "metadata": {},
     "output_type": "execute_result"
    }
   ],
   "source": [
    "couple['pplfair'].describe()"
   ]
  },
  {
   "cell_type": "code",
   "execution_count": 42,
   "metadata": {},
   "outputs": [
    {
     "data": {
      "text/plain": [
       "count    1608.000000\n",
       "mean        5.856965\n",
       "std         2.162229\n",
       "min         0.000000\n",
       "25%         5.000000\n",
       "50%         6.000000\n",
       "75%         7.000000\n",
       "max        10.000000\n",
       "Name: pplfair, dtype: float64"
      ]
     },
     "execution_count": 42,
     "metadata": {},
     "output_type": "execute_result"
    }
   ],
   "source": [
    "alone['pplfair'].describe()"
   ]
  },
  {
   "cell_type": "code",
   "execution_count": 45,
   "metadata": {},
   "outputs": [
    {
     "data": {
      "text/plain": [
       "Ttest_indResult(statistic=-3.3201033970362084, pvalue=0.0009073952609883756)"
      ]
     },
     "execution_count": 45,
     "metadata": {},
     "output_type": "execute_result"
    }
   ],
   "source": [
    "ttest_ind(alone['pplfair'],\n",
    "          couple['pplfair'],\n",
    "          axis = 0)\n"
   ]
  },
  {
   "cell_type": "markdown",
   "metadata": {},
   "source": [
    "This P-value is definitely what we're looking for.  The main thing here is that we are looking at an imbalanced population since there are more couple respondents than individual respondents.  And while the p-value allows us to keep our hypothesis in consideration, the imbalanced data-set will be weakening.  You will want to be sure to use some metrics to account for this with any models built or predictions used."
   ]
  },
  {
   "cell_type": "markdown",
   "metadata": {},
   "source": [
    "#### Question 5: Pick three or four of the countries in the sample and compare how often people met socially in 2014. Are there differences, and if so, which countries stand out?"
   ]
  },
  {
   "cell_type": "code",
   "execution_count": 60,
   "metadata": {},
   "outputs": [],
   "source": [
    "from scipy.stats import f_oneway"
   ]
  },
  {
   "cell_type": "code",
   "execution_count": 47,
   "metadata": {},
   "outputs": [],
   "source": [
    "NA_Cleaner(serbia, 'sclmeet')\n",
    "NA_Cleaner(norway, 'sclmeet')\n",
    "NA_Cleaner(spain, 'sclmeet')\n"
   ]
  },
  {
   "cell_type": "code",
   "execution_count": 71,
   "metadata": {},
   "outputs": [],
   "source": [
    "NA_Cleaner(swiss, 'sclmeet')"
   ]
  },
  {
   "cell_type": "code",
   "execution_count": 83,
   "metadata": {},
   "outputs": [
    {
     "data": {
      "image/png": "[encoded data removed]",
      "text/plain": [
       "<Figure size 864x576 with 4 Axes>"
      ]
     },
     "metadata": {
      "needs_background": "light"
     },
     "output_type": "display_data"
    }
   ],
   "source": [
    "fig, ((ax1, ax2), (ax3, ax4)) = plt.subplots(2, 2, figsize = (12, 8), sharey = True)\n",
    "\n",
    "ax1.hist(serbia.loc[serbia['year'] == 7, 'sclmeet'], color = 'darkblue')\n",
    "ax1.set_title('Serbia')\n",
    "\n",
    "ax2.hist(norway.loc[norway['year'] == 7, 'sclmeet'], color = 'plum')\n",
    "ax2.set_title('Norway')\n",
    "\n",
    "ax3.hist(spain.loc[spain['year'] == 7, 'sclmeet'], color = 'chartreuse')\n",
    "ax3.set_title('Spain')\n",
    "\n",
    "ax4.hist(swiss.loc[swiss['year'] == 7, 'sclmeet'], color = 'mediumslateblue')\n",
    "ax4.set_title('Switzerland')\n",
    "\n",
    "plt.show()"
   ]
  },
  {
   "cell_type": "code",
   "execution_count": 79,
   "metadata": {},
   "outputs": [
    {
     "data": {
      "image/png": "[encoded data removed]",
      "text/plain": [
       "<Figure size 432x288 with 1 Axes>"
      ]
     },
     "metadata": {
      "needs_background": "light"
     },
     "output_type": "display_data"
    }
   ],
   "source": [
    "hist_kw = {'alpha':.75}\n",
    "plt.hist(serbia.loc[serbia['year'] == 7, 'sclmeet'], color = 'darkblue', **hist_kw)\n",
    "plt.hist(norway.loc[norway['year'] == 7, 'sclmeet'], color = 'plum', **hist_kw)\n",
    "plt.hist(spain.loc[spain['year'] == 7, 'sclmeet'], color = 'chartreuse', **hist_kw)\n",
    "plt.xlabel('Scale of Responses')\n",
    "plt.ylabel('Number of Respondents')\n",
    "plt.show()"
   ]
  },
  {
   "cell_type": "code",
   "execution_count": 84,
   "metadata": {},
   "outputs": [
    {
     "name": "stdout",
     "output_type": "stream",
     "text": [
      "count    904.000000\n",
      "mean       5.425885\n",
      "std        1.374919\n",
      "min        2.000000\n",
      "25%        4.000000\n",
      "50%        6.000000\n",
      "75%        7.000000\n",
      "max        7.000000\n",
      "Name: sclmeet, dtype: float64\n",
      "count    727.000000\n",
      "mean       5.303989\n",
      "std        1.349328\n",
      "min        1.000000\n",
      "25%        4.000000\n",
      "50%        6.000000\n",
      "75%        6.000000\n",
      "max        7.000000\n",
      "Name: sclmeet, dtype: float64\n",
      "count    1209.000000\n",
      "mean        5.258065\n",
      "std         1.468061\n",
      "min         1.000000\n",
      "25%         4.000000\n",
      "50%         6.000000\n",
      "75%         6.000000\n",
      "max         7.000000\n",
      "Name: sclmeet, dtype: float64\n",
      "count    769.000000\n",
      "mean       5.162549\n",
      "std        1.309362\n",
      "min        1.000000\n",
      "25%        4.000000\n",
      "50%        6.000000\n",
      "75%        6.000000\n",
      "max        7.000000\n",
      "Name: sclmeet, dtype: float64\n"
     ]
    }
   ],
   "source": [
    "print(serbia.loc[serbia['year'] == 7, 'sclmeet'].describe())\n",
    "print(norway.loc[norway['year'] == 7, 'sclmeet'].describe())\n",
    "print(spain.loc[spain['year'] == 7, 'sclmeet'].describe())\n",
    "print(swiss.loc[swiss['year'] == 7, 'sclmeet'].describe())"
   ]
  },
  {
   "cell_type": "code",
   "execution_count": 69,
   "metadata": {},
   "outputs": [
    {
     "data": {
      "text/plain": [
       "F_onewayResult(statistic=3.760009804148618, pvalue=0.023399625181072477)"
      ]
     },
     "execution_count": 69,
     "metadata": {},
     "output_type": "execute_result"
    }
   ],
   "source": [
    "f_oneway(serbia.loc[serbia['year'] == 7, 'sclmeet'], \n",
    "         norway.loc[norway['year'] == 7, 'sclmeet'], \n",
    "         spain.loc[spain['year'] == 7, 'sclmeet'])"
   ]
  },
  {
   "cell_type": "markdown",
   "metadata": {},
   "source": [
    "Here, we are using ANOVA since we have more than two groups.  The P value is where we want it but we still have a little bit of class imbalance that you will want to keep an eye on with future models and predictions.  Since Serbia, Norway and Switzerland are somewhat closer to each other in population size, you can conclude somewhat more confidently that Serbians seem to be more socially active than the Norwegians and Swiss, but not markedly so. "
   ]
  },
  {
   "cell_type": "markdown",
   "metadata": {},
   "source": [
    "#### Question 6:  Pick three or four of the countries in the sample and compare how often people took part in social activities, relative to others their age, in 2014. Are there differences, and if so, which countries stand out?"
   ]
  },
  {
   "cell_type": "code",
   "execution_count": 136,
   "metadata": {},
   "outputs": [],
   "source": [
    "swiss_14 = swiss.loc[(swiss['year'] == 7)]\n",
    "norway_14 = norway.loc[norway['year'] == 7]\n",
    "spain_14 = spain.loc[spain['year'] == 7]\n",
    "serbia_14 = serbia.loc[serbia['year'] == 7]"
   ]
  },
  {
   "cell_type": "code",
   "execution_count": 142,
   "metadata": {
    "scrolled": true
   },
   "outputs": [
    {
     "name": "stderr",
     "output_type": "stream",
     "text": [
      "/usr/local/lib/python3.7/site-packages/pandas/core/frame.py:3940: SettingWithCopyWarning: \n",
      "A value is trying to be set on a copy of a slice from a DataFrame\n",
      "\n",
      "See the caveats in the documentation: http://pandas.pydata.org/pandas-docs/stable/indexing.html#indexing-view-versus-copy\n",
      "  errors=errors)\n"
     ]
    }
   ],
   "source": [
    "NA_Cleaner(swiss_14, 'sclact')\n",
    "NA_Cleaner(norway_14, 'sclact')\n",
    "NA_Cleaner(spain_14, 'sclact')\n",
    "NA_Cleaner(serbia_14, 'sclact')"
   ]
  },
  {
   "cell_type": "code",
   "execution_count": 145,
   "metadata": {},
   "outputs": [],
   "source": [
    "NA_Cleaner(swiss_14, 'agea')\n",
    "NA_Cleaner(norway_14, 'agea')\n",
    "NA_Cleaner(spain_14, 'agea')\n",
    "NA_Cleaner(serbia_14, 'agea')"
   ]
  },
  {
   "cell_type": "code",
   "execution_count": 146,
   "metadata": {},
   "outputs": [
    {
     "data": {
      "image/png": "[encoded data removed]",
      "text/plain": [
       "<Figure size 1008x1152 with 8 Axes>"
      ]
     },
     "metadata": {
      "needs_background": "light"
     },
     "output_type": "display_data"
    }
   ],
   "source": [
    "fig, ((ax1, ax2), (ax3, ax4), (ax5, ax6), (ax7, ax8)) = plt.subplots(4, 2, figsize=(14, 16), sharey = True)\n",
    "\n",
    "ax1.plot(swiss_14.groupby('agea')['sclact'].agg('count'))\n",
    "ax2.plot(swiss_14.groupby('sclact').agg({'agea': 'mean'}))\n",
    "\n",
    "ax3.plot(serbia_14.groupby('agea')['sclact'].agg('count'))\n",
    "ax4.plot(serbia_14.groupby('sclact').agg({'agea': 'mean'}))\n",
    "\n",
    "ax5.plot(norway_14.groupby('agea')['sclact'].agg('count'))\n",
    "ax6.plot(norway_14.groupby('sclact').agg({'agea': 'mean'}))\n",
    "\n",
    "ax7.plot(spain_14.groupby('agea')['sclact'].agg('count'))\n",
    "ax8.plot(spain_14.groupby('sclact').agg({'agea': 'mean'}))\n",
    "\n",
    "plt.show()"
   ]
  },
  {
   "cell_type": "code",
   "execution_count": 147,
   "metadata": {
    "scrolled": true
   },
   "outputs": [],
   "source": [
    "ch_dscr = swiss_14.groupby('agea')['sclact'].describe()\n",
    "se_dscr = serbia_14.groupby('agea')['sclact'].describe()\n",
    "sp_dscr = spain_14.groupby('agea')['sclact'].describe()\n",
    "no_dscr = norway_14.groupby('agea')['sclact'].describe()"
   ]
  },
  {
   "cell_type": "code",
   "execution_count": null,
   "metadata": {},
   "outputs": [],
   "source": []
  },
  {
   "cell_type": "markdown",
   "metadata": {
    "variables": {
     "spain_14.groupby('sclact').agg({'agea': 'mean'": "<p><strong>SyntaxError</strong>: unexpected EOF while parsing (<ipython-input-131-e8080883c33f>, line 1)</p>\n"
    }
   },
   "source": [
    "<table>\n",
    "    <tr>\n",
    "        <th> Switzerland </th>\n",
    "        <th> Serbia </th>\n",
    "        <th> Spain </th>\n",
    "        <th> Norway </th>\n",
    "    </tr>\n",
    "        <td> {{ch_dscr}} </td>\n",
    "        <td> {{se_dscr}} </td>\n",
    "        <td> {{sp_dscr}} </td>\n",
    "        <td> {{no_dscr}} </td>\n",
    "    <tr>\n",
    "    </tr>\n",
    "    <tr>\n",
    "    </tr>\n",
    "    <tr>\n",
    "    </tr>\n",
    "    <tr>\n",
    "    </tr>\n",
    "<table>"
   ]
  },
  {
   "cell_type": "code",
   "execution_count": 148,
   "metadata": {},
   "outputs": [
    {
     "data": {
      "text/plain": [
       "F_onewayResult(statistic=array([16.8047419 ,  4.64678427]), pvalue=array([7.76166288e-11, 3.02395224e-03]))"
      ]
     },
     "execution_count": 148,
     "metadata": {},
     "output_type": "execute_result"
    }
   ],
   "source": [
    "f_oneway(swiss_14[['sclact', 'agea']],\n",
    "         serbia_14[['sclact', 'agea']],\n",
    "         spain_14[['sclact', 'agea']],\n",
    "         norway_14[['sclact', 'agea']])"
   ]
  },
  {
   "cell_type": "code",
   "execution_count": null,
   "metadata": {},
   "outputs": [],
   "source": []
  },
  {
   "cell_type": "code",
   "execution_count": null,
   "metadata": {},
   "outputs": [],
   "source": []
  },
  {
   "cell_type": "code",
   "execution_count": null,
   "metadata": {},
   "outputs": [],
   "source": []
  },
  {
   "cell_type": "code",
   "execution_count": null,
   "metadata": {},
   "outputs": [],
   "source": []
  },
  {
   "cell_type": "code",
   "execution_count": null,
   "metadata": {},
   "outputs": [],
   "source": []
  },
  {
   "cell_type": "code",
   "execution_count": null,
   "metadata": {},
   "outputs": [],
   "source": []
  }
 ],
 "metadata": {
  "kernelspec": {
   "display_name": "Python 3",
   "language": "python",
   "name": "python3"
  },
  "language_info": {
   "codemirror_mode": {
    "name": "ipython",
    "version": 3
   },
   "file_extension": ".py",
   "mimetype": "text/x-python",
   "name": "python",
   "nbconvert_exporter": "python",
   "pygments_lexer": "ipython3",
   "version": "3.7.1"
  },
  "toc": {
   "base_numbering": 1,
   "nav_menu": {},
   "number_sections": false,
   "sideBar": true,
   "skip_h1_title": false,
   "title_cell": "Table of Contents",
   "title_sidebar": "Contents",
   "toc_cell": false,
   "toc_position": {
    "height": "calc(100% - 180px)",
    "left": "10px",
    "top": "150px",
    "width": "165px"
   },
   "toc_section_display": true,
   "toc_window_display": true
  },
  "varInspector": {
   "cols": {
    "lenName": 16,
    "lenType": 16,
    "lenVar": 40
   },
   "kernels_config": {
    "python": {
     "delete_cmd_postfix": "",
     "delete_cmd_prefix": "del ",
     "library": "var_list.py",
     "varRefreshCmd": "print(var_dic_list())"
    },
    "r": {
     "delete_cmd_postfix": ") ",
     "delete_cmd_prefix": "rm(",
     "library": "var_list.r",
     "varRefreshCmd": "cat(var_dic_list()) "
    }
   },
   "position": {
    "height": "504px",
    "left": "1149.09px",
    "right": "20px",
    "top": "120px",
    "width": "350px"
   },
   "types_to_exclude": [
    "module",
    "function",
    "builtin_function_or_method",
    "instance",
    "_Feature"
   ],
   "window_display": false
  }
 },
 "nbformat": 4,
 "nbformat_minor": 2
}
