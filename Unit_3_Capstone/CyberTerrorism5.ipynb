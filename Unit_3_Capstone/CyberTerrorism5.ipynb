[33mcommit 1e15c8ff0461bbaf1b9692f22530491c601f0c81[m[33m ([m[1;36mHEAD[m[33m, [m[1;32mmaster[m[33m)[m
Author: Rebecca Green <becks@Vader.local>
Date:   Fri Oct 12 18:20:30 2018 -0600

    Reorganization 10/12/18 @ 18:20

[33mcommit c1a1a150d102dc8aaa9aeff5ed6e84a22cef74ca[m
Author: Rebecca Green <becks@Vader.centurylink.net>
Date:   Wed Oct 10 21:49:57 2018 -0600

    10/10/18 @ 21:49

[33mcommit 09bb9a509edb000d38d3fd904deb994502e6d5f0[m
Author: Rebecca Green <becks@Vader.centurylink.net>
Date:   Mon Oct 8 08:55:31 2018 -0600

    10/8/18 @ 08:55

[33mcommit a6c60e90ef24288cb439916173b19590961789e4[m
Author: Rebecca Green <becks@Vader.centurylink.net>
Date:   Mon Oct 8 02:00:59 2018 -0600

    10/8/18 @ 02:00

[33mcommit c0697e9a10d2727104e675d85dd830f3827e0c8b[m
Author: Rebecca Green <becks@Vader.centurylink.net>
Date:   Sun Oct 7 22:33:27 2018 -0600

    10/7/18 @ 22:33

[33mcommit 68d2afee57cff8f3ac72b9b13be52e31b26a31a4[m
Author: Rebecca Green <becks@Vader.centurylink.net>
Date:   Sun Oct 7 16:41:37 2018 -0600

    10/7/18 @ 16:41

[33mcommit 0f06a4e435177634c6e6549c1bcc63c97a0cd47f[m
Author: Rebecca Green <becks@Vader.centurylink.net>
Date:   Sun Oct 7 13:08:15 2018 -0600

    10/7/18 @ 13:09

[33mcommit 5d5f41aced83b0b98ca16db7a9e8743ecd4a7d3f[m
Author: Rebecca Green <becks@Vader.centurylink.net>
Date:   Sun Oct 7 00:15:12 2018 -0600

    10/7/18 @ `12:15

[33mcommit b392b73171321e9e349480dd0475ae9610886968[m
Author: Rebecca Green <becks@Vader.centurylink.net>
Date:   Sat Oct 6 17:58:14 2018 -0600

    10/6/18 @ 17:58

[33mcommit 46e61bc7c562f9997166dfdc55c7602313490109[m
Author: Rebecca Green <becks@Vader.local>
Date:   Fri Oct 5 18:05:46 2018 -0600

    10/5/18 @ 18:05

[33mcommit 2274e68914716f923f2c89c1c5fc49a8139ab601[m
Author: Rebecca Green <becks@Vader.centurylink.net>
Date:   Fri Oct 5 00:15:10 2018 -0600

    10/5/18 @ 00:15

[33mcommit 048883a11e2d4f4eb9d17d38ec6c88a24ec7cdf1[m
Author: Rebecca Green <becks@Vader.local>
Date:   Wed Oct 3 22:35:56 2018 -0600

    10/3/18 @ 22:35

[33mcommit 5994b645e30539c176adc66e9564b402770254f1[m
Author: Rebecca Green <becks@Vader.local>
Date:   Wed Oct 3 01:02:37 2018 -0600

    10/2/18 @ 01:02

[33mcommit 20dd67a402c99b1291cdd6402029831a7b2065fa[m
Author: Rebecca Green <becks@Vader.local>
Date:   Mon Oct 1 22:44:03 2018 -0600

    10/1/18 @ 22:43 pm

[33mcommit f33b5c5d4ea071745376e2a87e5815d676adeaa6[m
Author: Rebecca Green <becks@Vader.local>
Date:   Sun Sep 30 22:44:05 2018 -0600

    9/29/18 @ 22:44

[33mcommit e087f35c9d0683108da89d3026b8bcc4d0f9af88[m
Author: Rebecca Green <becks@Vader.local>
Date:   Sat Sep 29 22:46:45 2018 -0600

    9/29/18 @ 22:46

[33mcommit 5ebd478d12483939e1184c58627737a3147f5a99[m
Author: Rebecca Green <becks@Vader.centurylink.net>
Date:   Fri Sep 28 22:44:07 2018 -0600

    9/28/2018 @ 22:44

[33mcommit c3d5fd340f020535a4cd6b6dcf3123f0cc358011[m
Author: Rebecca Green <becks@Vader.centurylink.net>
Date:   Fri Sep 28 17:28:30 2018 -0600

    9/28/18 @ 17:28

[33mcommit 78d24e60c1b674a82050fd4d8fa739d057c58c4c[m
Author: Rebecca Green <becks@Vader.centurylink.net>
Date:   Fri Sep 28 11:22:59 2018 -0600

    9/28/18 @ 11:22

[33mcommit 2b4004ae38539639116cc45584d7a6e7026da2d9[m
Author: Rebecca Green <becks@Vader.local>
Date:   Mon Sep 24 22:59:33 2018 -0600

    9/24/18 @ 22:59

[33mcommit 849de044f3b0143cc279174c2ed447aaca2d01ac[m
Author: Rebecca Green <becks@Vader.local>
Date:   Mon Sep 24 18:51:21 2018 -0600

    9/24/27 @ 18:51

[33mcommit 28f69f239a461c3247e4a47aa688f82900cf4978[m
Author: Rebecca Green <becks@Vader.local>
Date:   Mon Sep 24 01:07:39 2018 -0600

    9/23/18 @ 01:07

[33mcommit 2b4b6483ebfbd758dc58ebb0d4e074eca8a56aa3[m
Author: Rebecca Green <becks@Vader.local>
Date:   Fri Sep 21 23:52:21 2018 -0600

    9/21/18 @ 11:52

[33mcommit bc72af4361240aea2ea6eecacb23cee6c2092768[m
Author: Rebecca Green <becks@Vader.centurylink.net>
Date:   Wed Sep 19 00:05:59 2018 -0600

    9/19/18 @ 00:05

[33mcommit 064d5901e92ddbe0442b9a08be459e02361ff158[m
Author: Rebecca Green <becks@Vader.local>
Date:   Mon Sep 17 22:41:16 2018 -0600

    9/17/18 @ 22:41

[33mcommit 7b33281e649619e3b91019d340ee0ffe1097c765[m
Author: Rebecca Green <becks@Vader.centurylink.net>
Date:   Mon Sep 17 14:31:28 2018 -0600

    9/17/18 @ 14:31

[33mcommit 0e4ced42211a1343a7d56706557aee9947f09d2f[m
Author: Rebecca Green <becks@Vader.centurylink.net>
Date:   Mon Sep 17 10:03:15 2018 -0600

    9/17/18 @ 10:03

[33mcommit ae31240740ba93367da627c7d8d181c9304294fe[m
Author: Rebecca Green <becks@Vader.centurylink.net>
Date:   Sat Sep 8 21:29:01 2018 -0600

    9/8/18 @ 21:28

[33mcommit 2961105eda7c687e279fa8ee6715960454a7e2fc[m
Author: Rebecca Green <becks@Vader.centurylink.net>
Date:   Sat Sep 8 17:04:14 2018 -0600

    9/8/18 @ 17:04

[33mcommit 843880db24e6a46f7259bb84442384355d5a29f1[m
Author: Rebecca Green <becks@Vader.centurylink.net>
Date:   Fri Sep 7 16:44:16 2018 -0600

    9/7/18 @ 16:44

[33mcommit ac7fd896ac428549b7b9cca628d3bd1f16895d63[m
Author: Rebecca Green <becks@Vader.centurylink.net>
Date:   Fri Sep 7 15:21:43 2018 -0600

    9/7/18 @ 15:21

[33mcommit 9891be6fc8e175bb2571f18fe19c7004a9108926[m
Author: Rebecca Green <becks@Vader.local>
Date:   Tue Sep 4 22:28:23 2018 -0600

    9/4/18 @ 22:27

[33mcommit 95cbb51bf961a2dd7adfeaef0f14da67c466ba29[m
Author: Rebecca Green <becks@Vader.centurylink.net>
Date:   Mon Sep 3 23:05:45 2018 -0600

    qqqq

[33mcommit f4154158ddef39b7b26a8d0cb7c74dcb216b411b[m
Author: Rebecca Green <becks@Vader.centurylink.net>
Date:   Mon Sep 3 18:11:17 2018 -0600

    Initial Commit: 9/3/18 @ 18:11

[33mcommit dad90c3f37db8f2fbb93b1c43c3d5b4704d360d3[m
Author: Rebecca Green <becks@Vader.centurylink.net>
Date:   Mon Sep 3 16:49:59 2018 -0600

    9/3/18 @ 16:49

[33mcommit b2ea12e6508e1904122f05fa0489a05172fde6e5[m
Author: Rebecca Green <becks@Vader.centurylink.net>
Date:   Sat Sep 1 22:08:26 2018 -0600

    9/1/18 @ 10:08

[33mcommit 1d1cd4b6d031c32e0be7250ef267496cc1eb6756[m
Author: Rebecca Green <becks@Vader.centurylink.net>
Date:   Sat Sep 1 21:36:54 2018 -0600

    9/1/18 @ 21:36

[33mcommit 9294f75f6f7eed9b637ddf056ccddfd3688c0ecb[m
Author: Rebecca Green <becks@Vader.centurylink.net>
Date:   Fri Aug 31 23:05:58 2018 -0600

    8/31/18 @ 23:05

[33mcommit 4708c6fc53ef987a61233aeafc8c3544aa5e078b[m
Author: Rebecca Green <becks@Vader.centurylink.net>
Date:   Fri Aug 31 20:20:10 2018 -0600

    8/31/18 @ 20:19

[33mcommit 1c4c2c9e31ca3f8d0efb5054a557c83c9eab1d40[m
Author: Rebecca Green <becks@Vader.centurylink.net>
Date:   Fri Aug 31 12:38:41 2018 -0600

    8/31/18 @ 12:38

[33mcommit 1be61e8170e8d70970f86401d033bc0311152a9c[m
Author: Rebecca Green <becks@Vader.centurylink.net>
Date:   Fri Aug 31 11:56:15 2018 -0600

    8/31/18 @ 11:56

[33mcommit 566adaadf89fa00e5096c9623687f14e15bc101b[m
Author: Rebecca Green <becks@Vader.centurylink.net>
Date:   Thu Aug 30 18:27:42 2018 -0600

    8/30/18 @ 18:27

[33mcommit 82778ce2b6230e14933cb8821945b6390138b07c[m
Author: Rebecca Green <becks@Vader.centurylink.net>
Date:   Thu Aug 30 16:49:15 2018 -0600

    8/30/18 @16:48

[33mcommit 99bbb8e43b34f23def795e9b4d8d738a5a2dd76f[m
Author: Rebecca Green <becks@Vader.centurylink.net>
Date:   Thu Aug 30 16:17:21 2018 -0600

    8/30/18 @ 16:17

[33mcommit 54db71f5809de1428325d70aae7c64ca909f163e[m
Author: Rebecca Green <becks@Vader.centurylink.net>
Date:   Thu Aug 30 13:20:47 2018 -0600

    Update: 8/30/18 @ 13:20

[33mcommit 9a1ce03e83bca2b070db002e9cceead633e80afd[m
Author: Rebecca Green <becks@Vader.centurylink.net>
Date:   Thu Aug 30 13:19:15 2018 -0600

    Initial Commit

[33mcommit e3d9201adae2d93393a91d8dc1264ac8b80e1f10[m
Author: Rebecca Green <becks@Vader.centurylink.net>
Date:   Mon Aug 27 16:00:32 2018 -0600

    Initial Commit
