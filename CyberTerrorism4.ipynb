{
 "cells": [
  {
   "cell_type": "markdown",
   "metadata": {},
   "source": [
    "### 1. Importing and Cleaning:"
   ]
  },
  {
   "cell_type": "code",
   "execution_count": 1,
   "metadata": {},
   "outputs": [
    {
     "name": "stderr",
     "output_type": "stream",
     "text": [
      "/usr/local/lib/python3.7/site-packages/sklearn/utils/__init__.py:4: DeprecationWarning: Using or importing the ABCs from 'collections' instead of from 'collections.abc' is deprecated, and in 3.8 it will stop working\n",
      "  from collections import Sequence\n"
     ]
    }
   ],
   "source": [
    "import pandas as pd\n",
    "import numpy as np\n",
    "import scipy\n",
    "import matplotlib.pyplot as plt\n",
    "import seaborn as sns\n",
    "import sklearn as skl\n",
    "import gc\n",
    "%matplotlib inline\n",
    "\n",
    "import warnings\n",
    "warnings.filterwarnings('ignore')"
   ]
  },
  {
   "cell_type": "code",
   "execution_count": 2,
   "metadata": {},
   "outputs": [],
   "source": [
    "df = pd.read_excel('globalterrorismdb_0718dist.xlsx', \n",
    "                   usecols = 'A, I, K, M, S:W, AA:AB, AD, AJ, AL, AM, AN, AP, BG, BM:BN, BQ, CE, CG, DA',\n",
    "                   dtype = {'summary':str, 'motive':str})                                                                                         "
   ]
  },
  {
   "cell_type": "code",
   "execution_count": 3,
   "metadata": {},
   "outputs": [],
   "source": [
    "# Renaming our columns for usability:\n",
    "\n",
    "cyber_data = pd.DataFrame(df.rename({'eventid':'event_id', 'doubtterr':'doubt', 'attacktype1_txt':'attack_1txt', \n",
    "                                     'targtype1_txt':'target_1txt', 'targsubtype1':'sub_target',\n",
    "                                     'targsubtype1_txt':'sub_targettxt', 'target1':'specific_target',\n",
    "                                     'natlty1_txt':'victim_nationalitytxt', 'gname':'group_name', \n",
    "                                     'guncertain1':'group_attrib_crtainty', 'individual':'unaffil_individ', \n",
    "                                     'weaptype1':'weapon', 'weaptype1_txt':'weapontxt', \n",
    "                                     'weapsubtype1':'sub_weapon', 'weapsubtype1_txt':'sub_weapontxt'}, axis = 1))"
   ]
  },
  {
   "cell_type": "code",
   "execution_count": 4,
   "metadata": {},
   "outputs": [],
   "source": [
    "cyber_data.dropna(axis = 0, how = 'any', inplace = True)"
   ]
  },
  {
   "cell_type": "code",
   "execution_count": 5,
   "metadata": {},
   "outputs": [
    {
     "name": "stdout",
     "output_type": "stream",
     "text": [
      "False    109486\n",
      "True       7047\n",
      "Name: summary, dtype: int64\n"
     ]
    }
   ],
   "source": [
    "# Creating the input Dataframe (cyber_train):\n",
    "# Using regex to isolate qualifying data and make a mask to filter our main dataframe:\n",
    "\n",
    "import re\n",
    "\n",
    "  # First taking a look to see how many rows that will give us to work with:\n",
    "    \n",
    "print(cyber_data.summary.str.contains('cyb+|social|inform+|network+|twit+|facebook|fake|electio+|internet|ads|adv+|priv+|hac+|breac+|emai+',\n",
    "                         flags = re.IGNORECASE, regex = True).value_counts())\n",
    "\n",
    "# Creating the mask:\n",
    "\n",
    "mask = cyber_data.summary.str.contains(r'(cyb+|social|inform+|network+|twit+|facebook|fake|electio+|internet|ads|adv+|priv+|hac+|breac+|emai+)', \n",
    "                           flags = re.IGNORECASE)\n",
    "\n",
    "# Filtering our main data:\n",
    "\n",
    "cyber_data = pd.DataFrame(cyber_data[mask])"
   ]
  },
  {
   "cell_type": "code",
   "execution_count": 6,
   "metadata": {},
   "outputs": [],
   "source": [
    "from sklearn.model_selection import cross_val_score, train_test_split"
   ]
  },
  {
   "cell_type": "code",
   "execution_count": 7,
   "metadata": {},
   "outputs": [],
   "source": [
    "# Defining our Input and Output data:\n",
    "# (Cleaning afterwards to prevent leakage)\n",
    "\n",
    "X = cyber_data.drop(['event_id', 'success', 'summary', 'motive'], axis = 1)\n",
    "Y = pd.DataFrame(cyber_data['success'])\n",
    "\n",
    "X_train, X_test, Y_train, Y_test = train_test_split(X, Y, test_size = .25)\n",
    "\n",
    "X_train_start_index = X_train.index\n",
    "X_test_start_index = X_test.index"
   ]
  },
  {
   "cell_type": "code",
   "execution_count": 69,
   "metadata": {},
   "outputs": [],
   "source": [
    "cyber_train_X = X_train[['country_txt', 'region_txt', 'city', 'crit1', 'crit2', 'crit3', 'doubt',\n",
    "                       'suicide', 'attack_1txt', 'target_1txt', 'sub_targettxt', 'corp1',\n",
    "                       'specific_target', 'victim_nationalitytxt', 'group_name',\n",
    "                       'group_attrib_crtainty', 'unaffil_individ', 'weapontxt',\n",
    "                       'sub_weapontxt']]\n",
    "\n",
    "# Making sure input and output dataframes still have the same amount of rows:\n",
    "\n",
    "cyber_train_Y = Y_train.iloc[Y_train.index == cyber_train_X.index]"
   ]
  },
  {
   "cell_type": "code",
   "execution_count": 70,
   "metadata": {},
   "outputs": [],
   "source": [
    "# Applying the same process above to our test data:\n",
    "\n",
    "cyber_test_X = X_test[['country_txt', 'region_txt', 'city', 'crit1', 'crit2', 'crit3', 'doubt',\n",
    "                       'suicide', 'attack_1txt', 'target_1txt', 'sub_targettxt', 'corp1',\n",
    "                       'specific_target', 'victim_nationalitytxt', 'group_name',\n",
    "                       'group_attrib_crtainty', 'unaffil_individ', 'weapontxt',\n",
    "                       'sub_weapontxt']]\n",
    "\n",
    "cyber_test_Y = Y_test.iloc[Y_test.index == cyber_test_X.index]"
   ]
  },
  {
   "cell_type": "markdown",
   "metadata": {},
   "source": [
    "### 2. Wrangling:"
   ]
  },
  {
   "cell_type": "markdown",
   "metadata": {},
   "source": [
    "#### A. Weapontxt:"
   ]
  },
  {
   "cell_type": "markdown",
   "metadata": {},
   "source": [
    "> ##### Training Input:"
   ]
  },
  {
   "cell_type": "code",
   "execution_count": 10,
   "metadata": {},
   "outputs": [],
   "source": [
    "# Grouping Biological and Chemical Weapons:\n",
    "cyber_train_X['weapontxt'] = cyber_train_X['weapontxt'].replace('Chemical', 'Bio-Chem')\n",
    "cyber_train_X['weapontxt'] = cyber_train_X['weapontxt'].replace('Biological', 'Bio-Chem')\n",
    "\n",
    "# Grouping Fake and Other together:\n",
    "cyber_train_X['weapontxt'] = cyber_train_X['weapontxt'].replace('Fake Weapons', 'Fake/Other')\n",
    "cyber_train_X['weapontxt'] = cyber_train_X['weapontxt'].replace('Other', 'Fake/Other')\n",
    "\n",
    "# Aggregating Vehicle into Sabotage Equipment:\n",
    "cyber_train_X['weapontxt'] = cyber_train_X['weapontxt'].replace(\n",
    "    'Vehicle (not to include vehicle-borne explosives, i.e., car or truck bombs)', 'Sabotage Equipment')\n"
   ]
  },
  {
   "cell_type": "markdown",
   "metadata": {},
   "source": [
    "> ##### Test Input:"
   ]
  },
  {
   "cell_type": "code",
   "execution_count": 11,
   "metadata": {},
   "outputs": [],
   "source": [
    "# Grouping Biological and Chemical Weapons:\n",
    "cyber_test_X['weapontxt'] = cyber_test_X['weapontxt'].replace('Chemical', 'Bio-Chem')\n",
    "cyber_test_X['weapontxt'] = cyber_test_X['weapontxt'].replace('Biological', 'Bio-Chem')\n",
    "\n",
    "# Grouping Fake and Other together:\n",
    "cyber_test_X['weapontxt'] = cyber_test_X['weapontxt'].replace('Fake Weapons', 'Fake/Other')\n",
    "cyber_test_X['weapontxt'] = cyber_test_X['weapontxt'].replace('Other', 'Fake/Other')\n",
    "\n",
    "# Aggregating Vehicle into Sabotage Equipment:\n",
    "cyber_test_X['weapontxt'] = cyber_test_X['weapontxt'].replace(\n",
    "    'Vehicle (not to include vehicle-borne explosives, i.e., car or truck bombs)', 'Sabotage Equipment')\n"
   ]
  },
  {
   "cell_type": "markdown",
   "metadata": {},
   "source": [
    "#### B. Sub_targettxt:"
   ]
  },
  {
   "cell_type": "markdown",
   "metadata": {},
   "source": [
    "> ##### Training Input:"
   ]
  },
  {
   "cell_type": "code",
   "execution_count": 13,
   "metadata": {},
   "outputs": [],
   "source": [
    "industrial = ['Gas/Oil/Electric', 'Industrial/Textiles/Factory', 'Farm/Ranch', 'Mining', 'Construction']\n",
    "cyber_train_X['sub_targettxt'] = cyber_train_X['sub_targettxt'].where(\n",
    "                                     cyber_train_X['sub_targettxt'].apply(lambda x: x not in industrial), \n",
    "                                     other = 'Industrial')\n",
    "\n",
    "\n",
    "white_collar = ['Restaurant/Bar/Café', 'Bank/Commerce', 'Multinational Corporation', \n",
    "                'Medical/Pharmaceutical', 'Retail/Grocery/Bakery (including cell phone shops and generic shops)', \n",
    "                'Hotel/Resort', 'Entertainment/Cultural/Stadium/Casino', 'Private Security Company/Firm',\n",
    "                'Legal Services']\n",
    "cyber_train_X['sub_targettxt'] = cyber_train_X['sub_targettxt'].where(\n",
    "                                     cyber_train_X['sub_targettxt'].apply(lambda x: x not in white_collar), \n",
    "                                     other = 'White_Collar')\n",
    "\n",
    "\n",
    "gov_figure1 = ['Judges/Attorneys/Courts', 'Government Personnel (excluding police, military)']\n",
    "cyber_train_X['sub_targettxt'] = cyber_train_X['sub_targettxt'].where(\n",
    "                                     cyber_train_X['sub_targettxt'].apply(lambda x: x not in gov_figure1), \n",
    "                                     other = 'Gov_Figure1')\n",
    "\n",
    "gov_figure2 = ['Politician or Political Party Movement/Meeting/Rally', 'Royalty', 'Head of State',\n",
    "               'Election-Related']\n",
    "cyber_train_X['sub_targettxt'] = cyber_train_X['sub_targettxt'].where(\n",
    "                                     cyber_train_X['sub_targettxt'].apply(lambda x: x not in gov_figure2), \n",
    "                                     other = 'Gov_Figure2')\n",
    "\n",
    "\n",
    "police_facilities = ['Police Buildings (Headquarters/Stations/School)', \n",
    "                     'Police Patrol (including vehicles and convoys)', \n",
    "                     'Police Checkpoint', 'Prison/Jail']\n",
    "cyber_train_X['sub_targettxt'] = cyber_train_X['sub_targettxt'].where(\n",
    "                                     cyber_train_X['sub_targettxt'].apply(lambda x: x not in gov_figure2), \n",
    "                                     other = 'Police_Facilities')\n",
    "\n",
    "military_facilities = ['Military Barracks/Base/Headquarters/Checkpost', 'Military Recruiting Station/Academy',\n",
    "                       'Military Weaponry', 'Military Aircraft', 'Military Maritime', \n",
    "                       'Military Transportation/Vehicle (excluding convoys)', 'Military Checkpoint',\n",
    "                       'Paramilitary']\n",
    "cyber_train_X['sub_targettxt'] = cyber_train_X['sub_targettxt'].where(\n",
    "                                     cyber_train_X['sub_targettxt'].apply(lambda x: x not in military_facilities), \n",
    "                                     other = 'Military_Facilities')\n",
    "\n",
    "\n",
    "military_personnel = ['Military Unit/Patrol/Convoy', 'Non-combatant Personnel', \n",
    "                      'Military Personnel (soldiers, troops, officers, forces)']\n",
    "cyber_train_X['sub_targettxt'] = cyber_train_X['sub_targettxt'].where(\n",
    "                                     cyber_train_X['sub_targettxt'].apply(lambda x: x not in military_personnel), \n",
    "                                     other = 'Military_Personnel')\n",
    "\n",
    "\n",
    "pilots_aircraft = ['Aircraft (not at an airport)', 'Airline Officer/Personnel']\n",
    "cyber_train_X['sub_targettxt'] = cyber_train_X['sub_targettxt'].where(\n",
    "                                     cyber_train_X['sub_targettxt'].apply(lambda x: x not in military_personnel), \n",
    "                                     other = 'Pilots_Aircraft')\n",
    "\n",
    "gov_diplomatic = [' Diplomatic Personnel (outside of embassy, consulate)', 'Embassy/Consulate', \n",
    "                  'International Organization (peacekeeper, aid agency, compound)']\n",
    "cyber_train_X['sub_targettxt'] = cyber_train_X['sub_targettxt'].where(\n",
    "                                     cyber_train_X['sub_targettxt'].apply(lambda x: x not in gov_diplomatic), \n",
    "                                     other = 'Gov_Diplomatic')\n",
    "\n",
    "educational = ['Teacher/Professor/Instructor', 'School/University/Educational Building', \n",
    "               'Other Personnel']\n",
    "cyber_train_X['sub_targettxt'] = cyber_train_X['sub_targettxt'].where(\n",
    "                                     cyber_train_X['sub_targettxt'].apply(lambda x: x not in educational), \n",
    "                                     other = 'Educational')\n",
    "\n",
    "food_water = ['Food Supply', 'Water Supply']\n",
    "cyber_train_X['sub_targettxt'] = cyber_train_X['sub_targettxt'].where(\n",
    "                                     cyber_train_X['sub_targettxt'].apply(lambda x: x not in food_water), \n",
    "                                     other = 'Food_Water')\n",
    "\n",
    "media = ['Newspaper Journalist/Staff/Facility', 'Radio Journalist/Staff/Facility', \n",
    "         'Television Journalist/Staff/Facility', 'Other (including online news agencies)']\n",
    "cyber_train_X['sub_targettxt'] = cyber_train_X['sub_targettxt'].where(\n",
    "                                     cyber_train_X['sub_targettxt'].apply(lambda x: x not in media), \n",
    "                                     other = 'Media')\n",
    "\n",
    "\n",
    "religious = ['Religion Identified', 'Religious Figure', 'Place of Worship', \n",
    "             'Affiliated Institution']\n",
    "cyber_train_X['sub_targettxt'] = cyber_train_X['sub_targettxt'].where(\n",
    "                                     cyber_train_X['sub_targettxt'].apply(lambda x: x not in military_personnel), \n",
    "                                     other = 'Pilots_Aircraft')\n",
    "\n",
    "\n",
    "political = ['Protrainer', 'Political Party Member/Rally', 'Party Official/Candidate/Other Personnel', \n",
    "             'Party Office/Facility', 'Rally']\n",
    "cyber_train_X['sub_targettxt'] = cyber_train_X['sub_targettxt'].where(\n",
    "                                     cyber_train_X['sub_targettxt'].apply(lambda x: x not in political), \n",
    "                                     other = 'Political')\n",
    "\n",
    "mass_socio = ['Refugee (including Camps/IDP/Asylum Seekers)', 'Named Civilian', 'Student', \n",
    "              'Race/Ethnicity Identified', 'Farmer', 'Vehicles/Transportation', 'Marketplace/Plaza/Square', 'Village/City/Town/Suburb', \n",
    "              'House/Apartment/Residence', 'Laborer (General)/Occupation Identified', 'Procession/Gathering (funeral, wedding, birthday, religious)', \n",
    "              'Public Areas (e.g., Public garden, parking lot, garage, beach, public buildings, camps)',\n",
    "             'Memorial/Cemetery/Monument', 'Museum/Cultural Center/Cultural House', 'Labor Union Related', \n",
    "              'Tourism Travel Agency', 'Tour Bus/Van/Vehicle', 'Tourist', 'Other Facility', 'train/train Tracks/ Trolley', 'Bus Station/Stop', 'Subway', \n",
    "              'Bridge/Car Tunnel', 'Highway/Road/Toll/Traffic Signal', 'Taxi/Rickshaw']\n",
    "cyber_train_X['sub_targettxt'] = cyber_train_X['sub_targettxt'].where(\n",
    "                                     cyber_train_X['sub_targettxt'].apply(lambda x: x not in mass_socio), \n",
    "                                     other = 'Mass_Social')\n",
    "\n",
    "\n",
    "\n",
    "util_telecom = ['Radio', 'Television', 'Telephone/Telegraph', 'Internet Infrastructure', \n",
    "                'Multiple Telecommunication Targets', 'Gas', 'Electricity', 'Oil']\n",
    "cyber_train_X['sub_targettxt'] = cyber_train_X['sub_targettxt'].where(\n",
    "                                     cyber_train_X['sub_targettxt'].apply(lambda x: x not in util_telecom), \n",
    "                                     other = 'Util_Telecom')"
   ]
  },
  {
   "cell_type": "markdown",
   "metadata": {},
   "source": [
    "> ##### Test Input:"
   ]
  },
  {
   "cell_type": "code",
   "execution_count": 15,
   "metadata": {},
   "outputs": [],
   "source": [
    "# Test Data:\n",
    "\n",
    "industrial = ['Gas/Oil/Electric', 'Industrial/Textiles/Factory', 'Farm/Ranch', 'Mining', 'Construction']\n",
    "cyber_test_X['sub_targettxt'] = cyber_test_X['sub_targettxt'].where(\n",
    "                                     cyber_test_X['sub_targettxt'].apply(lambda x: x not in industrial), \n",
    "                                     other = 'Industrial')\n",
    "\n",
    "\n",
    "white_collar = ['Restaurant/Bar/Café', 'Bank/Commerce', 'Multinational Corporation', \n",
    "                'Medical/Pharmaceutical', 'Retail/Grocery/Bakery (including cell phone shops and generic shops)', \n",
    "                'Hotel/Resort', 'Entertainment/Cultural/Stadium/Casino', 'Private Security Company/Firm',\n",
    "                'Legal Services']\n",
    "cyber_test_X['sub_targettxt'] = cyber_test_X['sub_targettxt'].where(\n",
    "                                     cyber_test_X['sub_targettxt'].apply(lambda x: x not in white_collar), \n",
    "                                     other = 'White_Collar')\n",
    "\n",
    "\n",
    "gov_figure1 = ['Judges/Attorneys/Courts', 'Government Personnel (excluding police, military)']\n",
    "cyber_test_X['sub_targettxt'] = cyber_test_X['sub_targettxt'].where(\n",
    "                                     cyber_test_X['sub_targettxt'].apply(lambda x: x not in gov_figure1), \n",
    "                                     other = 'Gov_Figure1')\n",
    "\n",
    "gov_figure2 = ['Politician or Political Party Movement/Meeting/Rally', 'Royalty', 'Head of State',\n",
    "               'Election-Related']\n",
    "cyber_test_X['sub_targettxt'] = cyber_test_X['sub_targettxt'].where(\n",
    "                                     cyber_test_X['sub_targettxt'].apply(lambda x: x not in gov_figure2), \n",
    "                                     other = 'Gov_Figure2')\n",
    "\n",
    "\n",
    "police_facilities = ['Police Buildings (Headquarters/Stations/School)', \n",
    "                     'Police Patrol (including vehicles and convoys)', \n",
    "                     'Police Checkpoint', 'Prison/Jail']\n",
    "cyber_test_X['sub_targettxt'] = cyber_test_X['sub_targettxt'].where(\n",
    "                                     cyber_test_X['sub_targettxt'].apply(lambda x: x not in gov_figure2), \n",
    "                                     other = 'Police_Facilities')\n",
    "\n",
    "military_facilities = ['Military Barracks/Base/Headquarters/Checkpost', 'Military Recruiting Station/Academy',\n",
    "                       'Military Weaponry', 'Military Aircraft', 'Military Maritime', \n",
    "                       'Military Transportation/Vehicle (excluding convoys)', 'Military Checkpoint',\n",
    "                       'Paramilitary']\n",
    "cyber_test_X['sub_targettxt'] = cyber_test_X['sub_targettxt'].where(\n",
    "                                     cyber_test_X['sub_targettxt'].apply(lambda x: x not in military_facilities), \n",
    "                                     other = 'Military_Facilities')\n",
    "\n",
    "\n",
    "military_personnel = ['Military Unit/Patrol/Convoy', 'Non-combatant Personnel', \n",
    "                      'Military Personnel (soldiers, troops, officers, forces)']\n",
    "cyber_test_X['sub_targettxt'] = cyber_test_X['sub_targettxt'].where(\n",
    "                                     cyber_test_X['sub_targettxt'].apply(lambda x: x not in military_personnel), \n",
    "                                     other = 'Military_Personnel')\n",
    "\n",
    "\n",
    "pilots_aircraft = ['Aircraft (not at an airport)', 'Airline Officer/Personnel']\n",
    "cyber_test_X['sub_targettxt'] = cyber_test_X['sub_targettxt'].where(\n",
    "                                     cyber_test_X['sub_targettxt'].apply(lambda x: x not in military_personnel), \n",
    "                                     other = 'Pilots_Aircraft')\n",
    "\n",
    "gov_diplomatic = [' Diplomatic Personnel (outside of embassy, consulate)', 'Embassy/Consulate', \n",
    "                  'International Organization (peacekeeper, aid agency, compound)']\n",
    "cyber_test_X['sub_targettxt'] = cyber_test_X['sub_targettxt'].where(\n",
    "                                     cyber_test_X['sub_targettxt'].apply(lambda x: x not in gov_diplomatic), \n",
    "                                     other = 'Gov_Diplomatic')\n",
    "\n",
    "educational = ['Teacher/Professor/Instructor', 'School/University/Educational Building', \n",
    "               'Other Personnel']\n",
    "cyber_test_X['sub_targettxt'] = cyber_test_X['sub_targettxt'].where(\n",
    "                                     cyber_test_X['sub_targettxt'].apply(lambda x: x not in educational), \n",
    "                                     other = 'Educational')\n",
    "\n",
    "food_water = ['Food Supply', 'Water Supply']\n",
    "cyber_test_X['sub_targettxt'] = cyber_test_X['sub_targettxt'].where(\n",
    "                                     cyber_test_X['sub_targettxt'].apply(lambda x: x not in food_water), \n",
    "                                     other = 'Food_Water')\n",
    "\n",
    "media = ['Newspaper Journalist/Staff/Facility', 'Radio Journalist/Staff/Facility', \n",
    "         'Television Journalist/Staff/Facility', 'Other (including online news agencies)']\n",
    "cyber_test_X['sub_targettxt'] = cyber_test_X['sub_targettxt'].where(\n",
    "                                     cyber_test_X['sub_targettxt'].apply(lambda x: x not in media), \n",
    "                                     other = 'Media')\n",
    "\n",
    "\n",
    "religious = ['Religion Identified', 'Religious Figure', 'Place of Worship', \n",
    "             'Affiliated Institution']\n",
    "cyber_test_X['sub_targettxt'] = cyber_test_X['sub_targettxt'].where(\n",
    "                                     cyber_test_X['sub_targettxt'].apply(lambda x: x not in military_personnel), \n",
    "                                     other = 'Pilots_Aircraft')\n",
    "\n",
    "\n",
    "political = ['Protester', 'Political Party Member/Rally', 'Party Official/Candidate/Other Personnel', \n",
    "             'Party Office/Facility', 'Rally']\n",
    "cyber_test_X['sub_targettxt'] = cyber_test_X['sub_targettxt'].where(\n",
    "                                     cyber_test_X['sub_targettxt'].apply(lambda x: x not in political), \n",
    "                                     other = 'Political')\n",
    "\n",
    "mass_socio = ['Refugee (including Camps/IDP/Asylum Seekers)', 'Named Civilian', 'Student', \n",
    "              'Race/Ethnicity Identified', 'Farmer', 'Vehicles/Transportation', 'Marketplace/Plaza/Square', 'Village/City/Town/Suburb', \n",
    "              'House/Apartment/Residence', 'Laborer (General)/Occupation Identified', 'Procession/Gathering (funeral, wedding, birthday, religious)', \n",
    "              'Public Areas (e.g., Public garden, parking lot, garage, beach, public buildings, camps)',\n",
    "             'Memorial/Cemetery/Monument', 'Museum/Cultural Center/Cultural House', 'Labor Union Related', \n",
    "              'Tourism Travel Agency', 'Tour Bus/Van/Vehicle', 'Tourist', 'Other Facility', 'test/test Tracks/ Trolley', 'Bus Station/Stop', 'Subway', \n",
    "              'Bridge/Car Tunnel', 'Highway/Road/Toll/Traffic Signal', 'Taxi/Rickshaw']\n",
    "cyber_test_X['sub_targettxt'] = cyber_test_X['sub_targettxt'].where(\n",
    "                                     cyber_test_X['sub_targettxt'].apply(lambda x: x not in mass_socio), \n",
    "                                     other = 'Mass_Social')\n",
    "\n",
    "\n",
    "\n",
    "util_telecom = ['Radio', 'Television', 'Telephone/Telegraph', 'Internet Infrastructure', \n",
    "                'Multiple Telecommunication Targets', 'Gas', 'Electricity', 'Oil']\n",
    "cyber_test_X['sub_targettxt'] = cyber_test_X['sub_targettxt'].where(\n",
    "                                     cyber_test_X['sub_targettxt'].apply(lambda x: x not in util_telecom), \n",
    "                                     other = 'Util_Telecom')"
   ]
  },
  {
   "cell_type": "code",
   "execution_count": 16,
   "metadata": {},
   "outputs": [],
   "source": [
    "# Mitigating some memory issues:\n",
    "\n",
    "del industrial\n",
    "del white_collar\n",
    "del gov_figure1\n",
    "del gov_figure2\n",
    "del police_facilities\n",
    "del military_facilities\n",
    "del military_personnel\n",
    "del pilots_aircraft\n",
    "del gov_diplomatic\n",
    "del educational\n",
    "del food_water\n",
    "del media\n",
    "del religious\n",
    "del political\n",
    "del mass_socio\n",
    "del util_telecom"
   ]
  },
  {
   "cell_type": "code",
   "execution_count": 17,
   "metadata": {},
   "outputs": [
    {
     "data": {
      "text/plain": [
       "0"
      ]
     },
     "execution_count": 17,
     "metadata": {},
     "output_type": "execute_result"
    }
   ],
   "source": [
    "gc.collect()"
   ]
  },
  {
   "cell_type": "markdown",
   "metadata": {},
   "source": [
    "#### C. Group_name:\n",
    "> Grouping named terrorist organizations by ideology, location, political tendencies, etc."
   ]
  },
  {
   "cell_type": "markdown",
   "metadata": {},
   "source": [
    "> ##### Training Input:"
   ]
  },
  {
   "cell_type": "code",
   "execution_count": 14,
   "metadata": {},
   "outputs": [],
   "source": [
    "# Separatists, Leftists and Rightists:\n",
    "\n",
    "# Palestinian Separatists:\n",
    "cyber_train_X['group_name'] = cyber_train_X['group_name'].replace('Hamas (Islamic Resistance Movement)', \n",
    "                                                        'Palestinian_Separatists')\n",
    "cyber_train_X['group_name'] = cyber_train_X['group_name'].replace('Palestinian Islamic Jihad (PIJ)', \n",
    "                                                        'Palestinian_Separatists')\n",
    "cyber_train_X['group_name'] = cyber_train_X['group_name'].replace('Popular Front for the Liberation of Palestine (PFLP)',\n",
    "                                                        'Palestinian_Separatists')\n",
    "cyber_train_X['group_name'] = cyber_train_X['group_name'].replace('Popular Resistance Committees',\n",
    "                                                        'Palestinian_Separatists')\n",
    "cyber_train_X['group_name'] = cyber_train_X['group_name'].replace('Al-Fatah',\n",
    "                                                        'Palestinian_Separatists')\n",
    "\n",
    "# Militants:\n",
    "cyber_train_X['group_name'] = cyber_train_X['group_name'].replace('Militants',\n",
    "                                                        'Militant_Gunmen_Groups')\n",
    "cyber_train_X['group_name'] = cyber_train_X['group_name'].replace('Gunmen',\n",
    "                                                        'Militant_Gunmen_Groups')"
   ]
  },
  {
   "cell_type": "code",
   "execution_count": 15,
   "metadata": {},
   "outputs": [],
   "source": [
    "# Asian Separatists:\n",
    "\n",
    "cyber_train_X['group_name'] = cyber_train_X['group_name'].replace('Abu Sayyaf Group (ASG)',\n",
    "                                                        'Asian_Separatists')\n",
    "cyber_train_X['group_name'] = cyber_train_X['group_name'].replace('Colonel Karuna Faction',\n",
    "                                                        'Asian_Separatists')\n",
    "cyber_train_X['group_name'] = cyber_train_X['group_name'].replace('Eastern Turkistan Islamic Movement (ETIM)',\n",
    "                                                        'Asian_Separatists')\n",
    "cyber_train_X['group_name'] = cyber_train_X['group_name'].replace('Free Aceh Movement (GAM)',\n",
    "                                                        'Asian_Separatists')\n",
    "cyber_train_X['group_name'] = cyber_train_X['group_name'].replace('Janatantrik Terai Mukti Morcha (Jtmm)',\n",
    "                                                        'Asian_Separatists')\n",
    "cyber_train_X['group_name'] = cyber_train_X['group_name'].replace('Janatantrik Terai Mukti Morcha- Goit (Jtmm-G)',\n",
    "                                                        'Asian_Separatists')\n",
    "cyber_train_X['group_name'] = cyber_train_X['group_name'].replace('Janatantrik Terai Mukti Morcha- Jwala Singh (Jtmm-J)',\n",
    "                                                        'Asian_Separatists')\n",
    "cyber_train_X['group_name'] = cyber_train_X['group_name'].replace('Janatantrik Terai Mukti Morcha- Rajan Mukti (Jtmm-R)',\n",
    "                                                        'Asian_Separatists')\n",
    "cyber_train_X['group_name'] = cyber_train_X['group_name'].replace('Liberation Tigers of Tamil Eelam (LTTE)',\n",
    "                                                        'Asian_Separatists')\n",
    "cyber_train_X['group_name'] = cyber_train_X['group_name'].replace('Moro Islamic Liberation Front (MILF)',\n",
    "                                                        'Asian_Separatists')\n",
    "cyber_train_X['group_name'] = cyber_train_X['group_name'].replace('Runda Kumpulan Kecil (Rkk)',\n",
    "                                                        'Asian_Separatists')\n",
    "cyber_train_X['group_name'] = cyber_train_X['group_name'].replace('Terai Army',\n",
    "                                                        'Asian_Separatists')"
   ]
  },
  {
   "cell_type": "code",
   "execution_count": 16,
   "metadata": {},
   "outputs": [],
   "source": [
    "# Middle Eastern Separatists\n",
    "cyber_train_X['group_name'] = cyber_train_X['group_name'].replace('Supreme Council For Islamic Revolution In Iraq (Sciri)',\n",
    "                                                        'Middle_Eastern_Separatists')\n",
    "cyber_train_X['group_name'] = cyber_train_X['group_name'].replace('Southern Mobility Movement (Yemen)',\n",
    "                                                        'Middle_Eastern_Separatists')\n",
    "cyber_train_X['group_name'] = cyber_train_X['group_name'].replace('Riyadus-Salikhin Reconnaissance And Sabotage Battalion Of Chechen Martyrs',\n",
    "                                                        'Middle_Eastern_Separatists')\n",
    "cyber_train_X['group_name'] = cyber_train_X['group_name'].replace('Haqqani Network',\n",
    "                                                        'Middle_Eastern_Separatists')\n",
    "cyber_train_X['group_name'] = cyber_train_X['group_name'].replace('Harkatul Jihad-E-Islami',\n",
    "                                                        'Middle_Eastern_Separatists')\n",
    "cyber_train_X['group_name'] = cyber_train_X['group_name'].replace('Hizbul Mujahideen (Hm)',\n",
    "                                                        'Middle_Eastern_Separatists')\n",
    "cyber_train_X['group_name'] = cyber_train_X['group_name'].replace('Jaish-E-Mohammad (Jem)',\n",
    "                                                        'Middle_Eastern_Separatists')\n",
    "cyber_train_X['group_name'] = cyber_train_X['group_name'].replace('Kurdistan Free Life Party',\n",
    "                                                        'Middle_Eastern_Separatists')\n",
    "cyber_train_X['group_name'] = cyber_train_X['group_name'].replace('Kurdistan Workers\\' Party (PKK)',\n",
    "                                                        'Middle_Eastern_Separatists')\n",
    "cyber_train_X['group_name'] = cyber_train_X['group_name'].replace('Lashkar-E-Balochistan',\n",
    "                                                        'Middle_Eastern_Separatists')\n",
    "cyber_train_X['group_name'] = cyber_train_X['group_name'].replace('Lashkar-E-Taiba (Let)',\n",
    "                                                        'Middle_Eastern_Separatists')\n",
    "cyber_train_X['group_name'] = cyber_train_X['group_name'].replace('Ansar Al-Islam',\n",
    "                                                        'Middle_Eastern_Separatists')\n",
    "cyber_train_X['group_name'] = cyber_train_X['group_name'].replace('Ansar Al-Sharia (Libya)',\n",
    "                                                        'Middle_Eastern_Separatists')\n",
    "cyber_train_X['group_name'] = cyber_train_X['group_name'].replace('Baloch Liberation Army (BLA)',\n",
    "                                                        'Middle_Eastern_Separatists')\n",
    "cyber_train_X['group_name'] = cyber_train_X['group_name'].replace('Baloch Liberation Front (Blf)',\n",
    "                                                        'Middle_Eastern_Separatists')\n",
    "cyber_train_X['group_name'] = cyber_train_X['group_name'].replace('Baloch Republican Army (BRA)',\n",
    "                                                        'Middle_Eastern_Separatists')\n",
    "cyber_train_X['group_name'] = cyber_train_X['group_name'].replace('Caucasus Emirate',\n",
    "                                                        'Middle_Eastern_Separatists')\n",
    "cyber_train_X['group_name'] = cyber_train_X['group_name'].replace('Free Syrian Army',\n",
    "                                                        'Middle_Eastern_Separatists')\n",
    "cyber_train_X['group_name'] = cyber_train_X['group_name'].replace('Chechen Rebels',\n",
    "                                                        'Middle_Eastern_Separatists')"
   ]
  },
  {
   "cell_type": "code",
   "execution_count": 17,
   "metadata": {},
   "outputs": [],
   "source": [
    "# Indian Separatists\n",
    "cyber_train_X['group_name'] = cyber_train_X['group_name'].replace('Black Widows',\n",
    "                                                        'Indian_Separatists')\n",
    "cyber_train_X['group_name'] = cyber_train_X['group_name'].replace('Dima Halao Daoga (Dhd)',\n",
    "                                                        'Indian_Separatists')\n",
    "cyber_train_X['group_name'] = cyber_train_X['group_name'].replace('Garo National Liberation Army',\n",
    "                                                        'Indian_Separatists')\n",
    "cyber_train_X['group_name'] = cyber_train_X['group_name'].replace('Kangleipak Communist Party (KCP)',\n",
    "                                                        'Indian_Separatists')\n",
    "cyber_train_X['group_name'] = cyber_train_X['group_name'].replace('Karbi Longri North Cachar Liberation Front (Klnlf)',\n",
    "                                                        'Indian_Separatists')\n",
    "cyber_train_X['group_name'] = cyber_train_X['group_name'].replace('National Democratic Front of Bodoland (NDFB)',\n",
    "                                                        'Indian_Separatists')\n",
    "cyber_train_X['group_name'] = cyber_train_X['group_name'].replace('National Liberation Front of Tripura (NLFT)',\n",
    "                                                        'Indian_Separatists')\n",
    "cyber_train_X['group_name'] = cyber_train_X['group_name'].replace('National Socialist Council of Nagaland-Isak-Muivah (NSCN-IM)',\n",
    "                                                        'Indian_Separatists')\n",
    "cyber_train_X['group_name'] = cyber_train_X['group_name'].replace('People\\'s Liberation Army (PLA)',\n",
    "                                                        'Indian_Separatists')\n",
    "cyber_train_X['group_name'] = cyber_train_X['group_name'].replace('People\\'s Revolutionary Party of Kangleipak (PREPAK)',\n",
    "                                                        'Indian_Separatists')\n",
    "cyber_train_X['group_name'] = cyber_train_X['group_name'].replace('United Liberation Front of Assam (ULFA)',\n",
    "                                                        'Indian_Separatists')\n",
    "cyber_train_X['group_name'] = cyber_train_X['group_name'].replace('United National Liberation Front (UNLF)',\n",
    "                                                        'Indian_Separatists')"
   ]
  },
  {
   "cell_type": "code",
   "execution_count": 18,
   "metadata": {},
   "outputs": [],
   "source": [
    "# NW_Indian_Groups:\n",
    "\n",
    "cyber_train_X['group_name'] = cyber_train_X['group_name'].replace('Lashkar-e-Jhangvi',\n",
    "                                                        'NW_Indian_Groups')\n",
    "cyber_train_X['group_name'] = cyber_train_X['group_name'].replace('Sipah-e-Sahaba/Pakistan (SSP)',\n",
    "                                                        'NW_Indian_Groups')\n",
    "cyber_train_X['group_name'] = cyber_train_X['group_name'].replace('Hizbul Mujahideen (HM)',\n",
    "                                                        'NW_Indian_Groups')\n",
    "cyber_train_X['group_name'] = cyber_train_X['group_name'].replace('Baloch Liberation Front (BLF)',\n",
    "                                                        'NW_Indian_Groups')\n",
    "cyber_train_X['group_name'] = cyber_train_X['group_name'].replace('Baloch Young Tigers (BYT)',\n",
    "                                                        'NW_Indian_Groups')\n",
    "cyber_train_X['group_name'] = cyber_train_X['group_name'].replace('Baloch Young Tigers (BYT)',\n",
    "                                                        'NW_Indian_Groups')\n",
    "cyber_train_X['group_name'] = cyber_train_X['group_name'].replace('Baloch Liberation Army (BLA)',\n",
    "                                                        'NW_Indian_Groups')\n",
    "cyber_train_X['group_name'] = cyber_train_X['group_name'].replace('Baloch Republican Army (BRA)',\n",
    "                                                        'NW_Indian_Groups')\n",
    "cyber_train_X['group_name'] = cyber_train_X['group_name'].replace('United Baloch Army (UBA)',\n",
    "                                                        'NW_Indian_Groups')\n",
    "cyber_train_X['group_name'] = cyber_train_X['group_name'].replace('Free Balochistan Army (FBA)',\n",
    "                                                        'NW_Indian_Groups')\n",
    "cyber_train_X['group_name'] = cyber_train_X['group_name'].replace('Baloch Nationalists',\n",
    "                                                        'NW_Indian_Groups')"
   ]
  },
  {
   "cell_type": "code",
   "execution_count": 19,
   "metadata": {},
   "outputs": [],
   "source": [
    "# SE_Indian_Groups:\n",
    "\n",
    "cyber_train_X['group_name'] = cyber_train_X['group_name'].replace('Communist Party of India - Maoist (CPI-Maoist)',\n",
    "                                                        'SE_Indian_Groups')\n",
    "cyber_train_X['group_name'] = cyber_train_X['group_name'].replace('Indian Mujahideen',\n",
    "                                                        'SE_Indian_Groups')\n",
    "cyber_train_X['group_name'] = cyber_train_X['group_name'].replace('Jama\\'atul Mujahideen Bangladesh (JMB)',\n",
    "                                                        'SE_Indian_Groups')\n",
    "cyber_train_X['group_name'] = cyber_train_X['group_name'].replace('Bangladesh Sarbahara Party',\n",
    "                                                        'SE_Indian_Groups')\n",
    "cyber_train_X['group_name'] = cyber_train_X['group_name'].replace('Purbo Banglar Communist Party',\n",
    "                                                        'SE_Indian_Groups')\n",
    "cyber_train_X['group_name'] = cyber_train_X['group_name'].replace('Harkatul Jihad-e-Islami',\n",
    "                                                        'SE_Indian_Groups')\n",
    "cyber_train_X['group_name'] = cyber_train_X['group_name'].replace('Hynniewtrep National Liberation Council (HNLC)',\n",
    "                                                        'SE_Indian_Groups')\n",
    "cyber_train_X['group_name'] = cyber_train_X['group_name'].replace('Kanglei Yawol Kanna Lup (KYKL)',\n",
    "                                                        'SE_Indian_Groups')\n",
    "cyber_train_X['group_name'] = cyber_train_X['group_name'].replace('Kuki Tribal Militants',\n",
    "                                                        'SE_Indian_Groups')\n",
    "cyber_train_X['group_name'] = cyber_train_X['group_name'].replace('Kuki National Front (KNF)',\n",
    "                                                        'SE_Indian_Groups')\n",
    "cyber_train_X['group_name'] = cyber_train_X['group_name'].replace('United Kuki Liberation Front (UKLF) - India',\n",
    "                                                        'SE_Indian_Groups')\n",
    "cyber_train_X['group_name'] = cyber_train_X['group_name'].replace('Hill Tiger Force (HTF)',\n",
    "                                                        'SE_Indian_Groups')\n",
    "cyber_train_X['group_name'] = cyber_train_X['group_name'].replace('National Socialist Council of Nagaland-Khaplang (NSCN-K)',\n",
    "                                                        'SE_Indian_Groups')\n",
    "cyber_train_X['group_name'] = cyber_train_X['group_name'].replace('National Socialist Council of Nagaland-Isak-Muivah (NSCN-IM)',\n",
    "                                                        'SE_Indian_Groups')\n",
    "cyber_train_X['group_name'] = cyber_train_X['group_name'].replace('National Socialist Council of Nagaland-Unification (NSCN-U)',\n",
    "                                                        'SE_Indian_Groups')\n",
    "cyber_train_X['group_name'] = cyber_train_X['group_name'].replace('',\n",
    "                                                        'SE_Indian_Groups')\n",
    "cyber_train_X['group_name'] = cyber_train_X['group_name'].replace('',\n",
    "                                                        'SE_Indian_Groups')\n",
    "cyber_train_X['group_name'] = cyber_train_X['group_name'].replace('',\n",
    "                                                        'SE_Indian_Groups')"
   ]
  },
  {
   "cell_type": "code",
   "execution_count": 20,
   "metadata": {},
   "outputs": [],
   "source": [
    "# African Political:\n",
    "cyber_train_X['group_name'] = cyber_train_X['group_name'].replace('National Union for the Total Independence of Angola (UNITA)',\n",
    "                                                         'African_Political')"
   ]
  },
  {
   "cell_type": "code",
   "execution_count": 21,
   "metadata": {},
   "outputs": [],
   "source": [
    "# Irish Separatists\n",
    "cyber_train_X['group_name'] = cyber_train_X['group_name'].replace('Real Irish Republican Army (RIRA)',\n",
    "                                                        'Irish_Separatists')\n",
    "cyber_train_X['group_name'] = cyber_train_X['group_name'].replace('Oglaigh Na Heireann',\n",
    "                                                        'Irish_Separatists')\n",
    "cyber_train_X['group_name'] = cyber_train_X['group_name'].replace('Irish Republican Army (IRA)',\n",
    "                                                        'rish_Separatists')\n"
   ]
  },
  {
   "cell_type": "code",
   "execution_count": 22,
   "metadata": {},
   "outputs": [],
   "source": [
    "# Farc left and right\n",
    "cyber_train_X['group_name'] = cyber_train_X['group_name'].replace('National Liberation Army of Colombia (ELN)',\n",
    "                                                        'FARC_Leftist')\n",
    "cyber_train_X['group_name'] = cyber_train_X['group_name'].replace('Popular Liberation Army (EPL)',\n",
    "                                                        'FARC_Leftist')\n",
    "cyber_train_X['group_name'] = cyber_train_X['group_name'].replace('Revolutionary Armed Forces of Colombia (FARC)',\n",
    "                                                        'FARC_Leftist')\n",
    "\n",
    "cyber_train_X['group_name'] = cyber_train_X['group_name'].replace('United Self Defense Units of Colombia (AUC)',\n",
    "                                                        'FARC_Rightist')\n",
    "  "
   ]
  },
  {
   "cell_type": "code",
   "execution_count": 23,
   "metadata": {},
   "outputs": [],
   "source": [
    "# Middle Eastern Religious:\n",
    "cyber_train_X['group_name'] = cyber_train_X['group_name'].replace('Al-Gama\\'at Al-Islamiyya (IG)',\n",
    "                                                        'Middle_Eastern_Religious')\n",
    "cyber_train_X['group_name'] = cyber_train_X['group_name'].replace('Al-Nusrah Front',\n",
    "                                                        'Middle_Eastern_Religious')\n",
    "cyber_train_X['group_name'] = cyber_train_X['group_name'].replace('Al-Qa\\'ida',\n",
    "                                                        'Middle_Eastern_Religious')\n",
    "cyber_train_X['group_name'] = cyber_train_X['group_name'].replace('Al-Qa\\'ida in the Arabian Peninsula (AQAP)',\n",
    "                                                        'Middle_Eastern_Religious')\n",
    "cyber_train_X['group_name'] = cyber_train_X['group_name'].replace('Al-Qa\\'ida in the Lands of the Islamic Maghreb (AQLIM)',\n",
    "                                                        'Middle_Eastern_Religious')\n",
    "cyber_train_X['group_name'] = cyber_train_X['group_name'].replace('Al-Shabaab',\n",
    "                                                        'Middle_Eastern_Religious')\n",
    "cyber_train_X['group_name'] = cyber_train_X['group_name'].replace('Ansar Al-Islam',\n",
    "                                                        'Middle_Eastern_Religious')\n",
    "cyber_train_X['group_name'] = cyber_train_X['group_name'].replace('Ansar Al-Sharia (Libya)',\n",
    "                                                        'Middle_Eastern_Religious')\n",
    "cyber_train_X['group_name'] = cyber_train_X['group_name'].replace('Asa\\'Ib Ahl Al-Haqq',\n",
    "                                                        'Middle_Eastern_Religious')\n",
    "cyber_train_X['group_name'] = cyber_train_X['group_name'].replace('Caucasus Emirate',\n",
    "                                                        'Middle_Eastern_Religious')\n",
    "cyber_train_X['group_name'] = cyber_train_X['group_name'].replace('Eritrean Islamic Jihad Movement (EIJM)',\n",
    "                                                        'Middle_Eastern_Religious')\n",
    "cyber_train_X['group_name'] = cyber_train_X['group_name'].replace('Great Eastern Islamic Raiders Front (Ibda-C)',\n",
    "                                                        'Middle_Eastern_Religious')\n",
    "cyber_train_X['group_name'] = cyber_train_X['group_name'].replace('Hizbul Al Islam (Somalia)',\n",
    "                                                        'Middle_Eastern_Religious')\n",
    "cyber_train_X['group_name'] = cyber_train_X['group_name'].replace('Islamic Courts Union (ICU)',\n",
    "                                                        'Middle_Eastern_Religious')\n",
    "cyber_train_X['group_name'] = cyber_train_X['group_name'].replace('Islamic State of Iraq and al Sham (ISIS)',\n",
    "                                                        'Middle_Eastern_Religious')\n",
    "cyber_train_X['group_name'] = cyber_train_X['group_name'].replace('Islamic Movement of Uzbekistan (IMU)',\n",
    "                                                        'Middle_Eastern_Religious')\n",
    "cyber_train_X['group_name'] = cyber_train_X['group_name'].replace('Jamiat Ul-Mujahedin (Jum)',\n",
    "                                                        'Middle_Eastern_Religious')\n",
    "cyber_train_X['group_name'] = cyber_train_X['group_name'].replace('Jundallah',\n",
    "                                                        'Middle_Eastern_Religious')\n",
    "cyber_train_X['group_name'] = cyber_train_X['group_name'].replace('Mahdi Army',\n",
    "                                                        'Middle_Eastern_Religious')\n",
    "cyber_train_X['group_name'] = cyber_train_X['group_name'].replace('Taliban',\n",
    "                                                        'Middle_Eastern_Religious')\n",
    "cyber_train_X['group_name'] = cyber_train_X['group_name'].replace('Tehrik-i-Taliban Pakistan (TTP)',\n",
    "                                                        'Middle_Eastern_Religious')\n",
    "cyber_train_X['group_name'] = cyber_train_X['group_name'].replace('Muslim extremists',\n",
    "                                                        'Middle_Eastern_Religious')\n",
    "cyber_train_X['group_name'] = cyber_train_X['group_name'].replace('Armed Islamic Group (GIA)',\n",
    "                                                        'Middle_Eastern_Religious')\n",
    "cyber_train_X['group_name'] = cyber_train_X['group_name'].replace('Sunni Muslim extremists',\n",
    "                                                        'Middle_Eastern_Religious')\n",
    "cyber_train_X['group_name'] = cyber_train_X['group_name'].replace('Al-Qaida in the Islamic Maghreb (AQIM)',\n",
    "                                                        'Middle_Eastern_Religious')\n",
    "cyber_train_X['group_name'] = cyber_train_X['group_name'].replace('Islamic State of Iraq and the Levant (ISIL)',\n",
    "                                                        'Middle_Eastern_Religious')\n",
    "cyber_train_X['group_name'] = cyber_train_X['group_name'].replace('Al-Qaida in Iraq',\n",
    "                                                        'Middle_Eastern_Religious')\n",
    "cyber_train_X['group_name'] = cyber_train_X['group_name'].replace('Al-Qaida in the Arabian Peninsula (AQAP)',\n",
    "                                                        'Middle_Eastern_Religious')\n",
    "cyber_train_X['group_name'] = cyber_train_X['group_name'].replace('Al-Qaida',\n",
    "                                                        'Middle_Eastern_Religious')"
   ]
  },
  {
   "cell_type": "code",
   "execution_count": 24,
   "metadata": {},
   "outputs": [],
   "source": [
    "# Israeli, Palestinian, Lebanese Religious:\n",
    "cyber_train_X['group_name'] = cyber_train_X['group_name'].replace('Anti-Semitic extremists',\n",
    "                                                        'Near_Israel_Religious')\n",
    "cyber_train_X['group_name'] = cyber_train_X['group_name'].replace('Hezbollah',\n",
    "                                                        'Near_Israel_Religious')"
   ]
  },
  {
   "cell_type": "code",
   "execution_count": 25,
   "metadata": {},
   "outputs": [],
   "source": [
    "# Asian and African Religious:\n",
    "\n",
    "cyber_train_X['group_name'] = cyber_train_X['group_name'].replace('Students Islamic Movement of India (Simi)',\n",
    "                                                        'Asian/Asian-Pacific_Religious')\n",
    "cyber_train_X['group_name'] = cyber_train_X['group_name'].replace('Ranbir Sena',\n",
    "                                                        'Asian/Asian-Pacific_Religious')\n",
    "cyber_train_X['group_name'] = cyber_train_X['group_name'].replace('Jemaah Islamiya (JI)',\n",
    "                                                        'Asian/Asian-Pacific_Religious')\n",
    "\n",
    "\n",
    "cyber_train_X['group_name'] = cyber_train_X['group_name'].replace('Movement for Oneness and Jihad in West Africa (MUJAO)',\n",
    "                                                        'African_Religious')\n",
    "cyber_train_X['group_name'] = cyber_train_X['group_name'].replace('Lord\\'s Resistance Army (LRA)',\n",
    "                                                        'African_Religious')\n",
    "cyber_train_X['group_name'] = cyber_train_X['group_name'].replace('Boko Haram',\n",
    "                                                        'African_Religious')\n"
   ]
  },
  {
   "cell_type": "markdown",
   "metadata": {},
   "source": [
    "> ##### Test Input:"
   ]
  },
  {
   "cell_type": "code",
   "execution_count": 26,
   "metadata": {},
   "outputs": [],
   "source": [
    "# Separatists, Leftists and Rightists:\n",
    "\n",
    "# Palestinian Separatists:\n",
    "cyber_test_X['group_name'] = cyber_test_X['group_name'].replace('Hamas (Islamic Resistance Movement)', \n",
    "                                                        'Palestinian_Separatists')\n",
    "cyber_test_X['group_name'] = cyber_test_X['group_name'].replace('Palestinian Islamic Jihad (PIJ)', \n",
    "                                                        'Palestinian_Separatists')\n",
    "cyber_test_X['group_name'] = cyber_test_X['group_name'].replace('Popular Front for the Liberation of Palestine (PFLP)',\n",
    "                                                        'Palestinian_Separatists')\n",
    "cyber_test_X['group_name'] = cyber_test_X['group_name'].replace('Popular Resistance Committees',\n",
    "                                                        'Palestinian_Separatists')\n",
    "cyber_test_X['group_name'] = cyber_test_X['group_name'].replace('Al-Fatah',\n",
    "                                                        'Palestinian_Separatists')\n",
    "\n",
    "# Militants:\n",
    "cyber_test_X['group_name'] = cyber_test_X['group_name'].replace('Militants',\n",
    "                                                        'Militant_Gunmen_Groups')\n",
    "cyber_test_X['group_name'] = cyber_test_X['group_name'].replace('Gunmen',\n",
    "                                                        'Militant_Gunmen_Groups')"
   ]
  },
  {
   "cell_type": "code",
   "execution_count": 27,
   "metadata": {},
   "outputs": [],
   "source": [
    "# Asian Separatists:\n",
    "\n",
    "cyber_test_X['group_name'] = cyber_test_X['group_name'].replace('Abu Sayyaf Group (ASG)',\n",
    "                                                        'Asian_Separatists')\n",
    "cyber_test_X['group_name'] = cyber_test_X['group_name'].replace('Colonel Karuna Faction',\n",
    "                                                        'Asian_Separatists')\n",
    "cyber_test_X['group_name'] = cyber_test_X['group_name'].replace('Eastern Turkistan Islamic Movement (ETIM)',\n",
    "                                                        'Asian_Separatists')\n",
    "cyber_test_X['group_name'] = cyber_test_X['group_name'].replace('Free Aceh Movement (GAM)',\n",
    "                                                        'Asian_Separatists')\n",
    "cyber_test_X['group_name'] = cyber_test_X['group_name'].replace('Janatantrik Terai Mukti Morcha (Jtmm)',\n",
    "                                                        'Asian_Separatists')\n",
    "cyber_test_X['group_name'] = cyber_test_X['group_name'].replace('Janatantrik Terai Mukti Morcha- Goit (Jtmm-G)',\n",
    "                                                        'Asian_Separatists')\n",
    "cyber_test_X['group_name'] = cyber_test_X['group_name'].replace('Janatantrik Terai Mukti Morcha- Jwala Singh (Jtmm-J)',\n",
    "                                                        'Asian_Separatists')\n",
    "cyber_test_X['group_name'] = cyber_test_X['group_name'].replace('Janatantrik Terai Mukti Morcha- Rajan Mukti (Jtmm-R)',\n",
    "                                                        'Asian_Separatists')\n",
    "cyber_test_X['group_name'] = cyber_test_X['group_name'].replace('Liberation Tigers of Tamil Eelam (LTTE)',\n",
    "                                                        'Asian_Separatists')\n",
    "cyber_test_X['group_name'] = cyber_test_X['group_name'].replace('Moro Islamic Liberation Front (MILF)',\n",
    "                                                        'Asian_Separatists')\n",
    "cyber_test_X['group_name'] = cyber_test_X['group_name'].replace('Runda Kumpulan Kecil (Rkk)',\n",
    "                                                        'Asian_Separatists')\n",
    "cyber_test_X['group_name'] = cyber_test_X['group_name'].replace('Terai Army',\n",
    "                                                        'Asian_Separatists')"
   ]
  },
  {
   "cell_type": "code",
   "execution_count": 28,
   "metadata": {},
   "outputs": [],
   "source": [
    "# Middle Eastern Separatists\n",
    "cyber_test_X['group_name'] = cyber_test_X['group_name'].replace('Supreme Council For Islamic Revolution In Iraq (Sciri)',\n",
    "                                                        'Middle_Eastern_Separatists')\n",
    "cyber_test_X['group_name'] = cyber_test_X['group_name'].replace('Southern Mobility Movement (Yemen)',\n",
    "                                                        'Middle_Eastern_Separatists')\n",
    "cyber_test_X['group_name'] = cyber_test_X['group_name'].replace('Riyadus-Salikhin Reconnaissance And Sabotage Battalion Of Chechen Martyrs',\n",
    "                                                        'Middle_Eastern_Separatists')\n",
    "cyber_test_X['group_name'] = cyber_test_X['group_name'].replace('Haqqani Network',\n",
    "                                                        'Middle_Eastern_Separatists')\n",
    "cyber_test_X['group_name'] = cyber_test_X['group_name'].replace('Harkatul Jihad-E-Islami',\n",
    "                                                        'Middle_Eastern_Separatists')\n",
    "cyber_test_X['group_name'] = cyber_test_X['group_name'].replace('Hizbul Mujahideen (Hm)',\n",
    "                                                        'Middle_Eastern_Separatists')\n",
    "cyber_test_X['group_name'] = cyber_test_X['group_name'].replace('Jaish-E-Mohammad (Jem)',\n",
    "                                                        'Middle_Eastern_Separatists')\n",
    "cyber_test_X['group_name'] = cyber_test_X['group_name'].replace('Kurdistan Free Life Party',\n",
    "                                                        'Middle_Eastern_Separatists')\n",
    "cyber_test_X['group_name'] = cyber_test_X['group_name'].replace('Kurdistan Workers\\' Party (PKK)',\n",
    "                                                        'Middle_Eastern_Separatists')\n",
    "cyber_test_X['group_name'] = cyber_test_X['group_name'].replace('Lashkar-E-Balochistan',\n",
    "                                                        'Middle_Eastern_Separatists')\n",
    "cyber_test_X['group_name'] = cyber_test_X['group_name'].replace('Lashkar-E-Taiba (Let)',\n",
    "                                                        'Middle_Eastern_Separatists')\n",
    "cyber_test_X['group_name'] = cyber_test_X['group_name'].replace('Ansar Al-Islam',\n",
    "                                                        'Middle_Eastern_Separatists')\n",
    "cyber_test_X['group_name'] = cyber_test_X['group_name'].replace('Ansar Al-Sharia (Libya)',\n",
    "                                                        'Middle_Eastern_Separatists')\n",
    "cyber_test_X['group_name'] = cyber_test_X['group_name'].replace('Baloch Liberation Army (BLA)',\n",
    "                                                        'Middle_Eastern_Separatists')\n",
    "cyber_test_X['group_name'] = cyber_test_X['group_name'].replace('Baloch Liberation Front (Blf)',\n",
    "                                                        'Middle_Eastern_Separatists')\n",
    "cyber_test_X['group_name'] = cyber_test_X['group_name'].replace('Baloch Republican Army (BRA)',\n",
    "                                                        'Middle_Eastern_Separatists')\n",
    "cyber_test_X['group_name'] = cyber_test_X['group_name'].replace('Caucasus Emirate',\n",
    "                                                        'Middle_Eastern_Separatists')\n",
    "cyber_test_X['group_name'] = cyber_test_X['group_name'].replace('Free Syrian Army',\n",
    "                                                        'Middle_Eastern_Separatists')\n",
    "cyber_test_X['group_name'] = cyber_test_X['group_name'].replace('Chechen Rebels',\n",
    "                                                        'Middle_Eastern_Separatists')"
   ]
  },
  {
   "cell_type": "code",
   "execution_count": 29,
   "metadata": {},
   "outputs": [],
   "source": [
    "# Indian Separatists\n",
    "cyber_test_X['group_name'] = cyber_test_X['group_name'].replace('Black Widows',\n",
    "                                                        'Indian_Separatists')\n",
    "cyber_test_X['group_name'] = cyber_test_X['group_name'].replace('Dima Halao Daoga (Dhd)',\n",
    "                                                        'Indian_Separatists')\n",
    "cyber_test_X['group_name'] = cyber_test_X['group_name'].replace('Garo National Liberation Army',\n",
    "                                                        'Indian_Separatists')\n",
    "cyber_test_X['group_name'] = cyber_test_X['group_name'].replace('Kangleipak Communist Party (KCP)',\n",
    "                                                        'Indian_Separatists')\n",
    "cyber_test_X['group_name'] = cyber_test_X['group_name'].replace('Karbi Longri North Cachar Liberation Front (Klnlf)',\n",
    "                                                        'Indian_Separatists')\n",
    "cyber_test_X['group_name'] = cyber_test_X['group_name'].replace('National Democratic Front of Bodoland (NDFB)',\n",
    "                                                        'Indian_Separatists')\n",
    "cyber_test_X['group_name'] = cyber_test_X['group_name'].replace('National Liberation Front of Tripura (NLFT)',\n",
    "                                                        'Indian_Separatists')\n",
    "cyber_test_X['group_name'] = cyber_test_X['group_name'].replace('National Socialist Council of Nagaland-Isak-Muivah (NSCN-IM)',\n",
    "                                                        'Indian_Separatists')\n",
    "cyber_test_X['group_name'] = cyber_test_X['group_name'].replace('People\\'s Liberation Army (PLA)',\n",
    "                                                        'Indian_Separatists')\n",
    "cyber_test_X['group_name'] = cyber_test_X['group_name'].replace('People\\'s Revolutionary Party of Kangleipak (PREPAK)',\n",
    "                                                        'Indian_Separatists')\n",
    "cyber_test_X['group_name'] = cyber_test_X['group_name'].replace('United Liberation Front of Assam (ULFA)',\n",
    "                                                        'Indian_Separatists')\n",
    "cyber_test_X['group_name'] = cyber_test_X['group_name'].replace('United National Liberation Front (UNLF)',\n",
    "                                                        'Indian_Separatists')"
   ]
  },
  {
   "cell_type": "code",
   "execution_count": 30,
   "metadata": {},
   "outputs": [],
   "source": [
    "# NW_Indian_Groups:\n",
    "\n",
    "cyber_test_X['group_name'] = cyber_test_X['group_name'].replace('Lashkar-e-Jhangvi',\n",
    "                                                        'NW_Indian_Groups')\n",
    "cyber_test_X['group_name'] = cyber_test_X['group_name'].replace('Sipah-e-Sahaba/Pakistan (SSP)',\n",
    "                                                        'NW_Indian_Groups')\n",
    "cyber_test_X['group_name'] = cyber_test_X['group_name'].replace('Hizbul Mujahideen (HM)',\n",
    "                                                        'NW_Indian_Groups')\n",
    "cyber_test_X['group_name'] = cyber_test_X['group_name'].replace('Baloch Liberation Front (BLF)',\n",
    "                                                        'NW_Indian_Groups')\n",
    "cyber_test_X['group_name'] = cyber_test_X['group_name'].replace('Baloch Young Tigers (BYT)',\n",
    "                                                        'NW_Indian_Groups')\n",
    "cyber_test_X['group_name'] = cyber_test_X['group_name'].replace('Baloch Young Tigers (BYT)',\n",
    "                                                        'NW_Indian_Groups')\n",
    "cyber_test_X['group_name'] = cyber_test_X['group_name'].replace('Baloch Liberation Army (BLA)',\n",
    "                                                        'NW_Indian_Groups')\n",
    "cyber_test_X['group_name'] = cyber_test_X['group_name'].replace('Baloch Republican Army (BRA)',\n",
    "                                                        'NW_Indian_Groups')\n",
    "cyber_test_X['group_name'] = cyber_test_X['group_name'].replace('United Baloch Army (UBA)',\n",
    "                                                        'NW_Indian_Groups')\n",
    "cyber_test_X['group_name'] = cyber_test_X['group_name'].replace('Free Balochistan Army (FBA)',\n",
    "                                                        'NW_Indian_Groups')\n",
    "cyber_test_X['group_name'] = cyber_test_X['group_name'].replace('Baloch Nationalists',\n",
    "                                                        'NW_Indian_Groups')"
   ]
  },
  {
   "cell_type": "code",
   "execution_count": 31,
   "metadata": {},
   "outputs": [],
   "source": [
    "# SE_Indian_Groups:\n",
    "\n",
    "cyber_test_X['group_name'] = cyber_test_X['group_name'].replace('Communist Party of India - Maoist (CPI-Maoist)',\n",
    "                                                        'SE_Indian_Groups')\n",
    "cyber_test_X['group_name'] = cyber_test_X['group_name'].replace('Indian Mujahideen',\n",
    "                                                        'SE_Indian_Groups')\n",
    "cyber_test_X['group_name'] = cyber_test_X['group_name'].replace('Jama\\'atul Mujahideen Bangladesh (JMB)',\n",
    "                                                        'SE_Indian_Groups')\n",
    "cyber_test_X['group_name'] = cyber_test_X['group_name'].replace('Bangladesh Sarbahara Party',\n",
    "                                                        'SE_Indian_Groups')\n",
    "cyber_test_X['group_name'] = cyber_test_X['group_name'].replace('Purbo Banglar Communist Party',\n",
    "                                                        'SE_Indian_Groups')\n",
    "cyber_test_X['group_name'] = cyber_test_X['group_name'].replace('Harkatul Jihad-e-Islami',\n",
    "                                                        'SE_Indian_Groups')\n",
    "cyber_test_X['group_name'] = cyber_test_X['group_name'].replace('Hynniewtrep National Liberation Council (HNLC)',\n",
    "                                                        'SE_Indian_Groups')\n",
    "cyber_test_X['group_name'] = cyber_test_X['group_name'].replace('Kanglei Yawol Kanna Lup (KYKL)',\n",
    "                                                        'SE_Indian_Groups')\n",
    "cyber_test_X['group_name'] = cyber_test_X['group_name'].replace('Kuki Tribal Militants',\n",
    "                                                        'SE_Indian_Groups')\n",
    "cyber_test_X['group_name'] = cyber_test_X['group_name'].replace('Kuki National Front (KNF)',\n",
    "                                                        'SE_Indian_Groups')\n",
    "cyber_test_X['group_name'] = cyber_test_X['group_name'].replace('United Kuki Liberation Front (UKLF) - India',\n",
    "                                                        'SE_Indian_Groups')\n",
    "cyber_test_X['group_name'] = cyber_test_X['group_name'].replace('Hill Tiger Force (HTF)',\n",
    "                                                        'SE_Indian_Groups')\n",
    "cyber_test_X['group_name'] = cyber_test_X['group_name'].replace('National Socialist Council of Nagaland-Khaplang (NSCN-K)',\n",
    "                                                        'SE_Indian_Groups')\n",
    "cyber_test_X['group_name'] = cyber_test_X['group_name'].replace('National Socialist Council of Nagaland-Isak-Muivah (NSCN-IM)',\n",
    "                                                        'SE_Indian_Groups')\n",
    "cyber_test_X['group_name'] = cyber_test_X['group_name'].replace('National Socialist Council of Nagaland-Unification (NSCN-U)',\n",
    "                                                        'SE_Indian_Groups')"
   ]
  },
  {
   "cell_type": "code",
   "execution_count": 32,
   "metadata": {},
   "outputs": [],
   "source": [
    "# African Political:\n",
    "cyber_test_X['group_name'] = cyber_test_X['group_name'].replace('National Union for the Total Independence of Angola (UNITA)',\n",
    "                                                         'African_Political')"
   ]
  },
  {
   "cell_type": "code",
   "execution_count": 33,
   "metadata": {},
   "outputs": [],
   "source": [
    "# Irish Separatists\n",
    "cyber_test_X['group_name'] = cyber_test_X['group_name'].replace('Real Irish Republican Army (RIRA)',\n",
    "                                                        'Irish_Separatists')\n",
    "cyber_test_X['group_name'] = cyber_test_X['group_name'].replace('Oglaigh Na Heireann',\n",
    "                                                        'Irish_Separatists')\n",
    "cyber_test_X['group_name'] = cyber_test_X['group_name'].replace('Irish Republican Army (IRA)',\n",
    "                                                        'Irish_Separatists')\n"
   ]
  },
  {
   "cell_type": "code",
   "execution_count": 34,
   "metadata": {},
   "outputs": [],
   "source": [
    "# Farc left and right\n",
    "cyber_test_X['group_name'] = cyber_test_X['group_name'].replace('National Liberation Army of Colombia (ELN)',\n",
    "                                                        'FARC_Leftist')\n",
    "cyber_test_X['group_name'] = cyber_test_X['group_name'].replace('Popular Liberation Army (EPL)',\n",
    "                                                        'FARC_Leftist')\n",
    "cyber_test_X['group_name'] = cyber_test_X['group_name'].replace('Revolutionary Armed Forces of Colombia (FARC)',\n",
    "                                                        'FARC_Leftist')\n",
    "\n",
    "cyber_test_X['group_name'] = cyber_test_X['group_name'].replace('United Self Defense Units of Colombia (AUC)',\n",
    "                                                        'FARC_Rightist')\n",
    "  "
   ]
  },
  {
   "cell_type": "code",
   "execution_count": 35,
   "metadata": {},
   "outputs": [],
   "source": [
    "# Middle Eastern Religious:\n",
    "cyber_test_X['group_name'] = cyber_test_X['group_name'].replace('Al-Gama\\'at Al-Islamiyya (IG)',\n",
    "                                                        'Middle_Eastern_Religious')\n",
    "cyber_test_X['group_name'] = cyber_test_X['group_name'].replace('Al-Nusrah Front',\n",
    "                                                        'Middle_Eastern_Religious')\n",
    "cyber_test_X['group_name'] = cyber_test_X['group_name'].replace('Al-Qa\\'ida',\n",
    "                                                        'Middle_Eastern_Religious')\n",
    "cyber_test_X['group_name'] = cyber_test_X['group_name'].replace('Al-Qa\\'ida in the Arabian Peninsula (AQAP)',\n",
    "                                                        'Middle_Eastern_Religious')\n",
    "cyber_test_X['group_name'] = cyber_test_X['group_name'].replace('Al-Qa\\'ida in the Lands of the Islamic Maghreb (AQLIM)',\n",
    "                                                        'Middle_Eastern_Religious')\n",
    "cyber_test_X['group_name'] = cyber_test_X['group_name'].replace('Al-Shabaab',\n",
    "                                                        'Middle_Eastern_Religious')\n",
    "cyber_test_X['group_name'] = cyber_test_X['group_name'].replace('Ansar Al-Islam',\n",
    "                                                        'Middle_Eastern_Religious')\n",
    "cyber_test_X['group_name'] = cyber_test_X['group_name'].replace('Ansar Al-Sharia (Libya)',\n",
    "                                                        'Middle_Eastern_Religious')\n",
    "cyber_test_X['group_name'] = cyber_test_X['group_name'].replace('Asa\\'Ib Ahl Al-Haqq',\n",
    "                                                        'Middle_Eastern_Religious')\n",
    "cyber_test_X['group_name'] = cyber_test_X['group_name'].replace('Caucasus Emirate',\n",
    "                                                        'Middle_Eastern_Religious')\n",
    "cyber_test_X['group_name'] = cyber_test_X['group_name'].replace('Eritrean Islamic Jihad Movement (EIJM)',\n",
    "                                                        'Middle_Eastern_Religious')\n",
    "cyber_test_X['group_name'] = cyber_test_X['group_name'].replace('Great Eastern Islamic Raiders Front (Ibda-C)',\n",
    "                                                        'Middle_Eastern_Religious')\n",
    "cyber_test_X['group_name'] = cyber_test_X['group_name'].replace('Hizbul Al Islam (Somalia)',\n",
    "                                                        'Middle_Eastern_Religious')\n",
    "cyber_test_X['group_name'] = cyber_test_X['group_name'].replace('Islamic Courts Union (ICU)',\n",
    "                                                        'Middle_Eastern_Religious')\n",
    "cyber_test_X['group_name'] = cyber_test_X['group_name'].replace('Islamic State of Iraq and al Sham (ISIS)',\n",
    "                                                        'Middle_Eastern_Religious')\n",
    "cyber_test_X['group_name'] = cyber_test_X['group_name'].replace('Islamic Movement of Uzbekistan (IMU)',\n",
    "                                                        'Middle_Eastern_Religious')\n",
    "cyber_test_X['group_name'] = cyber_test_X['group_name'].replace('Jamiat Ul-Mujahedin (Jum)',\n",
    "                                                        'Middle_Eastern_Religious')\n",
    "cyber_test_X['group_name'] = cyber_test_X['group_name'].replace('Jundallah',\n",
    "                                                        'Middle_Eastern_Religious')\n",
    "cyber_test_X['group_name'] = cyber_test_X['group_name'].replace('Mahdi Army',\n",
    "                                                        'Middle_Eastern_Religious')\n",
    "cyber_test_X['group_name'] = cyber_test_X['group_name'].replace('Taliban',\n",
    "                                                        'Middle_Eastern_Religious')\n",
    "cyber_test_X['group_name'] = cyber_test_X['group_name'].replace('Tehrik-i-Taliban Pakistan (TTP)',\n",
    "                                                        'Middle_Eastern_Religious')\n",
    "cyber_test_X['group_name'] = cyber_test_X['group_name'].replace('Muslim extremists',\n",
    "                                                        'Middle_Eastern_Religious')\n",
    "cyber_test_X['group_name'] = cyber_test_X['group_name'].replace('Armed Islamic Group (GIA)',\n",
    "                                                        'Middle_Eastern_Religious')\n",
    "cyber_test_X['group_name'] = cyber_test_X['group_name'].replace('Sunni Muslim extremists',\n",
    "                                                        'Middle_Eastern_Religious')\n",
    "cyber_test_X['group_name'] = cyber_test_X['group_name'].replace('Al-Qaida in the Islamic Maghreb (AQIM)',\n",
    "                                                        'Middle_Eastern_Religious')\n",
    "cyber_test_X['group_name'] = cyber_test_X['group_name'].replace('Islamic State of Iraq and the Levant (ISIL)',\n",
    "                                                        'Middle_Eastern_Religious')\n",
    "cyber_test_X['group_name'] = cyber_test_X['group_name'].replace('Al-Qaida in Iraq',\n",
    "                                                        'Middle_Eastern_Religious')\n",
    "cyber_test_X['group_name'] = cyber_test_X['group_name'].replace('Al-Qaida in the Arabian Peninsula (AQAP)',\n",
    "                                                        'Middle_Eastern_Religious')\n",
    "cyber_test_X['group_name'] = cyber_test_X['group_name'].replace('Al-Qaida',\n",
    "                                                        'Middle_Eastern_Religious')"
   ]
  },
  {
   "cell_type": "code",
   "execution_count": 36,
   "metadata": {},
   "outputs": [],
   "source": [
    "# Israeli, Palestinian, Lebanese Religious:\n",
    "cyber_test_X['group_name'] = cyber_test_X['group_name'].replace('Anti-Semitic extremists',\n",
    "                                                        'Near_Israel_Religious')\n",
    "cyber_test_X['group_name'] = cyber_test_X['group_name'].replace('Hezbollah',\n",
    "                                                        'Near_Israel_Religious')"
   ]
  },
  {
   "cell_type": "code",
   "execution_count": 37,
   "metadata": {},
   "outputs": [],
   "source": [
    "# Asian and African Religious:\n",
    "\n",
    "cyber_test_X['group_name'] = cyber_test_X['group_name'].replace('Students Islamic Movement of India (Simi)',\n",
    "                                                        'Asian/Asian-Pacific_Religious')\n",
    "cyber_test_X['group_name'] = cyber_test_X['group_name'].replace('Ranbir Sena',\n",
    "                                                        'Asian/Asian-Pacific_Religious')\n",
    "cyber_test_X['group_name'] = cyber_test_X['group_name'].replace('Jemaah Islamiya (JI)',\n",
    "                                                        'Asian/Asian-Pacific_Religious')\n",
    "\n",
    "\n",
    "cyber_test_X['group_name'] = cyber_test_X['group_name'].replace('Movement for Oneness and Jihad in West Africa (MUJAO)',\n",
    "                                                        'African_Religious')\n",
    "cyber_test_X['group_name'] = cyber_test_X['group_name'].replace('Lord\\'s Resistance Army (LRA)',\n",
    "                                                        'African_Religious')\n",
    "cyber_test_X['group_name'] = cyber_test_X['group_name'].replace('Boko Haram',\n",
    "                                                        'African_Religious')\n"
   ]
  },
  {
   "cell_type": "code",
   "execution_count": 38,
   "metadata": {},
   "outputs": [
    {
     "data": {
      "text/plain": [
       "0"
      ]
     },
     "execution_count": 38,
     "metadata": {},
     "output_type": "execute_result"
    }
   ],
   "source": [
    "import gc\n",
    "gc.collect()"
   ]
  },
  {
   "cell_type": "markdown",
   "metadata": {},
   "source": [
    "#### D. City:  \n",
    "\n",
    "> Trying groupings of names by religion, tribal associations or conflict areas:"
   ]
  },
  {
   "cell_type": "markdown",
   "metadata": {},
   "source": [
    "> ##### Training Input:"
   ]
  },
  {
   "cell_type": "code",
   "execution_count": 39,
   "metadata": {},
   "outputs": [],
   "source": [
    "sunni_cities = ['Mosul', 'Kirkuk', 'Sanandaj', 'Ramadi', 'Trabzone', 'Diarbekir', \n",
    "                'Damascus', 'Gwadar', 'Zahedan', 'Kandahar', 'Khiva', 'Fallujah',\n",
    "                'Dakhla', 'Tajura', 'Sabrata', 'Azizia', 'Kasabat', 'Misrata', 'Tripoli',\n",
    "                'Takrit', 'Tikrit']\n",
    "cyber_train_X['city'] = cyber_train_X['city'].where(cyber_train_X['city'].apply(\n",
    "                                lambda x: x not in sunni_cities), other = 'Sunni_Cities')"
   ]
  },
  {
   "cell_type": "code",
   "execution_count": 40,
   "metadata": {},
   "outputs": [],
   "source": [
    "shia_cities = ['Mecca', 'Najaf', 'Karbala', 'Samarra', 'Ahwaz', 'Basra', \n",
    "               'Medina', 'Tabriz', 'Tunceli', 'Zahran', 'Tehran', 'Rasht', 'Bojnurd',\n",
    "               'Hillah', 'Diwania', 'Khalis', 'Dujali', 'Balad', 'Khanaqin', \n",
    "               'Sargodha', 'Dadu', 'Moro']\n",
    "cyber_train_X['city'] = cyber_train_X['city'].where(cyber_train_X['city'].apply(\n",
    "                                lambda x: x not in shia_cities), other = 'Shia_Cities')"
   ]
  },
  {
   "cell_type": "code",
   "execution_count": 41,
   "metadata": {},
   "outputs": [],
   "source": [
    "split_cities = ['Kirmanshah', 'Baghdad', 'Kadhimia', 'Kuwait', 'Kars', 'Maras', \n",
    "               'Ankara', 'Sivas', 'Aleppo', 'Beirut', 'Abha', 'Jizan', 'Qazvin',\n",
    "               'Gunbad', 'Ashgabat', 'Mashhad', 'Herat', 'Merv', 'Charju', 'Bukhara',\n",
    "               'Samarkand', 'Mazari Sharif', 'Kandahar', 'Lar', 'Bandar Abbas', 'Dubai', \n",
    "               'Abu Dhabi', 'Tashkent', 'Erzurum', 'Konya', 'Izmir', 'Bursa', 'Istanbul',\n",
    "               'Tarhuna', ]\n",
    "cyber_train_X['city'] = cyber_train_X['city'].where(cyber_train_X['city'].apply(\n",
    "                                lambda x: x not in split_cities), other = 'Sunni_Shia_Split')"
   ]
  },
  {
   "cell_type": "code",
   "execution_count": 42,
   "metadata": {},
   "outputs": [],
   "source": [
    "ibadi_cities_libya = ['Nalut', 'Zentan', 'Gharian', 'Dafnia', 'Abu Kammash', 'Zuwara']\n",
    "cyber_train_X['city'] = cyber_train_X['city'].where(cyber_train_X['city'].apply(\n",
    "                                lambda x: x not in ibadi_cities_libya), other = 'Ibadi_Cities_Libya')\n"
   ]
  },
  {
   "cell_type": "code",
   "execution_count": 43,
   "metadata": {},
   "outputs": [],
   "source": [
    "columbia_eln_cities = ['Riosucio', 'Buenaventura', 'Cali', 'Popayán', 'Bucaramanga',\n",
    "                       'Barrancabermeja', 'Cucuta', 'Santa Rita']\n",
    "cyber_train_X['city'] = cyber_train_X['city'].where(cyber_train_X['city'].apply(\n",
    "                                lambda x: x not in columbia_eln_cities), other = 'ELN_Cities')"
   ]
  },
  {
   "cell_type": "code",
   "execution_count": 44,
   "metadata": {},
   "outputs": [],
   "source": [
    "maoist_insurgency = ['Bhagalpur', 'Arwal', 'Khagaria', 'Rohtas', 'Kaimur',\n",
    "                       'Bhabua', 'Munger', 'Monghyr', 'Vaishali',\n",
    "                    'Dhanbad', 'Pakur', 'Koderma', 'Palamu', 'Balaghat',\n",
    "                     'Katni', 'Khandwa', 'Rajgarh', 'Shajapur']\n",
    "cyber_train_X['city'] = cyber_train_X['city'].where(cyber_train_X['city'].apply(\n",
    "                                lambda x: x not in maoist_insurgency), other = 'Maoist_Insurgency')\n"
   ]
  },
  {
   "cell_type": "code",
   "execution_count": 45,
   "metadata": {},
   "outputs": [],
   "source": [
    "w_africa_muslim = ['Touba', 'N\\'Djamena', 'Maiduguri', 'Zaria', 'Sokoto', 'Kenema',\n",
    "                   'Cetoua', 'Mopte', 'Bobo-Dioulasso', 'Kayes', 'Monrovia']\n",
    "cyber_train_X['city'] = cyber_train_X['city'].where(cyber_train_X['city'].apply(\n",
    "                                lambda x: x not in w_africa_muslim), other = 'Muslim_West_Africa')\n"
   ]
  },
  {
   "cell_type": "code",
   "execution_count": 46,
   "metadata": {},
   "outputs": [],
   "source": [
    "w_africa_mixed = ['Dogondutchi', 'Niamey', 'Parakou', 'Abuja', 'Kaduna', 'Kankan',\n",
    "                  'Lagos', 'Port Harcourt', 'Couala', 'Yaounde', 'Kumasi', 'Bamako',\n",
    "                  'Bertoua', 'Liberville', 'Port-Gentil', 'Zinder', 'Ouagadougou',\n",
    "                  'Freetown', 'Conakry', 'Bissau', 'Banjul', 'Dakar']\n",
    "cyber_train_X['city'] = cyber_train_X['city'].where(cyber_train_X['city'].apply(\n",
    "                                lambda x: x not in w_africa_mixed), other = 'Mixed_West_Africa')\n"
   ]
  },
  {
   "cell_type": "code",
   "execution_count": 47,
   "metadata": {},
   "outputs": [],
   "source": [
    "w_africa_christian = ['Benin City', 'Onitsha', 'Abidjan', 'Takoradi', 'Accra',\n",
    "                       'Lome']\n",
    "cyber_train_X['city'] = cyber_train_X['city'].where(cyber_train_X['city'].apply(\n",
    "                                lambda x: x not in w_africa_christian), other = 'Christian_West_Africa')\n"
   ]
  },
  {
   "cell_type": "code",
   "execution_count": 48,
   "metadata": {},
   "outputs": [],
   "source": [
    "# Nepal Maoist Conflict - Class A According to SATP\n",
    "Nepal_maoist_A = ['Musikot', 'Rukumkot', 'Jajarkot District', 'Salyan', 'Pyuthan', 'Gajul', 'Rank', 'Budagaun',\n",
    "                  'Kalikot District', 'Rolpa', 'Rolpa District', 'Rukum District', 'Khalanga']\n",
    "cyber_train_X['city'] = cyber_train_X['city'].where(cyber_train_X['city'].apply(\n",
    "                                lambda x: x not in Nepal_maoist_A), other = 'Nepal_maoist_A')\n"
   ]
  },
  {
   "cell_type": "code",
   "execution_count": 49,
   "metadata": {},
   "outputs": [],
   "source": [
    "# Nepal Maoist Conflict - Class B According to SATP\n",
    "Nepal_maoist_B = ['Charikot', 'Dolakha', 'Jiri', 'Ramechhap', 'Sindhuli Garhi', 'Sindhuli District', 'Dhungrebas',\n",
    "                  'Panaoti', 'Gorkha', 'Tulsipur', 'Ghorahi', 'Surkhet', 'Birendranagar',\n",
    "                  'Accham', 'Kamal Bajar', 'Dang', 'Dang District']\n",
    "cyber_train_X['city'] = cyber_train_X['city'].where(cyber_train_X['city'].apply(\n",
    "                                lambda x: x not in Nepal_maoist_B), other = 'Nepal_maoist_B')\n"
   ]
  },
  {
   "cell_type": "code",
   "execution_count": 50,
   "metadata": {},
   "outputs": [],
   "source": [
    "# Nepal Maoist Conflict - Class C According to SATP\n",
    "Nepal_maoist_C = ['Khotang Bajar', 'Khotang District', 'Khandanda', 'Okhaldhunga', 'Rumjatar', 'Udayapur Garhi',\n",
    "                  'Rasuwa District', 'Gaighat', 'Hitura', 'Makwanpur Garhi', 'Patan', 'Baglung', 'Dhorpatan',\n",
    "                  'Bardiya', 'Gulariya', 'Dailekh', 'Dailekh District', 'Jumla', 'Dhading District', \n",
    "                  'Udayapur District', 'Lalitpur', 'Hetauda', 'Gulariya']\n",
    "cyber_train_X['city'] = cyber_train_X['city'].where(cyber_train_X['city'].apply(\n",
    "                                lambda x: x not in Nepal_maoist_C), other = 'Nepal_maoist_C')\n"
   ]
  },
  {
   "cell_type": "code",
   "execution_count": 51,
   "metadata": {},
   "outputs": [],
   "source": [
    "northern_triangle = ['Tegucigalpa', 'San Pedro Sula', 'Guatemala City', 'Villa Nueva', 'Villa Canales', \n",
    "                     'Mixco', 'San Jan Sacatepequez', 'Chinautla', 'Escuintla', 'Jalapa', 'Puerto Barrios', \n",
    "                     'Morales', 'La Libertad', 'Nueva Concepcion', 'Metapan', 'Acajutla', 'Sonsonate',\n",
    "                     'Izalco', 'San Salvador', 'Apopa', 'Zaragoza', 'Colon', 'Santa Tecla', 'Usulutan',\n",
    "                     'San Miguel', 'La Union']\n",
    "cyber_train_X['city'] = cyber_train_X['city'].where(cyber_train_X['city'].apply(\n",
    "                                lambda x: x not in northern_triangle), other = 'Northern_Triangle')\n"
   ]
  },
  {
   "cell_type": "code",
   "execution_count": 52,
   "metadata": {},
   "outputs": [],
   "source": [
    "del sunni_cities\n",
    "del shia_cities\n",
    "del split_cities\n",
    "del ibadi_cities_libya\n",
    "del columbia_eln_cities\n",
    "del maoist_insurgency\n",
    "del w_africa_muslim\n",
    "del w_africa_mixed\n",
    "del w_africa_christian\n",
    "del Nepal_maoist_A\n",
    "del Nepal_maoist_B\n",
    "del Nepal_maoist_C\n",
    "del northern_triangle\n"
   ]
  },
  {
   "cell_type": "markdown",
   "metadata": {},
   "source": [
    "> ##### Test Input:"
   ]
  },
  {
   "cell_type": "code",
   "execution_count": 53,
   "metadata": {},
   "outputs": [],
   "source": [
    "sunni_cities = ['Mosul', 'Kirkuk', 'Sanandaj', 'Ramadi', 'Trabzone', 'Diarbekir', \n",
    "                'Damascus', 'Gwadar', 'Zahedan', 'Kandahar', 'Khiva', 'Fallujah',\n",
    "                'Dakhla', 'Tajura', 'Sabrata', 'Azizia', 'Kasabat', 'Misrata', 'Tripoli',\n",
    "                'Takrit', 'Tikrit']\n",
    "cyber_test_X['city'] = cyber_test_X['city'].where(cyber_test_X['city'].apply(\n",
    "                                lambda x: x not in sunni_cities), other = 'Sunni_Cities')"
   ]
  },
  {
   "cell_type": "code",
   "execution_count": 54,
   "metadata": {},
   "outputs": [],
   "source": [
    "shia_cities = ['Mecca', 'Najaf', 'Karbala', 'Samarra', 'Ahwaz', 'Basra', \n",
    "               'Medina', 'Tabriz', 'Tunceli', 'Zahran', 'Tehran', 'Rasht', 'Bojnurd',\n",
    "               'Hillah', 'Diwania', 'Khalis', 'Dujali', 'Balad', 'Khanaqin', \n",
    "               'Sargodha', 'Dadu', 'Moro']\n",
    "cyber_test_X['city'] = cyber_test_X['city'].where(cyber_test_X['city'].apply(\n",
    "                                lambda x: x not in shia_cities), other = 'Shia_Cities')"
   ]
  },
  {
   "cell_type": "code",
   "execution_count": 55,
   "metadata": {},
   "outputs": [],
   "source": [
    "split_cities = ['Kirmanshah', 'Baghdad', 'Kadhimia', 'Kuwait', 'Kars', 'Maras', \n",
    "               'Ankara', 'Sivas', 'Aleppo', 'Beirut', 'Abha', 'Jizan', 'Qazvin',\n",
    "               'Gunbad', 'Ashgabat', 'Mashhad', 'Herat', 'Merv', 'Charju', 'Bukhara',\n",
    "               'Samarkand', 'Mazari Sharif', 'Kandahar', 'Lar', 'Bandar Abbas', 'Dubai', \n",
    "               'Abu Dhabi', 'Tashkent', 'Erzurum', 'Konya', 'Izmir', 'Bursa', 'Istanbul',\n",
    "               'Tarhuna', ]\n",
    "cyber_test_X['city'] = cyber_test_X['city'].where(cyber_test_X['city'].apply(\n",
    "                                lambda x: x not in split_cities), other = 'Sunni_Shia_Split')"
   ]
  },
  {
   "cell_type": "code",
   "execution_count": 56,
   "metadata": {},
   "outputs": [],
   "source": [
    "ibadi_cities_libya = ['Nalut', 'Zentan', 'Gharian', 'Dafnia', 'Abu Kammash', 'Zuwara', \n",
    "               '', '', '', '', '', '', '']\n",
    "cyber_test_X['city'] = cyber_test_X['city'].where(cyber_test_X['city'].apply(\n",
    "                                lambda x: x not in ibadi_cities_libya), other = 'Ibadi_Cities_Libya')\n"
   ]
  },
  {
   "cell_type": "code",
   "execution_count": 57,
   "metadata": {},
   "outputs": [],
   "source": [
    "columbia_eln_cities = ['Riosucio', 'Buenaventura', 'Cali', 'Popayán', 'Bucaramanga',\n",
    "                       'Barrancabermeja', 'Cucuta', 'Santa Rita']\n",
    "cyber_test_X['city'] = cyber_test_X['city'].where(cyber_test_X['city'].apply(\n",
    "                                lambda x: x not in columbia_eln_cities), other = 'ELN_Cities')"
   ]
  },
  {
   "cell_type": "code",
   "execution_count": 58,
   "metadata": {},
   "outputs": [],
   "source": [
    "maoist_insurgency = ['Bhagalpur', 'Arwal', 'Khagaria', 'Rohtas', 'Kaimur',\n",
    "                       'Bhabua', 'Munger', 'Monghyr', 'Vaishali',\n",
    "                    'Dhanbad', 'Pakur', 'Koderma', 'Palamu', 'Balaghat',\n",
    "                     'Katni', 'Khandwa', 'Rajgarh', 'Shajapur']\n",
    "cyber_test_X['city'] = cyber_test_X['city'].where(cyber_test_X['city'].apply(\n",
    "                                lambda x: x not in maoist_insurgency), other = 'Maoist_Insurgency')\n"
   ]
  },
  {
   "cell_type": "code",
   "execution_count": 59,
   "metadata": {},
   "outputs": [],
   "source": [
    "w_africa_muslim = ['Touba', 'N\\'Djamena', 'Maiduguri', 'Zaria', 'Sokoto', 'Kenema',\n",
    "                   'Cetoua', 'Mopte', 'Bobo-Dioulasso', 'Kayes', 'Monrovia']\n",
    "cyber_test_X['city'] = cyber_test_X['city'].where(cyber_test_X['city'].apply(\n",
    "                                lambda x: x not in w_africa_muslim), other = 'Muslim_West_Africa')\n"
   ]
  },
  {
   "cell_type": "code",
   "execution_count": 60,
   "metadata": {},
   "outputs": [],
   "source": [
    "w_africa_mixed = ['Dogondutchi', 'Niamey', 'Parakou', 'Abuja', 'Kaduna', 'Kankan',\n",
    "                  'Lagos', 'Port Harcourt', 'Couala', 'Yaounde', 'Kumasi', 'Bamako',\n",
    "                  'Bertoua', 'Liberville', 'Port-Gentil', 'Zinder', 'Ouagadougou',\n",
    "                  'Freetown', 'Conakry', 'Bissau', 'Banjul', 'Dakar']\n",
    "cyber_test_X['city'] = cyber_test_X['city'].where(cyber_test_X['city'].apply(\n",
    "                                lambda x: x not in w_africa_mixed), other = 'Mixed_West_Africa')\n"
   ]
  },
  {
   "cell_type": "code",
   "execution_count": 61,
   "metadata": {},
   "outputs": [],
   "source": [
    "w_africa_christian = ['Benin City', 'Onitsha', 'Abidjan', 'Takoradi', 'Accra',\n",
    "                       'Lome']\n",
    "cyber_test_X['city'] = cyber_test_X['city'].where(cyber_test_X['city'].apply(\n",
    "                                lambda x: x not in w_africa_christian), other = 'Christian_West_Africa')\n"
   ]
  },
  {
   "cell_type": "code",
   "execution_count": 62,
   "metadata": {},
   "outputs": [],
   "source": [
    "# Nepal Maoist Conflict - Class A According to SATP\n",
    "Nepal_maoist_A = ['Musikot', 'Rukumkot', 'Jajarkot District', 'Salyan', 'Pyuthan', 'Gajul', 'Rank', 'Budagaun',\n",
    "                  'Kalikot District', 'Rolpa', 'Rolpa District', 'Rukum District', 'Khalanga']\n",
    "cyber_test_X['city'] = cyber_test_X['city'].where(cyber_test_X['city'].apply(\n",
    "                                lambda x: x not in Nepal_maoist_A), other = 'Nepal_maoist_A')\n"
   ]
  },
  {
   "cell_type": "code",
   "execution_count": 63,
   "metadata": {},
   "outputs": [],
   "source": [
    "# Nepal Maoist Conflict - Class B According to SATP\n",
    "Nepal_maoist_B = ['Charikot', 'Dolakha', 'Jiri', 'Ramechhap', 'Sindhuli Garhi', 'Sindhuli District', 'Dhungrebas',\n",
    "                  'Panaoti', 'Gorkha', 'Tulsipur', 'Ghorahi', 'Surkhet', 'Birendranagar',\n",
    "                  'Accham', 'Kamal Bajar', 'Dang', 'Dang District']\n",
    "cyber_test_X['city'] = cyber_test_X['city'].where(cyber_test_X['city'].apply(\n",
    "                                lambda x: x not in Nepal_maoist_B), other = 'Nepal_maoist_B')\n"
   ]
  },
  {
   "cell_type": "code",
   "execution_count": 64,
   "metadata": {},
   "outputs": [],
   "source": [
    "# Nepal Maoist Conflict - Class C According to SATP\n",
    "Nepal_maoist_C = ['Khotang Bajar', 'Khotang District', 'Khandanda', 'Okhaldhunga', 'Rumjatar', 'Udayapur Garhi',\n",
    "                  'Rasuwa District', 'Gaighat', 'Hitura', 'Makwanpur Garhi', 'Patan', 'Baglung', 'Dhorpatan',\n",
    "                  'Bardiya', 'Gulariya', 'Dailekh', 'Dailekh District', 'Jumla', 'Dhading District', \n",
    "                  'Udayapur District', 'Lalitpur', 'Hetauda', 'Gulariya']\n",
    "cyber_test_X['city'] = cyber_test_X['city'].where(cyber_test_X['city'].apply(\n",
    "                                lambda x: x not in Nepal_maoist_C), other = 'Nepal_maoist_C')\n"
   ]
  },
  {
   "cell_type": "code",
   "execution_count": 65,
   "metadata": {},
   "outputs": [],
   "source": [
    "northern_triangle = ['Tegucigalpa', 'San Pedro Sula', 'Guatemala City', 'Villa Nueva', 'Villa Canales', \n",
    "                     'Mixco', 'San Jan Sacatepequez', 'Chinautla', 'Escuintla', 'Jalapa', 'Puerto Barrios', \n",
    "                     'Morales', 'La Libertad', 'Nueva Concepcion', 'Metapan', 'Acajutla', 'Sonsonate',\n",
    "                     'Izalco', 'San Salvador', 'Apopa', 'Zaragoza', 'Colon', 'Santa Tecla', 'Usulutan',\n",
    "                     'San Miguel', 'La Union']\n",
    "cyber_test_X['city'] = cyber_test_X['city'].where(cyber_test_X['city'].apply(\n",
    "                                lambda x: x not in northern_triangle), other = 'Northern_Triangle')\n"
   ]
  },
  {
   "cell_type": "code",
   "execution_count": 66,
   "metadata": {},
   "outputs": [
    {
     "data": {
      "text/plain": [
       "0"
      ]
     },
     "execution_count": 66,
     "metadata": {},
     "output_type": "execute_result"
    }
   ],
   "source": [
    "del sunni_cities\n",
    "del shia_cities\n",
    "del split_cities\n",
    "del ibadi_cities_libya\n",
    "del columbia_eln_cities\n",
    "del maoist_insurgency\n",
    "del w_africa_muslim\n",
    "del w_africa_mixed\n",
    "del w_africa_christian\n",
    "del Nepal_maoist_A\n",
    "del Nepal_maoist_B\n",
    "del Nepal_maoist_C\n",
    "del northern_triangle\n",
    "gc.collect()"
   ]
  },
  {
   "cell_type": "markdown",
   "metadata": {},
   "source": [
    "### 3. Feature Selection:"
   ]
  },
  {
   "cell_type": "markdown",
   "metadata": {},
   "source": [
    "#### A. Select K-Best:"
   ]
  },
  {
   "cell_type": "markdown",
   "metadata": {},
   "source": [
    "##### Assessing the Overall DataFrame and its Features:"
   ]
  },
  {
   "cell_type": "code",
   "execution_count": 81,
   "metadata": {},
   "outputs": [],
   "source": [
    "from sklearn import feature_selection"
   ]
  },
  {
   "cell_type": "code",
   "execution_count": 82,
   "metadata": {},
   "outputs": [],
   "source": [
    "# Getting dummies on our training and test sets (slight wrangling involved):\n",
    "  # First dropping any na's:\n",
    "cyber_train_X.dropna(axis = 0, inplace = True)\n",
    "cyber_test_X.dropna(axis = 0, inplace = True)\n",
    "\n",
    "  # Then grabbing an index to make sure we maintain our train/test split:\n",
    "train_index = cyber_train_X.index\n",
    "test_index = cyber_test_X.index\n",
    "\n",
    "  # Dummy-time (we combined the dataframes here to make sure we didn't get duplicated dummies in both \n",
    "    # training and test sets):\n",
    "dummy_prep = pd.concat([cyber_train_X, cyber_test_X]).drop(['group_name', 'city', 'weapontxt'], axis = 1)\n",
    "dummy_1 = pd.get_dummies(dummy_prep)\n",
    "\n",
    "  # Re-filtering our Training/Test Inputs:\n",
    "cyber_train_dummy_X = dummy_1.loc[train_index]\n",
    "cyber_test_dummy_X = dummy_1.loc[test_index]\n",
    "\n",
    "  # Re-filtering our Training/Test Outputs:\n",
    "cyber_train_dummy_Y = cyber_train_Y.loc[train_index]\n",
    "cyber_test_dummy_Y = cyber_test_Y.loc[test_index]"
   ]
  },
  {
   "cell_type": "code",
   "execution_count": 83,
   "metadata": {},
   "outputs": [
    {
     "name": "stdout",
     "output_type": "stream",
     "text": [
      "(5285, 7001)\n",
      "(1762, 7001)\n"
     ]
    }
   ],
   "source": [
    "# Making sure we have the same sizes still:\n",
    "print(cyber_train_dummy_X.shape)\n",
    "print(cyber_test_dummy_X.shape)"
   ]
  },
  {
   "cell_type": "code",
   "execution_count": 84,
   "metadata": {},
   "outputs": [],
   "source": [
    "# Fitting SelectKBest to our Features and output:\n",
    "  # Here we tried a number of sizes: 20, 30, 500 and 700. We found that 25-30 got us the best results.\n",
    "KBest_1 = feature_selection.SelectKBest(k = 25) \n",
    "cyber_train_KBest1 = KBest_1.fit_transform(cyber_train_dummy_X, cyber_train_dummy_Y)\n",
    "\n",
    "# Transforming the test-set\n",
    "cyber_test_KBest1 = KBest_1.transform(cyber_test_dummy_X)"
   ]
  },
  {
   "cell_type": "code",
   "execution_count": 85,
   "metadata": {
    "collapsed": true
   },
   "outputs": [
    {
     "data": {
      "text/html": [
       "<div>\n",
       "<style scoped>\n",
       "    .dataframe tbody tr th:only-of-type {\n",
       "        vertical-align: middle;\n",
       "    }\n",
       "\n",
       "    .dataframe tbody tr th {\n",
       "        vertical-align: top;\n",
       "    }\n",
       "\n",
       "    .dataframe thead th {\n",
       "        text-align: right;\n",
       "    }\n",
       "</style>\n",
       "<table border=\"1\" class=\"dataframe\">\n",
       "  <thead>\n",
       "    <tr style=\"text-align: right;\">\n",
       "      <th></th>\n",
       "      <th>0</th>\n",
       "    </tr>\n",
       "  </thead>\n",
       "  <tbody>\n",
       "    <tr>\n",
       "      <th>0</th>\n",
       "      <td>country_txt_Ireland</td>\n",
       "    </tr>\n",
       "    <tr>\n",
       "      <th>1</th>\n",
       "      <td>country_txt_Nepal</td>\n",
       "    </tr>\n",
       "    <tr>\n",
       "      <th>2</th>\n",
       "      <td>region_txt_Western Europe</td>\n",
       "    </tr>\n",
       "    <tr>\n",
       "      <th>3</th>\n",
       "      <td>attack_1txt_Assassination</td>\n",
       "    </tr>\n",
       "    <tr>\n",
       "      <th>4</th>\n",
       "      <td>attack_1txt_Bombing/Explosion</td>\n",
       "    </tr>\n",
       "    <tr>\n",
       "      <th>5</th>\n",
       "      <td>attack_1txt_Hostage Taking (Kidnapping)</td>\n",
       "    </tr>\n",
       "    <tr>\n",
       "      <th>6</th>\n",
       "      <td>target_1txt_Military</td>\n",
       "    </tr>\n",
       "    <tr>\n",
       "      <th>7</th>\n",
       "      <td>target_1txt_Private Citizens &amp; Property</td>\n",
       "    </tr>\n",
       "    <tr>\n",
       "      <th>8</th>\n",
       "      <td>target_1txt_Unknown</td>\n",
       "    </tr>\n",
       "    <tr>\n",
       "      <th>9</th>\n",
       "      <td>sub_targettxt_Government Personnel (excluding ...</td>\n",
       "    </tr>\n",
       "    <tr>\n",
       "      <th>10</th>\n",
       "      <td>sub_targettxt_Politician or Political Party Mo...</td>\n",
       "    </tr>\n",
       "    <tr>\n",
       "      <th>11</th>\n",
       "      <td>sub_targettxt_Unnamed Civilian/Unspecified</td>\n",
       "    </tr>\n",
       "    <tr>\n",
       "      <th>12</th>\n",
       "      <td>corp1_Council of Representatives of Iraq</td>\n",
       "    </tr>\n",
       "    <tr>\n",
       "      <th>13</th>\n",
       "      <td>corp1_Election Commission of India</td>\n",
       "    </tr>\n",
       "    <tr>\n",
       "      <th>14</th>\n",
       "      <td>corp1_Mutahidoun Bloc</td>\n",
       "    </tr>\n",
       "    <tr>\n",
       "      <th>15</th>\n",
       "      <td>corp1_Not Applicable</td>\n",
       "    </tr>\n",
       "    <tr>\n",
       "      <th>16</th>\n",
       "      <td>corp1_Unified Communist Party of Nepal: Maoist...</td>\n",
       "    </tr>\n",
       "    <tr>\n",
       "      <th>17</th>\n",
       "      <td>specific_target_A police chief</td>\n",
       "    </tr>\n",
       "    <tr>\n",
       "      <th>18</th>\n",
       "      <td>specific_target_Civilians</td>\n",
       "    </tr>\n",
       "    <tr>\n",
       "      <th>19</th>\n",
       "      <td>specific_target_Unidentified Village Chairperson</td>\n",
       "    </tr>\n",
       "    <tr>\n",
       "      <th>20</th>\n",
       "      <td>victim_nationalitytxt_Ireland</td>\n",
       "    </tr>\n",
       "    <tr>\n",
       "      <th>21</th>\n",
       "      <td>victim_nationalitytxt_Nepal</td>\n",
       "    </tr>\n",
       "    <tr>\n",
       "      <th>22</th>\n",
       "      <td>sub_weapontxt_Letter Bomb</td>\n",
       "    </tr>\n",
       "    <tr>\n",
       "      <th>23</th>\n",
       "      <td>sub_weapontxt_Other Explosive Type</td>\n",
       "    </tr>\n",
       "    <tr>\n",
       "      <th>24</th>\n",
       "      <td>sub_weapontxt_Pipe Bomb</td>\n",
       "    </tr>\n",
       "  </tbody>\n",
       "</table>\n",
       "</div>"
      ],
      "text/plain": [
       "                                                    0\n",
       "0                                 country_txt_Ireland\n",
       "1                                   country_txt_Nepal\n",
       "2                           region_txt_Western Europe\n",
       "3                           attack_1txt_Assassination\n",
       "4                       attack_1txt_Bombing/Explosion\n",
       "5             attack_1txt_Hostage Taking (Kidnapping)\n",
       "6                                target_1txt_Military\n",
       "7             target_1txt_Private Citizens & Property\n",
       "8                                 target_1txt_Unknown\n",
       "9   sub_targettxt_Government Personnel (excluding ...\n",
       "10  sub_targettxt_Politician or Political Party Mo...\n",
       "11         sub_targettxt_Unnamed Civilian/Unspecified\n",
       "12           corp1_Council of Representatives of Iraq\n",
       "13                 corp1_Election Commission of India\n",
       "14                              corp1_Mutahidoun Bloc\n",
       "15                               corp1_Not Applicable\n",
       "16  corp1_Unified Communist Party of Nepal: Maoist...\n",
       "17                     specific_target_A police chief\n",
       "18                          specific_target_Civilians\n",
       "19   specific_target_Unidentified Village Chairperson\n",
       "20                      victim_nationalitytxt_Ireland\n",
       "21                        victim_nationalitytxt_Nepal\n",
       "22                          sub_weapontxt_Letter Bomb\n",
       "23                 sub_weapontxt_Other Explosive Type\n",
       "24                            sub_weapontxt_Pipe Bomb"
      ]
     },
     "execution_count": 85,
     "metadata": {},
     "output_type": "execute_result"
    }
   ],
   "source": [
    "# Creating a DF with the top 25 features:\n",
    "feature_mask = KBest_1.get_support(indices = True)\n",
    "KBest_1_features = pd.DataFrame(cyber_train_dummy_X.columns[feature_mask])\n",
    "\n",
    "KBest_1_features"
   ]
  },
  {
   "cell_type": "markdown",
   "metadata": {},
   "source": [
    "##### Assessing Individual Features:\n",
    "\n",
    "> Running SelectKBest on a few features individually to see which of their values is selected as most important.  This will help us consolidate some of those values and make a more specific dataframe. \n"
   ]
  },
  {
   "cell_type": "markdown",
   "metadata": {},
   "source": [
    "> ###### Group_name:"
   ]
  },
  {
   "cell_type": "code",
   "execution_count": 86,
   "metadata": {},
   "outputs": [],
   "source": [
    "# Getting dummies on our training and test sets (slight wrangling involved):\n",
    "names_train_X = cyber_train_X['group_name']\n",
    "names_test_X = cyber_test_X['group_name']\n",
    "\n",
    "names_train_index = cyber_train_X['group_name'].index\n",
    "names_test_index = cyber_test_X['group_name'].index\n",
    "\n",
    "names_dummy_prep = pd.concat([names_train_X, names_test_X])\n",
    "names_dummy_1 = pd.get_dummies(names_dummy_prep)\n",
    "\n",
    "# Filtering Training/Test Inputs:\n",
    "names_train_dummy_X = names_dummy_1.loc[names_train_index]\n",
    "names_test_dummy_X = names_dummy_1.loc[names_test_index]\n",
    "\n",
    "# Filtering Training Outputs:\n",
    "names_train_dummy_Y = cyber_train_Y.loc[names_train_index]\n",
    "names_test_dummy_Y = cyber_test_Y.loc[names_test_index]"
   ]
  },
  {
   "cell_type": "code",
   "execution_count": 87,
   "metadata": {},
   "outputs": [],
   "source": [
    "# Fitting model to our features and output.\n",
    "  # Again, we tried 30, 50 and 150, here. It seemed like 25-30 features gave us the best results.\n",
    "KBest_names = feature_selection.SelectKBest(k = 25)  \n",
    "names_train_KBest = KBest_names.fit_transform(names_train_dummy_X, names_train_dummy_Y)\n",
    "\n",
    "# Transforming our test set.\n",
    "names_test_KBest = KBest_names.transform(names_test_dummy_X)"
   ]
  },
  {
   "cell_type": "code",
   "execution_count": 88,
   "metadata": {
    "collapsed": true
   },
   "outputs": [
    {
     "data": {
      "text/html": [
       "<div>\n",
       "<style scoped>\n",
       "    .dataframe tbody tr th:only-of-type {\n",
       "        vertical-align: middle;\n",
       "    }\n",
       "\n",
       "    .dataframe tbody tr th {\n",
       "        vertical-align: top;\n",
       "    }\n",
       "\n",
       "    .dataframe thead th {\n",
       "        text-align: right;\n",
       "    }\n",
       "</style>\n",
       "<table border=\"1\" class=\"dataframe\">\n",
       "  <thead>\n",
       "    <tr style=\"text-align: right;\">\n",
       "      <th></th>\n",
       "      <th>0</th>\n",
       "    </tr>\n",
       "  </thead>\n",
       "  <tbody>\n",
       "    <tr>\n",
       "      <th>0</th>\n",
       "      <td>Al-Qaida in Iraq</td>\n",
       "    </tr>\n",
       "    <tr>\n",
       "      <th>1</th>\n",
       "      <td>Armed Commandos of Liberation</td>\n",
       "    </tr>\n",
       "    <tr>\n",
       "      <th>2</th>\n",
       "      <td>Bangladesh Nationalist Party (BNP)</td>\n",
       "    </tr>\n",
       "    <tr>\n",
       "      <th>3</th>\n",
       "      <td>Besi Merah Putih Militia</td>\n",
       "    </tr>\n",
       "    <tr>\n",
       "      <th>4</th>\n",
       "      <td>Black Liberation Army</td>\n",
       "    </tr>\n",
       "    <tr>\n",
       "      <th>5</th>\n",
       "      <td>Communist Party of India - Maoist (CPI-Maoist)</td>\n",
       "    </tr>\n",
       "    <tr>\n",
       "      <th>6</th>\n",
       "      <td>Communist Party of Nepal - Maoist (CPN-Maoist-...</td>\n",
       "    </tr>\n",
       "    <tr>\n",
       "      <th>7</th>\n",
       "      <td>Communist Party of Nepal-Maoist (Baidya)</td>\n",
       "    </tr>\n",
       "    <tr>\n",
       "      <th>8</th>\n",
       "      <td>Dima Halao Daoga (DHD)</td>\n",
       "    </tr>\n",
       "    <tr>\n",
       "      <th>9</th>\n",
       "      <td>Haqqani Network</td>\n",
       "    </tr>\n",
       "    <tr>\n",
       "      <th>10</th>\n",
       "      <td>Hekla Reception Committee-Initiative for More ...</td>\n",
       "    </tr>\n",
       "    <tr>\n",
       "      <th>11</th>\n",
       "      <td>Informal Anarchist Federation</td>\n",
       "    </tr>\n",
       "    <tr>\n",
       "      <th>12</th>\n",
       "      <td>Loyalists</td>\n",
       "    </tr>\n",
       "    <tr>\n",
       "      <th>13</th>\n",
       "      <td>Madhesh Rastra Janatantrik Revolutionary (RJR)...</td>\n",
       "    </tr>\n",
       "    <tr>\n",
       "      <th>14</th>\n",
       "      <td>Maoist Communist Party of Manipur</td>\n",
       "    </tr>\n",
       "    <tr>\n",
       "      <th>15</th>\n",
       "      <td>National Socialist Council of Nagaland</td>\n",
       "    </tr>\n",
       "    <tr>\n",
       "      <th>16</th>\n",
       "      <td>National Socialist Council of Nagaland-Khaplan...</td>\n",
       "    </tr>\n",
       "    <tr>\n",
       "      <th>17</th>\n",
       "      <td>Popular Resistance (Laiki Antistasi)</td>\n",
       "    </tr>\n",
       "    <tr>\n",
       "      <th>18</th>\n",
       "      <td>Pro Hartal Activists</td>\n",
       "    </tr>\n",
       "    <tr>\n",
       "      <th>19</th>\n",
       "      <td>Revolutionary Cells-Animal Liberation Brigade</td>\n",
       "    </tr>\n",
       "    <tr>\n",
       "      <th>20</th>\n",
       "      <td>Revolutionary Struggle</td>\n",
       "    </tr>\n",
       "    <tr>\n",
       "      <th>21</th>\n",
       "      <td>Riyadus-Salikhin Reconnaissance and Sabotage B...</td>\n",
       "    </tr>\n",
       "    <tr>\n",
       "      <th>22</th>\n",
       "      <td>Salafi Abu-Bakr al-Siddiq Army</td>\n",
       "    </tr>\n",
       "    <tr>\n",
       "      <th>23</th>\n",
       "      <td>Taliban</td>\n",
       "    </tr>\n",
       "    <tr>\n",
       "      <th>24</th>\n",
       "      <td>Unknown</td>\n",
       "    </tr>\n",
       "  </tbody>\n",
       "</table>\n",
       "</div>"
      ],
      "text/plain": [
       "                                                    0\n",
       "0                                    Al-Qaida in Iraq\n",
       "1                       Armed Commandos of Liberation\n",
       "2                  Bangladesh Nationalist Party (BNP)\n",
       "3                            Besi Merah Putih Militia\n",
       "4                               Black Liberation Army\n",
       "5      Communist Party of India - Maoist (CPI-Maoist)\n",
       "6   Communist Party of Nepal - Maoist (CPN-Maoist-...\n",
       "7            Communist Party of Nepal-Maoist (Baidya)\n",
       "8                              Dima Halao Daoga (DHD)\n",
       "9                                     Haqqani Network\n",
       "10  Hekla Reception Committee-Initiative for More ...\n",
       "11                      Informal Anarchist Federation\n",
       "12                                          Loyalists\n",
       "13  Madhesh Rastra Janatantrik Revolutionary (RJR)...\n",
       "14                  Maoist Communist Party of Manipur\n",
       "15             National Socialist Council of Nagaland\n",
       "16  National Socialist Council of Nagaland-Khaplan...\n",
       "17               Popular Resistance (Laiki Antistasi)\n",
       "18                               Pro Hartal Activists\n",
       "19      Revolutionary Cells-Animal Liberation Brigade\n",
       "20                             Revolutionary Struggle\n",
       "21  Riyadus-Salikhin Reconnaissance and Sabotage B...\n",
       "22                     Salafi Abu-Bakr al-Siddiq Army\n",
       "23                                            Taliban\n",
       "24                                            Unknown"
      ]
     },
     "execution_count": 88,
     "metadata": {},
     "output_type": "execute_result"
    }
   ],
   "source": [
    "# Summarizing the scores for those top 25 features in a df:\n",
    "\n",
    "names_mask = KBest_names.get_support(indices = True)\n",
    "KBest_names_features = pd.DataFrame(names_train_dummy_X.columns[names_mask])\n",
    "\n",
    "KBest_names_features"
   ]
  },
  {
   "cell_type": "markdown",
   "metadata": {},
   "source": [
    "> ###### City:"
   ]
  },
  {
   "cell_type": "code",
   "execution_count": 89,
   "metadata": {},
   "outputs": [],
   "source": [
    "# Getting dummies on our training and test sets (slight wrangling involved):\n",
    "city_train_X = cyber_train_X['city']\n",
    "city_test_X = cyber_test_X['city']\n",
    "\n",
    "city_train_index = cyber_train_X['city'].index\n",
    "city_test_index = cyber_test_X['city'].index\n",
    "\n",
    "city_dummy_prep = pd.concat([city_train_X, city_test_X])\n",
    "city_dummy_1 = pd.get_dummies(city_dummy_prep)\n",
    "\n",
    "# Training/Test Inputs:\n",
    "city_train_dummy_X = city_dummy_1.loc[city_train_index]\n",
    "city_test_dummy_X = city_dummy_1.loc[city_test_index]\n",
    "\n",
    "# Training Output:\n",
    "city_train_dummy_Y = cyber_train_Y.loc[city_train_index]\n",
    "city_test_dummy_Y = cyber_test_Y.loc[city_test_index]"
   ]
  },
  {
   "cell_type": "code",
   "execution_count": 90,
   "metadata": {},
   "outputs": [],
   "source": [
    "# Fitting model to our features and output.\n",
    "KBest_city = feature_selection.SelectKBest(k = 25) # Tried 30 and 150. 25-30 was our best range.\n",
    "city_train_KBest = KBest_city.fit_transform(city_train_dummy_X, city_train_dummy_Y)\n",
    "\n",
    "# Transforming our test set:\n",
    "city_test_KBest = KBest_city.transform(city_test_dummy_X)"
   ]
  },
  {
   "cell_type": "code",
   "execution_count": 91,
   "metadata": {
    "scrolled": true
   },
   "outputs": [
    {
     "data": {
      "text/html": [
       "<div>\n",
       "<style scoped>\n",
       "    .dataframe tbody tr th:only-of-type {\n",
       "        vertical-align: middle;\n",
       "    }\n",
       "\n",
       "    .dataframe tbody tr th {\n",
       "        vertical-align: top;\n",
       "    }\n",
       "\n",
       "    .dataframe thead th {\n",
       "        text-align: right;\n",
       "    }\n",
       "</style>\n",
       "<table border=\"1\" class=\"dataframe\">\n",
       "  <thead>\n",
       "    <tr style=\"text-align: right;\">\n",
       "      <th></th>\n",
       "      <th>0</th>\n",
       "    </tr>\n",
       "  </thead>\n",
       "  <tbody>\n",
       "    <tr>\n",
       "      <th>0</th>\n",
       "      <td>Aguada</td>\n",
       "    </tr>\n",
       "    <tr>\n",
       "      <th>1</th>\n",
       "      <td>Baharak district</td>\n",
       "    </tr>\n",
       "    <tr>\n",
       "      <th>2</th>\n",
       "      <td>Belfast</td>\n",
       "    </tr>\n",
       "    <tr>\n",
       "      <th>3</th>\n",
       "      <td>Chukitong</td>\n",
       "    </tr>\n",
       "    <tr>\n",
       "      <th>4</th>\n",
       "      <td>Colombo</td>\n",
       "    </tr>\n",
       "    <tr>\n",
       "      <th>5</th>\n",
       "      <td>Dhaka</td>\n",
       "    </tr>\n",
       "    <tr>\n",
       "      <th>6</th>\n",
       "      <td>Dublin</td>\n",
       "    </tr>\n",
       "    <tr>\n",
       "      <th>7</th>\n",
       "      <td>Faizabad</td>\n",
       "    </tr>\n",
       "    <tr>\n",
       "      <th>8</th>\n",
       "      <td>Gilgit</td>\n",
       "    </tr>\n",
       "    <tr>\n",
       "      <th>9</th>\n",
       "      <td>Hayatabad</td>\n",
       "    </tr>\n",
       "    <tr>\n",
       "      <th>10</th>\n",
       "      <td>Hit</td>\n",
       "    </tr>\n",
       "    <tr>\n",
       "      <th>11</th>\n",
       "      <td>Mingora</td>\n",
       "    </tr>\n",
       "    <tr>\n",
       "      <th>12</th>\n",
       "      <td>Pagadian</td>\n",
       "    </tr>\n",
       "    <tr>\n",
       "      <th>13</th>\n",
       "      <td>Paris</td>\n",
       "    </tr>\n",
       "    <tr>\n",
       "      <th>14</th>\n",
       "      <td>Smile</td>\n",
       "    </tr>\n",
       "    <tr>\n",
       "      <th>15</th>\n",
       "      <td>Staaken</td>\n",
       "    </tr>\n",
       "    <tr>\n",
       "      <th>16</th>\n",
       "      <td>The Hague</td>\n",
       "    </tr>\n",
       "    <tr>\n",
       "      <th>17</th>\n",
       "      <td>Tral</td>\n",
       "    </tr>\n",
       "    <tr>\n",
       "      <th>18</th>\n",
       "      <td>Tuensang district</td>\n",
       "    </tr>\n",
       "    <tr>\n",
       "      <th>19</th>\n",
       "      <td>Tunga</td>\n",
       "    </tr>\n",
       "    <tr>\n",
       "      <th>20</th>\n",
       "      <td>Turin</td>\n",
       "    </tr>\n",
       "    <tr>\n",
       "      <th>21</th>\n",
       "      <td>Waghaz district</td>\n",
       "    </tr>\n",
       "    <tr>\n",
       "      <th>22</th>\n",
       "      <td>Zab</td>\n",
       "    </tr>\n",
       "    <tr>\n",
       "      <th>23</th>\n",
       "      <td>Zemraya</td>\n",
       "    </tr>\n",
       "    <tr>\n",
       "      <th>24</th>\n",
       "      <td>Zhavoronki</td>\n",
       "    </tr>\n",
       "  </tbody>\n",
       "</table>\n",
       "</div>"
      ],
      "text/plain": [
       "                    0\n",
       "0              Aguada\n",
       "1    Baharak district\n",
       "2             Belfast\n",
       "3           Chukitong\n",
       "4             Colombo\n",
       "5               Dhaka\n",
       "6              Dublin\n",
       "7            Faizabad\n",
       "8              Gilgit\n",
       "9           Hayatabad\n",
       "10                Hit\n",
       "11            Mingora\n",
       "12           Pagadian\n",
       "13              Paris\n",
       "14              Smile\n",
       "15            Staaken\n",
       "16          The Hague\n",
       "17               Tral\n",
       "18  Tuensang district\n",
       "19              Tunga\n",
       "20              Turin\n",
       "21    Waghaz district\n",
       "22                Zab\n",
       "23            Zemraya\n",
       "24         Zhavoronki"
      ]
     },
     "execution_count": 91,
     "metadata": {},
     "output_type": "execute_result"
    }
   ],
   "source": [
    "# Summarizing the scores for those top 25 features in a df:\n",
    "pd.set_option('max_rows', 101)\n",
    "city_mask = KBest_city.get_support(indices = True)\n",
    "KBest_city_features = pd.DataFrame(city_train_dummy_X.columns[city_mask])\n",
    "KBest_city_features"
   ]
  },
  {
   "cell_type": "markdown",
   "metadata": {},
   "source": [
    "> ###### Weapontxt:"
   ]
  },
  {
   "cell_type": "code",
   "execution_count": 95,
   "metadata": {},
   "outputs": [],
   "source": [
    "# Getting dummies on our training and test sets (slight wrangling involved):\n",
    "weapon_train_X = cyber_train_X['weapontxt']\n",
    "weapon_test_X = cyber_test_X['weapontxt']\n",
    "\n",
    "weapon_train_index = cyber_train_X['weapontxt'].index\n",
    "weapon_test_index = cyber_test_X['weapontxt'].index\n",
    "\n",
    "weapon_dummy_prep = pd.concat([weapon_train_X, weapon_test_X])\n",
    "weapon_dummy_1 = pd.get_dummies(weapon_dummy_prep)\n",
    "\n",
    "# Training/Test Inputs:\n",
    "weapon_train_dummy_X = weapon_dummy_1.loc[weapon_train_index]\n",
    "weapon_test_dummy_X = weapon_dummy_1.loc[weapon_test_index]\n",
    "\n",
    "# Training Output:\n",
    "weapon_train_dummy_Y = cyber_train_Y.loc[weapon_train_index]\n",
    "weapon_test_dummy_Y = cyber_test_Y.loc[weapon_test_index]"
   ]
  },
  {
   "cell_type": "code",
   "execution_count": 96,
   "metadata": {},
   "outputs": [],
   "source": [
    "# Fitting the model to our features and training output:\n",
    "\n",
    "KBest_weapon = feature_selection.SelectKBest(k = 3) # Tried 5, but 3 was best.\n",
    "weapon_train_KBest = KBest_weapon.fit_transform(weapon_train_dummy_X, weapon_train_dummy_Y)\n",
    "\n",
    "# Transforming our test set:\n",
    "weapon_test_KBest = KBest_weapon.transform(weapon_test_dummy_X)"
   ]
  },
  {
   "cell_type": "code",
   "execution_count": 97,
   "metadata": {},
   "outputs": [
    {
     "data": {
      "text/html": [
       "<div>\n",
       "<style scoped>\n",
       "    .dataframe tbody tr th:only-of-type {\n",
       "        vertical-align: middle;\n",
       "    }\n",
       "\n",
       "    .dataframe tbody tr th {\n",
       "        vertical-align: top;\n",
       "    }\n",
       "\n",
       "    .dataframe thead th {\n",
       "        text-align: right;\n",
       "    }\n",
       "</style>\n",
       "<table border=\"1\" class=\"dataframe\">\n",
       "  <thead>\n",
       "    <tr style=\"text-align: right;\">\n",
       "      <th></th>\n",
       "      <th>0</th>\n",
       "    </tr>\n",
       "  </thead>\n",
       "  <tbody>\n",
       "    <tr>\n",
       "      <th>0</th>\n",
       "      <td>Explosives</td>\n",
       "    </tr>\n",
       "    <tr>\n",
       "      <th>1</th>\n",
       "      <td>Incendiary</td>\n",
       "    </tr>\n",
       "    <tr>\n",
       "      <th>2</th>\n",
       "      <td>Melee</td>\n",
       "    </tr>\n",
       "  </tbody>\n",
       "</table>\n",
       "</div>"
      ],
      "text/plain": [
       "            0\n",
       "0  Explosives\n",
       "1  Incendiary\n",
       "2       Melee"
      ]
     },
     "execution_count": 97,
     "metadata": {},
     "output_type": "execute_result"
    }
   ],
   "source": [
    "# Summarizing the scores for those top 3 features in a df:\n",
    "\n",
    "weapon_mask = KBest_weapon.get_support(indices = True)\n",
    "KBest_weapon_features = pd.DataFrame(weapon_train_dummy_X.columns[weapon_mask])\n",
    "KBest_weapon_features "
   ]
  },
  {
   "cell_type": "code",
   "execution_count": 93,
   "metadata": {},
   "outputs": [],
   "source": [
    "del dummy_prep\n",
    "del dummy_1\n",
    "del names_dummy_prep\n",
    "del names_dummy_1\n",
    "del city_dummy_prep\n",
    "del city_dummy_1\n",
    "del weapon_dummy_prep\n",
    "del weapon_dummy_1"
   ]
  },
  {
   "cell_type": "code",
   "execution_count": 94,
   "metadata": {},
   "outputs": [
    {
     "data": {
      "text/plain": [
       "49"
      ]
     },
     "execution_count": 94,
     "metadata": {},
     "output_type": "execute_result"
    }
   ],
   "source": [
    "gc.collect()"
   ]
  },
  {
   "cell_type": "markdown",
   "metadata": {},
   "source": [
    "#### B. Principle Component Analysis:\n",
    "\n",
    "> ##### Assessing the Overall DataFrame:"
   ]
  },
  {
   "cell_type": "code",
   "execution_count": 110,
   "metadata": {},
   "outputs": [],
   "source": [
    "from sklearn.decomposition import PCA\n",
    "\n",
    "# Using the whole dataset (cyber_train_data):\n",
    "PCA_1 = PCA(n_components = 25)  # Tried 30 and 500\n",
    "cyber_train_PCA = PCA_1.fit_transform(cyber_train_dummy_X)  \n",
    "cyber_test_PCA = PCA_1.transform(cyber_test_dummy_X)"
   ]
  },
  {
   "cell_type": "markdown",
   "metadata": {},
   "source": [
    "> ##### Assessing Individual Features\n",
    "\n",
    "> ###### Group_name:"
   ]
  },
  {
   "cell_type": "code",
   "execution_count": 111,
   "metadata": {},
   "outputs": [],
   "source": [
    "# Now looking at group_name values:\n",
    "PCA_name = PCA(n_components = 25) # Tried 30 and 150\n",
    "name_train_PCA = PCA_name.fit_transform(names_train_dummy_X)\n",
    "name_test_PCA = PCA_name.transform(names_test_dummy_X)"
   ]
  },
  {
   "cell_type": "markdown",
   "metadata": {},
   "source": [
    "> ###### City:"
   ]
  },
  {
   "cell_type": "code",
   "execution_count": 112,
   "metadata": {},
   "outputs": [],
   "source": [
    "# Then some city stuff:\n",
    "PCA_cities = PCA(n_components = 25) # Tried 30 and 150\n",
    "cities_train_PCA = PCA_cities.fit_transform(city_train_dummy_X)\n",
    "cities_test_PCA = PCA_cities.transform(city_test_dummy_X)"
   ]
  },
  {
   "cell_type": "markdown",
   "metadata": {},
   "source": [
    "> ###### Weapontxt:"
   ]
  },
  {
   "cell_type": "code",
   "execution_count": 113,
   "metadata": {},
   "outputs": [],
   "source": [
    "# Group_subweapon:\n",
    "PCA_weapon = PCA(n_components = 3)  # Tried 5\n",
    "weapon_train_PCA = PCA_weapon.fit_transform(weapon_train_dummy_X)\n",
    "weapon_test_PCA = PCA_weapon.transform(weapon_test_dummy_X)"
   ]
  },
  {
   "cell_type": "markdown",
   "metadata": {},
   "source": [
    "#### C. Creating Specified DF with Selected Features:"
   ]
  },
  {
   "cell_type": "markdown",
   "metadata": {},
   "source": [
    "> ##### DataFrame from KBest Algorithms:"
   ]
  },
  {
   "cell_type": "code",
   "execution_count": 99,
   "metadata": {},
   "outputs": [],
   "source": [
    "# Training:\n",
    "alpha = pd.DataFrame(cyber_train_KBest1, columns = KBest_1_features[0])\n",
    "beta = pd.DataFrame(names_train_KBest, columns = KBest_names_features[0])\n",
    "gamma = pd.DataFrame(city_train_KBest, columns = KBest_city_features[0])\n",
    "delta = pd.DataFrame(weapon_train_KBest, columns = KBest_weapon_features[0])\n",
    "\n",
    "KBest_train_X = pd.concat([alpha, beta, gamma, delta], axis = 1)"
   ]
  },
  {
   "cell_type": "code",
   "execution_count": 100,
   "metadata": {},
   "outputs": [],
   "source": [
    "# Test:\n",
    "alpha2 = pd.DataFrame(cyber_test_KBest1, columns = KBest_1_features[0])\n",
    "beta2 = pd.DataFrame(names_test_KBest, columns = KBest_names_features[0])\n",
    "gamma2 = pd.DataFrame(city_test_KBest, columns = KBest_city_features[0])\n",
    "delta2 = pd.DataFrame(weapon_test_KBest, columns = KBest_weapon_features[0])\n",
    "\n",
    "KBest_test_X = pd.concat([alpha2, beta2, gamma2, delta2], axis = 1)"
   ]
  },
  {
   "cell_type": "code",
   "execution_count": 101,
   "metadata": {},
   "outputs": [],
   "source": [
    "del alpha\n",
    "del beta\n",
    "del gamma\n",
    "del delta\n",
    "del alpha2\n",
    "del beta2\n",
    "del gamma2\n",
    "del delta2\n",
    "del cyber_train_KBest1\n",
    "del names_train_KBest\n",
    "del city_train_KBest\n",
    "del weapon_train_KBest\n",
    "del cyber_test_KBest1\n",
    "del names_test_KBest\n",
    "del city_test_KBest\n",
    "del weapon_test_KBest"
   ]
  },
  {
   "cell_type": "code",
   "execution_count": 102,
   "metadata": {},
   "outputs": [
    {
     "data": {
      "text/plain": [
       "0"
      ]
     },
     "execution_count": 102,
     "metadata": {},
     "output_type": "execute_result"
    }
   ],
   "source": [
    "gc.collect()"
   ]
  },
  {
   "cell_type": "markdown",
   "metadata": {},
   "source": [
    "> ##### DataFrame from PCA:"
   ]
  },
  {
   "cell_type": "code",
   "execution_count": 114,
   "metadata": {},
   "outputs": [],
   "source": [
    "# Training:\n",
    "cyber_train_PCA = pd.DataFrame(cyber_train_PCA)\n",
    "name_train_PCA = pd.DataFrame(name_train_PCA)\n",
    "cities_train_PCA = pd.DataFrame(cities_train_PCA)\n",
    "weapon_train_PCA = pd.DataFrame(weapon_train_PCA)\n",
    "\n",
    "PCA_train_X = pd.DataFrame()\n",
    "PCA_train_X = pd.concat([cyber_train_PCA, name_train_PCA, cities_train_PCA, weapon_train_PCA], axis = 1)"
   ]
  },
  {
   "cell_type": "code",
   "execution_count": 115,
   "metadata": {},
   "outputs": [],
   "source": [
    "# Test:\n",
    "cyber_test_PCA = pd.DataFrame(cyber_test_PCA)\n",
    "name_test_PCA = pd.DataFrame(name_test_PCA)\n",
    "cities_test_PCA = pd.DataFrame(cities_test_PCA)\n",
    "weapon_test_PCA = pd.DataFrame(weapon_test_PCA)\n",
    "\n",
    "PCA_test_X = pd.DataFrame()\n",
    "PCA_test_X = pd.concat([cyber_test_PCA, name_test_PCA, cities_test_PCA, weapon_test_PCA], axis = 1)"
   ]
  },
  {
   "cell_type": "code",
   "execution_count": 116,
   "metadata": {},
   "outputs": [],
   "source": [
    "del cyber_train_PCA\n",
    "del name_train_PCA\n",
    "del cities_train_PCA\n",
    "del weapon_train_PCA\n",
    "del cyber_test_PCA\n",
    "del name_test_PCA\n",
    "del cities_test_PCA\n",
    "del weapon_test_PCA"
   ]
  },
  {
   "cell_type": "code",
   "execution_count": 117,
   "metadata": {},
   "outputs": [
    {
     "data": {
      "text/plain": [
       "85"
      ]
     },
     "execution_count": 117,
     "metadata": {},
     "output_type": "execute_result"
    }
   ],
   "source": [
    "gc.collect()"
   ]
  },
  {
   "cell_type": "markdown",
   "metadata": {},
   "source": [
    "### 4. Improving our Scores:"
   ]
  },
  {
   "cell_type": "markdown",
   "metadata": {},
   "source": [
    "#### A. Investigating the Data Itself:"
   ]
  },
  {
   "cell_type": "markdown",
   "metadata": {},
   "source": [
    "> Here, we will poke around at the areas of the data where an attack was unsuccessful (i.e. Success == 0), so as to try and improve our false prediction score. In doing so, we will take a step back and look at our cyber_data set in general. This should give us some generalized, top-level perspective on this subset of attacks."
   ]
  },
  {
   "cell_type": "markdown",
   "metadata": {},
   "source": [
    "##### Revisiting the larger data-set:"
   ]
  },
  {
   "cell_type": "code",
   "execution_count": 98,
   "metadata": {},
   "outputs": [],
   "source": [
    "# Isolated dataframe so we can take a look:\n",
    "fails = cyber_data.loc[cyber_data['success'] == 0]\n",
    "successes = cyber_data.loc[cyber_data['success'] == 1]"
   ]
  },
  {
   "cell_type": "markdown",
   "metadata": {},
   "source": [
    "#### B. Last bit of feature-engineering:"
   ]
  },
  {
   "cell_type": "markdown",
   "metadata": {},
   "source": [
    "##### Attack success rate by group:"
   ]
  },
  {
   "cell_type": "code",
   "execution_count": 99,
   "metadata": {},
   "outputs": [],
   "source": [
    "# Placing our success feature back into a temporary data-frame so we can perform some engineering:\n",
    "temp_df1 = cyber_train_X.join(cyber_train_Y['success'])\n",
    "\n",
    "  # Getting total attacks made by each group:\n",
    "success_totals = temp_df1.groupby('group_name').transform('count')\n",
    "temp_df1['grp_attack_ttl'] = success_totals['success']\n",
    "\n",
    " # Getting the amount of those attacks which were successful:\n",
    "temp_df1['grp_attack_successes'] = temp_df1.groupby('group_name').transform('sum')['success']\n",
    "\n",
    "  # Creating a feature which represents the percentage of successful attacks for each group:\n",
    "temp_df1['grp_success_pct'] = temp_df1['grp_attack_successes'] / temp_df1['grp_attack_ttl']"
   ]
  },
  {
   "cell_type": "code",
   "execution_count": 100,
   "metadata": {},
   "outputs": [],
   "source": [
    "  # Creating a feature which represents the percentage of successful attacks for each group:\n",
    "temp_df1['grp_success_pct'] = temp_df1['grp_attack_successes'] / temp_df1['grp_attack_ttl']"
   ]
  },
  {
   "cell_type": "code",
   "execution_count": 101,
   "metadata": {},
   "outputs": [],
   "source": [
    "# Performing the same engineering on our test-set:\n",
    "temp_df2 = cyber_test_X.join(cyber_test_Y['success'])\n",
    "\n",
    "success_totals2 = temp_df2.groupby('group_name').transform('count')\n",
    "temp_df2['grp_attack_ttl'] = success_totals2['success']\n",
    "\n",
    "temp_df2['grp_attack_successes'] = temp_df2.groupby('group_name').transform('sum')['success']\n",
    "\n",
    "temp_df2['grp_success_pct'] = temp_df2['grp_attack_successes'] / temp_df2['grp_attack_ttl']"
   ]
  },
  {
   "cell_type": "markdown",
   "metadata": {},
   "source": [
    "##### Attack success rate by target:"
   ]
  },
  {
   "cell_type": "code",
   "execution_count": 102,
   "metadata": {},
   "outputs": [],
   "source": [
    "# Getting the total attack number for each sub-target type:\n",
    "sub_targ_totals = temp_df1.groupby('sub_targettxt').transform('count')\n",
    "temp_df1['subtrgt_attack_ttl'] = sub_targ_totals['success']\n",
    "\n",
    "  # Getting the total of successful attacks each sub-target experienced:\n",
    "temp_df1['subtrgt_attack_successes'] = temp_df1.groupby('sub_targettxt').transform('sum')['success']\n",
    "\n",
    "  # Getting the percentage of successful attacks for each target:\n",
    "temp_df1['subtrgt_success_pct'] = temp_df1['subtrgt_attack_successes'] / temp_df1['subtrgt_attack_ttl']"
   ]
  },
  {
   "cell_type": "code",
   "execution_count": 103,
   "metadata": {},
   "outputs": [],
   "source": [
    "# Now doing the same for our test-set:\n",
    "sub_targ_totals2 = temp_df2.groupby('sub_targettxt').transform('count')\n",
    "temp_df2['subtrgt_attack_ttl'] = sub_targ_totals2['success']\n",
    "\n",
    "temp_df2['subtrgt_attack_successes'] = temp_df2.groupby('sub_targettxt').transform('sum')['success']\n",
    "\n",
    "temp_df2['subtrgt_success_pct'] = temp_df2['subtrgt_attack_successes'] / temp_df2['subtrgt_attack_ttl']"
   ]
  },
  {
   "cell_type": "markdown",
   "metadata": {},
   "source": [
    "##### Percentage of successful attacks attributed to each group with certainty:"
   ]
  },
  {
   "cell_type": "code",
   "execution_count": 104,
   "metadata": {},
   "outputs": [],
   "source": [
    "# Going with our group total attack number again:\n",
    "doubt_totals = temp_df1.groupby('group_name').transform('count')\n",
    "\n",
    "  # Getting the number of these that were successful:\n",
    "temp_df1['doubt_ttl'] = doubt_totals['success']\n",
    "  # Then summing up the number of these that fell into or out of the certainty feature:\n",
    "temp_df1['doubt_count'] = temp_df1.groupby('sub_targettxt').transform('sum')['group_attrib_crtainty']\n",
    "  # Then calculating the percentage of these that fell into the groups successful attacks category:\n",
    "     # (I.e. the percentage of successful attacks that were able to be identified with certainty)\n",
    "temp_df1['doubt_pct'] = temp_df1['doubt_count'] / temp_df1['doubt_ttl']"
   ]
  },
  {
   "cell_type": "code",
   "execution_count": 105,
   "metadata": {},
   "outputs": [],
   "source": [
    "doubt_totals2 = temp_df2.groupby('group_name').transform('count')\n",
    "\n",
    "temp_df2['doubt_ttl'] = doubt_totals2['success']\n",
    "\n",
    "temp_df2['doubt_count'] = temp_df2.groupby('sub_targettxt').transform('sum')['group_attrib_crtainty']\n",
    "\n",
    "temp_df2['doubt_pct'] = temp_df2['doubt_count'] / temp_df2['doubt_ttl']"
   ]
  },
  {
   "cell_type": "code",
   "execution_count": 127,
   "metadata": {},
   "outputs": [],
   "source": [
    "cyber_train_X['grp_attack_ttl'] = temp_df1['grp_attack_ttl']\n",
    "cyber_train_X['grp_success_pct'] = temp_df1['grp_success_pct']\n",
    "cyber_train_X['subtrgt_attack_ttl'] = temp_df1['subtrgt_attack_ttl']\n",
    "cyber_train_X['subtrgt_success_pct'] = temp_df1['subtrgt_success_pct']\n",
    "cyber_train_X['doubt_ttl'] = temp_df1['doubt_ttl']\n",
    "cyber_train_X['doubt_pct'] = temp_df1['doubt_pct']\n",
    "\n",
    "cyber_test_X['grp_attack_ttl'] = temp_df2['grp_attack_ttl']\n",
    "cyber_test_X['grp_success_pct'] = temp_df2['grp_success_pct']\n",
    "cyber_test_X['subtrgt_attack_ttl'] = temp_df2['subtrgt_attack_ttl']\n",
    "cyber_test_X['subtrgt_success_pct'] = temp_df2['subtrgt_success_pct']\n",
    "cyber_test_X['doubt_ttl'] = temp_df2['doubt_ttl']\n",
    "cyber_test_X['doubt_pct'] = temp_df2['doubt_pct']\n"
   ]
  },
  {
   "cell_type": "code",
   "execution_count": 138,
   "metadata": {},
   "outputs": [],
   "source": [
    "del temp_df1\n",
    "del success_totals\n",
    "del temp_df2\n",
    "del success_totals2\n",
    "del sub_targ_totals\n",
    "del sub_targ_totals2\n",
    "del doubt_totals\n",
    "del doubt_totals2"
   ]
  },
  {
   "cell_type": "code",
   "execution_count": 139,
   "metadata": {},
   "outputs": [
    {
     "data": {
      "text/plain": [
       "308"
      ]
     },
     "execution_count": 139,
     "metadata": {},
     "output_type": "execute_result"
    }
   ],
   "source": [
    "gc.collect()"
   ]
  },
  {
   "cell_type": "markdown",
   "metadata": {},
   "source": [
    "##### Putting it back into PCA Model Form:\n",
    "\n",
    "> Thus, the cells above engineer some more features based on 'success', 'target' and 'grp_attrib_certainty' since we wanted to increase our understanding of unsuccessful attacks and since our KBest feature selection pointed out the importance of target features.  We then drop them from our training and test sets so as not to duplicate any data:"
   ]
  },
  {
   "cell_type": "code",
   "execution_count": 156,
   "metadata": {},
   "outputs": [],
   "source": [
    "# Checked for NA's first - we are set.\n",
    "# Getting indices just for good measure:\n",
    "train_index2 = cyber_train_X.index\n",
    "test_index2 = cyber_test_X.index\n",
    "\n",
    "# Combining our train/test set for only a second (to avoid duplicating dummy rows):\n",
    "dummy_prep2 = pd.concat([cyber_train_X, cyber_test_X]).drop(['group_name', 'city', 'target_1txt'], axis = 1)\n",
    "dummy2 = pd.get_dummies(dummy_prep2)\n",
    "\n",
    "# Re-splitting our data:\n",
    "cyber_train_dummy_X2 = dummy2.loc[train_index2]\n",
    "cyber_test_dummy_X2 = dummy2.loc[test_index2]"
   ]
  },
  {
   "cell_type": "code",
   "execution_count": 157,
   "metadata": {},
   "outputs": [],
   "source": [
    "# Components from the whole data frame:\n",
    "\n",
    "PCA_2 = PCA(n_components = 25)  \n",
    "cyber_train_PCA2 = PCA_2.fit_transform(cyber_train_dummy_X2) \n",
    "cyber_test_PCA2 = PCA_2.transform(cyber_test_dummy_X2)"
   ]
  },
  {
   "cell_type": "code",
   "execution_count": 158,
   "metadata": {},
   "outputs": [],
   "source": [
    "# Group_name components:\n",
    "\n",
    "  # Indices and dummies:\n",
    "names_train_X2 = cyber_train_X['group_name']\n",
    "names_test_X2 = cyber_test_X['group_name']\n",
    "\n",
    "names_train_index2 = cyber_train_X['group_name'].index\n",
    "names_test_index2 = cyber_test_X['group_name'].index\n",
    "\n",
    "names_dummy_prep2 = pd.concat([names_train_X2, names_test_X2])\n",
    "names_dummy_2 = pd.get_dummies(names_dummy_prep2)\n",
    "  \n",
    "  # Training/Test Inputs:\n",
    "\n",
    "names_train_dummy_X2 = names_dummy_2.loc[names_train_index2]\n",
    "names_test_dummy_X2 = names_dummy_2.loc[names_test_index2]\n",
    "\n",
    "  # Training Output:\n",
    "\n",
    "# names_train_dummy_Y2 = cyber_train_Y.loc[names_train_index2]\n",
    "# names_test_dummy_Y2 = cyber_test_Y.loc[names_test_index2]\n",
    "\n",
    "PCA_names2 = PCA(n_components = 25)  \n",
    "train_names_PCA2 = PCA_names2.fit_transform(names_train_dummy_X2) \n",
    "test_names_PCA2 = PCA_names2.transform(names_test_dummy_X2)"
   ]
  },
  {
   "cell_type": "code",
   "execution_count": 159,
   "metadata": {},
   "outputs": [],
   "source": [
    "# City components:\n",
    "\n",
    "  # Indices and dummies:\n",
    "cities_train_X2 = cyber_train_X['group_name']\n",
    "cities_test_X2 = cyber_test_X['group_name']\n",
    "\n",
    "cities_train_index2 = cyber_train_X['group_name'].index\n",
    "cities_test_index2 = cyber_test_X['group_name'].index\n",
    "\n",
    "cities_dummy_prep2 = pd.concat([cities_train_X2, cities_test_X2])\n",
    "cities_dummy_2 = pd.get_dummies(cities_dummy_prep2)\n",
    "  \n",
    "  # Training/Test Inputs:\n",
    "\n",
    "cities_train_dummy_X2 = cities_dummy_2.loc[cities_train_index2]\n",
    "cities_test_dummy_X2 = cities_dummy_2.loc[cities_test_index2]\n",
    "\n",
    "  # Training Output:\n",
    "\n",
    "# cities_train_dummy_Y2 = cyber_train_Y.loc[cities_train_index2]\n",
    "# cities_test_dummy_Y2 = cyber_test_Y.loc[cities_test_index2]\n",
    "\n",
    "PCA_cities2 = PCA(n_components = 25)  \n",
    "train_cities_PCA2 = PCA_cities2.fit_transform(cities_train_dummy_X2) \n",
    "test_cities_PCA2 = PCA_cities2.transform(cities_test_dummy_X2)"
   ]
  },
  {
   "cell_type": "code",
   "execution_count": 152,
   "metadata": {},
   "outputs": [],
   "source": [
    "# Target components:\n",
    "\n",
    "  # Indices and dummies:\n",
    "subtargs_train_X2 = cyber_train_X['group_name']\n",
    "subtargs_test_X2 = cyber_test_X['group_name']\n",
    "\n",
    "subtargs_train_index2 = cyber_train_X['group_name'].index\n",
    "subtargs_test_index2 = cyber_test_X['group_name'].index\n",
    "\n",
    "subtargs_dummy_prep2 = pd.concat([subtargs_train_X2, subtargs_test_X2])\n",
    "subtargs_dummy_2 = pd.get_dummies(subtargs_dummy_prep2)\n",
    "  \n",
    "  # Training/Test Inputs:\n",
    "\n",
    "subtargs_train_dummy_X2 = subtargs_dummy_2.loc[subtargs_train_index2]\n",
    "subtargs_test_dummy_X2 = subtargs_dummy_2.loc[subtargs_test_index2]\n",
    "\n",
    "  # Training Output:\n",
    "\n",
    "# subtargs_train_dummy_Y2 = cyber_train_Y.loc[subtargs_train_index2]\n",
    "# subtargs_test_dummy_Y2 = cyber_test_Y.loc[subtargs_test_index2]\n",
    "\n",
    "PCA_subtargs2 = PCA(n_components = 25)  \n",
    "train_subtargs_PCA2 = PCA_subtargs2.fit_transform(subtargs_train_dummy_X2) \n",
    "test_subtargs_PCA2 = PCA_subtargs2.transform(subtargs_test_dummy_X2)"
   ]
  },
  {
   "cell_type": "code",
   "execution_count": 153,
   "metadata": {},
   "outputs": [],
   "source": [
    "whole_train_df = pd.DataFrame(cyber_train_PCA2)\n",
    "names_train_df = pd.DataFrame(train_names_PCA2)\n",
    "cities_train_df = pd.DataFrame(train_cities_PCA2)\n",
    "subtargs_train_df = pd.DataFrame(train_subtargs_PCA2)\n",
    "\n",
    "PCA_train_X2 = pd.DataFrame()\n",
    "PCA_train_X2 = pd.concat([whole_train_df, names_train_df, cities_train_df, subtargs_train_df], axis = 1)"
   ]
  },
  {
   "cell_type": "code",
   "execution_count": 154,
   "metadata": {},
   "outputs": [],
   "source": [
    "whole_test_df = pd.DataFrame(cyber_test_PCA2)\n",
    "names_test_df = pd.DataFrame(test_names_PCA2)\n",
    "cities_test_df = pd.DataFrame(test_cities_PCA2)\n",
    "subtargs_test_df = pd.DataFrame(test_subtargs_PCA2)\n",
    "\n",
    "PCA_test_X2 = pd.DataFrame()\n",
    "PCA_test_X2 = pd.concat([whole_test_df, names_test_df, cities_test_df, subtargs_test_df], axis = 1)"
   ]
  },
  {
   "cell_type": "code",
   "execution_count": 155,
   "metadata": {},
   "outputs": [
    {
     "data": {
      "text/plain": [
       "239"
      ]
     },
     "execution_count": 155,
     "metadata": {},
     "output_type": "execute_result"
    }
   ],
   "source": [
    "del dummy_prep2\n",
    "del dummy2\n",
    "del names_dummy_prep2\n",
    "del names_dummy_2\n",
    "del subtargs_dummy_prep2\n",
    "del subtargs_dummy_2\n",
    "del whole_train_df\n",
    "del names_train_df\n",
    "del cities_train_df\n",
    "del subtargs_train_df\n",
    "del whole_test_df\n",
    "del names_test_df\n",
    "del cities_test_df\n",
    "del subtargs_test_df\n",
    "gc.collect()"
   ]
  },
  {
   "cell_type": "code",
   "execution_count": 160,
   "metadata": {},
   "outputs": [
    {
     "data": {
      "text/plain": [
       "91"
      ]
     },
     "execution_count": 160,
     "metadata": {},
     "output_type": "execute_result"
    }
   ],
   "source": [
    "del names_train_dummy_Y2\n",
    "del names_test_dummy_Y2\n",
    "del cities_train_dummy_Y2\n",
    "del cities_test_dummy_Y2\n",
    "del subtargs_train_dummy_Y2\n",
    "del subtargs_test_dummy_Y2\n",
    "gc.collect()"
   ]
  },
  {
   "cell_type": "code",
   "execution_count": 161,
   "metadata": {},
   "outputs": [
    {
     "data": {
      "text/plain": [
       "0"
      ]
     },
     "execution_count": 161,
     "metadata": {},
     "output_type": "execute_result"
    }
   ],
   "source": [
    "del PCA_2\n",
    "del cyber_train_PCA2\n",
    "del cyber_test_PCA2\n",
    "del PCA_names2\n",
    "del train_names_PCA2\n",
    "del test_names_PCA2\n",
    "del PCA_cities2\n",
    "del train_cities_PCA2\n",
    "del test_cities_PCA2 \n",
    "del PCA_subtargs2\n",
    "del train_subtargs_PCA2\n",
    "del test_subtargs_PCA2\n",
    "gc.collect()"
   ]
  },
  {
   "cell_type": "code",
   "execution_count": 163,
   "metadata": {},
   "outputs": [],
   "source": [
    "# KBest:\n",
    "KBest_2 = feature_selection.SelectKBest(k = 25) \n",
    "cyber_train_KBest2 = KBest_2.fit_transform(cyber_train_dummy_X2, cyber_train_dummy_Y)\n",
    "cyber_test_KBest2 = KBest_2.transform(cyber_test_dummy_X2)\n",
    "\n",
    "KBest_names2 = feature_selection.SelectKBest(k = 25) \n",
    "train_names_KBest2 = KBest_names2.fit_transform(cyber_train_dummy_X2, cyber_train_dummy_Y)\n",
    "test_names_KBest2 = KBest_names2.transform(cyber_test_dummy_X2)\n",
    "\n",
    "KBest_cities2 = feature_selection.SelectKBest(k = 25) \n",
    "train_cities_KBest2 = KBest_cities2.fit_transform(cyber_train_dummy_X2, cyber_train_dummy_Y)\n",
    "test_cities_KBest2 = KBest_cities2.transform(cyber_test_dummy_X2)\n",
    "\n",
    "KBest_subtargs2 = feature_selection.SelectKBest(k = 25) \n",
    "train_subtargs_KBest2 = KBest_subtargs2.fit_transform(cyber_train_dummy_X2, cyber_train_dummy_Y)\n",
    "test_subtargs_KBest2 = KBest_subtargs2.transform(cyber_test_dummy_X2)"
   ]
  },
  {
   "cell_type": "code",
   "execution_count": 164,
   "metadata": {},
   "outputs": [],
   "source": [
    "whole_train_df = pd.DataFrame(cyber_train_KBest2)\n",
    "names_train_df = pd.DataFrame(train_names_KBest2)\n",
    "cities_train_df = pd.DataFrame(train_cities_KBest2)\n",
    "subtargs_train_df = pd.DataFrame(train_subtargs_KBest2)\n",
    "\n",
    "KBest_train_X2 = pd.DataFrame()\n",
    "KBest_train_X2 = pd.concat([whole_train_df, names_train_df, cities_train_df, subtargs_train_df], axis = 1)"
   ]
  },
  {
   "cell_type": "code",
   "execution_count": 165,
   "metadata": {},
   "outputs": [],
   "source": [
    "whole_test_df = pd.DataFrame(cyber_test_KBest2)\n",
    "names_test_df = pd.DataFrame(test_names_KBest2)\n",
    "cities_test_df = pd.DataFrame(test_cities_KBest2)\n",
    "subtargs_test_df = pd.DataFrame(test_subtargs_KBest2)\n",
    "\n",
    "KBest_test_X2 = pd.DataFrame()\n",
    "KBest_test_X2 = pd.concat([whole_test_df, names_test_df, cities_test_df, subtargs_test_df], axis = 1)"
   ]
  },
  {
   "cell_type": "code",
   "execution_count": 166,
   "metadata": {},
   "outputs": [
    {
     "data": {
      "text/plain": [
       "8"
      ]
     },
     "execution_count": 166,
     "metadata": {},
     "output_type": "execute_result"
    }
   ],
   "source": [
    "del whole_train_df\n",
    "del names_train_df \n",
    "del cities_train_df\n",
    "del subtargs_train_df\n",
    "del whole_test_df\n",
    "del names_test_df\n",
    "del cities_test_df\n",
    "del subtargs_test_df\n",
    "del KBest_2\n",
    "del cyber_train_KBest2\n",
    "del cyber_test_KBest2\n",
    "del KBest_names2\n",
    "del train_names_KBest2\n",
    "del test_names_KBest2\n",
    "del KBest_cities2\n",
    "del train_cities_KBest2\n",
    "del test_cities_KBest2\n",
    "del KBest_subtargs2\n",
    "del train_subtargs_KBest2\n",
    "del test_subtargs_KBest2\n",
    "gc.collect()"
   ]
  },
  {
   "cell_type": "markdown",
   "metadata": {},
   "source": [
    "### 5. Tuning our Final Model:"
   ]
  },
  {
   "cell_type": "markdown",
   "metadata": {},
   "source": [
    "Here, we will try and use a for loop to run through a set of parameters, which we will then use to visualize the parameters which will optimize our model's predictive power.  For the moment, the parameters we will focus on are the 'learning_rate', 'n_estimators', 'sub_sample' and 'max_depth.'"
   ]
  },
  {
   "cell_type": "markdown",
   "metadata": {},
   "source": [
    "#### A. SVC with PCA:"
   ]
  },
  {
   "cell_type": "code",
   "execution_count": 178,
   "metadata": {},
   "outputs": [],
   "source": [
    "from sklearn.svm import SVC\n",
    "from sklearn.metrics import confusion_matrix, balanced_accuracy_score\n",
    "\n",
    "param_dict = {'C': [.1, .25, .5, .75, 1, 20, 40, 60, 80, 100]}\n",
    "\n",
    "param_df = pd.DataFrame(param_dict)"
   ]
  },
  {
   "cell_type": "code",
   "execution_count": 179,
   "metadata": {},
   "outputs": [
    {
     "name": "stdout",
     "output_type": "stream",
     "text": [
      "\n",
      "The mean cross-validation score is: 95.43% ±0.02%\n",
      "Training set results:\n",
      "   0     1\n",
      "0  0   462\n",
      "1  0  4823\n",
      "\n",
      "False Positive/Type I Error: 462 (100.00%)\n",
      "False Negative/Type II Error: 0 (0.00%)\n",
      "Balanced Accuracy: 50.00%\n",
      "\n",
      "Test set results:\n",
      "   0     1\n",
      "0  0   146\n",
      "1  0  1616\n",
      "\n",
      "False Positive/Type I Error: 146 (100.00%)\n",
      "False Negative/Type II Error: 0 (0.00%)\n",
      "Balanced Accuracy: 50.00%\n",
      "-----------------\n",
      "\n",
      "The mean cross-validation score is: 95.43% ±0.02%\n",
      "Training set results:\n",
      "   0     1\n",
      "0  0   462\n",
      "1  0  4823\n",
      "\n",
      "False Positive/Type I Error: 462 (100.00%)\n",
      "False Negative/Type II Error: 0 (0.00%)\n",
      "Balanced Accuracy: 50.00%\n",
      "\n",
      "Test set results:\n",
      "   0     1\n",
      "0  0   146\n",
      "1  0  1616\n",
      "\n",
      "False Positive/Type I Error: 146 (100.00%)\n",
      "False Negative/Type II Error: 0 (0.00%)\n",
      "Balanced Accuracy: 50.00%\n",
      "-----------------\n",
      "\n",
      "The mean cross-validation score is: 95.42% ±0.04%\n",
      "Training set results:\n",
      "   0     1\n",
      "0  0   462\n",
      "1  0  4823\n",
      "\n",
      "False Positive/Type I Error: 462 (100.00%)\n",
      "False Negative/Type II Error: 0 (0.00%)\n",
      "Balanced Accuracy: 50.00%\n",
      "\n",
      "Test set results:\n",
      "   0     1\n",
      "0  0   146\n",
      "1  0  1616\n",
      "\n",
      "False Positive/Type I Error: 146 (100.00%)\n",
      "False Negative/Type II Error: 0 (0.00%)\n",
      "Balanced Accuracy: 50.00%\n",
      "-----------------\n",
      "\n",
      "The mean cross-validation score is: 95.42% ±0.04%\n",
      "Training set results:\n",
      "   0     1\n",
      "0  0   462\n",
      "1  0  4823\n",
      "\n",
      "False Positive/Type I Error: 462 (100.00%)\n",
      "False Negative/Type II Error: 0 (0.00%)\n",
      "Balanced Accuracy: 50.00%\n",
      "\n",
      "Test set results:\n",
      "   0     1\n",
      "0  0   146\n",
      "1  0  1616\n",
      "\n",
      "False Positive/Type I Error: 146 (100.00%)\n",
      "False Negative/Type II Error: 0 (0.00%)\n",
      "Balanced Accuracy: 50.00%\n",
      "-----------------\n",
      "\n",
      "The mean cross-validation score is: 95.42% ±0.04%\n",
      "Training set results:\n",
      "   0     1\n",
      "0  4   458\n",
      "1  1  4822\n",
      "\n",
      "False Positive/Type I Error: 458 (99.13%)\n",
      "False Negative/Type II Error: 1 (0.02%)\n",
      "Balanced Accuracy: 50.42%\n",
      "\n",
      "Test set results:\n",
      "   0     1\n",
      "0  0   146\n",
      "1  0  1616\n",
      "\n",
      "False Positive/Type I Error: 146 (100.00%)\n",
      "False Negative/Type II Error: 0 (0.00%)\n",
      "Balanced Accuracy: 50.00%\n",
      "-----------------\n",
      "\n",
      "The mean cross-validation score is: 95.63% ±0.46%\n",
      "Training set results:\n",
      "     0     1\n",
      "0  230   232\n",
      "1   50  4773\n",
      "\n",
      "False Positive/Type I Error: 232 (50.22%)\n",
      "False Negative/Type II Error: 50 (1.04%)\n",
      "Balanced Accuracy: 74.37%\n",
      "\n",
      "Test set results:\n",
      "   0     1\n",
      "0  1   145\n",
      "1  7  1609\n",
      "\n",
      "False Positive/Type I Error: 145 (99.32%)\n",
      "False Negative/Type II Error: 7 (0.43%)\n",
      "Balanced Accuracy: 50.13%\n",
      "-----------------\n",
      "\n",
      "The mean cross-validation score is: 95.76% ±0.34%\n",
      "Training set results:\n",
      "     0     1\n",
      "0  284   178\n",
      "1   55  4768\n",
      "\n",
      "False Positive/Type I Error: 178 (38.53%)\n",
      "False Negative/Type II Error: 55 (1.14%)\n",
      "Balanced Accuracy: 80.17%\n",
      "\n",
      "Test set results:\n",
      "   0     1\n",
      "0  4   142\n",
      "1  9  1607\n",
      "\n",
      "False Positive/Type I Error: 142 (97.26%)\n",
      "False Negative/Type II Error: 9 (0.56%)\n",
      "Balanced Accuracy: 51.09%\n",
      "-----------------\n",
      "\n",
      "The mean cross-validation score is: 95.61% ±0.32%\n",
      "Training set results:\n",
      "     0     1\n",
      "0  294   168\n",
      "1   52  4771\n",
      "\n",
      "False Positive/Type I Error: 168 (36.36%)\n",
      "False Negative/Type II Error: 52 (1.08%)\n",
      "Balanced Accuracy: 81.28%\n",
      "\n",
      "Test set results:\n",
      "    0     1\n",
      "0   6   140\n",
      "1  12  1604\n",
      "\n",
      "False Positive/Type I Error: 140 (95.89%)\n",
      "False Negative/Type II Error: 12 (0.74%)\n",
      "Balanced Accuracy: 51.68%\n",
      "-----------------\n",
      "\n",
      "The mean cross-validation score is: 95.57% ±0.30%\n",
      "Training set results:\n",
      "     0     1\n",
      "0  305   157\n",
      "1   54  4769\n",
      "\n",
      "False Positive/Type I Error: 157 (33.98%)\n",
      "False Negative/Type II Error: 54 (1.12%)\n",
      "Balanced Accuracy: 82.45%\n",
      "\n",
      "Test set results:\n",
      "    0     1\n",
      "0   7   139\n",
      "1  15  1601\n",
      "\n",
      "False Positive/Type I Error: 139 (95.21%)\n",
      "False Negative/Type II Error: 15 (0.93%)\n",
      "Balanced Accuracy: 51.93%\n",
      "-----------------\n",
      "\n",
      "The mean cross-validation score is: 95.61% ±0.31%\n",
      "Training set results:\n",
      "     0     1\n",
      "0  315   147\n",
      "1   53  4770\n",
      "\n",
      "False Positive/Type I Error: 147 (31.82%)\n",
      "False Negative/Type II Error: 53 (1.10%)\n",
      "Balanced Accuracy: 83.54%\n",
      "\n",
      "Test set results:\n",
      "    0     1\n",
      "0   7   139\n",
      "1  16  1600\n",
      "\n",
      "False Positive/Type I Error: 139 (95.21%)\n",
      "False Negative/Type II Error: 16 (0.99%)\n",
      "Balanced Accuracy: 51.90%\n",
      "-----------------\n"
     ]
    }
   ],
   "source": [
    "results_list = []\n",
    "plusminus = u\"\\u00B1\"\n",
    "\n",
    "for row in param_df.itertuples(index = False):\n",
    "\n",
    "    PCA_SVC = SVC(C = row[0])\n",
    "\n",
    "    PCA_SVC = PCA_SVC.fit(PCA_train_X2, cyber_train_dummy_Y)\n",
    "    PCA_SVC_train_pred_ = PCA_SVC.predict(PCA_train_X2) \n",
    "    PCA_SVC_test_pred_ = PCA_SVC.predict(PCA_test_X2) \n",
    "\n",
    "    # Evaluation:\n",
    "\n",
    "      # Confusion matrices:\n",
    "    PCA_SVC_confusion_train = confusion_matrix(cyber_train_dummy_Y, PCA_SVC_train_pred_, labels = [0, 1])\n",
    "    PCA_SVC_confusion_test = confusion_matrix(cyber_test_dummy_Y, PCA_SVC_test_pred_, labels = [0, 1])\n",
    "\n",
    "      # Cross_validation and train/test score:\n",
    "    PCA_SVC_cv = cross_val_score(PCA_SVC, PCA_train_X2, cyber_train_dummy_Y, cv = 5, scoring = 'f1')\n",
    "    PCA_SVC_train_score = PCA_SVC.score(PCA_train_X2, cyber_train_dummy_Y)\n",
    "    PCA_SVC_test_score = PCA_SVC.score(PCA_test_X2, cyber_test_dummy_Y)\n",
    "\n",
    "      # Looking at the F1/balanced accuracy scores:\n",
    "    PCA_SVC_train = balanced_accuracy_score(cyber_train_dummy_Y, PCA_SVC_train_pred_)\n",
    "    PCA_SVC_test = balanced_accuracy_score(cyber_test_dummy_Y, PCA_SVC_test_pred_)\n",
    "    \n",
    "      # Getting some scores on cross-validation, False Negatives and Positives and Balanced Accuracy:\n",
    "    print(\"\\nThe mean cross-validation score is: {:.2%} {}{:.2%}\".format(PCA_SVC_cv.mean(),\n",
    "                                                                     plusminus, PCA_SVC_cv.std()))\n",
    "    conf_df = pd.DataFrame(PCA_SVC_confusion_train)\n",
    "  \n",
    "    FP = conf_df.loc[0, 1]\n",
    "    FN = conf_df.loc[1, 0]\n",
    "    NegT = conf_df.iloc[0].sum()\n",
    "    PosT = conf_df.iloc[1].sum()\n",
    "    \n",
    "    print(\"Training set results:\")\n",
    "    print(conf_df)\n",
    "    print('\\nFalse Positive/Type I Error: {} ({:.2%})'.format(FP, (FP / NegT)))\n",
    "    print('False Negative/Type II Error: {} ({:.2%})'.format(FN, (FN / PosT)))\n",
    "    print('Balanced Accuracy: {:.2%}\\n'.format(PCA_SVC_train))\n",
    "    \n",
    "    conf_df2 = pd.DataFrame(PCA_SVC_confusion_test)\n",
    "\n",
    "    FP2 = conf_df2.loc[0, 1]\n",
    "    FN2 = conf_df2.loc[1, 0]\n",
    "    NegT2 = conf_df2.iloc[0].sum()\n",
    "    PosT2 = conf_df2.iloc[1].sum()\n",
    "    \n",
    "    print(\"Test set results:\")\n",
    "    print(conf_df2)\n",
    "    print('\\nFalse Positive/Type I Error: {} ({:.2%})'.format(FP2, (FP2 / NegT2)))\n",
    "    print('False Negative/Type II Error: {} ({:.2%})'.format(FN2, (FN2 / PosT2)))\n",
    "    print('Balanced Accuracy: {:.2%}'.format(PCA_SVC_test))\n",
    "    print('-----------------')\n",
    "    \n",
    "    results_list.append([PCA_SVC_test, (FP2 + FN2), PCA_SVC_cv.std()])"
   ]
  },
  {
   "cell_type": "markdown",
   "metadata": {},
   "source": [
    "#### B. Gradient Boosting Classifier with KBest:"
   ]
  },
  {
   "cell_type": "code",
   "execution_count": 193,
   "metadata": {},
   "outputs": [],
   "source": [
    "from sklearn.ensemble import GradientBoostingClassifier\n",
    "\n",
    "param_dict2 = {'n_estimators': [70, 90, 60, 70, 50, 300, 400],\n",
    "              'max_depth': [5, 4, 6, 6, 6, 5, 4]}\n",
    "\n",
    "param_df2 = pd.DataFrame(param_dict2)"
   ]
  },
  {
   "cell_type": "code",
   "execution_count": 194,
   "metadata": {},
   "outputs": [
    {
     "name": "stdout",
     "output_type": "stream",
     "text": [
      "\n",
      "The mean cross-validation score is: 96.88% ±0.17%\n",
      "Training set results:\n",
      "     0     1\n",
      "0  225   237\n",
      "1   48  4775\n",
      "\n",
      "False Positive/Type I Error: 237 (51.30%)\n",
      "False Negative/Type II Error: 48 (1.00%)\n",
      "Balanced Accuracy: 73.85%\n",
      "\n",
      "Test set results:\n",
      "    0     1\n",
      "0  32   114\n",
      "1   4  1612\n",
      "\n",
      "False Positive/Type I Error: 114 (78.08%)\n",
      "False Negative/Type II Error: 4 (0.25%)\n",
      "Balanced Accuracy: 60.84%\n",
      "-----------------\n",
      "\n",
      "The mean cross-validation score is: 96.91% ±0.20%\n",
      "Training set results:\n",
      "     0     1\n",
      "0  219   243\n",
      "1   45  4778\n",
      "\n",
      "False Positive/Type I Error: 243 (52.60%)\n",
      "False Negative/Type II Error: 45 (0.93%)\n",
      "Balanced Accuracy: 73.23%\n",
      "\n",
      "Test set results:\n",
      "    0     1\n",
      "0  32   114\n",
      "1   4  1612\n",
      "\n",
      "False Positive/Type I Error: 114 (78.08%)\n",
      "False Negative/Type II Error: 4 (0.25%)\n",
      "Balanced Accuracy: 60.84%\n",
      "-----------------\n",
      "\n",
      "The mean cross-validation score is: 96.78% ±0.25%\n",
      "Training set results:\n",
      "     0     1\n",
      "0  229   233\n",
      "1   47  4776\n",
      "\n",
      "False Positive/Type I Error: 233 (50.43%)\n",
      "False Negative/Type II Error: 47 (0.97%)\n",
      "Balanced Accuracy: 74.30%\n",
      "\n",
      "Test set results:\n",
      "    0     1\n",
      "0  33   113\n",
      "1   4  1612\n",
      "\n",
      "False Positive/Type I Error: 113 (77.40%)\n",
      "False Negative/Type II Error: 4 (0.25%)\n",
      "Balanced Accuracy: 61.18%\n",
      "-----------------\n",
      "\n",
      "The mean cross-validation score is: 96.78% ±0.25%\n",
      "Training set results:\n",
      "     0     1\n",
      "0  230   232\n",
      "1   48  4775\n",
      "\n",
      "False Positive/Type I Error: 232 (50.22%)\n",
      "False Negative/Type II Error: 48 (1.00%)\n",
      "Balanced Accuracy: 74.39%\n",
      "\n",
      "Test set results:\n",
      "    0     1\n",
      "0  34   112\n",
      "1   5  1611\n",
      "\n",
      "False Positive/Type I Error: 112 (76.71%)\n",
      "False Negative/Type II Error: 5 (0.31%)\n",
      "Balanced Accuracy: 61.49%\n",
      "-----------------\n",
      "\n",
      "The mean cross-validation score is: 96.78% ±0.27%\n",
      "Training set results:\n",
      "     0     1\n",
      "0  228   234\n",
      "1   47  4776\n",
      "\n",
      "False Positive/Type I Error: 234 (50.65%)\n",
      "False Negative/Type II Error: 47 (0.97%)\n",
      "Balanced Accuracy: 74.19%\n",
      "\n",
      "Test set results:\n",
      "    0     1\n",
      "0  33   113\n",
      "1   5  1611\n",
      "\n",
      "False Positive/Type I Error: 113 (77.40%)\n",
      "False Negative/Type II Error: 5 (0.31%)\n",
      "Balanced Accuracy: 61.15%\n",
      "-----------------\n",
      "\n",
      "The mean cross-validation score is: 96.65% ±0.30%\n",
      "Training set results:\n",
      "     0     1\n",
      "0  247   215\n",
      "1   59  4764\n",
      "\n",
      "False Positive/Type I Error: 215 (46.54%)\n",
      "False Negative/Type II Error: 59 (1.22%)\n",
      "Balanced Accuracy: 76.12%\n",
      "\n",
      "Test set results:\n",
      "    0     1\n",
      "0  37   109\n",
      "1  17  1599\n",
      "\n",
      "False Positive/Type I Error: 109 (74.66%)\n",
      "False Negative/Type II Error: 17 (1.05%)\n",
      "Balanced Accuracy: 62.15%\n",
      "-----------------\n",
      "\n",
      "The mean cross-validation score is: 96.71% ±0.24%\n",
      "Training set results:\n",
      "     0     1\n",
      "0  246   216\n",
      "1   59  4764\n",
      "\n",
      "False Positive/Type I Error: 216 (46.75%)\n",
      "False Negative/Type II Error: 59 (1.22%)\n",
      "Balanced Accuracy: 76.01%\n",
      "\n",
      "Test set results:\n",
      "    0     1\n",
      "0  36   110\n",
      "1  17  1599\n",
      "\n",
      "False Positive/Type I Error: 110 (75.34%)\n",
      "False Negative/Type II Error: 17 (1.05%)\n",
      "Balanced Accuracy: 61.80%\n",
      "-----------------\n"
     ]
    }
   ],
   "source": [
    "results_list2 = []\n",
    "\n",
    "for row in param_df2.itertuples(index = False):\n",
    "\n",
    "    KBest_GBC = GradientBoostingClassifier(n_estimators = row[0],\n",
    "                                           max_depth = row[1])\n",
    "\n",
    "    KBest_GBC = KBest_GBC.fit(KBest_train_X2, cyber_train_dummy_Y)\n",
    "    KBest_GBC_train_pred_ = KBest_GBC.predict(KBest_train_X2) \n",
    "    KBest_GBC_test_pred_ = KBest_GBC.predict(KBest_test_X2) \n",
    "\n",
    "    # Evaluation:\n",
    "\n",
    "      # Confusion matrices:\n",
    "    KBest_GBC_confusion_train = confusion_matrix(cyber_train_dummy_Y, KBest_GBC_train_pred_, labels = [0, 1])\n",
    "    KBest_GBC_confusion_test = confusion_matrix(cyber_test_dummy_Y, KBest_GBC_test_pred_, labels = [0, 1])\n",
    "\n",
    "      # Cross_validation and train/test score:\n",
    "    KBest_GBC_cv = cross_val_score(KBest_GBC, KBest_train_X2, cyber_train_dummy_Y, cv = 5, scoring = 'f1')\n",
    "    KBest_GBC_train_score = KBest_GBC.score(KBest_train_X2, cyber_train_dummy_Y)\n",
    "    KBest_GBC_test_score = KBest_GBC.score(KBest_test_X2, cyber_test_dummy_Y)\n",
    "\n",
    "      # Looking at the F1/balanced accuracy scores:\n",
    "    KBest_GBC_train = balanced_accuracy_score(cyber_train_dummy_Y, KBest_GBC_train_pred_)\n",
    "    KBest_GBC_test = balanced_accuracy_score(cyber_test_dummy_Y, KBest_GBC_test_pred_)\n",
    "    \n",
    "      # Getting some scores on cross-validation, False Negatives and Positives and Balanced Accuracy:\n",
    "    print(\"\\nThe mean cross-validation score is: {:.2%} {}{:.2%}\".format(KBest_GBC_cv.mean(),\n",
    "                                                                     plusminus, KBest_GBC_cv.std()))\n",
    "    conf_df = pd.DataFrame(KBest_GBC_confusion_train)\n",
    "  \n",
    "    FP = conf_df.loc[0, 1]\n",
    "    FN = conf_df.loc[1, 0]\n",
    "    NegT = conf_df.iloc[0].sum()\n",
    "    PosT = conf_df.iloc[1].sum()\n",
    "    \n",
    "    print(\"Training set results:\")\n",
    "    print(conf_df)\n",
    "    print('\\nFalse Positive/Type I Error: {} ({:.2%})'.format(FP, (FP / NegT)))\n",
    "    print('False Negative/Type II Error: {} ({:.2%})'.format(FN, (FN / PosT)))\n",
    "    print('Balanced Accuracy: {:.2%}\\n'.format(KBest_GBC_train))\n",
    "    \n",
    "    conf_df2 = pd.DataFrame(KBest_GBC_confusion_test)\n",
    "\n",
    "    FP2 = conf_df2.loc[0, 1]\n",
    "    FN2 = conf_df2.loc[1, 0]\n",
    "    NegT2 = conf_df2.iloc[0].sum()\n",
    "    PosT2 = conf_df2.iloc[1].sum()\n",
    "    \n",
    "    print(\"Test set results:\")\n",
    "    print(conf_df2)\n",
    "    print('\\nFalse Positive/Type I Error: {} ({:.2%})'.format(FP2, (FP2 / NegT2)))\n",
    "    print('False Negative/Type II Error: {} ({:.2%})'.format(FN2, (FN2 / PosT2)))\n",
    "    print('Balanced Accuracy: {:.2%}'.format(KBest_GBC_test))\n",
    "    print('-----------------')\n",
    "    \n",
    "    results_list2.append([KBest_GBC_test, (FP2 + FN2), KBest_GBC_cv.std()])"
   ]
  },
  {
   "cell_type": "code",
   "execution_count": null,
   "metadata": {},
   "outputs": [],
   "source": []
  },
  {
   "cell_type": "code",
   "execution_count": null,
   "metadata": {},
   "outputs": [],
   "source": []
  },
  {
   "cell_type": "code",
   "execution_count": null,
   "metadata": {},
   "outputs": [],
   "source": []
  },
  {
   "cell_type": "code",
   "execution_count": null,
   "metadata": {},
   "outputs": [],
   "source": []
  },
  {
   "cell_type": "markdown",
   "metadata": {},
   "source": [
    "Thus, after running a few models, it looks like our Gradient Booster model came through in the end with the best results.  The key to tweaking this model a bit more was limiting the max-depth for each tree.  This allowed the model to limit the depth to 11 so as to keep the model relatively efficient and avoid over-fitting (allowing our model some more flexibility with newer, incoming data. \n",
    "\n",
    "Even though we tried a number of iterations on the SVC model, we were unable to improve our scores considerably enough from earlier. They were, in fact, worse than our first iterations.  The fact that this Gradient Booster was able to get our False Negatives to under a handful, is noteworthy enough to serve as our selected model for a real-life scenario."
   ]
  },
  {
   "cell_type": "markdown",
   "metadata": {},
   "source": [
    "### 6. Final Analysis, Considerations and Avenues for Further Research:"
   ]
  },
  {
   "cell_type": "markdown",
   "metadata": {},
   "source": [
    "#### Potential Weaknesses:\n",
    "\n",
    "While we were able to get some decent scores, there are a few things to not regarding this model and its dataset.  First of all, the filters would greatly benefit from further research and detailed attention.  The above filters are merely a start and represent a base amount of research.  It could certainly serve as a starting point for someone with expertise in the field.\n",
    "\n",
    "In addition, the filters we applied could be susceptible to a certain amount of bias: the filter itself will not be able to catch all instances of cyber-related terrorism conclusively; more likely than not it will miss one certain aspect or another. Increasing the number of eyes on the model and data will help with this.\n",
    "\n"
   ]
  },
  {
   "cell_type": "markdown",
   "metadata": {},
   "source": [
    "#### Further research:\n",
    "\n",
    "Given the richness of the variables within this dataset, there are plenty of avenues for further research.  One could use Regex to search the summary and motive columns for further detail and insight into the nature of these cyber-related tasks.  The filter above is relatively broad and potentially encapsulates instances that many might not consider related to 'cyber' events.  It would be interesting to create a more intricate regex filter which could give us a more detailed understanding of the 'cyber' aspect of these events: How specifically are they related and in what manners? What geographical locations tend to be hotbeds for such activity.  What targets are specified and why?  The 'motive' feature, in particular, could have extensive benefits with prediction, depending on the vocabulary used by those conducting the study and entering the data. \n"
   ]
  },
  {
   "cell_type": "markdown",
   "metadata": {},
   "source": [
    "#### Explanatory v. Predictive Power:\n",
    "\n",
    "With the current analysis, our goal lies mainly in the predictive power of our model - in other words, its ability to fit with the current data and produce an output with completely new data - preferably an output with as little variation in this new accuracy score as possible. We are trying to look at the trends in our current data and use it to identify the classifications and probabilities in which new or future observations will fall.  An explanatory model, with regards to a dataset describing Terrorism, might have interest to a scholar or an academic institution in the sense that it reveals behaviors and patterns of observations that have already occurred, but it has no bearing on future observations. It would offer no suggestions on what these patterns might say regarding incoming data (and in this case, future terror attacks). \n",
    "\n",
    "The caveat, however, is making sure that our model adapts well to new input (or test) data so that the variation between training and test results can be as minimal as possible (i.e. so the difference between the model's prediction and reality is minimal).  Predictive analysis, especially in a terror-related context, involves considerably more risk than an explanatory model, and should be handled with an intense attention to detail and accuracy.\n",
    "\n",
    "\n",
    "\n"
   ]
  },
  {
   "cell_type": "markdown",
   "metadata": {},
   "source": [
    "General References:\n",
    "\n",
    "https://www.analyticsvidhya.com/blog/2017/06/a-comprehensive-guide-for-linear-ridge-and-lasso-regression/\n",
    "https://machinelearningmastery.com/feature-selection-machine-learning-python/\n",
    "https://medium.com/@pushkarmandot/what-is-the-significance-of-c-value-in-support-vector-machine-28224e852c5a"
   ]
  },
  {
   "cell_type": "code",
   "execution_count": null,
   "metadata": {},
   "outputs": [],
   "source": []
  },
  {
   "cell_type": "code",
   "execution_count": null,
   "metadata": {},
   "outputs": [],
   "source": []
  },
  {
   "cell_type": "code",
   "execution_count": null,
   "metadata": {},
   "outputs": [],
   "source": []
  },
  {
   "cell_type": "code",
   "execution_count": null,
   "metadata": {},
   "outputs": [],
   "source": []
  }
 ],
 "metadata": {
  "kernelspec": {
   "display_name": "Python 3",
   "language": "python",
   "name": "python3"
  },
  "language_info": {
   "codemirror_mode": {
    "name": "ipython",
    "version": 3
   },
   "file_extension": ".py",
   "mimetype": "text/x-python",
   "name": "python",
   "nbconvert_exporter": "python",
   "pygments_lexer": "ipython3",
   "version": "3.7.0"
  },
  "toc": {
   "base_numbering": 1,
   "nav_menu": {},
   "number_sections": false,
   "sideBar": true,
   "skip_h1_title": false,
   "title_cell": "Table of Contents",
   "title_sidebar": "Contents",
   "toc_cell": false,
   "toc_position": {},
   "toc_section_display": true,
   "toc_window_display": true
  }
 },
 "nbformat": 4,
 "nbformat_minor": 2
}
