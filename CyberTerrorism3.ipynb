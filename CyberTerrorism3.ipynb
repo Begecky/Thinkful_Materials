{
 "cells": [
  {
   "cell_type": "markdown",
   "metadata": {},
   "source": [
    "This dataset is from Global Terrorism Database curated by the University of Maryland:\n",
    "\n",
    "National Consortium for the Study of Terrorism and Responses to Terrorism (START). (2018). Global Terrorism Database [Data file]. Retrieved from https://www.start.umd.edu/gtd.\n",
    "\n",
    "In dividing and classifying the city names within the data-set, __[this article from the New York Times](https://www.nytimes.com/interactive/2016/01/04/world/middleeast/sunni-shiite-map-middle-east-iran-saudi-arabia.html)__ was instrumental as was __[this website](http://zakhor-online.com/?attachment_id=7932)__ and __[this one.](https://www.vox.com/a/maps-explain-the-middle-east)__\n",
    "__[and this one too](http://gulf2000.columbia.edu/maps.shtml)__ https://www.crisisgroup.org/latin-america-caribbean/andes/colombia/63-colombias-armed-groups-battle-spoils-peace#map-5700-8\n",
    "\n",
    "In this notebook, we will try and isolate data related to cyber-warfare or hacking events."
   ]
  },
  {
   "cell_type": "code",
   "execution_count": 1,
   "metadata": {},
   "outputs": [
    {
     "name": "stderr",
     "output_type": "stream",
     "text": [
      "/usr/local/lib/python3.7/site-packages/sklearn/utils/__init__.py:4: DeprecationWarning: Using or importing the ABCs from 'collections' instead of from 'collections.abc' is deprecated, and in 3.8 it will stop working\n",
      "  from collections import Sequence\n"
     ]
    }
   ],
   "source": [
    "import pandas as pd\n",
    "import numpy as np\n",
    "import scipy\n",
    "import matplotlib.pyplot as plt\n",
    "import seaborn as sns\n",
    "import sklearn as skl\n",
    "%matplotlib inline\n",
    "\n",
    "import warnings\n",
    "warnings.filterwarnings('ignore')"
   ]
  },
  {
   "cell_type": "markdown",
   "metadata": {},
   "source": [
    "### 1. Importing, Cleaning and General Overview:"
   ]
  },
  {
   "cell_type": "markdown",
   "metadata": {},
   "source": [
    "#### A. Importing Data."
   ]
  },
  {
   "cell_type": "code",
   "execution_count": 2,
   "metadata": {
    "scrolled": true
   },
   "outputs": [],
   "source": [
    "df = pd.read_excel('globalterrorismdb_0718dist.xlsx', \n",
    "                   usecols = 'A:D, F, H:M, S:W, AA:AD, AI:AN, AP, BG, BM:BN, BQ:BR, CD:CG, DA',\n",
    "                   dtype = {'summary':str, 'motive':str})                                                                                         "
   ]
  },
  {
   "cell_type": "code",
   "execution_count": 3,
   "metadata": {},
   "outputs": [],
   "source": [
    "# Renaming for usability:\n",
    "\n",
    "cyber_data = pd.DataFrame(df.rename({'eventid':'event_id', 'iyear':'year', 'imonth':'month',\n",
    "             'iday':'day', 'extended':'24+hrs', 'provstate':'region_2', 'doubtterr':'doubt', \n",
    "             'attacktype1':'attack_1', 'attacktype1_txt':'attack_1txt','attacktype2':'attack_2', \n",
    "             'targtype1':'target_1', 'targtype1_txt':'target_1txt', 'targsubtype1':'sub_target',\n",
    "             'targsubtype1_txt':'sub_targettxt', 'target1':'specific_target',\n",
    "             'natlty1':'victim_nationality', 'natlty1_txt':'victim_nationalitytxt', 'gname':'group_name', \n",
    "             'guncertain1':'group_attrib_crtainty', 'individual':'unaffil_individ', 'weaptype1':'weapon', \n",
    "             'weaptype1_txt':'weapontxt', 'weapsubtype1':'sub_weapon', 'weapsubtype1_txt':'sub_weapontxt'}, axis = 1))"
   ]
  },
  {
   "cell_type": "markdown",
   "metadata": {},
   "source": [
    "#### B. Selecting Rows Specific to Our Question:\n"
   ]
  },
  {
   "cell_type": "code",
   "execution_count": 4,
   "metadata": {},
   "outputs": [
    {
     "name": "stdout",
     "output_type": "stream",
     "text": [
      "False    172205\n",
      "True       9486\n",
      "Name: summary, dtype: int64\n"
     ]
    }
   ],
   "source": [
    "# Creating the dyber_cyber_train_input Dataframe:\n",
    "# Regex to isolate qualifying data (This set is more flexible in its Regex):\n",
    "import re\n",
    "import gc\n",
    "\n",
    "print(cyber_data.summary.str.contains('cyb+|social|inform+|network+|twit+|facebook|fake|electio+|internet|ads|adv+|priv+|hac+|breac+|emai+',\n",
    "                         flags = re.IGNORECASE, regex = True).value_counts())\n",
    "\n",
    "# Creating a mask which represents the results from our search above:\n",
    "\n",
    "mask = cyber_data.summary.str.contains(r'(cyb+|social|inform+|network+|twit+|facebook|fake|electio+|internet|ads|adv+|priv+|hac+|breac+|emai+)', \n",
    "                           flags = re.IGNORECASE)\n",
    "\n",
    "# Creating a new, filtered dataframe with this specific information:\n",
    "\n",
    "cyber_data = pd.DataFrame(cyber_data[mask])"
   ]
  },
  {
   "cell_type": "markdown",
   "metadata": {},
   "source": [
    "#### C. Splitting Our train/train Data:"
   ]
  },
  {
   "cell_type": "code",
   "execution_count": 5,
   "metadata": {},
   "outputs": [],
   "source": [
    "from sklearn.model_selection import cross_val_score, train_test_split"
   ]
  },
  {
   "cell_type": "code",
   "execution_count": 6,
   "metadata": {},
   "outputs": [],
   "source": [
    "# Defining our Input and Output:\n",
    "# Cleaning later to prevent leakage.\n",
    "\n",
    "X = cyber_data.drop(['event_id', 'success', 'summary', 'motive'], axis = 1)\n",
    "Y = pd.DataFrame(cyber_data['success'])\n",
    "\n",
    "X_train, X_test, Y_train, Y_test = train_test_split(X, Y, test_size = .25)\n",
    "\n",
    "X_train_start_index = X_train.index\n",
    "X_test_start_index = X_test.index\n",
    "Y_train_start_index = Y_train.index\n",
    "Y_test_start_index = Y_test.index"
   ]
  },
  {
   "cell_type": "markdown",
   "metadata": {},
   "source": [
    "#### D. Isolating Columns:"
   ]
  },
  {
   "cell_type": "markdown",
   "metadata": {},
   "source": [
    "> We want to be sure we are only using the numeric columns that are significant and not arbitrary categoricals:"
   ]
  },
  {
   "cell_type": "code",
   "execution_count": 7,
   "metadata": {},
   "outputs": [],
   "source": [
    "# Dropping irrelevant columns from training set input and putting it into a datafarme:\n",
    "\n",
    "cyber_train_input = X_train[['24+hrs', 'country_txt', 'region_txt', 'city', 'crit1', 'crit2', 'crit3',\n",
    "                             'doubt', 'suicide', 'attack_1txt', 'target_1txt', 'sub_targettxt', \n",
    "                             'specific_target', 'victim_nationalitytxt', 'group_name', 'group_attrib_crtainty', \n",
    "                             'unaffil_individ', 'weapontxt', 'sub_weapontxt']]\n",
    "\n",
    "# Making sure these dropped rows are not in the training output column (i.e. making sure our input and output cyber_train_inputs\n",
    "# have the same amount of rows):\n",
    "\n",
    "cyber_train_input_index = cyber_train_input.index\n",
    "\n",
    "cyber_train_output = Y_train.iloc[Y_train.index == cyber_train_input_index]"
   ]
  },
  {
   "cell_type": "code",
   "execution_count": 8,
   "metadata": {},
   "outputs": [],
   "source": [
    "# Applying the same process above to our test data:\n",
    "\n",
    "cyber_test_input = X_test[['24+hrs', 'country_txt', 'region_txt', 'city', 'crit1', 'crit2', 'crit3',\n",
    "                             'doubt', 'suicide', 'attack_1txt', 'target_1txt', 'sub_targettxt', \n",
    "                             'specific_target', 'victim_nationalitytxt', 'group_name', 'group_attrib_crtainty', \n",
    "                             'unaffil_individ', 'weapontxt', 'sub_weapontxt']]\n",
    "\n",
    "# Making sure these dropped rows are not in the testing output column (i.e. making sure our input and output cyber_test_inputs\n",
    "# have the same amount of rows):\n",
    "\n",
    "cyber_test_input_index = cyber_test_input.index\n",
    "\n",
    "cyber_test_output = Y_test.iloc[Y_test.index == cyber_test_input_index]"
   ]
  },
  {
   "cell_type": "markdown",
   "metadata": {},
   "source": [
    "#### E. Applying Filters to Text Columns."
   ]
  },
  {
   "cell_type": "markdown",
   "metadata": {},
   "source": [
    "> Doing this mainly in the hopes of allowing us to get dummies on certain features which is small enough to use for explanatory purposes (i.e. avoiding a feature set with thousands of columns)."
   ]
  },
  {
   "cell_type": "markdown",
   "metadata": {},
   "source": [
    "##### Weapontxt:\n",
    "\n",
    "> ###### Training Input:"
   ]
  },
  {
   "cell_type": "code",
   "execution_count": 9,
   "metadata": {},
   "outputs": [],
   "source": [
    "# Grouping Biological and Chemical Weapons:\n",
    "cyber_train_input['weapontxt'] = cyber_train_input['weapontxt'].replace('Chemical', 'Bio-Chem')\n",
    "cyber_train_input['weapontxt'] = cyber_train_input['weapontxt'].replace('Biological', 'Bio-Chem')\n",
    "\n",
    "# Grouping Fake and Other together:\n",
    "cyber_train_input['weapontxt'] = cyber_train_input['weapontxt'].replace('Fake Weapons', 'Fake/Other')\n",
    "cyber_train_input['weapontxt'] = cyber_train_input['weapontxt'].replace('Other', 'Fake/Other')\n",
    "\n",
    "# Aggregating Vehicle into Sabotage Equipment:\n",
    "cyber_train_input['weapontxt'] = cyber_train_input['weapontxt'].replace(\n",
    "    'Vehicle (not to include vehicle-borne explosives, i.e., car or truck bombs)', 'Sabotage Equipment')\n"
   ]
  },
  {
   "cell_type": "markdown",
   "metadata": {},
   "source": [
    "> ###### Test Input:"
   ]
  },
  {
   "cell_type": "code",
   "execution_count": 10,
   "metadata": {},
   "outputs": [],
   "source": [
    "# Grouping Biological and Chemical Weapons:\n",
    "cyber_test_input['weapontxt'] = cyber_test_input['weapontxt'].replace('Chemical', 'Bio-Chem')\n",
    "cyber_test_input['weapontxt'] = cyber_test_input['weapontxt'].replace('Biological', 'Bio-Chem')\n",
    "\n",
    "# Grouping Fake and Other together:\n",
    "cyber_test_input['weapontxt'] = cyber_test_input['weapontxt'].replace('Fake Weapons', 'Fake/Other')\n",
    "cyber_test_input['weapontxt'] = cyber_test_input['weapontxt'].replace('Other', 'Fake/Other')\n",
    "\n",
    "# Aggregating Vehicle into Sabotage Equipment:\n",
    "cyber_test_input['weapontxt'] = cyber_test_input['weapontxt'].replace(\n",
    "    'Vehicle (not to include vehicle-borne explosives, i.e., car or truck bombs)', 'Sabotage Equipment')\n"
   ]
  },
  {
   "cell_type": "markdown",
   "metadata": {},
   "source": [
    "##### Sub_targettxt:\n",
    "\n",
    "> ###### Training Input:"
   ]
  },
  {
   "cell_type": "code",
   "execution_count": 11,
   "metadata": {},
   "outputs": [],
   "source": [
    "industrial = ['Gas/Oil/Electric', 'Industrial/Textiles/Factory', 'Farm/Ranch', 'Mining', 'Construction']\n",
    "cyber_train_input['sub_targettxt'] = cyber_train_input['sub_targettxt'].where(\n",
    "                                     cyber_train_input['sub_targettxt'].apply(lambda x: x not in industrial), \n",
    "                                     other = 'Industrial')\n",
    "\n",
    "\n",
    "white_collar = ['Restaurant/Bar/Café', 'Bank/Commerce', 'Multinational Corporation', \n",
    "                'Medical/Pharmaceutical', 'Retail/Grocery/Bakery (including cell phone shops and generic shops)', \n",
    "                'Hotel/Resort', 'Entertainment/Cultural/Stadium/Casino', 'Private Security Company/Firm',\n",
    "                'Legal Services']\n",
    "cyber_train_input['sub_targettxt'] = cyber_train_input['sub_targettxt'].where(\n",
    "                                     cyber_train_input['sub_targettxt'].apply(lambda x: x not in white_collar), \n",
    "                                     other = 'White_Collar')\n",
    "\n",
    "\n",
    "gov_figure1 = ['Judges/Attorneys/Courts', 'Government Personnel (excluding police, military)']\n",
    "cyber_train_input['sub_targettxt'] = cyber_train_input['sub_targettxt'].where(\n",
    "                                     cyber_train_input['sub_targettxt'].apply(lambda x: x not in gov_figure1), \n",
    "                                     other = 'Gov_Figure1')\n",
    "\n",
    "gov_figure2 = ['Politician or Political Party Movement/Meeting/Rally', 'Royalty', 'Head of State',\n",
    "               'Election-Related']\n",
    "cyber_train_input['sub_targettxt'] = cyber_train_input['sub_targettxt'].where(\n",
    "                                     cyber_train_input['sub_targettxt'].apply(lambda x: x not in gov_figure2), \n",
    "                                     other = 'Gov_Figure2')\n",
    "\n",
    "\n",
    "police_facilities = ['Police Buildings (Headquarters/Stations/School)', \n",
    "                     'Police Patrol (including vehicles and convoys)', \n",
    "                     'Police Checkpoint', 'Prison/Jail']\n",
    "cyber_train_input['sub_targettxt'] = cyber_train_input['sub_targettxt'].where(\n",
    "                                     cyber_train_input['sub_targettxt'].apply(lambda x: x not in gov_figure2), \n",
    "                                     other = 'Police_Facilities')\n",
    "\n",
    "military_facilities = ['Military Barracks/Base/Headquarters/Checkpost', 'Military Recruiting Station/Academy',\n",
    "                       'Military Weaponry', 'Military Aircraft', 'Military Maritime', \n",
    "                       'Military Transportation/Vehicle (excluding convoys)', 'Military Checkpoint',\n",
    "                       'Paramilitary']\n",
    "cyber_train_input['sub_targettxt'] = cyber_train_input['sub_targettxt'].where(\n",
    "                                     cyber_train_input['sub_targettxt'].apply(lambda x: x not in military_facilities), \n",
    "                                     other = 'Military_Facilities')\n",
    "\n",
    "\n",
    "military_personnel = ['Military Unit/Patrol/Convoy', 'Non-combatant Personnel', \n",
    "                      'Military Personnel (soldiers, troops, officers, forces)']\n",
    "cyber_train_input['sub_targettxt'] = cyber_train_input['sub_targettxt'].where(\n",
    "                                     cyber_train_input['sub_targettxt'].apply(lambda x: x not in military_personnel), \n",
    "                                     other = 'Military_Personnel')\n",
    "\n",
    "\n",
    "pilots_aircraft = ['Aircraft (not at an airport)', 'Airline Officer/Personnel']\n",
    "cyber_train_input['sub_targettxt'] = cyber_train_input['sub_targettxt'].where(\n",
    "                                     cyber_train_input['sub_targettxt'].apply(lambda x: x not in military_personnel), \n",
    "                                     other = 'Pilots_Aircraft')\n",
    "\n",
    "gov_diplomatic = [' Diplomatic Personnel (outside of embassy, consulate)', 'Embassy/Consulate', \n",
    "                  'International Organization (peacekeeper, aid agency, compound)']\n",
    "cyber_train_input['sub_targettxt'] = cyber_train_input['sub_targettxt'].where(\n",
    "                                     cyber_train_input['sub_targettxt'].apply(lambda x: x not in gov_diplomatic), \n",
    "                                     other = 'Gov_Diplomatic')\n",
    "\n",
    "educational = ['Teacher/Professor/Instructor', 'School/University/Educational Building', \n",
    "               'Other Personnel']\n",
    "cyber_train_input['sub_targettxt'] = cyber_train_input['sub_targettxt'].where(\n",
    "                                     cyber_train_input['sub_targettxt'].apply(lambda x: x not in educational), \n",
    "                                     other = 'Educational')\n",
    "\n",
    "food_water = ['Food Supply', 'Water Supply']\n",
    "cyber_train_input['sub_targettxt'] = cyber_train_input['sub_targettxt'].where(\n",
    "                                     cyber_train_input['sub_targettxt'].apply(lambda x: x not in food_water), \n",
    "                                     other = 'Food_Water')\n",
    "\n",
    "media = ['Newspaper Journalist/Staff/Facility', 'Radio Journalist/Staff/Facility', \n",
    "         'Television Journalist/Staff/Facility', 'Other (including online news agencies)']\n",
    "cyber_train_input['sub_targettxt'] = cyber_train_input['sub_targettxt'].where(\n",
    "                                     cyber_train_input['sub_targettxt'].apply(lambda x: x not in media), \n",
    "                                     other = 'Media')\n",
    "\n",
    "\n",
    "religious = ['Religion Identified', 'Religious Figure', 'Place of Worship', \n",
    "             'Affiliated Institution']\n",
    "cyber_train_input['sub_targettxt'] = cyber_train_input['sub_targettxt'].where(\n",
    "                                     cyber_train_input['sub_targettxt'].apply(lambda x: x not in military_personnel), \n",
    "                                     other = 'Pilots_Aircraft')\n",
    "\n",
    "\n",
    "political = ['Protrainer', 'Political Party Member/Rally', 'Party Official/Candidate/Other Personnel', \n",
    "             'Party Office/Facility', 'Rally']\n",
    "cyber_train_input['sub_targettxt'] = cyber_train_input['sub_targettxt'].where(\n",
    "                                     cyber_train_input['sub_targettxt'].apply(lambda x: x not in political), \n",
    "                                     other = 'Political')\n",
    "\n",
    "mass_socio = ['Refugee (including Camps/IDP/Asylum Seekers)', 'Named Civilian', 'Student', \n",
    "              'Race/Ethnicity Identified', 'Farmer', 'Vehicles/Transportation', 'Marketplace/Plaza/Square', 'Village/City/Town/Suburb', \n",
    "              'House/Apartment/Residence', 'Laborer (General)/Occupation Identified', 'Procession/Gathering (funeral, wedding, birthday, religious)', \n",
    "              'Public Areas (e.g., Public garden, parking lot, garage, beach, public buildings, camps)',\n",
    "             'Memorial/Cemetery/Monument', 'Museum/Cultural Center/Cultural House', 'Labor Union Related', \n",
    "              'Tourism Travel Agency', 'Tour Bus/Van/Vehicle', 'Tourist', 'Other Facility', 'train/train Tracks/ Trolley', 'Bus Station/Stop', 'Subway', \n",
    "              'Bridge/Car Tunnel', 'Highway/Road/Toll/Traffic Signal', 'Taxi/Rickshaw']\n",
    "cyber_train_input['sub_targettxt'] = cyber_train_input['sub_targettxt'].where(\n",
    "                                     cyber_train_input['sub_targettxt'].apply(lambda x: x not in mass_socio), \n",
    "                                     other = 'Mass_Social')\n",
    "\n",
    "\n",
    "\n",
    "util_telecom = ['Radio', 'Television', 'Telephone/Telegraph', 'Internet Infrastructure', \n",
    "                'Multiple Telecommunication Targets', 'Gas', 'Electricity', 'Oil']\n",
    "cyber_train_input['sub_targettxt'] = cyber_train_input['sub_targettxt'].where(\n",
    "                                     cyber_train_input['sub_targettxt'].apply(lambda x: x not in util_telecom), \n",
    "                                     other = 'Util_Telecom')"
   ]
  },
  {
   "cell_type": "markdown",
   "metadata": {},
   "source": [
    "> ###### Test Input:"
   ]
  },
  {
   "cell_type": "code",
   "execution_count": 12,
   "metadata": {},
   "outputs": [],
   "source": [
    "# Test Input:\n",
    "\n",
    "industrial = ['Gas/Oil/Electric', 'Industrial/Textiles/Factory', 'Farm/Ranch', 'Mining', 'Construction']\n",
    "cyber_test_input['sub_targettxt'] = cyber_test_input['sub_targettxt'].where(\n",
    "                                     cyber_test_input['sub_targettxt'].apply(lambda x: x not in industrial), \n",
    "                                     other = 'Industrial')\n",
    "\n",
    "\n",
    "white_collar = ['Restaurant/Bar/Café', 'Bank/Commerce', 'Multinational Corporation', \n",
    "                'Medical/Pharmaceutical', 'Retail/Grocery/Bakery (including cell phone shops and generic shops)', \n",
    "                'Hotel/Resort', 'Entertainment/Cultural/Stadium/Casino', 'Private Security Company/Firm',\n",
    "                'Legal Services']\n",
    "cyber_test_input['sub_targettxt'] = cyber_test_input['sub_targettxt'].where(\n",
    "                                     cyber_test_input['sub_targettxt'].apply(lambda x: x not in white_collar), \n",
    "                                     other = 'White_Collar')\n",
    "\n",
    "\n",
    "gov_figure1 = ['Judges/Attorneys/Courts', 'Government Personnel (excluding police, military)']\n",
    "cyber_test_input['sub_targettxt'] = cyber_test_input['sub_targettxt'].where(\n",
    "                                     cyber_test_input['sub_targettxt'].apply(lambda x: x not in gov_figure1), \n",
    "                                     other = 'Gov_Figure1')\n",
    "\n",
    "gov_figure2 = ['Politician or Political Party Movement/Meeting/Rally', 'Royalty', 'Head of State',\n",
    "               'Election-Related']\n",
    "cyber_test_input['sub_targettxt'] = cyber_test_input['sub_targettxt'].where(\n",
    "                                     cyber_test_input['sub_targettxt'].apply(lambda x: x not in gov_figure2), \n",
    "                                     other = 'Gov_Figure2')\n",
    "\n",
    "\n",
    "police_facilities = ['Police Buildings (Headquarters/Stations/School)', \n",
    "                     'Police Patrol (including vehicles and convoys)', \n",
    "                     'Police Checkpoint', 'Prison/Jail']\n",
    "cyber_test_input['sub_targettxt'] = cyber_test_input['sub_targettxt'].where(\n",
    "                                     cyber_test_input['sub_targettxt'].apply(lambda x: x not in gov_figure2), \n",
    "                                     other = 'Police_Facilities')\n",
    "\n",
    "military_facilities = ['Military Barracks/Base/Headquarters/Checkpost', 'Military Recruiting Station/Academy',\n",
    "                       'Military Weaponry', 'Military Aircraft', 'Military Maritime', \n",
    "                       'Military Transportation/Vehicle (excluding convoys)', 'Military Checkpoint',\n",
    "                       'Paramilitary']\n",
    "cyber_test_input['sub_targettxt'] = cyber_test_input['sub_targettxt'].where(\n",
    "                                     cyber_test_input['sub_targettxt'].apply(lambda x: x not in military_facilities), \n",
    "                                     other = 'Military_Facilities')\n",
    "\n",
    "\n",
    "military_personnel = ['Military Unit/Patrol/Convoy', 'Non-combatant Personnel', \n",
    "                      'Military Personnel (soldiers, troops, officers, forces)']\n",
    "cyber_test_input['sub_targettxt'] = cyber_test_input['sub_targettxt'].where(\n",
    "                                     cyber_test_input['sub_targettxt'].apply(lambda x: x not in military_personnel), \n",
    "                                     other = 'Military_Personnel')\n",
    "\n",
    "\n",
    "pilots_aircraft = ['Aircraft (not at an airport)', 'Airline Officer/Personnel']\n",
    "cyber_test_input['sub_targettxt'] = cyber_test_input['sub_targettxt'].where(\n",
    "                                     cyber_test_input['sub_targettxt'].apply(lambda x: x not in military_personnel), \n",
    "                                     other = 'Pilots_Aircraft')\n",
    "\n",
    "gov_diplomatic = [' Diplomatic Personnel (outside of embassy, consulate)', 'Embassy/Consulate', \n",
    "                  'International Organization (peacekeeper, aid agency, compound)']\n",
    "cyber_test_input['sub_targettxt'] = cyber_test_input['sub_targettxt'].where(\n",
    "                                     cyber_test_input['sub_targettxt'].apply(lambda x: x not in gov_diplomatic), \n",
    "                                     other = 'Gov_Diplomatic')\n",
    "\n",
    "educational = ['Teacher/Professor/Instructor', 'School/University/Educational Building', \n",
    "               'Other Personnel']\n",
    "cyber_test_input['sub_targettxt'] = cyber_test_input['sub_targettxt'].where(\n",
    "                                     cyber_test_input['sub_targettxt'].apply(lambda x: x not in educational), \n",
    "                                     other = 'Educational')\n",
    "\n",
    "food_water = ['Food Supply', 'Water Supply']\n",
    "cyber_test_input['sub_targettxt'] = cyber_test_input['sub_targettxt'].where(\n",
    "                                     cyber_test_input['sub_targettxt'].apply(lambda x: x not in food_water), \n",
    "                                     other = 'Food_Water')\n",
    "\n",
    "media = ['Newspaper Journalist/Staff/Facility', 'Radio Journalist/Staff/Facility', \n",
    "         'Television Journalist/Staff/Facility', 'Other (including online news agencies)']\n",
    "cyber_test_input['sub_targettxt'] = cyber_test_input['sub_targettxt'].where(\n",
    "                                     cyber_test_input['sub_targettxt'].apply(lambda x: x not in media), \n",
    "                                     other = 'Media')\n",
    "\n",
    "\n",
    "religious = ['Religion Identified', 'Religious Figure', 'Place of Worship', \n",
    "             'Affiliated Institution']\n",
    "cyber_test_input['sub_targettxt'] = cyber_test_input['sub_targettxt'].where(\n",
    "                                     cyber_test_input['sub_targettxt'].apply(lambda x: x not in military_personnel), \n",
    "                                     other = 'Pilots_Aircraft')\n",
    "\n",
    "\n",
    "political = ['Protester', 'Political Party Member/Rally', 'Party Official/Candidate/Other Personnel', \n",
    "             'Party Office/Facility', 'Rally']\n",
    "cyber_test_input['sub_targettxt'] = cyber_test_input['sub_targettxt'].where(\n",
    "                                     cyber_test_input['sub_targettxt'].apply(lambda x: x not in political), \n",
    "                                     other = 'Political')\n",
    "\n",
    "mass_socio = ['Refugee (including Camps/IDP/Asylum Seekers)', 'Named Civilian', 'Student', \n",
    "              'Race/Ethnicity Identified', 'Farmer', 'Vehicles/Transportation', 'Marketplace/Plaza/Square', 'Village/City/Town/Suburb', \n",
    "              'House/Apartment/Residence', 'Laborer (General)/Occupation Identified', 'Procession/Gathering (funeral, wedding, birthday, religious)', \n",
    "              'Public Areas (e.g., Public garden, parking lot, garage, beach, public buildings, camps)',\n",
    "             'Memorial/Cemetery/Monument', 'Museum/Cultural Center/Cultural House', 'Labor Union Related', \n",
    "              'Tourism Travel Agency', 'Tour Bus/Van/Vehicle', 'Tourist', 'Other Facility', 'test/test Tracks/ Trolley', 'Bus Station/Stop', 'Subway', \n",
    "              'Bridge/Car Tunnel', 'Highway/Road/Toll/Traffic Signal', 'Taxi/Rickshaw']\n",
    "cyber_test_input['sub_targettxt'] = cyber_test_input['sub_targettxt'].where(\n",
    "                                     cyber_test_input['sub_targettxt'].apply(lambda x: x not in mass_socio), \n",
    "                                     other = 'Mass_Social')\n",
    "\n",
    "\n",
    "\n",
    "util_telecom = ['Radio', 'Television', 'Telephone/Telegraph', 'Internet Infrastructure', \n",
    "                'Multiple Telecommunication Targets', 'Gas', 'Electricity', 'Oil']\n",
    "cyber_test_input['sub_targettxt'] = cyber_test_input['sub_targettxt'].where(\n",
    "                                     cyber_test_input['sub_targettxt'].apply(lambda x: x not in util_telecom), \n",
    "                                     other = 'Util_Telecom')"
   ]
  },
  {
   "cell_type": "markdown",
   "metadata": {},
   "source": [
    "##### Group_name:"
   ]
  },
  {
   "cell_type": "markdown",
   "metadata": {},
   "source": [
    "> Trying Group_name a bit and grouping them by Ideaology.\n",
    "\n",
    "> ###### Training Input:"
   ]
  },
  {
   "cell_type": "code",
   "execution_count": 13,
   "metadata": {},
   "outputs": [],
   "source": [
    "# Separatists, Leftists and Rightists:\n",
    "\n",
    "# Palestinian Separatists:\n",
    "cyber_train_input['group_name'] = cyber_train_input['group_name'].replace('Hamas (Islamic Resistance Movement)', \n",
    "                                                        'Palestinian_Separatists')\n",
    "cyber_train_input['group_name'] = cyber_train_input['group_name'].replace('Palestinian Islamic Jihad (PIJ)', \n",
    "                                                        'Palestinian_Separatists')\n",
    "cyber_train_input['group_name'] = cyber_train_input['group_name'].replace('Popular Front for the Liberation of Palestine (PFLP)',\n",
    "                                                        'Palestinian_Separatists')\n",
    "cyber_train_input['group_name'] = cyber_train_input['group_name'].replace('Popular Resistance Committees',\n",
    "                                                        'Palestinian_Separatists')\n",
    "cyber_train_input['group_name'] = cyber_train_input['group_name'].replace('Al-Fatah',\n",
    "                                                        'Palestinian_Separatists')\n",
    "\n",
    "# Militants:\n",
    "cyber_train_input['group_name'] = cyber_train_input['group_name'].replace('Militants',\n",
    "                                                        'Militant_Gunmen_Groups')\n",
    "cyber_train_input['group_name'] = cyber_train_input['group_name'].replace('Gunmen',\n",
    "                                                        'Militant_Gunmen_Groups')"
   ]
  },
  {
   "cell_type": "code",
   "execution_count": 14,
   "metadata": {},
   "outputs": [],
   "source": [
    "# Asian Separatists:\n",
    "\n",
    "cyber_train_input['group_name'] = cyber_train_input['group_name'].replace('Abu Sayyaf Group (ASG)',\n",
    "                                                        'Asian_Separatists')\n",
    "cyber_train_input['group_name'] = cyber_train_input['group_name'].replace('Colonel Karuna Faction',\n",
    "                                                        'Asian_Separatists')\n",
    "cyber_train_input['group_name'] = cyber_train_input['group_name'].replace('Eastern Turkistan Islamic Movement (ETIM)',\n",
    "                                                        'Asian_Separatists')\n",
    "cyber_train_input['group_name'] = cyber_train_input['group_name'].replace('Free Aceh Movement (GAM)',\n",
    "                                                        'Asian_Separatists')\n",
    "cyber_train_input['group_name'] = cyber_train_input['group_name'].replace('Janatantrik Terai Mukti Morcha (Jtmm)',\n",
    "                                                        'Asian_Separatists')\n",
    "cyber_train_input['group_name'] = cyber_train_input['group_name'].replace('Janatantrik Terai Mukti Morcha- Goit (Jtmm-G)',\n",
    "                                                        'Asian_Separatists')\n",
    "cyber_train_input['group_name'] = cyber_train_input['group_name'].replace('Janatantrik Terai Mukti Morcha- Jwala Singh (Jtmm-J)',\n",
    "                                                        'Asian_Separatists')\n",
    "cyber_train_input['group_name'] = cyber_train_input['group_name'].replace('Janatantrik Terai Mukti Morcha- Rajan Mukti (Jtmm-R)',\n",
    "                                                        'Asian_Separatists')\n",
    "cyber_train_input['group_name'] = cyber_train_input['group_name'].replace('Liberation Tigers of Tamil Eelam (LTTE)',\n",
    "                                                        'Asian_Separatists')\n",
    "cyber_train_input['group_name'] = cyber_train_input['group_name'].replace('Moro Islamic Liberation Front (MILF)',\n",
    "                                                        'Asian_Separatists')\n",
    "cyber_train_input['group_name'] = cyber_train_input['group_name'].replace('Runda Kumpulan Kecil (Rkk)',\n",
    "                                                        'Asian_Separatists')\n",
    "cyber_train_input['group_name'] = cyber_train_input['group_name'].replace('Terai Army',\n",
    "                                                        'Asian_Separatists')"
   ]
  },
  {
   "cell_type": "code",
   "execution_count": 15,
   "metadata": {},
   "outputs": [],
   "source": [
    "# Middle Eastern Separatists\n",
    "cyber_train_input['group_name'] = cyber_train_input['group_name'].replace('Supreme Council For Islamic Revolution In Iraq (Sciri)',\n",
    "                                                        'Middle_Eastern_Separatists')\n",
    "cyber_train_input['group_name'] = cyber_train_input['group_name'].replace('Southern Mobility Movement (Yemen)',\n",
    "                                                        'Middle_Eastern_Separatists')\n",
    "cyber_train_input['group_name'] = cyber_train_input['group_name'].replace('Riyadus-Salikhin Reconnaissance And Sabotage Battalion Of Chechen Martyrs',\n",
    "                                                        'Middle_Eastern_Separatists')\n",
    "cyber_train_input['group_name'] = cyber_train_input['group_name'].replace('Haqqani Network',\n",
    "                                                        'Middle_Eastern_Separatists')\n",
    "cyber_train_input['group_name'] = cyber_train_input['group_name'].replace('Harkatul Jihad-E-Islami',\n",
    "                                                        'Middle_Eastern_Separatists')\n",
    "cyber_train_input['group_name'] = cyber_train_input['group_name'].replace('Hizbul Mujahideen (Hm)',\n",
    "                                                        'Middle_Eastern_Separatists')\n",
    "cyber_train_input['group_name'] = cyber_train_input['group_name'].replace('Jaish-E-Mohammad (Jem)',\n",
    "                                                        'Middle_Eastern_Separatists')\n",
    "cyber_train_input['group_name'] = cyber_train_input['group_name'].replace('Kurdistan Free Life Party',\n",
    "                                                        'Middle_Eastern_Separatists')\n",
    "cyber_train_input['group_name'] = cyber_train_input['group_name'].replace('Kurdistan Workers\\' Party (PKK)',\n",
    "                                                        'Middle_Eastern_Separatists')\n",
    "cyber_train_input['group_name'] = cyber_train_input['group_name'].replace('Lashkar-E-Balochistan',\n",
    "                                                        'Middle_Eastern_Separatists')\n",
    "cyber_train_input['group_name'] = cyber_train_input['group_name'].replace('Lashkar-E-Taiba (Let)',\n",
    "                                                        'Middle_Eastern_Separatists')\n",
    "cyber_train_input['group_name'] = cyber_train_input['group_name'].replace('Ansar Al-Islam',\n",
    "                                                        'Middle_Eastern_Separatists')\n",
    "cyber_train_input['group_name'] = cyber_train_input['group_name'].replace('Ansar Al-Sharia (Libya)',\n",
    "                                                        'Middle_Eastern_Separatists')\n",
    "cyber_train_input['group_name'] = cyber_train_input['group_name'].replace('Baloch Liberation Army (BLA)',\n",
    "                                                        'Middle_Eastern_Separatists')\n",
    "cyber_train_input['group_name'] = cyber_train_input['group_name'].replace('Baloch Liberation Front (Blf)',\n",
    "                                                        'Middle_Eastern_Separatists')\n",
    "cyber_train_input['group_name'] = cyber_train_input['group_name'].replace('Baloch Republican Army (BRA)',\n",
    "                                                        'Middle_Eastern_Separatists')\n",
    "cyber_train_input['group_name'] = cyber_train_input['group_name'].replace('Caucasus Emirate',\n",
    "                                                        'Middle_Eastern_Separatists')\n",
    "cyber_train_input['group_name'] = cyber_train_input['group_name'].replace('Free Syrian Army',\n",
    "                                                        'Middle_Eastern_Separatists')\n",
    "cyber_train_input['group_name'] = cyber_train_input['group_name'].replace('Chechen Rebels',\n",
    "                                                        'Middle_Eastern_Separatists')"
   ]
  },
  {
   "cell_type": "code",
   "execution_count": 16,
   "metadata": {},
   "outputs": [],
   "source": [
    "# Indian Separatists\n",
    "cyber_train_input['group_name'] = cyber_train_input['group_name'].replace('Black Widows',\n",
    "                                                        'Indian_Separatists')\n",
    "cyber_train_input['group_name'] = cyber_train_input['group_name'].replace('Dima Halao Daoga (Dhd)',\n",
    "                                                        'Indian_Separatists')\n",
    "cyber_train_input['group_name'] = cyber_train_input['group_name'].replace('Garo National Liberation Army',\n",
    "                                                        'Indian_Separatists')\n",
    "cyber_train_input['group_name'] = cyber_train_input['group_name'].replace('Kangleipak Communist Party (KCP)',\n",
    "                                                        'Indian_Separatists')\n",
    "cyber_train_input['group_name'] = cyber_train_input['group_name'].replace('Karbi Longri North Cachar Liberation Front (Klnlf)',\n",
    "                                                        'Indian_Separatists')\n",
    "cyber_train_input['group_name'] = cyber_train_input['group_name'].replace('National Democratic Front of Bodoland (NDFB)',\n",
    "                                                        'Indian_Separatists')\n",
    "cyber_train_input['group_name'] = cyber_train_input['group_name'].replace('National Liberation Front of Tripura (NLFT)',\n",
    "                                                        'Indian_Separatists')\n",
    "cyber_train_input['group_name'] = cyber_train_input['group_name'].replace('National Socialist Council of Nagaland-Isak-Muivah (NSCN-IM)',\n",
    "                                                        'Indian_Separatists')\n",
    "cyber_train_input['group_name'] = cyber_train_input['group_name'].replace('People\\'s Liberation Army (PLA)',\n",
    "                                                        'Indian_Separatists')\n",
    "cyber_train_input['group_name'] = cyber_train_input['group_name'].replace('People\\'s Revolutionary Party of Kangleipak (PREPAK)',\n",
    "                                                        'Indian_Separatists')\n",
    "cyber_train_input['group_name'] = cyber_train_input['group_name'].replace('United Liberation Front of Assam (ULFA)',\n",
    "                                                        'Indian_Separatists')\n",
    "cyber_train_input['group_name'] = cyber_train_input['group_name'].replace('United National Liberation Front (UNLF)',\n",
    "                                                        'Indian_Separatists')"
   ]
  },
  {
   "cell_type": "code",
   "execution_count": 17,
   "metadata": {},
   "outputs": [],
   "source": [
    "# African Political:\n",
    "cyber_train_input['group_name'] = cyber_train_input['group_name'].replace('National Union for the Total Independence of Angola (UNITA)',\n",
    "                                                         'African_Political')"
   ]
  },
  {
   "cell_type": "code",
   "execution_count": 18,
   "metadata": {},
   "outputs": [],
   "source": [
    "# Irish Separatists\n",
    "cyber_train_input['group_name'] = cyber_train_input['group_name'].replace('Real Irish Republican Army (RIRA)',\n",
    "                                                        'Irish_Separatists')\n",
    "cyber_train_input['group_name'] = cyber_train_input['group_name'].replace('Oglaigh Na Heireann',\n",
    "                                                        'Irish_Separatists')\n",
    "cyber_train_input['group_name'] = cyber_train_input['group_name'].replace('Irish Republican Army (IRA)',\n",
    "                                                        'rish_Separatists')\n"
   ]
  },
  {
   "cell_type": "code",
   "execution_count": 19,
   "metadata": {},
   "outputs": [],
   "source": [
    "# Farc left and right\n",
    "cyber_train_input['group_name'] = cyber_train_input['group_name'].replace('National Liberation Army of Colombia (ELN)',\n",
    "                                                        'FARC_Leftist')\n",
    "cyber_train_input['group_name'] = cyber_train_input['group_name'].replace('Popular Liberation Army (EPL)',\n",
    "                                                        'FARC_Leftist')\n",
    "cyber_train_input['group_name'] = cyber_train_input['group_name'].replace('Revolutionary Armed Forces of Colombia (FARC)',\n",
    "                                                        'FARC_Leftist')\n",
    "\n",
    "cyber_train_input['group_name'] = cyber_train_input['group_name'].replace('United Self Defense Units of Colombia (AUC)',\n",
    "                                                        'FARC_Rightist')\n",
    "  "
   ]
  },
  {
   "cell_type": "code",
   "execution_count": 20,
   "metadata": {},
   "outputs": [],
   "source": [
    "# Middle Eastern Religious:\n",
    "cyber_train_input['group_name'] = cyber_train_input['group_name'].replace('Al-Gama\\'at Al-Islamiyya (IG)',\n",
    "                                                        'Middle_Eastern_Religious')\n",
    "cyber_train_input['group_name'] = cyber_train_input['group_name'].replace('Al-Nusrah Front',\n",
    "                                                        'Middle_Eastern_Religious')\n",
    "cyber_train_input['group_name'] = cyber_train_input['group_name'].replace('Al-Qa\\'ida',\n",
    "                                                        'Middle_Eastern_Religious')\n",
    "cyber_train_input['group_name'] = cyber_train_input['group_name'].replace('Al-Qa\\'ida in the Arabian Peninsula (AQAP)',\n",
    "                                                        'Middle_Eastern_Religious')\n",
    "cyber_train_input['group_name'] = cyber_train_input['group_name'].replace('Al-Qa\\'ida in the Lands of the Islamic Maghreb (AQLIM)',\n",
    "                                                        'Middle_Eastern_Religious')\n",
    "cyber_train_input['group_name'] = cyber_train_input['group_name'].replace('Al-Shabaab',\n",
    "                                                        'Middle_Eastern_Religious')\n",
    "cyber_train_input['group_name'] = cyber_train_input['group_name'].replace('Ansar Al-Islam',\n",
    "                                                        'Middle_Eastern_Religious')\n",
    "cyber_train_input['group_name'] = cyber_train_input['group_name'].replace('Ansar Al-Sharia (Libya)',\n",
    "                                                        'Middle_Eastern_Religious')\n",
    "cyber_train_input['group_name'] = cyber_train_input['group_name'].replace('Asa\\'Ib Ahl Al-Haqq',\n",
    "                                                        'Middle_Eastern_Religious')\n",
    "cyber_train_input['group_name'] = cyber_train_input['group_name'].replace('Caucasus Emirate',\n",
    "                                                        'Middle_Eastern_Religious')\n",
    "cyber_train_input['group_name'] = cyber_train_input['group_name'].replace('Eritrean Islamic Jihad Movement (EIJM)',\n",
    "                                                        'Middle_Eastern_Religious')\n",
    "cyber_train_input['group_name'] = cyber_train_input['group_name'].replace('Great Eastern Islamic Raiders Front (Ibda-C)',\n",
    "                                                        'Middle_Eastern_Religious')\n",
    "cyber_train_input['group_name'] = cyber_train_input['group_name'].replace('Hizbul Al Islam (Somalia)',\n",
    "                                                        'Middle_Eastern_Religious')\n",
    "cyber_train_input['group_name'] = cyber_train_input['group_name'].replace('Islamic Courts Union (ICU)',\n",
    "                                                        'Middle_Eastern_Religious')\n",
    "cyber_train_input['group_name'] = cyber_train_input['group_name'].replace('Islamic State of Iraq and al Sham (ISIS)',\n",
    "                                                        'Middle_Eastern_Religious')\n",
    "cyber_train_input['group_name'] = cyber_train_input['group_name'].replace('Islamic Movement of Uzbekistan (IMU)',\n",
    "                                                        'Middle_Eastern_Religious')\n",
    "cyber_train_input['group_name'] = cyber_train_input['group_name'].replace('Jamiat Ul-Mujahedin (Jum)',\n",
    "                                                        'Middle_Eastern_Religious')\n",
    "cyber_train_input['group_name'] = cyber_train_input['group_name'].replace('Jundallah',\n",
    "                                                        'Middle_Eastern_Religious')\n",
    "cyber_train_input['group_name'] = cyber_train_input['group_name'].replace('Mahdi Army',\n",
    "                                                        'Middle_Eastern_Religious')\n",
    "cyber_train_input['group_name'] = cyber_train_input['group_name'].replace('Taliban',\n",
    "                                                        'Middle_Eastern_Religious')\n",
    "cyber_train_input['group_name'] = cyber_train_input['group_name'].replace('Tehrik-i-Taliban Pakistan (TTP)',\n",
    "                                                        'Middle_Eastern_Religious')\n",
    "cyber_train_input['group_name'] = cyber_train_input['group_name'].replace('Muslim extremists',\n",
    "                                                        'Middle_Eastern_Religious')\n",
    "cyber_train_input['group_name'] = cyber_train_input['group_name'].replace('Armed Islamic Group (GIA)',\n",
    "                                                        'Middle_Eastern_Religious')\n",
    "cyber_train_input['group_name'] = cyber_train_input['group_name'].replace('Sunni Muslim extremists',\n",
    "                                                        'Middle_Eastern_Religious')\n",
    "cyber_train_input['group_name'] = cyber_train_input['group_name'].replace('Al-Qaida in the Islamic Maghreb (AQIM)',\n",
    "                                                        'Middle_Eastern_Religious')\n",
    "cyber_train_input['group_name'] = cyber_train_input['group_name'].replace('Islamic State of Iraq and the Levant (ISIL)',\n",
    "                                                        'Middle_Eastern_Religious')\n",
    "cyber_train_input['group_name'] = cyber_train_input['group_name'].replace('Al-Qaida in Iraq',\n",
    "                                                        'Middle_Eastern_Religious')\n",
    "cyber_train_input['group_name'] = cyber_train_input['group_name'].replace('Al-Qaida in the Arabian Peninsula (AQAP)',\n",
    "                                                        'Middle_Eastern_Religious')\n",
    "cyber_train_input['group_name'] = cyber_train_input['group_name'].replace('Al-Qaida',\n",
    "                                                        'Middle_Eastern_Religious')"
   ]
  },
  {
   "cell_type": "code",
   "execution_count": 21,
   "metadata": {},
   "outputs": [],
   "source": [
    "# Israeli, Palestinian, Lebanese Religious:\n",
    "cyber_train_input['group_name'] = cyber_train_input['group_name'].replace('Anti-Semitic extremists',\n",
    "                                                        'Near_Israel_Religious')\n",
    "cyber_train_input['group_name'] = cyber_train_input['group_name'].replace('Hezbollah',\n",
    "                                                        'Near_Israel_Religious')"
   ]
  },
  {
   "cell_type": "code",
   "execution_count": 22,
   "metadata": {},
   "outputs": [],
   "source": [
    "# Asian and African Religious:\n",
    "\n",
    "cyber_train_input['group_name'] = cyber_train_input['group_name'].replace('Students Islamic Movement of India (Simi)',\n",
    "                                                        'Asian/Asian-Pacific_Religious')\n",
    "cyber_train_input['group_name'] = cyber_train_input['group_name'].replace('Ranbir Sena',\n",
    "                                                        'Asian/Asian-Pacific_Religious')\n",
    "cyber_train_input['group_name'] = cyber_train_input['group_name'].replace('Jemaah Islamiya (JI)',\n",
    "                                                        'Asian/Asian-Pacific_Religious')\n",
    "\n",
    "\n",
    "cyber_train_input['group_name'] = cyber_train_input['group_name'].replace('Movement for Oneness and Jihad in West Africa (MUJAO)',\n",
    "                                                        'African_Religious')\n",
    "cyber_train_input['group_name'] = cyber_train_input['group_name'].replace('Lord\\'s Resistance Army (LRA)',\n",
    "                                                        'African_Religious')\n",
    "cyber_train_input['group_name'] = cyber_train_input['group_name'].replace('Boko Haram',\n",
    "                                                        'African_Religious')\n"
   ]
  },
  {
   "cell_type": "markdown",
   "metadata": {},
   "source": [
    "> ###### Test Input:"
   ]
  },
  {
   "cell_type": "code",
   "execution_count": 23,
   "metadata": {},
   "outputs": [],
   "source": [
    "# Separatists, Leftists and Rightists:\n",
    "\n",
    "# Palestinian Separatists:\n",
    "cyber_test_input['group_name'] = cyber_test_input['group_name'].replace('Hamas (Islamic Resistance Movement)', \n",
    "                                                        'Palestinian_Separatists')\n",
    "cyber_test_input['group_name'] = cyber_test_input['group_name'].replace('Palestinian Islamic Jihad (PIJ)', \n",
    "                                                        'Palestinian_Separatists')\n",
    "cyber_test_input['group_name'] = cyber_test_input['group_name'].replace('Popular Front for the Liberation of Palestine (PFLP)',\n",
    "                                                        'Palestinian_Separatists')\n",
    "cyber_test_input['group_name'] = cyber_test_input['group_name'].replace('Popular Resistance Committees',\n",
    "                                                        'Palestinian_Separatists')\n",
    "cyber_test_input['group_name'] = cyber_test_input['group_name'].replace('Al-Fatah',\n",
    "                                                        'Palestinian_Separatists')\n",
    "\n",
    "# Militants:\n",
    "cyber_test_input['group_name'] = cyber_test_input['group_name'].replace('Militants',\n",
    "                                                        'Militant_Gunmen_Groups')\n",
    "cyber_test_input['group_name'] = cyber_test_input['group_name'].replace('Gunmen',\n",
    "                                                        'Militant_Gunmen_Groups')"
   ]
  },
  {
   "cell_type": "code",
   "execution_count": 24,
   "metadata": {},
   "outputs": [],
   "source": [
    "# Asian Separatists:\n",
    "\n",
    "cyber_test_input['group_name'] = cyber_test_input['group_name'].replace('Abu Sayyaf Group (ASG)',\n",
    "                                                        'Asian_Separatists')\n",
    "cyber_test_input['group_name'] = cyber_test_input['group_name'].replace('Colonel Karuna Faction',\n",
    "                                                        'Asian_Separatists')\n",
    "cyber_test_input['group_name'] = cyber_test_input['group_name'].replace('Eastern Turkistan Islamic Movement (ETIM)',\n",
    "                                                        'Asian_Separatists')\n",
    "cyber_test_input['group_name'] = cyber_test_input['group_name'].replace('Free Aceh Movement (GAM)',\n",
    "                                                        'Asian_Separatists')\n",
    "cyber_test_input['group_name'] = cyber_test_input['group_name'].replace('Janatantrik Terai Mukti Morcha (Jtmm)',\n",
    "                                                        'Asian_Separatists')\n",
    "cyber_test_input['group_name'] = cyber_test_input['group_name'].replace('Janatantrik Terai Mukti Morcha- Goit (Jtmm-G)',\n",
    "                                                        'Asian_Separatists')\n",
    "cyber_test_input['group_name'] = cyber_test_input['group_name'].replace('Janatantrik Terai Mukti Morcha- Jwala Singh (Jtmm-J)',\n",
    "                                                        'Asian_Separatists')\n",
    "cyber_test_input['group_name'] = cyber_test_input['group_name'].replace('Janatantrik Terai Mukti Morcha- Rajan Mukti (Jtmm-R)',\n",
    "                                                        'Asian_Separatists')\n",
    "cyber_test_input['group_name'] = cyber_test_input['group_name'].replace('Liberation Tigers of Tamil Eelam (LTTE)',\n",
    "                                                        'Asian_Separatists')\n",
    "cyber_test_input['group_name'] = cyber_test_input['group_name'].replace('Moro Islamic Liberation Front (MILF)',\n",
    "                                                        'Asian_Separatists')\n",
    "cyber_test_input['group_name'] = cyber_test_input['group_name'].replace('Runda Kumpulan Kecil (Rkk)',\n",
    "                                                        'Asian_Separatists')\n",
    "cyber_test_input['group_name'] = cyber_test_input['group_name'].replace('Terai Army',\n",
    "                                                        'Asian_Separatists')"
   ]
  },
  {
   "cell_type": "code",
   "execution_count": 25,
   "metadata": {},
   "outputs": [],
   "source": [
    "# Middle Eastern Separatists\n",
    "cyber_test_input['group_name'] = cyber_test_input['group_name'].replace('Supreme Council For Islamic Revolution In Iraq (Sciri)',\n",
    "                                                        'Middle_Eastern_Separatists')\n",
    "cyber_test_input['group_name'] = cyber_test_input['group_name'].replace('Southern Mobility Movement (Yemen)',\n",
    "                                                        'Middle_Eastern_Separatists')\n",
    "cyber_test_input['group_name'] = cyber_test_input['group_name'].replace('Riyadus-Salikhin Reconnaissance And Sabotage Battalion Of Chechen Martyrs',\n",
    "                                                        'Middle_Eastern_Separatists')\n",
    "cyber_test_input['group_name'] = cyber_test_input['group_name'].replace('Haqqani Network',\n",
    "                                                        'Middle_Eastern_Separatists')\n",
    "cyber_test_input['group_name'] = cyber_test_input['group_name'].replace('Harkatul Jihad-E-Islami',\n",
    "                                                        'Middle_Eastern_Separatists')\n",
    "cyber_test_input['group_name'] = cyber_test_input['group_name'].replace('Hizbul Mujahideen (Hm)',\n",
    "                                                        'Middle_Eastern_Separatists')\n",
    "cyber_test_input['group_name'] = cyber_test_input['group_name'].replace('Jaish-E-Mohammad (Jem)',\n",
    "                                                        'Middle_Eastern_Separatists')\n",
    "cyber_test_input['group_name'] = cyber_test_input['group_name'].replace('Kurdistan Free Life Party',\n",
    "                                                        'Middle_Eastern_Separatists')\n",
    "cyber_test_input['group_name'] = cyber_test_input['group_name'].replace('Kurdistan Workers\\' Party (PKK)',\n",
    "                                                        'Middle_Eastern_Separatists')\n",
    "cyber_test_input['group_name'] = cyber_test_input['group_name'].replace('Lashkar-E-Balochistan',\n",
    "                                                        'Middle_Eastern_Separatists')\n",
    "cyber_test_input['group_name'] = cyber_test_input['group_name'].replace('Lashkar-E-Taiba (Let)',\n",
    "                                                        'Middle_Eastern_Separatists')\n",
    "cyber_test_input['group_name'] = cyber_test_input['group_name'].replace('Ansar Al-Islam',\n",
    "                                                        'Middle_Eastern_Separatists')\n",
    "cyber_test_input['group_name'] = cyber_test_input['group_name'].replace('Ansar Al-Sharia (Libya)',\n",
    "                                                        'Middle_Eastern_Separatists')\n",
    "cyber_test_input['group_name'] = cyber_test_input['group_name'].replace('Baloch Liberation Army (BLA)',\n",
    "                                                        'Middle_Eastern_Separatists')\n",
    "cyber_test_input['group_name'] = cyber_test_input['group_name'].replace('Baloch Liberation Front (Blf)',\n",
    "                                                        'Middle_Eastern_Separatists')\n",
    "cyber_test_input['group_name'] = cyber_test_input['group_name'].replace('Baloch Republican Army (BRA)',\n",
    "                                                        'Middle_Eastern_Separatists')\n",
    "cyber_test_input['group_name'] = cyber_test_input['group_name'].replace('Caucasus Emirate',\n",
    "                                                        'Middle_Eastern_Separatists')\n",
    "cyber_test_input['group_name'] = cyber_test_input['group_name'].replace('Free Syrian Army',\n",
    "                                                        'Middle_Eastern_Separatists')\n",
    "cyber_test_input['group_name'] = cyber_test_input['group_name'].replace('Chechen Rebels',\n",
    "                                                        'Middle_Eastern_Separatists')"
   ]
  },
  {
   "cell_type": "code",
   "execution_count": 26,
   "metadata": {},
   "outputs": [],
   "source": [
    "# Indian Separatists\n",
    "cyber_test_input['group_name'] = cyber_test_input['group_name'].replace('Black Widows',\n",
    "                                                        'Indian_Separatists')\n",
    "cyber_test_input['group_name'] = cyber_test_input['group_name'].replace('Dima Halao Daoga (Dhd)',\n",
    "                                                        'Indian_Separatists')\n",
    "cyber_test_input['group_name'] = cyber_test_input['group_name'].replace('Garo National Liberation Army',\n",
    "                                                        'Indian_Separatists')\n",
    "cyber_test_input['group_name'] = cyber_test_input['group_name'].replace('Kangleipak Communist Party (KCP)',\n",
    "                                                        'Indian_Separatists')\n",
    "cyber_test_input['group_name'] = cyber_test_input['group_name'].replace('Karbi Longri North Cachar Liberation Front (Klnlf)',\n",
    "                                                        'Indian_Separatists')\n",
    "cyber_test_input['group_name'] = cyber_test_input['group_name'].replace('National Democratic Front of Bodoland (NDFB)',\n",
    "                                                        'Indian_Separatists')\n",
    "cyber_test_input['group_name'] = cyber_test_input['group_name'].replace('National Liberation Front of Tripura (NLFT)',\n",
    "                                                        'Indian_Separatists')\n",
    "cyber_test_input['group_name'] = cyber_test_input['group_name'].replace('National Socialist Council of Nagaland-Isak-Muivah (NSCN-IM)',\n",
    "                                                        'Indian_Separatists')\n",
    "cyber_test_input['group_name'] = cyber_test_input['group_name'].replace('People\\'s Liberation Army (PLA)',\n",
    "                                                        'Indian_Separatists')\n",
    "cyber_test_input['group_name'] = cyber_test_input['group_name'].replace('People\\'s Revolutionary Party of Kangleipak (PREPAK)',\n",
    "                                                        'Indian_Separatists')\n",
    "cyber_test_input['group_name'] = cyber_test_input['group_name'].replace('United Liberation Front of Assam (ULFA)',\n",
    "                                                        'Indian_Separatists')\n",
    "cyber_test_input['group_name'] = cyber_test_input['group_name'].replace('United National Liberation Front (UNLF)',\n",
    "                                                        'Indian_Separatists')"
   ]
  },
  {
   "cell_type": "code",
   "execution_count": 27,
   "metadata": {},
   "outputs": [],
   "source": [
    "# African Political:\n",
    "cyber_test_input['group_name'] = cyber_test_input['group_name'].replace('National Union for the Total Independence of Angola (UNITA)',\n",
    "                                                         'African_Political')"
   ]
  },
  {
   "cell_type": "code",
   "execution_count": 28,
   "metadata": {},
   "outputs": [],
   "source": [
    "# Irish Separatists\n",
    "cyber_test_input['group_name'] = cyber_test_input['group_name'].replace('Real Irish Republican Army (RIRA)',\n",
    "                                                        'Irish_Separatists')\n",
    "cyber_test_input['group_name'] = cyber_test_input['group_name'].replace('Oglaigh Na Heireann',\n",
    "                                                        'Irish_Separatists')\n",
    "cyber_test_input['group_name'] = cyber_test_input['group_name'].replace('Irish Republican Army (IRA)',\n",
    "                                                        'rish_Separatists')\n"
   ]
  },
  {
   "cell_type": "code",
   "execution_count": 29,
   "metadata": {},
   "outputs": [],
   "source": [
    "# Farc left and right\n",
    "cyber_test_input['group_name'] = cyber_test_input['group_name'].replace('National Liberation Army of Colombia (ELN)',\n",
    "                                                        'FARC_Leftist')\n",
    "cyber_test_input['group_name'] = cyber_test_input['group_name'].replace('Popular Liberation Army (EPL)',\n",
    "                                                        'FARC_Leftist')\n",
    "cyber_test_input['group_name'] = cyber_test_input['group_name'].replace('Revolutionary Armed Forces of Colombia (FARC)',\n",
    "                                                        'FARC_Leftist')\n",
    "\n",
    "cyber_test_input['group_name'] = cyber_test_input['group_name'].replace('United Self Defense Units of Colombia (AUC)',\n",
    "                                                        'FARC_Rightist')\n",
    "  "
   ]
  },
  {
   "cell_type": "code",
   "execution_count": 30,
   "metadata": {},
   "outputs": [],
   "source": [
    "# Middle Eastern Religious:\n",
    "cyber_test_input['group_name'] = cyber_test_input['group_name'].replace('Al-Gama\\'at Al-Islamiyya (IG)',\n",
    "                                                        'Middle_Eastern_Religious')\n",
    "cyber_test_input['group_name'] = cyber_test_input['group_name'].replace('Al-Nusrah Front',\n",
    "                                                        'Middle_Eastern_Religious')\n",
    "cyber_test_input['group_name'] = cyber_test_input['group_name'].replace('Al-Qa\\'ida',\n",
    "                                                        'Middle_Eastern_Religious')\n",
    "cyber_test_input['group_name'] = cyber_test_input['group_name'].replace('Al-Qa\\'ida in the Arabian Peninsula (AQAP)',\n",
    "                                                        'Middle_Eastern_Religious')\n",
    "cyber_test_input['group_name'] = cyber_test_input['group_name'].replace('Al-Qa\\'ida in the Lands of the Islamic Maghreb (AQLIM)',\n",
    "                                                        'Middle_Eastern_Religious')\n",
    "cyber_test_input['group_name'] = cyber_test_input['group_name'].replace('Al-Shabaab',\n",
    "                                                        'Middle_Eastern_Religious')\n",
    "cyber_test_input['group_name'] = cyber_test_input['group_name'].replace('Ansar Al-Islam',\n",
    "                                                        'Middle_Eastern_Religious')\n",
    "cyber_test_input['group_name'] = cyber_test_input['group_name'].replace('Ansar Al-Sharia (Libya)',\n",
    "                                                        'Middle_Eastern_Religious')\n",
    "cyber_test_input['group_name'] = cyber_test_input['group_name'].replace('Asa\\'Ib Ahl Al-Haqq',\n",
    "                                                        'Middle_Eastern_Religious')\n",
    "cyber_test_input['group_name'] = cyber_test_input['group_name'].replace('Caucasus Emirate',\n",
    "                                                        'Middle_Eastern_Religious')\n",
    "cyber_test_input['group_name'] = cyber_test_input['group_name'].replace('Eritrean Islamic Jihad Movement (EIJM)',\n",
    "                                                        'Middle_Eastern_Religious')\n",
    "cyber_test_input['group_name'] = cyber_test_input['group_name'].replace('Great Eastern Islamic Raiders Front (Ibda-C)',\n",
    "                                                        'Middle_Eastern_Religious')\n",
    "cyber_test_input['group_name'] = cyber_test_input['group_name'].replace('Hizbul Al Islam (Somalia)',\n",
    "                                                        'Middle_Eastern_Religious')\n",
    "cyber_test_input['group_name'] = cyber_test_input['group_name'].replace('Islamic Courts Union (ICU)',\n",
    "                                                        'Middle_Eastern_Religious')\n",
    "cyber_test_input['group_name'] = cyber_test_input['group_name'].replace('Islamic State of Iraq and al Sham (ISIS)',\n",
    "                                                        'Middle_Eastern_Religious')\n",
    "cyber_test_input['group_name'] = cyber_test_input['group_name'].replace('Islamic Movement of Uzbekistan (IMU)',\n",
    "                                                        'Middle_Eastern_Religious')\n",
    "cyber_test_input['group_name'] = cyber_test_input['group_name'].replace('Jamiat Ul-Mujahedin (Jum)',\n",
    "                                                        'Middle_Eastern_Religious')\n",
    "cyber_test_input['group_name'] = cyber_test_input['group_name'].replace('Jundallah',\n",
    "                                                        'Middle_Eastern_Religious')\n",
    "cyber_test_input['group_name'] = cyber_test_input['group_name'].replace('Mahdi Army',\n",
    "                                                        'Middle_Eastern_Religious')\n",
    "cyber_test_input['group_name'] = cyber_test_input['group_name'].replace('Taliban',\n",
    "                                                        'Middle_Eastern_Religious')\n",
    "cyber_test_input['group_name'] = cyber_test_input['group_name'].replace('Tehrik-i-Taliban Pakistan (TTP)',\n",
    "                                                        'Middle_Eastern_Religious')\n",
    "cyber_test_input['group_name'] = cyber_test_input['group_name'].replace('Muslim extremists',\n",
    "                                                        'Middle_Eastern_Religious')\n",
    "cyber_test_input['group_name'] = cyber_test_input['group_name'].replace('Armed Islamic Group (GIA)',\n",
    "                                                        'Middle_Eastern_Religious')\n",
    "cyber_test_input['group_name'] = cyber_test_input['group_name'].replace('Sunni Muslim extremists',\n",
    "                                                        'Middle_Eastern_Religious')\n",
    "cyber_test_input['group_name'] = cyber_test_input['group_name'].replace('Al-Qaida in the Islamic Maghreb (AQIM)',\n",
    "                                                        'Middle_Eastern_Religious')\n",
    "cyber_test_input['group_name'] = cyber_test_input['group_name'].replace('Islamic State of Iraq and the Levant (ISIL)',\n",
    "                                                        'Middle_Eastern_Religious')\n",
    "cyber_test_input['group_name'] = cyber_test_input['group_name'].replace('Al-Qaida in Iraq',\n",
    "                                                        'Middle_Eastern_Religious')\n",
    "cyber_test_input['group_name'] = cyber_test_input['group_name'].replace('Al-Qaida in the Arabian Peninsula (AQAP)',\n",
    "                                                        'Middle_Eastern_Religious')\n",
    "cyber_test_input['group_name'] = cyber_test_input['group_name'].replace('Al-Qaida',\n",
    "                                                        'Middle_Eastern_Religious')"
   ]
  },
  {
   "cell_type": "code",
   "execution_count": 31,
   "metadata": {},
   "outputs": [],
   "source": [
    "# Israeli, Palestinian, Lebanese Religious:\n",
    "cyber_test_input['group_name'] = cyber_test_input['group_name'].replace('Anti-Semitic extremists',\n",
    "                                                        'Near_Israel_Religious')\n",
    "cyber_test_input['group_name'] = cyber_test_input['group_name'].replace('Hezbollah',\n",
    "                                                        'Near_Israel_Religious')"
   ]
  },
  {
   "cell_type": "code",
   "execution_count": 32,
   "metadata": {},
   "outputs": [],
   "source": [
    "# Asian and African Religious:\n",
    "\n",
    "cyber_test_input['group_name'] = cyber_test_input['group_name'].replace('Students Islamic Movement of India (Simi)',\n",
    "                                                        'Asian/Asian-Pacific_Religious')\n",
    "cyber_test_input['group_name'] = cyber_test_input['group_name'].replace('Ranbir Sena',\n",
    "                                                        'Asian/Asian-Pacific_Religious')\n",
    "cyber_test_input['group_name'] = cyber_test_input['group_name'].replace('Jemaah Islamiya (JI)',\n",
    "                                                        'Asian/Asian-Pacific_Religious')\n",
    "\n",
    "\n",
    "cyber_test_input['group_name'] = cyber_test_input['group_name'].replace('Movement for Oneness and Jihad in West Africa (MUJAO)',\n",
    "                                                        'African_Religious')\n",
    "cyber_test_input['group_name'] = cyber_test_input['group_name'].replace('Lord\\'s Resistance Army (LRA)',\n",
    "                                                        'African_Religious')\n",
    "cyber_test_input['group_name'] = cyber_test_input['group_name'].replace('Boko Haram',\n",
    "                                                        'African_Religious')\n"
   ]
  },
  {
   "cell_type": "markdown",
   "metadata": {},
   "source": [
    "##### City:"
   ]
  },
  {
   "cell_type": "markdown",
   "metadata": {},
   "source": [
    "> Trying City Names by Religion, Tribal Associations or Conflict Areas:\n",
    "\n",
    "> ###### Training Input:"
   ]
  },
  {
   "cell_type": "code",
   "execution_count": 33,
   "metadata": {},
   "outputs": [],
   "source": [
    "sunni_cities = ['Mosul', 'Kirkuk', 'Sanandaj', 'Ramadi', 'Trabzone', 'Diarbekir', \n",
    "                'Damascus', 'Gwadar', 'Zahedan', 'Kandahar', 'Khiva', 'Fallujah',\n",
    "                'Dakhla', 'Tajura', 'Sabrata', 'Azizia', 'Kasabat', 'Misrata', 'Tripoli',\n",
    "                'Takrit', 'Tikrit']\n",
    "cyber_train_input['city'] = cyber_train_input['city'].where(cyber_train_input['city'].apply(\n",
    "                                lambda x: x not in sunni_cities), other = 'Sunni_Cities')"
   ]
  },
  {
   "cell_type": "code",
   "execution_count": 34,
   "metadata": {},
   "outputs": [],
   "source": [
    "shia_cities = ['Mecca', 'Najaf', 'Karbala', 'Samarra', 'Ahwaz', 'Basra', \n",
    "               'Medina', 'Tabriz', 'Tunceli', 'Zahran', 'Tehran', 'Rasht', 'Bojnurd',\n",
    "               'Hillah', 'Diwania', 'Khalis', 'Dujali', 'Balad', 'Khanaqin', \n",
    "               'Sargodha', 'Dadu', 'Moro']\n",
    "cyber_train_input['city'] = cyber_train_input['city'].where(cyber_train_input['city'].apply(\n",
    "                                lambda x: x not in shia_cities), other = 'Shia_Cities')"
   ]
  },
  {
   "cell_type": "code",
   "execution_count": 35,
   "metadata": {},
   "outputs": [],
   "source": [
    "split_cities = ['Kirmanshah', 'Baghdad', 'Kadhimia', 'Kuwait', 'Kars', 'Maras', \n",
    "               'Ankara', 'Sivas', 'Aleppo', 'Beirut', 'Abha', 'Jizan', 'Qazvin',\n",
    "               'Gunbad', 'Ashgabat', 'Mashhad', 'Herat', 'Merv', 'Charju', 'Bukhara',\n",
    "               'Samarkand', 'Mazari Sharif', 'Kandahar', 'Lar', 'Bandar Abbas', 'Dubai', \n",
    "               'Abu Dhabi', 'Tashkent', 'Erzurum', 'Konya', 'Izmir', 'Bursa', 'Istanbul',\n",
    "               'Tarhuna', ]\n",
    "cyber_train_input['city'] = cyber_train_input['city'].where(cyber_train_input['city'].apply(\n",
    "                                lambda x: x not in split_cities), other = 'Sunni_Shia_Split')"
   ]
  },
  {
   "cell_type": "code",
   "execution_count": 36,
   "metadata": {},
   "outputs": [],
   "source": [
    "ibadi_cities_libya = ['Nalut', 'Zentan', 'Gharian', 'Dafnia', 'Abu Kammash', 'Zuwara', \n",
    "               '', '', '', '', '', '', '']\n",
    "cyber_train_input['city'] = cyber_train_input['city'].where(cyber_train_input['city'].apply(\n",
    "                                lambda x: x not in ibadi_cities_libya), other = 'Ibadi_Cities_Libya')\n"
   ]
  },
  {
   "cell_type": "code",
   "execution_count": 37,
   "metadata": {},
   "outputs": [],
   "source": [
    "columbia_eln_cities = ['Riosucio', 'Buenaventura', 'Cali', 'Popayán', 'Bucaramanga',\n",
    "                       'Barrancabermeja', 'Cucuta', 'Santa Rita']\n",
    "cyber_train_input['city'] = cyber_train_input['city'].where(cyber_train_input['city'].apply(\n",
    "                                lambda x: x not in columbia_eln_cities), other = 'ELN_Cities')"
   ]
  },
  {
   "cell_type": "code",
   "execution_count": 38,
   "metadata": {},
   "outputs": [],
   "source": [
    "maoist_insurgency = ['Bhagalpur', 'Arwal', 'Khagaria', 'Rohtas', 'Kaimur',\n",
    "                       'Bhabua', 'Munger', 'Monghyr', 'Vaishali',\n",
    "                    'Dhanbad', 'Pakur', 'Koderma', 'Palamu', 'Balaghat',\n",
    "                     'Katni', 'Khandwa', 'Rajgarh', 'Shajapur']\n",
    "cyber_train_input['city'] = cyber_train_input['city'].where(cyber_train_input['city'].apply(\n",
    "                                lambda x: x not in maoist_insurgency), other = 'Maoist_Insurgency')\n"
   ]
  },
  {
   "cell_type": "code",
   "execution_count": 39,
   "metadata": {},
   "outputs": [],
   "source": [
    "w_africa_muslim = ['Touba', 'N\\'Djamena', 'Maiduguri', 'Zaria', 'Sokoto', 'Kenema',\n",
    "                   'Cetoua', 'Mopte', 'Bobo-Dioulasso', 'Kayes', 'Monrovia',\n",
    "                    '', '', '', '', '',\n",
    "                     '', '', '', '']\n",
    "cyber_train_input['city'] = cyber_train_input['city'].where(cyber_train_input['city'].apply(\n",
    "                                lambda x: x not in w_africa_muslim), other = 'Muslim_West_Africa')\n"
   ]
  },
  {
   "cell_type": "code",
   "execution_count": 40,
   "metadata": {},
   "outputs": [],
   "source": [
    "w_africa_mixed = ['Dogondutchi', 'Niamey', 'Parakou', 'Abuja', 'Kaduna', 'Kankan',\n",
    "                  'Lagos', 'Port Harcourt', 'Couala', 'Yaounde', 'Kumasi', 'Bamako',\n",
    "                  'Bertoua', 'Liberville', 'Port-Gentil', 'Zinder', 'Ouagadougou',\n",
    "                  'Freetown', 'Conakry', 'Bissau', 'Banjul', 'Dakar']\n",
    "cyber_train_input['city'] = cyber_train_input['city'].where(cyber_train_input['city'].apply(\n",
    "                                lambda x: x not in w_africa_mixed), other = 'Mixed_West_Africa')\n"
   ]
  },
  {
   "cell_type": "code",
   "execution_count": 41,
   "metadata": {},
   "outputs": [],
   "source": [
    "w_africa_christian = ['Benin City', 'Onitsha', 'Abidjan', 'Takoradi', 'Accra',\n",
    "                       'Lome']\n",
    "cyber_train_input['city'] = cyber_train_input['city'].where(cyber_train_input['city'].apply(\n",
    "                                lambda x: x not in w_africa_christian), other = 'Christian_West_Africa')\n"
   ]
  },
  {
   "cell_type": "markdown",
   "metadata": {},
   "source": [
    "> ###### Test Input:"
   ]
  },
  {
   "cell_type": "code",
   "execution_count": 42,
   "metadata": {},
   "outputs": [],
   "source": [
    "sunni_cities = ['Mosul', 'Kirkuk', 'Sanandaj', 'Ramadi', 'Trabzone', 'Diarbekir', \n",
    "                'Damascus', 'Gwadar', 'Zahedan', 'Kandahar', 'Khiva', 'Fallujah',\n",
    "                'Dakhla', 'Tajura', 'Sabrata', 'Azizia', 'Kasabat', 'Misrata', 'Tripoli',\n",
    "                'Takrit', 'Tikrit']\n",
    "cyber_test_input['city'] = cyber_test_input['city'].where(df['city'].apply(\n",
    "                                lambda x: x not in sunni_cities), other = 'Sunni_Cities')"
   ]
  },
  {
   "cell_type": "code",
   "execution_count": 43,
   "metadata": {},
   "outputs": [],
   "source": [
    "shia_cities = ['Mecca', 'Najaf', 'Karbala', 'Samarra', 'Ahwaz', 'Basra', \n",
    "               'Medina', 'Tabriz', 'Tunceli', 'Zahran', 'Tehran', 'Rasht', 'Bojnurd',\n",
    "               'Hillah', 'Diwania', 'Khalis', 'Dujali', 'Balad', 'Khanaqin', \n",
    "               'Sargodha', 'Dadu', 'Moro']\n",
    "cyber_test_input['city'] = cyber_test_input['city'].where(df['city'].apply(\n",
    "                                lambda x: x not in shia_cities), other = 'Shia_Cities')"
   ]
  },
  {
   "cell_type": "code",
   "execution_count": 44,
   "metadata": {},
   "outputs": [],
   "source": [
    "split_cities = ['Kirmanshah', 'Baghdad', 'Kadhimia', 'Kuwait', 'Kars', 'Maras', \n",
    "               'Ankara', 'Sivas', 'Aleppo', 'Beirut', 'Abha', 'Jizan', 'Qazvin',\n",
    "               'Gunbad', 'Ashgabat', 'Mashhad', 'Herat', 'Merv', 'Charju', 'Bukhara',\n",
    "               'Samarkand', 'Mazari Sharif', 'Kandahar', 'Lar', 'Bandar Abbas', 'Dubai', \n",
    "               'Abu Dhabi', 'Tashkent', 'Erzurum', 'Konya', 'Izmir', 'Bursa', 'Istanbul',\n",
    "               'Tarhuna', ]\n",
    "cyber_test_input['city'] = cyber_test_input['city'].where(df['city'].apply(\n",
    "                                lambda x: x not in split_cities), other = 'Sunni_Shia_Split')"
   ]
  },
  {
   "cell_type": "code",
   "execution_count": 45,
   "metadata": {},
   "outputs": [],
   "source": [
    "ibadi_cities_libya = ['Nalut', 'Zentan', 'Gharian', 'Dafnia', 'Abu Kammash', 'Zuwara', \n",
    "               '', '', '', '', '', '', '']\n",
    "cyber_test_input['city'] = cyber_test_input['city'].where(df['city'].apply(\n",
    "                                lambda x: x not in ibadi_cities_libya), other = 'Ibadi_Cities_Libya')\n"
   ]
  },
  {
   "cell_type": "code",
   "execution_count": 46,
   "metadata": {},
   "outputs": [],
   "source": [
    "columbia_eln_cities = ['Riosucio', 'Buenaventura', 'Cali', 'Popayán', 'Bucaramanga',\n",
    "                       'Barrancabermeja', 'Cucuta', 'Santa Rita']\n",
    "cyber_test_input['city'] = cyber_test_input['city'].where(df['city'].apply(\n",
    "                                lambda x: x not in columbia_eln_cities), other = 'ELN_Cities')"
   ]
  },
  {
   "cell_type": "code",
   "execution_count": 47,
   "metadata": {},
   "outputs": [],
   "source": [
    "maoist_insurgency = ['Bhagalpur', 'Arwal', 'Khagaria', 'Rohtas', 'Kaimur',\n",
    "                       'Bhabua', 'Munger', 'Monghyr', 'Vaishali',\n",
    "                    'Dhanbad', 'Pakur', 'Koderma', 'Palamu', 'Balaghat',\n",
    "                     'Katni', 'Khandwa', 'Rajgarh', 'Shajapur']\n",
    "cyber_test_input['city'] = cyber_test_input['city'].where(df['city'].apply(\n",
    "                                lambda x: x not in maoist_insurgency), other = 'Maoist_Insurgency')\n"
   ]
  },
  {
   "cell_type": "code",
   "execution_count": 48,
   "metadata": {},
   "outputs": [],
   "source": [
    "w_africa_muslim = ['Touba', 'N\\'Djamena', 'Maiduguri', 'Zaria', 'Sokoto', 'Kenema',\n",
    "                   'Cetoua', 'Mopte', 'Bobo-Dioulasso', 'Kayes', 'Monrovia',\n",
    "                    '', '', '', '', '',\n",
    "                     '', '', '', '']\n",
    "cyber_test_input['city'] = cyber_test_input['city'].where(df['city'].apply(\n",
    "                                lambda x: x not in w_africa_muslim), other = 'Muslim_West_Africa')\n"
   ]
  },
  {
   "cell_type": "code",
   "execution_count": 49,
   "metadata": {},
   "outputs": [],
   "source": [
    "w_africa_mixed = ['Dogondutchi', 'Niamey', 'Parakou', 'Abuja', 'Kaduna', 'Kankan',\n",
    "                  'Lagos', 'Port Harcourt', 'Couala', 'Yaounde', 'Kumasi', 'Bamako',\n",
    "                  'Bertoua', 'Liberville', 'Port-Gentil', 'Zinder', 'Ouagadougou',\n",
    "                  'Freetown', 'Conakry', 'Bissau', 'Banjul', 'Dakar']\n",
    "cyber_test_input['city'] = cyber_test_input['city'].where(df['city'].apply(\n",
    "                                lambda x: x not in w_africa_mixed), other = 'Mixed_West_Africa')\n"
   ]
  },
  {
   "cell_type": "code",
   "execution_count": 50,
   "metadata": {},
   "outputs": [],
   "source": [
    "w_africa_christian = ['Benin City', 'Onitsha', 'Abidjan', 'Takoradi', 'Accra',\n",
    "                       'Lome']\n",
    "cyber_test_input['city'] = cyber_test_input['city'].where(df['city'].apply(\n",
    "                                lambda x: x not in w_africa_christian), other = 'Christian_West_Africa')\n"
   ]
  },
  {
   "cell_type": "markdown",
   "metadata": {},
   "source": [
    "### 2. Preliminary Visualizations and Exploration:\n",
    "\n",
    "> Taking a look to see what is happening:"
   ]
  },
  {
   "cell_type": "markdown",
   "metadata": {},
   "source": [
    "#### A. Correlation:"
   ]
  },
  {
   "cell_type": "code",
   "execution_count": 52,
   "metadata": {},
   "outputs": [
    {
     "data": {
      "image/png": "[encoded data removed]",
      "text/plain": [
       "<Figure size 936x720 with 2 Axes>"
      ]
     },
     "metadata": {},
     "output_type": "display_data"
    }
   ],
   "source": [
    "f, ax = plt.subplots(figsize = (13, 10))\n",
    "sns.heatmap(cyber_train_input.corr(), annot = True)\n",
    "plt.show()"
   ]
  },
  {
   "cell_type": "markdown",
   "metadata": {},
   "source": [
    "### 3. Feature Selection:\n",
    "\n",
    "> Getting closer to modeling and using feature selection algorithms to see what will help us best minimize our feature set while maintaining the most amount of variation in our dataset."
   ]
  },
  {
   "cell_type": "markdown",
   "metadata": {},
   "source": [
    "#### A. Select K-Best:"
   ]
  },
  {
   "cell_type": "markdown",
   "metadata": {},
   "source": [
    "##### Assessing overall dataframe:"
   ]
  },
  {
   "cell_type": "code",
   "execution_count": 98,
   "metadata": {},
   "outputs": [],
   "source": [
    "from sklearn import feature_selection"
   ]
  },
  {
   "cell_type": "code",
   "execution_count": 99,
   "metadata": {
    "collapsed": true
   },
   "outputs": [
    {
     "ename": "KeyError",
     "evalue": "\"labels ['corp1' 'nperps'] not contained in axis\"",
     "output_type": "error",
     "traceback": [
      "\u001b[0;31m---------------------------------------------------------------------------\u001b[0m",
      "\u001b[0;31mKeyError\u001b[0m                                  Traceback (most recent call last)",
      "\u001b[0;32m<ipython-input-99-de7ad2ae096b>\u001b[0m in \u001b[0;36m<module>\u001b[0;34m()\u001b[0m\n\u001b[1;32m      1\u001b[0m \u001b[0;31m# A fair amount of na in corp1 (1402) and nperps (1316), so dropping the na data there:\u001b[0m\u001b[0;34m\u001b[0m\u001b[0;34m\u001b[0m\u001b[0m\n\u001b[0;32m----> 2\u001b[0;31m \u001b[0mcyber_df\u001b[0m \u001b[0;34m=\u001b[0m \u001b[0mpd\u001b[0m\u001b[0;34m.\u001b[0m\u001b[0mDataFrame\u001b[0m\u001b[0;34m(\u001b[0m\u001b[0mcyber_df\u001b[0m\u001b[0;34m.\u001b[0m\u001b[0mdrop\u001b[0m\u001b[0;34m(\u001b[0m\u001b[0;34m[\u001b[0m\u001b[0;34m'corp1'\u001b[0m\u001b[0;34m,\u001b[0m \u001b[0;34m'nperps'\u001b[0m\u001b[0;34m]\u001b[0m\u001b[0;34m,\u001b[0m \u001b[0maxis\u001b[0m \u001b[0;34m=\u001b[0m \u001b[0;36m1\u001b[0m\u001b[0;34m)\u001b[0m\u001b[0;34m)\u001b[0m\u001b[0;34m\u001b[0m\u001b[0m\n\u001b[0m",
      "\u001b[0;32m/usr/local/lib/python3.7/site-packages/pandas/core/frame.py\u001b[0m in \u001b[0;36mdrop\u001b[0;34m(self, labels, axis, index, columns, level, inplace, errors)\u001b[0m\n\u001b[1;32m   3695\u001b[0m                                            \u001b[0mindex\u001b[0m\u001b[0;34m=\u001b[0m\u001b[0mindex\u001b[0m\u001b[0;34m,\u001b[0m \u001b[0mcolumns\u001b[0m\u001b[0;34m=\u001b[0m\u001b[0mcolumns\u001b[0m\u001b[0;34m,\u001b[0m\u001b[0;34m\u001b[0m\u001b[0m\n\u001b[1;32m   3696\u001b[0m                                            \u001b[0mlevel\u001b[0m\u001b[0;34m=\u001b[0m\u001b[0mlevel\u001b[0m\u001b[0;34m,\u001b[0m \u001b[0minplace\u001b[0m\u001b[0;34m=\u001b[0m\u001b[0minplace\u001b[0m\u001b[0;34m,\u001b[0m\u001b[0;34m\u001b[0m\u001b[0m\n\u001b[0;32m-> 3697\u001b[0;31m                                            errors=errors)\n\u001b[0m\u001b[1;32m   3698\u001b[0m \u001b[0;34m\u001b[0m\u001b[0m\n\u001b[1;32m   3699\u001b[0m     @rewrite_axis_style_signature('mapper', [('copy', True),\n",
      "\u001b[0;32m/usr/local/lib/python3.7/site-packages/pandas/core/generic.py\u001b[0m in \u001b[0;36mdrop\u001b[0;34m(self, labels, axis, index, columns, level, inplace, errors)\u001b[0m\n\u001b[1;32m   3106\u001b[0m         \u001b[0;32mfor\u001b[0m \u001b[0maxis\u001b[0m\u001b[0;34m,\u001b[0m \u001b[0mlabels\u001b[0m \u001b[0;32min\u001b[0m \u001b[0maxes\u001b[0m\u001b[0;34m.\u001b[0m\u001b[0mitems\u001b[0m\u001b[0;34m(\u001b[0m\u001b[0;34m)\u001b[0m\u001b[0;34m:\u001b[0m\u001b[0;34m\u001b[0m\u001b[0m\n\u001b[1;32m   3107\u001b[0m             \u001b[0;32mif\u001b[0m \u001b[0mlabels\u001b[0m \u001b[0;32mis\u001b[0m \u001b[0;32mnot\u001b[0m \u001b[0;32mNone\u001b[0m\u001b[0;34m:\u001b[0m\u001b[0;34m\u001b[0m\u001b[0m\n\u001b[0;32m-> 3108\u001b[0;31m                 \u001b[0mobj\u001b[0m \u001b[0;34m=\u001b[0m \u001b[0mobj\u001b[0m\u001b[0;34m.\u001b[0m\u001b[0m_drop_axis\u001b[0m\u001b[0;34m(\u001b[0m\u001b[0mlabels\u001b[0m\u001b[0;34m,\u001b[0m \u001b[0maxis\u001b[0m\u001b[0;34m,\u001b[0m \u001b[0mlevel\u001b[0m\u001b[0;34m=\u001b[0m\u001b[0mlevel\u001b[0m\u001b[0;34m,\u001b[0m \u001b[0merrors\u001b[0m\u001b[0;34m=\u001b[0m\u001b[0merrors\u001b[0m\u001b[0;34m)\u001b[0m\u001b[0;34m\u001b[0m\u001b[0m\n\u001b[0m\u001b[1;32m   3109\u001b[0m \u001b[0;34m\u001b[0m\u001b[0m\n\u001b[1;32m   3110\u001b[0m         \u001b[0;32mif\u001b[0m \u001b[0minplace\u001b[0m\u001b[0;34m:\u001b[0m\u001b[0;34m\u001b[0m\u001b[0m\n",
      "\u001b[0;32m/usr/local/lib/python3.7/site-packages/pandas/core/generic.py\u001b[0m in \u001b[0;36m_drop_axis\u001b[0;34m(self, labels, axis, level, errors)\u001b[0m\n\u001b[1;32m   3138\u001b[0m                 \u001b[0mnew_axis\u001b[0m \u001b[0;34m=\u001b[0m \u001b[0maxis\u001b[0m\u001b[0;34m.\u001b[0m\u001b[0mdrop\u001b[0m\u001b[0;34m(\u001b[0m\u001b[0mlabels\u001b[0m\u001b[0;34m,\u001b[0m \u001b[0mlevel\u001b[0m\u001b[0;34m=\u001b[0m\u001b[0mlevel\u001b[0m\u001b[0;34m,\u001b[0m \u001b[0merrors\u001b[0m\u001b[0;34m=\u001b[0m\u001b[0merrors\u001b[0m\u001b[0;34m)\u001b[0m\u001b[0;34m\u001b[0m\u001b[0m\n\u001b[1;32m   3139\u001b[0m             \u001b[0;32melse\u001b[0m\u001b[0;34m:\u001b[0m\u001b[0;34m\u001b[0m\u001b[0m\n\u001b[0;32m-> 3140\u001b[0;31m                 \u001b[0mnew_axis\u001b[0m \u001b[0;34m=\u001b[0m \u001b[0maxis\u001b[0m\u001b[0;34m.\u001b[0m\u001b[0mdrop\u001b[0m\u001b[0;34m(\u001b[0m\u001b[0mlabels\u001b[0m\u001b[0;34m,\u001b[0m \u001b[0merrors\u001b[0m\u001b[0;34m=\u001b[0m\u001b[0merrors\u001b[0m\u001b[0;34m)\u001b[0m\u001b[0;34m\u001b[0m\u001b[0m\n\u001b[0m\u001b[1;32m   3141\u001b[0m             \u001b[0mdropped\u001b[0m \u001b[0;34m=\u001b[0m \u001b[0mself\u001b[0m\u001b[0;34m.\u001b[0m\u001b[0mreindex\u001b[0m\u001b[0;34m(\u001b[0m\u001b[0;34m**\u001b[0m\u001b[0;34m{\u001b[0m\u001b[0maxis_name\u001b[0m\u001b[0;34m:\u001b[0m \u001b[0mnew_axis\u001b[0m\u001b[0;34m}\u001b[0m\u001b[0;34m)\u001b[0m\u001b[0;34m\u001b[0m\u001b[0m\n\u001b[1;32m   3142\u001b[0m             \u001b[0;32mtry\u001b[0m\u001b[0;34m:\u001b[0m\u001b[0;34m\u001b[0m\u001b[0m\n",
      "\u001b[0;32m/usr/local/lib/python3.7/site-packages/pandas/core/indexes/base.py\u001b[0m in \u001b[0;36mdrop\u001b[0;34m(self, labels, errors)\u001b[0m\n\u001b[1;32m   4386\u001b[0m             \u001b[0;32mif\u001b[0m \u001b[0merrors\u001b[0m \u001b[0;34m!=\u001b[0m \u001b[0;34m'ignore'\u001b[0m\u001b[0;34m:\u001b[0m\u001b[0;34m\u001b[0m\u001b[0m\n\u001b[1;32m   4387\u001b[0m                 raise KeyError(\n\u001b[0;32m-> 4388\u001b[0;31m                     'labels %s not contained in axis' % labels[mask])\n\u001b[0m\u001b[1;32m   4389\u001b[0m             \u001b[0mindexer\u001b[0m \u001b[0;34m=\u001b[0m \u001b[0mindexer\u001b[0m\u001b[0;34m[\u001b[0m\u001b[0;34m~\u001b[0m\u001b[0mmask\u001b[0m\u001b[0;34m]\u001b[0m\u001b[0;34m\u001b[0m\u001b[0m\n\u001b[1;32m   4390\u001b[0m         \u001b[0;32mreturn\u001b[0m \u001b[0mself\u001b[0m\u001b[0;34m.\u001b[0m\u001b[0mdelete\u001b[0m\u001b[0;34m(\u001b[0m\u001b[0mindexer\u001b[0m\u001b[0;34m)\u001b[0m\u001b[0;34m\u001b[0m\u001b[0m\n",
      "\u001b[0;31mKeyError\u001b[0m: \"labels ['corp1' 'nperps'] not contained in axis\""
     ]
    }
   ],
   "source": [
    "# A fair amount of na in corp1 (1402) and nperps (1316), so dropping the na data there:\n",
    "cyber_df = pd.DataFrame(cyber_df.drop(['corp1', 'nperps'], axis = 1))\n"
   ]
  },
  {
   "cell_type": "code",
   "execution_count": 169,
   "metadata": {
    "collapsed": true
   },
   "outputs": [
    {
     "name": "stdout",
     "output_type": "stream",
     "text": [
      "Here is a dataframe with the top 30 features selected by this algorithm, along with\n",
      "the P-Value and ANova score of each feature: \n",
      "\n"
     ]
    },
    {
     "data": {
      "text/html": [
       "<div>\n",
       "<style scoped>\n",
       "    .dataframe tbody tr th:only-of-type {\n",
       "        vertical-align: middle;\n",
       "    }\n",
       "\n",
       "    .dataframe tbody tr th {\n",
       "        vertical-align: top;\n",
       "    }\n",
       "\n",
       "    .dataframe thead th {\n",
       "        text-align: right;\n",
       "    }\n",
       "</style>\n",
       "<table border=\"1\" class=\"dataframe\">\n",
       "  <thead>\n",
       "    <tr style=\"text-align: right;\">\n",
       "      <th></th>\n",
       "      <th>0</th>\n",
       "      <th>P_Vals</th>\n",
       "      <th>Scores</th>\n",
       "    </tr>\n",
       "  </thead>\n",
       "  <tbody>\n",
       "    <tr>\n",
       "      <th>0</th>\n",
       "      <td>24+hrs</td>\n",
       "      <td>4.026425e-03</td>\n",
       "      <td>8.277314</td>\n",
       "    </tr>\n",
       "    <tr>\n",
       "      <th>1</th>\n",
       "      <td>attack_1</td>\n",
       "      <td>1.750298e-02</td>\n",
       "      <td>5.647892</td>\n",
       "    </tr>\n",
       "    <tr>\n",
       "      <th>2</th>\n",
       "      <td>country_txt_Ireland</td>\n",
       "      <td>2.110921e-01</td>\n",
       "      <td>1.564206</td>\n",
       "    </tr>\n",
       "    <tr>\n",
       "      <th>3</th>\n",
       "      <td>region_txt_Western Europe</td>\n",
       "      <td>2.152832e-20</td>\n",
       "      <td>86.175090</td>\n",
       "    </tr>\n",
       "    <tr>\n",
       "      <th>4</th>\n",
       "      <td>region_2_Berlin</td>\n",
       "      <td>5.698456e-03</td>\n",
       "      <td>7.647968</td>\n",
       "    </tr>\n",
       "    <tr>\n",
       "      <th>5</th>\n",
       "      <td>region_2_Dublin</td>\n",
       "      <td>1.558680e-02</td>\n",
       "      <td>5.851748</td>\n",
       "    </tr>\n",
       "    <tr>\n",
       "      <th>6</th>\n",
       "      <td>city_Dublin</td>\n",
       "      <td>3.028851e-01</td>\n",
       "      <td>1.061604</td>\n",
       "    </tr>\n",
       "    <tr>\n",
       "      <th>7</th>\n",
       "      <td>attack_1txt_Armed Assault</td>\n",
       "      <td>4.293826e-01</td>\n",
       "      <td>0.624565</td>\n",
       "    </tr>\n",
       "    <tr>\n",
       "      <th>8</th>\n",
       "      <td>attack_1txt_Assassination</td>\n",
       "      <td>4.571211e-07</td>\n",
       "      <td>25.484642</td>\n",
       "    </tr>\n",
       "    <tr>\n",
       "      <th>9</th>\n",
       "      <td>attack_1txt_Hostage Taking (Kidnapping)</td>\n",
       "      <td>1.449115e-07</td>\n",
       "      <td>27.712559</td>\n",
       "    </tr>\n",
       "    <tr>\n",
       "      <th>10</th>\n",
       "      <td>target_1txt_Military</td>\n",
       "      <td>1.079183e-02</td>\n",
       "      <td>6.502744</td>\n",
       "    </tr>\n",
       "    <tr>\n",
       "      <th>11</th>\n",
       "      <td>target_1txt_Unknown</td>\n",
       "      <td>3.667140e-54</td>\n",
       "      <td>244.303735</td>\n",
       "    </tr>\n",
       "    <tr>\n",
       "      <th>12</th>\n",
       "      <td>sub_targettxt_Government Personnel (excluding ...</td>\n",
       "      <td>7.359010e-03</td>\n",
       "      <td>7.187362</td>\n",
       "    </tr>\n",
       "    <tr>\n",
       "      <th>13</th>\n",
       "      <td>sub_targettxt_No Data</td>\n",
       "      <td>2.093029e-06</td>\n",
       "      <td>22.545359</td>\n",
       "    </tr>\n",
       "    <tr>\n",
       "      <th>14</th>\n",
       "      <td>sub_targettxt_Unnamed Civilian/Unspecified</td>\n",
       "      <td>2.633037e-03</td>\n",
       "      <td>9.052231</td>\n",
       "    </tr>\n",
       "    <tr>\n",
       "      <th>15</th>\n",
       "      <td>specific_target_Students and staff at Cung Kie...</td>\n",
       "      <td>8.699095e-01</td>\n",
       "      <td>0.026824</td>\n",
       "    </tr>\n",
       "    <tr>\n",
       "      <th>16</th>\n",
       "      <td>specific_target_Unknown</td>\n",
       "      <td>5.670532e-06</td>\n",
       "      <td>20.627966</td>\n",
       "    </tr>\n",
       "    <tr>\n",
       "      <th>17</th>\n",
       "      <td>victim_nationalitytxt_Ireland</td>\n",
       "      <td>8.584894e-01</td>\n",
       "      <td>0.031792</td>\n",
       "    </tr>\n",
       "    <tr>\n",
       "      <th>18</th>\n",
       "      <td>victim_nationalitytxt_No Data</td>\n",
       "      <td>9.187542e-06</td>\n",
       "      <td>19.702259</td>\n",
       "    </tr>\n",
       "    <tr>\n",
       "      <th>19</th>\n",
       "      <td>victim_nationalitytxt_Northern Ireland</td>\n",
       "      <td>2.692546e-01</td>\n",
       "      <td>1.220733</td>\n",
       "    </tr>\n",
       "    <tr>\n",
       "      <th>20</th>\n",
       "      <td>group_name_Armed Commandos of Liberation</td>\n",
       "      <td>1.458721e-01</td>\n",
       "      <td>2.115363</td>\n",
       "    </tr>\n",
       "    <tr>\n",
       "      <th>21</th>\n",
       "      <td>group_name_Hekla Reception Committee-Initiativ...</td>\n",
       "      <td>4.127120e-01</td>\n",
       "      <td>0.671054</td>\n",
       "    </tr>\n",
       "    <tr>\n",
       "      <th>22</th>\n",
       "      <td>group_name_Unknown</td>\n",
       "      <td>3.411123e-01</td>\n",
       "      <td>0.906369</td>\n",
       "    </tr>\n",
       "    <tr>\n",
       "      <th>23</th>\n",
       "      <td>weapontxt_Explosives</td>\n",
       "      <td>1.458721e-01</td>\n",
       "      <td>2.115363</td>\n",
       "    </tr>\n",
       "    <tr>\n",
       "      <th>24</th>\n",
       "      <td>weapontxt_Firearms</td>\n",
       "      <td>4.370964e-01</td>\n",
       "      <td>0.603962</td>\n",
       "    </tr>\n",
       "    <tr>\n",
       "      <th>25</th>\n",
       "      <td>sub_weapontxt_Letter Bomb</td>\n",
       "      <td>NaN</td>\n",
       "      <td>NaN</td>\n",
       "    </tr>\n",
       "    <tr>\n",
       "      <th>26</th>\n",
       "      <td>sub_weapontxt_Other Explosive Type</td>\n",
       "      <td>3.966324e-02</td>\n",
       "      <td>4.233807</td>\n",
       "    </tr>\n",
       "    <tr>\n",
       "      <th>27</th>\n",
       "      <td>sub_weapontxt_Pipe Bomb</td>\n",
       "      <td>2.378697e-01</td>\n",
       "      <td>1.393412</td>\n",
       "    </tr>\n",
       "    <tr>\n",
       "      <th>28</th>\n",
       "      <td>sub_weapontxt_Time Fuse</td>\n",
       "      <td>1.612157e-03</td>\n",
       "      <td>9.953556</td>\n",
       "    </tr>\n",
       "    <tr>\n",
       "      <th>29</th>\n",
       "      <td>sub_weapontxt_Unknown Gun Type</td>\n",
       "      <td>6.537720e-01</td>\n",
       "      <td>0.201195</td>\n",
       "    </tr>\n",
       "  </tbody>\n",
       "</table>\n",
       "</div>"
      ],
      "text/plain": [
       "                                                    0        P_Vals  \\\n",
       "0                                              24+hrs  4.026425e-03   \n",
       "1                                            attack_1  1.750298e-02   \n",
       "2                                 country_txt_Ireland  2.110921e-01   \n",
       "3                           region_txt_Western Europe  2.152832e-20   \n",
       "4                                     region_2_Berlin  5.698456e-03   \n",
       "5                                     region_2_Dublin  1.558680e-02   \n",
       "6                                         city_Dublin  3.028851e-01   \n",
       "7                           attack_1txt_Armed Assault  4.293826e-01   \n",
       "8                           attack_1txt_Assassination  4.571211e-07   \n",
       "9             attack_1txt_Hostage Taking (Kidnapping)  1.449115e-07   \n",
       "10                               target_1txt_Military  1.079183e-02   \n",
       "11                                target_1txt_Unknown  3.667140e-54   \n",
       "12  sub_targettxt_Government Personnel (excluding ...  7.359010e-03   \n",
       "13                              sub_targettxt_No Data  2.093029e-06   \n",
       "14         sub_targettxt_Unnamed Civilian/Unspecified  2.633037e-03   \n",
       "15  specific_target_Students and staff at Cung Kie...  8.699095e-01   \n",
       "16                            specific_target_Unknown  5.670532e-06   \n",
       "17                      victim_nationalitytxt_Ireland  8.584894e-01   \n",
       "18                      victim_nationalitytxt_No Data  9.187542e-06   \n",
       "19             victim_nationalitytxt_Northern Ireland  2.692546e-01   \n",
       "20           group_name_Armed Commandos of Liberation  1.458721e-01   \n",
       "21  group_name_Hekla Reception Committee-Initiativ...  4.127120e-01   \n",
       "22                                 group_name_Unknown  3.411123e-01   \n",
       "23                               weapontxt_Explosives  1.458721e-01   \n",
       "24                                 weapontxt_Firearms  4.370964e-01   \n",
       "25                          sub_weapontxt_Letter Bomb           NaN   \n",
       "26                 sub_weapontxt_Other Explosive Type  3.966324e-02   \n",
       "27                            sub_weapontxt_Pipe Bomb  2.378697e-01   \n",
       "28                            sub_weapontxt_Time Fuse  1.612157e-03   \n",
       "29                     sub_weapontxt_Unknown Gun Type  6.537720e-01   \n",
       "\n",
       "        Scores  \n",
       "0     8.277314  \n",
       "1     5.647892  \n",
       "2     1.564206  \n",
       "3    86.175090  \n",
       "4     7.647968  \n",
       "5     5.851748  \n",
       "6     1.061604  \n",
       "7     0.624565  \n",
       "8    25.484642  \n",
       "9    27.712559  \n",
       "10    6.502744  \n",
       "11  244.303735  \n",
       "12    7.187362  \n",
       "13   22.545359  \n",
       "14    9.052231  \n",
       "15    0.026824  \n",
       "16   20.627966  \n",
       "17    0.031792  \n",
       "18   19.702259  \n",
       "19    1.220733  \n",
       "20    2.115363  \n",
       "21    0.671054  \n",
       "22    0.906369  \n",
       "23    2.115363  \n",
       "24    0.603962  \n",
       "25         NaN  \n",
       "26    4.233807  \n",
       "27    1.393412  \n",
       "28    9.953556  \n",
       "29    0.201195  "
      ]
     },
     "execution_count": 169,
     "metadata": {},
     "output_type": "execute_result"
    }
   ],
   "source": [
    "# Using our filtered DF:\n",
    "\n",
    "\n",
    "# Fitting it to our Features and output:\n",
    "\n",
    "KBest_1 = feature_selection.SelectKBest(k = 30)\n",
    "KBest_1.fit(X_train, Y_train)\n",
    "\n",
    "# Creating a DF with the top 30 features:\n",
    "\n",
    "feature_mask = KBest_1.get_support(indices = True)\n",
    "KBest_1_features = pd.DataFrame(X_train.columns[feature_mask])\n",
    "KBest_1_df = X_train.iloc[:, feature_mask]\n",
    "\n",
    "# # Summarizing the scores for those top 30 features in a df:\n",
    "\n",
    "KBest_1_features['P_Vals'] = KBest_1.pvalues_[0:30]\n",
    "KBest_1_features['Scores'] = KBest_1.scores_[0:30]\n",
    "\n",
    "print('Here is a dataframe with the top 30 features selected by this algorithm, along with\\n'\n",
    "       'the P-Value and ANova score of each feature: \\n')\n",
    "KBest_1_features"
   ]
  },
  {
   "cell_type": "code",
   "execution_count": null,
   "metadata": {},
   "outputs": [],
   "source": []
  },
  {
   "cell_type": "code",
   "execution_count": null,
   "metadata": {},
   "outputs": [],
   "source": []
  },
  {
   "cell_type": "code",
   "execution_count": null,
   "metadata": {},
   "outputs": [],
   "source": []
  },
  {
   "cell_type": "code",
   "execution_count": null,
   "metadata": {},
   "outputs": [],
   "source": []
  },
  {
   "cell_type": "code",
   "execution_count": null,
   "metadata": {},
   "outputs": [],
   "source": []
  },
  {
   "cell_type": "code",
   "execution_count": null,
   "metadata": {},
   "outputs": [],
   "source": []
  },
  {
   "cell_type": "code",
   "execution_count": null,
   "metadata": {},
   "outputs": [],
   "source": []
  },
  {
   "cell_type": "code",
   "execution_count": null,
   "metadata": {},
   "outputs": [],
   "source": []
  },
  {
   "cell_type": "code",
   "execution_count": null,
   "metadata": {},
   "outputs": [],
   "source": []
  },
  {
   "cell_type": "code",
   "execution_count": null,
   "metadata": {},
   "outputs": [],
   "source": []
  }
 ],
 "metadata": {
  "kernelspec": {
   "display_name": "Python 3",
   "language": "python",
   "name": "python3"
  },
  "language_info": {
   "codemirror_mode": {
    "name": "ipython",
    "version": 3
   },
   "file_extension": ".py",
   "mimetype": "text/x-python",
   "name": "python",
   "nbconvert_exporter": "python",
   "pygments_lexer": "ipython3",
   "version": "3.7.0"
  },
  "toc": {
   "base_numbering": 1,
   "nav_menu": {},
   "number_sections": false,
   "sideBar": true,
   "skip_h1_title": false,
   "title_cell": "Table of Contents",
   "title_sidebar": "Contents",
   "toc_cell": false,
   "toc_position": {},
   "toc_section_display": true,
   "toc_window_display": true
  }
 },
 "nbformat": 4,
 "nbformat_minor": 2
}
