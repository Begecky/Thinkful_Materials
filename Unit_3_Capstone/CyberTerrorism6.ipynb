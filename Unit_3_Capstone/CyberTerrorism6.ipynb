{
 "cells": [
  {
   "cell_type": "markdown",
   "metadata": {
    "slideshow": {
     "slide_type": "slide"
    }
   },
   "source": [
    "## Predicting the Success of Cyber-Related Terrorist Attacks:"
   ]
  },
  {
   "cell_type": "markdown",
   "metadata": {
    "slideshow": {
     "slide_type": "subslide"
    }
   },
   "source": [
    "This dataset is from Global Terrorism Database curated by the University of Maryland:\n",
    "\n",
    "National Consortium for the Study of Terrorism and Responses to Terrorism (START). (2018). Global Terrorism Database [Data file]. Retrieved from https://www.start.umd.edu/gtd.\n",
    "\n",
    "It is a rich dataset with numerous variables and plenty of opportunities for analysis.  In this project, we will focus on predicting the 'success' of attacks which are related to cyber-events or have consequences for cyber-infrastructure (we will describe these characteristics in further detail below.   \n",
    "\n",
    "To begin, we will take a look at how this study classifies a successful terrorist attack and distinguishes it from an unsuccessful attack.  Below, is their description from pages 11 and 26 of their code-book (__[GTD Global Terrorism Database. Codebook: Inclusion Criteria and Variables](http://www.start.umd.edu/gtd/downloads/Codebook.pdf)__):\n",
    "\n",
    "> \"The GTD does not include plots or conspiracies that are not enacted, or at least attempted. For\n",
    "an event to be included in the GTD, the attackers must be “out the door,” en route to execute\n",
    "the attack. Planning, reconnaissance, and acquiring supplies do not meet this threshold.\n",
    "The GTD does include attacks that were attempted but ultimately unsuccessful. The\n",
    "circumstances vary depending on tactics (for details see the success variable, below). However,\n",
    "in general if a bomb is planted but fails to detonate; if an arsonist is intercepted by authorities\n",
    "before igniting a fire; or, if an assassin attempts and fails to kill his or her intended target, the\n",
    "attack is considered for inclusion in the GTD, and marked success=0.\" P. 11\n",
    "\n",
    "> \"Success of a terrorist strike is defined according to the tangible effects of the attack.\n",
    "Success is not judged in terms of the larger goals of the perpetrators. For example, a\n",
    "bomb that exploded in a building would be counted as a success even if it did not\n",
    "succeed in bringing the building down or inducing government repression.\n",
    "The definition of a successful attack depends on the type of attack. Essentially, the\n",
    "key question is whether or not the attack type took place. If a case has multiple\n",
    "attack types, it is successful if any of the attack types are successful, with the\n",
    "exception of assassinations, which are only successful if the intended target is killed.\n",
    "        1 = \"Yes\" The incident was successful.\n",
    "        0 = \"No\" The incident was not successful.\" P. 26\n",
    "\n",
    "Thus, our focus below will be on using the data collected to build a model which will successfully predict the success of a terror attack.  Below, we will begin importing and working with our data, and explanations and analysis will follow when pertinent."
   ]
  },
  {
   "cell_type": "code",
   "execution_count": 2,
   "metadata": {
    "slideshow": {
     "slide_type": "skip"
    }
   },
   "outputs": [
    {
     "name": "stderr",
     "output_type": "stream",
     "text": [
      "/usr/local/lib/python3.7/site-packages/sklearn/utils/__init__.py:4: DeprecationWarning: Using or importing the ABCs from 'collections' instead of from 'collections.abc' is deprecated, and in 3.8 it will stop working\n",
      "  from collections import Sequence\n"
     ]
    }
   ],
   "source": [
    "import pandas as pd\n",
    "import numpy as np\n",
    "import scipy\n",
    "import matplotlib.pyplot as plt\n",
    "import seaborn as sns\n",
    "import sklearn as skl\n",
    "import gc\n",
    "import sys\n",
    "%matplotlib inline\n",
    "\n",
    "import warnings\n",
    "warnings.filterwarnings('ignore')"
   ]
  },
  {
   "cell_type": "markdown",
   "metadata": {
    "slideshow": {
     "slide_type": "slide"
    }
   },
   "source": [
    "### 1. Importing, Cleaning and General Overview:\n",
    "\n",
    "#### A. Importing Data."
   ]
  },
  {
   "cell_type": "code",
   "execution_count": 3,
   "metadata": {
    "slideshow": {
     "slide_type": "subslide"
    }
   },
   "outputs": [],
   "source": [
    "df = pd.read_excel('globalterrorismdb_0718dist.xlsx', \n",
    "                   usecols = 'A, I, K, M, S:W, AA:AB, AD, AJ, AL, AM, AN, AP, BG, BM:BN, BQ, CE, CG, DA',\n",
    "                   dtype = {'summary':str, 'motive':str})                                                                                         "
   ]
  },
  {
   "cell_type": "code",
   "execution_count": 4,
   "metadata": {
    "slideshow": {
     "slide_type": "skip"
    }
   },
   "outputs": [],
   "source": [
    "# Renaming our columns for usability:\n",
    "\n",
    "cyber_data = pd.DataFrame(df.rename({'eventid':'event_id', 'doubtterr':'doubt', 'attacktype1_txt':'attack_1txt', \n",
    "                                     'targtype1_txt':'target_1txt', 'targsubtype1':'sub_target',\n",
    "                                     'targsubtype1_txt':'sub_targettxt', 'target1':'specific_target',\n",
    "                                     'natlty1_txt':'victim_nationalitytxt', 'gname':'group_name', \n",
    "                                     'guncertain1':'group_attrib_crtainty', 'individual':'unaffil_individ', \n",
    "                                     'weaptype1':'weapon', 'weaptype1_txt':'weapontxt', \n",
    "                                     'weapsubtype1':'sub_weapon', 'weapsubtype1_txt':'sub_weapontxt'}, axis = 1))"
   ]
  },
  {
   "cell_type": "code",
   "execution_count": 5,
   "metadata": {
    "slideshow": {
     "slide_type": "subslide"
    }
   },
   "outputs": [],
   "source": [
    "# Went ahead and dropped some null values here since our kernel started to crash repeatedly:\n",
    "\n",
    "start_len = cyber_data.shape\n",
    "cyber_data.dropna(axis = 0, how = 'any', inplace = True)\n",
    "mid_len_1 = cyber_data.shape\n"
   ]
  },
  {
   "cell_type": "code",
   "execution_count": 6,
   "metadata": {},
   "outputs": [
    {
     "data": {
      "text/plain": [
       "363439"
      ]
     },
     "execution_count": 6,
     "metadata": {},
     "output_type": "execute_result"
    }
   ],
   "source": [
    "del df\n",
    "gc.collect()"
   ]
  },
  {
   "cell_type": "markdown",
   "metadata": {
    "slideshow": {
     "slide_type": "slide"
    }
   },
   "source": [
    "#### B. Selecting Rows Specific to Cyber-Related Terrorism:\n",
    "\n",
    "In order to filter the dataset and focus our inquiry on cyber-related events, we will use the following regex statement.  This statement attempts to focus on social-networks, email platforms as well as infrastructure (to a certain extent).\n",
    "\n",
    "It should be note that this statement is susceptible to bias in a few ways.  First of all, it is temporally biased in the sense that it includes Facebook and Twitter, while newer platforms or platforms in other countries might be prevalent. One way to reduce this bias would be to update the expression whenever possible with current data and considerations of standard practice and user habits."
   ]
  },
  {
   "cell_type": "code",
   "execution_count": 7,
   "metadata": {
    "slideshow": {
     "slide_type": "subslide"
    }
   },
   "outputs": [
    {
     "name": "stdout",
     "output_type": "stream",
     "text": [
      "False    109486\n",
      "True       7047\n",
      "Name: summary, dtype: int64\n"
     ]
    }
   ],
   "source": [
    "# Creating the input Dataframe (cyber_train):\n",
    "# Using regex to isolate qualifying data and make a mask to filter our main dataframe:\n",
    "\n",
    "import re\n",
    "\n",
    "  # First taking a look to see how many rows that will give us to work with:\n",
    "    \n",
    "print(cyber_data.summary.str.contains('cyb+|social|inform+|network+|twit+|facebook|fake|electio+|internet|ads|adv+|priv+|hac+|breac+|emai+',\n",
    "                         flags = re.IGNORECASE, regex = True).value_counts())\n",
    "\n",
    "# Creating the mask:\n",
    "\n",
    "mask = cyber_data.summary.str.contains(r'(cyb+|social|inform+|network+|twit+|facebook|fake|electio+|internet|ads|adv+|priv+|hac+|breac+|emai+)', \n",
    "                           flags = re.IGNORECASE)\n",
    "\n",
    "# Filtering our main data:\n",
    "\n",
    "cyber_data = pd.DataFrame(cyber_data[mask])"
   ]
  },
  {
   "cell_type": "markdown",
   "metadata": {
    "slideshow": {
     "slide_type": "slide"
    }
   },
   "source": [
    "#### C. Splitting Our Train/Test Data:\n",
    "\n",
    "Below, we dropped some specific columns in dataframe in order to make future processing more efficient.  The 'event_id' column wasn't numerically significant and created problems when getting dummies was necessary. The same occured with 'summary' and 'motive.'  These last two columns, however, will come in handy when considering avenues for further research, which we will discuss below."
   ]
  },
  {
   "cell_type": "code",
   "execution_count": 8,
   "metadata": {
    "slideshow": {
     "slide_type": "subslide"
    }
   },
   "outputs": [],
   "source": [
    "from sklearn.model_selection import cross_val_score, train_test_split\n",
    "\n",
    "# Defining our Input and Output data:\n",
    "# (Cleaning afterwards to prevent leakage)\n",
    "\n",
    "X = cyber_data.drop(['event_id', 'success', 'summary', 'motive'], axis = 1)\n",
    "Y = pd.DataFrame(cyber_data['success'])\n",
    "\n",
    "X_train, X_test, Y_train, Y_test = train_test_split(X, Y, test_size = .25)\n",
    "\n",
    "X_train_start_index = X_train.index\n",
    "X_test_start_index = X_test.index"
   ]
  },
  {
   "cell_type": "code",
   "execution_count": 9,
   "metadata": {
    "slideshow": {
     "slide_type": "skip"
    }
   },
   "outputs": [],
   "source": [
    "# Memory Mitigation (Resource cited below):\n",
    "\n",
    "ipython_vars = ['In', 'Out', 'exit', 'quit', 'get_ipython', 'ipython_vars']\n",
    "\n",
    "cleaner = sorted([(x, sys.getsizeof(globals().get(x))) for x in dir() if not x.startswith('_') and x not in sys.modules and x not in ipython_vars], \n",
    "                 key=lambda x: x[1], reverse=True)"
   ]
  },
  {
   "cell_type": "code",
   "execution_count": 10,
   "metadata": {
    "slideshow": {
     "slide_type": "skip"
    }
   },
   "outputs": [
    {
     "data": {
      "text/plain": [
       "7"
      ]
     },
     "execution_count": 10,
     "metadata": {},
     "output_type": "execute_result"
    }
   ],
   "source": [
    "del X, mask, Y, cleaner\n",
    "gc.collect()"
   ]
  },
  {
   "cell_type": "markdown",
   "metadata": {
    "slideshow": {
     "slide_type": "skip"
    }
   },
   "source": [
    "#### D. Isolating Columns:\n",
    "\n",
    "We want to be sure we are only using the numeric columns that are significant (i.e. binary or numerically related to the values they contain) and not arbitrary categoricals (such as using numbers to classify one instance over another).  Initially, we imported more of the dataset which included different types of data-types.  After running the notebook as it was closer to its final form, it took considerably longer to load, at which point we dropped most of these columns from our initial read-in of the data. We account for a few lingering columns below:"
   ]
  },
  {
   "cell_type": "code",
   "execution_count": 11,
   "metadata": {
    "slideshow": {
     "slide_type": "skip"
    }
   },
   "outputs": [],
   "source": [
    "cyber_train_X = X_train[['country_txt', 'region_txt', 'city', 'crit1', 'crit2', 'crit3', 'doubt',\n",
    "                       'suicide', 'attack_1txt', 'target_1txt', 'sub_targettxt', 'corp1',\n",
    "                       'specific_target', 'victim_nationalitytxt', 'group_name',\n",
    "                       'group_attrib_crtainty', 'unaffil_individ', 'weapontxt',\n",
    "                       'sub_weapontxt']]\n",
    "\n",
    "# Making sure input and output dataframes still have the same amount of rows:\n",
    "\n",
    "cyber_train_Y = Y_train.iloc[Y_train.index == cyber_train_X.index]"
   ]
  },
  {
   "cell_type": "code",
   "execution_count": 12,
   "metadata": {
    "slideshow": {
     "slide_type": "skip"
    }
   },
   "outputs": [],
   "source": [
    "# Applying the same process above to our test data:\n",
    "\n",
    "cyber_test_X = X_test[['country_txt', 'region_txt', 'city', 'crit1', 'crit2', 'crit3', 'doubt',\n",
    "                       'suicide', 'attack_1txt', 'target_1txt', 'sub_targettxt', 'corp1',\n",
    "                       'specific_target', 'victim_nationalitytxt', 'group_name',\n",
    "                       'group_attrib_crtainty', 'unaffil_individ', 'weapontxt',\n",
    "                       'sub_weapontxt']]\n",
    "\n",
    "cyber_test_Y = Y_test.iloc[Y_test.index == cyber_test_X.index]"
   ]
  },
  {
   "cell_type": "code",
   "execution_count": 13,
   "metadata": {},
   "outputs": [],
   "source": [
    "del X_train, X_test, Y_train, Y_test"
   ]
  },
  {
   "cell_type": "markdown",
   "metadata": {
    "slideshow": {
     "slide_type": "slide"
    }
   },
   "source": [
    "#### E. Applying Filters to Text Columns.\n",
    "\n",
    "The cells below are an attempt to consolidate (or group) some of the values together with a few certain columns we will be focusing on.  Given that these columns have a considerable number of unique values, when getting dummies later, it will greatly increase the size of our feature set.  While an increased feature-set is not necessarily a bad thing, preventing the size from becoming too large will aid in our explanatory power later on.  In other words, our feature set will have a comprehensible size, allowing us to explain the characteristics around a successful attack. Otherwise, we run the risk of a feature set which is too large for a human to understand and too many features - making it difficult to see which columns/characteristics are significant for our analysis.\n",
    "\n",
    "Below, we focus mainly on the types of weapons, the named terrorist groups and the cities attacked.  We also consolidated some of the sub_targets into larger groups.  After running our preliminary models, we found that targets and sub_targets were significant to our models, so we conducted some further feature engineering afterwards, which we will discuss later."
   ]
  },
  {
   "cell_type": "markdown",
   "metadata": {
    "slideshow": {
     "slide_type": "subslide"
    }
   },
   "source": [
    "There were a number of resources which were helpful in this grouping process, which we will lay out here:\n",
    "\n",
    "Regarding the 'weapontxt' column, which describes the type of weapons used in the attack, and the 'sub_target' column (which provides further details on the primary target) we mainly referred to the codebook accompanying the study (as mentioned above: (__[GTD Global Terrorism Database. Codebook: Inclusion Criteria and Variables](http://www.start.umd.edu/gtd/downloads/Codebook.pdf)__)).  The grouping below was rather simple - primarily placing a few types of weapon-groups and sub-targets together when it would not negatively impact our explanatory capabilites down the road."
   ]
  },
  {
   "cell_type": "markdown",
   "metadata": {
    "slideshow": {
     "slide_type": "subslide"
    }
   },
   "source": [
    "The 'city' and 'group_name' columns were more technical and involved some outside research.  The groupings below are aimed at linking cities together if they fall within an ideological, religious, environmental or political umbrella in which certain terrorist groups are interested.  For example, some middle-eastern cities are considered to lean more 'Sunni' as opposed to 'Shia', while others are 'split.'  Some South American cities lie within an area experiencing heavy gang activity (such as the Northern Triangle between Mexico and Panama).  Our goal with these groupings was to combine cities whenever they had a common interest factor for terrorist events, in the hopes that it would consolidate their correlation and aid in our predictive models.  \n",
    "\n",
    "These groupings, however, can be improved upon with further in-depth research.  Our time with this project was somewhat limited and there are a handful of regions we were unable to group together or research.  Additionally, our expertise in global terrorism is slight in comparison to those working in the field, which would benefit from an expert team member when creating these filters.  That said, it would be highly interesting to continue improving these classifications, especially given the wealth of information and databases made available by respected international research organizations, which we will list here:"
   ]
  },
  {
   "cell_type": "markdown",
   "metadata": {
    "slideshow": {
     "slide_type": "subslide"
    }
   },
   "source": [
    "Some cities and groups were classified according to their religious leanings:\n",
    "\n",
    "- Some Middle-Eastern cities were grouped under a Sunni/Shia or Sunni/Shia Split category.  These resources were helpful in ascertaining where a city fell with respect to these religious tendencies:\n",
    "-  A New York Times article by Sarah Almukhtar, Sergio Peçanha and Tim Wallace on January 5th, 2016, entitled: __[Behind Stark Political Divisions, a More\n",
    "Complex Map of Sunnis and Shiites.](https://www.nytimes.com/interactive/2016/01/04/world/middleeast/sunni-shiite-map-middle-east-iran-saudi-arabia.html)__\n",
    "- A blog post by Olivier Ypsilantis on August 14th, 2014, entitled: __[Carte religieuse de l’Iran et ses voisins](http://zakhor-online.com/?attachment_id=7932)__.\n",
    "- Max Fisher wrote a great article for Vox on March 26th, 2015 which has a lot of great maps for reference: __[40 maps that explain the Middle East](https://www.vox.com/a/maps-explain-the-middle-east)__\n",
    "The Gulf 2000 Project has a plethora of maps and resources regarding issues in the Middle-East, and specifically this page by Dr. Michael Izady entitled __[Atlas of the Islamic World and Vicinity\n",
    "(Infographs, Maps and Statistics Collection).](http://gulf2000.columbia.edu/maps.shtml)__ Some other maps we used from this site were: - __[A map of West Africa](http://gulf2000.columbia.edu/images/maps/West_Africa_Religion_lg.png)__\n",
    " - __[A map of Libya](http://gulf2000.columbia.edu/images/maps/Libya_Religion_Western_Sector_lg.png)__\n",
    " - __[A Shia territories map](http://gulf2000.columbia.edu/images/maps/ShiasReligionCore_lg.png)__\n",
    "\n",
    "The Crisis Group also has a number of useful resources and articles regarding these topics.  Specifically regarding Colombia and South America, we referenced and article entitled __[Colombia’s Armed Groups Battle for the Spoils of Peace](https://www.crisisgroup.org/latin-america-caribbean/andes/colombia/63-colombias-armed-groups-battle-spoils-peace)__ from Report  63 / Latin America & Caribbean 19 OCTOBER 2017.  There was an interesting map by Mike Shand (International Crisis Group 2017), entitled __[Map of Armed Groups and Coca Crops in Colombia, 2017.](https://www.crisisgroup.org/latin-america-caribbean/andes/colombia/63-colombias-armed-groups-battle-spoils-peace#map-5700-8)__."
   ]
  },
  {
   "cell_type": "markdown",
   "metadata": {
    "slideshow": {
     "slide_type": "subslide"
    }
   },
   "source": [
    "We'll also take this opportunity to list out further databases and resources we used for this project:\n",
    "\n",
    "For 'group_names' we referenced START's resources again (as they have a wealth of resources surrounding the database we used and the elements it describes.  Here, they list the names of __['Big, Allied and Dangerous' terrorist groups,](http://www.start.umd.edu/baad/database)___ which we used as the basis for a majority of our classification.\n",
    "\n",
    "The __[SATP website](http://www.satp.org/conflict-maps/bangladesh)__ was instrumental in gaining insight into Asian conflicts. Within this website, we referenced a specific article regarding the \n",
    "__[Nepalise Maoist conflicts](http://www.satp.org/terrorist-profile/nepal/communist-party-of-nepal-maoist)__, which described their objectives, operating areas, leaders, etc.  Towards the bottom of the page, it includes a ranking by the Nepalese Home Ministry, of areas in Nepal according to their sensitivity to these issues.  We then used this __[map](https://reliefweb.int/map/nepal/nepal-regions-zones-and-districts-cities-april-2015)__ from ReliefWeb to help us locate smaller cities in pertinent areas."
   ]
  },
  {
   "cell_type": "markdown",
   "metadata": {
    "slideshow": {
     "slide_type": "subslide"
    }
   },
   "source": [
    "South America and the Northern Triangle:\n",
    "\n",
    "Again, there are a number of databases and materials available from top-level international organizations.  Regarding the Northern Triangle (namely Guatemala, Honduras, El Salvador) we referenced the following articles:\n",
    " - __[Central America’s Violent Northern Triangle](https://www.cfr.org/backgrounder/central-americas-violent-northern-triangle)__By Rocio Cara Labrador and Danielle Renwick (updated June 26th, 2018) \n",
    " - The Insight Crime Organiztion has a main page for each country involved in frequent conflicts__[such as this one regarding El Salvador](https://www.insightcrime.org/el-salvador-organized-crime-news/)__   \n",
    " - Relief Web also had a variety of resources we used here, specifically a __[main search page](https://reliefweb.int/country/slv)__ for each country that leads to reports, infographics and the like.\n",
    " - The __[Humanitarian Reponse Group](https://www.humanitarianresponse.info/en/infographics)__ also has great resources and infographics.\n",
    " - The __[United Nations Regional Information Centre](https://www.unric.org/en/databases/26912-refugees-humanitarian-affairs-and-migration)__ points to a number of outside resources depending on what one is looking for.\n",
    " - In refrencing hotspots of violence in Guatemala, we used Relief Web's summary on __[Humanitarian Needs Overview for Guatemala in 2017](https://reliefweb.int/sites/reliefweb.int/files/resources/20180315_SUMMARY_HNO%20GT_ENG.pdf)__\n",
    " - Regarding the same of El Salvador, we used Relief Web's __[Map of El Salvador.](https://reliefweb.int/sites/reliefweb.int/files/resources/20180405%20monthly%20humanitarian%20snapshot%20-%20ENG.pdf)__\n",
    " - For Honduras we referred to an article entitled __['Northern Triangle is World's Extortion Hotspot'](https://www.insightcrime.org/news/brief/northern-triangle-world-extortion-hotspot/)__ by Steven Dudley and Michael Lohmuller on JULY 1st, 2015.  This article has a map that was helpful in locating our cities.\n",
    " - Regarding Columbia, we frequently referred to the __[Crisis Group's resources.](https://www.crisisgroup.org/)__ \n",
    "There were two articles in particular we referred to here.  The first was entitled 'Colombia’s Armed Groups Battle for the Spoils of Peace' (which we already referenced above).  The second was a map entitled __['Map of ELN Presence in Colombia in 2012 and 2018, and Expansion between 2012 and 2018'](https://www.crisisgroup.org/latin-america-caribbean/andes/colombia/68-missing-peace-colombias-new-government-and-last-guerrillas#map-6189-1)__ within an article named __['The Missing Peace: Colombia’s New Government and Last Guerrillas'](https://www.crisisgroup.org/latin-america-caribbean/andes/colombia/68-missing-peace-colombias-new-government-and-last-guerrillas)__ from their Report 68 / Latin America & Caribbean on July 12th, 2018."
   ]
  },
  {
   "cell_type": "markdown",
   "metadata": {
    "slideshow": {
     "slide_type": "subslide"
    }
   },
   "source": [
    "Other General References include:\n",
    "\n",
    " - __[Homeland Security Digital Library](https://www.hsdl.org/?collection&id=2167)__\n",
    " - __[U Mass Lowell](https://www.uml.edu/Research/CTSS/Online-Resources.aspx)__ Has a great page with links to further resources.\n",
    " - The Council on Foreign Relations has a page entitled __[Invisible Armies Insurgency Tracker: A Visual History of Guerrilla Warfare From 1775 to 2012 (from April 18th, 2013](https://www.cfr.org/wars-and-warfare/invisible-armies-insurgency-tracker/p29917)__.  As they describe it at the top of the page: \"The interactive Invisible Armies Insurgency Tracker presents a database of insurgencies from 1775 to 2012. It supplements the comprehensive historical narrative in Invisible Armies: An Epic History of Guerrilla Warfare from Ancient Times to the Present, by CFR Senior Fellow Max Boot.\"\n",
    " - West Point has __[The Combating Terrorism Center](https://ctc.usma.edu/regions/middle-east/)__ which is incredibly helpful and insightful with their background information.\n",
    " - __[The Terrorism Research and Analysis Consortium](https://www.trackingterrorism.org/region/afghanistan)__ has a lot of information - mostly private and paid, but one can at least browse the surface of what they offer (we also used some of their 'vulnerable cities' classifications in our cells below)."
   ]
  },
  {
   "cell_type": "markdown",
   "metadata": {
    "slideshow": {
     "slide_type": "skip"
    }
   },
   "source": [
    "##### 1. Defining Categories for Values within 'Sub_targettxt', 'Group_Name' and 'City':"
   ]
  },
  {
   "cell_type": "code",
   "execution_count": 14,
   "metadata": {
    "slideshow": {
     "slide_type": "slide"
    }
   },
   "outputs": [],
   "source": [
    "# Here is the function we will use to take our list of values and replace it with specific group/category names:\n",
    "    # We will do this for each of the test and training sets:\n",
    "    \n",
    "def magic_value_replacer(df, column, variable, string):\n",
    "    \n",
    "    df[column] = df[column].replace(variable, string)\n",
    "    "
   ]
  },
  {
   "cell_type": "markdown",
   "metadata": {
    "slideshow": {
     "slide_type": "skip"
    }
   },
   "source": [
    "###### Sub_targettxt:"
   ]
  },
  {
   "cell_type": "code",
   "execution_count": 15,
   "metadata": {
    "slideshow": {
     "slide_type": "skip"
    }
   },
   "outputs": [],
   "source": [
    "industrial = ['Gas/Oil/Electric', 'Industrial/Textiles/Factory', 'Farm/Ranch', 'Mining', 'Construction']\n",
    "\n",
    "white_collar = ['Restaurant/Bar/Café', 'Bank/Commerce', 'Multinational Corporation', \n",
    "                'Medical/Pharmaceutical', 'Retail/Grocery/Bakery (including cell phone shops and generic shops)', \n",
    "                'Hotel/Resort', 'Entertainment/Cultural/Stadium/Casino', 'Private Security Company/Firm',\n",
    "                'Legal Services', 'Retail/Grocery/Bakery']\n",
    "\n",
    "gov_figure1 = ['Judges/Attorneys/Courts', 'Judge/Attorney/Court', \n",
    "               'Government Personnel (excluding police, military)']\n",
    "\n",
    "gov_figure2 = ['Politician or Political Party Movement/Meeting/Rally', 'Royalty', 'Head of State',\n",
    "               'Election Related', 'Election-related']\n",
    "\n",
    "pol_facilities = ['Police Buildings (Headquarters/Stations/School)', \n",
    "                  'Police Patrol (including vehicles and convoys)', 'Police Checkpoint', 'Prison/Jail', \n",
    "                  'Police Building (headquarters, station, school)']\n",
    "\n",
    "mil_facilities = ['Military Barracks/Base/Headquarters/Checkpost', 'Military Recruiting Station/Academy',\n",
    "                       'Military Weaponry', 'Military Aircraft', 'Military Maritime', 'Paramilitary', \n",
    "                       'Military Transportation/Vehicle (excluding convoys)', 'Military Checkpoint']\n",
    "\n",
    "mil_personnel = ['Military Unit/Patrol/Convoy', 'Non-combatant Personnel', \n",
    "                      'Military Personnel (soldiers, troops, officers, forces)']\n",
    "\n",
    "gov_diplomatic = ['Diplomatic Personnel (outside of embassy, consulate)', 'Embassy/Consulate', 'NATO', \n",
    "                  'International Organization (peacekeeper, aid agency, compound)']\n",
    "\n",
    "educational = ['Teacher/Professor/Instructor', 'School/University/Educational Building', 'Other Personnel']\n",
    "\n",
    "food_water = ['Food Supply', 'Water Supply']\n",
    "\n",
    "internet_comm_information = ['Newspaper Journalist/Staff/Facility', 'Radio Journalist/Staff/Facility', \n",
    "                             'Television Journalist/Staff/Facility', 'Other (including online news agencies)',\n",
    "                             'Radio', 'Internet Infrastructure', 'Television', 'Electricity', \n",
    "                             'Telephone/Telegraph']\n",
    "\n",
    "religious = ['Religion Identified', 'Religious Figure', 'Place of Worship', 'Affiliated Institution']\n",
    "\n",
    "political = ['Protrainer', 'Political Party Member/Rally', 'Party Official/Candidate/Other Personnel', \n",
    "             'Party Office/Facility', 'Rally']\n",
    "\n",
    "mass_socio = ['Refugee (including Camps/IDP/Asylum Seekers)', 'Named Civilian', 'Student', \n",
    "              'Race/Ethnicity Identified', 'Farmer', 'Vehicles/Transportation', 'Marketplace/Plaza/Square', \n",
    "              'Village/City/Town/Suburb', 'House/Apartment/Residence', 'Laborer (General)/Occupation Identified', \n",
    "              'Procession/Gathering (funeral, wedding, birthday, religious)', 'Civilian Maritime',\n",
    "              'Public Areas (e.g., Public garden, parking lot, garage, beach, public buildings, camps)',\n",
    "              'Public Area (garden, parking lot, garage, beach, public building, camp)', 'Port', \n",
    "              'Memorial/Cemetery/Monument', 'Museum/Cultural Center/Cultural House', 'Labor Union Related', \n",
    "              'Tourism Travel Agency', 'Tour Bus/Van/Vehicle', 'Tourist', 'Other Facility', 'Airport',\n",
    "              'train/train Tracks/ Trolley', 'Bus Station/Stop', 'Subway', 'Bridge/Car Tunnel', \n",
    "              'Highway/Road/Toll/Traffic Signal', 'Taxi/Rickshaw', 'Bus (excluding tourists)', \n",
    "              'Commercial Maritime', 'Train/Train Tracks/Trolley', 'Aircraft (not at an airport)', \n",
    "              'Airline Officer/Personnel', 'Aircraft (not at an airport)', \n",
    "              'Demilitarized Zone (including Green Zone)']\n",
    "\n",
    "first_responders = ['Clinics', 'Fire Fighter/Truck', 'Ambulance']\n",
    "\n",
    "other_utilities = [ 'Gas', 'Oil', 'Oil Tanker']"
   ]
  },
  {
   "cell_type": "markdown",
   "metadata": {},
   "source": [
    "###### specific_target:\n",
    "\n",
    "There were some duplicates here that were related to what we are looking for, so I went ahead and combined them in the hopes that they might lead to some more insights."
   ]
  },
  {
   "cell_type": "code",
   "execution_count": 16,
   "metadata": {},
   "outputs": [],
   "source": [
    "cell_tower = ['Cell tower', 'Cell phone tower',  'Cell Tower', 'Cell Phone Tower']\n",
    "polling_areas = ['Polling Station', 'Polling Center', 'Polling Stations', 'Polling Booth']"
   ]
  },
  {
   "cell_type": "markdown",
   "metadata": {},
   "source": [
    "###### Group_name: (Grouping by Ideology, Political Tendencies, Etc.)"
   ]
  },
  {
   "cell_type": "code",
   "execution_count": 17,
   "metadata": {
    "slideshow": {
     "slide_type": "skip"
    }
   },
   "outputs": [],
   "source": [
    "palestinian_separatists = ['Hamas (Islamic Resistance Movement)', 'Palestinian Islamic Jihad (PIJ)',\n",
    "                           'Popular Front for the Liberation of Palestine (PFLP)', 'Popular Resistance Committees',\n",
    "                           'Al-Fatah']\n",
    "\n",
    "militants = ['Militants', 'Gunmen']\n",
    "\n",
    "asian_separatists = ['Abu Sayyaf Group (ASG)', 'Colonel Karuna Faction', 'Eastern Turkistan Islamic Movement (ETIM)',\n",
    "                     'Free Aceh Movement (GAM)', 'Janatantrik Terai Mukti Morcha (Jtmm)', \n",
    "                     'Janatantrik Terai Mukti Morcha- Goit (Jtmm-G)', \n",
    "                     'Janatantrik Terai Mukti Morcha- Jwala Singh (Jtmm-J)',\n",
    "                     'Janatantrik Terai Mukti Morcha- Rajan Mukti (Jtmm-R)',\n",
    "                     'Liberation Tigers of Tamil Eelam (LTTE)', 'Moro Islamic Liberation Front (MILF)',\n",
    "                     'Runda Kumpulan Kecil (Rkk)', 'Terai Army']\n",
    "\n",
    "middle_eastern_separatists = ['Haqqani Network', 'Harkatul Jihad-E-Islami', 'Lashkar-E-Taiba (Let)',\n",
    "                             'Kurdistan Workers\\' Party (PKK)', 'Lashkar-E-Balochistan', 'Chechen Rebels',\n",
    "                             'Free Syrian Army', 'Caucasus Emirate', 'Baloch Republican Army (BRA)',\n",
    "                             'Ansar Al-Islam', 'Kurdistan Free Life Party', 'Baloch Liberation Front (Blf)',\n",
    "                             'Baloch Liberation Army (BLA)', 'Ansar Al-Sharia (Libya)', 'Jaish-E-Mohammad (Jem)',\n",
    "                             'Riyadus-Salikhin Reconnaissance And Sabotage Battalion Of Chechen Martyrs',\n",
    "                             'Hizbul Mujahideen (Hm)', 'Southern Mobility Movement (Yemen)',\n",
    "                             'Supreme Council For Islamic Revolution In Iraq (Sciri)']\n",
    "\n",
    "indian_separatists = ['Dima Halao Daoga (Dhd)', 'Black Widows', 'Garo National Liberation Army',\n",
    "                      'Kangleipak Communist Party (KCP)', 'National Democratic Front of Bodoland (NDFB)',\n",
    "                      'National Liberation Front of Tripura (NLFT)', 'People\\'s Liberation Army (PLA)',\n",
    "                      'United Liberation Front of Assam (ULFA)', 'United National Liberation Front (UNLF)',\n",
    "                      'Karbi Longri North Cachar Liberation Front (Klnlf)', \n",
    "                      'National Socialist Council of Nagaland-Isak-Muivah (NSCN-IM)',\n",
    "                      'People\\'s Revolutionary Party of Kangleipak (PREPAK)']\n",
    "\n",
    "NW_indian_groups = ['Lashkar-e-Jhangvi', 'Sipah-e-Sahaba/Pakistan (SSP)', 'Hizbul Mujahideen (HM)', \n",
    "                    'Baloch Liberation Front (BLF)', 'Baloch Young Tigers (BYT)', 'Baloch Young Tigers (BYT)',\n",
    "                    'Baloch Liberation Army (BLA)', 'Baloch Republican Army (BRA)', 'United Baloch Army (UBA)',\n",
    "                    'Free Balochistan Army (FBA)', 'Baloch Nationalists']\n",
    "\n",
    "SE_indian_groups = ['Communist Party of India - Maoist (CPI-Maoist)', 'Indian Mujahideen', \n",
    "                    'Jama\\'atul Mujahideen Bangladesh (JMB)', 'Bangladesh Sarbahara Party',\n",
    "                    'Purbo Banglar Communist Party', 'Harkatul Jihad-e-Islami',\n",
    "                    'National Socialist Council of Nagaland-Unification (NSCN-U)',\n",
    "                    'Kanglei Yawol Kanna Lup (KYKL)', 'Kuki Tribal Militants', 'Kuki National Front (KNF)',\n",
    "                    'United Kuki Liberation Front (UKLF) - India', 'Hill Tiger Force (HTF)',\n",
    "                    'National Socialist Council of Nagaland-Khaplang (NSCN-K)',\n",
    "                    'National Socialist Council of Nagaland-Isak-Muivah (NSCN-IM)',\n",
    "                    'Hynniewtrep National Liberation Council (HNLC)']\n",
    "\n",
    "african_political = ['National Union for the Total Independence of Angola (UNITA)']\n",
    "\n",
    "irish_separatists = ['Real Irish Republican Army (RIRA)', 'Oglaigh Na Heireann', 'Irish Republican Army (IRA)']\n",
    "\n",
    "FARC_left_right = ['National Liberation Army of Colombia (ELN)', 'Popular Liberation Army (EPL)',\n",
    "                   'Revolutionary Armed Forces of Colombia (FARC)', 'United Self Defense Units of Colombia (AUC)']\n",
    "\n",
    "middle_eastern_religious = ['Al-Gama\\'at Al-Islamiyya (IG)', 'Al-Nusrah Front', 'Al-Qa\\'ida',\n",
    "                            'Al-Qa\\'ida in the Arabian Peninsula (AQAP)', 'Al-Shabaab', 'Ansar Al-Islam',\n",
    "                            'Ansar Al-Sharia (Libya)', 'Al-Qa\\'ida in the Lands of the Islamic Maghreb (AQLIM)',\n",
    "                            'Asa\\'Ib Ahl Al-Haqq', 'Caucasus Emirate', 'Eritrean Islamic Jihad Movement (EIJM)',\n",
    "                            'Great Eastern Islamic Raiders Front (Ibda-C)', 'Hizbul Al Islam (Somalia)',\n",
    "                            'Islamic Courts Union (ICU)', 'Islamic State of Iraq and al Sham (ISIS)',\n",
    "                            'Islamic Movement of Uzbekistan (IMU)', 'Jamiat Ul-Mujahedin (Jum)',\n",
    "                            'Jundallah', 'Mahdi Army', 'Taliban', 'Tehrik-i-Taliban Pakistan (TTP)', \n",
    "                            'Muslim extremists', 'Armed Islamic Group (GIA)', 'Sunni Muslim extremists',\n",
    "                            'Al-Qaida in the Islamic Maghreb (AQIM)', 'Al-Qaida', 'Al-Qaida in Iraq', \n",
    "                            'Islamic State of Iraq and the Levant (ISIL)',\n",
    "                            'Al-Qaida in the Arabian Peninsula (AQAP)']\n",
    "\n",
    "israel_palestine_lebanon = ['Anti-Semitic extremists', 'Hezbollah']\n",
    "\n",
    "asian_african_religious = ['Students Islamic Movement of India (Simi)', 'Ranbir Sena', 'Jemaah Islamiya (JI)', \n",
    "             'Movement for Oneness and Jihad in West Africa (MUJAO)', 'Lord\\'s Resistance Army (LRA)',\n",
    "             'Boko Haram']\n"
   ]
  },
  {
   "cell_type": "markdown",
   "metadata": {},
   "source": [
    "###### City: (Grouping by Predominate Religion, Political Party or Conflict Issue)"
   ]
  },
  {
   "cell_type": "code",
   "execution_count": 18,
   "metadata": {
    "slideshow": {
     "slide_type": "skip"
    }
   },
   "outputs": [],
   "source": [
    "sunni_cities = ['Mosul', 'Kirkuk', 'Sanandaj', 'Ramadi', 'Trabzone', 'Diarbekir', \n",
    "                'Damascus', 'Gwadar', 'Zahedan', 'Kandahar', 'Khiva', 'Fallujah',\n",
    "                'Dakhla', 'Tajura', 'Sabrata', 'Azizia', 'Kasabat', 'Misrata', 'Tripoli',\n",
    "                'Takrit', 'Tikrit']\n",
    "\n",
    "shia_cities = ['Mecca', 'Najaf', 'Karbala', 'Samarra', 'Ahwaz', 'Basra', \n",
    "               'Medina', 'Tabriz', 'Tunceli', 'Zahran', 'Tehran', 'Rasht', 'Bojnurd',\n",
    "               'Hillah', 'Diwania', 'Khalis', 'Dujali', 'Balad', 'Khanaqin', \n",
    "               'Sargodha', 'Dadu', 'Moro']\n",
    "\n",
    "split_cities = ['Kirmanshah', 'Baghdad', 'Kadhimia', 'Kuwait', 'Kars', 'Maras', \n",
    "               'Ankara', 'Sivas', 'Aleppo', 'Beirut', 'Abha', 'Jizan', 'Qazvin',\n",
    "               'Gunbad', 'Ashgabat', 'Mashhad', 'Herat', 'Merv', 'Charju', 'Bukhara',\n",
    "               'Samarkand', 'Mazari Sharif', 'Kandahar', 'Lar', 'Bandar Abbas', 'Dubai', \n",
    "               'Abu Dhabi', 'Tashkent', 'Erzurum', 'Konya', 'Izmir', 'Bursa', 'Istanbul',\n",
    "               'Tarhuna', ]\n",
    "\n",
    "ibadi_cities_libya = ['Nalut', 'Zentan', 'Gharian', 'Dafnia', 'Abu Kammash', 'Zuwara']\n",
    "\n",
    "columbia_eln_cities = ['Riosucio', 'Buenaventura', 'Cali', 'Popayán', 'Bucaramanga',\n",
    "                       'Barrancabermeja', 'Cucuta', 'Santa Rita']\n",
    "\n",
    "maoist_insurgency = ['Bhagalpur', 'Arwal', 'Khagaria', 'Rohtas', 'Kaimur',\n",
    "                       'Bhabua', 'Munger', 'Monghyr', 'Vaishali',\n",
    "                    'Dhanbad', 'Pakur', 'Koderma', 'Palamu', 'Balaghat',\n",
    "                     'Katni', 'Khandwa', 'Rajgarh', 'Shajapur']\n",
    "\n",
    "w_africa_muslim = ['Touba', 'N\\'Djamena', 'Maiduguri', 'Zaria', 'Sokoto', 'Kenema',\n",
    "                   'Cetoua', 'Mopte', 'Bobo-Dioulasso', 'Kayes', 'Monrovia']\n",
    "\n",
    "w_africa_mixed = ['Dogondutchi', 'Niamey', 'Parakou', 'Abuja', 'Kaduna', 'Kankan',\n",
    "                  'Lagos', 'Port Harcourt', 'Couala', 'Yaounde', 'Kumasi', 'Bamako',\n",
    "                  'Bertoua', 'Liberville', 'Port-Gentil', 'Zinder', 'Ouagadougou',\n",
    "                  'Freetown', 'Conakry', 'Bissau', 'Banjul', 'Dakar']\n",
    "\n",
    "w_africa_christian = ['Benin City', 'Onitsha', 'Abidjan', 'Takoradi', 'Accra', 'Lome']\n",
    "\n",
    "\n",
    "# Nepal Maoist Conflict - Class A According to SATP\n",
    "Nepal_maoist_A = ['Musikot', 'Rukumkot', 'Jajarkot District', 'Salyan', 'Pyuthan', 'Gajul', 'Rank', 'Budagaun',\n",
    "                  'Kalikot District', 'Rolpa', 'Rolpa District', 'Rukum District', 'Khalanga']\n",
    "\n",
    "# Nepal Maoist Conflict - Class B According to SATP\n",
    "Nepal_maoist_B = ['Charikot', 'Dolakha', 'Jiri', 'Ramechhap', 'Sindhuli Garhi', 'Sindhuli District', 'Dhungrebas',\n",
    "                  'Panaoti', 'Gorkha', 'Tulsipur', 'Ghorahi', 'Surkhet', 'Birendranagar',\n",
    "                  'Accham', 'Kamal Bajar', 'Dang', 'Dang District']\n",
    "\n",
    "# Nepal Maoist Conflict - Class C According to SATP\n",
    "Nepal_maoist_C = ['Khotang Bajar', 'Khotang District', 'Khandanda', 'Okhaldhunga', 'Rumjatar', 'Udayapur Garhi',\n",
    "                  'Rasuwa District', 'Gaighat', 'Hitura', 'Makwanpur Garhi', 'Patan', 'Baglung', 'Dhorpatan',\n",
    "                  'Bardiya', 'Gulariya', 'Dailekh', 'Dailekh District', 'Jumla', 'Dhading District', \n",
    "                  'Udayapur District', 'Lalitpur', 'Hetauda', 'Gulariya']\n",
    "\n",
    "\n",
    "# N_Triangle_S.America:\n",
    "northern_triangle = ['Tegucigalpa', 'San Pedro Sula', 'Guatemala City', 'Villa Nueva', 'Villa Canales', \n",
    "                     'Mixco', 'San Jan Sacatepequez', 'Chinautla', 'Escuintla', 'Jalapa', 'Puerto Barrios', \n",
    "                     'Morales', 'La Libertad', 'Nueva Concepcion', 'Metapan', 'Acajutla', 'Sonsonate',\n",
    "                     'Izalco', 'San Salvador', 'Apopa', 'Zaragoza', 'Colon', 'Santa Tecla', 'Usulutan',\n",
    "                     'San Miguel', 'La Union']\n"
   ]
  },
  {
   "cell_type": "markdown",
   "metadata": {
    "slideshow": {
     "slide_type": "skip"
    }
   },
   "source": [
    "##### 2. Implementing the Filtering Function:"
   ]
  },
  {
   "cell_type": "markdown",
   "metadata": {
    "slideshow": {
     "slide_type": "skip"
    }
   },
   "source": [
    "###### Sub_targettxt:"
   ]
  },
  {
   "cell_type": "code",
   "execution_count": 19,
   "metadata": {},
   "outputs": [],
   "source": [
    "magic_value_replacer(cyber_train_X, 'sub_targettxt', industrial, 'Industrial')\n",
    "magic_value_replacer(cyber_train_X, 'sub_targettxt', white_collar, 'White_collar')\n",
    "magic_value_replacer(cyber_train_X, 'sub_targettxt', gov_figure1, 'Gov_Figure1')\n",
    "magic_value_replacer(cyber_train_X, 'sub_targettxt', gov_figure2, 'Gov_Figure2')\n",
    "magic_value_replacer(cyber_train_X, 'sub_targettxt', pol_facilities, 'Police_Facilities')\n",
    "magic_value_replacer(cyber_train_X, 'sub_targettxt', mil_facilities, 'Military_Facilities')\n",
    "magic_value_replacer(cyber_train_X, 'sub_targettxt', mil_personnel, 'Military_Personnel')\n",
    "magic_value_replacer(cyber_train_X, 'sub_targettxt', gov_diplomatic, 'Gov_Diplomatic')\n",
    "magic_value_replacer(cyber_train_X, 'sub_targettxt', educational, 'Educational')\n",
    "magic_value_replacer(cyber_train_X, 'sub_targettxt', food_water, 'Food_Water')\n",
    "# magic_value_replacer(cyber_train_X, 'sub_targettxt', internet_comm_information, 'Info/Comm/Internet')\n",
    "magic_value_replacer(cyber_train_X, 'sub_targettxt', religious, 'Religious')\n",
    "magic_value_replacer(cyber_train_X, 'sub_targettxt', political, 'Political')\n",
    "magic_value_replacer(cyber_train_X, 'sub_targettxt', mass_socio, 'Mass_Socio')\n",
    "magic_value_replacer(cyber_train_X, 'sub_targettxt', first_responders, 'First_Responders')\n",
    "magic_value_replacer(cyber_train_X, 'sub_targettxt', other_utilities, 'Other_Utilities')"
   ]
  },
  {
   "cell_type": "code",
   "execution_count": 20,
   "metadata": {},
   "outputs": [],
   "source": [
    "magic_value_replacer(cyber_test_X, 'sub_targettxt', industrial, 'Industrial')\n",
    "magic_value_replacer(cyber_test_X, 'sub_targettxt', white_collar, 'White_collar')\n",
    "magic_value_replacer(cyber_test_X, 'sub_targettxt', gov_figure1, 'Gov_Figure1')\n",
    "magic_value_replacer(cyber_test_X, 'sub_targettxt', gov_figure2, 'Gov_Figure2')\n",
    "magic_value_replacer(cyber_test_X, 'sub_targettxt', pol_facilities, 'Police_Facilities')\n",
    "magic_value_replacer(cyber_test_X, 'sub_targettxt', mil_facilities, 'Military_Facilities')\n",
    "magic_value_replacer(cyber_test_X, 'sub_targettxt', mil_personnel, 'Military_Personnel')\n",
    "magic_value_replacer(cyber_test_X, 'sub_targettxt', gov_diplomatic, 'Gov_Diplomatic')\n",
    "magic_value_replacer(cyber_test_X, 'sub_targettxt', educational, 'Educational')\n",
    "magic_value_replacer(cyber_test_X, 'sub_targettxt', food_water, 'Food_Water')\n",
    "# magic_value_replacer(cyber_test_X, 'sub_targettxt', internet_comm_information, 'Info/Comm/Internet')\n",
    "magic_value_replacer(cyber_test_X, 'sub_targettxt', religious, 'Religious')\n",
    "magic_value_replacer(cyber_test_X, 'sub_targettxt', political, 'Political')\n",
    "magic_value_replacer(cyber_test_X, 'sub_targettxt', mass_socio, 'Mass_Socio')\n",
    "magic_value_replacer(cyber_test_X, 'sub_targettxt', first_responders, 'First_Responders')\n",
    "magic_value_replacer(cyber_test_X, 'sub_targettxt', other_utilities, 'Other_Utilities')"
   ]
  },
  {
   "cell_type": "markdown",
   "metadata": {},
   "source": [
    "###### Specific_target: "
   ]
  },
  {
   "cell_type": "code",
   "execution_count": 21,
   "metadata": {},
   "outputs": [],
   "source": [
    "magic_value_replacer(cyber_train_X, 'specific_target', cell_tower, 'Cell_tower')\n",
    "magic_value_replacer(cyber_train_X, 'specific_target', polling_areas, 'Polling_Areas')\n",
    "\n",
    "magic_value_replacer(cyber_test_X, 'specific_target', cell_tower, 'Cell_tower')\n",
    "magic_value_replacer(cyber_test_X, 'specific_target', polling_areas, 'Polling_Areas')"
   ]
  },
  {
   "cell_type": "markdown",
   "metadata": {},
   "source": [
    "###### Group_name: (Grouping by Ideology, Political Tendencies, Etc.)"
   ]
  },
  {
   "cell_type": "code",
   "execution_count": 22,
   "metadata": {},
   "outputs": [],
   "source": [
    "magic_value_replacer(cyber_train_X, 'group_name', palestinian_separatists, 'Palestinian_Separatists')\n",
    "magic_value_replacer(cyber_train_X, 'group_name', militants, 'Militants')\n",
    "magic_value_replacer(cyber_train_X, 'group_name', asian_separatists, 'Asian_Separatists')\n",
    "magic_value_replacer(cyber_train_X, 'group_name', middle_eastern_separatists, 'Middle_Eastern_Separatists')\n",
    "magic_value_replacer(cyber_train_X, 'group_name', indian_separatists, 'Indian_Separatists')\n",
    "magic_value_replacer(cyber_train_X, 'group_name', NW_indian_groups, 'NW_Indian_Groups')\n",
    "magic_value_replacer(cyber_train_X, 'group_name', SE_indian_groups, 'NW_Indian_Groups')\n",
    "magic_value_replacer(cyber_train_X, 'group_name', african_political, 'African_Political')\n",
    "magic_value_replacer(cyber_train_X, 'group_name', irish_separatists, 'Irish_Separatists')\n",
    "magic_value_replacer(cyber_train_X, 'group_name', FARC_left_right, 'FARC_left_right')\n",
    "magic_value_replacer(cyber_train_X, 'group_name', middle_eastern_religious, 'Middle_Eastern_Religious')\n",
    "magic_value_replacer(cyber_train_X, 'group_name', israel_palestine_lebanon, 'Israel_Palestinian_Lebanon')\n",
    "magic_value_replacer(cyber_train_X, 'group_name', asian_african_religious, 'Asian_African_Religious')"
   ]
  },
  {
   "cell_type": "code",
   "execution_count": 23,
   "metadata": {},
   "outputs": [],
   "source": [
    "magic_value_replacer(cyber_test_X, 'group_name', palestinian_separatists, 'Palestinian_Separatists')\n",
    "magic_value_replacer(cyber_test_X, 'group_name', militants, 'Militants')\n",
    "magic_value_replacer(cyber_test_X, 'group_name', asian_separatists, 'Asian_Separatists')\n",
    "magic_value_replacer(cyber_test_X, 'group_name', middle_eastern_separatists, 'Middle_Eastern_Separatists')\n",
    "magic_value_replacer(cyber_test_X, 'group_name', indian_separatists, 'Indian_Separatists')\n",
    "magic_value_replacer(cyber_test_X, 'group_name', NW_indian_groups, 'NW_Indian_Groups')\n",
    "magic_value_replacer(cyber_test_X, 'group_name', SE_indian_groups, 'NW_Indian_Groups')\n",
    "magic_value_replacer(cyber_test_X, 'group_name', african_political, 'African_Political')\n",
    "magic_value_replacer(cyber_test_X, 'group_name', irish_separatists, 'Irish_Separatists')\n",
    "magic_value_replacer(cyber_test_X, 'group_name', FARC_left_right, 'FARC_left_right')\n",
    "magic_value_replacer(cyber_test_X, 'group_name', middle_eastern_religious, 'Middle_Eastern_Religious')\n",
    "magic_value_replacer(cyber_test_X, 'group_name', israel_palestine_lebanon, 'Israel_Palestinian_Lebanon')\n",
    "magic_value_replacer(cyber_test_X, 'group_name', asian_african_religious, 'Asian_African_Religious')"
   ]
  },
  {
   "cell_type": "markdown",
   "metadata": {},
   "source": [
    "###### City: (Grouping by Predominate Religion, Political Party or Conflict Issue)"
   ]
  },
  {
   "cell_type": "code",
   "execution_count": 24,
   "metadata": {},
   "outputs": [],
   "source": [
    "magic_value_replacer(cyber_train_X, 'city', sunni_cities, 'Sunni_Cities')\n",
    "magic_value_replacer(cyber_train_X, 'city', shia_cities, 'Shia_Cities')\n",
    "magic_value_replacer(cyber_train_X, 'city', split_cities, 'Split_Cities')\n",
    "magic_value_replacer(cyber_train_X, 'city', ibadi_cities_libya, 'Ibadi_Cities_Libya')\n",
    "magic_value_replacer(cyber_train_X, 'city', columbia_eln_cities, 'Columbia_ELN_Cities')\n",
    "magic_value_replacer(cyber_train_X, 'city', maoist_insurgency, 'Maoist_Insurgency')\n",
    "magic_value_replacer(cyber_train_X, 'city', w_africa_muslim, 'W_Africa_muslim')\n",
    "magic_value_replacer(cyber_train_X, 'city', w_africa_mixed, 'W_Africa_mixed')\n",
    "magic_value_replacer(cyber_train_X, 'city', w_africa_christian, 'W_Africa_christian')\n",
    "magic_value_replacer(cyber_train_X, 'city', Nepal_maoist_A, 'Nepal_Maoist_A')\n",
    "magic_value_replacer(cyber_train_X, 'city', Nepal_maoist_B, 'Nepal_Maoist_B')\n",
    "magic_value_replacer(cyber_train_X, 'city', Nepal_maoist_C, 'Nepal_Maoist_C')\n",
    "magic_value_replacer(cyber_train_X, 'city', northern_triangle, 'Northern_Triangle')"
   ]
  },
  {
   "cell_type": "code",
   "execution_count": 25,
   "metadata": {},
   "outputs": [],
   "source": [
    "magic_value_replacer(cyber_test_X, 'city', sunni_cities, 'Sunni_Cities')\n",
    "magic_value_replacer(cyber_test_X, 'city', shia_cities, 'Shia_Cities')\n",
    "magic_value_replacer(cyber_test_X, 'city', split_cities, 'Split_Cities')\n",
    "magic_value_replacer(cyber_test_X, 'city', ibadi_cities_libya, 'Ibadi_Cities_Libya')\n",
    "magic_value_replacer(cyber_test_X, 'city', columbia_eln_cities, 'Columbia_ELN_Cities')\n",
    "magic_value_replacer(cyber_test_X, 'city', maoist_insurgency, 'Maoist_Insurgency')\n",
    "magic_value_replacer(cyber_test_X, 'city', w_africa_muslim, 'W_Africa_muslim')\n",
    "magic_value_replacer(cyber_test_X, 'city', w_africa_mixed, 'W_Africa_mixed')\n",
    "magic_value_replacer(cyber_test_X, 'city', w_africa_christian, 'W_Africa_christian')\n",
    "magic_value_replacer(cyber_test_X, 'city', Nepal_maoist_A, 'Nepal_Maoist_A')\n",
    "magic_value_replacer(cyber_test_X, 'city', Nepal_maoist_B, 'Nepal_Maoist_B')\n",
    "magic_value_replacer(cyber_test_X, 'city', Nepal_maoist_C, 'Nepal_Maoist_C')\n",
    "magic_value_replacer(cyber_test_X, 'city', northern_triangle, 'Northern_Triangle')"
   ]
  },
  {
   "cell_type": "code",
   "execution_count": 26,
   "metadata": {
    "slideshow": {
     "slide_type": "skip"
    }
   },
   "outputs": [
    {
     "data": {
      "text/plain": [
       "0"
      ]
     },
     "execution_count": 26,
     "metadata": {},
     "output_type": "execute_result"
    }
   ],
   "source": [
    "# Mitigating some memory issues:\n",
    "\n",
    "del industrial, white_collar, gov_figure1, gov_figure2, pol_facilities, mil_facilities, mil_personnel\n",
    "del gov_diplomatic, educational, food_water, internet_comm_information, religious, political, mass_socio, \n",
    "del sunni_cities, shia_cities, split_cities, ibadi_cities_libya, columbia_eln_cities, maoist_insurgency\n",
    "del w_africa_muslim, w_africa_mixed, w_africa_christian, Nepal_maoist_A, Nepal_maoist_B, Nepal_maoist_C\n",
    "del northern_triangle, african_political, asian_separatists, middle_eastern_separatists, first_responders\n",
    "del FARC_left_right, middle_eastern_religious, israel_palestine_lebanon, asian_african_religious, militants\n",
    "del indian_separatists, NW_indian_groups, SE_indian_groups, irish_separatists, palestinian_separatists, \n",
    "del other_utilities, cell_tower, polling_areas\n",
    "\n",
    "gc.collect()"
   ]
  },
  {
   "cell_type": "code",
   "execution_count": 27,
   "metadata": {},
   "outputs": [
    {
     "data": {
      "text/plain": [
       "[('cyber_data', 10429396),\n",
       " ('cyber_train_X', 4918774),\n",
       " ('cyber_test_X', 1640392),\n",
       " ('cyber_train_Y', 84584),\n",
       " ('X_train_start_index', 42304),\n",
       " ('cyber_test_Y', 28216),\n",
       " ('X_test_start_index', 14120),\n",
       " ('cross_val_score', 136),\n",
       " ('magic_value_replacer', 136),\n",
       " ('train_test_split', 136),\n",
       " ('np', 80),\n",
       " ('pd', 80),\n",
       " ('plt', 80),\n",
       " ('skl', 80),\n",
       " ('sns', 80),\n",
       " ('mid_len_1', 64),\n",
       " ('start_len', 64)]"
      ]
     },
     "execution_count": 27,
     "metadata": {},
     "output_type": "execute_result"
    }
   ],
   "source": [
    "ipython_vars = ['In', 'Out', 'exit', 'quit', 'get_ipython', 'ipython_vars']\n",
    "\n",
    "cleaner = sorted([(x, sys.getsizeof(globals().get(x))) for x in dir() if not x.startswith('_') and x not in sys.modules and x not in ipython_vars], \n",
    "                 key=lambda x: x[1], reverse=True)\n",
    "cleaner"
   ]
  },
  {
   "cell_type": "markdown",
   "metadata": {
    "slideshow": {
     "slide_type": "slide"
    }
   },
   "source": [
    "### 2. Preliminary Visualizations and Exploration:\n",
    "\n",
    "Here we take a look at some of the correlations and relationships between our features/columns and see what we might want to focus on with our models."
   ]
  },
  {
   "cell_type": "code",
   "execution_count": 28,
   "metadata": {},
   "outputs": [
    {
     "data": {
      "text/html": [
       "<div>\n",
       "<style scoped>\n",
       "    .dataframe tbody tr th:only-of-type {\n",
       "        vertical-align: middle;\n",
       "    }\n",
       "\n",
       "    .dataframe tbody tr th {\n",
       "        vertical-align: top;\n",
       "    }\n",
       "\n",
       "    .dataframe thead th {\n",
       "        text-align: right;\n",
       "    }\n",
       "</style>\n",
       "<table border=\"1\" class=\"dataframe\">\n",
       "  <thead>\n",
       "    <tr style=\"text-align: right;\">\n",
       "      <th></th>\n",
       "      <th>country_txt</th>\n",
       "      <th>region_txt</th>\n",
       "      <th>city</th>\n",
       "      <th>crit1</th>\n",
       "      <th>crit2</th>\n",
       "      <th>crit3</th>\n",
       "      <th>doubt</th>\n",
       "      <th>suicide</th>\n",
       "      <th>attack_1txt</th>\n",
       "      <th>target_1txt</th>\n",
       "      <th>sub_targettxt</th>\n",
       "      <th>corp1</th>\n",
       "      <th>specific_target</th>\n",
       "      <th>victim_nationalitytxt</th>\n",
       "      <th>group_name</th>\n",
       "      <th>group_attrib_crtainty</th>\n",
       "      <th>unaffil_individ</th>\n",
       "      <th>weapontxt</th>\n",
       "      <th>sub_weapontxt</th>\n",
       "    </tr>\n",
       "  </thead>\n",
       "  <tbody>\n",
       "    <tr>\n",
       "      <th>count</th>\n",
       "      <td>5285</td>\n",
       "      <td>5285</td>\n",
       "      <td>5285</td>\n",
       "      <td>5285.000000</td>\n",
       "      <td>5285.000000</td>\n",
       "      <td>5285.000000</td>\n",
       "      <td>5285.000000</td>\n",
       "      <td>5285.000000</td>\n",
       "      <td>5285</td>\n",
       "      <td>5285</td>\n",
       "      <td>5285</td>\n",
       "      <td>5285</td>\n",
       "      <td>5285</td>\n",
       "      <td>5285</td>\n",
       "      <td>5285</td>\n",
       "      <td>5285.000000</td>\n",
       "      <td>5285.000000</td>\n",
       "      <td>5285</td>\n",
       "      <td>5285</td>\n",
       "    </tr>\n",
       "    <tr>\n",
       "      <th>unique</th>\n",
       "      <td>109</td>\n",
       "      <td>12</td>\n",
       "      <td>2534</td>\n",
       "      <td>NaN</td>\n",
       "      <td>NaN</td>\n",
       "      <td>NaN</td>\n",
       "      <td>NaN</td>\n",
       "      <td>NaN</td>\n",
       "      <td>9</td>\n",
       "      <td>21</td>\n",
       "      <td>34</td>\n",
       "      <td>1865</td>\n",
       "      <td>3234</td>\n",
       "      <td>125</td>\n",
       "      <td>282</td>\n",
       "      <td>NaN</td>\n",
       "      <td>NaN</td>\n",
       "      <td>5</td>\n",
       "      <td>29</td>\n",
       "    </tr>\n",
       "    <tr>\n",
       "      <th>top</th>\n",
       "      <td>Iraq</td>\n",
       "      <td>South Asia</td>\n",
       "      <td>Split_Cities</td>\n",
       "      <td>NaN</td>\n",
       "      <td>NaN</td>\n",
       "      <td>NaN</td>\n",
       "      <td>NaN</td>\n",
       "      <td>NaN</td>\n",
       "      <td>Bombing/Explosion</td>\n",
       "      <td>Private Citizens &amp; Property</td>\n",
       "      <td>Mass_Socio</td>\n",
       "      <td>Not Applicable</td>\n",
       "      <td>Civilians</td>\n",
       "      <td>Iraq</td>\n",
       "      <td>Unknown</td>\n",
       "      <td>NaN</td>\n",
       "      <td>NaN</td>\n",
       "      <td>Explosives</td>\n",
       "      <td>Unknown Explosive Type</td>\n",
       "    </tr>\n",
       "    <tr>\n",
       "      <th>freq</th>\n",
       "      <td>1301</td>\n",
       "      <td>2100</td>\n",
       "      <td>359</td>\n",
       "      <td>NaN</td>\n",
       "      <td>NaN</td>\n",
       "      <td>NaN</td>\n",
       "      <td>NaN</td>\n",
       "      <td>NaN</td>\n",
       "      <td>3073</td>\n",
       "      <td>1426</td>\n",
       "      <td>772</td>\n",
       "      <td>823</td>\n",
       "      <td>292</td>\n",
       "      <td>1248</td>\n",
       "      <td>2973</td>\n",
       "      <td>NaN</td>\n",
       "      <td>NaN</td>\n",
       "      <td>3378</td>\n",
       "      <td>1804</td>\n",
       "    </tr>\n",
       "    <tr>\n",
       "      <th>mean</th>\n",
       "      <td>NaN</td>\n",
       "      <td>NaN</td>\n",
       "      <td>NaN</td>\n",
       "      <td>0.989593</td>\n",
       "      <td>0.993377</td>\n",
       "      <td>0.885525</td>\n",
       "      <td>0.162157</td>\n",
       "      <td>0.029328</td>\n",
       "      <td>NaN</td>\n",
       "      <td>NaN</td>\n",
       "      <td>NaN</td>\n",
       "      <td>NaN</td>\n",
       "      <td>NaN</td>\n",
       "      <td>NaN</td>\n",
       "      <td>NaN</td>\n",
       "      <td>0.099905</td>\n",
       "      <td>0.004730</td>\n",
       "      <td>NaN</td>\n",
       "      <td>NaN</td>\n",
       "    </tr>\n",
       "    <tr>\n",
       "      <th>std</th>\n",
       "      <td>NaN</td>\n",
       "      <td>NaN</td>\n",
       "      <td>NaN</td>\n",
       "      <td>0.101491</td>\n",
       "      <td>0.081117</td>\n",
       "      <td>0.318417</td>\n",
       "      <td>0.368630</td>\n",
       "      <td>0.168741</td>\n",
       "      <td>NaN</td>\n",
       "      <td>NaN</td>\n",
       "      <td>NaN</td>\n",
       "      <td>NaN</td>\n",
       "      <td>NaN</td>\n",
       "      <td>NaN</td>\n",
       "      <td>NaN</td>\n",
       "      <td>0.299902</td>\n",
       "      <td>0.068621</td>\n",
       "      <td>NaN</td>\n",
       "      <td>NaN</td>\n",
       "    </tr>\n",
       "    <tr>\n",
       "      <th>min</th>\n",
       "      <td>NaN</td>\n",
       "      <td>NaN</td>\n",
       "      <td>NaN</td>\n",
       "      <td>0.000000</td>\n",
       "      <td>0.000000</td>\n",
       "      <td>0.000000</td>\n",
       "      <td>0.000000</td>\n",
       "      <td>0.000000</td>\n",
       "      <td>NaN</td>\n",
       "      <td>NaN</td>\n",
       "      <td>NaN</td>\n",
       "      <td>NaN</td>\n",
       "      <td>NaN</td>\n",
       "      <td>NaN</td>\n",
       "      <td>NaN</td>\n",
       "      <td>0.000000</td>\n",
       "      <td>0.000000</td>\n",
       "      <td>NaN</td>\n",
       "      <td>NaN</td>\n",
       "    </tr>\n",
       "    <tr>\n",
       "      <th>25%</th>\n",
       "      <td>NaN</td>\n",
       "      <td>NaN</td>\n",
       "      <td>NaN</td>\n",
       "      <td>1.000000</td>\n",
       "      <td>1.000000</td>\n",
       "      <td>1.000000</td>\n",
       "      <td>0.000000</td>\n",
       "      <td>0.000000</td>\n",
       "      <td>NaN</td>\n",
       "      <td>NaN</td>\n",
       "      <td>NaN</td>\n",
       "      <td>NaN</td>\n",
       "      <td>NaN</td>\n",
       "      <td>NaN</td>\n",
       "      <td>NaN</td>\n",
       "      <td>0.000000</td>\n",
       "      <td>0.000000</td>\n",
       "      <td>NaN</td>\n",
       "      <td>NaN</td>\n",
       "    </tr>\n",
       "    <tr>\n",
       "      <th>50%</th>\n",
       "      <td>NaN</td>\n",
       "      <td>NaN</td>\n",
       "      <td>NaN</td>\n",
       "      <td>1.000000</td>\n",
       "      <td>1.000000</td>\n",
       "      <td>1.000000</td>\n",
       "      <td>0.000000</td>\n",
       "      <td>0.000000</td>\n",
       "      <td>NaN</td>\n",
       "      <td>NaN</td>\n",
       "      <td>NaN</td>\n",
       "      <td>NaN</td>\n",
       "      <td>NaN</td>\n",
       "      <td>NaN</td>\n",
       "      <td>NaN</td>\n",
       "      <td>0.000000</td>\n",
       "      <td>0.000000</td>\n",
       "      <td>NaN</td>\n",
       "      <td>NaN</td>\n",
       "    </tr>\n",
       "    <tr>\n",
       "      <th>75%</th>\n",
       "      <td>NaN</td>\n",
       "      <td>NaN</td>\n",
       "      <td>NaN</td>\n",
       "      <td>1.000000</td>\n",
       "      <td>1.000000</td>\n",
       "      <td>1.000000</td>\n",
       "      <td>0.000000</td>\n",
       "      <td>0.000000</td>\n",
       "      <td>NaN</td>\n",
       "      <td>NaN</td>\n",
       "      <td>NaN</td>\n",
       "      <td>NaN</td>\n",
       "      <td>NaN</td>\n",
       "      <td>NaN</td>\n",
       "      <td>NaN</td>\n",
       "      <td>0.000000</td>\n",
       "      <td>0.000000</td>\n",
       "      <td>NaN</td>\n",
       "      <td>NaN</td>\n",
       "    </tr>\n",
       "    <tr>\n",
       "      <th>max</th>\n",
       "      <td>NaN</td>\n",
       "      <td>NaN</td>\n",
       "      <td>NaN</td>\n",
       "      <td>1.000000</td>\n",
       "      <td>1.000000</td>\n",
       "      <td>1.000000</td>\n",
       "      <td>1.000000</td>\n",
       "      <td>1.000000</td>\n",
       "      <td>NaN</td>\n",
       "      <td>NaN</td>\n",
       "      <td>NaN</td>\n",
       "      <td>NaN</td>\n",
       "      <td>NaN</td>\n",
       "      <td>NaN</td>\n",
       "      <td>NaN</td>\n",
       "      <td>1.000000</td>\n",
       "      <td>1.000000</td>\n",
       "      <td>NaN</td>\n",
       "      <td>NaN</td>\n",
       "    </tr>\n",
       "  </tbody>\n",
       "</table>\n",
       "</div>"
      ],
      "text/plain": [
       "       country_txt  region_txt          city        crit1        crit2  \\\n",
       "count         5285        5285          5285  5285.000000  5285.000000   \n",
       "unique         109          12          2534          NaN          NaN   \n",
       "top           Iraq  South Asia  Split_Cities          NaN          NaN   \n",
       "freq          1301        2100           359          NaN          NaN   \n",
       "mean           NaN         NaN           NaN     0.989593     0.993377   \n",
       "std            NaN         NaN           NaN     0.101491     0.081117   \n",
       "min            NaN         NaN           NaN     0.000000     0.000000   \n",
       "25%            NaN         NaN           NaN     1.000000     1.000000   \n",
       "50%            NaN         NaN           NaN     1.000000     1.000000   \n",
       "75%            NaN         NaN           NaN     1.000000     1.000000   \n",
       "max            NaN         NaN           NaN     1.000000     1.000000   \n",
       "\n",
       "              crit3        doubt      suicide        attack_1txt  \\\n",
       "count   5285.000000  5285.000000  5285.000000               5285   \n",
       "unique          NaN          NaN          NaN                  9   \n",
       "top             NaN          NaN          NaN  Bombing/Explosion   \n",
       "freq            NaN          NaN          NaN               3073   \n",
       "mean       0.885525     0.162157     0.029328                NaN   \n",
       "std        0.318417     0.368630     0.168741                NaN   \n",
       "min        0.000000     0.000000     0.000000                NaN   \n",
       "25%        1.000000     0.000000     0.000000                NaN   \n",
       "50%        1.000000     0.000000     0.000000                NaN   \n",
       "75%        1.000000     0.000000     0.000000                NaN   \n",
       "max        1.000000     1.000000     1.000000                NaN   \n",
       "\n",
       "                        target_1txt sub_targettxt           corp1  \\\n",
       "count                          5285          5285            5285   \n",
       "unique                           21            34            1865   \n",
       "top     Private Citizens & Property    Mass_Socio  Not Applicable   \n",
       "freq                           1426           772             823   \n",
       "mean                            NaN           NaN             NaN   \n",
       "std                             NaN           NaN             NaN   \n",
       "min                             NaN           NaN             NaN   \n",
       "25%                             NaN           NaN             NaN   \n",
       "50%                             NaN           NaN             NaN   \n",
       "75%                             NaN           NaN             NaN   \n",
       "max                             NaN           NaN             NaN   \n",
       "\n",
       "       specific_target victim_nationalitytxt group_name  \\\n",
       "count             5285                  5285       5285   \n",
       "unique            3234                   125        282   \n",
       "top          Civilians                  Iraq    Unknown   \n",
       "freq               292                  1248       2973   \n",
       "mean               NaN                   NaN        NaN   \n",
       "std                NaN                   NaN        NaN   \n",
       "min                NaN                   NaN        NaN   \n",
       "25%                NaN                   NaN        NaN   \n",
       "50%                NaN                   NaN        NaN   \n",
       "75%                NaN                   NaN        NaN   \n",
       "max                NaN                   NaN        NaN   \n",
       "\n",
       "        group_attrib_crtainty  unaffil_individ   weapontxt  \\\n",
       "count             5285.000000      5285.000000        5285   \n",
       "unique                    NaN              NaN           5   \n",
       "top                       NaN              NaN  Explosives   \n",
       "freq                      NaN              NaN        3378   \n",
       "mean                 0.099905         0.004730         NaN   \n",
       "std                  0.299902         0.068621         NaN   \n",
       "min                  0.000000         0.000000         NaN   \n",
       "25%                  0.000000         0.000000         NaN   \n",
       "50%                  0.000000         0.000000         NaN   \n",
       "75%                  0.000000         0.000000         NaN   \n",
       "max                  1.000000         1.000000         NaN   \n",
       "\n",
       "                 sub_weapontxt  \n",
       "count                     5285  \n",
       "unique                      29  \n",
       "top     Unknown Explosive Type  \n",
       "freq                      1804  \n",
       "mean                       NaN  \n",
       "std                        NaN  \n",
       "min                        NaN  \n",
       "25%                        NaN  \n",
       "50%                        NaN  \n",
       "75%                        NaN  \n",
       "max                        NaN  "
      ]
     },
     "execution_count": 28,
     "metadata": {},
     "output_type": "execute_result"
    }
   ],
   "source": [
    "pd.set_option('max_columns', 25)\n",
    "cyber_train_X.describe(include = 'all')"
   ]
  },
  {
   "cell_type": "code",
   "execution_count": 29,
   "metadata": {},
   "outputs": [
    {
     "data": {
      "text/plain": [
       "1    4830\n",
       "0     455\n",
       "Name: success, dtype: int64"
      ]
     },
     "execution_count": 29,
     "metadata": {},
     "output_type": "execute_result"
    }
   ],
   "source": [
    "cyber_train_Y['success'].value_counts()"
   ]
  },
  {
   "cell_type": "code",
   "execution_count": 30,
   "metadata": {},
   "outputs": [
    {
     "data": {
      "text/plain": [
       "Mass_Socio                                245\n",
       "Military_Personnel                        193\n",
       "Gov_Figure2                               168\n",
       "Police_Facilities                         154\n",
       "Unnamed Civilian/Unspecified              147\n",
       "Gov_Figure1                               147\n",
       "Police Security Forces/Officers           144\n",
       "Political                                 105\n",
       "Military_Facilities                        72\n",
       "Educational                                52\n",
       "White_collar                               49\n",
       "Alleged Informant                          46\n",
       "Gov_Diplomatic                             39\n",
       "Industrial                                 37\n",
       "Government Building/Facility/Office        33\n",
       "Religious                                  32\n",
       "Non-State Militia                          25\n",
       "Newspaper Journalist/Staff/Facility        13\n",
       "Intelligence                               13\n",
       "Television Journalist/Staff/Facility        8\n",
       "International NGO                           7\n",
       "Terrorist                                   7\n",
       "Other_Utilities                             6\n",
       "Domestic NGO                                5\n",
       "Radio Journalist/Staff/Facility             4\n",
       "Electricity                                 3\n",
       "Telephone/Telegraph                         3\n",
       "Protester                                   3\n",
       "Food_Water                                  1\n",
       "Other (including online news agencies)      1\n",
       "Name: sub_targettxt, dtype: int64"
      ]
     },
     "execution_count": 30,
     "metadata": {},
     "output_type": "execute_result"
    }
   ],
   "source": [
    "pd.set_option('max_rows', 110)\n",
    "cyber_test_X['sub_targettxt'].value_counts()"
   ]
  },
  {
   "cell_type": "code",
   "execution_count": 31,
   "metadata": {},
   "outputs": [
    {
     "data": {
      "text/html": [
       "<div>\n",
       "<style scoped>\n",
       "    .dataframe tbody tr th:only-of-type {\n",
       "        vertical-align: middle;\n",
       "    }\n",
       "\n",
       "    .dataframe tbody tr th {\n",
       "        vertical-align: top;\n",
       "    }\n",
       "\n",
       "    .dataframe thead th {\n",
       "        text-align: right;\n",
       "    }\n",
       "</style>\n",
       "<table border=\"1\" class=\"dataframe\">\n",
       "  <thead>\n",
       "    <tr style=\"text-align: right;\">\n",
       "      <th></th>\n",
       "      <th>event_id</th>\n",
       "      <th>country_txt</th>\n",
       "      <th>region_txt</th>\n",
       "      <th>city</th>\n",
       "      <th>summary</th>\n",
       "      <th>crit1</th>\n",
       "      <th>crit2</th>\n",
       "      <th>crit3</th>\n",
       "      <th>doubt</th>\n",
       "      <th>success</th>\n",
       "      <th>suicide</th>\n",
       "      <th>attack_1txt</th>\n",
       "      <th>target_1txt</th>\n",
       "      <th>sub_targettxt</th>\n",
       "      <th>corp1</th>\n",
       "      <th>specific_target</th>\n",
       "      <th>victim_nationalitytxt</th>\n",
       "      <th>group_name</th>\n",
       "      <th>motive</th>\n",
       "      <th>group_attrib_crtainty</th>\n",
       "      <th>unaffil_individ</th>\n",
       "      <th>weapontxt</th>\n",
       "      <th>sub_weapontxt</th>\n",
       "      <th>property</th>\n",
       "    </tr>\n",
       "  </thead>\n",
       "  <tbody>\n",
       "    <tr>\n",
       "      <th>count</th>\n",
       "      <td>6.080000e+02</td>\n",
       "      <td>608</td>\n",
       "      <td>608</td>\n",
       "      <td>608</td>\n",
       "      <td>608</td>\n",
       "      <td>608.000000</td>\n",
       "      <td>608.000000</td>\n",
       "      <td>608.000000</td>\n",
       "      <td>608.000000</td>\n",
       "      <td>608.0</td>\n",
       "      <td>608.000000</td>\n",
       "      <td>608</td>\n",
       "      <td>608</td>\n",
       "      <td>608</td>\n",
       "      <td>608</td>\n",
       "      <td>608</td>\n",
       "      <td>608</td>\n",
       "      <td>608</td>\n",
       "      <td>608</td>\n",
       "      <td>608.000000</td>\n",
       "      <td>608.000000</td>\n",
       "      <td>608</td>\n",
       "      <td>608</td>\n",
       "      <td>608.000000</td>\n",
       "    </tr>\n",
       "    <tr>\n",
       "      <th>unique</th>\n",
       "      <td>NaN</td>\n",
       "      <td>48</td>\n",
       "      <td>10</td>\n",
       "      <td>386</td>\n",
       "      <td>603</td>\n",
       "      <td>NaN</td>\n",
       "      <td>NaN</td>\n",
       "      <td>NaN</td>\n",
       "      <td>NaN</td>\n",
       "      <td>NaN</td>\n",
       "      <td>NaN</td>\n",
       "      <td>8</td>\n",
       "      <td>16</td>\n",
       "      <td>69</td>\n",
       "      <td>374</td>\n",
       "      <td>522</td>\n",
       "      <td>51</td>\n",
       "      <td>79</td>\n",
       "      <td>138</td>\n",
       "      <td>NaN</td>\n",
       "      <td>NaN</td>\n",
       "      <td>4</td>\n",
       "      <td>23</td>\n",
       "      <td>NaN</td>\n",
       "    </tr>\n",
       "    <tr>\n",
       "      <th>top</th>\n",
       "      <td>NaN</td>\n",
       "      <td>Iraq</td>\n",
       "      <td>South Asia</td>\n",
       "      <td>Baghdad</td>\n",
       "      <td>05/06/2013: Assailants opened fire on the priv...</td>\n",
       "      <td>NaN</td>\n",
       "      <td>NaN</td>\n",
       "      <td>NaN</td>\n",
       "      <td>NaN</td>\n",
       "      <td>NaN</td>\n",
       "      <td>NaN</td>\n",
       "      <td>Assassination</td>\n",
       "      <td>Government (General)</td>\n",
       "      <td>Government Personnel (excluding police, military)</td>\n",
       "      <td>Not Applicable</td>\n",
       "      <td>Polling Station</td>\n",
       "      <td>Iraq</td>\n",
       "      <td>Unknown</td>\n",
       "      <td>nan</td>\n",
       "      <td>NaN</td>\n",
       "      <td>NaN</td>\n",
       "      <td>Explosives</td>\n",
       "      <td>Unknown Explosive Type</td>\n",
       "      <td>NaN</td>\n",
       "    </tr>\n",
       "    <tr>\n",
       "      <th>freq</th>\n",
       "      <td>NaN</td>\n",
       "      <td>140</td>\n",
       "      <td>245</td>\n",
       "      <td>29</td>\n",
       "      <td>3</td>\n",
       "      <td>NaN</td>\n",
       "      <td>NaN</td>\n",
       "      <td>NaN</td>\n",
       "      <td>NaN</td>\n",
       "      <td>NaN</td>\n",
       "      <td>NaN</td>\n",
       "      <td>305</td>\n",
       "      <td>232</td>\n",
       "      <td>115</td>\n",
       "      <td>48</td>\n",
       "      <td>9</td>\n",
       "      <td>137</td>\n",
       "      <td>425</td>\n",
       "      <td>290</td>\n",
       "      <td>NaN</td>\n",
       "      <td>NaN</td>\n",
       "      <td>466</td>\n",
       "      <td>172</td>\n",
       "      <td>NaN</td>\n",
       "    </tr>\n",
       "    <tr>\n",
       "      <th>mean</th>\n",
       "      <td>2.010801e+11</td>\n",
       "      <td>NaN</td>\n",
       "      <td>NaN</td>\n",
       "      <td>NaN</td>\n",
       "      <td>NaN</td>\n",
       "      <td>0.995066</td>\n",
       "      <td>0.991776</td>\n",
       "      <td>0.955592</td>\n",
       "      <td>0.077303</td>\n",
       "      <td>0.0</td>\n",
       "      <td>0.044408</td>\n",
       "      <td>NaN</td>\n",
       "      <td>NaN</td>\n",
       "      <td>NaN</td>\n",
       "      <td>NaN</td>\n",
       "      <td>NaN</td>\n",
       "      <td>NaN</td>\n",
       "      <td>NaN</td>\n",
       "      <td>NaN</td>\n",
       "      <td>0.088816</td>\n",
       "      <td>0.006579</td>\n",
       "      <td>NaN</td>\n",
       "      <td>NaN</td>\n",
       "      <td>-0.621711</td>\n",
       "    </tr>\n",
       "    <tr>\n",
       "      <th>std</th>\n",
       "      <td>6.102456e+08</td>\n",
       "      <td>NaN</td>\n",
       "      <td>NaN</td>\n",
       "      <td>NaN</td>\n",
       "      <td>NaN</td>\n",
       "      <td>0.070128</td>\n",
       "      <td>0.090385</td>\n",
       "      <td>0.206169</td>\n",
       "      <td>0.267291</td>\n",
       "      <td>0.0</td>\n",
       "      <td>0.206169</td>\n",
       "      <td>NaN</td>\n",
       "      <td>NaN</td>\n",
       "      <td>NaN</td>\n",
       "      <td>NaN</td>\n",
       "      <td>NaN</td>\n",
       "      <td>NaN</td>\n",
       "      <td>NaN</td>\n",
       "      <td>NaN</td>\n",
       "      <td>0.284712</td>\n",
       "      <td>0.080910</td>\n",
       "      <td>NaN</td>\n",
       "      <td>NaN</td>\n",
       "      <td>2.911940</td>\n",
       "    </tr>\n",
       "    <tr>\n",
       "      <th>min</th>\n",
       "      <td>1.970042e+11</td>\n",
       "      <td>NaN</td>\n",
       "      <td>NaN</td>\n",
       "      <td>NaN</td>\n",
       "      <td>NaN</td>\n",
       "      <td>0.000000</td>\n",
       "      <td>0.000000</td>\n",
       "      <td>0.000000</td>\n",
       "      <td>0.000000</td>\n",
       "      <td>0.0</td>\n",
       "      <td>0.000000</td>\n",
       "      <td>NaN</td>\n",
       "      <td>NaN</td>\n",
       "      <td>NaN</td>\n",
       "      <td>NaN</td>\n",
       "      <td>NaN</td>\n",
       "      <td>NaN</td>\n",
       "      <td>NaN</td>\n",
       "      <td>NaN</td>\n",
       "      <td>0.000000</td>\n",
       "      <td>0.000000</td>\n",
       "      <td>NaN</td>\n",
       "      <td>NaN</td>\n",
       "      <td>-9.000000</td>\n",
       "    </tr>\n",
       "    <tr>\n",
       "      <th>25%</th>\n",
       "      <td>2.010061e+11</td>\n",
       "      <td>NaN</td>\n",
       "      <td>NaN</td>\n",
       "      <td>NaN</td>\n",
       "      <td>NaN</td>\n",
       "      <td>1.000000</td>\n",
       "      <td>1.000000</td>\n",
       "      <td>1.000000</td>\n",
       "      <td>0.000000</td>\n",
       "      <td>0.0</td>\n",
       "      <td>0.000000</td>\n",
       "      <td>NaN</td>\n",
       "      <td>NaN</td>\n",
       "      <td>NaN</td>\n",
       "      <td>NaN</td>\n",
       "      <td>NaN</td>\n",
       "      <td>NaN</td>\n",
       "      <td>NaN</td>\n",
       "      <td>NaN</td>\n",
       "      <td>0.000000</td>\n",
       "      <td>0.000000</td>\n",
       "      <td>NaN</td>\n",
       "      <td>NaN</td>\n",
       "      <td>0.000000</td>\n",
       "    </tr>\n",
       "    <tr>\n",
       "      <th>50%</th>\n",
       "      <td>2.013012e+11</td>\n",
       "      <td>NaN</td>\n",
       "      <td>NaN</td>\n",
       "      <td>NaN</td>\n",
       "      <td>NaN</td>\n",
       "      <td>1.000000</td>\n",
       "      <td>1.000000</td>\n",
       "      <td>1.000000</td>\n",
       "      <td>0.000000</td>\n",
       "      <td>0.0</td>\n",
       "      <td>0.000000</td>\n",
       "      <td>NaN</td>\n",
       "      <td>NaN</td>\n",
       "      <td>NaN</td>\n",
       "      <td>NaN</td>\n",
       "      <td>NaN</td>\n",
       "      <td>NaN</td>\n",
       "      <td>NaN</td>\n",
       "      <td>NaN</td>\n",
       "      <td>0.000000</td>\n",
       "      <td>0.000000</td>\n",
       "      <td>NaN</td>\n",
       "      <td>NaN</td>\n",
       "      <td>0.000000</td>\n",
       "    </tr>\n",
       "    <tr>\n",
       "      <th>75%</th>\n",
       "      <td>2.014012e+11</td>\n",
       "      <td>NaN</td>\n",
       "      <td>NaN</td>\n",
       "      <td>NaN</td>\n",
       "      <td>NaN</td>\n",
       "      <td>1.000000</td>\n",
       "      <td>1.000000</td>\n",
       "      <td>1.000000</td>\n",
       "      <td>0.000000</td>\n",
       "      <td>0.0</td>\n",
       "      <td>0.000000</td>\n",
       "      <td>NaN</td>\n",
       "      <td>NaN</td>\n",
       "      <td>NaN</td>\n",
       "      <td>NaN</td>\n",
       "      <td>NaN</td>\n",
       "      <td>NaN</td>\n",
       "      <td>NaN</td>\n",
       "      <td>NaN</td>\n",
       "      <td>0.000000</td>\n",
       "      <td>0.000000</td>\n",
       "      <td>NaN</td>\n",
       "      <td>NaN</td>\n",
       "      <td>1.000000</td>\n",
       "    </tr>\n",
       "    <tr>\n",
       "      <th>max</th>\n",
       "      <td>2.017122e+11</td>\n",
       "      <td>NaN</td>\n",
       "      <td>NaN</td>\n",
       "      <td>NaN</td>\n",
       "      <td>NaN</td>\n",
       "      <td>1.000000</td>\n",
       "      <td>1.000000</td>\n",
       "      <td>1.000000</td>\n",
       "      <td>1.000000</td>\n",
       "      <td>0.0</td>\n",
       "      <td>1.000000</td>\n",
       "      <td>NaN</td>\n",
       "      <td>NaN</td>\n",
       "      <td>NaN</td>\n",
       "      <td>NaN</td>\n",
       "      <td>NaN</td>\n",
       "      <td>NaN</td>\n",
       "      <td>NaN</td>\n",
       "      <td>NaN</td>\n",
       "      <td>1.000000</td>\n",
       "      <td>1.000000</td>\n",
       "      <td>NaN</td>\n",
       "      <td>NaN</td>\n",
       "      <td>1.000000</td>\n",
       "    </tr>\n",
       "  </tbody>\n",
       "</table>\n",
       "</div>"
      ],
      "text/plain": [
       "            event_id country_txt  region_txt     city  \\\n",
       "count   6.080000e+02         608         608      608   \n",
       "unique           NaN          48          10      386   \n",
       "top              NaN        Iraq  South Asia  Baghdad   \n",
       "freq             NaN         140         245       29   \n",
       "mean    2.010801e+11         NaN         NaN      NaN   \n",
       "std     6.102456e+08         NaN         NaN      NaN   \n",
       "min     1.970042e+11         NaN         NaN      NaN   \n",
       "25%     2.010061e+11         NaN         NaN      NaN   \n",
       "50%     2.013012e+11         NaN         NaN      NaN   \n",
       "75%     2.014012e+11         NaN         NaN      NaN   \n",
       "max     2.017122e+11         NaN         NaN      NaN   \n",
       "\n",
       "                                                  summary       crit1  \\\n",
       "count                                                 608  608.000000   \n",
       "unique                                                603         NaN   \n",
       "top     05/06/2013: Assailants opened fire on the priv...         NaN   \n",
       "freq                                                    3         NaN   \n",
       "mean                                                  NaN    0.995066   \n",
       "std                                                   NaN    0.070128   \n",
       "min                                                   NaN    0.000000   \n",
       "25%                                                   NaN    1.000000   \n",
       "50%                                                   NaN    1.000000   \n",
       "75%                                                   NaN    1.000000   \n",
       "max                                                   NaN    1.000000   \n",
       "\n",
       "             crit2       crit3       doubt  success     suicide  \\\n",
       "count   608.000000  608.000000  608.000000    608.0  608.000000   \n",
       "unique         NaN         NaN         NaN      NaN         NaN   \n",
       "top            NaN         NaN         NaN      NaN         NaN   \n",
       "freq           NaN         NaN         NaN      NaN         NaN   \n",
       "mean      0.991776    0.955592    0.077303      0.0    0.044408   \n",
       "std       0.090385    0.206169    0.267291      0.0    0.206169   \n",
       "min       0.000000    0.000000    0.000000      0.0    0.000000   \n",
       "25%       1.000000    1.000000    0.000000      0.0    0.000000   \n",
       "50%       1.000000    1.000000    0.000000      0.0    0.000000   \n",
       "75%       1.000000    1.000000    0.000000      0.0    0.000000   \n",
       "max       1.000000    1.000000    1.000000      0.0    1.000000   \n",
       "\n",
       "          attack_1txt           target_1txt  \\\n",
       "count             608                   608   \n",
       "unique              8                    16   \n",
       "top     Assassination  Government (General)   \n",
       "freq              305                   232   \n",
       "mean              NaN                   NaN   \n",
       "std               NaN                   NaN   \n",
       "min               NaN                   NaN   \n",
       "25%               NaN                   NaN   \n",
       "50%               NaN                   NaN   \n",
       "75%               NaN                   NaN   \n",
       "max               NaN                   NaN   \n",
       "\n",
       "                                            sub_targettxt           corp1  \\\n",
       "count                                                 608             608   \n",
       "unique                                                 69             374   \n",
       "top     Government Personnel (excluding police, military)  Not Applicable   \n",
       "freq                                                  115              48   \n",
       "mean                                                  NaN             NaN   \n",
       "std                                                   NaN             NaN   \n",
       "min                                                   NaN             NaN   \n",
       "25%                                                   NaN             NaN   \n",
       "50%                                                   NaN             NaN   \n",
       "75%                                                   NaN             NaN   \n",
       "max                                                   NaN             NaN   \n",
       "\n",
       "        specific_target victim_nationalitytxt group_name motive  \\\n",
       "count               608                   608        608    608   \n",
       "unique              522                    51         79    138   \n",
       "top     Polling Station                  Iraq    Unknown    nan   \n",
       "freq                  9                   137        425    290   \n",
       "mean                NaN                   NaN        NaN    NaN   \n",
       "std                 NaN                   NaN        NaN    NaN   \n",
       "min                 NaN                   NaN        NaN    NaN   \n",
       "25%                 NaN                   NaN        NaN    NaN   \n",
       "50%                 NaN                   NaN        NaN    NaN   \n",
       "75%                 NaN                   NaN        NaN    NaN   \n",
       "max                 NaN                   NaN        NaN    NaN   \n",
       "\n",
       "        group_attrib_crtainty  unaffil_individ   weapontxt  \\\n",
       "count              608.000000       608.000000         608   \n",
       "unique                    NaN              NaN           4   \n",
       "top                       NaN              NaN  Explosives   \n",
       "freq                      NaN              NaN         466   \n",
       "mean                 0.088816         0.006579         NaN   \n",
       "std                  0.284712         0.080910         NaN   \n",
       "min                  0.000000         0.000000         NaN   \n",
       "25%                  0.000000         0.000000         NaN   \n",
       "50%                  0.000000         0.000000         NaN   \n",
       "75%                  0.000000         0.000000         NaN   \n",
       "max                  1.000000         1.000000         NaN   \n",
       "\n",
       "                 sub_weapontxt    property  \n",
       "count                      608  608.000000  \n",
       "unique                      23         NaN  \n",
       "top     Unknown Explosive Type         NaN  \n",
       "freq                       172         NaN  \n",
       "mean                       NaN   -0.621711  \n",
       "std                        NaN    2.911940  \n",
       "min                        NaN   -9.000000  \n",
       "25%                        NaN    0.000000  \n",
       "50%                        NaN    0.000000  \n",
       "75%                        NaN    1.000000  \n",
       "max                        NaN    1.000000  "
      ]
     },
     "execution_count": 31,
     "metadata": {},
     "output_type": "execute_result"
    }
   ],
   "source": [
    "pd.set_option('max_columns', 25)\n",
    "cyber_data.loc[cyber_data['success'] == 0].describe(include = 'all')"
   ]
  },
  {
   "cell_type": "code",
   "execution_count": 32,
   "metadata": {},
   "outputs": [
    {
     "data": {
      "text/plain": [
       "Civilians                                                                                                                 292\n",
       "Patrol                                                                                                                    269\n",
       "Vehicle                                                                                                                   221\n",
       "Soldiers                                                                                                                  112\n",
       "Officers                                                                                                                   89\n",
       "Convoy                                                                                                                     86\n",
       "House                                                                                                                      54\n",
       "Unknown                                                                                                                    37\n",
       "Polling_Areas                                                                                                              32\n",
       "Officer                                                                                                                    32\n",
       "Office                                                                                                                     29\n",
       "Vehicles                                                                                                                   29\n",
       "Village                                                                                                                    28\n",
       "Checkpoint                                                                                                                 27\n",
       "Cell_tower                                                                                                                 27\n",
       "Soldier                                                                                                                    26\n",
       "Civilian                                                                                                                   23\n",
       "Members                                                                                                                    22\n",
       "Bus                                                                                                                        21\n",
       "Headquarters                                                                                                               19\n",
       "Employees                                                                                                                  18\n",
       "Residence                                                                                                                  18\n",
       "Van                                                                                                                        17\n",
       "School                                                                                                                     16\n",
       "Police Station                                                                                                             14\n",
       "Building                                                                                                                   14\n",
       "Market                                                                                                                     13\n",
       "Police Officers                                                                                                            12\n",
       "Member                                                                                                                     12\n",
       "Suspected Informants                                                                                                       12\n",
       "Election Rally                                                                                                             11\n",
       "Residence of Officer                                                                                                       11\n",
       "House of Officer                                                                                                           11\n",
       "Shia Pilgrims                                                                                                              11\n",
       "Post                                                                                                                       10\n",
       "Iraqi Turkmen Civilians                                                                                                    10\n",
       "Private School                                                                                                              9\n",
       "Employee                                                                                                                    9\n",
       "Offices                                                                                                                     9\n",
       "Truck                                                                                                                       9\n",
       "Base                                                                                                                        9\n",
       "Election Office                                                                                                             8\n",
       "Forces                                                                                                                      8\n",
       "Personnel                                                                                                                   8\n",
       "Workers                                                                                                                     8\n",
       "Patrol Vehicle                                                                                                              7\n",
       "Town                                                                                                                        7\n",
       "soldiers                                                                                                                    7\n",
       "Officials                                                                                                                   7\n",
       "A unit on patrol                                                                                                            7\n",
       "Restaurant                                                                                                                  7\n",
       "Political party offices                                                                                                     6\n",
       "Armored Vehicle                                                                                                             6\n",
       "Tractor                                                                                                                     6\n",
       "Embassy                                                                                                                     6\n",
       "Mosque                                                                                                                      6\n",
       "Oil Pipeline                                                                                                                6\n",
       "Outpost                                                                                                                     6\n",
       "Police                                                                                                                      6\n",
       "Official                                                                                                                    6\n",
       "Joint Convoy                                                                                                                6\n",
       "Children                                                                                                                    6\n",
       "Minibus                                                                                                                     5\n",
       "Indiscriminate civilians on commuter trains in Madrid, Spain.                                                               5\n",
       "Construction Workers                                                                                                        5\n",
       "Car                                                                                                                         5\n",
       "Motorcycle                                                                                                                  5\n",
       "Iraqi Civilians                                                                                                             5\n",
       "Rally                                                                                                                       5\n",
       "Camp                                                                                                                        5\n",
       "Shia Civilians                                                                                                              5\n",
       "Liquor Store                                                                                                                4\n",
       "Security Guards                                                                                                             4\n",
       "Iraqi Police                                                                                                                4\n",
       "Church                                                                                                                      4\n",
       "Helicopter                                                                                                                  4\n",
       "Shops                                                                                                                       4\n",
       "Shop                                                                                                                        4\n",
       "Construction Equipment                                                                                                      4\n",
       "Sunni Mosque                                                                                                                4\n",
       "Anti-Terrorist Operation Soldiers                                                                                           4\n",
       "Private Security Guards                                                                                                     4\n",
       "Community                                                                                                                   4\n",
       "Houses                                                                                                                      4\n",
       "Security Forces                                                                                                             4\n",
       "Tank                                                                                                                        4\n",
       "Joint Patrol                                                                                                                4\n",
       "Store                                                                                                                       3\n",
       "Container                                                                                                                   3\n",
       "Residential Area                                                                                                            3\n",
       "Suspected Informant                                                                                                         3\n",
       "First Responders                                                                                                            3\n",
       "People in the area                                                                                                          3\n",
       "Protesters                                                                                                                  3\n",
       "Checkpost                                                                                                                   3\n",
       "Cafe                                                                                                                        3\n",
       "Captain                                                                                                                     3\n",
       "Unit                                                                                                                        3\n",
       "Marketplace                                                                                                                 3\n",
       "Engineers                                                                                                                   3\n",
       "Police officers                                                                                                             3\n",
       "A police officer                                                                                                            3\n",
       "Checkpoints                                                                                                                 3\n",
       "Private school in Yala Province                                                                                             3\n",
       "Contractors                                                                                                                 3\n",
       "Internet Cafe                                                                                                               3\n",
       "A private villa in southern Corsica                                                                                         3\n",
       "Police Unit                                                                                                                 3\n",
       "Training Center                                                                                                             3\n",
       "Taxi                                                                                                                        3\n",
       "Buses                                                                                                                       3\n",
       "Teachers                                                                                                                    3\n",
       "Farmers                                                                                                                     3\n",
       "A traffic police vehicle                                                                                                    3\n",
       "Residences of Officers                                                                                                      3\n",
       "Home of Government Employee                                                                                                 3\n",
       "Police patrol                                                                                                               3\n",
       "A police patrol                                                                                                             3\n",
       "Factory                                                                                                                     3\n",
       "Police Officer                                                                                                              3\n",
       "Candidate                                                                                                                   3\n",
       "Elementary School                                                                                                           3\n",
       "Construction Site                                                                                                           3\n",
       "A police car                                                                                                                2\n",
       "Bazaar                                                                                                                      2\n",
       "Law enforcement personnel                                                                                                   2\n",
       "Ambulance                                                                                                                   2\n",
       "Bridge                                                                                                                      2\n",
       "Refugee Camp                                                                                                                2\n",
       "The house of a policeman was targeted in the incident.                                                                      2\n",
       "Students                                                                                                                    2\n",
       "Khat Traders                                                                                                                2\n",
       "Panhellenic Socialist Movement office in Athens, Greece                                                                     2\n",
       "Supply Vehicles                                                                                                             2\n",
       "Military convoy                                                                                                             2\n",
       "Neighborhood                                                                                                                2\n",
       "Leader                                                                                                                      2\n",
       "Iraqi Police Vehicle                                                                                                        2\n",
       "Town of Sderot                                                                                                              2\n",
       "Truck Drivers                                                                                                               2\n",
       "Hospital                                                                                                                    2\n",
       "Baghdad                                                                                                                     2\n",
       "Train                                                                                                                       2\n",
       "Bakery                                                                                                                      2\n",
       "Random Citizens                                                                                                             2\n",
       "University                                                                                                                  2\n",
       "Traders                                                                                                                     2\n",
       "Election Office of Kamran Khan                                                                                              2\n",
       "Radio Station                                                                                                               2\n",
       "Hazara Civilians                                                                                                            2\n",
       "                                                                                                                         ... \n",
       "The house of a judge in Baaquba city                                                                                        1\n",
       "Leader: Govinda Chaudhary                                                                                                   1\n",
       "Governor: Abdul Latif Ibrahimi                                                                                              1\n",
       "A Makhachkala traffic police post                                                                                           1\n",
       "Tapayan Central School Polling Center                                                                                       1\n",
       "Candidate: Zahid Hasan Rana                                                                                                 1\n",
       "31st Checkpoint                                                                                                             1\n",
       "An election worker, identified as Aida Bandian Magangob,                                                                    1\n",
       "Captain: Mohammad Azam                                                                                                      1\n",
       "Former General: Saleh al-Warfali                                                                                            1\n",
       "federal building in Hato Rey, housing the FBI headquarters                                                                  1\n",
       "Ranger Company 4516 Patrol                                                                                                  1\n",
       "Officer: Mohamed Joumaa                                                                                                     1\n",
       "Construction Machinery                                                                                                      1\n",
       "The family home of a communal guard                                                                                         1\n",
       "Civilians at a fake roadblock in Omar, Algeria                                                                              1\n",
       "Kamel Shayaa, the culture ministry advisor,                                                                                 1\n",
       "Two public buses in Suva, Fuji                                                                                              1\n",
       "Civilians on a main road leading to al-Sadr city                                                                            1\n",
       "Algerians civilians driving on National Road 8 in the Larbaa region                                                         1\n",
       "Legend Ridge mansion                                                                                                        1\n",
       "Ghazi Talabani                                                                                                              1\n",
       "Civilians at a roadblock in Tizi Larba, Algeria                                                                             1\n",
       "Deputy Minister Tissa Kraliyatha                                                                                            1\n",
       "First Responder Security Forces                                                                                             1\n",
       "Air Force R.O.T.C. classroom in Barton Hall at Cornell University                                                           1\n",
       "U.S. patrol in Bayaa neighborhood.                                                                                          1\n",
       "Abdullahi Hassan Gaey and Dhaga Tur                                                                                         1\n",
       "A soldier driving in a vehicle in Beni Amrane                                                                               1\n",
       "Local Chief                                                                                                                 1\n",
       "Tribal Elder: Mohammad Alam                                                                                                 1\n",
       "The Liberal Party campaign rally                                                                                            1\n",
       "Naha Oz settlement                                                                                                          1\n",
       "Ilyas Ahmad Pir, local BJP leader in the Srinagar area                                                                      1\n",
       "Special Command Headquarters                                                                                                1\n",
       "Alleged Informant: Sadhu Khemendu                                                                                           1\n",
       "A BSF patrol in Ashpeer                                                                                                     1\n",
       "Police in Chanae (District), Thailand                                                                                       1\n",
       "A class IV government employee, identified as Dama Madkami,                                                                 1\n",
       "Ahmed Tariq al- Hashimi                                                                                                     1\n",
       "A vehicle carrying construction workers                                                                                     1\n",
       "Shiite Day Laborers                                                                                                         1\n",
       "Marib-Ras Isa Oil Pipeline                                                                                                  1\n",
       "Polling Booth Worker: Akib                                                                                                  1\n",
       "Salem Mahmoud al-Haj Ali                                                                                                    1\n",
       "British soldiers traveling in the area of Al-Zubeir, Iraq.                                                                  1\n",
       "Evacuation Bus Convoy                                                                                                       1\n",
       "Liria Primary School in Skopje, Macedonia                                                                                   1\n",
       "Intelligence Officials                                                                                                      1\n",
       "Devotees of the Ranvir Sena group                                                                                           1\n",
       "Goran Zugic, security adviser for President Milo Djukanovic                                                                 1\n",
       "Assam Police                                                                                                                1\n",
       "University Buildings                                                                                                        1\n",
       "Jori Bod                                                                                                                    1\n",
       "Mobile Unit                                                                                                                 1\n",
       "Office of Member: Anne Tolley                                                                                               1\n",
       "A US military convoy near Abu Ghraib Prison                                                                                 1\n",
       "Local Leader: Afzal Khan                                                                                                    1\n",
       "Iraqi civilians in Baghdad's al-Baladiyat district                                                                          1\n",
       "Provincial Chief: Lieutenant Colonel Hammad al-Dulaimi                                                                      1\n",
       "Jewish Settlement                                                                                                           1\n",
       "Secretary-General: Chokri Belaid                                                                                            1\n",
       "Diplomatic vehicles in Athens                                                                                               1\n",
       "Commander: Kahlef Ibraheem                                                                                                  1\n",
       "Social Security Office Ajaccio, Corsica                                                                                     1\n",
       "Resident of Ras el Ain, Algeria                                                                                             1\n",
       "Three Civilians                                                                                                             1\n",
       "Civilian: Ronald G. Golimlim                                                                                                1\n",
       "Employees of Shelter for Life                                                                                               1\n",
       "Iraqi police patrol in Nasiriyah                                                                                            1\n",
       "A militant of the National Socialist Council of Nagaland - Khaplang (NSCN - K), Zakaito Zhimomi,                            1\n",
       "The target of this attack was provincial council member.                                                                    1\n",
       "An off duty Sahwa Council member                                                                                            1\n",
       "Suspected Informant: Sharwan Yadav                                                                                          1\n",
       "Parliamentary Candidate: Sheikh Jamal Muhsin Al-Faris                                                                       1\n",
       "Soldiers escorting Buddhist Monks                                                                                           1\n",
       "Afghan citizens in Spin Boldak                                                                                              1\n",
       "Malian Workers                                                                                                              1\n",
       "Civilians on a Passenger Bus in Belloul, Algeria                                                                            1\n",
       "Police vehicle                                                                                                              1\n",
       "Serbians residents of an apartment building in Pristina                                                                     1\n",
       "Four businesspeople who were trying to leave the Elasha Biyaha area                                                         1\n",
       "Technical College                                                                                                           1\n",
       "Elder: Malik Rahmat Ullah Khan                                                                                              1\n",
       "District Chief: Suppawarit Petchkan                                                                                         1\n",
       "Cellular Communications Tower                                                                                               1\n",
       "The target of this attack was a police chief.                                                                               1\n",
       "Civilians traveling in a minivan                                                                                            1\n",
       "Khobai Educational Academy                                                                                                  1\n",
       "Civilian in Londonderry, Northern Ireland                                                                                   1\n",
       "Social Office Official: Ali Sirwan Kobkha Mahmoud                                                                           1\n",
       "Suspected Informant: John Szlazak                                                                                           1\n",
       "Said-Akhmad Khaladov, Advisor to the Chechen Administration                                                                 1\n",
       "Employee: Bara al-Dabagh                                                                                                    1\n",
       "Civilians in Adwari, Uganda                                                                                                 1\n",
       "The house of a Communist Party of India-Marxist leader was targeted in the attack.                                          1\n",
       "Weerapong Petchwiroj, worker at rubber processing plant in Pattani                                                          1\n",
       "The Iranian Embassy                                                                                                         1\n",
       "The provincial headquarters of the Iraqi Islamic Party                                                                      1\n",
       "Election Office of Candidate: Khursheed Begum                                                                               1\n",
       "Algerian civilians on a bus travelling through Médéa                                                                        1\n",
       "Volleyball Tournament                                                                                                       1\n",
       "Administrative Head: Mohammad Azim                                                                                          1\n",
       "Suspected Police Informant: Basant Bhatt                                                                                    1\n",
       "Food Trucks                                                                                                                 1\n",
       "Suspected Informant: Dhobunu Nayak                                                                                          1\n",
       "Citizens in the vicinity                                                                                                    1\n",
       "Italian Embassy in Athens                                                                                                   1\n",
       "The private vehicle of a member of the Basque police force in Azpeitia, Spain                                               1\n",
       "Vehicle of Tribal Elder: Badshahi Khan Mehsud                                                                               1\n",
       "House of District President: Nisar Chandiyo                                                                                 1\n",
       "soldiers riding on a patrol                                                                                                 1\n",
       "Bus of Employees                                                                                                            1\n",
       "Convoy of Deputy Governor: Rakan Saeed al-Jubouri                                                                           1\n",
       "Mother of Chairperson Charles Uduyork                                                                                       1\n",
       "Civilians at a fake checkpoint outside of Ocana, Colombia                                                                   1\n",
       "Election Office of Candidate: Amanullah Mehsud                                                                              1\n",
       "Suspected Informant: Lalsu Kundi Atram                                                                                      1\n",
       "Numerous buildings, public spaces, and an autorickshaw in the Bahadderhat area of Chittagong                                1\n",
       "Military Sector Command in the Manufahi district                                                                            1\n",
       "Living Faith Church                                                                                                         1\n",
       "Member of Parliament: Hamayun Hamayoon                                                                                      1\n",
       "Eenghwiyu Temporary Police Station                                                                                          1\n",
       "A mobile tower of the Roshan private mobile phone company                                                                   1\n",
       "Inkatha Freedom Party Branch Chairman, Senzangakhona Cornelius Nkosi, and his wife, Christina in Lothair, South Africa      1\n",
       "The targets of this attack were agents of the Interior Ministry's internal affairs office.                                  1\n",
       "Commander of Katanga Province: Lieutenant John Kamango                                                                      1\n",
       "A worker of the ruling Communist Party of India-Marxist (CPI-M), Gurucharan Mahato,                                         1\n",
       "Chogtham Ranbir Singh, a Manipur Irrigation Flood Control Department (IFCD) Engineer,                                       1\n",
       "Dolina District Chief: Habibullah Kunari                                                                                    1\n",
       "The targets of this attack were guards protecting public infrastructure in Salah ad Din.                                    1\n",
       "Member: Salim al-Jubouri                                                                                                    1\n",
       "Criminal Intelligence Officer: Colonel Mohammed Abdullah al-Habashy                                                         1\n",
       "Police Ambulance                                                                                                            1\n",
       "Six civilians                                                                                                               1\n",
       "Businessman                                                                                                                 1\n",
       "Rally for Provincial Assembly Candidate: Sarfraz Dombki                                                                     1\n",
       "Civilians in al-Salam district.                                                                                             1\n",
       "Son of Member: Waqar Jan                                                                                                    1\n",
       "The target was the local Sahwa Council leader.                                                                              1\n",
       "Indiscriminate civilians                                                                                                    1\n",
       "Railway Tracks                                                                                                              1\n",
       "Civilians: Fazle Haq, Zakir Mohammad, Waqar Qureshi                                                                         1\n",
       "The convoy of the Election Commission                                                                                       1\n",
       "Teachers traveling to Buenae Nako School                                                                                    1\n",
       "At least nine people near the explosion                                                                                     1\n",
       "Former Chairperson: Trinath Bhumia                                                                                          1\n",
       "Abdirahman Janaqow, the former TFG's minister for religious affairs and a member of parliament                              1\n",
       "Assailants fired upon a traffic police vehicle.                                                                             1\n",
       "Forward Operating Base Salerno                                                                                              1\n",
       "Name: specific_target, Length: 3234, dtype: int64"
      ]
     },
     "execution_count": 32,
     "metadata": {},
     "output_type": "execute_result"
    }
   ],
   "source": [
    "pd.set_option('max_rows', 300)\n",
    "cyber_train_X['specific_target'].value_counts()"
   ]
  },
  {
   "cell_type": "markdown",
   "metadata": {
    "slideshow": {
     "slide_type": "subslide"
    }
   },
   "source": [
    "#### B. Correlation:"
   ]
  },
  {
   "cell_type": "code",
   "execution_count": 33,
   "metadata": {
    "slideshow": {
     "slide_type": "subslide"
    }
   },
   "outputs": [
    {
     "data": {
      "image/png": "[encoded data removed]",
      "text/plain": [
       "<Figure size 792x648 with 2 Axes>"
      ]
     },
     "metadata": {
      "needs_background": "light"
     },
     "output_type": "display_data"
    }
   ],
   "source": [
    "f, ax = plt.subplots(figsize = (11, 9))\n",
    "sns.heatmap(cyber_data.corr(), annot = True)\n",
    "plt.show()"
   ]
  },
  {
   "cell_type": "markdown",
   "metadata": {
    "slideshow": {
     "slide_type": "slide"
    }
   },
   "source": [
    "#### C. Most Active Groups:"
   ]
  },
  {
   "cell_type": "code",
   "execution_count": 34,
   "metadata": {
    "slideshow": {
     "slide_type": "fragment"
    }
   },
   "outputs": [],
   "source": [
    "# Most prolific groups:\n",
    "\n",
    "actives = cyber_train_X['group_name'].value_counts().head(10).drop('Unknown')\n",
    "mask3 = cyber_train_X['group_name'].map(lambda x: x in actives)\n",
    "actives_df = cyber_train_X[mask3]\n",
    "\n",
    "temp_output = cyber_train_Y.loc[actives_df.index]\n",
    "\n",
    "beta_1 = actives.keys()\n",
    "gamma_1 = actives.values\n",
    "\n",
    "# Most affected countries:\n",
    "\n",
    "hot_countries = cyber_train_X['country_txt'].value_counts().head(10)\n",
    "mask3 = cyber_train_X['country_txt'].map(lambda x: x in hot_countries)\n",
    "hot_countries_df = cyber_train_X[mask3]\n",
    "phi = hot_countries_df['country_txt'].value_counts().head(10)\n",
    "\n",
    "temp_output2 = cyber_train_Y.loc[hot_countries_df.index]\n",
    "\n",
    "\n",
    "beta_2 = phi.keys()\n",
    "gamma_2 = phi.values"
   ]
  },
  {
   "cell_type": "code",
   "execution_count": 35,
   "metadata": {
    "slideshow": {
     "slide_type": "subslide"
    }
   },
   "outputs": [
    {
     "data": {
      "image/png": "[encoded data removed]",
      "text/plain": [
       "<Figure size 1224x504 with 2 Axes>"
      ]
     },
     "metadata": {
      "needs_background": "light"
     },
     "output_type": "display_data"
    }
   ],
   "source": [
    "f, (ax1, ax2) = plt.subplots(1, 2, figsize = (17, 7))\n",
    "\n",
    "plt.subplot(1, 2, 1)\n",
    "ax1 = sns.pointplot(x = actives_df['group_name'], y = temp_output['success'])\n",
    "ax1.set_xticklabels(labels = beta_1, rotation = '70', fontdict = {'fontsize':10})\n",
    "ax1.set_xlabel('Name of Terrorist Group', fontdict = {'fontsize':12})\n",
    "ax1.set_ylabel('Success Rate', fontdict = {'fontsize':12})\n",
    "ax1.set_title('Most Active Terror Groups and Their Success Rates')\n",
    "plt.subplots_adjust(wspace = .4)\n",
    "\n",
    "plt.subplot(1, 2, 2)\n",
    "ax2 = sns.pointplot(x = beta_2, y = gamma_2)\n",
    "ax2.set_xticklabels(labels = beta_2, rotation = '70', fontdict = {'fontsize':12})\n",
    "ax2.set_xlabel('Name of Country', fontdict = {'fontsize':12})\n",
    "ax2.set_ylabel('Number of Successful Attacks', fontdict = {'fontsize':12})\n",
    "ax2.set_title('Countries with Most Activity and Number of Successful Attacks')\n",
    "plt.subplots_adjust(wspace = .4)\n",
    "\n",
    "plt.show()"
   ]
  },
  {
   "cell_type": "markdown",
   "metadata": {
    "slideshow": {
     "slide_type": "slide"
    }
   },
   "source": [
    "#### E. Highly Targeted Areas:"
   ]
  },
  {
   "cell_type": "code",
   "execution_count": 36,
   "metadata": {},
   "outputs": [
    {
     "data": {
      "text/plain": [
       "<matplotlib.axes._subplots.AxesSubplot at 0x1135f8278>"
      ]
     },
     "execution_count": 36,
     "metadata": {},
     "output_type": "execute_result"
    },
    {
     "data": {
      "image/png": "[encoded data removed]",
      "text/plain": [
       "<Figure size 432x288 with 1 Axes>"
      ]
     },
     "metadata": {
      "needs_background": "light"
     },
     "output_type": "display_data"
    }
   ],
   "source": [
    "alpha = cyber_train_X['target_1txt'].value_counts()\n",
    "# beta = cyber_train_X['target_1txt']\n",
    "\n",
    "sns.scatterplot(x = cyber_train_X['target_1txt'], y = alpha)"
   ]
  },
  {
   "cell_type": "code",
   "execution_count": 37,
   "metadata": {
    "slideshow": {
     "slide_type": "subslide"
    }
   },
   "outputs": [
    {
     "data": {
      "image/png": "[encoded data removed]",
      "text/plain": [
       "<Figure size 1080x648 with 2 Axes>"
      ]
     },
     "metadata": {
      "needs_background": "light"
     },
     "output_type": "display_data"
    }
   ],
   "source": [
    "f, (ax1, ax2) = plt.subplots(1, 2, figsize = (15, 9))\n",
    "\n",
    "plt.subplot(1, 2, 1)\n",
    "sns.scatterplot(x = cyber_train_X['target_1txt'], y = cyber_train_X['target_1txt'].value_counts())\n",
    "ax1.set_xticklabels(labels = cyber_data['target_1txt'], rotation = '70', fontdict = {'fontsize':10})\n",
    "ax1.set_xlabel('Name of Terrorist Group', fontdict = {'fontsize':12})\n",
    "ax1.set_ylabel('Success Rate', fontdict = {'fontsize':12})\n",
    "ax1.set_title('Most Active Terror Groups and Their Success Rates')\n",
    "plt.subplots_adjust(wspace = .4)\n",
    "\n",
    "plt.subplot(1, 2, 2)\n",
    "ax2 = sns.scatterplot(x = cyber_train_X['target_1txt'], y = cyber_train_X['target_1txt'].value_counts(),\n",
    "                     hue = cyber_train_Y['success'], style = cyber_train_X['weapontxt'])\n",
    "ax2.set_xticklabels(labels = cyber_data['target_1txt'], rotation = '70', fontdict = {'fontsize':12})\n",
    "ax2.set_xlabel('Name of Country', fontdict = {'fontsize':12})\n",
    "ax2.set_ylabel('Number of Successful Attacks', fontdict = {'fontsize':12})\n",
    "ax2.set_title('Countries with Most Activity and Number of Successful Attacks')\n",
    "plt.subplots_adjust(wspace = .4)\n",
    "\n",
    "plt.show()"
   ]
  },
  {
   "cell_type": "code",
   "execution_count": 38,
   "metadata": {
    "scrolled": true,
    "slideshow": {
     "slide_type": "subslide"
    }
   },
   "outputs": [
    {
     "ename": "AttributeError",
     "evalue": "'int' object has no attribute 'scatter'",
     "output_type": "error",
     "traceback": [
      "\u001b[0;31m---------------------------------------------------------------------------\u001b[0m",
      "\u001b[0;31mAttributeError\u001b[0m                            Traceback (most recent call last)",
      "\u001b[0;32m<ipython-input-38-21d60a5865f2>\u001b[0m in \u001b[0;36m<module>\u001b[0;34m\u001b[0m\n\u001b[1;32m      2\u001b[0m \u001b[0;34m\u001b[0m\u001b[0m\n\u001b[1;32m      3\u001b[0m sns.scatterplot(x = 'target_1txt', y = cyber_data['target_1txt'].value_counts(), \n\u001b[0;32m----> 4\u001b[0;31m                                   hue = 'success', data = cyber_data, ax = 1)\n\u001b[0m\u001b[1;32m      5\u001b[0m \u001b[0;34m\u001b[0m\u001b[0m\n\u001b[1;32m      6\u001b[0m sns.scatterplot(x = 'target_1txt', y = cyber_data['target_1txt'].value_counts(), \n",
      "\u001b[0;32m/usr/local/lib/python3.7/site-packages/seaborn/relational.py\u001b[0m in \u001b[0;36mscatterplot\u001b[0;34m(x, y, hue, style, size, data, palette, hue_order, hue_norm, sizes, size_order, size_norm, markers, style_order, x_bins, y_bins, units, estimator, ci, n_boot, alpha, x_jitter, y_jitter, legend, ax, **kwargs)\u001b[0m\n\u001b[1;32m   1339\u001b[0m         \u001b[0max\u001b[0m \u001b[0;34m=\u001b[0m \u001b[0mplt\u001b[0m\u001b[0;34m.\u001b[0m\u001b[0mgca\u001b[0m\u001b[0;34m(\u001b[0m\u001b[0;34m)\u001b[0m\u001b[0;34m\u001b[0m\u001b[0m\n\u001b[1;32m   1340\u001b[0m \u001b[0;34m\u001b[0m\u001b[0m\n\u001b[0;32m-> 1341\u001b[0;31m     \u001b[0mp\u001b[0m\u001b[0;34m.\u001b[0m\u001b[0mplot\u001b[0m\u001b[0;34m(\u001b[0m\u001b[0max\u001b[0m\u001b[0;34m,\u001b[0m \u001b[0mkwargs\u001b[0m\u001b[0;34m)\u001b[0m\u001b[0;34m\u001b[0m\u001b[0m\n\u001b[0m\u001b[1;32m   1342\u001b[0m \u001b[0;34m\u001b[0m\u001b[0m\n\u001b[1;32m   1343\u001b[0m     \u001b[0;32mreturn\u001b[0m \u001b[0max\u001b[0m\u001b[0;34m\u001b[0m\u001b[0m\n",
      "\u001b[0;32m/usr/local/lib/python3.7/site-packages/seaborn/relational.py\u001b[0m in \u001b[0;36mplot\u001b[0;34m(self, ax, kws)\u001b[0m\n\u001b[1;32m    877\u001b[0m         \u001b[0;31m# function will advance the axes property cycle.\u001b[0m\u001b[0;34m\u001b[0m\u001b[0;34m\u001b[0m\u001b[0m\n\u001b[1;32m    878\u001b[0m \u001b[0;34m\u001b[0m\u001b[0m\n\u001b[0;32m--> 879\u001b[0;31m         \u001b[0mscout\u001b[0m \u001b[0;34m=\u001b[0m \u001b[0max\u001b[0m\u001b[0;34m.\u001b[0m\u001b[0mscatter\u001b[0m\u001b[0;34m(\u001b[0m\u001b[0;34m[\u001b[0m\u001b[0;34m]\u001b[0m\u001b[0;34m,\u001b[0m \u001b[0;34m[\u001b[0m\u001b[0;34m]\u001b[0m\u001b[0;34m,\u001b[0m \u001b[0;34m**\u001b[0m\u001b[0mkws\u001b[0m\u001b[0;34m)\u001b[0m\u001b[0;34m\u001b[0m\u001b[0m\n\u001b[0m\u001b[1;32m    880\u001b[0m         \u001b[0ms\u001b[0m \u001b[0;34m=\u001b[0m \u001b[0mkws\u001b[0m\u001b[0;34m.\u001b[0m\u001b[0mpop\u001b[0m\u001b[0;34m(\u001b[0m\u001b[0;34m\"s\"\u001b[0m\u001b[0;34m,\u001b[0m \u001b[0mscout\u001b[0m\u001b[0;34m.\u001b[0m\u001b[0mget_sizes\u001b[0m\u001b[0;34m(\u001b[0m\u001b[0;34m)\u001b[0m\u001b[0;34m)\u001b[0m\u001b[0;34m\u001b[0m\u001b[0m\n\u001b[1;32m    881\u001b[0m         \u001b[0mc\u001b[0m \u001b[0;34m=\u001b[0m \u001b[0mkws\u001b[0m\u001b[0;34m.\u001b[0m\u001b[0mpop\u001b[0m\u001b[0;34m(\u001b[0m\u001b[0;34m\"c\"\u001b[0m\u001b[0;34m,\u001b[0m \u001b[0mscout\u001b[0m\u001b[0;34m.\u001b[0m\u001b[0mget_facecolors\u001b[0m\u001b[0;34m(\u001b[0m\u001b[0;34m)\u001b[0m\u001b[0;34m)\u001b[0m\u001b[0;34m\u001b[0m\u001b[0m\n",
      "\u001b[0;31mAttributeError\u001b[0m: 'int' object has no attribute 'scatter'"
     ]
    },
    {
     "data": {
      "image/png": "[encoded data removed]",
      "text/plain": [
       "<Figure size 1008x864 with 2 Axes>"
      ]
     },
     "metadata": {
      "needs_background": "light"
     },
     "output_type": "display_data"
    }
   ],
   "source": [
    "f, (ax1, ax2) = plt.subplots(1, 2, figsize = (14, 12))\n",
    "\n",
    "sns.scatterplot(x = 'target_1txt', y = cyber_data['target_1txt'].value_counts(), \n",
    "                                  hue = 'success', data = cyber_data, ax = 1)\n",
    "\n",
    "sns.scatterplot(x = 'target_1txt', y = cyber_data['target_1txt'].value_counts(), \n",
    "                                  hue = 'success', style = ['weapontxt'], data = cyber_data, ax = 2)\n",
    "                                  \n",
    "plt.show()"
   ]
  },
  {
   "cell_type": "code",
   "execution_count": null,
   "metadata": {},
   "outputs": [],
   "source": []
  },
  {
   "cell_type": "code",
   "execution_count": null,
   "metadata": {},
   "outputs": [],
   "source": []
  },
  {
   "cell_type": "code",
   "execution_count": null,
   "metadata": {
    "slideshow": {
     "slide_type": "skip"
    }
   },
   "outputs": [],
   "source": []
  },
  {
   "cell_type": "code",
   "execution_count": null,
   "metadata": {},
   "outputs": [],
   "source": [
    "cyber_data.keys()"
   ]
  },
  {
   "cell_type": "code",
   "execution_count": null,
   "metadata": {
    "slideshow": {
     "slide_type": "skip"
    }
   },
   "outputs": [],
   "source": [
    "del actives, actives_df, temp_output, beta, hot_countries, hot_countries_df, phi, temp_output2, mask3\n",
    "gc.collect()"
   ]
  },
  {
   "cell_type": "markdown",
   "metadata": {
    "slideshow": {
     "slide_type": "slide"
    }
   },
   "source": [
    "### 3. Feature Selection:\n",
    "\n",
    "Getting closer to modeling and using feature selection algorithms to see what will help us best minimize our feature set while maintaining the most amount of variation in our data.\n",
    "\n",
    "We mainly focused on Select KBest within sklearn and PCA analysis to give us two perspectives on the data (one that we can parse out as humans, namely Select KBest, and one that is mostly computationally described, namely PCA). "
   ]
  },
  {
   "cell_type": "markdown",
   "metadata": {
    "slideshow": {
     "slide_type": "fragment"
    }
   },
   "source": [
    "#### A. Select K-Best:\n",
    "\n",
    "##### Assessing the Overall DataFrame and its Features:"
   ]
  },
  {
   "cell_type": "code",
   "execution_count": null,
   "metadata": {
    "slideshow": {
     "slide_type": "skip"
    }
   },
   "outputs": [],
   "source": [
    "from sklearn import feature_selection"
   ]
  },
  {
   "cell_type": "code",
   "execution_count": null,
   "metadata": {
    "slideshow": {
     "slide_type": "subslide"
    }
   },
   "outputs": [],
   "source": [
    "# Getting dummies on our training and test sets (slight wrangling involved):\n",
    "  # First dropping any na's:\n",
    "cyber_train_X.dropna(axis = 0, inplace = True)\n",
    "cyber_test_X.dropna(axis = 0, inplace = True)\n",
    "\n",
    "  # Then grabbing an index to make sure we maintain our train/test split:\n",
    "train_index = cyber_train_X.index\n",
    "test_index = cyber_test_X.index\n",
    "\n",
    "  # Dummy-time (we combined the dataframes here to make sure we didn't get duplicated dummies in both \n",
    "    # training and test sets):\n",
    "dummy_prep = pd.concat([cyber_train_X, cyber_test_X]).drop(['group_name', 'city', 'weapontxt'], axis = 1)\n",
    "dummy_1 = pd.get_dummies(dummy_prep)\n",
    "\n",
    "  # Re-filtering our Training/Test Inputs:\n",
    "cyber_train_dummy_X = dummy_1.loc[train_index]\n",
    "cyber_test_dummy_X = dummy_1.loc[test_index]\n",
    "\n",
    "  # Re-filtering our Training/Test Outputs:\n",
    "cyber_train_dummy_Y = cyber_train_Y.loc[train_index]\n",
    "cyber_test_dummy_Y = cyber_test_Y.loc[test_index]"
   ]
  },
  {
   "cell_type": "code",
   "execution_count": null,
   "metadata": {
    "slideshow": {
     "slide_type": "subslide"
    }
   },
   "outputs": [],
   "source": [
    "# Making sure we have the same sizes still:\n",
    "print(cyber_train_dummy_X.shape)\n",
    "print(cyber_test_dummy_X.shape)"
   ]
  },
  {
   "cell_type": "code",
   "execution_count": null,
   "metadata": {
    "slideshow": {
     "slide_type": "subslide"
    }
   },
   "outputs": [],
   "source": [
    "# Fitting SelectKBest to our Features and output:\n",
    "  # Here we tried a number of sizes: 20, 30, 500 and 700. We found that 25-30 got us the best results.\n",
    "KBest_1 = feature_selection.SelectKBest(k = 25) \n",
    "cyber_train_KBest1 = KBest_1.fit_transform(cyber_train_dummy_X, cyber_train_dummy_Y)\n",
    "\n",
    "# Transforming the test-set\n",
    "cyber_test_KBest1 = KBest_1.transform(cyber_test_dummy_X)"
   ]
  },
  {
   "cell_type": "code",
   "execution_count": null,
   "metadata": {
    "scrolled": true,
    "slideshow": {
     "slide_type": "subslide"
    }
   },
   "outputs": [],
   "source": [
    "# Creating a DF with the top 25 features:\n",
    "feature_mask = KBest_1.get_support(indices = True)\n",
    "KBest_1_features = pd.DataFrame(cyber_train_dummy_X.columns[feature_mask])\n",
    "\n",
    "KBest_1_features"
   ]
  },
  {
   "cell_type": "markdown",
   "metadata": {
    "slideshow": {
     "slide_type": "notes"
    }
   },
   "source": [
    "Here, we are getting a lot of return from the attack, target, sub-target and a few country features.  The doubt column indicates whether doubt exists regarding the classification of this incident as a terrorist incident, as opposed to some sort of other crime.  High-correlation here would make sense, but for now, we will focus on the columns below as the doubt feature is potentially over-correlated."
   ]
  },
  {
   "cell_type": "markdown",
   "metadata": {
    "slideshow": {
     "slide_type": "slide"
    }
   },
   "source": [
    "##### Assessing Individual Features:\n",
    "\n",
    "Running SelectKBest on a few features individually to see which of their values is selected as most important.  This will help us consolidate some of those values and make a more specific dataframe. \n",
    "\n",
    "\n",
    "###### Group_name:"
   ]
  },
  {
   "cell_type": "code",
   "execution_count": null,
   "metadata": {
    "slideshow": {
     "slide_type": "subslide"
    }
   },
   "outputs": [],
   "source": [
    "# Getting dummies on our training and test sets (slight wrangling involved):\n",
    "names_train_X = cyber_train_X['group_name']\n",
    "names_test_X = cyber_test_X['group_name']\n",
    "\n",
    "names_train_index = cyber_train_X['group_name'].index\n",
    "names_test_index = cyber_test_X['group_name'].index\n",
    "\n",
    "names_dummy_prep = pd.concat([names_train_X, names_test_X])\n",
    "names_dummy_1 = pd.get_dummies(names_dummy_prep)\n",
    "\n",
    "# Filtering Training/Test Inputs:\n",
    "names_train_dummy_X = names_dummy_1.loc[names_train_index]\n",
    "names_test_dummy_X = names_dummy_1.loc[names_test_index]\n",
    "\n",
    "# Filtering Training Outputs:\n",
    "names_train_dummy_Y = cyber_train_Y.loc[names_train_index]\n",
    "names_test_dummy_Y = cyber_test_Y.loc[names_test_index]"
   ]
  },
  {
   "cell_type": "code",
   "execution_count": null,
   "metadata": {
    "slideshow": {
     "slide_type": "subslide"
    }
   },
   "outputs": [],
   "source": [
    "# Fitting model to our features and output.\n",
    "  # Again, we tried 30, 50 and 150, here. It seemed like 25-30 features gave us the best results.\n",
    "KBest_names = feature_selection.SelectKBest(k = 25)  \n",
    "names_train_KBest = KBest_names.fit_transform(names_train_dummy_X, names_train_dummy_Y)\n",
    "\n",
    "# Transforming our test set.\n",
    "names_test_KBest = KBest_names.transform(names_test_dummy_X)"
   ]
  },
  {
   "cell_type": "code",
   "execution_count": null,
   "metadata": {
    "scrolled": true,
    "slideshow": {
     "slide_type": "subslide"
    }
   },
   "outputs": [],
   "source": [
    "# Summarizing the scores for those top 25 features in a df:\n",
    "\n",
    "names_mask = KBest_names.get_support(indices = True)\n",
    "KBest_names_features = pd.DataFrame(names_train_dummy_X.columns[names_mask])\n",
    "\n",
    "KBest_names_features"
   ]
  },
  {
   "cell_type": "markdown",
   "metadata": {
    "slideshow": {
     "slide_type": "notes"
    }
   },
   "source": [
    "It looks like some of our groupings from above made it into the top-25 features, which is reassuring that our efforts above produced a result.  This also gives us a slightly broader view of the terrorist groups that are highly active, as opposed to overly-specific groups that might wash out the activity in other countries.\n",
    "\n",
    "This also points to another issue for consideration when performing future work on the dataset. When making these groups and filters, one will want to be sure to create groups that consider as much of the globe as possible. Otherwise, one would run the risk of coagulating a few groups together from one area, thereby increasing their significance, and over-powering the significance of other groups.  The groups we created above were an attempt at creating well-represented portions of the globe.  It would benefit, however, from more time and research so as to further tweak these groupings towards a higher accuracy."
   ]
  },
  {
   "cell_type": "markdown",
   "metadata": {
    "slideshow": {
     "slide_type": "skip"
    }
   },
   "source": [
    "###### City:"
   ]
  },
  {
   "cell_type": "code",
   "execution_count": null,
   "metadata": {
    "slideshow": {
     "slide_type": "skip"
    }
   },
   "outputs": [],
   "source": [
    "# Getting dummies on our training and test sets (slight wrangling involved):\n",
    "city_train_X = cyber_train_X['city']\n",
    "city_test_X = cyber_test_X['city']\n",
    "\n",
    "city_train_index = cyber_train_X['city'].index\n",
    "city_test_index = cyber_test_X['city'].index\n",
    "\n",
    "city_dummy_prep = pd.concat([city_train_X, city_test_X])\n",
    "city_dummy_1 = pd.get_dummies(city_dummy_prep)\n",
    "\n",
    "# Training/Test Inputs:\n",
    "city_train_dummy_X = city_dummy_1.loc[city_train_index]\n",
    "city_test_dummy_X = city_dummy_1.loc[city_test_index]\n",
    "\n",
    "# Training Output:\n",
    "city_train_dummy_Y = cyber_train_Y.loc[city_train_index]\n",
    "city_test_dummy_Y = cyber_test_Y.loc[city_test_index]"
   ]
  },
  {
   "cell_type": "code",
   "execution_count": null,
   "metadata": {
    "slideshow": {
     "slide_type": "skip"
    }
   },
   "outputs": [],
   "source": [
    "# Fitting model to our features and output.\n",
    "KBest_city = feature_selection.SelectKBest(k = 25) # Tried 30 and 150. 25-30 was our best range.\n",
    "city_train_KBest = KBest_city.fit_transform(city_train_dummy_X, city_train_dummy_Y)\n",
    "\n",
    "# Transforming our test set:\n",
    "city_test_KBest = KBest_city.transform(city_test_dummy_X)"
   ]
  },
  {
   "cell_type": "code",
   "execution_count": null,
   "metadata": {
    "slideshow": {
     "slide_type": "skip"
    }
   },
   "outputs": [],
   "source": [
    "# Summarizing the scores for those top 25 features in a df:\n",
    "pd.set_option('max_rows', 101)\n",
    "city_mask = KBest_city.get_support(indices = True)\n",
    "KBest_city_features = pd.DataFrame(city_train_dummy_X.columns[city_mask])\n",
    "KBest_city_features"
   ]
  },
  {
   "cell_type": "markdown",
   "metadata": {
    "slideshow": {
     "slide_type": "skip"
    }
   },
   "source": [
    "###### Weapontxt (weapon_train_dummy/weapon_train_output2):"
   ]
  },
  {
   "cell_type": "code",
   "execution_count": null,
   "metadata": {
    "slideshow": {
     "slide_type": "skip"
    }
   },
   "outputs": [],
   "source": [
    "# Getting dummies on our training and test sets (slight wrangling involved):\n",
    "weapon_train_X = cyber_train_X['weapontxt']\n",
    "weapon_test_X = cyber_test_X['weapontxt']\n",
    "\n",
    "weapon_train_index = cyber_train_X['weapontxt'].index\n",
    "weapon_test_index = cyber_test_X['weapontxt'].index\n",
    "\n",
    "weapon_dummy_prep = pd.concat([weapon_train_X, weapon_test_X])\n",
    "weapon_dummy_1 = pd.get_dummies(weapon_dummy_prep)\n",
    "\n",
    "# Training/Test Inputs:\n",
    "weapon_train_dummy_X = weapon_dummy_1.loc[weapon_train_index]\n",
    "weapon_test_dummy_X = weapon_dummy_1.loc[weapon_test_index]\n",
    "\n",
    "# Training Output:\n",
    "weapon_train_dummy_Y = cyber_train_Y.loc[weapon_train_index]\n",
    "weapon_test_dummy_Y = cyber_test_Y.loc[weapon_test_index]"
   ]
  },
  {
   "cell_type": "code",
   "execution_count": null,
   "metadata": {
    "slideshow": {
     "slide_type": "skip"
    }
   },
   "outputs": [],
   "source": [
    "# Fitting the model to our features and training output:\n",
    "\n",
    "KBest_weapon = feature_selection.SelectKBest(k = 3) # Tried 5, but 3 was best.\n",
    "weapon_train_KBest = KBest_weapon.fit_transform(weapon_train_dummy_X, weapon_train_dummy_Y)\n",
    "\n",
    "# Transforming our test set:\n",
    "weapon_test_KBest = KBest_weapon.transform(weapon_test_dummy_X)"
   ]
  },
  {
   "cell_type": "code",
   "execution_count": null,
   "metadata": {
    "slideshow": {
     "slide_type": "skip"
    }
   },
   "outputs": [],
   "source": [
    "# Summarizing the scores for those top 3 features in a df:\n",
    "\n",
    "weapon_mask = KBest_weapon.get_support(indices = True)\n",
    "KBest_weapon_features = pd.DataFrame(weapon_train_dummy_X.columns[weapon_mask])\n",
    "KBest_weapon_features "
   ]
  },
  {
   "cell_type": "markdown",
   "metadata": {
    "slideshow": {
     "slide_type": "skip"
    }
   },
   "source": [
    "From here, we can infer that while the data-set we are looking at somehow has consequences for cyber infrastructre or networks (including email and social networks as well as the physical networks), there seems to be a correlation with bombings and incendiary methods as well.  As such, we cannot rule out the possibility that cyber-related attacks are often related to physical or other forms of terrorist attacks (at least in the current analysis we are doing here)."
   ]
  },
  {
   "cell_type": "code",
   "execution_count": null,
   "metadata": {
    "slideshow": {
     "slide_type": "skip"
    }
   },
   "outputs": [],
   "source": [
    "del dummy_prep\n",
    "del dummy_1\n",
    "del names_dummy_prep\n",
    "del names_dummy_1\n",
    "del city_dummy_prep\n",
    "del city_dummy_1\n",
    "del weapon_dummy_prep\n",
    "del weapon_dummy_1\n",
    "\n",
    "gc.collect()"
   ]
  },
  {
   "cell_type": "markdown",
   "metadata": {
    "slideshow": {
     "slide_type": "slide"
    }
   },
   "source": [
    "#### B. Principle Component Analysis:\n",
    "##### Assessing the Overall DataFrame:"
   ]
  },
  {
   "cell_type": "code",
   "execution_count": null,
   "metadata": {
    "slideshow": {
     "slide_type": "subslide"
    }
   },
   "outputs": [],
   "source": [
    "from sklearn.decomposition import PCA\n",
    "\n",
    "# Using the whole dataset (cyber_train_data):\n",
    "PCA_1 = PCA(n_components = 25)  # Tried 30 and 500\n",
    "cyber_train_PCA = PCA_1.fit_transform(cyber_train_dummy_X)  \n",
    "cyber_test_PCA = PCA_1.transform(cyber_test_dummy_X)"
   ]
  },
  {
   "cell_type": "markdown",
   "metadata": {
    "slideshow": {
     "slide_type": "slide"
    }
   },
   "source": [
    "##### Assessing Individual Features\n",
    "\n",
    "###### Group_name:"
   ]
  },
  {
   "cell_type": "code",
   "execution_count": null,
   "metadata": {
    "slideshow": {
     "slide_type": "subslide"
    }
   },
   "outputs": [],
   "source": [
    "# Now looking at group_name values:\n",
    "PCA_name = PCA(n_components = 25) # Tried 30 and 150\n",
    "name_train_PCA = PCA_name.fit_transform(names_train_dummy_X)\n",
    "name_test_PCA = PCA_name.transform(names_test_dummy_X)"
   ]
  },
  {
   "cell_type": "markdown",
   "metadata": {
    "slideshow": {
     "slide_type": "skip"
    }
   },
   "source": [
    "###### City:"
   ]
  },
  {
   "cell_type": "code",
   "execution_count": null,
   "metadata": {
    "slideshow": {
     "slide_type": "skip"
    }
   },
   "outputs": [],
   "source": [
    "# Then some city stuff:\n",
    "PCA_cities = PCA(n_components = 25) # Tried 30 and 150\n",
    "cities_train_PCA = PCA_cities.fit_transform(city_train_dummy_X)\n",
    "cities_test_PCA = PCA_cities.transform(city_test_dummy_X)"
   ]
  },
  {
   "cell_type": "markdown",
   "metadata": {
    "slideshow": {
     "slide_type": "skip"
    }
   },
   "source": [
    "###### Weapontxt:"
   ]
  },
  {
   "cell_type": "code",
   "execution_count": null,
   "metadata": {
    "slideshow": {
     "slide_type": "skip"
    }
   },
   "outputs": [],
   "source": [
    "# Group_subweapon:\n",
    "PCA_weapon = PCA(n_components = 3)  # Tried 5\n",
    "weapon_train_PCA = PCA_weapon.fit_transform(weapon_train_dummy_X)\n",
    "weapon_test_PCA = PCA_weapon.transform(weapon_test_dummy_X)"
   ]
  },
  {
   "cell_type": "markdown",
   "metadata": {
    "slideshow": {
     "slide_type": "slide"
    }
   },
   "source": [
    "#### C. Creating Specified DF with Selected Features:\n",
    "\n",
    "##### DataFrame from KBest Algorithms:"
   ]
  },
  {
   "cell_type": "code",
   "execution_count": null,
   "metadata": {
    "slideshow": {
     "slide_type": "subslide"
    }
   },
   "outputs": [],
   "source": [
    "# Training:\n",
    "alpha = pd.DataFrame(cyber_train_KBest1, columns = KBest_1_features[0])\n",
    "beta = pd.DataFrame(names_train_KBest, columns = KBest_names_features[0])\n",
    "gamma = pd.DataFrame(city_train_KBest, columns = KBest_city_features[0])\n",
    "delta = pd.DataFrame(weapon_train_KBest, columns = KBest_weapon_features[0])\n",
    "\n",
    "KBest_train_X = pd.concat([alpha, beta, gamma, delta], axis = 1)"
   ]
  },
  {
   "cell_type": "code",
   "execution_count": null,
   "metadata": {
    "slideshow": {
     "slide_type": "skip"
    }
   },
   "outputs": [],
   "source": [
    "# Test:\n",
    "alpha2 = pd.DataFrame(cyber_test_KBest1, columns = KBest_1_features[0])\n",
    "beta2 = pd.DataFrame(names_test_KBest, columns = KBest_names_features[0])\n",
    "gamma2 = pd.DataFrame(city_test_KBest, columns = KBest_city_features[0])\n",
    "delta2 = pd.DataFrame(weapon_test_KBest, columns = KBest_weapon_features[0])\n",
    "\n",
    "KBest_test_X = pd.concat([alpha2, beta2, gamma2, delta2], axis = 1)"
   ]
  },
  {
   "cell_type": "code",
   "execution_count": null,
   "metadata": {
    "slideshow": {
     "slide_type": "skip"
    }
   },
   "outputs": [],
   "source": [
    "del alpha\n",
    "del beta\n",
    "del gamma\n",
    "del delta\n",
    "del alpha2\n",
    "del beta2\n",
    "del gamma2\n",
    "del delta2\n",
    "del cyber_train_KBest1\n",
    "del names_train_KBest\n",
    "del city_train_KBest\n",
    "del weapon_train_KBest\n",
    "del cyber_test_KBest1\n",
    "del names_test_KBest\n",
    "del city_test_KBest\n",
    "del weapon_test_KBest\n",
    "\n",
    "gc.collect()"
   ]
  },
  {
   "cell_type": "markdown",
   "metadata": {
    "slideshow": {
     "slide_type": "slide"
    }
   },
   "source": [
    "##### DataFrame from PCA:"
   ]
  },
  {
   "cell_type": "code",
   "execution_count": null,
   "metadata": {
    "slideshow": {
     "slide_type": "subslide"
    }
   },
   "outputs": [],
   "source": [
    "# Training:\n",
    "cyber_train_PCA = pd.DataFrame(cyber_train_PCA)\n",
    "name_train_PCA = pd.DataFrame(name_train_PCA)\n",
    "cities_train_PCA = pd.DataFrame(cities_train_PCA)\n",
    "weapon_train_PCA = pd.DataFrame(weapon_train_PCA)\n",
    "\n",
    "PCA_train_X = pd.DataFrame()\n",
    "PCA_train_X = pd.concat([cyber_train_PCA, name_train_PCA, cities_train_PCA, weapon_train_PCA], axis = 1)"
   ]
  },
  {
   "cell_type": "code",
   "execution_count": null,
   "metadata": {
    "slideshow": {
     "slide_type": "skip"
    }
   },
   "outputs": [],
   "source": [
    "# Test:\n",
    "cyber_test_PCA = pd.DataFrame(cyber_test_PCA)\n",
    "name_test_PCA = pd.DataFrame(name_test_PCA)\n",
    "cities_test_PCA = pd.DataFrame(cities_test_PCA)\n",
    "weapon_test_PCA = pd.DataFrame(weapon_test_PCA)\n",
    "\n",
    "PCA_test_X = pd.DataFrame()\n",
    "PCA_test_X = pd.concat([cyber_test_PCA, name_test_PCA, cities_test_PCA, weapon_test_PCA], axis = 1)"
   ]
  },
  {
   "cell_type": "code",
   "execution_count": null,
   "metadata": {
    "slideshow": {
     "slide_type": "skip"
    }
   },
   "outputs": [],
   "source": [
    "del cyber_train_PCA\n",
    "del name_train_PCA\n",
    "del cities_train_PCA\n",
    "del weapon_train_PCA\n",
    "del cyber_test_PCA\n",
    "del name_test_PCA\n",
    "del cities_test_PCA\n",
    "del weapon_test_PCA\n",
    "\n",
    "gc.collect()"
   ]
  },
  {
   "cell_type": "markdown",
   "metadata": {
    "slideshow": {
     "slide_type": "slide"
    }
   },
   "source": [
    "### 4. Preliminary Models:\n",
    "\n",
    "Starting with a simple Logistic Regression since our output feature is binary. Afterwards, we will move on to our Random Forest, Support Vector Classifier and Gradient Booster. We chose these models since they often work well with binary output features. These models will also be discussed below in more detail."
   ]
  },
  {
   "cell_type": "markdown",
   "metadata": {
    "slideshow": {
     "slide_type": "subslide"
    }
   },
   "source": [
    "#### Logistic Regression:\n",
    "\n",
    "##### KBest Features:"
   ]
  },
  {
   "cell_type": "code",
   "execution_count": null,
   "metadata": {
    "slideshow": {
     "slide_type": "subslide"
    }
   },
   "outputs": [],
   "source": [
    "from sklearn.linear_model import LogisticRegression\n",
    "from sklearn.metrics import confusion_matrix, balanced_accuracy_score\n",
    "from sklearn.model_selection import cross_val_score\n",
    "\n",
    "KBest_logistic = LogisticRegression()\n",
    "\n",
    "KBest_logistic = KBest_logistic.fit(KBest_train_X, cyber_train_dummy_Y)\n",
    "KBest_logistic_train_pred_ = KBest_logistic.predict(KBest_train_X)\n",
    "KBest_logistic_test_pred_ = KBest_logistic.predict(KBest_test_X)\n",
    "\n",
    "# Evaluation:\n",
    "  # Confustion Matrices:    \n",
    "KBest_logistic_confusion_train = confusion_matrix(cyber_train_dummy_Y, KBest_logistic_train_pred_, labels = [0, 1])\n",
    "KBest_logistic_confusion_test = confusion_matrix(cyber_test_dummy_Y, KBest_logistic_test_pred_, labels = [0, 1])\n",
    "\n",
    "  # Cross-validation and train/test scores:\n",
    "KBest_logistic_cv = cross_val_score(KBest_logistic, KBest_train_X, cyber_train_dummy_Y, \n",
    "                                    scoring = 'balanced_accuracy', cv = 5)\n",
    "\n",
    "  # Looking at balanced accuracy/f1 scores:\n",
    "KBest_logistic_train = balanced_accuracy_score(cyber_train_dummy_Y, KBest_logistic_train_pred_)    \n",
    "KBest_logistic_test = balanced_accuracy_score(cyber_test_dummy_Y, KBest_logistic_test_pred_)    "
   ]
  },
  {
   "cell_type": "code",
   "execution_count": null,
   "metadata": {
    "slideshow": {
     "slide_type": "subslide"
    }
   },
   "outputs": [],
   "source": [
    "plusminus = u\"\\u00B1\"\n",
    "print(\"\\nThe mean cross-validation score is: {:.2%} {}{:.2%}\".format(KBest_logistic_cv.mean(),\n",
    "                                                                     plusminus, KBest_logistic_cv.std()))\n",
    "print(\"The cv scores are: {}\".format(KBest_logistic_cv))\n",
    "\n",
    "conf_df = pd.DataFrame(KBest_logistic_confusion_train)\n",
    "\n",
    "FP = conf_df.loc[0, 1]\n",
    "FN = conf_df.loc[1, 0]\n",
    "NegT = conf_df.iloc[0].sum()\n",
    "PosT = conf_df.iloc[1].sum()\n",
    "\n",
    "print(\"\\nTraining-Set Metrics:\")\n",
    "print(conf_df)\n",
    "print('\\nFalse Positive/Type I Error: {} ({:.2%})'.format(FP, (FP / NegT)))\n",
    "print('False Negative/Type II Error: {} ({:.2%})'.format(FN, (FN / PosT)))\n",
    "print('Balanced Accuracy: {:.2%}\\n'.format(KBest_logistic_train))\n",
    "\n",
    "conf_df2 = pd.DataFrame(KBest_logistic_confusion_test)\n",
    "\n",
    "FP2 = conf_df2.loc[0, 1]\n",
    "FN2 = conf_df2.loc[1, 0]\n",
    "NegT2 = conf_df2.iloc[0].sum()\n",
    "PosT2 = conf_df2.iloc[1].sum()\n",
    "\n",
    "print(\"Test-Set Metrics:\")\n",
    "print(conf_df2)\n",
    "print('\\nFalse Positive/Type I Error: {} ({:.2%})'.format(FP2, (FP2 / NegT2)))\n",
    "print('False Negative/Type II Error: {} ({:.2%})'.format(FN2, (FN2 / PosT2)))\n",
    "print('Balanced Accuracy: {:.2%}'.format(KBest_logistic_test))"
   ]
  },
  {
   "cell_type": "code",
   "execution_count": null,
   "metadata": {
    "slideshow": {
     "slide_type": "skip"
    }
   },
   "outputs": [],
   "source": [
    "del KBest_logistic\n",
    "del KBest_logistic_train_pred_\n",
    "del KBest_logistic_test_pred_ \n",
    "del KBest_logistic_confusion_train\n",
    "del KBest_logistic_confusion_test\n",
    "del KBest_logistic_cv\n",
    "del KBest_logistic_train\n",
    "del KBest_logistic_test\n",
    "gc.collect()"
   ]
  },
  {
   "cell_type": "markdown",
   "metadata": {
    "slideshow": {
     "slide_type": "slide"
    }
   },
   "source": [
    "##### PCA Features:"
   ]
  },
  {
   "cell_type": "code",
   "execution_count": null,
   "metadata": {
    "slideshow": {
     "slide_type": "subslide"
    }
   },
   "outputs": [],
   "source": [
    "PCA_logistic = LogisticRegression()\n",
    "\n",
    "PCA_logistic = PCA_logistic.fit(PCA_train_X, cyber_train_dummy_Y)\n",
    "PCA_logistic_train_pred_ = PCA_logistic.predict(PCA_train_X)\n",
    "PCA_logistic_test_pred_ = PCA_logistic.predict(PCA_test_X)\n",
    "\n",
    "# Evaluation:\n",
    "  # Confustion Matrices:    \n",
    "PCA_logistic_confusion_train = confusion_matrix(cyber_train_dummy_Y, PCA_logistic_train_pred_, labels = [0, 1])\n",
    "PCA_logistic_confusion_test = confusion_matrix(cyber_test_dummy_Y, PCA_logistic_test_pred_, labels = [0, 1])\n",
    "\n",
    "  # Cross-validation and train/test scores:\n",
    "PCA_logistic_cv = cross_val_score(PCA_logistic, PCA_train_X, cyber_train_dummy_Y,\n",
    "                                  scoring = 'balanced_accuracy', cv = 5)\n",
    "\n",
    "  # Looking at balanced accuracy/f1 scores:\n",
    "PCA_logistic_train = balanced_accuracy_score(cyber_train_dummy_Y, PCA_logistic_train_pred_)    \n",
    "PCA_logistic_test = balanced_accuracy_score(cyber_test_dummy_Y, PCA_logistic_test_pred_)    "
   ]
  },
  {
   "cell_type": "code",
   "execution_count": null,
   "metadata": {
    "slideshow": {
     "slide_type": "subslide"
    }
   },
   "outputs": [],
   "source": [
    "plusminus = u\"\\u00B1\"\n",
    "print(\"\\nThe mean cross-validation score is: {:.2%} {}{:.2%}\".format(PCA_logistic_cv.mean(),\n",
    "                                                                     plusminus, PCA_logistic_cv.std()))\n",
    "print(\"The cv scores are: {}\".format(PCA_logistic_cv))\n",
    "\n",
    "conf_df = pd.DataFrame(PCA_logistic_confusion_train)\n",
    "\n",
    "FP = conf_df.loc[0, 1]\n",
    "FN = conf_df.loc[1, 0]\n",
    "NegT = conf_df.iloc[0].sum()\n",
    "PosT = conf_df.iloc[1].sum()\n",
    "\n",
    "print(\"\\nTraining-Set Metrics:\")\n",
    "print(conf_df)\n",
    "print('\\nFalse Positive/Type I Error: {} ({:.2%})'.format(FP, (FP / NegT)))\n",
    "print('False Negative/Type II Error: {} ({:.2%})'.format(FN, (FN / PosT)))\n",
    "print('Balanced Accuracy: {:.2%}\\n'.format(PCA_logistic_train))\n",
    "\n",
    "conf_df2 = pd.DataFrame(PCA_logistic_confusion_test)\n",
    "\n",
    "FP2 = conf_df2.loc[0, 1]\n",
    "FN2 = conf_df2.loc[1, 0]\n",
    "NegT2 = conf_df2.iloc[0].sum()\n",
    "PosT2 = conf_df2.iloc[1].sum()\n",
    "\n",
    "print(\"Test-Set Metrics:\")\n",
    "print(conf_df2)\n",
    "print('\\nFalse Positive/Type I Error: {} ({:.2%})'.format(FP2, (FP2 / NegT2)))\n",
    "print('False Negative/Type II Error: {} ({:.2%})'.format(FN2, (FN2 / PosT2)))\n",
    "print('Balanced Accuracy: {:.2%}'.format(PCA_logistic_test))"
   ]
  },
  {
   "cell_type": "markdown",
   "metadata": {
    "slideshow": {
     "slide_type": "subslide"
    }
   },
   "source": [
    "Now, while we do have some decent scores here, especially regarding the true positive predictions, we do have a class imbalance issue we will need to take into consideration (as demonstrated below).  One way of doing that will work on increasing the accuracy of our true negatives and focusing less on our true positives. It will also help to take into consideration our False Negatives and Positives. Lowering these will help strengthen our model and give us more predictive integrity.  In other words, we want to make sure we avoid as many False Negatives (i.e. instances where our model does not predict a terrorist attack, when instead one does, in fact, occur) as possible.  We also want to be sure we are keeping our False Positive count as low as possible since responding to predicted terrorist incidents when there are none will exhaust resources and employees - in turn taking away their energies from realistic threats. \n",
    "\n",
    "In order to do so, we have implemented the Balanced Accuracy score, which gives us an average of our False Negatives and Positives.  It allows us to consider another aspect of the model results outside of the training and test-set scores (which only allow us to see on aspect of a model's predictive results).  The Balanced Accuracy is a nice addition to the confusion matrix, which gives us the hard-numbers which are factored into the Balanced Accuracy score.  In assessing the models above along with those below, we will be looking at all of these evaluation methods in order to determine which model is the best and make our reasoning as well-rounded as possible. "
   ]
  },
  {
   "cell_type": "code",
   "execution_count": null,
   "metadata": {
    "slideshow": {
     "slide_type": "skip"
    }
   },
   "outputs": [],
   "source": [
    "print(cyber_train_dummy_Y.success.value_counts())\n",
    "print(cyber_test_dummy_Y.success.value_counts())"
   ]
  },
  {
   "cell_type": "code",
   "execution_count": null,
   "metadata": {
    "slideshow": {
     "slide_type": "skip"
    }
   },
   "outputs": [],
   "source": [
    "del PCA_logistic\n",
    "del PCA_logistic_train_pred_\n",
    "del PCA_logistic_test_pred_ \n",
    "del PCA_logistic_confusion_train\n",
    "del PCA_logistic_confusion_test\n",
    "del PCA_logistic_cv\n",
    "del PCA_logistic_train\n",
    "del PCA_logistic_test\n",
    "gc.collect()"
   ]
  },
  {
   "cell_type": "markdown",
   "metadata": {
    "slideshow": {
     "slide_type": "skip"
    }
   },
   "source": [
    "#### Random Forest:\n",
    "\n",
    "##### KBest Features:"
   ]
  },
  {
   "cell_type": "code",
   "execution_count": null,
   "metadata": {
    "slideshow": {
     "slide_type": "skip"
    }
   },
   "outputs": [],
   "source": [
    "from sklearn.ensemble import RandomForestClassifier\n",
    "\n",
    "KBest_forest = RandomForestClassifier(n_estimators = 30, max_depth = 12)\n",
    "\n",
    "KBest_forest = KBest_forest.fit(KBest_train_X, cyber_train_dummy_Y)\n",
    "KBest_forest_train_pred_ = KBest_forest.predict(KBest_train_X)\n",
    "KBest_forest_test_pred_ = KBest_forest.predict(KBest_test_X)\n",
    "\n",
    "# Evaluation:\n",
    "  # Confustion Matrices:    \n",
    "KBest_forest_confusion_train = confusion_matrix(cyber_train_dummy_Y, KBest_forest_train_pred_, labels = [0, 1])\n",
    "KBest_forest_confusion_test = confusion_matrix(cyber_test_dummy_Y, KBest_forest_test_pred_, labels = [0, 1])\n",
    "\n",
    "  # Cross-validation and train/test scores:\n",
    "KBest_forest_cv = cross_val_score(KBest_forest, KBest_train_X, cyber_train_dummy_Y, \n",
    "                                  scoring = 'balanced_accuracy', cv = 5)\n",
    "\n",
    "  # Looking at balanced accuracy/f1 scores:\n",
    "KBest_forest_train = balanced_accuracy_score(cyber_train_dummy_Y, KBest_forest_train_pred_)    \n",
    "KBest_forest_test = balanced_accuracy_score(cyber_test_dummy_Y, KBest_forest_test_pred_)    \n",
    "    "
   ]
  },
  {
   "cell_type": "code",
   "execution_count": null,
   "metadata": {
    "slideshow": {
     "slide_type": "skip"
    }
   },
   "outputs": [],
   "source": [
    "plusminus = u\"\\u00B1\"\n",
    "print(\"\\nThe mean cross-validation score is: {:.2%} {}{:.2%}\".format(KBest_forest_cv.mean(),\n",
    "                                                                     plusminus, KBest_forest_cv.std()))\n",
    "print(\"The cv scores are: {}\".format(KBest_forest_cv))\n",
    "\n",
    "conf_df = pd.DataFrame(KBest_forest_confusion_train)\n",
    "\n",
    "FP = conf_df.loc[0, 1]\n",
    "FN = conf_df.loc[1, 0]\n",
    "NegT = conf_df.iloc[0].sum()\n",
    "PosT = conf_df.iloc[1].sum()\n",
    "\n",
    "print(\"\\nTraining-Set Metrics:\")\n",
    "print(conf_df)\n",
    "print('\\nFalse Positive/Type I Error: {} ({:.2%})'.format(FP, (FP / NegT)))\n",
    "print('False Negative/Type II Error: {} ({:.2%})'.format(FN, (FN / PosT)))\n",
    "print('Balanced Accuracy: {:.2%}\\n'.format(KBest_forest_train))\n",
    "\n",
    "conf_df2 = pd.DataFrame(KBest_forest_confusion_test)\n",
    "\n",
    "FP2 = conf_df2.loc[0, 1]\n",
    "FN2 = conf_df2.loc[1, 0]\n",
    "NegT2 = conf_df2.iloc[0].sum()\n",
    "PosT2 = conf_df2.iloc[1].sum()\n",
    "\n",
    "print(\"Test-Set Metrics:\")\n",
    "print(conf_df2)\n",
    "print('\\nFalse Positive/Type I Error: {} ({:.2%})'.format(FP2, (FP2 / NegT2)))\n",
    "print('False Negative/Type II Error: {} ({:.2%})'.format(FN2, (FN2 / PosT2)))\n",
    "print('Balanced Accuracy: {:.2%}'.format(KBest_forest_test))\n",
    "\n",
    "print('\\n\\nFeature Importances:\\n')\n",
    "feat_imp = pd.DataFrame(KBest_forest.feature_importances_.round(2), index = KBest_train_X.columns, \n",
    "                        columns = [\"Importances\"])\n",
    "display(feat_imp.sort_values('Importances', ascending = False))"
   ]
  },
  {
   "cell_type": "code",
   "execution_count": null,
   "metadata": {
    "slideshow": {
     "slide_type": "skip"
    }
   },
   "outputs": [],
   "source": [
    "del KBest_forest\n",
    "del KBest_forest_train_pred_\n",
    "del KBest_forest_test_pred_ \n",
    "del KBest_forest_confusion_train\n",
    "del KBest_forest_confusion_test\n",
    "del KBest_forest_cv\n",
    "del KBest_forest_train\n",
    "del KBest_forest_test\n",
    "gc.collect()"
   ]
  },
  {
   "cell_type": "markdown",
   "metadata": {
    "slideshow": {
     "slide_type": "skip"
    }
   },
   "source": [
    "##### PCA Features"
   ]
  },
  {
   "cell_type": "code",
   "execution_count": null,
   "metadata": {
    "slideshow": {
     "slide_type": "skip"
    }
   },
   "outputs": [],
   "source": [
    "PCA_forest = RandomForestClassifier()\n",
    "\n",
    "PCA_forest = PCA_forest.fit(PCA_train_X, cyber_train_dummy_Y)\n",
    "PCA_forest_train_pred_ = PCA_forest.predict(PCA_train_X)\n",
    "PCA_forest_test_pred_ = PCA_forest.predict(PCA_test_X)\n",
    "\n",
    "# Evaluation:\n",
    "  # Confusion Matrices:\n",
    "PCA_forest_confusion_train = confusion_matrix(cyber_train_dummy_Y, PCA_forest_train_pred_, labels = [0, 1])\n",
    "PCA_forest_confusion_test = confusion_matrix(cyber_test_dummy_Y, PCA_forest_test_pred_, labels = [0, 1])\n",
    "\n",
    "  # Cross-validation and train/test scores:\n",
    "PCA_forest_cv = cross_val_score(PCA_forest, PCA_train_X, cyber_train_dummy_Y, \n",
    "                                scoring = 'balanced_accuracy', cv = 5)\n",
    "\n",
    "  # Looking and balanced accuracy/f1 scores:\n",
    "PCA_forest_train = balanced_accuracy_score(cyber_train_dummy_Y, PCA_forest_train_pred_)    \n",
    "PCA_forest_test = balanced_accuracy_score(cyber_test_dummy_Y, PCA_forest_test_pred_)    "
   ]
  },
  {
   "cell_type": "code",
   "execution_count": null,
   "metadata": {
    "scrolled": true,
    "slideshow": {
     "slide_type": "skip"
    }
   },
   "outputs": [],
   "source": [
    "plusminus = u\"\\u00B1\"\n",
    "print(\"\\nThe mean cross-validation score is: {:.2%} {}{:.2%}\".format(PCA_forest_cv.mean(),\n",
    "                                                                     plusminus, PCA_forest_cv.std()))\n",
    "print(\"The cv scores are: {}\".format(PCA_forest_cv))\n",
    "\n",
    "conf_df = pd.DataFrame(PCA_forest_confusion_train)\n",
    "\n",
    "FP = conf_df.loc[0, 1]\n",
    "FN = conf_df.loc[1, 0]\n",
    "NegT = conf_df.iloc[0].sum()\n",
    "PosT = conf_df.iloc[1].sum()\n",
    "\n",
    "print(\"\\nTraining-Set Metrics:\")\n",
    "print(conf_df)\n",
    "print('\\nFalse Positive/Type I Error: {} ({:.2%})'.format(FP, (FP / NegT)))\n",
    "print('False Negative/Type II Error: {} ({:.2%})'.format(FN, (FN / PosT)))\n",
    "print('Balanced Accuracy: {:.2%}\\n'.format(PCA_forest_train))\n",
    "\n",
    "conf_df2 = pd.DataFrame(PCA_forest_confusion_test)\n",
    "\n",
    "FP2 = conf_df2.loc[0, 1]\n",
    "FN2 = conf_df2.loc[1, 0]\n",
    "NegT2 = conf_df2.iloc[0].sum()\n",
    "PosT2 = conf_df2.iloc[1].sum()\n",
    "\n",
    "print(\"Test-Set Metrics:\")\n",
    "print(conf_df2)\n",
    "print('\\nFalse Positive/Type I Error: {} ({:.2%})'.format(FP2, (FP2 / NegT2)))\n",
    "print('False Negative/Type II Error: {} ({:.2%})'.format(FN2, (FN2 / PosT2)))\n",
    "print('Balanced Accuracy: {:.2%}'.format(PCA_forest_test))\n"
   ]
  },
  {
   "cell_type": "markdown",
   "metadata": {
    "slideshow": {
     "slide_type": "skip"
    }
   },
   "source": [
    "Here, we can see quite a bit of over-fitting given that the training score and balanced accuracy scores are nearly perfect, while the test score is about 5 percentage points lower than the training score and over 20 points below the balanced accuracy (a drastic difference compared to what we have seen thus far). The nice aspect about the Random Forest, however, is that it lets us look into the feature importances which were used in creating the model, which we saw in the KBest model above."
   ]
  },
  {
   "cell_type": "code",
   "execution_count": null,
   "metadata": {
    "slideshow": {
     "slide_type": "skip"
    }
   },
   "outputs": [],
   "source": [
    "del PCA_forest\n",
    "del PCA_forest_train_pred_\n",
    "del PCA_forest_test_pred_ \n",
    "del PCA_forest_confusion_train\n",
    "del PCA_forest_confusion_test\n",
    "del PCA_forest_cv\n",
    "del PCA_forest_train\n",
    "del PCA_forest_test\n",
    "gc.collect()"
   ]
  },
  {
   "cell_type": "markdown",
   "metadata": {
    "slideshow": {
     "slide_type": "slide"
    }
   },
   "source": [
    "#### Support Vector Classifier:\n",
    "\n",
    "##### KBest Features:"
   ]
  },
  {
   "cell_type": "code",
   "execution_count": null,
   "metadata": {
    "slideshow": {
     "slide_type": "subslide"
    }
   },
   "outputs": [],
   "source": [
    "from sklearn.svm import SVC\n",
    "\n",
    "KBest_SVC = SVC()\n",
    "\n",
    "KBest_SVC = KBest_SVC.fit(KBest_train_X, cyber_train_dummy_Y)\n",
    "KBest_SVC_train_pred_ = KBest_SVC.predict(KBest_train_X)\n",
    "KBest_SVC_test_pred_ = KBest_SVC.predict(KBest_test_X)\n",
    "\n",
    "# Evaluation:\n",
    "  # Confusion matrices:\n",
    "KBest_SVC_confusion_train = confusion_matrix(cyber_train_dummy_Y, KBest_SVC_train_pred_, labels = [0, 1])\n",
    "KBest_SVC_confusion_test = confusion_matrix(cyber_test_dummy_Y, KBest_SVC_test_pred_, labels = [0, 1])\n",
    "\n",
    "  # Cross-validation and train/test scores:\n",
    "KBest_SVC_cv = cross_val_score(KBest_SVC, KBest_train_X, cyber_train_dummy_Y, \n",
    "                               scoring = 'balanced_accuracy', cv = 5)\n",
    "\n",
    "  # Looking at balanced accuracy/f1 scores:\n",
    "KBest_SVC_train = balanced_accuracy_score(cyber_train_dummy_Y, KBest_SVC_train_pred_)\n",
    "KBest_SVC_test = balanced_accuracy_score(cyber_test_dummy_Y, KBest_SVC_test_pred_)    "
   ]
  },
  {
   "cell_type": "code",
   "execution_count": null,
   "metadata": {
    "slideshow": {
     "slide_type": "subslide"
    }
   },
   "outputs": [],
   "source": [
    "plusminus = u\"\\u00B1\"\n",
    "print(\"\\nThe mean cross-validation score is: {:.2%} {}{:.2%}\".format(KBest_SVC_cv.mean(),\n",
    "                                                                     plusminus, KBest_SVC_cv.std()))\n",
    "print(\"The cv scores are: {}\".format(KBest_SVC_cv))\n",
    "\n",
    "conf_df = pd.DataFrame(KBest_SVC_confusion_train)\n",
    "\n",
    "FP = conf_df.loc[0, 1]\n",
    "FN = conf_df.loc[1, 0]\n",
    "NegT = conf_df.iloc[0].sum()\n",
    "PosT = conf_df.iloc[1].sum()\n",
    "\n",
    "print(\"\\nTraining-Set Metrics:\")\n",
    "print(conf_df)\n",
    "print('\\nFalse Positive/Type I Error: {} ({:.2%})'.format(FP, (FP / NegT)))\n",
    "print('False Negative/Type II Error: {} ({:.2%})'.format(FN, (FN / PosT)))\n",
    "print('Balanced Accuracy: {:.2%}\\n'.format(KBest_SVC_train))\n",
    "\n",
    "conf_df2 = pd.DataFrame(KBest_SVC_confusion_test)\n",
    "\n",
    "FP2 = conf_df2.loc[0, 1]\n",
    "FN2 = conf_df2.loc[1, 0]\n",
    "NegT2 = conf_df2.iloc[0].sum()\n",
    "PosT2 = conf_df2.iloc[1].sum()\n",
    "\n",
    "print(\"Test-Set Metrics:\")\n",
    "print(conf_df2)\n",
    "print('\\nFalse Positive/Type I Error: {} ({:.2%})'.format(FP2, (FP2 / NegT2)))\n",
    "print('False Negative/Type II Error: {} ({:.2%})'.format(FN2, (FN2 / PosT2)))\n",
    "print('Balanced Accuracy: {:.2%}'.format(KBest_SVC_test))"
   ]
  },
  {
   "cell_type": "code",
   "execution_count": null,
   "metadata": {
    "slideshow": {
     "slide_type": "skip"
    }
   },
   "outputs": [],
   "source": [
    "del KBest_SVC\n",
    "del KBest_SVC_train_pred_\n",
    "del KBest_SVC_test_pred_ \n",
    "del KBest_SVC_confusion_train\n",
    "del KBest_SVC_confusion_test\n",
    "del KBest_SVC_cv\n",
    "del KBest_SVC_train\n",
    "del KBest_SVC_test\n",
    "gc.collect()"
   ]
  },
  {
   "cell_type": "markdown",
   "metadata": {
    "slideshow": {
     "slide_type": "slide"
    }
   },
   "source": [
    "##### PCA Features"
   ]
  },
  {
   "cell_type": "code",
   "execution_count": null,
   "metadata": {
    "slideshow": {
     "slide_type": "subslide"
    }
   },
   "outputs": [],
   "source": [
    "PCA_SVC = SVC()\n",
    "\n",
    "PCA_SVC = PCA_SVC.fit(PCA_train_X, cyber_train_dummy_Y)\n",
    "PCA_SVC_train_pred_ = PCA_SVC.predict(PCA_train_X)\n",
    "PCA_SVC_test_pred_ = PCA_SVC.predict(PCA_test_X)\n",
    "\n",
    "# Evaluation:\n",
    "  # Confusion Matrices:\n",
    "PCA_SVC_confusion_train = confusion_matrix(cyber_train_dummy_Y, PCA_SVC_train_pred_, labels = [0, 1])\n",
    "PCA_SVC_confusion_test = confusion_matrix(cyber_test_dummy_Y, PCA_SVC_test_pred_, labels = [0, 1])\n",
    "\n",
    "  # Cross-validation and train/test scores:\n",
    "PCA_SVC_cv = cross_val_score(PCA_SVC, PCA_train_X, cyber_train_dummy_Y, \n",
    "                             scoring = 'balanced_accuracy', cv = 5)\n",
    "\n",
    "  # Looking at the F1/balanced accuracy scores:\n",
    "PCA_SVC_train = balanced_accuracy_score(cyber_train_dummy_Y, PCA_SVC_train_pred_)\n",
    "PCA_SVC_test = balanced_accuracy_score(cyber_test_dummy_Y, PCA_SVC_test_pred_)"
   ]
  },
  {
   "cell_type": "code",
   "execution_count": null,
   "metadata": {
    "slideshow": {
     "slide_type": "subslide"
    }
   },
   "outputs": [],
   "source": [
    "plusminus = u\"\\u00B1\"\n",
    "print(\"\\nThe mean cross-validation score is: {:.2%} {}{:.2%}\".format(PCA_SVC_cv.mean(),\n",
    "                                                                     plusminus, PCA_SVC_cv.std()))\n",
    "print(\"The cv scores are: {}\".format(PCA_SVC_cv))\n",
    "\n",
    "conf_df = pd.DataFrame(PCA_SVC_confusion_train)\n",
    "\n",
    "FP = conf_df.loc[0, 1]\n",
    "FN = conf_df.loc[1, 0]\n",
    "NegT = conf_df.iloc[0].sum()\n",
    "PosT = conf_df.iloc[1].sum()\n",
    "\n",
    "print(\"\\nTraining-Set Metrics:\")\n",
    "print(conf_df)\n",
    "print('\\nFalse Positive/Type I Error: {} ({:.2%})'.format(FP, (FP / NegT)))\n",
    "print('False Negative/Type II Error: {} ({:.2%})'.format(FN, (FN / PosT)))\n",
    "print('Balanced Accuracy: {:.2%}\\n'.format(PCA_SVC_train))\n",
    "\n",
    "conf_df2 = pd.DataFrame(PCA_SVC_confusion_test)\n",
    "\n",
    "FP2 = conf_df2.loc[0, 1]\n",
    "FN2 = conf_df2.loc[1, 0]\n",
    "NegT2 = conf_df2.iloc[0].sum()\n",
    "PosT2 = conf_df2.iloc[1].sum()\n",
    "\n",
    "print(\"Test-Set Metrics:\")\n",
    "print(conf_df2)\n",
    "print('\\nFalse Positive/Type I Error: {} ({:.2%})'.format(FP2, (FP2 / NegT2)))\n",
    "print('False Negative/Type II Error: {} ({:.2%})'.format(FN2, (FN2 / PosT2)))\n",
    "print('Balanced Accuracy: {:.2%}'.format(PCA_SVC_test))"
   ]
  },
  {
   "cell_type": "markdown",
   "metadata": {
    "slideshow": {
     "slide_type": "skip"
    }
   },
   "source": [
    "These support vector models are considerably stable in the sense that they are able to achieve similar test scores throughout various rounds, which is good.  The balanced accuracy scores are decent and the amount of error is considerably less than the models above. Let's take a look at one more round of model-type before we make this our official model."
   ]
  },
  {
   "cell_type": "code",
   "execution_count": null,
   "metadata": {
    "slideshow": {
     "slide_type": "skip"
    }
   },
   "outputs": [],
   "source": [
    "del PCA_SVC\n",
    "del PCA_SVC_train_pred_\n",
    "del PCA_SVC_test_pred_ \n",
    "del PCA_SVC_confusion_train\n",
    "del PCA_SVC_confusion_test\n",
    "del PCA_SVC_cv\n",
    "del PCA_SVC_train\n",
    "del PCA_SVC_test\n",
    "gc.collect()"
   ]
  },
  {
   "cell_type": "markdown",
   "metadata": {
    "slideshow": {
     "slide_type": "slide"
    }
   },
   "source": [
    "#### Gradient Boosting:\n",
    "\n",
    "##### KBest Features:"
   ]
  },
  {
   "cell_type": "code",
   "execution_count": null,
   "metadata": {
    "slideshow": {
     "slide_type": "subslide"
    }
   },
   "outputs": [],
   "source": [
    "from sklearn.ensemble import GradientBoostingClassifier\n",
    "\n",
    "KBest_GBC = GradientBoostingClassifier()\n",
    "\n",
    "KBest_GBC = KBest_GBC.fit(KBest_train_X, cyber_train_dummy_Y)\n",
    "KBest_GBC_train_pred_ = KBest_GBC.predict(KBest_train_X)\n",
    "KBest_GBC_test_pred_ = KBest_GBC.predict(KBest_test_X)\n",
    "\n",
    "# Evaluation:\n",
    "  # Confusion matrices:    \n",
    "KBest_GBC_confusion_train = confusion_matrix(cyber_train_dummy_Y, KBest_GBC_train_pred_, labels = [0, 1])\n",
    "KBest_GBC_confusion_test = confusion_matrix(cyber_test_dummy_Y, KBest_GBC_test_pred_, labels = [0, 1])\n",
    "\n",
    "  # Cross-validation and train/test scores:\n",
    "KBest_GBC_cv = cross_val_score(KBest_GBC, KBest_train_X, cyber_train_dummy_Y, \n",
    "                               scoring = 'balanced_accuracy', cv = 5)\n",
    "\n",
    "\n",
    "  # Looking at the F1/balanced-accuracy scores:\n",
    "KBest_GBC_train = balanced_accuracy_score(cyber_train_dummy_Y, KBest_GBC_train_pred_)\n",
    "KBest_GBC_test = balanced_accuracy_score(cyber_test_dummy_Y, KBest_GBC_test_pred_)"
   ]
  },
  {
   "cell_type": "code",
   "execution_count": null,
   "metadata": {
    "slideshow": {
     "slide_type": "subslide"
    }
   },
   "outputs": [],
   "source": [
    "plusminus = u\"\\u00B1\"\n",
    "print(\"\\nThe mean cross-validation score is: {:.2%} {}{:.2%}\".format(KBest_GBC_cv.mean(),\n",
    "                                                                     plusminus, KBest_GBC_cv.std()))\n",
    "print(\"The cv scores are: {}\".format(KBest_GBC_cv))\n",
    "\n",
    "conf_df = pd.DataFrame(KBest_GBC_confusion_train)\n",
    "\n",
    "FP = conf_df.loc[0, 1]\n",
    "FN = conf_df.loc[1, 0]\n",
    "NegT = conf_df.iloc[0].sum()\n",
    "PosT = conf_df.iloc[1].sum()\n",
    "\n",
    "print(\"\\nTraining-Set Metrics:\")\n",
    "print(conf_df)\n",
    "print('\\nFalse Positive/Type I Error: {} ({:.2%})'.format(FP, (FP / NegT)))\n",
    "print('False Negative/Type II Error: {} ({:.2%})'.format(FN, (FN / PosT)))\n",
    "print('Balanced Accuracy: {:.2%}\\n'.format(KBest_GBC_train))\n",
    "\n",
    "conf_df2 = pd.DataFrame(KBest_GBC_confusion_test)\n",
    "\n",
    "FP2 = conf_df2.loc[0, 1]\n",
    "FN2 = conf_df2.loc[1, 0]\n",
    "NegT2 = conf_df2.iloc[0].sum()\n",
    "PosT2 = conf_df2.iloc[1].sum()\n",
    "\n",
    "print(\"Test-Set Metrics:\")\n",
    "print(conf_df2)\n",
    "print('\\nFalse Positive/Type I Error: {} ({:.2%})'.format(FP2, (FP2 / NegT2)))\n",
    "print('False Negative/Type II Error: {} ({:.2%})'.format(FN2, (FN2 / PosT2)))\n",
    "print('Balanced Accuracy: {:.2%}'.format(KBest_GBC_test))\n",
    "\n",
    "print('\\n\\nFeature Importances:\\n')\n",
    "feat_imp = pd.DataFrame(KBest_GBC.feature_importances_.round(2), index = KBest_train_X.columns, \n",
    "                        columns = [\"Importances\"])\n",
    "display(feat_imp.sort_values('Importances', ascending = False))"
   ]
  },
  {
   "cell_type": "code",
   "execution_count": null,
   "metadata": {
    "slideshow": {
     "slide_type": "skip"
    }
   },
   "outputs": [],
   "source": [
    "del KBest_GBC\n",
    "del KBest_GBC_train_pred_\n",
    "del KBest_GBC_test_pred_ \n",
    "del KBest_GBC_confusion_train\n",
    "del KBest_GBC_confusion_test\n",
    "del KBest_GBC_cv\n",
    "del KBest_GBC_train\n",
    "del KBest_GBC_test\n",
    "gc.collect()"
   ]
  },
  {
   "cell_type": "markdown",
   "metadata": {
    "slideshow": {
     "slide_type": "slide"
    }
   },
   "source": [
    "##### PCA Features"
   ]
  },
  {
   "cell_type": "code",
   "execution_count": null,
   "metadata": {
    "slideshow": {
     "slide_type": "subslide"
    }
   },
   "outputs": [],
   "source": [
    "PCA_GBC = GradientBoostingClassifier()\n",
    "\n",
    "PCA_GBC = PCA_GBC.fit(PCA_train_X, cyber_train_dummy_Y)\n",
    "PCA_GBC_train_pred_ = PCA_GBC.predict(PCA_train_X) \n",
    "PCA_GBC_test_pred_ = PCA_GBC.predict(PCA_test_X) \n",
    "\n",
    "# Evaluation:\n",
    "\n",
    "  # Confusion matrices:\n",
    "PCA_GBC_confusion_train = confusion_matrix(cyber_train_dummy_Y, PCA_GBC_train_pred_, labels = [0, 1])\n",
    "PCA_GBC_confusion_test = confusion_matrix(cyber_test_dummy_Y, PCA_GBC_test_pred_, labels = [0, 1])\n",
    "\n",
    "  # Cross_validation and train/test score:\n",
    "PCA_GBC_cv = cross_val_score(PCA_GBC, PCA_train_X, cyber_train_dummy_Y, \n",
    "                             scoring = 'balanced_accuracy', cv = 5)\n",
    "\n",
    "  # Looking at the F1/balanced accuracy scores:\n",
    "PCA_GBC_train = balanced_accuracy_score(cyber_train_dummy_Y, PCA_GBC_train_pred_)\n",
    "PCA_GBC_test = balanced_accuracy_score(cyber_test_dummy_Y, PCA_GBC_test_pred_)"
   ]
  },
  {
   "cell_type": "code",
   "execution_count": null,
   "metadata": {
    "scrolled": true,
    "slideshow": {
     "slide_type": "subslide"
    }
   },
   "outputs": [],
   "source": [
    "plusminus = u\"\\u00B1\"\n",
    "print(\"\\nThe mean cross-validation score is: {:.2%} {}{:.2%}\".format(PCA_GBC_cv.mean(),\n",
    "                                                                     plusminus, PCA_GBC_cv.std()))\n",
    "print(\"The cv scores are: {}\".format(PCA_GBC_cv))\n",
    "\n",
    "conf_df = pd.DataFrame(PCA_GBC_confusion_train)\n",
    "\n",
    "FP = conf_df.loc[0, 1]\n",
    "FN = conf_df.loc[1, 0]\n",
    "NegT = conf_df.iloc[0].sum()\n",
    "PosT = conf_df.iloc[1].sum()\n",
    "\n",
    "print(\"\\nTraining-Set Metrics:\")\n",
    "print(conf_df)\n",
    "print('\\nFalse Positive/Type I Error: {} ({:.2%})'.format(FP, (FP / NegT)))\n",
    "print('False Negative/Type II Error: {} ({:.2%})'.format(FN, (FN / PosT)))\n",
    "print('Balanced Accuracy: {:.2%}\\n'.format(PCA_GBC_train))\n",
    "\n",
    "conf_df2 = pd.DataFrame(PCA_GBC_confusion_test)\n",
    "\n",
    "FP2 = conf_df2.loc[0, 1]\n",
    "FN2 = conf_df2.loc[1, 0]\n",
    "NegT2 = conf_df2.iloc[0].sum()\n",
    "PosT2 = conf_df2.iloc[1].sum()\n",
    "\n",
    "print(\"Test-Set Metrics:\")\n",
    "print(conf_df2)\n",
    "print('\\nFalse Positive/Type I Error: {} ({:.2%})'.format(FP2, (FP2 / NegT2)))\n",
    "print('False Negative/Type II Error: {} ({:.2%})'.format(FN2, (FN2 / PosT2)))\n",
    "print('Balanced Accuracy: {:.2%}'.format(PCA_GBC_test))"
   ]
  },
  {
   "cell_type": "code",
   "execution_count": null,
   "metadata": {
    "slideshow": {
     "slide_type": "skip"
    }
   },
   "outputs": [],
   "source": [
    "del PCA_GBC\n",
    "del PCA_GBC_train_pred_\n",
    "del PCA_GBC_test_pred_ \n",
    "del PCA_GBC_confusion_train\n",
    "del PCA_GBC_confusion_test\n",
    "del PCA_GBC_cv\n",
    "del PCA_GBC_train\n",
    "del PCA_GBC_test\n",
    "gc.collect()"
   ]
  },
  {
   "cell_type": "markdown",
   "metadata": {
    "slideshow": {
     "slide_type": "skip"
    }
   },
   "source": [
    "#### Summary of First Models:\n",
    "\n",
    "> Based on these preliminary results, we were able to get relatively similar results from nearly all models, but it looks like our Random Forest Classifier did best (with the Support Vector Classifier coming in at a close second). In addition, the Random Forest model did best with the KBest feature-set. We will try and focus on the Random Forest model with our next phase and tune the parameters to see if we can optimize those results.  \n",
    "\n",
    "> Now onto tuning our model!"
   ]
  },
  {
   "cell_type": "code",
   "execution_count": null,
   "metadata": {},
   "outputs": [],
   "source": [
    "\n",
    "del PCA_weapon\n",
    "del PCA_name\n",
    "del PCA_cities\n",
    "del PCA_1\n",
    "del KBest_weapon\n",
    "del KBest_names\n",
    "del KBest_city\n",
    "del KBest_1\n",
    "del city_mask\n",
    "del feature_mask\n",
    "del names_mask\n",
    "del weapon_mask\n",
    "del feature_selection\n",
    "del KBest_weapon_features\n",
    "del conf_df\n",
    "del conf_df2\n",
    "del KBest_city_features\n",
    "del KBest_names_features\n",
    "del KBest_1_features\n",
    "del weapon_test_index\n",
    "del city_test_dummy_Y\n",
    "del names_test_dummy_Y\n",
    "del weapon_test_dummy_Y\n",
    "del weapon_test_dummy_X\n",
    "del X_test_start_index\n",
    "del city_test_index\n",
    "del names_test_index\n",
    "del weapon_train_index\n",
    "del city_train_dummy_Y\n",
    "del names_train_dummy_Y\n",
    "del weapon_train_dummy_Y\n",
    "del weapon_train_dummy_X\n",
    "del city_train_index\n",
    "del names_train_index\n",
    "del names_test_dummy_X\n",
    "del names_train_X\n",
    "del city_train_X\n",
    "del weapon_train_X\n",
    "del names_test_X\n",
    "del city_test_X\n",
    "del weapon_test_X\n",
    "del PosT2\n",
    "del PosT\n",
    "del first_responders\n",
    "del names_train_dummy_X\n",
    "del city_test_dummy_X\n",
    "del city_train_dummy_X\n",
    "gc.collect()"
   ]
  },
  {
   "cell_type": "code",
   "execution_count": null,
   "metadata": {},
   "outputs": [],
   "source": [
    "\n",
    "# These are the usual ipython objects, including this one you are creating\n",
    "ipython_vars = ['In', 'Out', 'exit', 'quit', 'get_ipython', 'ipython_vars']\n",
    "\n",
    "# Get a sorted list of the objects and their sizes\n",
    "\n",
    "cleaner = sorted([(x, sys.getsizeof(globals().get(x))) for x in dir() if not x.startswith('_') and x not in sys.modules and x not in ipython_vars], key=lambda x: x[1], reverse=True)\n",
    "cleaner"
   ]
  },
  {
   "cell_type": "markdown",
   "metadata": {
    "slideshow": {
     "slide_type": "slide"
    }
   },
   "source": [
    "### 5. Improving our Scores:\n",
    "\n",
    "#### A. Investigating the Data Itself:\n",
    "\n"
   ]
  },
  {
   "cell_type": "markdown",
   "metadata": {
    "slideshow": {
     "slide_type": "slide"
    }
   },
   "source": [
    "### 6. Tuning our Final Model:\n",
    "\n",
    "Here, we will try and use a for loop to run through a set of parameters, which we will then use to visualize the parameters which will optimize our model's predictive power.  For the moment, the parameters we will focus on are the 'n_estimators' and 'max_depth.'"
   ]
  },
  {
   "cell_type": "markdown",
   "metadata": {
    "slideshow": {
     "slide_type": "subslide"
    }
   },
   "source": [
    "#### A. RandomForest with KBest:"
   ]
  },
  {
   "cell_type": "code",
   "execution_count": null,
   "metadata": {},
   "outputs": [],
   "source": [
    "from sklearn"
   ]
  },
  {
   "cell_type": "code",
   "execution_count": null,
   "metadata": {},
   "outputs": [],
   "source": [
    "KBest_Grid = RandomForestClassifier(criterion = 'entropy')\n",
    "\n",
    "params = [{'n_estimators': np.arange(30, 250, 20), 'max_depth': np.arange(3, 13, 1)}]"
   ]
  },
  {
   "cell_type": "code",
   "execution_count": null,
   "metadata": {
    "slideshow": {
     "slide_type": "subslide"
    }
   },
   "outputs": [],
   "source": [
    "param_dict = {'n_estimators': [15, 20, 25, 30, 35, 40, 50, 65, 80, 100, 130, 175, 200], \n",
    "              'max_depth' : [3, 4, 3, 4, 7, 8, 9, ]}\n",
    "\n",
    "param_df = pd.DataFrame(param_dict)"
   ]
  },
  {
   "cell_type": "code",
   "execution_count": null,
   "metadata": {
    "slideshow": {
     "slide_type": "subslide"
    }
   },
   "outputs": [],
   "source": [
    "np.arange()\n",
    "\n",
    "results_list = []\n",
    "plusminus = u\"\\u00B1\"\n",
    "\n",
    "for row in param_df.itertuples(index = False):\n",
    "\n",
    "    KBest_RF = RandomForestClassifier(C = row[0])\n",
    "\n",
    "    KBest_RF = KBest_RF.fit(KBest_train_X, cyber_train_dummy_Y)\n",
    "    KBest_RF_train_pred_ = KBest_RF.predict(KBest_train_X) \n",
    "    KBest_RF_test_pred_ = KBest_RF.predict(KBest_test_X) \n",
    "\n",
    "    # Evaluation:\n",
    "\n",
    "      # Confusion matrices:\n",
    "    KBest_RF_confusion_train = confusion_matrix(cyber_train_dummy_Y, KBest_RF_train_pred_, labels = [0, 1])\n",
    "    KBest_RF_confusion_test = confusion_matrix(cyber_test_dummy_Y, KBest_RF_test_pred_, labels = [0, 1])\n",
    "\n",
    "      # Cross_validation and train/test score:\n",
    "    KBest_RF_cv = cross_val_score(KBest_RF, PCA_train_X, cyber_train_dummy_Y, cv = 5, \n",
    "                                  scoring = 'balanced_accuracy')\n",
    "\n",
    "      # Looking at the F1/balanced accuracy scores:\n",
    "    KBest_RF_train = balanced_accuracy_score(cyber_train_dummy_Y, KBest_RF_train_pred_)\n",
    "    KBest_RF_test = balanced_accuracy_score(cyber_test_dummy_Y, KBest_RF_test_pred_)\n",
    "    \n",
    "      # Getting some scores on cross-validation, False Negatives and Positives and Balanced Accuracy:\n",
    "    print(\"\\nThe mean cross-validation score is: {:.2%} {}{:.2%}\".format(KBest_RF_cv.mean(),\n",
    "                                                                     plusminus, KBest_RF_cv.std()))\n",
    "    conf_df = pd.DataFrame(KBest_RF_confusion_train)\n",
    "  \n",
    "    FP = conf_df.loc[0, 1]\n",
    "    FN = conf_df.loc[1, 0]\n",
    "    NegT = conf_df.iloc[0].sum()\n",
    "    PosT = conf_df.iloc[1].sum()\n",
    "    \n",
    "    print(\"Training set results:\")\n",
    "    print(conf_df)\n",
    "    print('\\nFalse Positive/Type I Error: {} ({:.2%})'.format(FP, (FP / NegT)))\n",
    "    print('False Negative/Type II Error: {} ({:.2%})'.format(FN, (FN / PosT)))\n",
    "    print('Balanced Accuracy: {:.2%}\\n'.format(KBest_RF_train))\n",
    "    \n",
    "    conf_df2 = pd.DataFrame(KBest_RF_confusion_test)\n",
    "\n",
    "    FP2 = conf_df2.loc[0, 1]\n",
    "    FN2 = conf_df2.loc[1, 0]\n",
    "    NegT2 = conf_df2.iloc[0].sum()\n",
    "    PosT2 = conf_df2.iloc[1].sum()\n",
    "    \n",
    "    print(\"Test set results:\")\n",
    "    print(conf_df2)\n",
    "    print('\\nFalse Positive/Type I Error: {} ({:.2%})'.format(FP2, (FP2 / NegT2)))\n",
    "    print('False Negative/Type II Error: {} ({:.2%})'.format(FN2, (FN2 / PosT2)))\n",
    "    print('Balanced Accuracy: {:.2%}'.format(KBest_RF_test))\n",
    "    print('-----------------')\n",
    "    \n",
    "    results_list.append([KBest_RF_test, (FP2 + FN2), KBest_RF_cv.std()])"
   ]
  },
  {
   "cell_type": "markdown",
   "metadata": {
    "slideshow": {
     "slide_type": "slide"
    }
   },
   "source": [
    "#### B. Gradient Boosting Classifier with KBest:"
   ]
  },
  {
   "cell_type": "code",
   "execution_count": null,
   "metadata": {
    "slideshow": {
     "slide_type": "subslide"
    }
   },
   "outputs": [],
   "source": [
    "from sklearn.ensemble import GradientBoostingClassifier\n",
    "\n",
    "param_dict2 = {'n_estimators': [70, 90, 60, 70, 50, 300, 400],\n",
    "              'max_depth': [5, 4, 6, 6, 6, 5, 4]}\n",
    "\n",
    "param_df2 = pd.DataFrame(param_dict2)"
   ]
  },
  {
   "cell_type": "code",
   "execution_count": null,
   "metadata": {
    "slideshow": {
     "slide_type": "subslide"
    }
   },
   "outputs": [],
   "source": [
    "results_list2 = []\n",
    "\n",
    "for row in param_df2.itertuples(index = False):\n",
    "\n",
    "    KBest_GBC = GradientBoostingClassifier(n_estimators = row[0],\n",
    "                                           max_depth = row[1])\n",
    "\n",
    "    KBest_GBC = KBest_GBC.fit(KBest_train_X2, cyber_train_dummy_Y)\n",
    "    KBest_GBC_train_pred_ = KBest_GBC.predict(KBest_train_X2) \n",
    "    KBest_GBC_test_pred_ = KBest_GBC.predict(KBest_test_X2) \n",
    "\n",
    "    # Evaluation:\n",
    "\n",
    "      # Confusion matrices:\n",
    "    KBest_GBC_confusion_train = confusion_matrix(cyber_train_dummy_Y, KBest_GBC_train_pred_, labels = [0, 1])\n",
    "    KBest_GBC_confusion_test = confusion_matrix(cyber_test_dummy_Y, KBest_GBC_test_pred_, labels = [0, 1])\n",
    "\n",
    "      # Cross_validation and train/test score:\n",
    "    KBest_GBC_cv = cross_val_score(KBest_GBC, KBest_train_X2, cyber_train_dummy_Y, cv = 5, scoring = 'f1')\n",
    "    KBest_GBC_train_score = KBest_GBC.score(KBest_train_X2, cyber_train_dummy_Y)\n",
    "    KBest_GBC_test_score = KBest_GBC.score(KBest_test_X2, cyber_test_dummy_Y)\n",
    "\n",
    "      # Looking at the F1/balanced accuracy scores:\n",
    "    KBest_GBC_train = balanced_accuracy_score(cyber_train_dummy_Y, KBest_GBC_train_pred_)\n",
    "    KBest_GBC_test = balanced_accuracy_score(cyber_test_dummy_Y, KBest_GBC_test_pred_)\n",
    "    \n",
    "      # Getting some scores on cross-validation, False Negatives and Positives and Balanced Accuracy:\n",
    "    print(\"\\nThe mean cross-validation score is: {:.2%} {}{:.2%}\".format(KBest_GBC_cv.mean(),\n",
    "                                                                     plusminus, KBest_GBC_cv.std()))\n",
    "    conf_df = pd.DataFrame(KBest_GBC_confusion_train)\n",
    "  \n",
    "    FP = conf_df.loc[0, 1]\n",
    "    FN = conf_df.loc[1, 0]\n",
    "    NegT = conf_df.iloc[0].sum()\n",
    "    PosT = conf_df.iloc[1].sum()\n",
    "    \n",
    "    print(\"Training set results:\")\n",
    "    print(conf_df)\n",
    "    print('\\nFalse Positive/Type I Error: {} ({:.2%})'.format(FP, (FP / NegT)))\n",
    "    print('False Negative/Type II Error: {} ({:.2%})'.format(FN, (FN / PosT)))\n",
    "    print('Balanced Accuracy: {:.2%}\\n'.format(KBest_GBC_train))\n",
    "    \n",
    "    conf_df2 = pd.DataFrame(KBest_GBC_confusion_test)\n",
    "\n",
    "    FP2 = conf_df2.loc[0, 1]\n",
    "    FN2 = conf_df2.loc[1, 0]\n",
    "    NegT2 = conf_df2.iloc[0].sum()\n",
    "    PosT2 = conf_df2.iloc[1].sum()\n",
    "    \n",
    "    print(\"Test set results:\")\n",
    "    print(conf_df2)\n",
    "    print('\\nFalse Positive/Type I Error: {} ({:.2%})'.format(FP2, (FP2 / NegT2)))\n",
    "    print('False Negative/Type II Error: {} ({:.2%})'.format(FN2, (FN2 / PosT2)))\n",
    "    print('Balanced Accuracy: {:.2%}'.format(KBest_GBC_test))\n",
    "    print('-----------------')\n",
    "    \n",
    "    results_list2.append([KBest_GBC_test, (FP2 + FN2), KBest_GBC_cv.std()])"
   ]
  },
  {
   "cell_type": "markdown",
   "metadata": {
    "slideshow": {
     "slide_type": "slide"
    }
   },
   "source": [
    "Thus, after running a few models, it looks like our Gradient Booster model came through in the end with the best results.  The key to tweaking this model a bit more was limiting the max-depth for each tree.  This allowed the model to limit the depth to 11 so as to keep the model relatively efficient and avoid over-fitting (allowing our model some more flexibility with newer, incoming data. \n",
    "\n",
    "Even though we tried a number of iterations on the SVC model, we were unable to improve our scores considerably enough from earlier. They were, in fact, worse than our first iterations.  The fact that this Gradient Booster was able to get our False Negatives to under a handful, is noteworthy enough to serve as our selected model for a real-life scenario."
   ]
  },
  {
   "cell_type": "markdown",
   "metadata": {
    "slideshow": {
     "slide_type": "slide"
    }
   },
   "source": [
    "### 6. Final Analysis, Considerations and Avenues for Further Research:"
   ]
  },
  {
   "cell_type": "markdown",
   "metadata": {
    "slideshow": {
     "slide_type": "subslide"
    }
   },
   "source": [
    "#### Potential Weaknesses:\n",
    "\n",
    "While we were able to get some decent scores, there are a few things to not regarding this model and its dataset.  First of all, the filters would greatly benefit from further research and detailed attention.  The above filters are merely a start and represent a base amount of research.  It could certainly serve as a starting point for someone with expertise in the field.\n",
    "\n",
    "In addition, the filters we applied could be susceptible to a certain amount of bias: the filter itself will not be able to catch all instances of cyber-related terrorism conclusively; more likely than not it will miss one certain aspect or another. Increasing the number of eyes on the model and data will help with this.\n",
    "\n"
   ]
  },
  {
   "cell_type": "markdown",
   "metadata": {
    "slideshow": {
     "slide_type": "subslide"
    }
   },
   "source": [
    "#### Further research:\n",
    "\n",
    "Given the richness of the variables within this dataset, there are plenty of avenues for further research.  One could use Regex to search the summary and motive columns for further detail and insight into the nature of these cyber-related tasks.  The filter above is relatively broad and potentially encapsulates instances that many might not consider related to 'cyber' events.  It would be interesting to create a more intricate regex filter which could give us a more detailed understanding of the 'cyber' aspect of these events: How specifically are they related and in what manners? What geographical locations tend to be hotbeds for such activity.  What targets are specified and why?  The 'motive' feature, in particular, could have extensive benefits with prediction, depending on the vocabulary used by those conducting the study and entering the data. \n"
   ]
  },
  {
   "cell_type": "markdown",
   "metadata": {
    "slideshow": {
     "slide_type": "subslide"
    }
   },
   "source": [
    "#### Explanatory v. Predictive Power:\n",
    "\n",
    "With the current analysis, our goal lies mainly in the predictive power of our model - in other words, its ability to fit with the current data and produce an output with completely new data - preferably an output with as little variation in this new accuracy score as possible. We are trying to look at the trends in our current data and use it to identify the classifications and probabilities in which new or future observations will fall.  An explanatory model, with regards to a dataset describing Terrorism, might have interest to a scholar or an academic institution in the sense that it reveals behaviors and patterns of observations that have already occurred, but it has no bearing on future observations. It would offer no suggestions on what these patterns might say regarding incoming data (and in this case, future terror attacks). \n",
    "\n",
    "The caveat, however, is making sure that our model adapts well to new input (or test) data so that the variation between training and test results can be as minimal as possible (i.e. so the difference between the model's prediction and reality is minimal).  Predictive analysis, especially in a terror-related context, involves considerably more risk than an explanatory model, and should be handled with an intense attention to detail and accuracy.\n",
    "\n",
    "\n",
    "\n"
   ]
  },
  {
   "cell_type": "markdown",
   "metadata": {
    "slideshow": {
     "slide_type": "slide"
    }
   },
   "source": [
    "General References:\n",
    "\n",
    "Referenced the following sites for honing my knowledge of the models, python, etc:\n",
    "\n",
    "1. https://www.analyticsvidhya.com/blog/2017/06/a-comprehensive-guide-for-linear-ridge-and-lasso-regression/\n",
    "2. https://machinelearningmastery.com/feature-selection-machine-learning-python/\n",
    "3. https://medium.com/@pushkarmandot/what-is-the-significance-of-c-value-in-support-vector-machine-28224e852c5a\n",
    "4. A big shout out to Mike Swirsky for pointing out this link to me (submitted by the user 'Abdou' on Stack Overflow: https://stackoverflow.com/questions/40993626/list-memory-usage-in-ipython-and-jupyter)"
   ]
  },
  {
   "cell_type": "code",
   "execution_count": null,
   "metadata": {},
   "outputs": [],
   "source": []
  },
  {
   "cell_type": "code",
   "execution_count": null,
   "metadata": {},
   "outputs": [],
   "source": []
  },
  {
   "cell_type": "code",
   "execution_count": null,
   "metadata": {},
   "outputs": [],
   "source": []
  },
  {
   "cell_type": "code",
   "execution_count": null,
   "metadata": {},
   "outputs": [],
   "source": []
  },
  {
   "cell_type": "code",
   "execution_count": null,
   "metadata": {},
   "outputs": [],
   "source": []
  }
 ],
 "metadata": {
  "celltoolbar": "Slideshow",
  "kernelspec": {
   "display_name": "Python 3",
   "language": "python",
   "name": "python3"
  },
  "language_info": {
   "codemirror_mode": {
    "name": "ipython",
    "version": 3
   },
   "file_extension": ".py",
   "mimetype": "text/x-python",
   "name": "python",
   "nbconvert_exporter": "python",
   "pygments_lexer": "ipython3",
   "version": "3.7.0"
  },
  "toc": {
   "base_numbering": 1,
   "nav_menu": {
    "height": "510px",
    "width": "555px"
   },
   "number_sections": false,
   "sideBar": true,
   "skip_h1_title": false,
   "title_cell": "Table of Contents",
   "title_sidebar": "Contents",
   "toc_cell": false,
   "toc_position": {},
   "toc_section_display": true,
   "toc_window_display": false
  }
 },
 "nbformat": 4,
 "nbformat_minor": 2
}
