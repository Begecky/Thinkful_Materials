{
 "cells": [
  {
   "cell_type": "markdown",
   "metadata": {},
   "source": [
    "This dataset is from Global Terrorism Database curated by the University of Maryland:\n",
    "\n",
    "National Consortium for the Study of Terrorism and Responses to Terrorism (START). (2018). Global Terrorism Database [Data file]. Retrieved from https://www.start.umd.edu/gtd.\n",
    "\n",
    "In dividing and classifying the city names within the data-set, __[this article from the New York Times](https://www.nytimes.com/interactive/2016/01/04/world/middleeast/sunni-shiite-map-middle-east-iran-saudi-arabia.html)__ was instrumental as was __[this website](http://zakhor-online.com/?attachment_id=7932)__ and __[this one.](https://www.vox.com/a/maps-explain-the-middle-east)__\n",
    "__[and this one too](http://gulf2000.columbia.edu/maps.shtml)__ https://www.crisisgroup.org/latin-america-caribbean/andes/colombia/63-colombias-armed-groups-battle-spoils-peace#map-5700-8\n",
    "\n",
    "In this notebook, we will try and isolate data related to cyber-warfare or hacking events."
   ]
  },
  {
   "cell_type": "code",
   "execution_count": 1,
   "metadata": {},
   "outputs": [
    {
     "name": "stderr",
     "output_type": "stream",
     "text": [
      "/usr/local/lib/python3.7/site-packages/sklearn/utils/__init__.py:4: DeprecationWarning: Using or importing the ABCs from 'collections' instead of from 'collections.abc' is deprecated, and in 3.8 it will stop working\n",
      "  from collections import Sequence\n"
     ]
    }
   ],
   "source": [
    "import pandas as pd\n",
    "import numpy as np\n",
    "import scipy\n",
    "import matplotlib.pyplot as plt\n",
    "import seaborn as sns\n",
    "import sklearn as skl\n",
    "%matplotlib inline\n",
    "\n",
    "import warnings\n",
    "warnings.filterwarnings('ignore')"
   ]
  },
  {
   "cell_type": "markdown",
   "metadata": {},
   "source": [
    "### 1. Importing, Cleaning and General Overview:"
   ]
  },
  {
   "cell_type": "markdown",
   "metadata": {},
   "source": [
    "#### A. Importing Data."
   ]
  },
  {
   "cell_type": "code",
   "execution_count": 2,
   "metadata": {
    "scrolled": true
   },
   "outputs": [],
   "source": [
    "df = pd.read_excel('globalterrorismdb_0718dist.xlsx', \n",
    "                   usecols = 'A:D, F, H:M, S:W, AA:AD, AI:AN, AP, BG, BM:BN, BQ:BR, CD:CG, DA',\n",
    "                   dtype = {'summary':str, 'motive':str})                                                                                         "
   ]
  },
  {
   "cell_type": "code",
   "execution_count": 3,
   "metadata": {},
   "outputs": [],
   "source": [
    "# Renaming for usability:\n",
    "\n",
    "cyber_data = pd.DataFrame(df.rename({'eventid':'event_id', 'iyear':'year', 'imonth':'month',\n",
    "             'iday':'day', 'extended':'24+hrs', 'provstate':'region_2', 'doubtterr':'doubt', \n",
    "             'attacktype1':'attack_1', 'attacktype1_txt':'attack_1txt','attacktype2':'attack_2', \n",
    "             'targtype1':'target_1', 'targtype1_txt':'target_1txt', 'targsubtype1':'sub_target',\n",
    "             'targsubtype1_txt':'sub_targettxt', 'target1':'specific_target',\n",
    "             'natlty1':'victim_nationality', 'natlty1_txt':'victim_nationalitytxt', 'gname':'group_name', \n",
    "             'guncertain1':'group_attrib_crtainty', 'individual':'unaffil_individ', 'weaptype1':'weapon', \n",
    "             'weaptype1_txt':'weapontxt', 'weapsubtype1':'sub_weapon', 'weapsubtype1_txt':'sub_weapontxt'}, axis = 1))"
   ]
  },
  {
   "cell_type": "markdown",
   "metadata": {},
   "source": [
    "#### B. Selecting Rows Specific to Our Question (cyber_data):\n"
   ]
  },
  {
   "cell_type": "code",
   "execution_count": 332,
   "metadata": {},
   "outputs": [
    {
     "name": "stdout",
     "output_type": "stream",
     "text": [
      "True    9486\n",
      "Name: summary, dtype: int64\n"
     ]
    }
   ],
   "source": [
    "# Creating the dyber_cyber_train_input Dataframe:\n",
    "# Regex to isolate qualifying data (This set is more flexible in its Regex):\n",
    "import re\n",
    "import gc\n",
    "\n",
    "print(cyber_data.summary.str.contains('cyb+|social|inform+|network+|twit+|facebook|fake|electio+|internet|ads|adv+|priv+|hac+|breac+|emai+',\n",
    "                         flags = re.IGNORECASE, regex = True).value_counts())\n",
    "\n",
    "# Creating a mask which represents the results from our search above:\n",
    "\n",
    "mask = cyber_data.summary.str.contains(r'(cyb+|social|inform+|network+|twit+|facebook|fake|electio+|internet|ads|adv+|priv+|hac+|breac+|emai+)', \n",
    "                           flags = re.IGNORECASE)\n",
    "\n",
    "# Creating a new, filtered dataframe with this specific information:\n",
    "\n",
    "cyber_data = pd.DataFrame(cyber_data[mask])"
   ]
  },
  {
   "cell_type": "markdown",
   "metadata": {},
   "source": [
    "#### C. Splitting Our Train/Test Data (cyber_train/test_X / cyber_train/test_Y):"
   ]
  },
  {
   "cell_type": "code",
   "execution_count": 333,
   "metadata": {},
   "outputs": [],
   "source": [
    "from sklearn.model_selection import cross_val_score, train_test_split"
   ]
  },
  {
   "cell_type": "code",
   "execution_count": 334,
   "metadata": {},
   "outputs": [],
   "source": [
    "# Defining our Input and Output:\n",
    "# Cleaning later to prevent leakage.\n",
    "\n",
    "X = cyber_data.drop(['event_id', 'success', 'summary', 'motive'], axis = 1)\n",
    "Y = pd.DataFrame(cyber_data['success'])\n",
    "\n",
    "X_train, X_test, Y_train, Y_test = train_test_split(X, Y, test_size = .5)\n",
    "\n",
    "X_train_start_index = X_train.index\n",
    "X_test_start_index = X_test.index"
   ]
  },
  {
   "cell_type": "markdown",
   "metadata": {},
   "source": [
    "#### D. Isolating Columns:"
   ]
  },
  {
   "cell_type": "markdown",
   "metadata": {},
   "source": [
    "> We want to be sure we are only using the numeric columns that are significant and not arbitrary categoricals:"
   ]
  },
  {
   "cell_type": "code",
   "execution_count": 335,
   "metadata": {},
   "outputs": [],
   "source": [
    "# Dropping irrelevant columns from training set input and putting it into a datafarme:\n",
    "\n",
    "cyber_train_X = X_train[['24+hrs', 'country_txt', 'region_txt', 'city', 'crit1', 'crit2', 'crit3',\n",
    "                             'doubt', 'suicide', 'attack_1txt', 'target_1txt', 'sub_targettxt', \n",
    "                             'specific_target', 'victim_nationalitytxt', 'group_name', 'group_attrib_crtainty', \n",
    "                             'unaffil_individ', 'weapontxt', 'sub_weapontxt']]\n",
    "\n",
    "# Making sure these dropped rows are not in the training output column (i.e. making sure our input and output cyber_train_inputs\n",
    "# have the same amount of rows):\n",
    "\n",
    "# cyber_train_input_index = cyber_train_input.index same as X_train_start_index\n",
    "\n",
    "cyber_train_Y = Y_train.iloc[Y_train.index == cyber_train_X.index]"
   ]
  },
  {
   "cell_type": "code",
   "execution_count": 336,
   "metadata": {},
   "outputs": [],
   "source": [
    "# Applying the same process above to our test data:\n",
    "\n",
    "cyber_test_X = X_test[['24+hrs', 'country_txt', 'region_txt', 'city', 'crit1', 'crit2', 'crit3',\n",
    "                             'doubt', 'suicide', 'attack_1txt', 'target_1txt', 'sub_targettxt', \n",
    "                             'specific_target', 'victim_nationalitytxt', 'group_name', 'group_attrib_crtainty', \n",
    "                             'unaffil_individ', 'weapontxt', 'sub_weapontxt']]\n",
    "\n",
    "# Making sure these dropped rows are not in the testing output column (i.e. making sure our input and output cyber_test_inputs\n",
    "# have the same amount of rows):\n",
    "\n",
    "# cyber_test_input_index = cyber_test_input.index (same as X_test index)\n",
    "\n",
    "cyber_test_Y = Y_test.iloc[Y_test.index == cyber_test_X.index]"
   ]
  },
  {
   "cell_type": "code",
   "execution_count": 337,
   "metadata": {},
   "outputs": [
    {
     "data": {
      "text/plain": [
       "(4743, 19)"
      ]
     },
     "execution_count": 337,
     "metadata": {},
     "output_type": "execute_result"
    }
   ],
   "source": [
    "cyber_train_X.shape"
   ]
  },
  {
   "cell_type": "code",
   "execution_count": 338,
   "metadata": {},
   "outputs": [
    {
     "data": {
      "text/plain": [
       "(4743, 19)"
      ]
     },
     "execution_count": 338,
     "metadata": {},
     "output_type": "execute_result"
    }
   ],
   "source": [
    "cyber_test_X.shape"
   ]
  },
  {
   "cell_type": "markdown",
   "metadata": {},
   "source": [
    "#### E. Applying Filters to Text Columns."
   ]
  },
  {
   "cell_type": "markdown",
   "metadata": {},
   "source": [
    "> Doing this mainly in the hopes of allowing us to get dummies on certain features which is small enough to use for explanatory purposes (i.e. avoiding a feature set with thousands of columns)."
   ]
  },
  {
   "cell_type": "markdown",
   "metadata": {},
   "source": [
    "##### Weapontxt:\n",
    "\n",
    "> ###### Training Input:"
   ]
  },
  {
   "cell_type": "code",
   "execution_count": 339,
   "metadata": {},
   "outputs": [],
   "source": [
    "# Grouping Biological and Chemical Weapons:\n",
    "cyber_train_X['weapontxt'] = cyber_train_X['weapontxt'].replace('Chemical', 'Bio-Chem')\n",
    "cyber_train_X['weapontxt'] = cyber_train_X['weapontxt'].replace('Biological', 'Bio-Chem')\n",
    "\n",
    "# Grouping Fake and Other together:\n",
    "cyber_train_X['weapontxt'] = cyber_train_X['weapontxt'].replace('Fake Weapons', 'Fake/Other')\n",
    "cyber_train_X['weapontxt'] = cyber_train_X['weapontxt'].replace('Other', 'Fake/Other')\n",
    "\n",
    "# Aggregating Vehicle into Sabotage Equipment:\n",
    "cyber_train_X['weapontxt'] = cyber_train_X['weapontxt'].replace(\n",
    "    'Vehicle (not to include vehicle-borne explosives, i.e., car or truck bombs)', 'Sabotage Equipment')\n"
   ]
  },
  {
   "cell_type": "markdown",
   "metadata": {},
   "source": [
    "> ###### Test Input:"
   ]
  },
  {
   "cell_type": "code",
   "execution_count": 340,
   "metadata": {},
   "outputs": [],
   "source": [
    "# Grouping Biological and Chemical Weapons:\n",
    "cyber_test_X['weapontxt'] = cyber_test_X['weapontxt'].replace('Chemical', 'Bio-Chem')\n",
    "cyber_test_X['weapontxt'] = cyber_test_X['weapontxt'].replace('Biological', 'Bio-Chem')\n",
    "\n",
    "# Grouping Fake and Other together:\n",
    "cyber_test_X['weapontxt'] = cyber_test_X['weapontxt'].replace('Fake Weapons', 'Fake/Other')\n",
    "cyber_test_X['weapontxt'] = cyber_test_X['weapontxt'].replace('Other', 'Fake/Other')\n",
    "\n",
    "# Aggregating Vehicle into Sabotage Equipment:\n",
    "cyber_test_X['weapontxt'] = cyber_test_X['weapontxt'].replace(\n",
    "    'Vehicle (not to include vehicle-borne explosives, i.e., car or truck bombs)', 'Sabotage Equipment')\n"
   ]
  },
  {
   "cell_type": "markdown",
   "metadata": {},
   "source": [
    "##### Sub_targettxt:\n",
    "\n",
    "> ###### Training Input:"
   ]
  },
  {
   "cell_type": "code",
   "execution_count": 341,
   "metadata": {},
   "outputs": [
    {
     "data": {
      "text/plain": [
       "(4743, 19)"
      ]
     },
     "execution_count": 341,
     "metadata": {},
     "output_type": "execute_result"
    }
   ],
   "source": [
    "cyber_test_X.shape"
   ]
  },
  {
   "cell_type": "code",
   "execution_count": 342,
   "metadata": {},
   "outputs": [],
   "source": [
    "industrial = ['Gas/Oil/Electric', 'Industrial/Textiles/Factory', 'Farm/Ranch', 'Mining', 'Construction']\n",
    "cyber_train_X['sub_targettxt'] = cyber_train_X['sub_targettxt'].where(\n",
    "                                     cyber_train_X['sub_targettxt'].apply(lambda x: x not in industrial), \n",
    "                                     other = 'Industrial')\n",
    "\n",
    "\n",
    "white_collar = ['Restaurant/Bar/Café', 'Bank/Commerce', 'Multinational Corporation', \n",
    "                'Medical/Pharmaceutical', 'Retail/Grocery/Bakery (including cell phone shops and generic shops)', \n",
    "                'Hotel/Resort', 'Entertainment/Cultural/Stadium/Casino', 'Private Security Company/Firm',\n",
    "                'Legal Services']\n",
    "cyber_train_X['sub_targettxt'] = cyber_train_X['sub_targettxt'].where(\n",
    "                                     cyber_train_X['sub_targettxt'].apply(lambda x: x not in white_collar), \n",
    "                                     other = 'White_Collar')\n",
    "\n",
    "\n",
    "gov_figure1 = ['Judges/Attorneys/Courts', 'Government Personnel (excluding police, military)']\n",
    "cyber_train_X['sub_targettxt'] = cyber_train_X['sub_targettxt'].where(\n",
    "                                     cyber_train_X['sub_targettxt'].apply(lambda x: x not in gov_figure1), \n",
    "                                     other = 'Gov_Figure1')\n",
    "\n",
    "gov_figure2 = ['Politician or Political Party Movement/Meeting/Rally', 'Royalty', 'Head of State',\n",
    "               'Election-Related']\n",
    "cyber_train_X['sub_targettxt'] = cyber_train_X['sub_targettxt'].where(\n",
    "                                     cyber_train_X['sub_targettxt'].apply(lambda x: x not in gov_figure2), \n",
    "                                     other = 'Gov_Figure2')\n",
    "\n",
    "\n",
    "police_facilities = ['Police Buildings (Headquarters/Stations/School)', \n",
    "                     'Police Patrol (including vehicles and convoys)', \n",
    "                     'Police Checkpoint', 'Prison/Jail']\n",
    "cyber_train_X['sub_targettxt'] = cyber_train_X['sub_targettxt'].where(\n",
    "                                     cyber_train_X['sub_targettxt'].apply(lambda x: x not in gov_figure2), \n",
    "                                     other = 'Police_Facilities')\n",
    "\n",
    "military_facilities = ['Military Barracks/Base/Headquarters/Checkpost', 'Military Recruiting Station/Academy',\n",
    "                       'Military Weaponry', 'Military Aircraft', 'Military Maritime', \n",
    "                       'Military Transportation/Vehicle (excluding convoys)', 'Military Checkpoint',\n",
    "                       'Paramilitary']\n",
    "cyber_train_X['sub_targettxt'] = cyber_train_X['sub_targettxt'].where(\n",
    "                                     cyber_train_X['sub_targettxt'].apply(lambda x: x not in military_facilities), \n",
    "                                     other = 'Military_Facilities')\n",
    "\n",
    "\n",
    "military_personnel = ['Military Unit/Patrol/Convoy', 'Non-combatant Personnel', \n",
    "                      'Military Personnel (soldiers, troops, officers, forces)']\n",
    "cyber_train_X['sub_targettxt'] = cyber_train_X['sub_targettxt'].where(\n",
    "                                     cyber_train_X['sub_targettxt'].apply(lambda x: x not in military_personnel), \n",
    "                                     other = 'Military_Personnel')\n",
    "\n",
    "\n",
    "pilots_aircraft = ['Aircraft (not at an airport)', 'Airline Officer/Personnel']\n",
    "cyber_train_X['sub_targettxt'] = cyber_train_X['sub_targettxt'].where(\n",
    "                                     cyber_train_X['sub_targettxt'].apply(lambda x: x not in military_personnel), \n",
    "                                     other = 'Pilots_Aircraft')\n",
    "\n",
    "gov_diplomatic = [' Diplomatic Personnel (outside of embassy, consulate)', 'Embassy/Consulate', \n",
    "                  'International Organization (peacekeeper, aid agency, compound)']\n",
    "cyber_train_X['sub_targettxt'] = cyber_train_X['sub_targettxt'].where(\n",
    "                                     cyber_train_X['sub_targettxt'].apply(lambda x: x not in gov_diplomatic), \n",
    "                                     other = 'Gov_Diplomatic')\n",
    "\n",
    "educational = ['Teacher/Professor/Instructor', 'School/University/Educational Building', \n",
    "               'Other Personnel']\n",
    "cyber_train_X['sub_targettxt'] = cyber_train_X['sub_targettxt'].where(\n",
    "                                     cyber_train_X['sub_targettxt'].apply(lambda x: x not in educational), \n",
    "                                     other = 'Educational')\n",
    "\n",
    "food_water = ['Food Supply', 'Water Supply']\n",
    "cyber_train_X['sub_targettxt'] = cyber_train_X['sub_targettxt'].where(\n",
    "                                     cyber_train_X['sub_targettxt'].apply(lambda x: x not in food_water), \n",
    "                                     other = 'Food_Water')\n",
    "\n",
    "media = ['Newspaper Journalist/Staff/Facility', 'Radio Journalist/Staff/Facility', \n",
    "         'Television Journalist/Staff/Facility', 'Other (including online news agencies)']\n",
    "cyber_train_X['sub_targettxt'] = cyber_train_X['sub_targettxt'].where(\n",
    "                                     cyber_train_X['sub_targettxt'].apply(lambda x: x not in media), \n",
    "                                     other = 'Media')\n",
    "\n",
    "\n",
    "religious = ['Religion Identified', 'Religious Figure', 'Place of Worship', \n",
    "             'Affiliated Institution']\n",
    "cyber_train_X['sub_targettxt'] = cyber_train_X['sub_targettxt'].where(\n",
    "                                     cyber_train_X['sub_targettxt'].apply(lambda x: x not in military_personnel), \n",
    "                                     other = 'Pilots_Aircraft')\n",
    "\n",
    "\n",
    "political = ['Protrainer', 'Political Party Member/Rally', 'Party Official/Candidate/Other Personnel', \n",
    "             'Party Office/Facility', 'Rally']\n",
    "cyber_train_X['sub_targettxt'] = cyber_train_X['sub_targettxt'].where(\n",
    "                                     cyber_train_X['sub_targettxt'].apply(lambda x: x not in political), \n",
    "                                     other = 'Political')\n",
    "\n",
    "mass_socio = ['Refugee (including Camps/IDP/Asylum Seekers)', 'Named Civilian', 'Student', \n",
    "              'Race/Ethnicity Identified', 'Farmer', 'Vehicles/Transportation', 'Marketplace/Plaza/Square', 'Village/City/Town/Suburb', \n",
    "              'House/Apartment/Residence', 'Laborer (General)/Occupation Identified', 'Procession/Gathering (funeral, wedding, birthday, religious)', \n",
    "              'Public Areas (e.g., Public garden, parking lot, garage, beach, public buildings, camps)',\n",
    "             'Memorial/Cemetery/Monument', 'Museum/Cultural Center/Cultural House', 'Labor Union Related', \n",
    "              'Tourism Travel Agency', 'Tour Bus/Van/Vehicle', 'Tourist', 'Other Facility', 'train/train Tracks/ Trolley', 'Bus Station/Stop', 'Subway', \n",
    "              'Bridge/Car Tunnel', 'Highway/Road/Toll/Traffic Signal', 'Taxi/Rickshaw']\n",
    "cyber_train_X['sub_targettxt'] = cyber_train_X['sub_targettxt'].where(\n",
    "                                     cyber_train_X['sub_targettxt'].apply(lambda x: x not in mass_socio), \n",
    "                                     other = 'Mass_Social')\n",
    "\n",
    "\n",
    "\n",
    "util_telecom = ['Radio', 'Television', 'Telephone/Telegraph', 'Internet Infrastructure', \n",
    "                'Multiple Telecommunication Targets', 'Gas', 'Electricity', 'Oil']\n",
    "cyber_train_X['sub_targettxt'] = cyber_train_X['sub_targettxt'].where(\n",
    "                                     cyber_train_X['sub_targettxt'].apply(lambda x: x not in util_telecom), \n",
    "                                     other = 'Util_Telecom')"
   ]
  },
  {
   "cell_type": "markdown",
   "metadata": {},
   "source": [
    "> ###### Test Data:"
   ]
  },
  {
   "cell_type": "code",
   "execution_count": 343,
   "metadata": {},
   "outputs": [],
   "source": [
    "# Test Data:\n",
    "\n",
    "industrial = ['Gas/Oil/Electric', 'Industrial/Textiles/Factory', 'Farm/Ranch', 'Mining', 'Construction']\n",
    "cyber_test_X['sub_targettxt'] = cyber_test_X['sub_targettxt'].where(\n",
    "                                     cyber_test_X['sub_targettxt'].apply(lambda x: x not in industrial), \n",
    "                                     other = 'Industrial')\n",
    "\n",
    "\n",
    "white_collar = ['Restaurant/Bar/Café', 'Bank/Commerce', 'Multinational Corporation', \n",
    "                'Medical/Pharmaceutical', 'Retail/Grocery/Bakery (including cell phone shops and generic shops)', \n",
    "                'Hotel/Resort', 'Entertainment/Cultural/Stadium/Casino', 'Private Security Company/Firm',\n",
    "                'Legal Services']\n",
    "cyber_test_X['sub_targettxt'] = cyber_test_X['sub_targettxt'].where(\n",
    "                                     cyber_test_X['sub_targettxt'].apply(lambda x: x not in white_collar), \n",
    "                                     other = 'White_Collar')\n",
    "\n",
    "\n",
    "gov_figure1 = ['Judges/Attorneys/Courts', 'Government Personnel (excluding police, military)']\n",
    "cyber_test_X['sub_targettxt'] = cyber_test_X['sub_targettxt'].where(\n",
    "                                     cyber_test_X['sub_targettxt'].apply(lambda x: x not in gov_figure1), \n",
    "                                     other = 'Gov_Figure1')\n",
    "\n",
    "gov_figure2 = ['Politician or Political Party Movement/Meeting/Rally', 'Royalty', 'Head of State',\n",
    "               'Election-Related']\n",
    "cyber_test_X['sub_targettxt'] = cyber_test_X['sub_targettxt'].where(\n",
    "                                     cyber_test_X['sub_targettxt'].apply(lambda x: x not in gov_figure2), \n",
    "                                     other = 'Gov_Figure2')\n",
    "\n",
    "\n",
    "police_facilities = ['Police Buildings (Headquarters/Stations/School)', \n",
    "                     'Police Patrol (including vehicles and convoys)', \n",
    "                     'Police Checkpoint', 'Prison/Jail']\n",
    "cyber_test_X['sub_targettxt'] = cyber_test_X['sub_targettxt'].where(\n",
    "                                     cyber_test_X['sub_targettxt'].apply(lambda x: x not in gov_figure2), \n",
    "                                     other = 'Police_Facilities')\n",
    "\n",
    "military_facilities = ['Military Barracks/Base/Headquarters/Checkpost', 'Military Recruiting Station/Academy',\n",
    "                       'Military Weaponry', 'Military Aircraft', 'Military Maritime', \n",
    "                       'Military Transportation/Vehicle (excluding convoys)', 'Military Checkpoint',\n",
    "                       'Paramilitary']\n",
    "cyber_test_X['sub_targettxt'] = cyber_test_X['sub_targettxt'].where(\n",
    "                                     cyber_test_X['sub_targettxt'].apply(lambda x: x not in military_facilities), \n",
    "                                     other = 'Military_Facilities')\n",
    "\n",
    "\n",
    "military_personnel = ['Military Unit/Patrol/Convoy', 'Non-combatant Personnel', \n",
    "                      'Military Personnel (soldiers, troops, officers, forces)']\n",
    "cyber_test_X['sub_targettxt'] = cyber_test_X['sub_targettxt'].where(\n",
    "                                     cyber_test_X['sub_targettxt'].apply(lambda x: x not in military_personnel), \n",
    "                                     other = 'Military_Personnel')\n",
    "\n",
    "\n",
    "pilots_aircraft = ['Aircraft (not at an airport)', 'Airline Officer/Personnel']\n",
    "cyber_test_X['sub_targettxt'] = cyber_test_X['sub_targettxt'].where(\n",
    "                                     cyber_test_X['sub_targettxt'].apply(lambda x: x not in military_personnel), \n",
    "                                     other = 'Pilots_Aircraft')\n",
    "\n",
    "gov_diplomatic = [' Diplomatic Personnel (outside of embassy, consulate)', 'Embassy/Consulate', \n",
    "                  'International Organization (peacekeeper, aid agency, compound)']\n",
    "cyber_test_X['sub_targettxt'] = cyber_test_X['sub_targettxt'].where(\n",
    "                                     cyber_test_X['sub_targettxt'].apply(lambda x: x not in gov_diplomatic), \n",
    "                                     other = 'Gov_Diplomatic')\n",
    "\n",
    "educational = ['Teacher/Professor/Instructor', 'School/University/Educational Building', \n",
    "               'Other Personnel']\n",
    "cyber_test_X['sub_targettxt'] = cyber_test_X['sub_targettxt'].where(\n",
    "                                     cyber_test_X['sub_targettxt'].apply(lambda x: x not in educational), \n",
    "                                     other = 'Educational')\n",
    "\n",
    "food_water = ['Food Supply', 'Water Supply']\n",
    "cyber_test_X['sub_targettxt'] = cyber_test_X['sub_targettxt'].where(\n",
    "                                     cyber_test_X['sub_targettxt'].apply(lambda x: x not in food_water), \n",
    "                                     other = 'Food_Water')\n",
    "\n",
    "media = ['Newspaper Journalist/Staff/Facility', 'Radio Journalist/Staff/Facility', \n",
    "         'Television Journalist/Staff/Facility', 'Other (including online news agencies)']\n",
    "cyber_test_X['sub_targettxt'] = cyber_test_X['sub_targettxt'].where(\n",
    "                                     cyber_test_X['sub_targettxt'].apply(lambda x: x not in media), \n",
    "                                     other = 'Media')\n",
    "\n",
    "\n",
    "religious = ['Religion Identified', 'Religious Figure', 'Place of Worship', \n",
    "             'Affiliated Institution']\n",
    "cyber_test_X['sub_targettxt'] = cyber_test_X['sub_targettxt'].where(\n",
    "                                     cyber_test_X['sub_targettxt'].apply(lambda x: x not in military_personnel), \n",
    "                                     other = 'Pilots_Aircraft')\n",
    "\n",
    "\n",
    "political = ['Protester', 'Political Party Member/Rally', 'Party Official/Candidate/Other Personnel', \n",
    "             'Party Office/Facility', 'Rally']\n",
    "cyber_test_X['sub_targettxt'] = cyber_test_X['sub_targettxt'].where(\n",
    "                                     cyber_test_X['sub_targettxt'].apply(lambda x: x not in political), \n",
    "                                     other = 'Political')\n",
    "\n",
    "mass_socio = ['Refugee (including Camps/IDP/Asylum Seekers)', 'Named Civilian', 'Student', \n",
    "              'Race/Ethnicity Identified', 'Farmer', 'Vehicles/Transportation', 'Marketplace/Plaza/Square', 'Village/City/Town/Suburb', \n",
    "              'House/Apartment/Residence', 'Laborer (General)/Occupation Identified', 'Procession/Gathering (funeral, wedding, birthday, religious)', \n",
    "              'Public Areas (e.g., Public garden, parking lot, garage, beach, public buildings, camps)',\n",
    "             'Memorial/Cemetery/Monument', 'Museum/Cultural Center/Cultural House', 'Labor Union Related', \n",
    "              'Tourism Travel Agency', 'Tour Bus/Van/Vehicle', 'Tourist', 'Other Facility', 'test/test Tracks/ Trolley', 'Bus Station/Stop', 'Subway', \n",
    "              'Bridge/Car Tunnel', 'Highway/Road/Toll/Traffic Signal', 'Taxi/Rickshaw']\n",
    "cyber_test_X['sub_targettxt'] = cyber_test_X['sub_targettxt'].where(\n",
    "                                     cyber_test_X['sub_targettxt'].apply(lambda x: x not in mass_socio), \n",
    "                                     other = 'Mass_Social')\n",
    "\n",
    "\n",
    "\n",
    "util_telecom = ['Radio', 'Television', 'Telephone/Telegraph', 'Internet Infrastructure', \n",
    "                'Multiple Telecommunication Targets', 'Gas', 'Electricity', 'Oil']\n",
    "cyber_test_X['sub_targettxt'] = cyber_test_X['sub_targettxt'].where(\n",
    "                                     cyber_test_X['sub_targettxt'].apply(lambda x: x not in util_telecom), \n",
    "                                     other = 'Util_Telecom')"
   ]
  },
  {
   "cell_type": "markdown",
   "metadata": {},
   "source": [
    "##### Group_name:"
   ]
  },
  {
   "cell_type": "code",
   "execution_count": 344,
   "metadata": {},
   "outputs": [
    {
     "data": {
      "text/plain": [
       "(4743, 19)"
      ]
     },
     "execution_count": 344,
     "metadata": {},
     "output_type": "execute_result"
    }
   ],
   "source": [
    "cyber_test_X.shape"
   ]
  },
  {
   "cell_type": "markdown",
   "metadata": {},
   "source": [
    "> Trying Group_name a bit and grouping them by Ideaology.\n",
    "\n",
    "> ###### Training Input:"
   ]
  },
  {
   "cell_type": "code",
   "execution_count": 345,
   "metadata": {},
   "outputs": [],
   "source": [
    "# Separatists, Leftists and Rightists:\n",
    "\n",
    "# Palestinian Separatists:\n",
    "cyber_train_X['group_name'] = cyber_train_X['group_name'].replace('Hamas (Islamic Resistance Movement)', \n",
    "                                                        'Palestinian_Separatists')\n",
    "cyber_train_X['group_name'] = cyber_train_X['group_name'].replace('Palestinian Islamic Jihad (PIJ)', \n",
    "                                                        'Palestinian_Separatists')\n",
    "cyber_train_X['group_name'] = cyber_train_X['group_name'].replace('Popular Front for the Liberation of Palestine (PFLP)',\n",
    "                                                        'Palestinian_Separatists')\n",
    "cyber_train_X['group_name'] = cyber_train_X['group_name'].replace('Popular Resistance Committees',\n",
    "                                                        'Palestinian_Separatists')\n",
    "cyber_train_X['group_name'] = cyber_train_X['group_name'].replace('Al-Fatah',\n",
    "                                                        'Palestinian_Separatists')\n",
    "\n",
    "# Militants:\n",
    "cyber_train_X['group_name'] = cyber_train_X['group_name'].replace('Militants',\n",
    "                                                        'Militant_Gunmen_Groups')\n",
    "cyber_train_X['group_name'] = cyber_train_X['group_name'].replace('Gunmen',\n",
    "                                                        'Militant_Gunmen_Groups')"
   ]
  },
  {
   "cell_type": "code",
   "execution_count": 346,
   "metadata": {},
   "outputs": [],
   "source": [
    "# Asian Separatists:\n",
    "\n",
    "cyber_train_X['group_name'] = cyber_train_X['group_name'].replace('Abu Sayyaf Group (ASG)',\n",
    "                                                        'Asian_Separatists')\n",
    "cyber_train_X['group_name'] = cyber_train_X['group_name'].replace('Colonel Karuna Faction',\n",
    "                                                        'Asian_Separatists')\n",
    "cyber_train_X['group_name'] = cyber_train_X['group_name'].replace('Eastern Turkistan Islamic Movement (ETIM)',\n",
    "                                                        'Asian_Separatists')\n",
    "cyber_train_X['group_name'] = cyber_train_X['group_name'].replace('Free Aceh Movement (GAM)',\n",
    "                                                        'Asian_Separatists')\n",
    "cyber_train_X['group_name'] = cyber_train_X['group_name'].replace('Janatantrik Terai Mukti Morcha (Jtmm)',\n",
    "                                                        'Asian_Separatists')\n",
    "cyber_train_X['group_name'] = cyber_train_X['group_name'].replace('Janatantrik Terai Mukti Morcha- Goit (Jtmm-G)',\n",
    "                                                        'Asian_Separatists')\n",
    "cyber_train_X['group_name'] = cyber_train_X['group_name'].replace('Janatantrik Terai Mukti Morcha- Jwala Singh (Jtmm-J)',\n",
    "                                                        'Asian_Separatists')\n",
    "cyber_train_X['group_name'] = cyber_train_X['group_name'].replace('Janatantrik Terai Mukti Morcha- Rajan Mukti (Jtmm-R)',\n",
    "                                                        'Asian_Separatists')\n",
    "cyber_train_X['group_name'] = cyber_train_X['group_name'].replace('Liberation Tigers of Tamil Eelam (LTTE)',\n",
    "                                                        'Asian_Separatists')\n",
    "cyber_train_X['group_name'] = cyber_train_X['group_name'].replace('Moro Islamic Liberation Front (MILF)',\n",
    "                                                        'Asian_Separatists')\n",
    "cyber_train_X['group_name'] = cyber_train_X['group_name'].replace('Runda Kumpulan Kecil (Rkk)',\n",
    "                                                        'Asian_Separatists')\n",
    "cyber_train_X['group_name'] = cyber_train_X['group_name'].replace('Terai Army',\n",
    "                                                        'Asian_Separatists')"
   ]
  },
  {
   "cell_type": "code",
   "execution_count": 347,
   "metadata": {},
   "outputs": [],
   "source": [
    "# Middle Eastern Separatists\n",
    "cyber_train_X['group_name'] = cyber_train_X['group_name'].replace('Supreme Council For Islamic Revolution In Iraq (Sciri)',\n",
    "                                                        'Middle_Eastern_Separatists')\n",
    "cyber_train_X['group_name'] = cyber_train_X['group_name'].replace('Southern Mobility Movement (Yemen)',\n",
    "                                                        'Middle_Eastern_Separatists')\n",
    "cyber_train_X['group_name'] = cyber_train_X['group_name'].replace('Riyadus-Salikhin Reconnaissance And Sabotage Battalion Of Chechen Martyrs',\n",
    "                                                        'Middle_Eastern_Separatists')\n",
    "cyber_train_X['group_name'] = cyber_train_X['group_name'].replace('Haqqani Network',\n",
    "                                                        'Middle_Eastern_Separatists')\n",
    "cyber_train_X['group_name'] = cyber_train_X['group_name'].replace('Harkatul Jihad-E-Islami',\n",
    "                                                        'Middle_Eastern_Separatists')\n",
    "cyber_train_X['group_name'] = cyber_train_X['group_name'].replace('Hizbul Mujahideen (Hm)',\n",
    "                                                        'Middle_Eastern_Separatists')\n",
    "cyber_train_X['group_name'] = cyber_train_X['group_name'].replace('Jaish-E-Mohammad (Jem)',\n",
    "                                                        'Middle_Eastern_Separatists')\n",
    "cyber_train_X['group_name'] = cyber_train_X['group_name'].replace('Kurdistan Free Life Party',\n",
    "                                                        'Middle_Eastern_Separatists')\n",
    "cyber_train_X['group_name'] = cyber_train_X['group_name'].replace('Kurdistan Workers\\' Party (PKK)',\n",
    "                                                        'Middle_Eastern_Separatists')\n",
    "cyber_train_X['group_name'] = cyber_train_X['group_name'].replace('Lashkar-E-Balochistan',\n",
    "                                                        'Middle_Eastern_Separatists')\n",
    "cyber_train_X['group_name'] = cyber_train_X['group_name'].replace('Lashkar-E-Taiba (Let)',\n",
    "                                                        'Middle_Eastern_Separatists')\n",
    "cyber_train_X['group_name'] = cyber_train_X['group_name'].replace('Ansar Al-Islam',\n",
    "                                                        'Middle_Eastern_Separatists')\n",
    "cyber_train_X['group_name'] = cyber_train_X['group_name'].replace('Ansar Al-Sharia (Libya)',\n",
    "                                                        'Middle_Eastern_Separatists')\n",
    "cyber_train_X['group_name'] = cyber_train_X['group_name'].replace('Baloch Liberation Army (BLA)',\n",
    "                                                        'Middle_Eastern_Separatists')\n",
    "cyber_train_X['group_name'] = cyber_train_X['group_name'].replace('Baloch Liberation Front (Blf)',\n",
    "                                                        'Middle_Eastern_Separatists')\n",
    "cyber_train_X['group_name'] = cyber_train_X['group_name'].replace('Baloch Republican Army (BRA)',\n",
    "                                                        'Middle_Eastern_Separatists')\n",
    "cyber_train_X['group_name'] = cyber_train_X['group_name'].replace('Caucasus Emirate',\n",
    "                                                        'Middle_Eastern_Separatists')\n",
    "cyber_train_X['group_name'] = cyber_train_X['group_name'].replace('Free Syrian Army',\n",
    "                                                        'Middle_Eastern_Separatists')\n",
    "cyber_train_X['group_name'] = cyber_train_X['group_name'].replace('Chechen Rebels',\n",
    "                                                        'Middle_Eastern_Separatists')"
   ]
  },
  {
   "cell_type": "code",
   "execution_count": 348,
   "metadata": {},
   "outputs": [],
   "source": [
    "# Indian Separatists\n",
    "cyber_train_X['group_name'] = cyber_train_X['group_name'].replace('Black Widows',\n",
    "                                                        'Indian_Separatists')\n",
    "cyber_train_X['group_name'] = cyber_train_X['group_name'].replace('Dima Halao Daoga (Dhd)',\n",
    "                                                        'Indian_Separatists')\n",
    "cyber_train_X['group_name'] = cyber_train_X['group_name'].replace('Garo National Liberation Army',\n",
    "                                                        'Indian_Separatists')\n",
    "cyber_train_X['group_name'] = cyber_train_X['group_name'].replace('Kangleipak Communist Party (KCP)',\n",
    "                                                        'Indian_Separatists')\n",
    "cyber_train_X['group_name'] = cyber_train_X['group_name'].replace('Karbi Longri North Cachar Liberation Front (Klnlf)',\n",
    "                                                        'Indian_Separatists')\n",
    "cyber_train_X['group_name'] = cyber_train_X['group_name'].replace('National Democratic Front of Bodoland (NDFB)',\n",
    "                                                        'Indian_Separatists')\n",
    "cyber_train_X['group_name'] = cyber_train_X['group_name'].replace('National Liberation Front of Tripura (NLFT)',\n",
    "                                                        'Indian_Separatists')\n",
    "cyber_train_X['group_name'] = cyber_train_X['group_name'].replace('National Socialist Council of Nagaland-Isak-Muivah (NSCN-IM)',\n",
    "                                                        'Indian_Separatists')\n",
    "cyber_train_X['group_name'] = cyber_train_X['group_name'].replace('People\\'s Liberation Army (PLA)',\n",
    "                                                        'Indian_Separatists')\n",
    "cyber_train_X['group_name'] = cyber_train_X['group_name'].replace('People\\'s Revolutionary Party of Kangleipak (PREPAK)',\n",
    "                                                        'Indian_Separatists')\n",
    "cyber_train_X['group_name'] = cyber_train_X['group_name'].replace('United Liberation Front of Assam (ULFA)',\n",
    "                                                        'Indian_Separatists')\n",
    "cyber_train_X['group_name'] = cyber_train_X['group_name'].replace('United National Liberation Front (UNLF)',\n",
    "                                                        'Indian_Separatists')"
   ]
  },
  {
   "cell_type": "code",
   "execution_count": 349,
   "metadata": {},
   "outputs": [],
   "source": [
    "# NW_Indian_Groups:\n",
    "\n",
    "cyber_train_X['group_name'] = cyber_train_X['group_name'].replace('Lashkar-e-Jhangvi',\n",
    "                                                        'NW_Indian_Groups')\n",
    "cyber_train_X['group_name'] = cyber_train_X['group_name'].replace('Sipah-e-Sahaba/Pakistan (SSP)',\n",
    "                                                        'NW_Indian_Groups')\n",
    "cyber_train_X['group_name'] = cyber_train_X['group_name'].replace('Hizbul Mujahideen (HM)',\n",
    "                                                        'NW_Indian_Groups')\n",
    "cyber_train_X['group_name'] = cyber_train_X['group_name'].replace('Baloch Liberation Front (BLF)',\n",
    "                                                        'NW_Indian_Groups')\n",
    "cyber_train_X['group_name'] = cyber_train_X['group_name'].replace('Baloch Young Tigers (BYT)',\n",
    "                                                        'NW_Indian_Groups')\n",
    "cyber_train_X['group_name'] = cyber_train_X['group_name'].replace('Baloch Young Tigers (BYT)',\n",
    "                                                        'NW_Indian_Groups')\n",
    "cyber_train_X['group_name'] = cyber_train_X['group_name'].replace('Baloch Liberation Army (BLA)',\n",
    "                                                        'NW_Indian_Groups')\n",
    "cyber_train_X['group_name'] = cyber_train_X['group_name'].replace('Baloch Republican Army (BRA)',\n",
    "                                                        'NW_Indian_Groups')\n",
    "cyber_train_X['group_name'] = cyber_train_X['group_name'].replace('United Baloch Army (UBA)',\n",
    "                                                        'NW_Indian_Groups')\n",
    "cyber_train_X['group_name'] = cyber_train_X['group_name'].replace('Free Balochistan Army (FBA)',\n",
    "                                                        'NW_Indian_Groups')\n",
    "cyber_train_X['group_name'] = cyber_train_X['group_name'].replace('Baloch Nationalists',\n",
    "                                                        'NW_Indian_Groups')"
   ]
  },
  {
   "cell_type": "code",
   "execution_count": 350,
   "metadata": {},
   "outputs": [],
   "source": [
    "# SE_Indian_Groups:\n",
    "\n",
    "cyber_train_X['group_name'] = cyber_train_X['group_name'].replace('Communist Party of India - Maoist (CPI-Maoist)',\n",
    "                                                        'SE_Indian_Groups')\n",
    "cyber_train_X['group_name'] = cyber_train_X['group_name'].replace('Indian Mujahideen',\n",
    "                                                        'SE_Indian_Groups')\n",
    "cyber_train_X['group_name'] = cyber_train_X['group_name'].replace('Jama\\'atul Mujahideen Bangladesh (JMB)',\n",
    "                                                        'SE_Indian_Groups')\n",
    "cyber_train_X['group_name'] = cyber_train_X['group_name'].replace('Bangladesh Sarbahara Party',\n",
    "                                                        'SE_Indian_Groups')\n",
    "cyber_train_X['group_name'] = cyber_train_X['group_name'].replace('Purbo Banglar Communist Party',\n",
    "                                                        'SE_Indian_Groups')\n",
    "cyber_train_X['group_name'] = cyber_train_X['group_name'].replace('Harkatul Jihad-e-Islami',\n",
    "                                                        'SE_Indian_Groups')\n",
    "cyber_train_X['group_name'] = cyber_train_X['group_name'].replace('Hynniewtrep National Liberation Council (HNLC)',\n",
    "                                                        'SE_Indian_Groups')\n",
    "cyber_train_X['group_name'] = cyber_train_X['group_name'].replace('Kanglei Yawol Kanna Lup (KYKL)',\n",
    "                                                        'SE_Indian_Groups')\n",
    "cyber_train_X['group_name'] = cyber_train_X['group_name'].replace('Kuki Tribal Militants',\n",
    "                                                        'SE_Indian_Groups')\n",
    "cyber_train_X['group_name'] = cyber_train_X['group_name'].replace('Kuki National Front (KNF)',\n",
    "                                                        'SE_Indian_Groups')\n",
    "cyber_train_X['group_name'] = cyber_train_X['group_name'].replace('United Kuki Liberation Front (UKLF) - India',\n",
    "                                                        'SE_Indian_Groups')\n",
    "cyber_train_X['group_name'] = cyber_train_X['group_name'].replace('Hill Tiger Force (HTF)',\n",
    "                                                        'SE_Indian_Groups')\n",
    "cyber_train_X['group_name'] = cyber_train_X['group_name'].replace('National Socialist Council of Nagaland-Khaplang (NSCN-K)',\n",
    "                                                        'SE_Indian_Groups')\n",
    "cyber_train_X['group_name'] = cyber_train_X['group_name'].replace('National Socialist Council of Nagaland-Isak-Muivah (NSCN-IM)',\n",
    "                                                        'SE_Indian_Groups')\n",
    "cyber_train_X['group_name'] = cyber_train_X['group_name'].replace('National Socialist Council of Nagaland-Unification (NSCN-U)',\n",
    "                                                        'SE_Indian_Groups')\n",
    "cyber_train_X['group_name'] = cyber_train_X['group_name'].replace('',\n",
    "                                                        'SE_Indian_Groups')\n",
    "cyber_train_X['group_name'] = cyber_train_X['group_name'].replace('',\n",
    "                                                        'SE_Indian_Groups')\n",
    "cyber_train_X['group_name'] = cyber_train_X['group_name'].replace('',\n",
    "                                                        'SE_Indian_Groups')"
   ]
  },
  {
   "cell_type": "code",
   "execution_count": 351,
   "metadata": {},
   "outputs": [],
   "source": [
    "# African Political:\n",
    "cyber_train_X['group_name'] = cyber_train_X['group_name'].replace('National Union for the Total Independence of Angola (UNITA)',\n",
    "                                                         'African_Political')"
   ]
  },
  {
   "cell_type": "code",
   "execution_count": 352,
   "metadata": {},
   "outputs": [],
   "source": [
    "# Irish Separatists\n",
    "cyber_train_X['group_name'] = cyber_train_X['group_name'].replace('Real Irish Republican Army (RIRA)',\n",
    "                                                        'Irish_Separatists')\n",
    "cyber_train_X['group_name'] = cyber_train_X['group_name'].replace('Oglaigh Na Heireann',\n",
    "                                                        'Irish_Separatists')\n",
    "cyber_train_X['group_name'] = cyber_train_X['group_name'].replace('Irish Republican Army (IRA)',\n",
    "                                                        'rish_Separatists')\n"
   ]
  },
  {
   "cell_type": "code",
   "execution_count": 353,
   "metadata": {},
   "outputs": [],
   "source": [
    "# Farc left and right\n",
    "cyber_train_X['group_name'] = cyber_train_X['group_name'].replace('National Liberation Army of Colombia (ELN)',\n",
    "                                                        'FARC_Leftist')\n",
    "cyber_train_X['group_name'] = cyber_train_X['group_name'].replace('Popular Liberation Army (EPL)',\n",
    "                                                        'FARC_Leftist')\n",
    "cyber_train_X['group_name'] = cyber_train_X['group_name'].replace('Revolutionary Armed Forces of Colombia (FARC)',\n",
    "                                                        'FARC_Leftist')\n",
    "\n",
    "cyber_train_X['group_name'] = cyber_train_X['group_name'].replace('United Self Defense Units of Colombia (AUC)',\n",
    "                                                        'FARC_Rightist')\n",
    "  "
   ]
  },
  {
   "cell_type": "code",
   "execution_count": 354,
   "metadata": {},
   "outputs": [],
   "source": [
    "# Middle Eastern Religious:\n",
    "cyber_train_X['group_name'] = cyber_train_X['group_name'].replace('Al-Gama\\'at Al-Islamiyya (IG)',\n",
    "                                                        'Middle_Eastern_Religious')\n",
    "cyber_train_X['group_name'] = cyber_train_X['group_name'].replace('Al-Nusrah Front',\n",
    "                                                        'Middle_Eastern_Religious')\n",
    "cyber_train_X['group_name'] = cyber_train_X['group_name'].replace('Al-Qa\\'ida',\n",
    "                                                        'Middle_Eastern_Religious')\n",
    "cyber_train_X['group_name'] = cyber_train_X['group_name'].replace('Al-Qa\\'ida in the Arabian Peninsula (AQAP)',\n",
    "                                                        'Middle_Eastern_Religious')\n",
    "cyber_train_X['group_name'] = cyber_train_X['group_name'].replace('Al-Qa\\'ida in the Lands of the Islamic Maghreb (AQLIM)',\n",
    "                                                        'Middle_Eastern_Religious')\n",
    "cyber_train_X['group_name'] = cyber_train_X['group_name'].replace('Al-Shabaab',\n",
    "                                                        'Middle_Eastern_Religious')\n",
    "cyber_train_X['group_name'] = cyber_train_X['group_name'].replace('Ansar Al-Islam',\n",
    "                                                        'Middle_Eastern_Religious')\n",
    "cyber_train_X['group_name'] = cyber_train_X['group_name'].replace('Ansar Al-Sharia (Libya)',\n",
    "                                                        'Middle_Eastern_Religious')\n",
    "cyber_train_X['group_name'] = cyber_train_X['group_name'].replace('Asa\\'Ib Ahl Al-Haqq',\n",
    "                                                        'Middle_Eastern_Religious')\n",
    "cyber_train_X['group_name'] = cyber_train_X['group_name'].replace('Caucasus Emirate',\n",
    "                                                        'Middle_Eastern_Religious')\n",
    "cyber_train_X['group_name'] = cyber_train_X['group_name'].replace('Eritrean Islamic Jihad Movement (EIJM)',\n",
    "                                                        'Middle_Eastern_Religious')\n",
    "cyber_train_X['group_name'] = cyber_train_X['group_name'].replace('Great Eastern Islamic Raiders Front (Ibda-C)',\n",
    "                                                        'Middle_Eastern_Religious')\n",
    "cyber_train_X['group_name'] = cyber_train_X['group_name'].replace('Hizbul Al Islam (Somalia)',\n",
    "                                                        'Middle_Eastern_Religious')\n",
    "cyber_train_X['group_name'] = cyber_train_X['group_name'].replace('Islamic Courts Union (ICU)',\n",
    "                                                        'Middle_Eastern_Religious')\n",
    "cyber_train_X['group_name'] = cyber_train_X['group_name'].replace('Islamic State of Iraq and al Sham (ISIS)',\n",
    "                                                        'Middle_Eastern_Religious')\n",
    "cyber_train_X['group_name'] = cyber_train_X['group_name'].replace('Islamic Movement of Uzbekistan (IMU)',\n",
    "                                                        'Middle_Eastern_Religious')\n",
    "cyber_train_X['group_name'] = cyber_train_X['group_name'].replace('Jamiat Ul-Mujahedin (Jum)',\n",
    "                                                        'Middle_Eastern_Religious')\n",
    "cyber_train_X['group_name'] = cyber_train_X['group_name'].replace('Jundallah',\n",
    "                                                        'Middle_Eastern_Religious')\n",
    "cyber_train_X['group_name'] = cyber_train_X['group_name'].replace('Mahdi Army',\n",
    "                                                        'Middle_Eastern_Religious')\n",
    "cyber_train_X['group_name'] = cyber_train_X['group_name'].replace('Taliban',\n",
    "                                                        'Middle_Eastern_Religious')\n",
    "cyber_train_X['group_name'] = cyber_train_X['group_name'].replace('Tehrik-i-Taliban Pakistan (TTP)',\n",
    "                                                        'Middle_Eastern_Religious')\n",
    "cyber_train_X['group_name'] = cyber_train_X['group_name'].replace('Muslim extremists',\n",
    "                                                        'Middle_Eastern_Religious')\n",
    "cyber_train_X['group_name'] = cyber_train_X['group_name'].replace('Armed Islamic Group (GIA)',\n",
    "                                                        'Middle_Eastern_Religious')\n",
    "cyber_train_X['group_name'] = cyber_train_X['group_name'].replace('Sunni Muslim extremists',\n",
    "                                                        'Middle_Eastern_Religious')\n",
    "cyber_train_X['group_name'] = cyber_train_X['group_name'].replace('Al-Qaida in the Islamic Maghreb (AQIM)',\n",
    "                                                        'Middle_Eastern_Religious')\n",
    "cyber_train_X['group_name'] = cyber_train_X['group_name'].replace('Islamic State of Iraq and the Levant (ISIL)',\n",
    "                                                        'Middle_Eastern_Religious')\n",
    "cyber_train_X['group_name'] = cyber_train_X['group_name'].replace('Al-Qaida in Iraq',\n",
    "                                                        'Middle_Eastern_Religious')\n",
    "cyber_train_X['group_name'] = cyber_train_X['group_name'].replace('Al-Qaida in the Arabian Peninsula (AQAP)',\n",
    "                                                        'Middle_Eastern_Religious')\n",
    "cyber_train_X['group_name'] = cyber_train_X['group_name'].replace('Al-Qaida',\n",
    "                                                        'Middle_Eastern_Religious')"
   ]
  },
  {
   "cell_type": "code",
   "execution_count": 355,
   "metadata": {},
   "outputs": [],
   "source": [
    "# Israeli, Palestinian, Lebanese Religious:\n",
    "cyber_train_X['group_name'] = cyber_train_X['group_name'].replace('Anti-Semitic extremists',\n",
    "                                                        'Near_Israel_Religious')\n",
    "cyber_train_X['group_name'] = cyber_train_X['group_name'].replace('Hezbollah',\n",
    "                                                        'Near_Israel_Religious')"
   ]
  },
  {
   "cell_type": "code",
   "execution_count": 356,
   "metadata": {},
   "outputs": [],
   "source": [
    "# Asian and African Religious:\n",
    "\n",
    "cyber_train_X['group_name'] = cyber_train_X['group_name'].replace('Students Islamic Movement of India (Simi)',\n",
    "                                                        'Asian/Asian-Pacific_Religious')\n",
    "cyber_train_X['group_name'] = cyber_train_X['group_name'].replace('Ranbir Sena',\n",
    "                                                        'Asian/Asian-Pacific_Religious')\n",
    "cyber_train_X['group_name'] = cyber_train_X['group_name'].replace('Jemaah Islamiya (JI)',\n",
    "                                                        'Asian/Asian-Pacific_Religious')\n",
    "\n",
    "\n",
    "cyber_train_X['group_name'] = cyber_train_X['group_name'].replace('Movement for Oneness and Jihad in West Africa (MUJAO)',\n",
    "                                                        'African_Religious')\n",
    "cyber_train_X['group_name'] = cyber_train_X['group_name'].replace('Lord\\'s Resistance Army (LRA)',\n",
    "                                                        'African_Religious')\n",
    "cyber_train_X['group_name'] = cyber_train_X['group_name'].replace('Boko Haram',\n",
    "                                                        'African_Religious')\n"
   ]
  },
  {
   "cell_type": "code",
   "execution_count": null,
   "metadata": {},
   "outputs": [],
   "source": []
  },
  {
   "cell_type": "markdown",
   "metadata": {},
   "source": [
    "> ###### Test Input:"
   ]
  },
  {
   "cell_type": "code",
   "execution_count": 357,
   "metadata": {},
   "outputs": [],
   "source": [
    "# Separatists, Leftists and Rightists:\n",
    "\n",
    "# Palestinian Separatists:\n",
    "cyber_test_X['group_name'] = cyber_test_X['group_name'].replace('Hamas (Islamic Resistance Movement)', \n",
    "                                                        'Palestinian_Separatists')\n",
    "cyber_test_X['group_name'] = cyber_test_X['group_name'].replace('Palestinian Islamic Jihad (PIJ)', \n",
    "                                                        'Palestinian_Separatists')\n",
    "cyber_test_X['group_name'] = cyber_test_X['group_name'].replace('Popular Front for the Liberation of Palestine (PFLP)',\n",
    "                                                        'Palestinian_Separatists')\n",
    "cyber_test_X['group_name'] = cyber_test_X['group_name'].replace('Popular Resistance Committees',\n",
    "                                                        'Palestinian_Separatists')\n",
    "cyber_test_X['group_name'] = cyber_test_X['group_name'].replace('Al-Fatah',\n",
    "                                                        'Palestinian_Separatists')\n",
    "\n",
    "# Militants:\n",
    "cyber_test_X['group_name'] = cyber_test_X['group_name'].replace('Militants',\n",
    "                                                        'Militant_Gunmen_Groups')\n",
    "cyber_test_X['group_name'] = cyber_test_X['group_name'].replace('Gunmen',\n",
    "                                                        'Militant_Gunmen_Groups')"
   ]
  },
  {
   "cell_type": "code",
   "execution_count": 358,
   "metadata": {},
   "outputs": [],
   "source": [
    "# Asian Separatists:\n",
    "\n",
    "cyber_test_X['group_name'] = cyber_test_X['group_name'].replace('Abu Sayyaf Group (ASG)',\n",
    "                                                        'Asian_Separatists')\n",
    "cyber_test_X['group_name'] = cyber_test_X['group_name'].replace('Colonel Karuna Faction',\n",
    "                                                        'Asian_Separatists')\n",
    "cyber_test_X['group_name'] = cyber_test_X['group_name'].replace('Eastern Turkistan Islamic Movement (ETIM)',\n",
    "                                                        'Asian_Separatists')\n",
    "cyber_test_X['group_name'] = cyber_test_X['group_name'].replace('Free Aceh Movement (GAM)',\n",
    "                                                        'Asian_Separatists')\n",
    "cyber_test_X['group_name'] = cyber_test_X['group_name'].replace('Janatantrik Terai Mukti Morcha (Jtmm)',\n",
    "                                                        'Asian_Separatists')\n",
    "cyber_test_X['group_name'] = cyber_test_X['group_name'].replace('Janatantrik Terai Mukti Morcha- Goit (Jtmm-G)',\n",
    "                                                        'Asian_Separatists')\n",
    "cyber_test_X['group_name'] = cyber_test_X['group_name'].replace('Janatantrik Terai Mukti Morcha- Jwala Singh (Jtmm-J)',\n",
    "                                                        'Asian_Separatists')\n",
    "cyber_test_X['group_name'] = cyber_test_X['group_name'].replace('Janatantrik Terai Mukti Morcha- Rajan Mukti (Jtmm-R)',\n",
    "                                                        'Asian_Separatists')\n",
    "cyber_test_X['group_name'] = cyber_test_X['group_name'].replace('Liberation Tigers of Tamil Eelam (LTTE)',\n",
    "                                                        'Asian_Separatists')\n",
    "cyber_test_X['group_name'] = cyber_test_X['group_name'].replace('Moro Islamic Liberation Front (MILF)',\n",
    "                                                        'Asian_Separatists')\n",
    "cyber_test_X['group_name'] = cyber_test_X['group_name'].replace('Runda Kumpulan Kecil (Rkk)',\n",
    "                                                        'Asian_Separatists')\n",
    "cyber_test_X['group_name'] = cyber_test_X['group_name'].replace('Terai Army',\n",
    "                                                        'Asian_Separatists')"
   ]
  },
  {
   "cell_type": "code",
   "execution_count": 359,
   "metadata": {},
   "outputs": [],
   "source": [
    "# Middle Eastern Separatists\n",
    "cyber_test_X['group_name'] = cyber_test_X['group_name'].replace('Supreme Council For Islamic Revolution In Iraq (Sciri)',\n",
    "                                                        'Middle_Eastern_Separatists')\n",
    "cyber_test_X['group_name'] = cyber_test_X['group_name'].replace('Southern Mobility Movement (Yemen)',\n",
    "                                                        'Middle_Eastern_Separatists')\n",
    "cyber_test_X['group_name'] = cyber_test_X['group_name'].replace('Riyadus-Salikhin Reconnaissance And Sabotage Battalion Of Chechen Martyrs',\n",
    "                                                        'Middle_Eastern_Separatists')\n",
    "cyber_test_X['group_name'] = cyber_test_X['group_name'].replace('Haqqani Network',\n",
    "                                                        'Middle_Eastern_Separatists')\n",
    "cyber_test_X['group_name'] = cyber_test_X['group_name'].replace('Harkatul Jihad-E-Islami',\n",
    "                                                        'Middle_Eastern_Separatists')\n",
    "cyber_test_X['group_name'] = cyber_test_X['group_name'].replace('Hizbul Mujahideen (Hm)',\n",
    "                                                        'Middle_Eastern_Separatists')\n",
    "cyber_test_X['group_name'] = cyber_test_X['group_name'].replace('Jaish-E-Mohammad (Jem)',\n",
    "                                                        'Middle_Eastern_Separatists')\n",
    "cyber_test_X['group_name'] = cyber_test_X['group_name'].replace('Kurdistan Free Life Party',\n",
    "                                                        'Middle_Eastern_Separatists')\n",
    "cyber_test_X['group_name'] = cyber_test_X['group_name'].replace('Kurdistan Workers\\' Party (PKK)',\n",
    "                                                        'Middle_Eastern_Separatists')\n",
    "cyber_test_X['group_name'] = cyber_test_X['group_name'].replace('Lashkar-E-Balochistan',\n",
    "                                                        'Middle_Eastern_Separatists')\n",
    "cyber_test_X['group_name'] = cyber_test_X['group_name'].replace('Lashkar-E-Taiba (Let)',\n",
    "                                                        'Middle_Eastern_Separatists')\n",
    "cyber_test_X['group_name'] = cyber_test_X['group_name'].replace('Ansar Al-Islam',\n",
    "                                                        'Middle_Eastern_Separatists')\n",
    "cyber_test_X['group_name'] = cyber_test_X['group_name'].replace('Ansar Al-Sharia (Libya)',\n",
    "                                                        'Middle_Eastern_Separatists')\n",
    "cyber_test_X['group_name'] = cyber_test_X['group_name'].replace('Baloch Liberation Army (BLA)',\n",
    "                                                        'Middle_Eastern_Separatists')\n",
    "cyber_test_X['group_name'] = cyber_test_X['group_name'].replace('Baloch Liberation Front (Blf)',\n",
    "                                                        'Middle_Eastern_Separatists')\n",
    "cyber_test_X['group_name'] = cyber_test_X['group_name'].replace('Baloch Republican Army (BRA)',\n",
    "                                                        'Middle_Eastern_Separatists')\n",
    "cyber_test_X['group_name'] = cyber_test_X['group_name'].replace('Caucasus Emirate',\n",
    "                                                        'Middle_Eastern_Separatists')\n",
    "cyber_test_X['group_name'] = cyber_test_X['group_name'].replace('Free Syrian Army',\n",
    "                                                        'Middle_Eastern_Separatists')\n",
    "cyber_test_X['group_name'] = cyber_test_X['group_name'].replace('Chechen Rebels',\n",
    "                                                        'Middle_Eastern_Separatists')"
   ]
  },
  {
   "cell_type": "code",
   "execution_count": 360,
   "metadata": {},
   "outputs": [],
   "source": [
    "# Indian Separatists\n",
    "cyber_test_X['group_name'] = cyber_test_X['group_name'].replace('Black Widows',\n",
    "                                                        'Indian_Separatists')\n",
    "cyber_test_X['group_name'] = cyber_test_X['group_name'].replace('Dima Halao Daoga (Dhd)',\n",
    "                                                        'Indian_Separatists')\n",
    "cyber_test_X['group_name'] = cyber_test_X['group_name'].replace('Garo National Liberation Army',\n",
    "                                                        'Indian_Separatists')\n",
    "cyber_test_X['group_name'] = cyber_test_X['group_name'].replace('Kangleipak Communist Party (KCP)',\n",
    "                                                        'Indian_Separatists')\n",
    "cyber_test_X['group_name'] = cyber_test_X['group_name'].replace('Karbi Longri North Cachar Liberation Front (Klnlf)',\n",
    "                                                        'Indian_Separatists')\n",
    "cyber_test_X['group_name'] = cyber_test_X['group_name'].replace('National Democratic Front of Bodoland (NDFB)',\n",
    "                                                        'Indian_Separatists')\n",
    "cyber_test_X['group_name'] = cyber_test_X['group_name'].replace('National Liberation Front of Tripura (NLFT)',\n",
    "                                                        'Indian_Separatists')\n",
    "cyber_test_X['group_name'] = cyber_test_X['group_name'].replace('National Socialist Council of Nagaland-Isak-Muivah (NSCN-IM)',\n",
    "                                                        'Indian_Separatists')\n",
    "cyber_test_X['group_name'] = cyber_test_X['group_name'].replace('People\\'s Liberation Army (PLA)',\n",
    "                                                        'Indian_Separatists')\n",
    "cyber_test_X['group_name'] = cyber_test_X['group_name'].replace('People\\'s Revolutionary Party of Kangleipak (PREPAK)',\n",
    "                                                        'Indian_Separatists')\n",
    "cyber_test_X['group_name'] = cyber_test_X['group_name'].replace('United Liberation Front of Assam (ULFA)',\n",
    "                                                        'Indian_Separatists')\n",
    "cyber_test_X['group_name'] = cyber_test_X['group_name'].replace('United National Liberation Front (UNLF)',\n",
    "                                                        'Indian_Separatists')"
   ]
  },
  {
   "cell_type": "code",
   "execution_count": 361,
   "metadata": {},
   "outputs": [],
   "source": [
    "# NW_Indian_Groups:\n",
    "\n",
    "cyber_test_X['group_name'] = cyber_test_X['group_name'].replace('Lashkar-e-Jhangvi',\n",
    "                                                        'NW_Indian_Groups')\n",
    "cyber_test_X['group_name'] = cyber_test_X['group_name'].replace('Sipah-e-Sahaba/Pakistan (SSP)',\n",
    "                                                        'NW_Indian_Groups')\n",
    "cyber_test_X['group_name'] = cyber_test_X['group_name'].replace('Hizbul Mujahideen (HM)',\n",
    "                                                        'NW_Indian_Groups')\n",
    "cyber_test_X['group_name'] = cyber_test_X['group_name'].replace('Baloch Liberation Front (BLF)',\n",
    "                                                        'NW_Indian_Groups')\n",
    "cyber_test_X['group_name'] = cyber_test_X['group_name'].replace('Baloch Young Tigers (BYT)',\n",
    "                                                        'NW_Indian_Groups')\n",
    "cyber_test_X['group_name'] = cyber_test_X['group_name'].replace('Baloch Young Tigers (BYT)',\n",
    "                                                        'NW_Indian_Groups')\n",
    "cyber_test_X['group_name'] = cyber_test_X['group_name'].replace('Baloch Liberation Army (BLA)',\n",
    "                                                        'NW_Indian_Groups')\n",
    "cyber_test_X['group_name'] = cyber_test_X['group_name'].replace('Baloch Republican Army (BRA)',\n",
    "                                                        'NW_Indian_Groups')\n",
    "cyber_test_X['group_name'] = cyber_test_X['group_name'].replace('United Baloch Army (UBA)',\n",
    "                                                        'NW_Indian_Groups')\n",
    "cyber_test_X['group_name'] = cyber_test_X['group_name'].replace('Free Balochistan Army (FBA)',\n",
    "                                                        'NW_Indian_Groups')\n",
    "cyber_test_X['group_name'] = cyber_test_X['group_name'].replace('Baloch Nationalists',\n",
    "                                                        'NW_Indian_Groups')"
   ]
  },
  {
   "cell_type": "code",
   "execution_count": 362,
   "metadata": {},
   "outputs": [],
   "source": [
    "# SE_Indian_Groups:\n",
    "\n",
    "cyber_test_X['group_name'] = cyber_test_X['group_name'].replace('Communist Party of India - Maoist (CPI-Maoist)',\n",
    "                                                        'SE_Indian_Groups')\n",
    "cyber_test_X['group_name'] = cyber_test_X['group_name'].replace('Indian Mujahideen',\n",
    "                                                        'SE_Indian_Groups')\n",
    "cyber_test_X['group_name'] = cyber_test_X['group_name'].replace('Jama\\'atul Mujahideen Bangladesh (JMB)',\n",
    "                                                        'SE_Indian_Groups')\n",
    "cyber_test_X['group_name'] = cyber_test_X['group_name'].replace('Bangladesh Sarbahara Party',\n",
    "                                                        'SE_Indian_Groups')\n",
    "cyber_test_X['group_name'] = cyber_test_X['group_name'].replace('Purbo Banglar Communist Party',\n",
    "                                                        'SE_Indian_Groups')\n",
    "cyber_test_X['group_name'] = cyber_test_X['group_name'].replace('Harkatul Jihad-e-Islami',\n",
    "                                                        'SE_Indian_Groups')\n",
    "cyber_test_X['group_name'] = cyber_test_X['group_name'].replace('Hynniewtrep National Liberation Council (HNLC)',\n",
    "                                                        'SE_Indian_Groups')\n",
    "cyber_test_X['group_name'] = cyber_test_X['group_name'].replace('Kanglei Yawol Kanna Lup (KYKL)',\n",
    "                                                        'SE_Indian_Groups')\n",
    "cyber_test_X['group_name'] = cyber_test_X['group_name'].replace('Kuki Tribal Militants',\n",
    "                                                        'SE_Indian_Groups')\n",
    "cyber_test_X['group_name'] = cyber_test_X['group_name'].replace('Kuki National Front (KNF)',\n",
    "                                                        'SE_Indian_Groups')\n",
    "cyber_test_X['group_name'] = cyber_test_X['group_name'].replace('United Kuki Liberation Front (UKLF) - India',\n",
    "                                                        'SE_Indian_Groups')\n",
    "cyber_test_X['group_name'] = cyber_test_X['group_name'].replace('Hill Tiger Force (HTF)',\n",
    "                                                        'SE_Indian_Groups')\n",
    "cyber_test_X['group_name'] = cyber_test_X['group_name'].replace('National Socialist Council of Nagaland-Khaplang (NSCN-K)',\n",
    "                                                        'SE_Indian_Groups')\n",
    "cyber_test_X['group_name'] = cyber_test_X['group_name'].replace('National Socialist Council of Nagaland-Isak-Muivah (NSCN-IM)',\n",
    "                                                        'SE_Indian_Groups')\n",
    "cyber_test_X['group_name'] = cyber_test_X['group_name'].replace('National Socialist Council of Nagaland-Unification (NSCN-U)',\n",
    "                                                        'SE_Indian_Groups')"
   ]
  },
  {
   "cell_type": "code",
   "execution_count": 363,
   "metadata": {},
   "outputs": [],
   "source": [
    "# African Political:\n",
    "cyber_test_X['group_name'] = cyber_test_X['group_name'].replace('National Union for the Total Independence of Angola (UNITA)',\n",
    "                                                         'African_Political')"
   ]
  },
  {
   "cell_type": "code",
   "execution_count": 364,
   "metadata": {},
   "outputs": [],
   "source": [
    "# Irish Separatists\n",
    "cyber_test_X['group_name'] = cyber_test_X['group_name'].replace('Real Irish Republican Army (RIRA)',\n",
    "                                                        'Irish_Separatists')\n",
    "cyber_test_X['group_name'] = cyber_test_X['group_name'].replace('Oglaigh Na Heireann',\n",
    "                                                        'Irish_Separatists')\n",
    "cyber_test_X['group_name'] = cyber_test_X['group_name'].replace('Irish Republican Army (IRA)',\n",
    "                                                        'Irish_Separatists')\n"
   ]
  },
  {
   "cell_type": "code",
   "execution_count": 365,
   "metadata": {},
   "outputs": [],
   "source": [
    "# Farc left and right\n",
    "cyber_test_X['group_name'] = cyber_test_X['group_name'].replace('National Liberation Army of Colombia (ELN)',\n",
    "                                                        'FARC_Leftist')\n",
    "cyber_test_X['group_name'] = cyber_test_X['group_name'].replace('Popular Liberation Army (EPL)',\n",
    "                                                        'FARC_Leftist')\n",
    "cyber_test_X['group_name'] = cyber_test_X['group_name'].replace('Revolutionary Armed Forces of Colombia (FARC)',\n",
    "                                                        'FARC_Leftist')\n",
    "\n",
    "cyber_test_X['group_name'] = cyber_test_X['group_name'].replace('United Self Defense Units of Colombia (AUC)',\n",
    "                                                        'FARC_Rightist')\n",
    "  "
   ]
  },
  {
   "cell_type": "code",
   "execution_count": 366,
   "metadata": {},
   "outputs": [],
   "source": [
    "# Middle Eastern Religious:\n",
    "cyber_test_X['group_name'] = cyber_test_X['group_name'].replace('Al-Gama\\'at Al-Islamiyya (IG)',\n",
    "                                                        'Middle_Eastern_Religious')\n",
    "cyber_test_X['group_name'] = cyber_test_X['group_name'].replace('Al-Nusrah Front',\n",
    "                                                        'Middle_Eastern_Religious')\n",
    "cyber_test_X['group_name'] = cyber_test_X['group_name'].replace('Al-Qa\\'ida',\n",
    "                                                        'Middle_Eastern_Religious')\n",
    "cyber_test_X['group_name'] = cyber_test_X['group_name'].replace('Al-Qa\\'ida in the Arabian Peninsula (AQAP)',\n",
    "                                                        'Middle_Eastern_Religious')\n",
    "cyber_test_X['group_name'] = cyber_test_X['group_name'].replace('Al-Qa\\'ida in the Lands of the Islamic Maghreb (AQLIM)',\n",
    "                                                        'Middle_Eastern_Religious')\n",
    "cyber_test_X['group_name'] = cyber_test_X['group_name'].replace('Al-Shabaab',\n",
    "                                                        'Middle_Eastern_Religious')\n",
    "cyber_test_X['group_name'] = cyber_test_X['group_name'].replace('Ansar Al-Islam',\n",
    "                                                        'Middle_Eastern_Religious')\n",
    "cyber_test_X['group_name'] = cyber_test_X['group_name'].replace('Ansar Al-Sharia (Libya)',\n",
    "                                                        'Middle_Eastern_Religious')\n",
    "cyber_test_X['group_name'] = cyber_test_X['group_name'].replace('Asa\\'Ib Ahl Al-Haqq',\n",
    "                                                        'Middle_Eastern_Religious')\n",
    "cyber_test_X['group_name'] = cyber_test_X['group_name'].replace('Caucasus Emirate',\n",
    "                                                        'Middle_Eastern_Religious')\n",
    "cyber_test_X['group_name'] = cyber_test_X['group_name'].replace('Eritrean Islamic Jihad Movement (EIJM)',\n",
    "                                                        'Middle_Eastern_Religious')\n",
    "cyber_test_X['group_name'] = cyber_test_X['group_name'].replace('Great Eastern Islamic Raiders Front (Ibda-C)',\n",
    "                                                        'Middle_Eastern_Religious')\n",
    "cyber_test_X['group_name'] = cyber_test_X['group_name'].replace('Hizbul Al Islam (Somalia)',\n",
    "                                                        'Middle_Eastern_Religious')\n",
    "cyber_test_X['group_name'] = cyber_test_X['group_name'].replace('Islamic Courts Union (ICU)',\n",
    "                                                        'Middle_Eastern_Religious')\n",
    "cyber_test_X['group_name'] = cyber_test_X['group_name'].replace('Islamic State of Iraq and al Sham (ISIS)',\n",
    "                                                        'Middle_Eastern_Religious')\n",
    "cyber_test_X['group_name'] = cyber_test_X['group_name'].replace('Islamic Movement of Uzbekistan (IMU)',\n",
    "                                                        'Middle_Eastern_Religious')\n",
    "cyber_test_X['group_name'] = cyber_test_X['group_name'].replace('Jamiat Ul-Mujahedin (Jum)',\n",
    "                                                        'Middle_Eastern_Religious')\n",
    "cyber_test_X['group_name'] = cyber_test_X['group_name'].replace('Jundallah',\n",
    "                                                        'Middle_Eastern_Religious')\n",
    "cyber_test_X['group_name'] = cyber_test_X['group_name'].replace('Mahdi Army',\n",
    "                                                        'Middle_Eastern_Religious')\n",
    "cyber_test_X['group_name'] = cyber_test_X['group_name'].replace('Taliban',\n",
    "                                                        'Middle_Eastern_Religious')\n",
    "cyber_test_X['group_name'] = cyber_test_X['group_name'].replace('Tehrik-i-Taliban Pakistan (TTP)',\n",
    "                                                        'Middle_Eastern_Religious')\n",
    "cyber_test_X['group_name'] = cyber_test_X['group_name'].replace('Muslim extremists',\n",
    "                                                        'Middle_Eastern_Religious')\n",
    "cyber_test_X['group_name'] = cyber_test_X['group_name'].replace('Armed Islamic Group (GIA)',\n",
    "                                                        'Middle_Eastern_Religious')\n",
    "cyber_test_X['group_name'] = cyber_test_X['group_name'].replace('Sunni Muslim extremists',\n",
    "                                                        'Middle_Eastern_Religious')\n",
    "cyber_test_X['group_name'] = cyber_test_X['group_name'].replace('Al-Qaida in the Islamic Maghreb (AQIM)',\n",
    "                                                        'Middle_Eastern_Religious')\n",
    "cyber_test_X['group_name'] = cyber_test_X['group_name'].replace('Islamic State of Iraq and the Levant (ISIL)',\n",
    "                                                        'Middle_Eastern_Religious')\n",
    "cyber_test_X['group_name'] = cyber_test_X['group_name'].replace('Al-Qaida in Iraq',\n",
    "                                                        'Middle_Eastern_Religious')\n",
    "cyber_test_X['group_name'] = cyber_test_X['group_name'].replace('Al-Qaida in the Arabian Peninsula (AQAP)',\n",
    "                                                        'Middle_Eastern_Religious')\n",
    "cyber_test_X['group_name'] = cyber_test_X['group_name'].replace('Al-Qaida',\n",
    "                                                        'Middle_Eastern_Religious')"
   ]
  },
  {
   "cell_type": "code",
   "execution_count": 367,
   "metadata": {},
   "outputs": [],
   "source": [
    "# Israeli, Palestinian, Lebanese Religious:\n",
    "cyber_test_X['group_name'] = cyber_test_X['group_name'].replace('Anti-Semitic extremists',\n",
    "                                                        'Near_Israel_Religious')\n",
    "cyber_test_X['group_name'] = cyber_test_X['group_name'].replace('Hezbollah',\n",
    "                                                        'Near_Israel_Religious')"
   ]
  },
  {
   "cell_type": "code",
   "execution_count": 368,
   "metadata": {},
   "outputs": [],
   "source": [
    "# Asian and African Religious:\n",
    "\n",
    "cyber_test_X['group_name'] = cyber_test_X['group_name'].replace('Students Islamic Movement of India (Simi)',\n",
    "                                                        'Asian/Asian-Pacific_Religious')\n",
    "cyber_test_X['group_name'] = cyber_test_X['group_name'].replace('Ranbir Sena',\n",
    "                                                        'Asian/Asian-Pacific_Religious')\n",
    "cyber_test_X['group_name'] = cyber_test_X['group_name'].replace('Jemaah Islamiya (JI)',\n",
    "                                                        'Asian/Asian-Pacific_Religious')\n",
    "\n",
    "\n",
    "cyber_test_X['group_name'] = cyber_test_X['group_name'].replace('Movement for Oneness and Jihad in West Africa (MUJAO)',\n",
    "                                                        'African_Religious')\n",
    "cyber_test_X['group_name'] = cyber_test_X['group_name'].replace('Lord\\'s Resistance Army (LRA)',\n",
    "                                                        'African_Religious')\n",
    "cyber_test_X['group_name'] = cyber_test_X['group_name'].replace('Boko Haram',\n",
    "                                                        'African_Religious')\n"
   ]
  },
  {
   "cell_type": "code",
   "execution_count": 369,
   "metadata": {},
   "outputs": [
    {
     "data": {
      "text/plain": [
       "(4743, 19)"
      ]
     },
     "execution_count": 369,
     "metadata": {},
     "output_type": "execute_result"
    }
   ],
   "source": [
    "cyber_test_X.shape"
   ]
  },
  {
   "cell_type": "markdown",
   "metadata": {},
   "source": [
    "##### City:"
   ]
  },
  {
   "cell_type": "markdown",
   "metadata": {},
   "source": [
    "> Trying City Names by Religion, Tribal Associations or Conflict Areas:\n",
    "\n",
    "> ###### Training Input:"
   ]
  },
  {
   "cell_type": "code",
   "execution_count": 370,
   "metadata": {},
   "outputs": [],
   "source": [
    "sunni_cities = ['Mosul', 'Kirkuk', 'Sanandaj', 'Ramadi', 'Trabzone', 'Diarbekir', \n",
    "                'Damascus', 'Gwadar', 'Zahedan', 'Kandahar', 'Khiva', 'Fallujah',\n",
    "                'Dakhla', 'Tajura', 'Sabrata', 'Azizia', 'Kasabat', 'Misrata', 'Tripoli',\n",
    "                'Takrit', 'Tikrit']\n",
    "cyber_train_X['city'] = cyber_train_X['city'].where(cyber_train_X['city'].apply(\n",
    "                                lambda x: x not in sunni_cities), other = 'Sunni_Cities')"
   ]
  },
  {
   "cell_type": "code",
   "execution_count": 371,
   "metadata": {},
   "outputs": [],
   "source": [
    "shia_cities = ['Mecca', 'Najaf', 'Karbala', 'Samarra', 'Ahwaz', 'Basra', \n",
    "               'Medina', 'Tabriz', 'Tunceli', 'Zahran', 'Tehran', 'Rasht', 'Bojnurd',\n",
    "               'Hillah', 'Diwania', 'Khalis', 'Dujali', 'Balad', 'Khanaqin', \n",
    "               'Sargodha', 'Dadu', 'Moro']\n",
    "cyber_train_X['city'] = cyber_train_X['city'].where(cyber_train_X['city'].apply(\n",
    "                                lambda x: x not in shia_cities), other = 'Shia_Cities')"
   ]
  },
  {
   "cell_type": "code",
   "execution_count": 372,
   "metadata": {},
   "outputs": [],
   "source": [
    "split_cities = ['Kirmanshah', 'Baghdad', 'Kadhimia', 'Kuwait', 'Kars', 'Maras', \n",
    "               'Ankara', 'Sivas', 'Aleppo', 'Beirut', 'Abha', 'Jizan', 'Qazvin',\n",
    "               'Gunbad', 'Ashgabat', 'Mashhad', 'Herat', 'Merv', 'Charju', 'Bukhara',\n",
    "               'Samarkand', 'Mazari Sharif', 'Kandahar', 'Lar', 'Bandar Abbas', 'Dubai', \n",
    "               'Abu Dhabi', 'Tashkent', 'Erzurum', 'Konya', 'Izmir', 'Bursa', 'Istanbul',\n",
    "               'Tarhuna', ]\n",
    "cyber_train_X['city'] = cyber_train_X['city'].where(cyber_train_X['city'].apply(\n",
    "                                lambda x: x not in split_cities), other = 'Sunni_Shia_Split')"
   ]
  },
  {
   "cell_type": "code",
   "execution_count": 373,
   "metadata": {},
   "outputs": [],
   "source": [
    "ibadi_cities_libya = ['Nalut', 'Zentan', 'Gharian', 'Dafnia', 'Abu Kammash', 'Zuwara', \n",
    "               '', '', '', '', '', '', '']\n",
    "cyber_train_X['city'] = cyber_train_X['city'].where(cyber_train_X['city'].apply(\n",
    "                                lambda x: x not in ibadi_cities_libya), other = 'Ibadi_Cities_Libya')\n"
   ]
  },
  {
   "cell_type": "code",
   "execution_count": 374,
   "metadata": {},
   "outputs": [],
   "source": [
    "columbia_eln_cities = ['Riosucio', 'Buenaventura', 'Cali', 'Popayán', 'Bucaramanga',\n",
    "                       'Barrancabermeja', 'Cucuta', 'Santa Rita']\n",
    "cyber_train_X['city'] = cyber_train_X['city'].where(cyber_train_X['city'].apply(\n",
    "                                lambda x: x not in columbia_eln_cities), other = 'ELN_Cities')"
   ]
  },
  {
   "cell_type": "code",
   "execution_count": 375,
   "metadata": {},
   "outputs": [],
   "source": [
    "maoist_insurgency = ['Bhagalpur', 'Arwal', 'Khagaria', 'Rohtas', 'Kaimur',\n",
    "                       'Bhabua', 'Munger', 'Monghyr', 'Vaishali',\n",
    "                    'Dhanbad', 'Pakur', 'Koderma', 'Palamu', 'Balaghat',\n",
    "                     'Katni', 'Khandwa', 'Rajgarh', 'Shajapur']\n",
    "cyber_train_X['city'] = cyber_train_X['city'].where(cyber_train_X['city'].apply(\n",
    "                                lambda x: x not in maoist_insurgency), other = 'Maoist_Insurgency')\n"
   ]
  },
  {
   "cell_type": "code",
   "execution_count": 376,
   "metadata": {},
   "outputs": [],
   "source": [
    "w_africa_muslim = ['Touba', 'N\\'Djamena', 'Maiduguri', 'Zaria', 'Sokoto', 'Kenema',\n",
    "                   'Cetoua', 'Mopte', 'Bobo-Dioulasso', 'Kayes', 'Monrovia']\n",
    "cyber_train_X['city'] = cyber_train_X['city'].where(cyber_train_X['city'].apply(\n",
    "                                lambda x: x not in w_africa_muslim), other = 'Muslim_West_Africa')\n"
   ]
  },
  {
   "cell_type": "code",
   "execution_count": 377,
   "metadata": {},
   "outputs": [],
   "source": [
    "w_africa_mixed = ['Dogondutchi', 'Niamey', 'Parakou', 'Abuja', 'Kaduna', 'Kankan',\n",
    "                  'Lagos', 'Port Harcourt', 'Couala', 'Yaounde', 'Kumasi', 'Bamako',\n",
    "                  'Bertoua', 'Liberville', 'Port-Gentil', 'Zinder', 'Ouagadougou',\n",
    "                  'Freetown', 'Conakry', 'Bissau', 'Banjul', 'Dakar']\n",
    "cyber_train_X['city'] = cyber_train_X['city'].where(cyber_train_X['city'].apply(\n",
    "                                lambda x: x not in w_africa_mixed), other = 'Mixed_West_Africa')\n"
   ]
  },
  {
   "cell_type": "code",
   "execution_count": 378,
   "metadata": {},
   "outputs": [],
   "source": [
    "w_africa_christian = ['Benin City', 'Onitsha', 'Abidjan', 'Takoradi', 'Accra',\n",
    "                       'Lome']\n",
    "cyber_train_X['city'] = cyber_train_X['city'].where(cyber_train_X['city'].apply(\n",
    "                                lambda x: x not in w_africa_christian), other = 'Christian_West_Africa')\n"
   ]
  },
  {
   "cell_type": "code",
   "execution_count": 379,
   "metadata": {},
   "outputs": [],
   "source": [
    "# Nepal Maoist Conflict - Class A According to SATP\n",
    "Nepal_maoist_A = ['Musikot', 'Rukumkot', 'Jajarkot District', 'Salyan', 'Pyuthan', 'Gajul', 'Rank', 'Budagaun',\n",
    "                  'Kalikot District', 'Rolpa', 'Rolpa District', 'Rukum District', 'Khalanga']\n",
    "cyber_train_X['city'] = cyber_train_X['city'].where(cyber_train_X['city'].apply(\n",
    "                                lambda x: x not in Nepal_maoist_A), other = 'Nepal_maoist_A')\n"
   ]
  },
  {
   "cell_type": "code",
   "execution_count": 380,
   "metadata": {},
   "outputs": [],
   "source": [
    "# Nepal Maoist Conflict - Class B According to SATP\n",
    "Nepal_maoist_B = ['Charikot', 'Dolakha', 'Jiri', 'Ramechhap', 'Sindhuli Garhi', 'Sindhuli District', 'Dhungrebas',\n",
    "                  'Panaoti', 'Gorkha', 'Tulsipur', 'Ghorahi', 'Surkhet', 'Birendranagar',\n",
    "                  'Accham', 'Kamal Bajar', 'Dang', 'Dang District']\n",
    "cyber_train_X['city'] = cyber_train_X['city'].where(cyber_train_X['city'].apply(\n",
    "                                lambda x: x not in Nepal_maoist_B), other = 'Nepal_maoist_B')\n"
   ]
  },
  {
   "cell_type": "code",
   "execution_count": 381,
   "metadata": {},
   "outputs": [],
   "source": [
    "# Nepal Maoist Conflict - Class C According to SATP\n",
    "Nepal_maoist_C = ['Khotang Bajar', 'Khotang District', 'Khandanda', 'Okhaldhunga', 'Rumjatar', 'Udayapur Garhi',\n",
    "                  'Rasuwa District', 'Gaighat', 'Hitura', 'Makwanpur Garhi', 'Patan', 'Baglung', 'Dhorpatan',\n",
    "                  'Bardiya', 'Gulariya', 'Dailekh', 'Dailekh District', 'Jumla', 'Dhading District', \n",
    "                  'Udayapur District', 'Lalitpur', 'Hetauda', 'Gulariya']\n",
    "cyber_train_X['city'] = cyber_train_X['city'].where(cyber_train_X['city'].apply(\n",
    "                                lambda x: x not in Nepal_maoist_C), other = 'Nepal_maoist_C')\n"
   ]
  },
  {
   "cell_type": "code",
   "execution_count": 382,
   "metadata": {},
   "outputs": [],
   "source": [
    "northern_triangle = ['Tegucigalpa', 'San Pedro Sula', 'Guatemala City', 'Villa Nueva', 'Villa Canales', \n",
    "                     'Mixco', 'San Jan Sacatepequez', 'Chinautla', 'Escuintla', 'Jalapa', 'Puerto Barrios', \n",
    "                     'Morales', 'La Libertad', 'Nueva Concepcion', 'Metapan', 'Acajutla', 'Sonsonate',\n",
    "                     'Izalco', 'San Salvador', 'Apopa', 'Zaragoza', 'Colon', 'Santa Tecla', 'Usulutan',\n",
    "                     'San Miguel', 'La Union']\n",
    "cyber_train_X['city'] = cyber_train_X['city'].where(cyber_train_X['city'].apply(\n",
    "                                lambda x: x not in northern_triangle), other = 'Northern_Triangle')\n"
   ]
  },
  {
   "cell_type": "code",
   "execution_count": 383,
   "metadata": {
    "collapsed": true
   },
   "outputs": [
    {
     "data": {
      "text/plain": [
       "86828              Shahr-e Safa\n",
       "8459                   Souanine\n",
       "154461           Hammam al-Alil\n",
       "85137     Abu Jubayhah district\n",
       "61860                   Unknown\n",
       "128243          Bajaur district\n",
       "159899    Tuz Khormato district\n",
       "154886                Mukhaysah\n",
       "147542                     Bara\n",
       "16275        Muslim_West_Africa\n",
       "59320                   Unknown\n",
       "20256                  Mahupada\n",
       "162583              Makhachkala\n",
       "133184                     Dowr\n",
       "86672              Sunni_Cities\n",
       "130776                   Baidoa\n",
       "167098                   Kireka\n",
       "142412                  Unknown\n",
       "89341           Sangin district\n",
       "49548                 Hawthorne\n",
       "158382            Giro district\n",
       "3282                Husseiniyah\n",
       "140741               Hanabangan\n",
       "50818                Arayampady\n",
       "124070        Medellin district\n",
       "129836               Miran Shah\n",
       "21196                  Hatibari\n",
       "165349                 Rajshahi\n",
       "141967                     Bara\n",
       "17209                     Gombe\n",
       "                  ...          \n",
       "164971                   Quetta\n",
       "151172         Dih Yak district\n",
       "128093     Miya Nishin district\n",
       "141410         Sunni_Shia_Split\n",
       "141602             Sunni_Cities\n",
       "139609         Sunni_Shia_Split\n",
       "135198         Sunni_Shia_Split\n",
       "20024                    Bokaro\n",
       "153897             Sunni_Cities\n",
       "133395                  Musayib\n",
       "140956                  Baqubah\n",
       "136305                 Peshawar\n",
       "133601             Sunni_Cities\n",
       "61899                    Kohima\n",
       "11758                    Quetta\n",
       "85868          Shinkay district\n",
       "56288                Datu Unsay\n",
       "158420              Husseiniyah\n",
       "55575                    Athens\n",
       "149582                  Kabacan\n",
       "47521                Diyarbakir\n",
       "154733                  Unknown\n",
       "157084         Nad Ali district\n",
       "21145                 Kamarpali\n",
       "94489                   Raghzai\n",
       "122127                   Kurmol\n",
       "149021               Muqdadiyah\n",
       "136971            Swat district\n",
       "160411                    Sanaa\n",
       "136345              Ait Toudert\n",
       "Name: city, Length: 4743, dtype: object"
      ]
     },
     "execution_count": 383,
     "metadata": {},
     "output_type": "execute_result"
    }
   ],
   "source": [
    "cyber_train_X['city']"
   ]
  },
  {
   "cell_type": "markdown",
   "metadata": {},
   "source": [
    "> ###### Test Input:"
   ]
  },
  {
   "cell_type": "code",
   "execution_count": 384,
   "metadata": {},
   "outputs": [],
   "source": [
    "sunni_cities = ['Mosul', 'Kirkuk', 'Sanandaj', 'Ramadi', 'Trabzone', 'Diarbekir', \n",
    "                'Damascus', 'Gwadar', 'Zahedan', 'Kandahar', 'Khiva', 'Fallujah',\n",
    "                'Dakhla', 'Tajura', 'Sabrata', 'Azizia', 'Kasabat', 'Misrata', 'Tripoli',\n",
    "                'Takrit', 'Tikrit']\n",
    "cyber_test_X['city'] = cyber_test_X['city'].where(cyber_test_X['city'].apply(\n",
    "                                lambda x: x not in sunni_cities), other = 'Sunni_Cities')"
   ]
  },
  {
   "cell_type": "code",
   "execution_count": 385,
   "metadata": {},
   "outputs": [],
   "source": [
    "shia_cities = ['Mecca', 'Najaf', 'Karbala', 'Samarra', 'Ahwaz', 'Basra', \n",
    "               'Medina', 'Tabriz', 'Tunceli', 'Zahran', 'Tehran', 'Rasht', 'Bojnurd',\n",
    "               'Hillah', 'Diwania', 'Khalis', 'Dujali', 'Balad', 'Khanaqin', \n",
    "               'Sargodha', 'Dadu', 'Moro']\n",
    "cyber_test_X['city'] = cyber_test_X['city'].where(cyber_test_X['city'].apply(\n",
    "                                lambda x: x not in shia_cities), other = 'Shia_Cities')"
   ]
  },
  {
   "cell_type": "code",
   "execution_count": 386,
   "metadata": {},
   "outputs": [],
   "source": [
    "split_cities = ['Kirmanshah', 'Baghdad', 'Kadhimia', 'Kuwait', 'Kars', 'Maras', \n",
    "               'Ankara', 'Sivas', 'Aleppo', 'Beirut', 'Abha', 'Jizan', 'Qazvin',\n",
    "               'Gunbad', 'Ashgabat', 'Mashhad', 'Herat', 'Merv', 'Charju', 'Bukhara',\n",
    "               'Samarkand', 'Mazari Sharif', 'Kandahar', 'Lar', 'Bandar Abbas', 'Dubai', \n",
    "               'Abu Dhabi', 'Tashkent', 'Erzurum', 'Konya', 'Izmir', 'Bursa', 'Istanbul',\n",
    "               'Tarhuna', ]\n",
    "cyber_test_X['city'] = cyber_test_X['city'].where(cyber_test_X['city'].apply(\n",
    "                                lambda x: x not in split_cities), other = 'Sunni_Shia_Split')"
   ]
  },
  {
   "cell_type": "code",
   "execution_count": 387,
   "metadata": {},
   "outputs": [],
   "source": [
    "ibadi_cities_libya = ['Nalut', 'Zentan', 'Gharian', 'Dafnia', 'Abu Kammash', 'Zuwara', \n",
    "               '', '', '', '', '', '', '']\n",
    "cyber_test_X['city'] = cyber_test_X['city'].where(cyber_test_X['city'].apply(\n",
    "                                lambda x: x not in ibadi_cities_libya), other = 'Ibadi_Cities_Libya')\n"
   ]
  },
  {
   "cell_type": "code",
   "execution_count": 388,
   "metadata": {},
   "outputs": [],
   "source": [
    "columbia_eln_cities = ['Riosucio', 'Buenaventura', 'Cali', 'Popayán', 'Bucaramanga',\n",
    "                       'Barrancabermeja', 'Cucuta', 'Santa Rita']\n",
    "cyber_test_X['city'] = cyber_test_X['city'].where(cyber_test_X['city'].apply(\n",
    "                                lambda x: x not in columbia_eln_cities), other = 'ELN_Cities')"
   ]
  },
  {
   "cell_type": "code",
   "execution_count": 389,
   "metadata": {},
   "outputs": [],
   "source": [
    "maoist_insurgency = ['Bhagalpur', 'Arwal', 'Khagaria', 'Rohtas', 'Kaimur',\n",
    "                       'Bhabua', 'Munger', 'Monghyr', 'Vaishali',\n",
    "                    'Dhanbad', 'Pakur', 'Koderma', 'Palamu', 'Balaghat',\n",
    "                     'Katni', 'Khandwa', 'Rajgarh', 'Shajapur']\n",
    "cyber_test_X['city'] = cyber_test_X['city'].where(cyber_test_X['city'].apply(\n",
    "                                lambda x: x not in maoist_insurgency), other = 'Maoist_Insurgency')\n"
   ]
  },
  {
   "cell_type": "code",
   "execution_count": 390,
   "metadata": {},
   "outputs": [],
   "source": [
    "w_africa_muslim = ['Touba', 'N\\'Djamena', 'Maiduguri', 'Zaria', 'Sokoto', 'Kenema',\n",
    "                   'Cetoua', 'Mopte', 'Bobo-Dioulasso', 'Kayes', 'Monrovia']\n",
    "cyber_test_X['city'] = cyber_test_X['city'].where(cyber_test_X['city'].apply(\n",
    "                                lambda x: x not in w_africa_muslim), other = 'Muslim_West_Africa')\n"
   ]
  },
  {
   "cell_type": "code",
   "execution_count": 391,
   "metadata": {},
   "outputs": [],
   "source": [
    "w_africa_mixed = ['Dogondutchi', 'Niamey', 'Parakou', 'Abuja', 'Kaduna', 'Kankan',\n",
    "                  'Lagos', 'Port Harcourt', 'Couala', 'Yaounde', 'Kumasi', 'Bamako',\n",
    "                  'Bertoua', 'Liberville', 'Port-Gentil', 'Zinder', 'Ouagadougou',\n",
    "                  'Freetown', 'Conakry', 'Bissau', 'Banjul', 'Dakar']\n",
    "cyber_test_X['city'] = cyber_test_X['city'].where(cyber_test_X['city'].apply(\n",
    "                                lambda x: x not in w_africa_mixed), other = 'Mixed_West_Africa')\n"
   ]
  },
  {
   "cell_type": "code",
   "execution_count": 392,
   "metadata": {},
   "outputs": [],
   "source": [
    "w_africa_christian = ['Benin City', 'Onitsha', 'Abidjan', 'Takoradi', 'Accra',\n",
    "                       'Lome']\n",
    "cyber_test_X['city'] = cyber_test_X['city'].where(cyber_test_X['city'].apply(\n",
    "                                lambda x: x not in w_africa_christian), other = 'Christian_West_Africa')\n"
   ]
  },
  {
   "cell_type": "code",
   "execution_count": 394,
   "metadata": {},
   "outputs": [],
   "source": [
    "# Nepal Maoist Conflict - Class A According to SATP\n",
    "Nepal_maoist_A = ['Musikot', 'Rukumkot', 'Jajarkot District', 'Salyan', 'Pyuthan', 'Gajul', 'Rank', 'Budagaun',\n",
    "                  'Kalikot District', 'Rolpa', 'Rolpa District', 'Rukum District', 'Khalanga']\n",
    "cyber_test_X['city'] = cyber_test_X['city'].where(cyber_test_X['city'].apply(\n",
    "                                lambda x: x not in Nepal_maoist_A), other = 'Nepal_maoist_A')\n"
   ]
  },
  {
   "cell_type": "code",
   "execution_count": 396,
   "metadata": {},
   "outputs": [],
   "source": [
    "# Nepal Maoist Conflict - Class B According to SATP\n",
    "Nepal_maoist_B = ['Charikot', 'Dolakha', 'Jiri', 'Ramechhap', 'Sindhuli Garhi', 'Sindhuli District', 'Dhungrebas',\n",
    "                  'Panaoti', 'Gorkha', 'Tulsipur', 'Ghorahi', 'Surkhet', 'Birendranagar',\n",
    "                  'Accham', 'Kamal Bajar', 'Dang', 'Dang District']\n",
    "cyber_test_X['city'] = cyber_test_X['city'].where(cyber_test_X['city'].apply(\n",
    "                                lambda x: x not in Nepal_maoist_B), other = 'Nepal_maoist_B')\n"
   ]
  },
  {
   "cell_type": "code",
   "execution_count": 398,
   "metadata": {},
   "outputs": [],
   "source": [
    "# Nepal Maoist Conflict - Class C According to SATP\n",
    "Nepal_maoist_C = ['Khotang Bajar', 'Khotang District', 'Khandanda', 'Okhaldhunga', 'Rumjatar', 'Udayapur Garhi',\n",
    "                  'Rasuwa District', 'Gaighat', 'Hitura', 'Makwanpur Garhi', 'Patan', 'Baglung', 'Dhorpatan',\n",
    "                  'Bardiya', 'Gulariya', 'Dailekh', 'Dailekh District', 'Jumla', 'Dhading District', \n",
    "                  'Udayapur District', 'Lalitpur', 'Hetauda', 'Gulariya']\n",
    "cyber_test_X['city'] = cyber_test_X['city'].where(cyber_test_X['city'].apply(\n",
    "                                lambda x: x not in Nepal_maoist_C), other = 'Nepal_maoist_C')\n"
   ]
  },
  {
   "cell_type": "code",
   "execution_count": 399,
   "metadata": {
    "collapsed": true
   },
   "outputs": [
    {
     "data": {
      "text/plain": [
       "142385              Sunni_Cities\n",
       "12623        Datu Saudi Ampatuan\n",
       "51427                 Pece Acoyo\n",
       "177833                   Comilla\n",
       "131407                      Gaza\n",
       "54530             Sukma district\n",
       "55696             Wunkiir-Anyang\n",
       "156801                  Musayyib\n",
       "153756                  Tarmiyah\n",
       "9244                      Rityan\n",
       "20799               Narayanpatna\n",
       "85658           Maywand district\n",
       "130277               Shia_Cities\n",
       "139778          Sunni_Shia_Split\n",
       "61961                       Jena\n",
       "51546                      Rafai\n",
       "33948                      Turin\n",
       "136408                    Thenia\n",
       "75871                Los Angeles\n",
       "166885                      Bath\n",
       "124062                     Taisi\n",
       "122922                 Savanette\n",
       "130892                   Naqoura\n",
       "159518                  Umm Qasr\n",
       "140795              Bannang Sata\n",
       "147858                Muhajireen\n",
       "20354                 Laxmipuram\n",
       "51390                      Pabbo\n",
       "137846          Sunni_Shia_Split\n",
       "16263         Muslim_West_Africa\n",
       "                   ...          \n",
       "139446                 Khairabad\n",
       "39624                    Sufiyah\n",
       "124430                   Belfast\n",
       "12322                     Turbat\n",
       "64051                    Saranga\n",
       "150622              Sunni_Cities\n",
       "2885                Sunni_Cities\n",
       "122471                      Suva\n",
       "88017         Khannesin district\n",
       "145733                 Mogadishu\n",
       "48675                       Wadh\n",
       "144919                 Chamestan\n",
       "151964              Sunni_Cities\n",
       "151375                     Derna\n",
       "160485                     Hangu\n",
       "150478                    Sedira\n",
       "86948                     Darkha\n",
       "76991             Sidi Abdelaziz\n",
       "151842       Muang Yala district\n",
       "37062            Manorcunningham\n",
       "171702          Sunni_Shia_Split\n",
       "3388            Sunni_Shia_Split\n",
       "129528              Tuz Khormato\n",
       "130413                 Mogadishu\n",
       "176667                    Lisala\n",
       "20669                      Saran\n",
       "19395                   Karamidh\n",
       "64144                   Tubungan\n",
       "15024     Donostia-San Sebastian\n",
       "177418      Nahri Saraj district\n",
       "Name: city, Length: 4743, dtype: object"
      ]
     },
     "execution_count": 399,
     "metadata": {},
     "output_type": "execute_result"
    }
   ],
   "source": [
    "cyber_test_X['city']"
   ]
  },
  {
   "cell_type": "code",
   "execution_count": 400,
   "metadata": {},
   "outputs": [],
   "source": [
    "northern_triangle = ['Tegucigalpa', 'San Pedro Sula', 'Guatemala City', 'Villa Nueva', 'Villa Canales', \n",
    "                     'Mixco', 'San Jan Sacatepequez', 'Chinautla', 'Escuintla', 'Jalapa', 'Puerto Barrios', \n",
    "                     'Morales', 'La Libertad', 'Nueva Concepcion', 'Metapan', 'Acajutla', 'Sonsonate',\n",
    "                     'Izalco', 'San Salvador', 'Apopa', 'Zaragoza', 'Colon', 'Santa Tecla', 'Usulutan',\n",
    "                     'San Miguel', 'La Union']\n",
    "cyber_test_X['city'] = cyber_test_X['city'].where(cyber_test_X['city'].apply(\n",
    "                                lambda x: x not in northern_triangle), other = 'Northern_Triangle')\n"
   ]
  },
  {
   "cell_type": "code",
   "execution_count": 401,
   "metadata": {
    "collapsed": true
   },
   "outputs": [
    {
     "data": {
      "text/plain": [
       "142385              Sunni_Cities\n",
       "12623        Datu Saudi Ampatuan\n",
       "51427                 Pece Acoyo\n",
       "177833                   Comilla\n",
       "131407                      Gaza\n",
       "54530             Sukma district\n",
       "55696             Wunkiir-Anyang\n",
       "156801                  Musayyib\n",
       "153756                  Tarmiyah\n",
       "9244                      Rityan\n",
       "20799               Narayanpatna\n",
       "85658           Maywand district\n",
       "130277               Shia_Cities\n",
       "139778          Sunni_Shia_Split\n",
       "61961                       Jena\n",
       "51546                      Rafai\n",
       "33948                      Turin\n",
       "136408                    Thenia\n",
       "75871                Los Angeles\n",
       "166885                      Bath\n",
       "124062                     Taisi\n",
       "122922                 Savanette\n",
       "130892                   Naqoura\n",
       "159518                  Umm Qasr\n",
       "140795              Bannang Sata\n",
       "147858                Muhajireen\n",
       "20354                 Laxmipuram\n",
       "51390                      Pabbo\n",
       "137846          Sunni_Shia_Split\n",
       "16263         Muslim_West_Africa\n",
       "                   ...          \n",
       "139446                 Khairabad\n",
       "39624                    Sufiyah\n",
       "124430                   Belfast\n",
       "12322                     Turbat\n",
       "64051                    Saranga\n",
       "150622              Sunni_Cities\n",
       "2885                Sunni_Cities\n",
       "122471                      Suva\n",
       "88017         Khannesin district\n",
       "145733                 Mogadishu\n",
       "48675                       Wadh\n",
       "144919                 Chamestan\n",
       "151964              Sunni_Cities\n",
       "151375                     Derna\n",
       "160485                     Hangu\n",
       "150478                    Sedira\n",
       "86948                     Darkha\n",
       "76991             Sidi Abdelaziz\n",
       "151842       Muang Yala district\n",
       "37062            Manorcunningham\n",
       "171702          Sunni_Shia_Split\n",
       "3388            Sunni_Shia_Split\n",
       "129528              Tuz Khormato\n",
       "130413                 Mogadishu\n",
       "176667                    Lisala\n",
       "20669                      Saran\n",
       "19395                   Karamidh\n",
       "64144                   Tubungan\n",
       "15024     Donostia-San Sebastian\n",
       "177418      Nahri Saraj district\n",
       "Name: city, Length: 4743, dtype: object"
      ]
     },
     "execution_count": 401,
     "metadata": {},
     "output_type": "execute_result"
    }
   ],
   "source": [
    "cyber_test_X['city']"
   ]
  },
  {
   "cell_type": "markdown",
   "metadata": {},
   "source": [
    "### 2. Preliminary Visualizations and Exploration:\n",
    "\n",
    "> Taking a look to see what is happening:"
   ]
  },
  {
   "cell_type": "markdown",
   "metadata": {},
   "source": [
    "#### A. Correlation:"
   ]
  },
  {
   "cell_type": "code",
   "execution_count": 151,
   "metadata": {},
   "outputs": [
    {
     "data": {
      "image/png": "[encoded data removed]",
      "text/plain": [
       "<Figure size 936x720 with 2 Axes>"
      ]
     },
     "metadata": {},
     "output_type": "display_data"
    }
   ],
   "source": [
    "f, ax = plt.subplots(figsize = (13, 10))\n",
    "sns.heatmap(cyber_train_X.corr(), annot = True)\n",
    "plt.show()"
   ]
  },
  {
   "cell_type": "markdown",
   "metadata": {},
   "source": [
    "#### B. Success Rate for Most Active Groups:"
   ]
  },
  {
   "cell_type": "code",
   "execution_count": 152,
   "metadata": {},
   "outputs": [],
   "source": [
    "# Most prolific groups:\n",
    "\n",
    "actives = cyber_train_X['group_name'].value_counts().head(10).drop('Unknown')\n",
    "mask3 = cyber_train_X['group_name'].map(lambda x: x in actives)\n",
    "actives_df = cyber_train_X[mask3]\n",
    "\n",
    "temp_output = cyber_train_Y.loc[actives_df.index]"
   ]
  },
  {
   "cell_type": "code",
   "execution_count": 153,
   "metadata": {},
   "outputs": [],
   "source": [
    "# Checking to make sure I am right:\n",
    "beta = pd.Series(temp_output.index != actives_df.index)"
   ]
  },
  {
   "cell_type": "code",
   "execution_count": 154,
   "metadata": {
    "scrolled": true
   },
   "outputs": [
    {
     "data": {
      "image/png": "[encoded data removed]",
      "text/plain": [
       "<Figure size 864x576 with 1 Axes>"
      ]
     },
     "metadata": {},
     "output_type": "display_data"
    }
   ],
   "source": [
    "f, ax = plt.subplots(figsize = (12, 8))\n",
    "sns.pointplot(x = actives_df['group_name'], y = temp_output.success)\n",
    "ax.set_xticklabels(labels = actives_df['group_name'], rotation = '90')\n",
    "ax.set_xlabel('Name of Terrorist Group')\n",
    "ax.set_ylabel('Success Rate')\n",
    "ax.set_title('Most Active Terror Groups and Their Success Rates')\n",
    "plt.show()"
   ]
  },
  {
   "cell_type": "markdown",
   "metadata": {},
   "source": [
    "#### C.  Success Rate In-Country:"
   ]
  },
  {
   "cell_type": "code",
   "execution_count": 155,
   "metadata": {},
   "outputs": [],
   "source": [
    "# Most Successful Hot-Spots:\n",
    "\n",
    "hot_countries= cyber_train_X['country_txt'].value_counts().head(10)\n",
    "mask3 = cyber_train_X['country_txt'].map(lambda x: x in hot_countries)\n",
    "hot_countries_df = cyber_train_X[mask3]\n",
    "phi = hot_countries_df['country_txt'].value_counts().head(10)\n",
    "\n",
    "temp_output2 = cyber_train_Y.loc[hot_countries_df.index]\n"
   ]
  },
  {
   "cell_type": "code",
   "execution_count": 156,
   "metadata": {},
   "outputs": [],
   "source": [
    "# Checking to make sure I am right:\n",
    "beta = pd.Series(temp_output2.index != hot_countries_df.index)\n",
    "# beta.value_counts()"
   ]
  },
  {
   "cell_type": "code",
   "execution_count": 157,
   "metadata": {
    "scrolled": true
   },
   "outputs": [
    {
     "data": {
      "image/png": "[encoded data removed]",
      "text/plain": [
       "<Figure size 864x576 with 1 Axes>"
      ]
     },
     "metadata": {},
     "output_type": "display_data"
    }
   ],
   "source": [
    "f, ax = plt.subplots(figsize = (12, 8))\n",
    "sns.pointplot(x = hot_countries_df['country_txt'], y = temp_output2.success)\n",
    "ax.set_xticklabels(labels = hot_countries_df['country_txt'], rotation = '90')\n",
    "ax.set_xlabel('Name of Country')\n",
    "ax.set_ylabel('Success Rate')\n",
    "ax.set_title('Countries with Most Activity and Attack Success Rates')\n",
    "plt.show()"
   ]
  },
  {
   "cell_type": "code",
   "execution_count": 158,
   "metadata": {},
   "outputs": [
    {
     "data": {
      "text/plain": [
       "(4743, 19)"
      ]
     },
     "execution_count": 158,
     "metadata": {},
     "output_type": "execute_result"
    }
   ],
   "source": [
    "cyber_test_X.shape"
   ]
  },
  {
   "cell_type": "code",
   "execution_count": null,
   "metadata": {},
   "outputs": [],
   "source": []
  },
  {
   "cell_type": "code",
   "execution_count": null,
   "metadata": {},
   "outputs": [],
   "source": []
  },
  {
   "cell_type": "code",
   "execution_count": null,
   "metadata": {},
   "outputs": [],
   "source": []
  },
  {
   "cell_type": "code",
   "execution_count": null,
   "metadata": {},
   "outputs": [],
   "source": []
  },
  {
   "cell_type": "markdown",
   "metadata": {},
   "source": [
    "### 3. Feature Selection:\n",
    "\n",
    "> Getting closer to modeling and using feature selection algorithms to see what will help us best minimize our feature set while maintaining the most amount of variation in our dataset."
   ]
  },
  {
   "cell_type": "markdown",
   "metadata": {},
   "source": [
    "#### A. Select K-Best:"
   ]
  },
  {
   "cell_type": "code",
   "execution_count": 407,
   "metadata": {},
   "outputs": [
    {
     "name": "stdout",
     "output_type": "stream",
     "text": [
      "(4743, 19)\n",
      "(4743, 19)\n"
     ]
    },
    {
     "data": {
      "text/plain": [
       "24+hrs                     0\n",
       "country_txt                0\n",
       "region_txt                 0\n",
       "city                      31\n",
       "crit1                      0\n",
       "crit2                      0\n",
       "crit3                      0\n",
       "doubt                      0\n",
       "suicide                    0\n",
       "attack_1txt                0\n",
       "target_1txt                0\n",
       "sub_targettxt            242\n",
       "specific_target            6\n",
       "victim_nationalitytxt     58\n",
       "group_name                 0\n",
       "group_attrib_crtainty     24\n",
       "unaffil_individ            0\n",
       "weapontxt                  0\n",
       "sub_weapontxt            337\n",
       "dtype: int64"
      ]
     },
     "execution_count": 407,
     "metadata": {},
     "output_type": "execute_result"
    }
   ],
   "source": [
    "# Scouting out the null situation:\n",
    "\n",
    "print(cyber_train_X.shape)\n",
    "train_nas = cyber_train_X.isna().sum()\n",
    "train_nas\n",
    "\n",
    "print(cyber_test_X.shape)\n",
    "test_nas = cyber_test_X.isna().sum()\n",
    "test_nas"
   ]
  },
  {
   "cell_type": "markdown",
   "metadata": {},
   "source": [
    "> Since the null values are relatively few, we will go ahead and drop them from the input dataframes.  This could be better than imputing the mode"
   ]
  },
  {
   "cell_type": "markdown",
   "metadata": {},
   "source": [
    "##### Assessing Overall DF (cyber_train_dummy_X/Y & cyber_test_dummy_X/Y):"
   ]
  },
  {
   "cell_type": "code",
   "execution_count": 410,
   "metadata": {},
   "outputs": [],
   "source": [
    "from sklearn import feature_selection"
   ]
  },
  {
   "cell_type": "code",
   "execution_count": 418,
   "metadata": {},
   "outputs": [],
   "source": [
    "# Getting dummies on our training and test sets (slight wrangling involved):\n",
    "\n",
    "cyber_train_X.dropna(axis = 0, inplace = True)\n",
    "cyber_test_X.dropna(axis = 0, inplace = True)\n",
    "\n",
    "train_index = cyber_train_X.index\n",
    "test_index = cyber_test_X.index\n",
    "\n",
    "dummy_prep = pd.concat([cyber_train_X, cyber_test_X])\n",
    "dummy_1 = pd.get_dummies(dummy_prep)\n",
    "\n",
    "# Training/Test Inputs:\n",
    "\n",
    "cyber_train_dummy_X = dummy_1.loc[train_index]\n",
    "cyber_test_dummy_X = dummy_1.loc[test_index]\n",
    "\n",
    "# Training Output:\n",
    "\n",
    "cyber_train_dummy_Y = cyber_train_Y.loc[train_index]\n",
    "cyber_test_dummy_Y = cyber_test_Y.loc[test_index]"
   ]
  },
  {
   "cell_type": "code",
   "execution_count": 420,
   "metadata": {},
   "outputs": [
    {
     "name": "stdout",
     "output_type": "stream",
     "text": [
      "(4134, 9208)\n",
      "(4122, 9208)\n"
     ]
    }
   ],
   "source": [
    "# Making sure we have the same sizes still:\n",
    "\n",
    "print(cyber_train_dummy_X.shape)\n",
    "print(cyber_test_dummy_X.shape)"
   ]
  },
  {
   "cell_type": "code",
   "execution_count": 472,
   "metadata": {},
   "outputs": [],
   "source": [
    "# Fitting SelectKBest to our Features and output:\n",
    "\n",
    "KBest_1 = feature_selection.SelectKBest(k = 20) # Had 30 and 500 previously\n",
    "cyber_train_KBest1 = KBest_1.fit_transform(cyber_train_dummy_X, cyber_train_dummy_Y)\n",
    "\n",
    "# Transforming the test-set\n",
    "\n",
    "cyber_test_KBest1 = KBest_1.transform(cyber_test_dummy_X)"
   ]
  },
  {
   "cell_type": "code",
   "execution_count": 473,
   "metadata": {},
   "outputs": [
    {
     "name": "stdout",
     "output_type": "stream",
     "text": [
      "Here is a dataframe with the top 30 features selected by this algorithm, along with\n",
      "the P-Value and ANova score of each feature: \n",
      "\n"
     ]
    },
    {
     "data": {
      "text/html": [
       "<div>\n",
       "<style scoped>\n",
       "    .dataframe tbody tr th:only-of-type {\n",
       "        vertical-align: middle;\n",
       "    }\n",
       "\n",
       "    .dataframe tbody tr th {\n",
       "        vertical-align: top;\n",
       "    }\n",
       "\n",
       "    .dataframe thead th {\n",
       "        text-align: right;\n",
       "    }\n",
       "</style>\n",
       "<table border=\"1\" class=\"dataframe\">\n",
       "  <thead>\n",
       "    <tr style=\"text-align: right;\">\n",
       "      <th></th>\n",
       "      <th>0</th>\n",
       "      <th>P_Vals</th>\n",
       "      <th>Scores</th>\n",
       "    </tr>\n",
       "  </thead>\n",
       "  <tbody>\n",
       "    <tr>\n",
       "      <th>0</th>\n",
       "      <td>24+hrs</td>\n",
       "      <td>1.024603e-08</td>\n",
       "      <td>32.928485</td>\n",
       "    </tr>\n",
       "    <tr>\n",
       "      <th>1</th>\n",
       "      <td>country_txt_Ireland</td>\n",
       "      <td>8.244233e-01</td>\n",
       "      <td>0.049228</td>\n",
       "    </tr>\n",
       "    <tr>\n",
       "      <th>2</th>\n",
       "      <td>region_txt_Western Europe</td>\n",
       "      <td>6.035855e-01</td>\n",
       "      <td>0.269663</td>\n",
       "    </tr>\n",
       "    <tr>\n",
       "      <th>3</th>\n",
       "      <td>city_Dublin</td>\n",
       "      <td>2.084915e-04</td>\n",
       "      <td>13.777547</td>\n",
       "    </tr>\n",
       "    <tr>\n",
       "      <th>4</th>\n",
       "      <td>city_Imphal</td>\n",
       "      <td>2.430653e-04</td>\n",
       "      <td>13.488519</td>\n",
       "    </tr>\n",
       "    <tr>\n",
       "      <th>5</th>\n",
       "      <td>attack_1txt_Assassination</td>\n",
       "      <td>2.827837e-01</td>\n",
       "      <td>1.153963</td>\n",
       "    </tr>\n",
       "    <tr>\n",
       "      <th>6</th>\n",
       "      <td>attack_1txt_Bombing/Explosion</td>\n",
       "      <td>4.492323e-01</td>\n",
       "      <td>0.572697</td>\n",
       "    </tr>\n",
       "    <tr>\n",
       "      <th>7</th>\n",
       "      <td>attack_1txt_Hostage Taking (Kidnapping)</td>\n",
       "      <td>3.183714e-02</td>\n",
       "      <td>4.610373</td>\n",
       "    </tr>\n",
       "    <tr>\n",
       "      <th>8</th>\n",
       "      <td>target_1txt_Military</td>\n",
       "      <td>1.694073e-03</td>\n",
       "      <td>9.867559</td>\n",
       "    </tr>\n",
       "    <tr>\n",
       "      <th>9</th>\n",
       "      <td>target_1txt_Unknown</td>\n",
       "      <td>8.805488e-04</td>\n",
       "      <td>11.079433</td>\n",
       "    </tr>\n",
       "    <tr>\n",
       "      <th>10</th>\n",
       "      <td>sub_targettxt_Gov_Figure1</td>\n",
       "      <td>2.781888e-01</td>\n",
       "      <td>1.176227</td>\n",
       "    </tr>\n",
       "    <tr>\n",
       "      <th>11</th>\n",
       "      <td>sub_targettxt_Unnamed Civilian/Unspecified</td>\n",
       "      <td>6.705693e-01</td>\n",
       "      <td>0.180963</td>\n",
       "    </tr>\n",
       "    <tr>\n",
       "      <th>12</th>\n",
       "      <td>victim_nationalitytxt_Ireland</td>\n",
       "      <td>6.705693e-01</td>\n",
       "      <td>0.180963</td>\n",
       "    </tr>\n",
       "    <tr>\n",
       "      <th>13</th>\n",
       "      <td>group_name_Bangladesh Nationalist Party (BNP)</td>\n",
       "      <td>5.010622e-01</td>\n",
       "      <td>0.452766</td>\n",
       "    </tr>\n",
       "    <tr>\n",
       "      <th>14</th>\n",
       "      <td>group_name_Communist Party of Nepal-Maoist (Ba...</td>\n",
       "      <td>NaN</td>\n",
       "      <td>NaN</td>\n",
       "    </tr>\n",
       "    <tr>\n",
       "      <th>15</th>\n",
       "      <td>group_name_Hekla Reception Committee-Initiativ...</td>\n",
       "      <td>7.636114e-01</td>\n",
       "      <td>0.090458</td>\n",
       "    </tr>\n",
       "    <tr>\n",
       "      <th>16</th>\n",
       "      <td>group_name_Riyadus-Salikhin Reconnaissance and...</td>\n",
       "      <td>4.240568e-01</td>\n",
       "      <td>0.639172</td>\n",
       "    </tr>\n",
       "    <tr>\n",
       "      <th>17</th>\n",
       "      <td>group_name_Unknown</td>\n",
       "      <td>8.805488e-04</td>\n",
       "      <td>11.079433</td>\n",
       "    </tr>\n",
       "    <tr>\n",
       "      <th>18</th>\n",
       "      <td>weapontxt_Explosives</td>\n",
       "      <td>6.705693e-01</td>\n",
       "      <td>0.180963</td>\n",
       "    </tr>\n",
       "    <tr>\n",
       "      <th>19</th>\n",
       "      <td>sub_weapontxt_Pipe Bomb</td>\n",
       "      <td>NaN</td>\n",
       "      <td>NaN</td>\n",
       "    </tr>\n",
       "  </tbody>\n",
       "</table>\n",
       "</div>"
      ],
      "text/plain": [
       "                                                    0        P_Vals     Scores\n",
       "0                                              24+hrs  1.024603e-08  32.928485\n",
       "1                                 country_txt_Ireland  8.244233e-01   0.049228\n",
       "2                           region_txt_Western Europe  6.035855e-01   0.269663\n",
       "3                                         city_Dublin  2.084915e-04  13.777547\n",
       "4                                         city_Imphal  2.430653e-04  13.488519\n",
       "5                           attack_1txt_Assassination  2.827837e-01   1.153963\n",
       "6                       attack_1txt_Bombing/Explosion  4.492323e-01   0.572697\n",
       "7             attack_1txt_Hostage Taking (Kidnapping)  3.183714e-02   4.610373\n",
       "8                                target_1txt_Military  1.694073e-03   9.867559\n",
       "9                                 target_1txt_Unknown  8.805488e-04  11.079433\n",
       "10                          sub_targettxt_Gov_Figure1  2.781888e-01   1.176227\n",
       "11         sub_targettxt_Unnamed Civilian/Unspecified  6.705693e-01   0.180963\n",
       "12                      victim_nationalitytxt_Ireland  6.705693e-01   0.180963\n",
       "13      group_name_Bangladesh Nationalist Party (BNP)  5.010622e-01   0.452766\n",
       "14  group_name_Communist Party of Nepal-Maoist (Ba...           NaN        NaN\n",
       "15  group_name_Hekla Reception Committee-Initiativ...  7.636114e-01   0.090458\n",
       "16  group_name_Riyadus-Salikhin Reconnaissance and...  4.240568e-01   0.639172\n",
       "17                                 group_name_Unknown  8.805488e-04  11.079433\n",
       "18                               weapontxt_Explosives  6.705693e-01   0.180963\n",
       "19                            sub_weapontxt_Pipe Bomb           NaN        NaN"
      ]
     },
     "execution_count": 473,
     "metadata": {},
     "output_type": "execute_result"
    }
   ],
   "source": [
    "# Creating a DF with the top 30 features:\n",
    "\n",
    "feature_mask = KBest_1.get_support(indices = True)\n",
    "KBest_1_features = pd.DataFrame(cyber_train_dummy_X.columns[feature_mask])\n",
    "\n",
    "# Summarizing the scores for those top 30 features in a df:\n",
    "\n",
    "KBest_1_features['P_Vals'] = KBest_1.pvalues_[0:20]\n",
    "KBest_1_features['Scores'] = KBest_1.scores_[0:20]\n",
    "\n",
    "print('Here is a dataframe with the top 30 features selected by this algorithm, along with\\n'\n",
    "       'the P-Value and ANova score of each feature: \\n')\n",
    "KBest_1_features"
   ]
  },
  {
   "cell_type": "markdown",
   "metadata": {},
   "source": [
    "Pertinent columns:\n",
    "24 hrs\n",
    "country_txt / victim nationality\n",
    "city\n",
    "attack_1\n",
    "target_1\n",
    "sub_target\n",
    "group_name\n",
    "sub_weapon"
   ]
  },
  {
   "cell_type": "markdown",
   "metadata": {},
   "source": [
    "##### Assessing Individual Features:\n",
    "\n",
    "> Running SelectKBest on a few columns individually to see which of their values is selected as most important:  \n"
   ]
  },
  {
   "cell_type": "markdown",
   "metadata": {},
   "source": [
    "> ###### Group_name (name_train_dummy_X/Y & name_test_dummy_X/Y):"
   ]
  },
  {
   "cell_type": "code",
   "execution_count": 474,
   "metadata": {},
   "outputs": [],
   "source": [
    "# Getting dummies on our training and test sets (slight wrangling involved):\n",
    "\n",
    "names_train_X = cyber_train_X['group_name']\n",
    "names_test_X = cyber_test_X['group_name']\n",
    "\n",
    "names_train_index = cyber_train_X['group_name'].index\n",
    "names_test_index = cyber_test_X['group_name'].index\n",
    "\n",
    "names_dummy_prep = pd.concat([names_train_X, names_test_X])\n",
    "names_dummy_1 = pd.get_dummies(names_dummy_prep)\n",
    "\n",
    "# Training/Test Inputs:\n",
    "\n",
    "names_train_dummy_X = names_dummy_1.loc[names_train_index]\n",
    "names_test_dummy_X = names_dummy_1.loc[names_test_index]\n",
    "\n",
    "# Training Output:\n",
    "\n",
    "names_train_dummy_Y = cyber_train_Y.loc[names_train_index]\n",
    "names_test_dummy_Y = cyber_test_Y.loc[names_test_index]"
   ]
  },
  {
   "cell_type": "code",
   "execution_count": 475,
   "metadata": {},
   "outputs": [],
   "source": [
    "# Fitting model to our features and output.\n",
    "\n",
    "KBest_names = feature_selection.SelectKBest(k = 20)  # Tried 30 and 150\n",
    "names_train_KBest = KBest_names.fit_transform(names_train_dummy_X, names_train_dummy_Y)\n",
    "\n",
    "# Transforming our test set.\n",
    "\n",
    "names_test_KBest = KBest_names.transform(names_test_dummy_X)"
   ]
  },
  {
   "cell_type": "code",
   "execution_count": 476,
   "metadata": {
    "scrolled": true
   },
   "outputs": [
    {
     "name": "stdout",
     "output_type": "stream",
     "text": [
      "Here is a dataframe with the top 30 features selected by this algorithm, along with\n",
      "the P-Value and ANova score of each feature: \n",
      "\n"
     ]
    },
    {
     "data": {
      "text/html": [
       "<div>\n",
       "<style scoped>\n",
       "    .dataframe tbody tr th:only-of-type {\n",
       "        vertical-align: middle;\n",
       "    }\n",
       "\n",
       "    .dataframe tbody tr th {\n",
       "        vertical-align: top;\n",
       "    }\n",
       "\n",
       "    .dataframe thead th {\n",
       "        text-align: right;\n",
       "    }\n",
       "</style>\n",
       "<table border=\"1\" class=\"dataframe\">\n",
       "  <thead>\n",
       "    <tr style=\"text-align: right;\">\n",
       "      <th></th>\n",
       "      <th>0</th>\n",
       "      <th>P_Vals</th>\n",
       "      <th>Scores</th>\n",
       "    </tr>\n",
       "  </thead>\n",
       "  <tbody>\n",
       "    <tr>\n",
       "      <th>0</th>\n",
       "      <td>Armed Commandos of Liberation</td>\n",
       "      <td>0.763611</td>\n",
       "      <td>0.090458</td>\n",
       "    </tr>\n",
       "    <tr>\n",
       "      <th>1</th>\n",
       "      <td>Bangladesh Nationalist Party (BNP)</td>\n",
       "      <td>0.763611</td>\n",
       "      <td>0.090458</td>\n",
       "    </tr>\n",
       "    <tr>\n",
       "      <th>2</th>\n",
       "      <td>Besi Merah Putih Militia</td>\n",
       "      <td>NaN</td>\n",
       "      <td>NaN</td>\n",
       "    </tr>\n",
       "    <tr>\n",
       "      <th>3</th>\n",
       "      <td>Communist Party of Nepal-Maoist (Baidya)</td>\n",
       "      <td>NaN</td>\n",
       "      <td>NaN</td>\n",
       "    </tr>\n",
       "    <tr>\n",
       "      <th>4</th>\n",
       "      <td>Conspiracy of Cells of Fire</td>\n",
       "      <td>NaN</td>\n",
       "      <td>NaN</td>\n",
       "    </tr>\n",
       "    <tr>\n",
       "      <th>5</th>\n",
       "      <td>Hekla Reception Committee-Initiative for More ...</td>\n",
       "      <td>0.670569</td>\n",
       "      <td>0.180963</td>\n",
       "    </tr>\n",
       "    <tr>\n",
       "      <th>6</th>\n",
       "      <td>Informal Anarchist Federation</td>\n",
       "      <td>NaN</td>\n",
       "      <td>NaN</td>\n",
       "    </tr>\n",
       "    <tr>\n",
       "      <th>7</th>\n",
       "      <td>Irish_Separatists</td>\n",
       "      <td>NaN</td>\n",
       "      <td>NaN</td>\n",
       "    </tr>\n",
       "    <tr>\n",
       "      <th>8</th>\n",
       "      <td>Jihadi-inspired extremists</td>\n",
       "      <td>NaN</td>\n",
       "      <td>NaN</td>\n",
       "    </tr>\n",
       "    <tr>\n",
       "      <th>9</th>\n",
       "      <td>Macheteros</td>\n",
       "      <td>0.763611</td>\n",
       "      <td>0.090458</td>\n",
       "    </tr>\n",
       "    <tr>\n",
       "      <th>10</th>\n",
       "      <td>Maoist Communist Party of Manipur</td>\n",
       "      <td>NaN</td>\n",
       "      <td>NaN</td>\n",
       "    </tr>\n",
       "    <tr>\n",
       "      <th>11</th>\n",
       "      <td>Maoists</td>\n",
       "      <td>NaN</td>\n",
       "      <td>NaN</td>\n",
       "    </tr>\n",
       "    <tr>\n",
       "      <th>12</th>\n",
       "      <td>Middle_Eastern_Religious</td>\n",
       "      <td>0.547366</td>\n",
       "      <td>0.362117</td>\n",
       "    </tr>\n",
       "    <tr>\n",
       "      <th>13</th>\n",
       "      <td>November 17 Revolutionary Organization (N17RO)</td>\n",
       "      <td>0.060736</td>\n",
       "      <td>3.519091</td>\n",
       "    </tr>\n",
       "    <tr>\n",
       "      <th>14</th>\n",
       "      <td>Pro Hartal Activists</td>\n",
       "      <td>0.763611</td>\n",
       "      <td>0.090458</td>\n",
       "    </tr>\n",
       "    <tr>\n",
       "      <th>15</th>\n",
       "      <td>Real Ulster Freedom Fighters (UFF) - Northern ...</td>\n",
       "      <td>0.763611</td>\n",
       "      <td>0.090458</td>\n",
       "    </tr>\n",
       "    <tr>\n",
       "      <th>16</th>\n",
       "      <td>Riyadus-Salikhin Reconnaissance and Sabotage B...</td>\n",
       "      <td>NaN</td>\n",
       "      <td>NaN</td>\n",
       "    </tr>\n",
       "    <tr>\n",
       "      <th>17</th>\n",
       "      <td>Salafi Abu-Bakr al-Siddiq Army</td>\n",
       "      <td>0.547366</td>\n",
       "      <td>0.362117</td>\n",
       "    </tr>\n",
       "    <tr>\n",
       "      <th>18</th>\n",
       "      <td>Tehrik-e-Nifaz-e-Aman Balochistan-Jhalawan Bri...</td>\n",
       "      <td>0.602345</td>\n",
       "      <td>0.271516</td>\n",
       "    </tr>\n",
       "    <tr>\n",
       "      <th>19</th>\n",
       "      <td>Unknown</td>\n",
       "      <td>NaN</td>\n",
       "      <td>NaN</td>\n",
       "    </tr>\n",
       "  </tbody>\n",
       "</table>\n",
       "</div>"
      ],
      "text/plain": [
       "                                                    0    P_Vals    Scores\n",
       "0                       Armed Commandos of Liberation  0.763611  0.090458\n",
       "1                  Bangladesh Nationalist Party (BNP)  0.763611  0.090458\n",
       "2                            Besi Merah Putih Militia       NaN       NaN\n",
       "3            Communist Party of Nepal-Maoist (Baidya)       NaN       NaN\n",
       "4                         Conspiracy of Cells of Fire       NaN       NaN\n",
       "5   Hekla Reception Committee-Initiative for More ...  0.670569  0.180963\n",
       "6                       Informal Anarchist Federation       NaN       NaN\n",
       "7                                   Irish_Separatists       NaN       NaN\n",
       "8                          Jihadi-inspired extremists       NaN       NaN\n",
       "9                                          Macheteros  0.763611  0.090458\n",
       "10                  Maoist Communist Party of Manipur       NaN       NaN\n",
       "11                                            Maoists       NaN       NaN\n",
       "12                           Middle_Eastern_Religious  0.547366  0.362117\n",
       "13     November 17 Revolutionary Organization (N17RO)  0.060736  3.519091\n",
       "14                               Pro Hartal Activists  0.763611  0.090458\n",
       "15  Real Ulster Freedom Fighters (UFF) - Northern ...  0.763611  0.090458\n",
       "16  Riyadus-Salikhin Reconnaissance and Sabotage B...       NaN       NaN\n",
       "17                     Salafi Abu-Bakr al-Siddiq Army  0.547366  0.362117\n",
       "18  Tehrik-e-Nifaz-e-Aman Balochistan-Jhalawan Bri...  0.602345  0.271516\n",
       "19                                            Unknown       NaN       NaN"
      ]
     },
     "execution_count": 476,
     "metadata": {},
     "output_type": "execute_result"
    }
   ],
   "source": [
    "# Summarizing the scores for those top 30 features in a df:\n",
    "\n",
    "names_mask = KBest_names.get_support(indices = True)\n",
    "KBest_names_features = pd.DataFrame(names_train_dummy_X.columns[names_mask])\n",
    "\n",
    "KBest_names_features['P_Vals'] = KBest_names.pvalues_[0:20]\n",
    "KBest_names_features['Scores'] = KBest_names.scores_[0:20]\n",
    "\n",
    "print('Here is a dataframe with the top 30 features selected by this algorithm, along with\\n'\n",
    "       'the P-Value and ANova score of each feature: \\n')\n",
    "KBest_names_features   "
   ]
  },
  {
   "cell_type": "markdown",
   "metadata": {},
   "source": [
    "Pertinent groups:\n",
    "African - Religious\n",
    "Irish\n",
    "Middle_easter religious\n",
    "India"
   ]
  },
  {
   "cell_type": "markdown",
   "metadata": {},
   "source": [
    "> ###### City (city_train_dummy_X/Y & city_test_dummy_X/Y):"
   ]
  },
  {
   "cell_type": "code",
   "execution_count": 477,
   "metadata": {},
   "outputs": [],
   "source": [
    "# Getting dummies on our training and test sets (slight wrangling involved):\n",
    "\n",
    "city_train_X = cyber_train_X['city']\n",
    "city_test_X = cyber_test_X['city']\n",
    "\n",
    "city_train_index = cyber_train_X['city'].index\n",
    "city_test_index = cyber_test_X['city'].index\n",
    "\n",
    "city_dummy_prep = pd.concat([city_train_X, city_test_X])\n",
    "city_dummy_1 = pd.get_dummies(city_dummy_prep)\n",
    "\n",
    "# Training/Test Inputs:\n",
    "\n",
    "city_train_dummy_X = city_dummy_1.loc[city_train_index]\n",
    "city_test_dummy_X = city_dummy_1.loc[city_test_index]\n",
    "\n",
    "# Training Output:\n",
    "\n",
    "city_train_dummy_Y = cyber_train_Y.loc[city_train_index]\n",
    "city_test_dummy_Y = cyber_test_Y.loc[city_test_index]"
   ]
  },
  {
   "cell_type": "code",
   "execution_count": 478,
   "metadata": {},
   "outputs": [],
   "source": [
    "# Fitting model to our features and output.\n",
    "\n",
    "KBest_city = feature_selection.SelectKBest(k = 20) # Tried 30 and 150\n",
    "city_train_KBest = KBest_city.fit_transform(city_train_dummy_X, city_train_dummy_Y)\n",
    "\n",
    "# Transforming our test set:\n",
    "\n",
    "city_test_KBest = KBest_city.transform(city_test_dummy_X)"
   ]
  },
  {
   "cell_type": "code",
   "execution_count": 479,
   "metadata": {},
   "outputs": [
    {
     "name": "stdout",
     "output_type": "stream",
     "text": [
      "Here is a dataframe with the top 30 features selected by this algorithm, along with\n",
      "the P-Value and ANova score of each feature: \n",
      "\n"
     ]
    },
    {
     "data": {
      "text/html": [
       "<div>\n",
       "<style scoped>\n",
       "    .dataframe tbody tr th:only-of-type {\n",
       "        vertical-align: middle;\n",
       "    }\n",
       "\n",
       "    .dataframe tbody tr th {\n",
       "        vertical-align: top;\n",
       "    }\n",
       "\n",
       "    .dataframe thead th {\n",
       "        text-align: right;\n",
       "    }\n",
       "</style>\n",
       "<table border=\"1\" class=\"dataframe\">\n",
       "  <thead>\n",
       "    <tr style=\"text-align: right;\">\n",
       "      <th></th>\n",
       "      <th>0</th>\n",
       "      <th>P_Vals</th>\n",
       "      <th>Scores</th>\n",
       "    </tr>\n",
       "  </thead>\n",
       "  <tbody>\n",
       "    <tr>\n",
       "      <th>0</th>\n",
       "      <td>Aguada</td>\n",
       "      <td>NaN</td>\n",
       "      <td>NaN</td>\n",
       "    </tr>\n",
       "    <tr>\n",
       "      <th>1</th>\n",
       "      <td>Antrim</td>\n",
       "      <td>NaN</td>\n",
       "      <td>NaN</td>\n",
       "    </tr>\n",
       "    <tr>\n",
       "      <th>2</th>\n",
       "      <td>Chukitong</td>\n",
       "      <td>0.032471</td>\n",
       "      <td>4.576541</td>\n",
       "    </tr>\n",
       "    <tr>\n",
       "      <th>3</th>\n",
       "      <td>Colombo</td>\n",
       "      <td>NaN</td>\n",
       "      <td>NaN</td>\n",
       "    </tr>\n",
       "    <tr>\n",
       "      <th>4</th>\n",
       "      <td>Dhaka</td>\n",
       "      <td>0.763611</td>\n",
       "      <td>0.090458</td>\n",
       "    </tr>\n",
       "    <tr>\n",
       "      <th>5</th>\n",
       "      <td>Dublin</td>\n",
       "      <td>NaN</td>\n",
       "      <td>NaN</td>\n",
       "    </tr>\n",
       "    <tr>\n",
       "      <th>6</th>\n",
       "      <td>Imphal</td>\n",
       "      <td>0.782023</td>\n",
       "      <td>0.076564</td>\n",
       "    </tr>\n",
       "    <tr>\n",
       "      <th>7</th>\n",
       "      <td>Pagadian</td>\n",
       "      <td>NaN</td>\n",
       "      <td>NaN</td>\n",
       "    </tr>\n",
       "    <tr>\n",
       "      <th>8</th>\n",
       "      <td>Paris</td>\n",
       "      <td>0.763611</td>\n",
       "      <td>0.090458</td>\n",
       "    </tr>\n",
       "    <tr>\n",
       "      <th>9</th>\n",
       "      <td>Smile</td>\n",
       "      <td>0.763611</td>\n",
       "      <td>0.090458</td>\n",
       "    </tr>\n",
       "    <tr>\n",
       "      <th>10</th>\n",
       "      <td>Sunni_Shia_Split</td>\n",
       "      <td>0.763611</td>\n",
       "      <td>0.090458</td>\n",
       "    </tr>\n",
       "    <tr>\n",
       "      <th>11</th>\n",
       "      <td>Thoubal</td>\n",
       "      <td>NaN</td>\n",
       "      <td>NaN</td>\n",
       "    </tr>\n",
       "    <tr>\n",
       "      <th>12</th>\n",
       "      <td>Tral</td>\n",
       "      <td>0.547366</td>\n",
       "      <td>0.362117</td>\n",
       "    </tr>\n",
       "    <tr>\n",
       "      <th>13</th>\n",
       "      <td>Turin</td>\n",
       "      <td>NaN</td>\n",
       "      <td>NaN</td>\n",
       "    </tr>\n",
       "    <tr>\n",
       "      <th>14</th>\n",
       "      <td>Wachi</td>\n",
       "      <td>0.763611</td>\n",
       "      <td>0.090458</td>\n",
       "    </tr>\n",
       "    <tr>\n",
       "      <th>15</th>\n",
       "      <td>Waghaz district</td>\n",
       "      <td>0.763611</td>\n",
       "      <td>0.090458</td>\n",
       "    </tr>\n",
       "    <tr>\n",
       "      <th>16</th>\n",
       "      <td>Zab</td>\n",
       "      <td>0.763611</td>\n",
       "      <td>0.090458</td>\n",
       "    </tr>\n",
       "    <tr>\n",
       "      <th>17</th>\n",
       "      <td>Zemraya</td>\n",
       "      <td>NaN</td>\n",
       "      <td>NaN</td>\n",
       "    </tr>\n",
       "    <tr>\n",
       "      <th>18</th>\n",
       "      <td>Zhavoronki</td>\n",
       "      <td>NaN</td>\n",
       "      <td>NaN</td>\n",
       "    </tr>\n",
       "    <tr>\n",
       "      <th>19</th>\n",
       "      <td>Zhutovi</td>\n",
       "      <td>NaN</td>\n",
       "      <td>NaN</td>\n",
       "    </tr>\n",
       "  </tbody>\n",
       "</table>\n",
       "</div>"
      ],
      "text/plain": [
       "                   0    P_Vals    Scores\n",
       "0             Aguada       NaN       NaN\n",
       "1             Antrim       NaN       NaN\n",
       "2          Chukitong  0.032471  4.576541\n",
       "3            Colombo       NaN       NaN\n",
       "4              Dhaka  0.763611  0.090458\n",
       "5             Dublin       NaN       NaN\n",
       "6             Imphal  0.782023  0.076564\n",
       "7           Pagadian       NaN       NaN\n",
       "8              Paris  0.763611  0.090458\n",
       "9              Smile  0.763611  0.090458\n",
       "10  Sunni_Shia_Split  0.763611  0.090458\n",
       "11           Thoubal       NaN       NaN\n",
       "12              Tral  0.547366  0.362117\n",
       "13             Turin       NaN       NaN\n",
       "14             Wachi  0.763611  0.090458\n",
       "15   Waghaz district  0.763611  0.090458\n",
       "16               Zab  0.763611  0.090458\n",
       "17           Zemraya       NaN       NaN\n",
       "18        Zhavoronki       NaN       NaN\n",
       "19           Zhutovi       NaN       NaN"
      ]
     },
     "execution_count": 479,
     "metadata": {},
     "output_type": "execute_result"
    }
   ],
   "source": [
    "# Summarizing the scores for those top 30 features in a df:\n",
    "pd.set_option('max_rows', 101)\n",
    "city_mask = KBest_city.get_support(indices = True)\n",
    "KBest_city_features = pd.DataFrame(city_train_dummy_X.columns[city_mask])\n",
    "\n",
    "KBest_city_features['P_Vals'] = KBest_city.pvalues_[0:20]\n",
    "KBest_city_features['Scores'] = KBest_city.scores_[0:20]\n",
    "\n",
    "print('Here is a dataframe with the top 30 features selected by this algorithm, along with\\n'\n",
    "       'the P-Value and ANova score of each feature: \\n')\n",
    "KBest_city_features   "
   ]
  },
  {
   "cell_type": "markdown",
   "metadata": {},
   "source": [
    "western sites/cities\n",
    "ireland\n",
    "Asia\n",
    "Afghanistan"
   ]
  },
  {
   "cell_type": "markdown",
   "metadata": {},
   "source": [
    "> ###### Weapontxt (weapon_train_dummy/weapon_train_output2):"
   ]
  },
  {
   "cell_type": "code",
   "execution_count": 480,
   "metadata": {},
   "outputs": [],
   "source": [
    "# Getting dummies on our training and test sets (slight wrangling involved):\n",
    "\n",
    "weapon_train_X = cyber_train_X['weapontxt']\n",
    "weapon_test_X = cyber_test_X['weapontxt']\n",
    "\n",
    "weapon_train_index = cyber_train_X['weapontxt'].index\n",
    "weapon_test_index = cyber_test_X['weapontxt'].index\n",
    "\n",
    "weapon_dummy_prep = pd.concat([weapon_train_X, weapon_test_X])\n",
    "weapon_dummy_1 = pd.get_dummies(weapon_dummy_prep)\n",
    "\n",
    "# Training/Test Inputs:\n",
    "\n",
    "weapon_train_dummy_X = weapon_dummy_1.loc[weapon_train_index]\n",
    "weapon_test_dummy_X = weapon_dummy_1.loc[weapon_test_index]\n",
    "\n",
    "# Training Output:\n",
    "\n",
    "weapon_train_dummy_Y = cyber_train_Y.loc[weapon_train_index]\n",
    "weapon_test_dummy_Y = cyber_test_Y.loc[weapon_test_index]"
   ]
  },
  {
   "cell_type": "code",
   "execution_count": 481,
   "metadata": {},
   "outputs": [],
   "source": [
    "# Fitting the model to our features and training output:\n",
    "\n",
    "KBest_weapon = feature_selection.SelectKBest(k = 3) # Tried 5\n",
    "weapon_train_KBest = KBest_weapon.fit_transform(weapon_train_dummy_X, weapon_train_dummy_Y)\n",
    "\n",
    "# Transforming our test set:\n",
    "\n",
    "weapon_test_KBest = KBest_weapon.transform(weapon_test_dummy_X)"
   ]
  },
  {
   "cell_type": "code",
   "execution_count": 482,
   "metadata": {},
   "outputs": [
    {
     "name": "stdout",
     "output_type": "stream",
     "text": [
      "Here is a dataframe with the top 30 features selected by this algorithm, along with\n",
      "the P-Value and ANova score of each feature: \n",
      "\n"
     ]
    },
    {
     "data": {
      "text/html": [
       "<div>\n",
       "<style scoped>\n",
       "    .dataframe tbody tr th:only-of-type {\n",
       "        vertical-align: middle;\n",
       "    }\n",
       "\n",
       "    .dataframe tbody tr th {\n",
       "        vertical-align: top;\n",
       "    }\n",
       "\n",
       "    .dataframe thead th {\n",
       "        text-align: right;\n",
       "    }\n",
       "</style>\n",
       "<table border=\"1\" class=\"dataframe\">\n",
       "  <thead>\n",
       "    <tr style=\"text-align: right;\">\n",
       "      <th></th>\n",
       "      <th>0</th>\n",
       "      <th>P_Vals</th>\n",
       "      <th>Scores</th>\n",
       "    </tr>\n",
       "  </thead>\n",
       "  <tbody>\n",
       "    <tr>\n",
       "      <th>0</th>\n",
       "      <td>Bio-Chem</td>\n",
       "      <td>0.000881</td>\n",
       "      <td>11.079433</td>\n",
       "    </tr>\n",
       "    <tr>\n",
       "      <th>1</th>\n",
       "      <td>Explosives</td>\n",
       "      <td>0.000001</td>\n",
       "      <td>23.424721</td>\n",
       "    </tr>\n",
       "    <tr>\n",
       "      <th>2</th>\n",
       "      <td>Incendiary</td>\n",
       "      <td>0.016921</td>\n",
       "      <td>5.709131</td>\n",
       "    </tr>\n",
       "  </tbody>\n",
       "</table>\n",
       "</div>"
      ],
      "text/plain": [
       "            0    P_Vals     Scores\n",
       "0    Bio-Chem  0.000881  11.079433\n",
       "1  Explosives  0.000001  23.424721\n",
       "2  Incendiary  0.016921   5.709131"
      ]
     },
     "execution_count": 482,
     "metadata": {},
     "output_type": "execute_result"
    }
   ],
   "source": [
    "# Summarizing the scores for those top 5 features in a df:\n",
    "\n",
    "weapon_mask = KBest_weapon.get_support(indices = True)\n",
    "KBest_weapon_features = pd.DataFrame(weapon_train_dummy_X.columns[weapon_mask])\n",
    "\n",
    "KBest_weapon_features['P_Vals'] = KBest_weapon.pvalues_[0:3]\n",
    "KBest_weapon_features['Scores'] = KBest_weapon.scores_[0:3]\n",
    "\n",
    "print('Here is a dataframe with the top 30 features selected by this algorithm, along with\\n'\n",
    "       'the P-Value and ANova score of each feature: \\n')\n",
    "KBest_weapon_features   "
   ]
  },
  {
   "cell_type": "markdown",
   "metadata": {},
   "source": [
    "top 3:  \n",
    "Bio-chem\n",
    "Explosives\n",
    "Fake/Other"
   ]
  },
  {
   "cell_type": "markdown",
   "metadata": {},
   "source": [
    "#### B. Principle Component Analysis:\n",
    "\n",
    "> ##### Assessing Overall DF (cyber_train/test_PCA):"
   ]
  },
  {
   "cell_type": "code",
   "execution_count": 483,
   "metadata": {},
   "outputs": [],
   "source": [
    "from sklearn.decomposition import PCA\n",
    "\n",
    "# Using the whole dataset (cyber_train_data):\n",
    "\n",
    "PCA_1 = PCA(n_components = 20)  # Tried 30 and 500\n",
    "cyber_train_PCA = PCA_1.fit_transform(cyber_train_dummy_X) # No y. \n",
    "cyber_test_PCA = PCA_1.transform(cyber_test_dummy_X)\n",
    "\n",
    "PCA_1_df = pd.DataFrame(data = PCA_1.singular_values_)\n",
    "PCA_1_df['Explained_Variance'] = PCA_1.explained_variance_\n",
    "PCA_1_df['Explained_Variance_Ratio'] = PCA_1.explained_variance_ratio_\n",
    "PCA_1_df['Noise_Variance'] = PCA_1.noise_variance_\n",
    "PCA_1_df = PCA_1_df.rename(columns = {0:'Singular_Vals'})\n"
   ]
  },
  {
   "cell_type": "markdown",
   "metadata": {},
   "source": [
    "> ##### Assessing Individual Features\n",
    "\n",
    "> ###### Group_name (names_train/test_PCA):"
   ]
  },
  {
   "cell_type": "code",
   "execution_count": 484,
   "metadata": {},
   "outputs": [],
   "source": [
    "# Now looking at group_name stuffs:\n",
    "\n",
    "PCA_name = PCA(n_components = 20) # Tried 30 and 150\n",
    "name_train_PCA = PCA_name.fit_transform(names_train_dummy_X)\n",
    "name_test_PCA = PCA_name.transform(names_test_dummy_X)\n",
    "\n",
    "PCA_name_df = pd.DataFrame(data = PCA_name.singular_values_)\n",
    "PCA_name_df['Explained_Variance'] = PCA_name.explained_variance_\n",
    "PCA_name_df['Explained_Variance_Ratio'] = PCA_name.explained_variance_ratio_\n",
    "PCA_name_df['Noise_Variance'] = PCA_name.noise_variance_\n",
    "PCA_name_df = PCA_name_df.rename(columns = {0:'Singular_Vals'})"
   ]
  },
  {
   "cell_type": "markdown",
   "metadata": {},
   "source": [
    "> ###### City (PCA_cities_input:"
   ]
  },
  {
   "cell_type": "code",
   "execution_count": 485,
   "metadata": {},
   "outputs": [],
   "source": [
    "# Then some city stuff:\n",
    "\n",
    "PCA_cities = PCA(n_components = 20) # Tried 30 and 150\n",
    "cities_train_PCA = PCA_cities.fit_transform(city_train_dummy_X)\n",
    "cities_test_PCA = PCA_cities.transform(city_test_dummy_X)\n",
    "\n",
    "PCA_cities_df = pd.DataFrame(PCA_cities.singular_values_)\n",
    "PCA_cities_df['Explained_Variance'] = PCA_cities.explained_variance_\n",
    "PCA_cities_df['Explained_Variance_Ratio'] = PCA_cities.explained_variance_ratio_\n",
    "PCA_cities_df['Noise_Variance'] = PCA_cities.noise_variance_\n",
    "PCA_cities_df = PCA_cities_df.rename(columns = {0:'Singular_Vals'})"
   ]
  },
  {
   "cell_type": "markdown",
   "metadata": {},
   "source": [
    "> ###### Weapontxt (PCA_weapon_input):"
   ]
  },
  {
   "cell_type": "code",
   "execution_count": 486,
   "metadata": {},
   "outputs": [],
   "source": [
    "# Group_subweapon:\n",
    "\n",
    "PCA_weapon = PCA(n_components = 3)  # Tried 5\n",
    "weapon_train_PCA = PCA_weapon.fit_transform(weapon_train_dummy_X)\n",
    "weapon_test_PCA = PCA_weapon.transform(weapon_test_dummy_X)\n",
    "\n",
    "# Summarizing the scores for those top 30 features in a df:\n",
    "\n",
    "PCA_weapon_df = pd.DataFrame(PCA_weapon.singular_values_)\n",
    "PCA_weapon_df['Explained_Variance'] = PCA_weapon.explained_variance_\n",
    "PCA_weapon_df['Explained_Variance_Ratio'] = PCA_weapon.explained_variance_ratio_\n",
    "PCA_weapon_df['Noise_Variance'] = PCA_weapon.noise_variance_ \n",
    "PCA_weapon_df = PCA_weapon_df.rename(columns = {0:'Singular_Vals'})"
   ]
  },
  {
   "cell_type": "markdown",
   "metadata": {},
   "source": [
    "#### C. Creating Specified DF with Selected Features:"
   ]
  },
  {
   "cell_type": "markdown",
   "metadata": {},
   "source": [
    "> ##### DataFrame from KBest Algorithims (KBest_train/test_X/Y):"
   ]
  },
  {
   "cell_type": "code",
   "execution_count": 487,
   "metadata": {},
   "outputs": [],
   "source": [
    "# Training:\n",
    "\n",
    "alpha = pd.DataFrame(cyber_train_KBest1, columns = KBest_1_features[0])\n",
    "beta = pd.DataFrame(names_train_KBest, columns = KBest_names_features[0])\n",
    "gamma = pd.DataFrame(city_train_KBest, columns = KBest_city_features[0])\n",
    "delta = pd.DataFrame(weapon_train_KBest, columns = KBest_weapon_features[0])\n",
    "\n",
    "KBest_train_X = pd.concat([alpha, beta, gamma, delta], axis = 1)"
   ]
  },
  {
   "cell_type": "code",
   "execution_count": 488,
   "metadata": {},
   "outputs": [],
   "source": [
    "alpha2 = pd.DataFrame(cyber_test_KBest1, columns = KBest_1_features[0])\n",
    "beta2 = pd.DataFrame(names_test_KBest, columns = KBest_names_features[0])\n",
    "gamma2 = pd.DataFrame(city_test_KBest, columns = KBest_city_features[0])\n",
    "delta2 = pd.DataFrame(weapon_test_KBest, columns = KBest_weapon_features[0])\n",
    "\n",
    "KBest_test_X = pd.concat([alpha2, beta2, gamma2, delta2], axis = 1)"
   ]
  },
  {
   "cell_type": "markdown",
   "metadata": {},
   "source": [
    "> ##### DataFrame from PCA (PCA_train/test_X/Y):"
   ]
  },
  {
   "cell_type": "code",
   "execution_count": 489,
   "metadata": {},
   "outputs": [],
   "source": [
    "cyber_train_PCA = pd.DataFrame(cyber_train_PCA)\n",
    "name_train_PCA = pd.DataFrame(name_train_PCA)\n",
    "cities_train_PCA = pd.DataFrame(cities_train_PCA)\n",
    "weapon_train_PCA = pd.DataFrame(weapon_train_PCA)\n",
    "\n",
    "PCA_train_X = pd.DataFrame()\n",
    "PCA_train_X = pd.concat([cyber_train_PCA, name_train_PCA, cities_train_PCA, weapon_train_PCA], axis = 1)"
   ]
  },
  {
   "cell_type": "code",
   "execution_count": 490,
   "metadata": {},
   "outputs": [],
   "source": [
    "cyber_test_PCA = pd.DataFrame(cyber_test_PCA)\n",
    "name_test_PCA = pd.DataFrame(name_test_PCA)\n",
    "cities_test_PCA = pd.DataFrame(cities_test_PCA)\n",
    "weapon_test_PCA = pd.DataFrame(weapon_test_PCA)\n",
    "\n",
    "PCA_test_X = pd.DataFrame()\n",
    "PCA_test_X = pd.concat([cyber_test_PCA, name_test_PCA, cities_test_PCA, weapon_test_PCA], axis = 1)"
   ]
  },
  {
   "cell_type": "markdown",
   "metadata": {},
   "source": [
    "### 4. Modelling - Round 1:"
   ]
  },
  {
   "cell_type": "markdown",
   "metadata": {},
   "source": [
    "> Starting with a simple Logistic Regression since our output feature is binary."
   ]
  },
  {
   "cell_type": "markdown",
   "metadata": {},
   "source": [
    "#### Logistic Regression:"
   ]
  },
  {
   "cell_type": "markdown",
   "metadata": {},
   "source": [
    "##### KBest Features:"
   ]
  },
  {
   "cell_type": "code",
   "execution_count": 491,
   "metadata": {
    "scrolled": true
   },
   "outputs": [],
   "source": [
    "from sklearn.linear_model import LogisticRegression\n",
    "from sklearn.metrics import confusion_matrix\n",
    "from sklearn.model_selection import cross_val_score\n",
    "\n",
    "KBest_logistic = LogisticRegression()\n",
    "\n",
    "KBest_logistic = KBest_logistic.fit(KBest_train_X, cyber_train_dummy_Y)\n",
    "KBest_pred_ = KBest_logistic.predict(KBest_test_X)"
   ]
  },
  {
   "cell_type": "code",
   "execution_count": 492,
   "metadata": {},
   "outputs": [],
   "source": [
    "# Evaluation:\n",
    "    \n",
    "KBest_logistic_confusion = confusion_matrix(cyber_test_dummy_Y, KBest_pred_, labels = [0, 1])\n",
    "KBest_logistic_cv = cross_val_score(KBest_logistic, KBest_train_X, cyber_train_dummy_Y, cv = 5)\n",
    "KBest_logistic_train_score = KBest_logistic.score(KBest_train_X, cyber_train_dummy_Y)\n",
    "KBest_logistic_test_score = KBest_logistic.score(KBest_test_X, cyber_test_dummy_Y)"
   ]
  },
  {
   "cell_type": "code",
   "execution_count": 493,
   "metadata": {},
   "outputs": [
    {
     "name": "stdout",
     "output_type": "stream",
     "text": [
      "The training score is: 93.93%\n",
      "\n",
      "The mean cross-validation score is: 93.45% ±0.56%\n",
      "\n",
      "The cv scores are: \n",
      "[0.92512077 0.93349456 0.93349456 0.94188862 0.93825666]\n",
      "\n",
      "The test score is: 94.15%\n",
      "     0     1\n",
      "0  122   213\n",
      "1   28  3759\n",
      "False Positive (Type I Error): 213\n",
      "(63.58%)\n",
      "\n",
      "False Negative (Type II Error): 28\n",
      "(0.74%)\n",
      "\n"
     ]
    }
   ],
   "source": [
    "plusminus = u\"\\u00B1\"\n",
    "\n",
    "print(\"The training score is: {:.2%}\".format(KBest_logistic_train_score))\n",
    "print(\"\\nThe mean cross-validation score is: {:.2%} {}{:.2%}\\n\".format(KBest_logistic_cv.mean(),\n",
    "                                                                      plusminus, KBest_logistic_cv.std()))\n",
    "print(\"The cv scores are: \\n{}\".format(KBest_logistic_cv))\n",
    "print(\"\\nThe test score is: {:.2%}\".format(KBest_logistic_test_score))\n",
    "\n",
    "conf_df = pd.DataFrame(KBest_logistic_confusion)\n",
    "\n",
    "FP = conf_df.loc[0, 1]\n",
    "FN = conf_df.loc[1, 0]\n",
    "NegT = conf_df.iloc[0].sum()\n",
    "PosT = conf_df.iloc[1].sum()\n",
    "\n",
    "print(conf_df)\n",
    "\n",
    "print('False Positive (Type I Error): {}\\n({:.2%})\\n'.format(FP, (FP / NegT)))\n",
    "print('False Negative (Type II Error): {}\\n({:.2%})\\n'.format(FN, (FN / PosT)))\n"
   ]
  },
  {
   "cell_type": "markdown",
   "metadata": {},
   "source": [
    "##### PCA Features:"
   ]
  },
  {
   "cell_type": "code",
   "execution_count": 494,
   "metadata": {
    "scrolled": true
   },
   "outputs": [],
   "source": [
    "PCA_logistic = LogisticRegression()\n",
    "\n",
    "PCA_logistic = PCA_logistic.fit(PCA_train_X, cyber_train_dummy_Y)\n",
    "PCA_pred_ = PCA_logistic.predict(PCA_test_X)"
   ]
  },
  {
   "cell_type": "code",
   "execution_count": 495,
   "metadata": {},
   "outputs": [],
   "source": [
    "# Evaluation:\n",
    "    \n",
    "PCA_logistic_confusion = confusion_matrix(cyber_test_dummy_Y, PCA_pred_, labels = [0, 1])\n",
    "PCA_logistic_cv = cross_val_score(PCA_logistic, PCA_train_X, cyber_train_dummy_Y, cv = 5)\n",
    "PCA_logistic_train_score = PCA_logistic.score(PCA_train_X, cyber_train_dummy_Y)\n",
    "PCA_logistic_test_score = PCA_logistic.score(PCA_test_X, cyber_test_dummy_Y)"
   ]
  },
  {
   "cell_type": "code",
   "execution_count": 496,
   "metadata": {},
   "outputs": [
    {
     "name": "stdout",
     "output_type": "stream",
     "text": [
      "The training score is: 93.40%\n",
      "\n",
      "The mean cross-validation score is: 93.13% ±0.53%\n",
      "\n",
      "The cv scores are: \n",
      "[0.92270531 0.9286578  0.93349456 0.93341404 0.93825666]\n",
      "\n",
      "The test score is: 93.64%\n",
      "     0     1\n",
      "0  104   231\n",
      "1   31  3756\n",
      "False Positive (Type I Error): 231\n",
      "(68.96%)\n",
      "\n",
      "False Negative (Type II Error): 31\n",
      "(0.82%)\n",
      "\n"
     ]
    }
   ],
   "source": [
    "plusminus = u\"\\u00B1\"\n",
    "\n",
    "print(\"The training score is: {:.2%}\".format(PCA_logistic_train_score))\n",
    "print(\"\\nThe mean cross-validation score is: {:.2%} {}{:.2%}\\n\".format(PCA_logistic_cv.mean(),\n",
    "                                                                      plusminus, PCA_logistic_cv.std()))\n",
    "print(\"The cv scores are: \\n{}\".format(PCA_logistic_cv))\n",
    "print(\"\\nThe test score is: {:.2%}\".format(PCA_logistic_test_score))\n",
    "\n",
    "conf_df = pd.DataFrame(PCA_logistic_confusion)\n",
    "\n",
    "FP = conf_df.loc[0, 1]\n",
    "FN = conf_df.loc[1, 0]\n",
    "NegT = conf_df.iloc[0].sum()\n",
    "PosT = conf_df.iloc[1].sum()\n",
    "\n",
    "print(conf_df)\n",
    "\n",
    "print('False Positive (Type I Error): {}\\n({:.2%})\\n'.format(FP, (FP / NegT)))\n",
    "print('False Negative (Type II Error): {}\\n({:.2%})\\n'.format(FN, (FN / PosT)))\n"
   ]
  },
  {
   "cell_type": "markdown",
   "metadata": {},
   "source": [
    "Now, while we do have some decent scores here, especially regarding the true positive predictions, we do have a class balance issue we will need to take into consideration (as demonstrated below).  One way of doing that will work on increasing the accuracy of our true negatives and focusing less on our true positives. "
   ]
  },
  {
   "cell_type": "code",
   "execution_count": 497,
   "metadata": {},
   "outputs": [
    {
     "name": "stdout",
     "output_type": "stream",
     "text": [
      "1    3791\n",
      "0     343\n",
      "Name: success, dtype: int64\n",
      "1    3787\n",
      "0     335\n",
      "Name: success, dtype: int64\n"
     ]
    }
   ],
   "source": [
    "print(cyber_train_dummy_Y.success.value_counts())\n",
    "print(cyber_test_dummy_Y.success.value_counts())"
   ]
  },
  {
   "cell_type": "markdown",
   "metadata": {},
   "source": [
    "#### Random Forest:"
   ]
  },
  {
   "cell_type": "markdown",
   "metadata": {},
   "source": [
    "##### KBest Features:"
   ]
  },
  {
   "cell_type": "code",
   "execution_count": 498,
   "metadata": {},
   "outputs": [],
   "source": [
    "from sklearn.ensemble import RandomForestClassifier"
   ]
  },
  {
   "cell_type": "code",
   "execution_count": 499,
   "metadata": {
    "scrolled": true
   },
   "outputs": [],
   "source": [
    "KBest_forest = RandomForestClassifier()\n",
    "\n",
    "KBest_forest = KBest_forest.fit(KBest_train_X, cyber_train_dummy_Y)\n",
    "KBest_pred_ = KBest_forest.predict(KBest_test_X)"
   ]
  },
  {
   "cell_type": "code",
   "execution_count": 500,
   "metadata": {},
   "outputs": [],
   "source": [
    "# Evaluation:\n",
    "    \n",
    "KBest_forest_confusion = confusion_matrix(cyber_test_dummy_Y, KBest_pred_, labels = [0, 1])\n",
    "KBest_forest_cv = cross_val_score(KBest_forest, KBest_train_X, cyber_train_dummy_Y, cv = 5)\n",
    "KBest_forest_train_score = KBest_forest.score(KBest_train_X, cyber_train_dummy_Y)\n",
    "KBest_forest_test_score = KBest_forest.score(KBest_test_X, cyber_test_dummy_Y)"
   ]
  },
  {
   "cell_type": "code",
   "execution_count": 501,
   "metadata": {
    "scrolled": true
   },
   "outputs": [
    {
     "name": "stdout",
     "output_type": "stream",
     "text": [
      "The training score is: 94.85%\n",
      "\n",
      "The mean cross-validation score is: 93.74% ±0.30%\n",
      "\n",
      "The cv scores are: \n",
      "[0.93357488 0.93712213 0.93470375 0.94188862 0.93946731]\n",
      "\n",
      "The test score is: 93.93%\n",
      "     0     1\n",
      "0  133   202\n",
      "1   48  3739\n",
      "False Positive (Type I Error): 202\n",
      "(60.30%)\n",
      "\n",
      "False Negative (Type II Error): 48\n",
      "(1.27%)\n",
      "\n"
     ]
    },
    {
     "data": {
      "text/html": [
       "<div>\n",
       "<style scoped>\n",
       "    .dataframe tbody tr th:only-of-type {\n",
       "        vertical-align: middle;\n",
       "    }\n",
       "\n",
       "    .dataframe tbody tr th {\n",
       "        vertical-align: top;\n",
       "    }\n",
       "\n",
       "    .dataframe thead th {\n",
       "        text-align: right;\n",
       "    }\n",
       "</style>\n",
       "<table border=\"1\" class=\"dataframe\">\n",
       "  <thead>\n",
       "    <tr style=\"text-align: right;\">\n",
       "      <th></th>\n",
       "      <th>Importances</th>\n",
       "    </tr>\n",
       "    <tr>\n",
       "      <th>0</th>\n",
       "      <th></th>\n",
       "    </tr>\n",
       "  </thead>\n",
       "  <tbody>\n",
       "    <tr>\n",
       "      <th>attack_1txt_Assassination</th>\n",
       "      <td>0.20</td>\n",
       "    </tr>\n",
       "    <tr>\n",
       "      <th>target_1txt_Military</th>\n",
       "      <td>0.17</td>\n",
       "    </tr>\n",
       "    <tr>\n",
       "      <th>Explosives</th>\n",
       "      <td>0.07</td>\n",
       "    </tr>\n",
       "    <tr>\n",
       "      <th>weapontxt_Explosives</th>\n",
       "      <td>0.07</td>\n",
       "    </tr>\n",
       "    <tr>\n",
       "      <th>sub_targettxt_Gov_Figure1</th>\n",
       "      <td>0.03</td>\n",
       "    </tr>\n",
       "    <tr>\n",
       "      <th>group_name_Unknown</th>\n",
       "      <td>0.03</td>\n",
       "    </tr>\n",
       "    <tr>\n",
       "      <th>Thoubal</th>\n",
       "      <td>0.02</td>\n",
       "    </tr>\n",
       "    <tr>\n",
       "      <th>sub_weapontxt_Pipe Bomb</th>\n",
       "      <td>0.02</td>\n",
       "    </tr>\n",
       "    <tr>\n",
       "      <th>Sunni_Shia_Split</th>\n",
       "      <td>0.02</td>\n",
       "    </tr>\n",
       "    <tr>\n",
       "      <th>Middle_Eastern_Religious</th>\n",
       "      <td>0.02</td>\n",
       "    </tr>\n",
       "    <tr>\n",
       "      <th>region_txt_Western Europe</th>\n",
       "      <td>0.02</td>\n",
       "    </tr>\n",
       "    <tr>\n",
       "      <th>attack_1txt_Bombing/Explosion</th>\n",
       "      <td>0.02</td>\n",
       "    </tr>\n",
       "    <tr>\n",
       "      <th>city_Imphal</th>\n",
       "      <td>0.02</td>\n",
       "    </tr>\n",
       "    <tr>\n",
       "      <th>Pagadian</th>\n",
       "      <td>0.01</td>\n",
       "    </tr>\n",
       "    <tr>\n",
       "      <th>Unknown</th>\n",
       "      <td>0.01</td>\n",
       "    </tr>\n",
       "    <tr>\n",
       "      <th>Aguada</th>\n",
       "      <td>0.01</td>\n",
       "    </tr>\n",
       "    <tr>\n",
       "      <th>Antrim</th>\n",
       "      <td>0.01</td>\n",
       "    </tr>\n",
       "    <tr>\n",
       "      <th>Chukitong</th>\n",
       "      <td>0.01</td>\n",
       "    </tr>\n",
       "    <tr>\n",
       "      <th>Colombo</th>\n",
       "      <td>0.01</td>\n",
       "    </tr>\n",
       "    <tr>\n",
       "      <th>Imphal</th>\n",
       "      <td>0.01</td>\n",
       "    </tr>\n",
       "    <tr>\n",
       "      <th>Zemraya</th>\n",
       "      <td>0.01</td>\n",
       "    </tr>\n",
       "    <tr>\n",
       "      <th>Paris</th>\n",
       "      <td>0.01</td>\n",
       "    </tr>\n",
       "    <tr>\n",
       "      <th>Wachi</th>\n",
       "      <td>0.01</td>\n",
       "    </tr>\n",
       "    <tr>\n",
       "      <th>Smile</th>\n",
       "      <td>0.01</td>\n",
       "    </tr>\n",
       "    <tr>\n",
       "      <th>Bio-Chem</th>\n",
       "      <td>0.01</td>\n",
       "    </tr>\n",
       "    <tr>\n",
       "      <th>country_txt_Ireland</th>\n",
       "      <td>0.01</td>\n",
       "    </tr>\n",
       "    <tr>\n",
       "      <th>Tral</th>\n",
       "      <td>0.01</td>\n",
       "    </tr>\n",
       "    <tr>\n",
       "      <th>Turin</th>\n",
       "      <td>0.01</td>\n",
       "    </tr>\n",
       "    <tr>\n",
       "      <th>24+hrs</th>\n",
       "      <td>0.01</td>\n",
       "    </tr>\n",
       "    <tr>\n",
       "      <th>Incendiary</th>\n",
       "      <td>0.01</td>\n",
       "    </tr>\n",
       "    <tr>\n",
       "      <th>Besi Merah Putih Militia</th>\n",
       "      <td>0.01</td>\n",
       "    </tr>\n",
       "    <tr>\n",
       "      <th>Irish_Separatists</th>\n",
       "      <td>0.01</td>\n",
       "    </tr>\n",
       "    <tr>\n",
       "      <th>Armed Commandos of Liberation</th>\n",
       "      <td>0.01</td>\n",
       "    </tr>\n",
       "    <tr>\n",
       "      <th>Macheteros</th>\n",
       "      <td>0.01</td>\n",
       "    </tr>\n",
       "    <tr>\n",
       "      <th>victim_nationalitytxt_Ireland</th>\n",
       "      <td>0.01</td>\n",
       "    </tr>\n",
       "    <tr>\n",
       "      <th>sub_targettxt_Unnamed Civilian/Unspecified</th>\n",
       "      <td>0.01</td>\n",
       "    </tr>\n",
       "    <tr>\n",
       "      <th>Conspiracy of Cells of Fire</th>\n",
       "      <td>0.01</td>\n",
       "    </tr>\n",
       "    <tr>\n",
       "      <th>Hekla Reception Committee-Initiative for More Social Eruptions</th>\n",
       "      <td>0.01</td>\n",
       "    </tr>\n",
       "    <tr>\n",
       "      <th>Informal Anarchist Federation</th>\n",
       "      <td>0.01</td>\n",
       "    </tr>\n",
       "    <tr>\n",
       "      <th>attack_1txt_Hostage Taking (Kidnapping)</th>\n",
       "      <td>0.01</td>\n",
       "    </tr>\n",
       "    <tr>\n",
       "      <th>Jihadi-inspired extremists</th>\n",
       "      <td>0.01</td>\n",
       "    </tr>\n",
       "    <tr>\n",
       "      <th>group_name_Communist Party of Nepal-Maoist (Baidya)</th>\n",
       "      <td>0.01</td>\n",
       "    </tr>\n",
       "    <tr>\n",
       "      <th>Zab</th>\n",
       "      <td>0.00</td>\n",
       "    </tr>\n",
       "    <tr>\n",
       "      <th>group_name_Hekla Reception Committee-Initiative for More Social Eruptions</th>\n",
       "      <td>0.00</td>\n",
       "    </tr>\n",
       "    <tr>\n",
       "      <th>target_1txt_Unknown</th>\n",
       "      <td>0.00</td>\n",
       "    </tr>\n",
       "    <tr>\n",
       "      <th>Zhavoronki</th>\n",
       "      <td>0.00</td>\n",
       "    </tr>\n",
       "    <tr>\n",
       "      <th>Waghaz district</th>\n",
       "      <td>0.00</td>\n",
       "    </tr>\n",
       "    <tr>\n",
       "      <th>Zhutovi</th>\n",
       "      <td>0.00</td>\n",
       "    </tr>\n",
       "    <tr>\n",
       "      <th>city_Dublin</th>\n",
       "      <td>0.00</td>\n",
       "    </tr>\n",
       "    <tr>\n",
       "      <th>group_name_Bangladesh Nationalist Party (BNP)</th>\n",
       "      <td>0.00</td>\n",
       "    </tr>\n",
       "    <tr>\n",
       "      <th>Maoist Communist Party of Manipur</th>\n",
       "      <td>0.00</td>\n",
       "    </tr>\n",
       "    <tr>\n",
       "      <th>group_name_Riyadus-Salikhin Reconnaissance and Sabotage Battalion of Chechen Martyrs</th>\n",
       "      <td>0.00</td>\n",
       "    </tr>\n",
       "    <tr>\n",
       "      <th>Bangladesh Nationalist Party (BNP)</th>\n",
       "      <td>0.00</td>\n",
       "    </tr>\n",
       "    <tr>\n",
       "      <th>Dublin</th>\n",
       "      <td>0.00</td>\n",
       "    </tr>\n",
       "    <tr>\n",
       "      <th>Dhaka</th>\n",
       "      <td>0.00</td>\n",
       "    </tr>\n",
       "    <tr>\n",
       "      <th>Communist Party of Nepal-Maoist (Baidya)</th>\n",
       "      <td>0.00</td>\n",
       "    </tr>\n",
       "    <tr>\n",
       "      <th>Tehrik-e-Nifaz-e-Aman Balochistan-Jhalawan Brigade (TNAB-Jhalawan Brigade)</th>\n",
       "      <td>0.00</td>\n",
       "    </tr>\n",
       "    <tr>\n",
       "      <th>Salafi Abu-Bakr al-Siddiq Army</th>\n",
       "      <td>0.00</td>\n",
       "    </tr>\n",
       "    <tr>\n",
       "      <th>Riyadus-Salikhin Reconnaissance and Sabotage Battalion of Chechen Martyrs</th>\n",
       "      <td>0.00</td>\n",
       "    </tr>\n",
       "    <tr>\n",
       "      <th>Real Ulster Freedom Fighters (UFF) - Northern Ireland</th>\n",
       "      <td>0.00</td>\n",
       "    </tr>\n",
       "    <tr>\n",
       "      <th>Pro Hartal Activists</th>\n",
       "      <td>0.00</td>\n",
       "    </tr>\n",
       "    <tr>\n",
       "      <th>November 17 Revolutionary Organization (N17RO)</th>\n",
       "      <td>0.00</td>\n",
       "    </tr>\n",
       "    <tr>\n",
       "      <th>Maoists</th>\n",
       "      <td>0.00</td>\n",
       "    </tr>\n",
       "  </tbody>\n",
       "</table>\n",
       "</div>"
      ],
      "text/plain": [
       "                                                    Importances\n",
       "0                                                              \n",
       "attack_1txt_Assassination                                  0.20\n",
       "target_1txt_Military                                       0.17\n",
       "Explosives                                                 0.07\n",
       "weapontxt_Explosives                                       0.07\n",
       "sub_targettxt_Gov_Figure1                                  0.03\n",
       "group_name_Unknown                                         0.03\n",
       "Thoubal                                                    0.02\n",
       "sub_weapontxt_Pipe Bomb                                    0.02\n",
       "Sunni_Shia_Split                                           0.02\n",
       "Middle_Eastern_Religious                                   0.02\n",
       "region_txt_Western Europe                                  0.02\n",
       "attack_1txt_Bombing/Explosion                              0.02\n",
       "city_Imphal                                                0.02\n",
       "Pagadian                                                   0.01\n",
       "Unknown                                                    0.01\n",
       "Aguada                                                     0.01\n",
       "Antrim                                                     0.01\n",
       "Chukitong                                                  0.01\n",
       "Colombo                                                    0.01\n",
       "Imphal                                                     0.01\n",
       "Zemraya                                                    0.01\n",
       "Paris                                                      0.01\n",
       "Wachi                                                      0.01\n",
       "Smile                                                      0.01\n",
       "Bio-Chem                                                   0.01\n",
       "country_txt_Ireland                                        0.01\n",
       "Tral                                                       0.01\n",
       "Turin                                                      0.01\n",
       "24+hrs                                                     0.01\n",
       "Incendiary                                                 0.01\n",
       "Besi Merah Putih Militia                                   0.01\n",
       "Irish_Separatists                                          0.01\n",
       "Armed Commandos of Liberation                              0.01\n",
       "Macheteros                                                 0.01\n",
       "victim_nationalitytxt_Ireland                              0.01\n",
       "sub_targettxt_Unnamed Civilian/Unspecified                 0.01\n",
       "Conspiracy of Cells of Fire                                0.01\n",
       "Hekla Reception Committee-Initiative for More S...         0.01\n",
       "Informal Anarchist Federation                              0.01\n",
       "attack_1txt_Hostage Taking (Kidnapping)                    0.01\n",
       "Jihadi-inspired extremists                                 0.01\n",
       "group_name_Communist Party of Nepal-Maoist (Bai...         0.01\n",
       "Zab                                                        0.00\n",
       "group_name_Hekla Reception Committee-Initiative...         0.00\n",
       "target_1txt_Unknown                                        0.00\n",
       "Zhavoronki                                                 0.00\n",
       "Waghaz district                                            0.00\n",
       "Zhutovi                                                    0.00\n",
       "city_Dublin                                                0.00\n",
       "group_name_Bangladesh Nationalist Party (BNP)              0.00\n",
       "Maoist Communist Party of Manipur                          0.00\n",
       "group_name_Riyadus-Salikhin Reconnaissance and ...         0.00\n",
       "Bangladesh Nationalist Party (BNP)                         0.00\n",
       "Dublin                                                     0.00\n",
       "Dhaka                                                      0.00\n",
       "Communist Party of Nepal-Maoist (Baidya)                   0.00\n",
       "Tehrik-e-Nifaz-e-Aman Balochistan-Jhalawan Brig...         0.00\n",
       "Salafi Abu-Bakr al-Siddiq Army                             0.00\n",
       "Riyadus-Salikhin Reconnaissance and Sabotage Ba...         0.00\n",
       "Real Ulster Freedom Fighters (UFF) - Northern I...         0.00\n",
       "Pro Hartal Activists                                       0.00\n",
       "November 17 Revolutionary Organization (N17RO)             0.00\n",
       "Maoists                                                    0.00"
      ]
     },
     "metadata": {},
     "output_type": "display_data"
    }
   ],
   "source": [
    "# Evaluation:\n",
    "    \n",
    "KBest_forest_confusion = confusion_matrix(cyber_test_dummy_Y, KBest_pred_, labels = [0, 1])\n",
    "KBest_forest_cv = cross_val_score(KBest_forest, KBest_train_X, cyber_train_dummy_Y, cv = 5)\n",
    "KBest_forest_train_score = KBest_forest.score(KBest_train_X, cyber_train_dummy_Y)\n",
    "KBest_forest_test_score = KBest_forest.score(KBest_test_X, cyber_test_dummy_Y)\n",
    "\n",
    "plusminus = u\"\\u00B1\"\n",
    "\n",
    "print(\"The training score is: {:.2%}\".format(KBest_forest_train_score))\n",
    "print(\"\\nThe mean cross-validation score is: {:.2%} {}{:.2%}\\n\".format(KBest_forest_cv.mean(),\n",
    "                                                                      plusminus, KBest_forest_cv.std()))\n",
    "print(\"The cv scores are: \\n{}\".format(KBest_forest_cv))\n",
    "print(\"\\nThe test score is: {:.2%}\".format(KBest_forest_test_score))\n",
    "\n",
    "conf_df = pd.DataFrame(KBest_forest_confusion)\n",
    "\n",
    "FP = conf_df.loc[0, 1]\n",
    "FN = conf_df.loc[1, 0]\n",
    "NegT = conf_df.iloc[0].sum()\n",
    "PosT = conf_df.iloc[1].sum()\n",
    "\n",
    "print(conf_df)\n",
    "\n",
    "print('False Positive (Type I Error): {}\\n({:.2%})\\n'.format(FP, (FP / NegT)))\n",
    "print('False Negative (Type II Error): {}\\n({:.2%})\\n'.format(FN, (FN / PosT)))\n",
    "\n",
    "feat_imp = pd.DataFrame(KBest_forest.feature_importances_.round(2), index = KBest_train_X.columns,\n",
    "                        columns = [\"Importances\"])\n",
    "display(feat_imp.sort_values('Importances', ascending = False))"
   ]
  },
  {
   "cell_type": "code",
   "execution_count": 524,
   "metadata": {},
   "outputs": [],
   "source": [
    "bleh = cyber_data.loc[cyber_data['success'] == 0]\n",
    "upsilon = cyber_data.loc[cyber_data['attack_1txt'] == 'Assassination']"
   ]
  },
  {
   "cell_type": "code",
   "execution_count": 528,
   "metadata": {},
   "outputs": [
    {
     "data": {
      "text/html": [
       "<div>\n",
       "<style scoped>\n",
       "    .dataframe tbody tr th:only-of-type {\n",
       "        vertical-align: middle;\n",
       "    }\n",
       "\n",
       "    .dataframe tbody tr th {\n",
       "        vertical-align: top;\n",
       "    }\n",
       "\n",
       "    .dataframe thead th {\n",
       "        text-align: right;\n",
       "    }\n",
       "</style>\n",
       "<table border=\"1\" class=\"dataframe\">\n",
       "  <thead>\n",
       "    <tr style=\"text-align: right;\">\n",
       "      <th></th>\n",
       "      <th>country_txt</th>\n",
       "      <th>region_txt</th>\n",
       "      <th>region_2</th>\n",
       "      <th>city</th>\n",
       "      <th>summary</th>\n",
       "      <th>attack_1txt</th>\n",
       "      <th>target_1txt</th>\n",
       "      <th>sub_targettxt</th>\n",
       "      <th>corp1</th>\n",
       "      <th>specific_target</th>\n",
       "      <th>victim_nationalitytxt</th>\n",
       "      <th>group_name</th>\n",
       "      <th>motive</th>\n",
       "      <th>weapontxt</th>\n",
       "      <th>sub_weapontxt</th>\n",
       "    </tr>\n",
       "  </thead>\n",
       "  <tbody>\n",
       "    <tr>\n",
       "      <th>count</th>\n",
       "      <td>885</td>\n",
       "      <td>885</td>\n",
       "      <td>885</td>\n",
       "      <td>883</td>\n",
       "      <td>885</td>\n",
       "      <td>885</td>\n",
       "      <td>885</td>\n",
       "      <td>717</td>\n",
       "      <td>805</td>\n",
       "      <td>882</td>\n",
       "      <td>830</td>\n",
       "      <td>885</td>\n",
       "      <td>885</td>\n",
       "      <td>885</td>\n",
       "      <td>847</td>\n",
       "    </tr>\n",
       "    <tr>\n",
       "      <th>unique</th>\n",
       "      <td>55</td>\n",
       "      <td>10</td>\n",
       "      <td>237</td>\n",
       "      <td>528</td>\n",
       "      <td>879</td>\n",
       "      <td>9</td>\n",
       "      <td>16</td>\n",
       "      <td>75</td>\n",
       "      <td>397</td>\n",
       "      <td>616</td>\n",
       "      <td>57</td>\n",
       "      <td>95</td>\n",
       "      <td>167</td>\n",
       "      <td>9</td>\n",
       "      <td>25</td>\n",
       "    </tr>\n",
       "    <tr>\n",
       "      <th>top</th>\n",
       "      <td>Iraq</td>\n",
       "      <td>South Asia</td>\n",
       "      <td>Khyber Pakhtunkhwa</td>\n",
       "      <td>Unknown</td>\n",
       "      <td>05/06/2013: Assailants opened fire on the priv...</td>\n",
       "      <td>Bombing/Explosion</td>\n",
       "      <td>Military</td>\n",
       "      <td>Government Personnel (excluding police, military)</td>\n",
       "      <td>Unknown</td>\n",
       "      <td>Unknown</td>\n",
       "      <td>Iraq</td>\n",
       "      <td>Unknown</td>\n",
       "      <td>nan</td>\n",
       "      <td>Explosives</td>\n",
       "      <td>Unknown Explosive Type</td>\n",
       "    </tr>\n",
       "    <tr>\n",
       "      <th>freq</th>\n",
       "      <td>168</td>\n",
       "      <td>382</td>\n",
       "      <td>49</td>\n",
       "      <td>52</td>\n",
       "      <td>3</td>\n",
       "      <td>454</td>\n",
       "      <td>322</td>\n",
       "      <td>124</td>\n",
       "      <td>197</td>\n",
       "      <td>158</td>\n",
       "      <td>164</td>\n",
       "      <td>626</td>\n",
       "      <td>451</td>\n",
       "      <td>696</td>\n",
       "      <td>268</td>\n",
       "    </tr>\n",
       "  </tbody>\n",
       "</table>\n",
       "</div>"
      ],
      "text/plain": [
       "       country_txt  region_txt            region_2     city  \\\n",
       "count          885         885                 885      883   \n",
       "unique          55          10                 237      528   \n",
       "top           Iraq  South Asia  Khyber Pakhtunkhwa  Unknown   \n",
       "freq           168         382                  49       52   \n",
       "\n",
       "                                                  summary        attack_1txt  \\\n",
       "count                                                 885                885   \n",
       "unique                                                879                  9   \n",
       "top     05/06/2013: Assailants opened fire on the priv...  Bombing/Explosion   \n",
       "freq                                                    3                454   \n",
       "\n",
       "       target_1txt                                      sub_targettxt  \\\n",
       "count          885                                                717   \n",
       "unique          16                                                 75   \n",
       "top       Military  Government Personnel (excluding police, military)   \n",
       "freq           322                                                124   \n",
       "\n",
       "          corp1 specific_target victim_nationalitytxt group_name motive  \\\n",
       "count       805             882                   830        885    885   \n",
       "unique      397             616                    57         95    167   \n",
       "top     Unknown         Unknown                  Iraq    Unknown    nan   \n",
       "freq        197             158                   164        626    451   \n",
       "\n",
       "         weapontxt           sub_weapontxt  \n",
       "count          885                     847  \n",
       "unique           9                      25  \n",
       "top     Explosives  Unknown Explosive Type  \n",
       "freq           696                     268  "
      ]
     },
     "execution_count": 528,
     "metadata": {},
     "output_type": "execute_result"
    }
   ],
   "source": [
    "bleh.describe(include = ['object'])"
   ]
  },
  {
   "cell_type": "markdown",
   "metadata": {},
   "source": [
    "##### PCA Features"
   ]
  },
  {
   "cell_type": "code",
   "execution_count": 502,
   "metadata": {
    "scrolled": true
   },
   "outputs": [],
   "source": [
    "PCA_forest = RandomForestClassifier()\n",
    "\n",
    "PCA_forest = PCA_forest.fit(PCA_train_X, cyber_train_dummy_Y)\n",
    "PCA_pred_ = PCA_forest.predict(PCA_test_X)"
   ]
  },
  {
   "cell_type": "code",
   "execution_count": 503,
   "metadata": {},
   "outputs": [],
   "source": [
    "# Evaluation:\n",
    "    \n",
    "PCA_forest_confusion = confusion_matrix(cyber_test_dummy_Y, PCA_pred_, labels = [0, 1])\n",
    "PCA_forest_cv = cross_val_score(PCA_forest, PCA_train_X, cyber_train_dummy_Y, cv = 5)\n",
    "PCA_forest_train_score = PCA_forest.score(PCA_train_X, cyber_train_dummy_Y)\n",
    "PCA_forest_test_score = PCA_forest.score(PCA_test_X, cyber_test_dummy_Y)"
   ]
  },
  {
   "cell_type": "code",
   "execution_count": 504,
   "metadata": {},
   "outputs": [
    {
     "name": "stdout",
     "output_type": "stream",
     "text": [
      "The training score is: 98.91%\n",
      "\n",
      "The mean cross-validation score is: 92.26% ±0.22%\n",
      "\n",
      "The cv scores are: \n",
      "[0.92391304 0.91898428 0.92382104 0.92493947 0.92130751]\n",
      "\n",
      "The test score is: 93.09%\n",
      "     0     1\n",
      "0  122   213\n",
      "1   72  3715\n",
      "False Positive (Type I Error): 213\n",
      "(63.58%)\n",
      "\n",
      "False Negative (Type II Error): 72\n",
      "(1.90%)\n",
      "\n"
     ]
    }
   ],
   "source": [
    "# Evaluation:\n",
    "    \n",
    "PCA_forest_confusion = confusion_matrix(cyber_test_dummy_Y, PCA_pred_, labels = [0, 1])\n",
    "PCA_forest_cv = cross_val_score(PCA_forest, PCA_train_X, cyber_train_dummy_Y, cv = 5)\n",
    "PCA_forest_train_score = PCA_forest.score(PCA_train_X, cyber_train_dummy_Y)\n",
    "PCA_forest_test_score = PCA_forest.score(PCA_test_X, cyber_test_dummy_Y)\n",
    "\n",
    "plusminus = u\"\\u00B1\"\n",
    "\n",
    "print(\"The training score is: {:.2%}\".format(PCA_forest_train_score))\n",
    "print(\"\\nThe mean cross-validation score is: {:.2%} {}{:.2%}\\n\".format(PCA_forest_cv.mean(),\n",
    "                                                                      plusminus, PCA_forest_cv.std()))\n",
    "print(\"The cv scores are: \\n{}\".format(PCA_forest_cv))\n",
    "print(\"\\nThe test score is: {:.2%}\".format(PCA_forest_test_score))\n",
    "\n",
    "conf_df = pd.DataFrame(PCA_forest_confusion)\n",
    "\n",
    "FP = conf_df.loc[0, 1]\n",
    "FN = conf_df.loc[1, 0]\n",
    "NegT = conf_df.iloc[0].sum()\n",
    "PosT = conf_df.iloc[1].sum()\n",
    "\n",
    "print(conf_df)\n",
    "\n",
    "print('False Positive (Type I Error): {}\\n({:.2%})\\n'.format(FP, (FP / NegT)))\n",
    "print('False Negative (Type II Error): {}\\n({:.2%})\\n'.format(FN, (FN / PosT)))\n"
   ]
  },
  {
   "cell_type": "markdown",
   "metadata": {},
   "source": [
    "#### Support Vector Classifier:"
   ]
  },
  {
   "cell_type": "markdown",
   "metadata": {},
   "source": [
    "##### KBest Features:"
   ]
  },
  {
   "cell_type": "code",
   "execution_count": 505,
   "metadata": {},
   "outputs": [],
   "source": [
    "from sklearn.svm import SVC"
   ]
  },
  {
   "cell_type": "code",
   "execution_count": 506,
   "metadata": {
    "scrolled": true
   },
   "outputs": [],
   "source": [
    "KBest_SVC = SVC()\n",
    "\n",
    "KBest_SVC = KBest_SVC.fit(KBest_train_X, cyber_train_dummy_Y)\n",
    "KBest_pred_ = KBest_SVC.predict(KBest_test_X)"
   ]
  },
  {
   "cell_type": "code",
   "execution_count": 507,
   "metadata": {},
   "outputs": [],
   "source": [
    "# Evaluation:\n",
    "    \n",
    "KBest_SVC_confusion = confusion_matrix(cyber_test_dummy_Y, KBest_pred_, labels = [0, 1])\n",
    "KBest_SVC_cv = cross_val_score(KBest_SVC, KBest_train_X, cyber_train_dummy_Y, cv = 5)\n",
    "KBest_SVC_train_score = KBest_SVC.score(KBest_train_X, cyber_train_dummy_Y)\n",
    "KBest_SVC_test_score = KBest_SVC.score(KBest_test_X, cyber_test_dummy_Y)"
   ]
  },
  {
   "cell_type": "code",
   "execution_count": 508,
   "metadata": {},
   "outputs": [
    {
     "name": "stdout",
     "output_type": "stream",
     "text": [
      "The training score is: 93.57%\n",
      "\n",
      "The mean cross-validation score is: 92.62% ±0.75%\n",
      "\n",
      "The cv scores are: \n",
      "[0.92753623 0.93228537 0.93591294 0.91767554 0.91767554]\n",
      "\n",
      "The test score is: 93.98%\n",
      "     0     1\n",
      "0  125   210\n",
      "1   38  3749\n",
      "False Positive (Type I Error): 210\n",
      "(62.69%)\n",
      "\n",
      "False Negative (Type II Error): 38\n",
      "(1.00%)\n",
      "\n"
     ]
    }
   ],
   "source": [
    "# Evaluation:\n",
    "    \n",
    "KBest_SVC_confusion = confusion_matrix(cyber_test_dummy_Y, KBest_pred_, labels = [0, 1])\n",
    "KBest_SVC_cv = cross_val_score(KBest_SVC, KBest_train_X, cyber_train_dummy_Y, cv = 5)\n",
    "KBest_SVC_train_score = KBest_SVC.score(KBest_train_X, cyber_train_dummy_Y)\n",
    "KBest_SVC_test_score = KBest_SVC.score(KBest_test_X, cyber_test_dummy_Y)\n",
    "\n",
    "plusminus = u\"\\u00B1\"\n",
    "\n",
    "print(\"The training score is: {:.2%}\".format(KBest_SVC_train_score))\n",
    "print(\"\\nThe mean cross-validation score is: {:.2%} {}{:.2%}\\n\".format(KBest_SVC_cv.mean(),\n",
    "                                                                      plusminus, KBest_SVC_cv.std()))\n",
    "print(\"The cv scores are: \\n{}\".format(KBest_SVC_cv))\n",
    "print(\"\\nThe test score is: {:.2%}\".format(KBest_SVC_test_score))\n",
    "\n",
    "conf_df = pd.DataFrame(KBest_SVC_confusion)\n",
    "\n",
    "FP = conf_df.loc[0, 1]\n",
    "FN = conf_df.loc[1, 0]\n",
    "NegT = conf_df.iloc[0].sum()\n",
    "PosT = conf_df.iloc[1].sum()\n",
    "\n",
    "print(conf_df)\n",
    "\n",
    "print('False Positive (Type I Error): {}\\n({:.2%})\\n'.format(FP, (FP / NegT)))\n",
    "print('False Negative (Type II Error): {}\\n({:.2%})\\n'.format(FN, (FN / PosT)))\n"
   ]
  },
  {
   "cell_type": "markdown",
   "metadata": {},
   "source": [
    "##### PCA Features"
   ]
  },
  {
   "cell_type": "code",
   "execution_count": 509,
   "metadata": {
    "scrolled": true
   },
   "outputs": [],
   "source": [
    "PCA_SVC = SVC()\n",
    "\n",
    "PCA_SVC = PCA_SVC.fit(PCA_train_X, cyber_train_dummy_Y)\n",
    "PCA_pred_ = PCA_SVC.predict(PCA_test_X)"
   ]
  },
  {
   "cell_type": "code",
   "execution_count": 510,
   "metadata": {},
   "outputs": [],
   "source": [
    "# Evaluation:\n",
    "    \n",
    "PCA_SVC_confusion = confusion_matrix(cyber_test_dummy_Y, PCA_pred_, labels = [0, 1])\n",
    "PCA_SVC_cv = cross_val_score(PCA_SVC, PCA_train_X, cyber_train_dummy_Y, cv = 5)\n",
    "PCA_SVC_train_score = PCA_SVC.score(PCA_train_X, cyber_train_dummy_Y)\n",
    "PCA_SVC_test_score = PCA_SVC.score(PCA_test_X, cyber_test_dummy_Y)"
   ]
  },
  {
   "cell_type": "code",
   "execution_count": 511,
   "metadata": {},
   "outputs": [
    {
     "name": "stdout",
     "output_type": "stream",
     "text": [
      "The training score is: 93.57%\n",
      "\n",
      "The mean cross-validation score is: 92.67% ±0.47%\n",
      "\n",
      "The cv scores are: \n",
      "[0.92753623 0.92986699 0.93107618 0.92736077 0.91767554]\n",
      "\n",
      "The test score is: 93.98%\n",
      "     0     1\n",
      "0  124   211\n",
      "1   37  3750\n",
      "False Positive (Type I Error): 211\n",
      "(62.99%)\n",
      "\n",
      "False Negative (Type II Error): 37\n",
      "(0.98%)\n",
      "\n"
     ]
    }
   ],
   "source": [
    "# Evaluation:\n",
    "    \n",
    "PCA_SVC_confusion = confusion_matrix(cyber_test_dummy_Y, PCA_pred_, labels = [0, 1])\n",
    "PCA_SVC_cv = cross_val_score(PCA_SVC, PCA_train_X, cyber_train_dummy_Y, cv = 5)\n",
    "PCA_SVC_train_score = PCA_SVC.score(PCA_train_X, cyber_train_dummy_Y)\n",
    "PCA_SVC_test_score = PCA_SVC.score(PCA_test_X, cyber_test_dummy_Y)\n",
    "\n",
    "plusminus = u\"\\u00B1\"\n",
    "\n",
    "print(\"The training score is: {:.2%}\".format(PCA_SVC_train_score))\n",
    "print(\"\\nThe mean cross-validation score is: {:.2%} {}{:.2%}\\n\".format(PCA_SVC_cv.mean(),\n",
    "                                                                      plusminus, PCA_SVC_cv.std()))\n",
    "print(\"The cv scores are: \\n{}\".format(PCA_SVC_cv))\n",
    "print(\"\\nThe test score is: {:.2%}\".format(PCA_SVC_test_score))\n",
    "\n",
    "conf_df = pd.DataFrame(PCA_SVC_confusion)\n",
    "\n",
    "FP = conf_df.loc[0, 1]\n",
    "FN = conf_df.loc[1, 0]\n",
    "NegT = conf_df.iloc[0].sum()\n",
    "PosT = conf_df.iloc[1].sum()\n",
    "\n",
    "print(conf_df)\n",
    "\n",
    "print('False Positive (Type I Error): {}\\n({:.2%})\\n'.format(FP, (FP / NegT)))\n",
    "print('False Negative (Type II Error): {}\\n({:.2%})\\n'.format(FN, (FN / PosT)))\n"
   ]
  },
  {
   "cell_type": "markdown",
   "metadata": {},
   "source": [
    "#### Gradient Boosting:"
   ]
  },
  {
   "cell_type": "markdown",
   "metadata": {},
   "source": [
    "##### KBest Features:"
   ]
  },
  {
   "cell_type": "code",
   "execution_count": 512,
   "metadata": {},
   "outputs": [],
   "source": [
    "from sklearn.ensemble import GradientBoostingClassifier"
   ]
  },
  {
   "cell_type": "code",
   "execution_count": 513,
   "metadata": {
    "scrolled": true
   },
   "outputs": [],
   "source": [
    "KBest_GBC = GradientBoostingClassifier()\n",
    "\n",
    "KBest_GBC = KBest_GBC.fit(KBest_train_X, cyber_train_dummy_Y)\n",
    "KBest_pred_ = KBest_GBC.predict(KBest_test_X)"
   ]
  },
  {
   "cell_type": "code",
   "execution_count": 514,
   "metadata": {},
   "outputs": [],
   "source": [
    "# Evaluation:\n",
    "    \n",
    "KBest_GBC_confusion = confusion_matrix(cyber_test_dummy_Y, KBest_pred_, labels = [0, 1])\n",
    "KBest_GBC_cv = cross_val_score(KBest_GBC, KBest_train_X, cyber_train_dummy_Y, cv = 5)\n",
    "KBest_GBC_train_score = KBest_GBC.score(KBest_train_X, cyber_train_dummy_Y)\n",
    "KBest_GBC_test_score = KBest_GBC.score(KBest_test_X, cyber_test_dummy_Y)"
   ]
  },
  {
   "cell_type": "code",
   "execution_count": 515,
   "metadata": {},
   "outputs": [
    {
     "name": "stdout",
     "output_type": "stream",
     "text": [
      "The training score is: 94.68%\n",
      "\n",
      "The mean cross-validation score is: 93.61% ±0.48%\n",
      "\n",
      "The cv scores are: \n",
      "[0.92874396 0.93349456 0.93591294 0.94067797 0.94188862]\n",
      "\n",
      "The test score is: 93.93%\n",
      "     0     1\n",
      "0  137   198\n",
      "1   52  3735\n",
      "False Positive (Type I Error): 198\n",
      "(59.10%)\n",
      "\n",
      "False Negative (Type II Error): 52\n",
      "(1.37%)\n",
      "\n"
     ]
    }
   ],
   "source": [
    "# Evaluation:\n",
    "    \n",
    "KBest_GBC_confusion = confusion_matrix(cyber_test_dummy_Y, KBest_pred_, labels = [0, 1])\n",
    "KBest_GBC_cv = cross_val_score(KBest_GBC, KBest_train_X, cyber_train_dummy_Y, cv = 5)\n",
    "KBest_GBC_train_score = KBest_GBC.score(KBest_train_X, cyber_train_dummy_Y)\n",
    "KBest_GBC_test_score = KBest_GBC.score(KBest_test_X, cyber_test_dummy_Y)\n",
    "\n",
    "plusminus = u\"\\u00B1\"\n",
    "\n",
    "print(\"The training score is: {:.2%}\".format(KBest_GBC_train_score))\n",
    "print(\"\\nThe mean cross-validation score is: {:.2%} {}{:.2%}\\n\".format(KBest_GBC_cv.mean(),\n",
    "                                                                      plusminus, KBest_GBC_cv.std()))\n",
    "print(\"The cv scores are: \\n{}\".format(KBest_GBC_cv))\n",
    "print(\"\\nThe test score is: {:.2%}\".format(KBest_GBC_test_score))\n",
    "\n",
    "conf_df = pd.DataFrame(KBest_GBC_confusion)\n",
    "\n",
    "FP = conf_df.loc[0, 1]\n",
    "FN = conf_df.loc[1, 0]\n",
    "NegT = conf_df.iloc[0].sum()\n",
    "PosT = conf_df.iloc[1].sum()\n",
    "\n",
    "print(conf_df)\n",
    "\n",
    "print('False Positive (Type I Error): {}\\n({:.2%})\\n'.format(FP, (FP / NegT)))\n",
    "print('False Negative (Type II Error): {}\\n({:.2%})\\n'.format(FN, (FN / PosT)))\n"
   ]
  },
  {
   "cell_type": "markdown",
   "metadata": {},
   "source": [
    "##### PCA Features"
   ]
  },
  {
   "cell_type": "code",
   "execution_count": 516,
   "metadata": {
    "scrolled": true
   },
   "outputs": [],
   "source": [
    "PCA_GBC = GradientBoostingClassifier()\n",
    "\n",
    "PCA_GBC = PCA_GBC.fit(PCA_train_X, cyber_train_dummy_Y)\n",
    "PCA_pred_ = PCA_GBC.predict(PCA_test_X)"
   ]
  },
  {
   "cell_type": "code",
   "execution_count": 517,
   "metadata": {},
   "outputs": [],
   "source": [
    "# Evaluation:\n",
    "    \n",
    "PCA_GBC_confusion = confusion_matrix(cyber_test_dummy_Y, PCA_pred_, labels = [0, 1])\n",
    "PCA_GBC_cv = cross_val_score(PCA_GBC, PCA_train_X, cyber_train_dummy_Y, cv = 5)\n",
    "PCA_GBC_train_score = PCA_GBC.score(PCA_train_X, cyber_train_dummy_Y)\n",
    "PCA_GBC_test_score = PCA_GBC.score(PCA_test_X, cyber_test_dummy_Y)"
   ]
  },
  {
   "cell_type": "code",
   "execution_count": 518,
   "metadata": {},
   "outputs": [
    {
     "name": "stdout",
     "output_type": "stream",
     "text": [
      "The training score is: 95.45%\n",
      "\n",
      "The mean cross-validation score is: 93.01% ±0.35%\n",
      "\n",
      "The cv scores are: \n",
      "[0.92391304 0.92986699 0.92986699 0.93341404 0.93341404]\n",
      "\n",
      "The test score is: 93.55%\n",
      "     0     1\n",
      "0  119   216\n",
      "1   50  3737\n",
      "False Positive (Type I Error): 216\n",
      "(64.48%)\n",
      "\n",
      "False Negative (Type II Error): 50\n",
      "(1.32%)\n",
      "\n"
     ]
    }
   ],
   "source": [
    "# Evaluation:\n",
    "    \n",
    "PCA_GBC_confusion = confusion_matrix(cyber_test_dummy_Y, PCA_pred_, labels = [0, 1])\n",
    "PCA_GBC_cv = cross_val_score(PCA_GBC, PCA_train_X, cyber_train_dummy_Y, cv = 5)\n",
    "PCA_GBC_train_score = PCA_GBC.score(PCA_train_X, cyber_train_dummy_Y)\n",
    "PCA_GBC_test_score = PCA_GBC.score(PCA_test_X, cyber_test_dummy_Y)\n",
    "\n",
    "plusminus = u\"\\u00B1\"\n",
    "\n",
    "print(\"The training score is: {:.2%}\".format(PCA_GBC_train_score))\n",
    "print(\"\\nThe mean cross-validation score is: {:.2%} {}{:.2%}\\n\".format(PCA_GBC_cv.mean(),\n",
    "                                                                      plusminus, PCA_GBC_cv.std()))\n",
    "print(\"The cv scores are: \\n{}\".format(PCA_GBC_cv))\n",
    "print(\"\\nThe test score is: {:.2%}\".format(PCA_GBC_test_score))\n",
    "\n",
    "conf_df = pd.DataFrame(PCA_GBC_confusion)\n",
    "\n",
    "FP = conf_df.loc[0, 1]\n",
    "FN = conf_df.loc[1, 0]\n",
    "NegT = conf_df.iloc[0].sum()\n",
    "PosT = conf_df.iloc[1].sum()\n",
    "\n",
    "print(conf_df)\n",
    "\n",
    "print('False Positive (Type I Error): {}\\n({:.2%})\\n'.format(FP, (FP / NegT)))\n",
    "print('False Negative (Type II Error): {}\\n({:.2%})\\n'.format(FN, (FN / PosT)))\n"
   ]
  },
  {
   "cell_type": "markdown",
   "metadata": {},
   "source": [
    "#### Summary of First Models:"
   ]
  },
  {
   "cell_type": "markdown",
   "metadata": {},
   "source": [
    "> Based on these preliminary results, it looks like our best models are the Random Forest and Gradient Booster.  We will focus on those moving forward. The main thing that needs to be focused on moving forward is the accuracy regarding our negative predictions.  \n",
    "    \n",
    "> With out KBest and PCA feature selections set to select the top 30 rows, the best we were able to get was a 57% negative prediction accuracy.  Next, we will try increasing the number of selected rows as well as adding to our classifications in our filtered text columns.\n",
    "    "
   ]
  },
  {
   "cell_type": "code",
   "execution_count": null,
   "metadata": {},
   "outputs": [],
   "source": []
  },
  {
   "cell_type": "code",
   "execution_count": null,
   "metadata": {},
   "outputs": [],
   "source": []
  },
  {
   "cell_type": "code",
   "execution_count": null,
   "metadata": {},
   "outputs": [],
   "source": []
  },
  {
   "cell_type": "code",
   "execution_count": null,
   "metadata": {},
   "outputs": [],
   "source": []
  },
  {
   "cell_type": "code",
   "execution_count": null,
   "metadata": {},
   "outputs": [],
   "source": []
  },
  {
   "cell_type": "code",
   "execution_count": null,
   "metadata": {},
   "outputs": [],
   "source": []
  },
  {
   "cell_type": "code",
   "execution_count": null,
   "metadata": {},
   "outputs": [],
   "source": []
  },
  {
   "cell_type": "code",
   "execution_count": null,
   "metadata": {},
   "outputs": [],
   "source": []
  },
  {
   "cell_type": "code",
   "execution_count": null,
   "metadata": {},
   "outputs": [],
   "source": []
  },
  {
   "cell_type": "code",
   "execution_count": null,
   "metadata": {},
   "outputs": [],
   "source": []
  },
  {
   "cell_type": "code",
   "execution_count": null,
   "metadata": {},
   "outputs": [],
   "source": []
  },
  {
   "cell_type": "code",
   "execution_count": null,
   "metadata": {},
   "outputs": [],
   "source": []
  }
 ],
 "metadata": {
  "kernelspec": {
   "display_name": "Python 3",
   "language": "python",
   "name": "python3"
  },
  "language_info": {
   "codemirror_mode": {
    "name": "ipython",
    "version": 3
   },
   "file_extension": ".py",
   "mimetype": "text/x-python",
   "name": "python",
   "nbconvert_exporter": "python",
   "pygments_lexer": "ipython3",
   "version": "3.7.0"
  },
  "toc": {
   "base_numbering": 1,
   "nav_menu": {},
   "number_sections": false,
   "sideBar": true,
   "skip_h1_title": false,
   "title_cell": "Table of Contents",
   "title_sidebar": "Contents",
   "toc_cell": false,
   "toc_position": {},
   "toc_section_display": true,
   "toc_window_display": true
  }
 },
 "nbformat": 4,
 "nbformat_minor": 2
}
