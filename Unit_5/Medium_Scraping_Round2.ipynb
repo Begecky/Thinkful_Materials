{
 "cells": [
  {
   "cell_type": "code",
   "execution_count": 1,
   "metadata": {},
   "outputs": [],
   "source": [
    "from selenium import webdriver\n",
    "from selenium.webdriver.common.keys import Keys\n",
    "import pandas as pd\n",
    "import requests\n",
    "from requests.adapters import HTTPAdapter\n",
    "from requests.packages.urllib3.util.retry import Retry\n",
    "from bs4 import BeautifulSoup, UnicodeDammit, SoupStrainer\n",
    "import re\n",
    "import os\n",
    "import time"
   ]
  },
  {
   "cell_type": "code",
   "execution_count": 2,
   "metadata": {},
   "outputs": [],
   "source": [
    "url = 'https://medium.com/search?q=Data%20science%20and%20literature'"
   ]
  },
  {
   "cell_type": "code",
   "execution_count": 29,
   "metadata": {},
   "outputs": [],
   "source": [
    "driver = webdriver.Chrome('/Applications/chromedriver') \n",
    "driver.implicitly_wait(10)\n",
    "driver.get(url)"
   ]
  },
  {
   "cell_type": "code",
   "execution_count": 30,
   "metadata": {},
   "outputs": [
    {
     "name": "stdout",
     "output_type": "stream",
     "text": [
      "I am finally done\n"
     ]
    }
   ],
   "source": [
    "x = True\n",
    "\n",
    "while x == True:\n",
    "    \n",
    "    #Getting our start position:\n",
    "    start_height = driver.execute_script('return document.body.scrollHeight')\n",
    "    \n",
    "    #Scrolling to the end of it:\n",
    "    driver.execute_script('window.scrollTo(0, document.body.scrollHeight)')\n",
    "    \n",
    "    #Letting it load:\n",
    "    time.sleep(5)\n",
    "    \n",
    "    #Getting our end position:\n",
    "    end_height = driver.execute_script('return document.body.scrollHeight')\n",
    "    \n",
    "    if end_height == start_height:\n",
    "        \n",
    "        x = False\n",
    "        print('I am finally done')\n",
    "    \n",
    "    start_height = end_height\n",
    "    "
   ]
  },
  {
   "cell_type": "code",
   "execution_count": 31,
   "metadata": {},
   "outputs": [],
   "source": [
    "titles = []\n",
    "authors = []\n",
    "dates = []\n",
    "contents = {}\n",
    "\n",
    "counter = 0"
   ]
  },
  {
   "cell_type": "code",
   "execution_count": 35,
   "metadata": {},
   "outputs": [],
   "source": [
    "driver.find_element_by_class_name('js-postListHandle')\n",
    "\n",
    "first_bowl = BeautifulSoup(driver.page_source, 'lxml')\n",
    "\n",
    "for element in first_bowl.find_all('js-block'):\n",
    "\n",
    "    driver.find_element_by_class_name('postArticle-content')\n",
    "    \n",
    "    post = driver.find_element_by_tag_name('a')\n",
    "    post.click()\n",
    "    \n",
    "    time.sleep(7)\n",
    "    \n",
    "    second_bowl = BeautifulSoup(driver.page_source, 'lxml')\n",
    "\n",
    "    titles.append(second_bowl.find_all('title'))\n",
    "\n",
    "    author_locator = driver.find_element_by_class_name('u-paddingBottom3')\n",
    "    authors.append(author_locator.find_element_by_tag_name('a').text)\n",
    "    \n",
    "    dates.append(second_bowl.find_all('time'))\n",
    "    \n",
    "    driver.execute_script('window.history.go(-1)')\n",
    "    time.sleep(7)\n",
    "    \n",
    "    driver.find_elements_by_class_name('js-postListHandle')\n",
    "    \n",
    "    first_bowl = BeautifulSoup(driver.page_source, 'lxml')\n",
    "    counter += 1\n",
    "    \n",
    "    \n",
    "    "
   ]
  },
  {
   "cell_type": "code",
   "execution_count": 33,
   "metadata": {},
   "outputs": [
    {
     "data": {
      "text/plain": [
       "[]"
      ]
     },
     "execution_count": 33,
     "metadata": {},
     "output_type": "execute_result"
    }
   ],
   "source": []
  },
  {
   "cell_type": "code",
   "execution_count": null,
   "metadata": {},
   "outputs": [],
   "source": [
    "second_bowl = \n",
    "    \n",
    "    driver.find_element_by_class_name('section-inner')\n",
    "    \n",
    "    sents = soups.find_all('p')\n",
    "    \n",
    "    for x in sents:\n",
    "        contents.update({titles[counter]:x})\n",
    "        \n",
    "    counter += 1\n",
    "    \n",
    "    "
   ]
  },
  {
   "cell_type": "code",
   "execution_count": null,
   "metadata": {},
   "outputs": [],
   "source": [
    "soups2 = BeautifulSoup(driver.page_source, 'lxml')"
   ]
  },
  {
   "cell_type": "code",
   "execution_count": null,
   "metadata": {},
   "outputs": [],
   "source": [
    "paras = driver.find_elements_by_tag_name('p')"
   ]
  },
  {
   "cell_type": "code",
   "execution_count": null,
   "metadata": {},
   "outputs": [],
   "source": []
  },
  {
   "cell_type": "code",
   "execution_count": null,
   "metadata": {},
   "outputs": [],
   "source": []
  },
  {
   "cell_type": "code",
   "execution_count": null,
   "metadata": {},
   "outputs": [],
   "source": []
  },
  {
   "cell_type": "code",
   "execution_count": null,
   "metadata": {},
   "outputs": [],
   "source": []
  },
  {
   "cell_type": "code",
   "execution_count": null,
   "metadata": {},
   "outputs": [],
   "source": []
  },
  {
   "cell_type": "code",
   "execution_count": null,
   "metadata": {},
   "outputs": [],
   "source": [
    "snip = paras[0].text\n",
    "\n",
    "snip = snip.encode('ascii', 'ignore').decode('ascii')"
   ]
  },
  {
   "cell_type": "code",
   "execution_count": null,
   "metadata": {},
   "outputs": [],
   "source": [
    "snip2 = paras[1].text"
   ]
  },
  {
   "cell_type": "code",
   "execution_count": null,
   "metadata": {},
   "outputs": [],
   "source": [
    "snip2 = snip2.encode('ascii', 'ignore').decode('ascii')"
   ]
  },
  {
   "cell_type": "code",
   "execution_count": null,
   "metadata": {},
   "outputs": [],
   "source": [
    "beta = ' '.join([snip, snip2])"
   ]
  },
  {
   "cell_type": "code",
   "execution_count": null,
   "metadata": {
    "scrolled": true
   },
   "outputs": [],
   "source": [
    "re.sub(r'([\\r\\n]*)', '', beta)"
   ]
  },
  {
   "cell_type": "code",
   "execution_count": null,
   "metadata": {},
   "outputs": [],
   "source": []
  },
  {
   "cell_type": "code",
   "execution_count": null,
   "metadata": {},
   "outputs": [],
   "source": [
    "# We have selenium navigate to the individual result page:\n",
    "link = x.find_element_by_tag_name('a')\n",
    "article = link.click()\n",
    "    \n",
    "# We get the author and save it to a variable:\n",
    "    \n",
    "# We get the time and save it to a variable:\n",
    "datetime = driver.find_element_by_tag_name('time')\n",
    "    \n",
    "# We get the contents and save it to a list for unit testing:\n"
   ]
  },
  {
   "cell_type": "code",
   "execution_count": null,
   "metadata": {},
   "outputs": [],
   "source": []
  },
  {
   "cell_type": "code",
   "execution_count": null,
   "metadata": {},
   "outputs": [],
   "source": []
  },
  {
   "cell_type": "code",
   "execution_count": null,
   "metadata": {},
   "outputs": [],
   "source": []
  },
  {
   "cell_type": "code",
   "execution_count": null,
   "metadata": {},
   "outputs": [],
   "source": []
  },
  {
   "cell_type": "code",
   "execution_count": null,
   "metadata": {},
   "outputs": [],
   "source": []
  },
  {
   "cell_type": "code",
   "execution_count": null,
   "metadata": {},
   "outputs": [],
   "source": []
  },
  {
   "cell_type": "code",
   "execution_count": null,
   "metadata": {},
   "outputs": [],
   "source": []
  },
  {
   "cell_type": "code",
   "execution_count": null,
   "metadata": {},
   "outputs": [],
   "source": []
  },
  {
   "cell_type": "code",
   "execution_count": null,
   "metadata": {},
   "outputs": [],
   "source": []
  },
  {
   "cell_type": "code",
   "execution_count": null,
   "metadata": {},
   "outputs": [],
   "source": []
  },
  {
   "cell_type": "code",
   "execution_count": null,
   "metadata": {},
   "outputs": [],
   "source": []
  },
  {
   "cell_type": "code",
   "execution_count": null,
   "metadata": {},
   "outputs": [],
   "source": []
  },
  {
   "cell_type": "code",
   "execution_count": null,
   "metadata": {},
   "outputs": [],
   "source": []
  },
  {
   "cell_type": "code",
   "execution_count": null,
   "metadata": {},
   "outputs": [],
   "source": []
  },
  {
   "cell_type": "code",
   "execution_count": null,
   "metadata": {},
   "outputs": [],
   "source": []
  },
  {
   "cell_type": "code",
   "execution_count": null,
   "metadata": {},
   "outputs": [],
   "source": []
  },
  {
   "cell_type": "code",
   "execution_count": null,
   "metadata": {},
   "outputs": [],
   "source": []
  },
  {
   "cell_type": "code",
   "execution_count": null,
   "metadata": {},
   "outputs": [],
   "source": []
  },
  {
   "cell_type": "code",
   "execution_count": null,
   "metadata": {},
   "outputs": [],
   "source": [
    "soups.find_all('title') "
   ]
  },
  {
   "cell_type": "code",
   "execution_count": null,
   "metadata": {},
   "outputs": [],
   "source": []
  },
  {
   "cell_type": "code",
   "execution_count": null,
   "metadata": {},
   "outputs": [],
   "source": []
  },
  {
   "cell_type": "markdown",
   "metadata": {},
   "source": [
    "__[executing javascript in the webdriver](https://www.edureka.co/community/33419/how-to-scroll-down-a-webpage-in-selenium-using-java)__\n",
    "\n",
    "__[the golden egg](https://stackoverflow.com/questions/48850974/selenium-scroll-to-end-of-page-indynamically-loading-webpage/48851166)__\n",
    "\n",
    "__[codecs yo](https://stackoverflow.com/questions/30270607/how-to-clean-up-string-characters-and-ensure-no-unicode-ascii-errors-occur-in-py)__\n",
    "\n",
    "__[more on the executing of the javascript](https://stackoverflow.com/questions/21753130/scrolling-down-a-page-with-selenium-webdriver)__\n",
    "\n",
    "__[bs docs](https://www.crummy.com/software/BeautifulSoup/bs4/doc/#)__\n",
    "\n",
    "__[secondary bs docs](https://www.toolsqa.com/selenium-webdriver/webelement-commands/)__\n",
    "\n",
    "__[Tutorial #1 - Awesome](https://towardsdatascience.com/web-scraping-using-selenium-python-8a60f4cf40ab)__\n",
    "\n",
    "__[Tutorial #2 - Also Awesome](https://medium.freecodecamp.org/better-web-scraping-in-python-with-selenium-beautiful-soup-and-pandas-d6390592e251)__\n",
    "\n",
    "__[matching new lines](https://stackoverflow.com/questions/20056306/match-linebreaks-n-or-r-n)__"
   ]
  },
  {
   "cell_type": "code",
   "execution_count": null,
   "metadata": {},
   "outputs": [],
   "source": []
  }
 ],
 "metadata": {
  "kernelspec": {
   "display_name": "Python 3",
   "language": "python",
   "name": "python3"
  },
  "language_info": {
   "codemirror_mode": {
    "name": "ipython",
    "version": 3
   },
   "file_extension": ".py",
   "mimetype": "text/x-python",
   "name": "python",
   "nbconvert_exporter": "python",
   "pygments_lexer": "ipython3",
   "version": "3.7.1"
  },
  "toc": {
   "base_numbering": 1,
   "nav_menu": {},
   "number_sections": false,
   "sideBar": true,
   "skip_h1_title": false,
   "title_cell": "Table of Contents",
   "title_sidebar": "Contents",
   "toc_cell": false,
   "toc_position": {},
   "toc_section_display": true,
   "toc_window_display": false
  },
  "varInspector": {
   "cols": {
    "lenName": 16,
    "lenType": 16,
    "lenVar": 40
   },
   "kernels_config": {
    "python": {
     "delete_cmd_postfix": "",
     "delete_cmd_prefix": "del ",
     "library": "var_list.py",
     "varRefreshCmd": "print(var_dic_list())"
    },
    "r": {
     "delete_cmd_postfix": ") ",
     "delete_cmd_prefix": "rm(",
     "library": "var_list.r",
     "varRefreshCmd": "cat(var_dic_list()) "
    }
   },
   "types_to_exclude": [
    "module",
    "function",
    "builtin_function_or_method",
    "instance",
    "_Feature"
   ],
   "window_display": false
  }
 },
 "nbformat": 4,
 "nbformat_minor": 2
}
