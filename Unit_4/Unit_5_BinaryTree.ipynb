{
 "cells": [
  {
   "cell_type": "code",
   "execution_count": 1,
   "metadata": {},
   "outputs": [],
   "source": [
    "import numpy as np\n",
    "import numpy.random as rm\n",
    "import pandas as pd"
   ]
  },
  {
   "cell_type": "code",
   "execution_count": 2,
   "metadata": {},
   "outputs": [],
   "source": [
    "#Making the node class:\n",
    "\n",
    "class Node:\n",
    "    \n",
    "    def __init__(self, data, left = None, right = None):\n",
    "        self.data = data\n",
    "        self.left = left\n",
    "        self.right = right\n",
    "        "
   ]
  },
  {
   "cell_type": "code",
   "execution_count": 3,
   "metadata": {},
   "outputs": [],
   "source": [
    "#Creating the tree:\n",
    "\n",
    "node14 = Node(14)\n",
    "node13 = Node(13)\n",
    "node12 = Node(12)\n",
    "node11 = Node(11)\n",
    "node10 = Node(10)\n",
    "node9 = Node(9)\n",
    "node8 = Node(8)\n",
    "node7 = Node(7)\n",
    "node6 = Node(6, node13, node14)\n",
    "node5 = Node(5, node11, node12)\n",
    "node4 = Node(4, node9, node10)\n",
    "node3 = Node(3, node7, node8)\n",
    "node2 = Node(2, node5, node6)\n",
    "node1 = Node(1, node3, node4)\n",
    "node0 = Node(0, node1, node2)"
   ]
  },
  {
   "cell_type": "code",
   "execution_count": 4,
   "metadata": {},
   "outputs": [],
   "source": [
    "#Defining the root node:\n",
    "\n",
    "root_node = node0"
   ]
  },
  {
   "cell_type": "code",
   "execution_count": 5,
   "metadata": {},
   "outputs": [],
   "source": [
    "def traversal(root_node):\n",
    "    \n",
    "    this_level = [root_node]      #Puts the root node at a starting level.\n",
    "    \n",
    "    while len(this_level) > 0:    #Limiting our iterations by the length of the level.\n",
    "        \n",
    "        next_level = list()       #Creating our secondary level.\n",
    "        \n",
    "        for x in this_level:      #Iterating through current level and assigning our next nodes to the next level.\n",
    "            \n",
    "            print(x.data)         #Printing the curren't node's data first.\n",
    "            \n",
    "            if x.left != None:    #We can have two options: the left node has a value.\n",
    "                next_level.append(x.left)\n",
    "                \n",
    "                if x.right != None: \n",
    "                    next_level.append(x.right)\n",
    "                \n",
    "            if x.left == None:    #Or the left node is None. In each case, we only append the right node if it has value.\n",
    "                if x.right != None:   #This is what limits the length of our list for iteration.\n",
    "                    next_level.append(x.right)\n",
    "\n",
    "            this_level = next_level  #This moves us to the next level\n",
    "            "
   ]
  },
  {
   "cell_type": "code",
   "execution_count": 6,
   "metadata": {},
   "outputs": [
    {
     "name": "stdout",
     "output_type": "stream",
     "text": [
      "0\n",
      "1\n",
      "2\n",
      "3\n",
      "4\n",
      "5\n",
      "6\n",
      "7\n",
      "8\n",
      "9\n",
      "10\n",
      "11\n",
      "12\n",
      "13\n",
      "14\n"
     ]
    }
   ],
   "source": [
    "traversal(root_node) #Here are the values of our node-tree. All in Breadth First Order!"
   ]
  },
  {
   "cell_type": "code",
   "execution_count": null,
   "metadata": {},
   "outputs": [],
   "source": []
  }
 ],
 "metadata": {
  "kernelspec": {
   "display_name": "Python 3",
   "language": "python",
   "name": "python3"
  },
  "language_info": {
   "codemirror_mode": {
    "name": "ipython",
    "version": 3
   },
   "file_extension": ".py",
   "mimetype": "text/x-python",
   "name": "python",
   "nbconvert_exporter": "python",
   "pygments_lexer": "ipython3",
   "version": "3.7.1"
  },
  "toc": {
   "base_numbering": 1,
   "nav_menu": {},
   "number_sections": false,
   "sideBar": true,
   "skip_h1_title": false,
   "title_cell": "Table of Contents",
   "title_sidebar": "Contents",
   "toc_cell": false,
   "toc_position": {},
   "toc_section_display": true,
   "toc_window_display": false
  },
  "varInspector": {
   "cols": {
    "lenName": 16,
    "lenType": 16,
    "lenVar": 40
   },
   "kernels_config": {
    "python": {
     "delete_cmd_postfix": "",
     "delete_cmd_prefix": "del ",
     "library": "var_list.py",
     "varRefreshCmd": "print(var_dic_list())"
    },
    "r": {
     "delete_cmd_postfix": ") ",
     "delete_cmd_prefix": "rm(",
     "library": "var_list.r",
     "varRefreshCmd": "cat(var_dic_list()) "
    }
   },
   "types_to_exclude": [
    "module",
    "function",
    "builtin_function_or_method",
    "instance",
    "_Feature"
   ],
   "window_display": false
  }
 },
 "nbformat": 4,
 "nbformat_minor": 2
}
