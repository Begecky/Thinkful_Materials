{
 "cells": [
  {
   "cell_type": "code",
   "execution_count": 1,
   "metadata": {},
   "outputs": [],
   "source": [
    "import time\n",
    "import random\n",
    "import math as m"
   ]
  },
  {
   "cell_type": "markdown",
   "metadata": {},
   "source": [
    "#### The Values:"
   ]
  },
  {
   "cell_type": "code",
   "execution_count": 2,
   "metadata": {},
   "outputs": [],
   "source": [
    "random.seed(a = 100)"
   ]
  },
  {
   "cell_type": "code",
   "execution_count": 3,
   "metadata": {},
   "outputs": [],
   "source": [
    "short_list = list(random.sample(range(1000000), 10))\n",
    "long_list = list(random.sample(range(1000000), 10))\n",
    "\n",
    "# This is what we'll work with to start:\n",
    "trial_values = list(range(10, 25, 1))  # Node values"
   ]
  },
  {
   "cell_type": "markdown",
   "metadata": {},
   "source": [
    "#### The Functions:"
   ]
  },
  {
   "cell_type": "code",
   "execution_count": 4,
   "metadata": {},
   "outputs": [],
   "source": [
    "# This creates our nodes:\n",
    "\n",
    "class Node(object):\n",
    "    def __init__(self, data, \n",
    "                 parent = None,  \n",
    "                 left = None, \n",
    "                 right = None):\n",
    "        self.data = data\n",
    "        self.parent = parent\n",
    "        self.left = left\n",
    "        self.right = right"
   ]
  },
  {
   "cell_type": "code",
   "execution_count": 5,
   "metadata": {},
   "outputs": [],
   "source": [
    "class Tree(object):\n",
    "    \n",
    "    def __init__(self,\n",
    "                 node_values = list(),\n",
    "                 noded_list = list(),\n",
    "                 node_count = None,\n",
    "                 level_count = None):\n",
    "        self.node_values = node_values\n",
    "        self.noded_list = noded_list\n",
    "        self.node_count = len(node_values)\n",
    "        self.level_count = level_count\n",
    "        \n",
    "\n",
    "    def Branch_Levels(self):\n",
    "        \n",
    "        beta = self.node_count / 2\n",
    "        \n",
    "        delta_real = m.log(beta, 2)\n",
    "        delta_int = int(m.log(beta, 2))\n",
    "        \n",
    "        self.level_count = delta_int\n",
    "        \n",
    "        if delta_real > delta_int:\n",
    "            self.level_count += 1\n",
    "            \n",
    "        return self.level_count\n",
    "\n",
    "    def Node_Fill(self):\n",
    "    \n",
    "        for x in self.node_values:\n",
    "        \n",
    "            node = Node(data = x)\n",
    "            self.noded_list.append(node)\n",
    "            \n",
    "    def Family_Time(self):\n",
    "    \n",
    "        for node in self.noded_list:\n",
    "    \n",
    "            beta = self.noded_list.index(node)\n",
    "            left = int((beta*2)+1)\n",
    "            right = int((beta*2)+2)\n",
    "    \n",
    "            if beta == 0:\n",
    "                node.parent = None\n",
    "                node.left = self.noded_list[left]\n",
    "                node.right = self.noded_list[right]\n",
    "    \n",
    "            elif right in range(0, self.node_count, 1):\n",
    "                node.parent = self.noded_list[int(beta / 2)]\n",
    "                node.left = self.noded_list[left]\n",
    "                node.right = self.noded_list[right]\n",
    "            \n",
    "                if node.parent.data > node.data:\n",
    "                    alpha = node.data\n",
    "                    beta = node.parent.data\n",
    "                \n",
    "                    node.parent.data = alpha\n",
    "                    node.data = beta\n",
    "                \n",
    "            else:\n",
    "                node.parent = self.noded_list[int(beta / 2)]\n",
    "                node.left = None\n",
    "                node.right = None\n",
    "            \n",
    "            if (node.right != None) and (node.left.data > node.right.data):\n",
    "                alpha = node.left.data\n",
    "                beta = node.right.data\n",
    "                node.left.data = beta\n",
    "                node.right.data = alpha\n",
    "         \n",
    "        return self.noded_list"
   ]
  },
  {
   "cell_type": "markdown",
   "metadata": {},
   "source": [
    "#### Tree1:"
   ]
  },
  {
   "cell_type": "code",
   "execution_count": 6,
   "metadata": {},
   "outputs": [],
   "source": [
    "Tree1 = Tree(node_values = trial_values)"
   ]
  },
  {
   "cell_type": "code",
   "execution_count": 7,
   "metadata": {},
   "outputs": [
    {
     "data": {
      "text/plain": [
       "[<__main__.Node at 0x1078f3438>,\n",
       " <__main__.Node at 0x1078f34e0>,\n",
       " <__main__.Node at 0x1078f3470>,\n",
       " <__main__.Node at 0x1078f32e8>,\n",
       " <__main__.Node at 0x1078f3358>,\n",
       " <__main__.Node at 0x1078f3278>,\n",
       " <__main__.Node at 0x1078f3048>,\n",
       " <__main__.Node at 0x1078f3240>,\n",
       " <__main__.Node at 0x1078f3518>,\n",
       " <__main__.Node at 0x1078f35f8>,\n",
       " <__main__.Node at 0x1078f3b00>,\n",
       " <__main__.Node at 0x1078f32b0>,\n",
       " <__main__.Node at 0x1078f3390>,\n",
       " <__main__.Node at 0x1078f3320>,\n",
       " <__main__.Node at 0x1078f3b38>]"
      ]
     },
     "execution_count": 7,
     "metadata": {},
     "output_type": "execute_result"
    }
   ],
   "source": [
    "Tree1.Branch_Levels()\n",
    "\n",
    "Tree1.Node_Fill()\n",
    "\n",
    "Tree1.Family_Time()"
   ]
  },
  {
   "cell_type": "code",
   "execution_count": 8,
   "metadata": {},
   "outputs": [
    {
     "name": "stdout",
     "output_type": "stream",
     "text": [
      "--- 8.916854858398438e-05 seconds ---\n"
     ]
    }
   ],
   "source": [
    "start_time = time.time()\n",
    "\n",
    "Tree1.Family_Time()\n",
    "\n",
    "print(\"--- %s seconds ---\" % (time.time() - start_time))"
   ]
  },
  {
   "cell_type": "markdown",
   "metadata": {},
   "source": [
    "#### Tree2:"
   ]
  },
  {
   "cell_type": "code",
   "execution_count": 9,
   "metadata": {},
   "outputs": [],
   "source": [
    "Tree2 = Tree(node_values = short_list, noded_list = list())"
   ]
  },
  {
   "cell_type": "code",
   "execution_count": 10,
   "metadata": {},
   "outputs": [],
   "source": [
    "Tree2.Branch_Levels()\n",
    "\n",
    "Tree2.Node_Fill()      "
   ]
  },
  {
   "cell_type": "code",
   "execution_count": 11,
   "metadata": {},
   "outputs": [
    {
     "name": "stdout",
     "output_type": "stream",
     "text": [
      "--- 9.202957153320312e-05 seconds ---\n",
      "0: 152745\n",
      "1: 477025\n",
      "2: 481850\n",
      "3: 808225\n",
      "4: 997948\n",
      "5: 183236\n",
      "6: 739784\n",
      "7: 412125\n",
      "8: 767514\n",
      "9: 366725\n"
     ]
    }
   ],
   "source": [
    "start_time = time.time()\n",
    "\n",
    "Tree2.Family_Time()\n",
    "\n",
    "print(\"--- %s seconds ---\" % (time.time() - start_time))\n",
    "\n",
    "for node in Tree2.noded_list:\n",
    "    print(\"{}: {}\".format(Tree2.noded_list.index(node), node.data))"
   ]
  },
  {
   "cell_type": "markdown",
   "metadata": {},
   "source": [
    "#### Tree3:"
   ]
  },
  {
   "cell_type": "code",
   "execution_count": 12,
   "metadata": {},
   "outputs": [],
   "source": [
    "Tree3 = Tree(node_values = long_list, noded_list = list())"
   ]
  },
  {
   "cell_type": "code",
   "execution_count": 13,
   "metadata": {},
   "outputs": [],
   "source": [
    "Tree3.Branch_Levels()\n",
    "\n",
    "Tree3.Node_Fill()   "
   ]
  },
  {
   "cell_type": "code",
   "execution_count": 14,
   "metadata": {},
   "outputs": [
    {
     "name": "stdout",
     "output_type": "stream",
     "text": [
      "--- 9.608268737792969e-05 seconds ---\n",
      "0: 454572\n",
      "1: 115311\n",
      "2: 838882\n",
      "3: 531486\n",
      "4: 558787\n",
      "5: 84047\n",
      "6: 127204\n",
      "7: 478093\n",
      "8: 772497\n",
      "9: 276212\n"
     ]
    }
   ],
   "source": [
    "start_time = time.time()\n",
    "\n",
    "Tree3.Family_Time()\n",
    "\n",
    "print(\"--- %s seconds ---\" % (time.time() - start_time))\n",
    "\n",
    "for node in Tree3.noded_list:\n",
    "    print(\"{}: {}\".format(Tree3.noded_list.index(node), node.data))"
   ]
  },
  {
   "cell_type": "markdown",
   "metadata": {},
   "source": [
    "Resources:\n",
    "\n",
    "__[Binary Heap Implementation](https://runestone.academy/runestone/static/pythonds/Trees/BinaryHeapImplementation.html)__\n",
    "\n",
    "__[Tree Visualizer](https://kanaka.github.io/rbt_cfs/trees.html)__\n",
    "\n",
    "__[Jeff Knupp Python Classes and OOP](https://jeffknupp.com/blog/2014/06/18/improve-your-python-python-classes-and-object-oriented-programming/)__\n",
    "\n",
    "__[Class Implementations](https://www.python-course.eu/python3_inheritance.php)__"
   ]
  },
  {
   "cell_type": "code",
   "execution_count": null,
   "metadata": {},
   "outputs": [],
   "source": []
  }
 ],
 "metadata": {
  "kernelspec": {
   "display_name": "Python 3",
   "language": "python",
   "name": "python3"
  },
  "language_info": {
   "codemirror_mode": {
    "name": "ipython",
    "version": 3
   },
   "file_extension": ".py",
   "mimetype": "text/x-python",
   "name": "python",
   "nbconvert_exporter": "python",
   "pygments_lexer": "ipython3",
   "version": "3.7.1"
  },
  "toc": {
   "base_numbering": 1,
   "nav_menu": {},
   "number_sections": false,
   "sideBar": true,
   "skip_h1_title": false,
   "title_cell": "Table of Contents",
   "title_sidebar": "Contents",
   "toc_cell": false,
   "toc_position": {},
   "toc_section_display": true,
   "toc_window_display": false
  },
  "varInspector": {
   "cols": {
    "lenName": 16,
    "lenType": 16,
    "lenVar": 40
   },
   "kernels_config": {
    "python": {
     "delete_cmd_postfix": "",
     "delete_cmd_prefix": "del ",
     "library": "var_list.py",
     "varRefreshCmd": "print(var_dic_list())"
    },
    "r": {
     "delete_cmd_postfix": ") ",
     "delete_cmd_prefix": "rm(",
     "library": "var_list.r",
     "varRefreshCmd": "cat(var_dic_list()) "
    }
   },
   "oldHeight": 272.181818,
   "position": {
    "height": "40px",
    "left": "988.182px",
    "right": "20px",
    "top": "120px",
    "width": "360px"
   },
   "types_to_exclude": [
    "module",
    "function",
    "builtin_function_or_method",
    "instance",
    "_Feature"
   ],
   "varInspector_section_display": "none",
   "window_display": true
  }
 },
 "nbformat": 4,
 "nbformat_minor": 2
}
