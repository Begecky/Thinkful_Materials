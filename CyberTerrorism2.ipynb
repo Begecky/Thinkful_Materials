{
 "cells": [
  {
   "cell_type": "markdown",
   "metadata": {},
   "source": [
    "## Global Terrorism Database (Focusing on Cyber-Related Terrorism):"
   ]
  },
  {
   "cell_type": "markdown",
   "metadata": {},
   "source": [
    "This dataset is from Global Terrorism Database curated by the University of Maryland:\n",
    "\n",
    "National Consortium for the Study of Terrorism and Responses to Terrorism (START). (2018). Global Terrorism Database [Data file]. Retrieved from https://www.start.umd.edu/gtd.\n",
    "\n",
    "In dividing and classifying the city names within the data-set, __[this article from the New York Times](https://www.nytimes.com/interactive/2016/01/04/world/middleeast/sunni-shiite-map-middle-east-iran-saudi-arabia.html)__ was instrumental as was __[this website](http://zakhor-online.com/?attachment_id=7932)__ and __[this one.](https://www.vox.com/a/maps-explain-the-middle-east)__\n",
    "__[and this one too](http://gulf2000.columbia.edu/maps.shtml)__ https://www.crisisgroup.org/latin-america-caribbean/andes/colombia/63-colombias-armed-groups-battle-spoils-peace#map-5700-8\n",
    "\n",
    "In this notebook, we will try and isolate data related to cyber-warfare or hacking events."
   ]
  },
  {
   "cell_type": "code",
   "execution_count": 1,
   "metadata": {},
   "outputs": [
    {
     "name": "stderr",
     "output_type": "stream",
     "text": [
      "/usr/local/lib/python3.7/site-packages/sklearn/utils/__init__.py:4: DeprecationWarning: Using or importing the ABCs from 'collections' instead of from 'collections.abc' is deprecated, and in 3.8 it will stop working\n",
      "  from collections import Sequence\n"
     ]
    }
   ],
   "source": [
    "import pandas as pd\n",
    "import numpy as np\n",
    "import scipy\n",
    "import matplotlib.pyplot as plt\n",
    "import seaborn as sns\n",
    "import sklearn as skl\n",
    "%matplotlib inline\n",
    "\n",
    "import warnings\n",
    "warnings.filterwarnings('ignore')"
   ]
  },
  {
   "cell_type": "markdown",
   "metadata": {},
   "source": [
    "### 1. Importing, Cleaning and General Overview:"
   ]
  },
  {
   "cell_type": "code",
   "execution_count": 2,
   "metadata": {
    "scrolled": true
   },
   "outputs": [],
   "source": [
    "df = pd.read_excel('globalterrorismdb_0718dist.xlsx', \n",
    "                   usecols = 'A:D, F, H:M, S:W, AA:AD, AI:AN, AP, BG, BM:BN, BQ:BR, CD:CG, DA',\n",
    "                   dtype = {'summary':str, 'motive':str})                                                                                         "
   ]
  },
  {
   "cell_type": "code",
   "execution_count": 3,
   "metadata": {},
   "outputs": [],
   "source": [
    "# Renaming for usability:\n",
    "\n",
    "df = pd.DataFrame(df.rename({'eventid':'event_id', 'iyear':'year', 'imonth':'month',\n",
    "             'iday':'day', 'extended':'24+hrs', 'provstate':'region_2', 'doubtterr':'doubt', \n",
    "             'attacktype1':'attack_1', 'attacktype1_txt':'attack_1txt','attacktype2':'attack_2', \n",
    "             'targtype1':'target_1', 'targtype1_txt':'target_1txt', 'targsubtype1':'sub_target',\n",
    "             'targsubtype1_txt':'sub_targettxt', 'target1':'specific_target',\n",
    "             'natlty1':'victim_nationality', 'natlty1_txt':'victim_nationalitytxt', 'gname':'group_name', \n",
    "             'guncertain1':'group_attrib_crtainty', 'individual':'unaffil_individ', 'weaptype1':'weapon', \n",
    "             'weaptype1_txt':'weapontxt', 'weapsubtype1':'sub_weapon', 'weapsubtype1_txt':'sub_weapontxt'}, axis = 1))"
   ]
  },
  {
   "cell_type": "code",
   "execution_count": 4,
   "metadata": {},
   "outputs": [],
   "source": [
    "# Cleaning up some of the null values in our object-type columns:\n",
    "# (not dropping them but setting them to 'No Data'):\n",
    "\n",
    "df['motive'] = df['motive'].where(df['motive'].apply(lambda x: x != 'nan'), other = 'No Data')\n",
    "df['summary'] = df['summary'].where(df['summary'].apply(lambda x: x != 'nan'), other = 'No Data')"
   ]
  },
  {
   "cell_type": "markdown",
   "metadata": {},
   "source": [
    "### 2. Preliminary Exploration and Visualization:"
   ]
  },
  {
   "cell_type": "markdown",
   "metadata": {},
   "source": [
    "##### A. Isolating relevant data - Regex:\n",
    "\n",
    "> Here, we want to try to isolate the rows whose summaries relate directly to what we want to analyze:"
   ]
  },
  {
   "cell_type": "code",
   "execution_count": 5,
   "metadata": {},
   "outputs": [
    {
     "name": "stdout",
     "output_type": "stream",
     "text": [
      "False    172205\n",
      "True       9486\n",
      "Name: summary, dtype: int64\n"
     ]
    }
   ],
   "source": [
    "# Creating the dyber_df Dataframe:\n",
    "# Regex to isolate qualifying data (This set is more flexible in its Regex):\n",
    "import re\n",
    "import gc\n",
    "\n",
    "print(df.summary.str.contains('cyb+|social|inform+|network+|twit+|facebook|fake|electio+|internet|ads|adv+|priv+|hac+|breac+|emai+',\n",
    "                         flags = re.IGNORECASE, regex = True).value_counts())"
   ]
  },
  {
   "cell_type": "code",
   "execution_count": 24,
   "metadata": {},
   "outputs": [],
   "source": [
    "# Creating a mask which represents the results from our search above:\n",
    "\n",
    "mask = df.summary.str.contains(r'(cyb+|social|inform+|network+|twit+|facebook|fake|electio+|internet|ads|adv+|priv+|hac+|breac+|emai+)', \n",
    "                           flags = re.IGNORECASE)\n",
    "\n",
    "# Creating a new, filtered dataframe with this specific information:\n",
    "\n",
    "cyber_df = pd.DataFrame(df[mask])"
   ]
  },
  {
   "cell_type": "code",
   "execution_count": null,
   "metadata": {},
   "outputs": [],
   "source": []
  },
  {
   "cell_type": "markdown",
   "metadata": {},
   "source": [
    "### 3. Data Wrangling:"
   ]
  },
  {
   "cell_type": "markdown",
   "metadata": {},
   "source": [
    "> Here, I wanted to try and group some of the text columns together so as to reduce the size of potential feature-sets.  When getting dummies on some of our first models, we got too many features to provide anything explanatory."
   ]
  },
  {
   "cell_type": "markdown",
   "metadata": {},
   "source": [
    "##### Dropping inconsequential NA Values:"
   ]
  },
  {
   "cell_type": "code",
   "execution_count": 7,
   "metadata": {},
   "outputs": [],
   "source": [
    "# Since making dummies of the entire dataframe didn't quite work, looking at doing some customized dummy columns\n",
    "# and then using the get_dummies method for the rest:\n",
    "\n",
    "# Running into NA issues, so dropping na where na values are under 50:\n",
    "\n",
    "cyber_df = pd.DataFrame(cyber_df.dropna(subset = ['city', 'group_attrib_crtainty',\n",
    "                                                        'specific_target']))"
   ]
  },
  {
   "cell_type": "markdown",
   "metadata": {},
   "source": [
    "##### Wrangling the more considerable nulls:"
   ]
  },
  {
   "cell_type": "code",
   "execution_count": 44,
   "metadata": {},
   "outputs": [],
   "source": [
    "# Taking out the NA the mean of the remaining values and \n",
    "# setting the values we did not consider with the mean of the others: \n",
    "\n",
    "# sub_target:\n",
    "\n",
    "    # This method did not work, so I had to re-do it by hand:\n",
    "        # sub_target_mean = cyber_df['sub_target'].mean(skipna = True)\n",
    "        # cyber_df['sub_target'].fillna(sub_target_mean, inplace = True)\n",
    "\n",
    "# Taking out the NA the mean of the remaining values:   \n",
    "\n",
    "sub_target_actuals = cyber_df.sub_target.loc[(cyber_df['sub_target'] != np.NaN)]\n",
    "sub_target_mean = sub_target_actuals.mean()\n",
    "cyber_df['sub_target'] = cyber_df['sub_target'].replace(np.nan, sub_target_mean)\n",
    "\n",
    "# sub_targettxt:\n",
    "# Following the same pattern as above:\n",
    "\n",
    "cyber_df['sub_targettxt'] = cyber_df['sub_targettxt'].replace(np.nan, 'No Data')\n",
    "\n",
    "# victim_nationality:\n",
    "\n",
    "cyber_df['victim_nationalitytxt'] = cyber_df['victim_nationalitytxt'].replace(np.nan, 'No Data')\n",
    "\n",
    "# sub_weapon and sub_weapontxt:\n",
    "# Filling in the NA with the mean:\n",
    "\n",
    "sub_weapon_actuals = cyber_df['sub_weapon'].loc[(cyber_df['sub_weapon'] != np.NaN)]\n",
    "sub_weapon_mean = sub_weapon_actuals.mean()\n",
    "cyber_df['sub_weapon'] = cyber_df['sub_weapon'].replace(np.nan, sub_target_mean)\n",
    "\n",
    "# Filling the NA with 'No Data'\n",
    "\n",
    "cyber_df['sub_weapontxt'] = cyber_df['sub_weapontxt'].replace(np.nan, 'No Data')"
   ]
  },
  {
   "cell_type": "markdown",
   "metadata": {},
   "source": [
    "#### Manual Dummies:\n",
    "\n",
    "> Still a lot of unique values - will try dropping the ones with unmanageable numbers for our model. Will try grouping with the others"
   ]
  },
  {
   "cell_type": "markdown",
   "metadata": {},
   "source": [
    "##### weapon and weapon_txt:"
   ]
  },
  {
   "cell_type": "code",
   "execution_count": 46,
   "metadata": {},
   "outputs": [],
   "source": [
    "# Weapon:\n",
    "# Grouping related values together after looking at value-counts:\n",
    "\n",
    "# Grouping Chemical and Biological Weapons together:\n",
    "cyber_df['weapon'] = cyber_df['weapon'].replace(1, 2)\n",
    "\n",
    "# Putting Fake and 'Other' types of weapons into the same category:\n",
    "cyber_df['weapon'] = cyber_df['weapon'].replace(12, 7)\n",
    "\n",
    "# Putting vehicles into category 11 (sabotage equipment):\n",
    "cyber_df['weapon'] = cyber_df['weapon'].replace(10, 11)"
   ]
  },
  {
   "cell_type": "code",
   "execution_count": 47,
   "metadata": {},
   "outputs": [],
   "source": [
    "# Weapon_txt:\n",
    "\n",
    "# Grouping Biological and Chemical Weapons:\n",
    "cyber_df['weapontxt'] = cyber_df['weapontxt'].replace('Chemical', 'Bio-Chem')\n",
    "cyber_df['weapontxt'] = cyber_df['weapontxt'].replace('Biological', 'Bio-Chem')\n",
    "\n",
    "# Grouping Fake and Other together:\n",
    "cyber_df['weapontxt'] = cyber_df['weapontxt'].replace('Fake Weapons', 'Fake/Other')\n",
    "cyber_df['weapontxt'] = cyber_df['weapontxt'].replace('Other', 'Fake/Other')\n",
    "\n",
    "# Aggregating Vehicle into Sabotage Equipment:\n",
    "cyber_df['weapontxt'] = cyber_df['weapontxt'].replace(\n",
    "    'Vehicle (not to include vehicle-borne explosives, i.e., car or truck bombs)', 'Sabotage Equipment')\n"
   ]
  },
  {
   "cell_type": "markdown",
   "metadata": {},
   "source": [
    "###### copying df for filter-checking purposes"
   ]
  },
  {
   "cell_type": "code",
   "execution_count": 48,
   "metadata": {},
   "outputs": [],
   "source": [
    "# Making a copy of the DF here to compare feature importances for modeling as well as getting a barometer for \n",
    "# the groupings we do below (i.e. to gauge how much information we are able to get or not.)\n",
    "\n",
    "cyber_df_unfiltered = pd.DataFrame(cyber_df)"
   ]
  },
  {
   "cell_type": "markdown",
   "metadata": {},
   "source": [
    "##### sub_target and sub_targettxt"
   ]
  },
  {
   "cell_type": "code",
   "execution_count": 49,
   "metadata": {},
   "outputs": [],
   "source": [
    "# Sub_target:\n",
    "\n",
    "# I didn't want to isolate all of this, else it would reflect the target column exactly - \n",
    "# but made some sub-groupings:\n",
    "\n",
    "industrial = [1, 5, 9, 10, 12]\n",
    "white_collar = [2, 3, 4, 6, 7, 8, 11, 13, 112]\n",
    "gov_figure1 = [14, 18]\n",
    "gov_figure2 = [15, 16, 17, 19]\n",
    "police_facilities = [22, 23, 24, 26]\n",
    "mil_facilities = [27, 28, 30, 31, 32, 35, 36, 39]\n",
    "mil_personnel = [29, 33, 34]\n",
    "pilots_planes = [42, 43]\n",
    "gov_diplomatic = [45, 46, 47]\n",
    "educational = [48, 49, 50]\n",
    "food_water = [51, 52]\n",
    "media = [53, 54, 55, 56]\n",
    "religious = [69, 85, 86, 87]\n",
    "political = [83, 84, 109, 110, 111]\n",
    "mass_socio = [65, 68, 70, 71, 72, 73, 74, 75, 76, 77, 78, 79, 80, 81, 82, 95, 96, 97, 98, 99, 100, 101, 102, 103, 104, 105]\n",
    "util_telecom = [88, 89, 90, 91, 92, 106, 107, 108]\n",
    "\n",
    "# Sub_target Assignment:\n",
    "\n",
    "cyber_df['sub_target'].replace({'sub_target': {'industrial':1, 'white_collar':2, \n",
    "                                       'gov_figure1':14,'gov_figure2':15, \n",
    "                                       'police_facilities':22, 'mil_facilities':27,\n",
    "                                       'mil_personnel':29, 'pilots_planes':42, \n",
    "                                       'gov_diplomatic':45, 'educational': 48, \n",
    "                                       'food_water':51, 'media':53, 'religious':69,\n",
    "                                       'political':83, 'mass_socio': 65,\n",
    "                                       'util_telecom': 88}}, inplace = True)"
   ]
  },
  {
   "cell_type": "code",
   "execution_count": 50,
   "metadata": {},
   "outputs": [],
   "source": [
    "# Sub_targettxt:\n",
    "\n",
    "industrial = ['Gas/Oil/Electric', 'Industrial/Textiles/Factory', 'Farm/Ranch', 'Mining', 'Construction']\n",
    "df['sub_targettxt'] = df['sub_targettxt'].where(df['sub_targettxt'].apply(lambda x: x not in industrial), other = 'Industrial')\n",
    "\n",
    "\n",
    "white_collar = ['Restaurant/Bar/Café', 'Bank/Commerce', 'Multinational Corporation', \n",
    "                'Medical/Pharmaceutical', 'Retail/Grocery/Bakery (including cell phone shops and generic shops)', \n",
    "                'Hotel/Resort', 'Entertainment/Cultural/Stadium/Casino', 'Private Security Company/Firm',\n",
    "                'Legal Services']\n",
    "df['sub_targettxt'] = df['sub_targettxt'].where(df['sub_targettxt'].apply(lambda x: x not in white_collar), other = 'White_Collar')\n",
    "\n",
    "\n",
    "gov_figure1 = ['Judges/Attorneys/Courts', 'Government Personnel (excluding police, military)']\n",
    "df['sub_targettxt'] = df['sub_targettxt'].where(df['sub_targettxt'].apply(lambda x: x not in gov_figure1), other = 'Gov_Figure1')\n",
    "\n",
    "gov_figure2 = ['Politician or Political Party Movement/Meeting/Rally', 'Royalty', 'Head of State',\n",
    "               'Election-Related']\n",
    "df['sub_targettxt'] = df['sub_targettxt'].where(df['sub_targettxt'].apply(lambda x: x not in gov_figure2), other = 'Gov_Figure2')\n",
    "\n",
    "\n",
    "police_facilities = ['Police Buildings (Headquarters/Stations/School)', \n",
    "                     'Police Patrol (including vehicles and convoys)', \n",
    "                     'Police Checkpoint', 'Prison/Jail']\n",
    "df['sub_targettxt'] = df['sub_targettxt'].where(df['sub_targettxt'].apply(lambda x: x not in gov_figure2), \n",
    "                                                other = 'Police_Facilities')\n",
    "\n",
    "military_facilities = ['Military Barracks/Base/Headquarters/Checkpost', 'Military Recruiting Station/Academy',\n",
    "                       'Military Weaponry', 'Military Aircraft', 'Military Maritime', \n",
    "                       'Military Transportation/Vehicle (excluding convoys)', 'Military Checkpoint',\n",
    "                       'Paramilitary']\n",
    "df['sub_targettxt'] = df['sub_targettxt'].where(df['sub_targettxt'].apply(lambda x: x not in military_facilities), \n",
    "                                                other = 'Military_Facilities')\n",
    "\n",
    "\n",
    "military_personnel = ['Military Unit/Patrol/Convoy', 'Non-combatant Personnel', \n",
    "                      'Military Personnel (soldiers, troops, officers, forces)']\n",
    "df['sub_targettxt'] = df['sub_targettxt'].where(df['sub_targettxt'].apply(lambda x: x not in military_personnel), \n",
    "                                                other = 'Military_Personnel')\n",
    "\n",
    "\n",
    "pilots_aircraft = ['Aircraft (not at an airport)', 'Airline Officer/Personnel']\n",
    "df['sub_targettxt'] = df['sub_targettxt'].where(df['sub_targettxt'].apply(lambda x: x not in military_personnel), \n",
    "                                                other = 'Pilots_Aircraft')\n",
    "\n",
    "gov_diplomatic = [' Diplomatic Personnel (outside of embassy, consulate)', 'Embassy/Consulate', \n",
    "                  'International Organization (peacekeeper, aid agency, compound)']\n",
    "df['sub_targettxt'] = df['sub_targettxt'].where(df['sub_targettxt'].apply(lambda x: x not in gov_diplomatic), \n",
    "                                                other = 'Gov_Diplomatic')\n",
    "\n",
    "educational = ['Teacher/Professor/Instructor', 'School/University/Educational Building', \n",
    "               'Other Personnel']\n",
    "df['sub_targettxt'] = df['sub_targettxt'].where(df['sub_targettxt'].apply(lambda x: x not in educational), \n",
    "                                                other = 'Educational')\n",
    "\n",
    "food_water = ['Food Supply', 'Water Supply']\n",
    "df['sub_targettxt'] = df['sub_targettxt'].where(df['sub_targettxt'].apply(lambda x: x not in food_water), \n",
    "                                                other = 'Food_Water')\n",
    "\n",
    "media = ['Newspaper Journalist/Staff/Facility', 'Radio Journalist/Staff/Facility', \n",
    "         'Television Journalist/Staff/Facility', 'Other (including online news agencies)']\n",
    "df['sub_targettxt'] = df['sub_targettxt'].where(df['sub_targettxt'].apply(lambda x: x not in media), \n",
    "                                                other = 'Media')\n",
    "\n",
    "\n",
    "religious = ['Religion Identified', 'Religious Figure', 'Place of Worship', \n",
    "             'Affiliated Institution']\n",
    "df['sub_targettxt'] = df['sub_targettxt'].where(df['sub_targettxt'].apply(lambda x: x not in military_personnel), \n",
    "                                                other = 'Pilots_Aircraft')\n",
    "\n",
    "\n",
    "political = ['Protester', 'Political Party Member/Rally', 'Party Official/Candidate/Other Personnel', \n",
    "             'Party Office/Facility', 'Rally']\n",
    "df['sub_targettxt'] = df['sub_targettxt'].where(df['sub_targettxt'].apply(lambda x: x not in political), \n",
    "                                                other = 'Political')\n",
    "\n",
    "mass_socio = ['Refugee (including Camps/IDP/Asylum Seekers)', 'Named Civilian', 'Student', \n",
    "              'Race/Ethnicity Identified', 'Farmer', 'Vehicles/Transportation', 'Marketplace/Plaza/Square', 'Village/City/Town/Suburb', \n",
    "              'House/Apartment/Residence', 'Laborer (General)/Occupation Identified', 'Procession/Gathering (funeral, wedding, birthday, religious)', \n",
    "              'Public Areas (e.g., Public garden, parking lot, garage, beach, public buildings, camps)',\n",
    "             'Memorial/Cemetery/Monument', 'Museum/Cultural Center/Cultural House', 'Labor Union Related', \n",
    "              'Tourism Travel Agency', 'Tour Bus/Van/Vehicle', 'Tourist', 'Other Facility', 'Train/Train Tracks/ Trolley', 'Bus Station/Stop', 'Subway', \n",
    "              'Bridge/Car Tunnel', 'Highway/Road/Toll/Traffic Signal', 'Taxi/Rickshaw']\n",
    "df['sub_targettxt'] = df['sub_targettxt'].where(df['sub_targettxt'].apply(lambda x: x not in mass_socio), \n",
    "                                                other = 'Mass_Social')\n",
    "\n",
    "\n",
    "\n",
    "util_telecom = ['Radio', 'Television', 'Telephone/Telegraph', 'Internet Infrastructure', \n",
    "                'Multiple Telecommunication Targets', 'Gas', 'Electricity', 'Oil']\n",
    "df['sub_targettxt'] = df['sub_targettxt'].where(df['sub_targettxt'].apply(lambda x: x not in util_telecom), \n",
    "                                                other = 'Util_Telecom')"
   ]
  },
  {
   "cell_type": "code",
   "execution_count": 51,
   "metadata": {},
   "outputs": [],
   "source": [
    "# Trying Group_name a bit and grouping them by Ideaology.\n",
    "# Separatists, Leftists and Rightists:\n",
    "\n",
    "# Palestinian Separatists:\n",
    "cyber_df['group_name'] = cyber_df['group_name'].replace('Hamas (Islamic Resistance Movement)', \n",
    "                                                        'Palestinian_Separatists')\n",
    "cyber_df['group_name'] = cyber_df['group_name'].replace('Palestinian Islamic Jihad (PIJ)', \n",
    "                                                        'Palestinian_Separatists')\n",
    "cyber_df['group_name'] = cyber_df['group_name'].replace('Popular Front for the Liberation of Palestine (PFLP)',\n",
    "                                                        'Palestinian_Separatists')\n",
    "cyber_df['group_name'] = cyber_df['group_name'].replace('Popular Resistance Committees',\n",
    "                                                        'Palestinian_Separatists')\n",
    "cyber_df['group_name'] = cyber_df['group_name'].replace('Al-Fatah',\n",
    "                                                        'Palestinian_Separatists')\n",
    "\n",
    "# Militants:\n",
    "cyber_df['group_name'] = cyber_df['group_name'].replace('Militants',\n",
    "                                                        'Militant_Gunmen_Groups')\n",
    "cyber_df['group_name'] = cyber_df['group_name'].replace('Gunmen',\n",
    "                                                        'Militant_Gunmen_Groups')"
   ]
  },
  {
   "cell_type": "code",
   "execution_count": 52,
   "metadata": {},
   "outputs": [],
   "source": [
    "# Asian Separatists:\n",
    "\n",
    "cyber_df['group_name'] = cyber_df['group_name'].replace('Abu Sayyaf Group (ASG)',\n",
    "                                                        'Asian_Separatists')\n",
    "cyber_df['group_name'] = cyber_df['group_name'].replace('Colonel Karuna Faction',\n",
    "                                                        'Asian_Separatists')\n",
    "cyber_df['group_name'] = cyber_df['group_name'].replace('Eastern Turkistan Islamic Movement (ETIM)',\n",
    "                                                        'Asian_Separatists')\n",
    "cyber_df['group_name'] = cyber_df['group_name'].replace('Free Aceh Movement (GAM)',\n",
    "                                                        'Asian_Separatists')\n",
    "cyber_df['group_name'] = cyber_df['group_name'].replace('Janatantrik Terai Mukti Morcha (Jtmm)',\n",
    "                                                        'Asian_Separatists')\n",
    "cyber_df['group_name'] = cyber_df['group_name'].replace('Janatantrik Terai Mukti Morcha- Goit (Jtmm-G)',\n",
    "                                                        'Asian_Separatists')\n",
    "cyber_df['group_name'] = cyber_df['group_name'].replace('Janatantrik Terai Mukti Morcha- Jwala Singh (Jtmm-J)',\n",
    "                                                        'Asian_Separatists')\n",
    "cyber_df['group_name'] = cyber_df['group_name'].replace('Janatantrik Terai Mukti Morcha- Rajan Mukti (Jtmm-R)',\n",
    "                                                        'Asian_Separatists')\n",
    "cyber_df['group_name'] = cyber_df['group_name'].replace('Liberation Tigers of Tamil Eelam (LTTE)',\n",
    "                                                        'Asian_Separatists')\n",
    "cyber_df['group_name'] = cyber_df['group_name'].replace('Moro Islamic Liberation Front (MILF)',\n",
    "                                                        'Asian_Separatists')\n",
    "cyber_df['group_name'] = cyber_df['group_name'].replace('Runda Kumpulan Kecil (Rkk)',\n",
    "                                                        'Asian_Separatists')\n",
    "cyber_df['group_name'] = cyber_df['group_name'].replace('Terai Army',\n",
    "                                                        'Asian_Separatists')"
   ]
  },
  {
   "cell_type": "code",
   "execution_count": 53,
   "metadata": {},
   "outputs": [],
   "source": [
    "# Middle Eastern Separatists\n",
    "cyber_df['group_name'] = cyber_df['group_name'].replace('Supreme Council For Islamic Revolution In Iraq (Sciri)',\n",
    "                                                        'Middle_Eastern_Separatists')\n",
    "cyber_df['group_name'] = cyber_df['group_name'].replace('Southern Mobility Movement (Yemen)',\n",
    "                                                        'Middle_Eastern_Separatists')\n",
    "cyber_df['group_name'] = cyber_df['group_name'].replace('Riyadus-Salikhin Reconnaissance And Sabotage Battalion Of Chechen Martyrs',\n",
    "                                                        'Middle_Eastern_Separatists')\n",
    "cyber_df['group_name'] = cyber_df['group_name'].replace('Haqqani Network',\n",
    "                                                        'Middle_Eastern_Separatists')\n",
    "cyber_df['group_name'] = cyber_df['group_name'].replace('Harkatul Jihad-E-Islami',\n",
    "                                                        'Middle_Eastern_Separatists')\n",
    "cyber_df['group_name'] = cyber_df['group_name'].replace('Hizbul Mujahideen (Hm)',\n",
    "                                                        'Middle_Eastern_Separatists')\n",
    "cyber_df['group_name'] = cyber_df['group_name'].replace('Jaish-E-Mohammad (Jem)',\n",
    "                                                        'Middle_Eastern_Separatists')\n",
    "cyber_df['group_name'] = cyber_df['group_name'].replace('Kurdistan Free Life Party',\n",
    "                                                        'Middle_Eastern_Separatists')\n",
    "cyber_df['group_name'] = cyber_df['group_name'].replace('Kurdistan Workers\\' Party (PKK)',\n",
    "                                                        'Middle_Eastern_Separatists')\n",
    "cyber_df['group_name'] = cyber_df['group_name'].replace('Lashkar-E-Balochistan',\n",
    "                                                        'Middle_Eastern_Separatists')\n",
    "cyber_df['group_name'] = cyber_df['group_name'].replace('Lashkar-E-Taiba (Let)',\n",
    "                                                        'Middle_Eastern_Separatists')\n",
    "cyber_df['group_name'] = cyber_df['group_name'].replace('Ansar Al-Islam',\n",
    "                                                        'Middle_Eastern_Separatists')\n",
    "cyber_df['group_name'] = cyber_df['group_name'].replace('Ansar Al-Sharia (Libya)',\n",
    "                                                        'Middle_Eastern_Separatists')\n",
    "cyber_df['group_name'] = cyber_df['group_name'].replace('Baloch Liberation Army (BLA)',\n",
    "                                                        'Middle_Eastern_Separatists')\n",
    "cyber_df['group_name'] = cyber_df['group_name'].replace('Baloch Liberation Front (Blf)',\n",
    "                                                        'Middle_Eastern_Separatists')\n",
    "cyber_df['group_name'] = cyber_df['group_name'].replace('Baloch Republican Army (BRA)',\n",
    "                                                        'Middle_Eastern_Separatists')\n",
    "cyber_df['group_name'] = cyber_df['group_name'].replace('Caucasus Emirate',\n",
    "                                                        'Middle_Eastern_Separatists')\n",
    "cyber_df['group_name'] = cyber_df['group_name'].replace('Free Syrian Army',\n",
    "                                                        'Middle_Eastern_Separatists')\n",
    "cyber_df['group_name'] = cyber_df['group_name'].replace('Chechen Rebels',\n",
    "                                                        'Middle_Eastern_Separatists')"
   ]
  },
  {
   "cell_type": "code",
   "execution_count": 54,
   "metadata": {},
   "outputs": [],
   "source": [
    "# Indian Separatists\n",
    "cyber_df['group_name'] = cyber_df['group_name'].replace('Black Widows',\n",
    "                                                        'Indian_Separatists')\n",
    "cyber_df['group_name'] = cyber_df['group_name'].replace('Dima Halao Daoga (Dhd)',\n",
    "                                                        'Indian_Separatists')\n",
    "cyber_df['group_name'] = cyber_df['group_name'].replace('Garo National Liberation Army',\n",
    "                                                        'Indian_Separatists')\n",
    "cyber_df['group_name'] = cyber_df['group_name'].replace('Kangleipak Communist Party (KCP)',\n",
    "                                                        'Indian_Separatists')\n",
    "cyber_df['group_name'] = cyber_df['group_name'].replace('Karbi Longri North Cachar Liberation Front (Klnlf)',\n",
    "                                                        'Indian_Separatists')\n",
    "cyber_df['group_name'] = cyber_df['group_name'].replace('National Democratic Front of Bodoland (NDFB)',\n",
    "                                                        'Indian_Separatists')\n",
    "cyber_df['group_name'] = cyber_df['group_name'].replace('National Liberation Front of Tripura (NLFT)',\n",
    "                                                        'Indian_Separatists')\n",
    "cyber_df['group_name'] = cyber_df['group_name'].replace('National Socialist Council of Nagaland-Isak-Muivah (NSCN-IM)',\n",
    "                                                        'Indian_Separatists')\n",
    "cyber_df['group_name'] = cyber_df['group_name'].replace('People\\'s Liberation Army (PLA)',\n",
    "                                                        'Indian_Separatists')\n",
    "cyber_df['group_name'] = cyber_df['group_name'].replace('People\\'s Revolutionary Party of Kangleipak (PREPAK)',\n",
    "                                                        'Indian_Separatists')\n",
    "cyber_df['group_name'] = cyber_df['group_name'].replace('United Liberation Front of Assam (ULFA)',\n",
    "                                                        'Indian_Separatists')\n",
    "cyber_df['group_name'] = cyber_df['group_name'].replace('United National Liberation Front (UNLF)',\n",
    "                                                        'Indian_Separatists')"
   ]
  },
  {
   "cell_type": "code",
   "execution_count": 55,
   "metadata": {},
   "outputs": [],
   "source": [
    "# African Political:\n",
    "cyber_df['group_name'] = cyber_df['group_name'].replace('National Union for the Total Independence of Angola (UNITA)',\n",
    "                                                         'African_Political')"
   ]
  },
  {
   "cell_type": "code",
   "execution_count": 56,
   "metadata": {},
   "outputs": [],
   "source": [
    "# Irish Separatists\n",
    "cyber_df['group_name'] = cyber_df['group_name'].replace('Real Irish Republican Army (RIRA)',\n",
    "                                                        'Irish_Separatists')\n",
    "cyber_df['group_name'] = cyber_df['group_name'].replace('Oglaigh Na Heireann',\n",
    "                                                        'Irish_Separatists')\n",
    "cyber_df['group_name'] = cyber_df['group_name'].replace('Irish Republican Army (IRA)',\n",
    "                                                        'rish_Separatists')\n"
   ]
  },
  {
   "cell_type": "code",
   "execution_count": 57,
   "metadata": {},
   "outputs": [],
   "source": [
    "# Farc left and right\n",
    "cyber_df['group_name'] = cyber_df['group_name'].replace('National Liberation Army of Colombia (ELN)',\n",
    "                                                        'FARC_Leftist')\n",
    "cyber_df['group_name'] = cyber_df['group_name'].replace('Popular Liberation Army (EPL)',\n",
    "                                                        'FARC_Leftist')\n",
    "cyber_df['group_name'] = cyber_df['group_name'].replace('Revolutionary Armed Forces of Colombia (FARC)',\n",
    "                                                        'FARC_Leftist')\n",
    "\n",
    "cyber_df['group_name'] = cyber_df['group_name'].replace('United Self Defense Units of Colombia (AUC)',\n",
    "                                                        'FARC_Rightist')\n",
    "  "
   ]
  },
  {
   "cell_type": "code",
   "execution_count": 58,
   "metadata": {},
   "outputs": [],
   "source": [
    "# Middle Eastern Religious:\n",
    "cyber_df['group_name'] = cyber_df['group_name'].replace('Al-Gama\\'at Al-Islamiyya (IG)',\n",
    "                                                        'Middle_Eastern_Religious')\n",
    "cyber_df['group_name'] = cyber_df['group_name'].replace('Al-Nusrah Front',\n",
    "                                                        'Middle_Eastern_Religious')\n",
    "cyber_df['group_name'] = cyber_df['group_name'].replace('Al-Qa\\'ida',\n",
    "                                                        'Middle_Eastern_Religious')\n",
    "cyber_df['group_name'] = cyber_df['group_name'].replace('Al-Qa\\'ida in the Arabian Peninsula (AQAP)',\n",
    "                                                        'Middle_Eastern_Religious')\n",
    "cyber_df['group_name'] = cyber_df['group_name'].replace('Al-Qa\\'ida in the Lands of the Islamic Maghreb (AQLIM)',\n",
    "                                                        'Middle_Eastern_Religious')\n",
    "cyber_df['group_name'] = cyber_df['group_name'].replace('Al-Shabaab',\n",
    "                                                        'Middle_Eastern_Religious')\n",
    "cyber_df['group_name'] = cyber_df['group_name'].replace('Ansar Al-Islam',\n",
    "                                                        'Middle_Eastern_Religious')\n",
    "cyber_df['group_name'] = cyber_df['group_name'].replace('Ansar Al-Sharia (Libya)',\n",
    "                                                        'Middle_Eastern_Religious')\n",
    "cyber_df['group_name'] = cyber_df['group_name'].replace('Asa\\'Ib Ahl Al-Haqq',\n",
    "                                                        'Middle_Eastern_Religious')\n",
    "cyber_df['group_name'] = cyber_df['group_name'].replace('Caucasus Emirate',\n",
    "                                                        'Middle_Eastern_Religious')\n",
    "cyber_df['group_name'] = cyber_df['group_name'].replace('Eritrean Islamic Jihad Movement (EIJM)',\n",
    "                                                        'Middle_Eastern_Religious')\n",
    "cyber_df['group_name'] = cyber_df['group_name'].replace('Great Eastern Islamic Raiders Front (Ibda-C)',\n",
    "                                                        'Middle_Eastern_Religious')\n",
    "cyber_df['group_name'] = cyber_df['group_name'].replace('Hizbul Al Islam (Somalia)',\n",
    "                                                        'Middle_Eastern_Religious')\n",
    "cyber_df['group_name'] = cyber_df['group_name'].replace('Islamic Courts Union (ICU)',\n",
    "                                                        'Middle_Eastern_Religious')\n",
    "cyber_df['group_name'] = cyber_df['group_name'].replace('Islamic State of Iraq and al Sham (ISIS)',\n",
    "                                                        'Middle_Eastern_Religious')\n",
    "cyber_df['group_name'] = cyber_df['group_name'].replace('Islamic Movement of Uzbekistan (IMU)',\n",
    "                                                        'Middle_Eastern_Religious')\n",
    "cyber_df['group_name'] = cyber_df['group_name'].replace('Jamiat Ul-Mujahedin (Jum)',\n",
    "                                                        'Middle_Eastern_Religious')\n",
    "cyber_df['group_name'] = cyber_df['group_name'].replace('Jundallah',\n",
    "                                                        'Middle_Eastern_Religious')\n",
    "cyber_df['group_name'] = cyber_df['group_name'].replace('Mahdi Army',\n",
    "                                                        'Middle_Eastern_Religious')\n",
    "cyber_df['group_name'] = cyber_df['group_name'].replace('Taliban',\n",
    "                                                        'Middle_Eastern_Religious')\n",
    "cyber_df['group_name'] = cyber_df['group_name'].replace('Tehrik-i-Taliban Pakistan (TTP)',\n",
    "                                                        'Middle_Eastern_Religious')\n",
    "cyber_df['group_name'] = cyber_df['group_name'].replace('Muslim extremists',\n",
    "                                                        'Middle_Eastern_Religious')\n",
    "cyber_df['group_name'] = cyber_df['group_name'].replace('Armed Islamic Group (GIA)',\n",
    "                                                        'Middle_Eastern_Religious')\n",
    "cyber_df['group_name'] = cyber_df['group_name'].replace('Sunni Muslim extremists',\n",
    "                                                        'Middle_Eastern_Religious')\n",
    "cyber_df['group_name'] = cyber_df['group_name'].replace('Al-Qaida in the Islamic Maghreb (AQIM)',\n",
    "                                                        'Middle_Eastern_Religious')\n",
    "cyber_df['group_name'] = cyber_df['group_name'].replace('Islamic State of Iraq and the Levant (ISIL)',\n",
    "                                                        'Middle_Eastern_Religious')\n",
    "cyber_df['group_name'] = cyber_df['group_name'].replace('Al-Qaida in Iraq',\n",
    "                                                        'Middle_Eastern_Religious')\n",
    "cyber_df['group_name'] = cyber_df['group_name'].replace('Al-Qaida in the Arabian Peninsula (AQAP)',\n",
    "                                                        'Middle_Eastern_Religious')\n",
    "cyber_df['group_name'] = cyber_df['group_name'].replace('Al-Qaida',\n",
    "                                                        'Middle_Eastern_Religious')"
   ]
  },
  {
   "cell_type": "code",
   "execution_count": 59,
   "metadata": {},
   "outputs": [],
   "source": [
    "# Israeli, Palestinian, Lebanese Religious:\n",
    "cyber_df['group_name'] = cyber_df['group_name'].replace('Anti-Semitic extremists',\n",
    "                                                        'Near_Israel_Religious')\n",
    "cyber_df['group_name'] = cyber_df['group_name'].replace('Hezbollah',\n",
    "                                                        'Near_Israel_Religious')"
   ]
  },
  {
   "cell_type": "code",
   "execution_count": 60,
   "metadata": {},
   "outputs": [],
   "source": [
    "# Asian and African Religious:\n",
    "\n",
    "cyber_df['group_name'] = cyber_df['group_name'].replace('Students Islamic Movement of India (Simi)',\n",
    "                                                        'Asian/Asian-Pacific_Religious')\n",
    "cyber_df['group_name'] = cyber_df['group_name'].replace('Ranbir Sena',\n",
    "                                                        'Asian/Asian-Pacific_Religious')\n",
    "cyber_df['group_name'] = cyber_df['group_name'].replace('Jemaah Islamiya (JI)',\n",
    "                                                        'Asian/Asian-Pacific_Religious')\n",
    "\n",
    "\n",
    "cyber_df['group_name'] = cyber_df['group_name'].replace('Movement for Oneness and Jihad in West Africa (MUJAO)',\n",
    "                                                        'African_Religious')\n",
    "cyber_df['group_name'] = cyber_df['group_name'].replace('Lord\\'s Resistance Army (LRA)',\n",
    "                                                        'African_Religious')\n",
    "cyber_df['group_name'] = cyber_df['group_name'].replace('Boko Haram',\n",
    "                                                        'African_Religious')\n"
   ]
  },
  {
   "cell_type": "code",
   "execution_count": 61,
   "metadata": {
    "collapsed": true
   },
   "outputs": [
    {
     "data": {
      "text/plain": [
       "Unknown                                                                     5305\n",
       "Middle_Eastern_Religious                                                    1352\n",
       "Communist Party of India - Maoist (CPI-Maoist)                               402\n",
       "Maoists                                                                      231\n",
       "Middle_Eastern_Separatists                                                   199\n",
       "Indian_Separatists                                                           166\n",
       "African_Religious                                                            132\n",
       "Asian_Separatists                                                            127\n",
       "FARC_Leftist                                                                 125\n",
       "New People's Army (NPA)                                                      111\n",
       "National Socialist Council of Nagaland-Khaplang (NSCN-K)                      57\n",
       "Informal Anarchist Federation                                                 45\n",
       "Algerian Islamic Extremists                                                   43\n",
       "Militant_Gunmen_Groups                                                        41\n",
       "Salafist Group for Preaching and Fighting (GSPC)                              40\n",
       "Separatists                                                                   29\n",
       "Bangsamoro Islamic Freedom Movement (BIFM)                                    27\n",
       "Basque Fatherland and Freedom (ETA)                                           24\n",
       "Sinai Province of the Islamic State                                           22\n",
       "Baloch Liberation Front (BLF)                                                 22\n",
       "Houthi extremists (Ansar Allah)                                               21\n",
       "Palestinian_Separatists                                                       20\n",
       "Near_Israel_Religious                                                         18\n",
       "Indian Mujahideen                                                             18\n",
       "African_Political                                                             17\n",
       "Islamic State of Iraq (ISI)                                                   16\n",
       "Khorasan Chapter of the Islamic State                                         14\n",
       "National Socialist Underground                                                14\n",
       "Al-Aqsa Martyrs Brigade                                                       13\n",
       "Murle Tribe                                                                   12\n",
       "                                                                            ... \n",
       "Republic of New Afrika                                                         1\n",
       "Islamic Swords of Justice in the Land of Ribat                                 1\n",
       "Basque extremists                                                              1\n",
       "Arbav Martyrs of Khuzestan                                                     1\n",
       "Islamic Front (Syria)                                                          1\n",
       "Movement for the Actualization of the Sovereign State of Biafra (MASSOB)       1\n",
       "Forbidden Blockade (Greece)                                                    1\n",
       "United Kuki Liberation Front (UKLF) - India                                    1\n",
       "Jaish-e-Mohammad (Iraq)                                                        1\n",
       "Yimchunger Liberation Front (YLF)                                              1\n",
       "Revolutionary Cells-Animal Liberation Brigade                                  1\n",
       "Minutemen American Defense                                                     1\n",
       "All Kamatapur Liberation Force                                                 1\n",
       "Great Eastern Islamic Raiders Front (IBDA-C)                                   1\n",
       "Anti-Liberal extremists                                                        1\n",
       "Americans for a Competent Federal Judicial System                              1\n",
       "Abu Amarah Battalion                                                           1\n",
       "Mai Mai Manu Militia                                                           1\n",
       "Rastas                                                                         1\n",
       "Armenian nationalists                                                          1\n",
       "Resistenza Corsa                                                               1\n",
       "Arab-Israeli extremists                                                        1\n",
       "Union of Peaceful Citizens of Algeria                                          1\n",
       "23 May Democratic Alliance (Algeria)                                           1\n",
       "Naga National Council (NNC)                                                    1\n",
       "Detonators of Social Uprisings                                                 1\n",
       "Lone Wolves of Radical, Autonomous, Militant National Socialism                1\n",
       "Groups for Dissemination of Revolutionary Theory and Action                    1\n",
       "Front for the Liberation of Cabinda / Cabinda Armed Forces (FLEC-FAC)          1\n",
       "Raia Mutomboki Militia                                                         1\n",
       "Name: group_name, Length: 419, dtype: int64"
      ]
     },
     "execution_count": 61,
     "metadata": {},
     "output_type": "execute_result"
    }
   ],
   "source": [
    "cyber_df['group_name'].value_counts()"
   ]
  },
  {
   "cell_type": "code",
   "execution_count": 74,
   "metadata": {},
   "outputs": [],
   "source": [
    "# Trying City Names by Religion, Tribal Associations or Conflict Areas:\n",
    "\n",
    "sunni_cities = ['Mosul', 'Kirkuk', 'Sanandaj', 'Ramadi', 'Trabzone', 'Diarbekir', \n",
    "                'Damascus', 'Gwadar', 'Zahedan', 'Kandahar', 'Khiva', 'Fallujah',\n",
    "                'Dakhla', 'Tajura', 'Sabrata', 'Azizia', 'Kasabat', 'Misrata', 'Tripoli',\n",
    "                'Takrit', 'Tikrit']\n",
    "cyber_df['city'] = cyber_df['city'].where(df['city'].apply(\n",
    "                                lambda x: x not in sunni_cities), other = 'Sunni_Cities')"
   ]
  },
  {
   "cell_type": "code",
   "execution_count": 75,
   "metadata": {},
   "outputs": [],
   "source": [
    "shia_cities = ['Mecca', 'Najaf', 'Karbala', 'Samarra', 'Ahwaz', 'Basra', \n",
    "               'Medina', 'Tabriz', 'Tunceli', 'Zahran', 'Tehran', 'Rasht', 'Bojnurd',\n",
    "               'Hillah', 'Diwania', 'Khalis', 'Dujali', 'Balad', 'Khanaqin', \n",
    "               'Sargodha', 'Dadu', 'Moro']\n",
    "cyber_df['city'] = cyber_df['city'].where(df['city'].apply(\n",
    "                                lambda x: x not in shia_cities), other = 'Shia_Cities')"
   ]
  },
  {
   "cell_type": "code",
   "execution_count": 76,
   "metadata": {},
   "outputs": [],
   "source": [
    "split_cities = ['Kirmanshah', 'Baghdad', 'Kadhimia', 'Kuwait', 'Kars', 'Maras', \n",
    "               'Ankara', 'Sivas', 'Aleppo', 'Beirut', 'Abha', 'Jizan', 'Qazvin',\n",
    "               'Gunbad', 'Ashgabat', 'Mashhad', 'Herat', 'Merv', 'Charju', 'Bukhara',\n",
    "               'Samarkand', 'Mazari Sharif', 'Kandahar', 'Lar', 'Bandar Abbas', 'Dubai', \n",
    "               'Abu Dhabi', 'Tashkent', 'Erzurum', 'Konya', 'Izmir', 'Bursa', 'Istanbul',\n",
    "               'Tarhuna', ]\n",
    "cyber_df['city'] = cyber_df['city'].where(df['city'].apply(\n",
    "                                lambda x: x not in split_cities), other = 'Sunni_Shia_Split')"
   ]
  },
  {
   "cell_type": "code",
   "execution_count": 77,
   "metadata": {},
   "outputs": [],
   "source": [
    "ibadi_cities_libya = ['Nalut', 'Zentan', 'Gharian', 'Dafnia', 'Abu Kammash', 'Zuwara', \n",
    "               '', '', '', '', '', '', '']\n",
    "cyber_df['city'] = cyber_df['city'].where(df['city'].apply(\n",
    "                                lambda x: x not in ibadi_cities_libya), other = 'Ibadi_Cities_Libya')\n"
   ]
  },
  {
   "cell_type": "code",
   "execution_count": 78,
   "metadata": {},
   "outputs": [],
   "source": [
    "columbia_eln_cities = ['Riosucio', 'Buenaventura', 'Cali', 'Popayán', 'Bucaramanga',\n",
    "                       'Barrancabermeja', 'Cucuta', 'Santa Rita']\n",
    "cyber_df['city'] = cyber_df['city'].where(df['city'].apply(\n",
    "                                lambda x: x not in columbia_eln_cities), other = 'ELN_Cities')"
   ]
  },
  {
   "cell_type": "code",
   "execution_count": 79,
   "metadata": {},
   "outputs": [],
   "source": [
    "maoist_insurgency = ['Bhagalpur', 'Arwal', 'Khagaria', 'Rohtas', 'Kaimur',\n",
    "                       'Bhabua', 'Munger', 'Monghyr', 'Vaishali',\n",
    "                    'Dhanbad', 'Pakur', 'Koderma', 'Palamu', 'Balaghat',\n",
    "                     'Katni', 'Khandwa', 'Rajgarh', 'Shajapur']\n",
    "cyber_df['city'] = cyber_df['city'].where(df['city'].apply(\n",
    "                                lambda x: x not in maoist_insurgency), other = 'Maoist_Insurgency')\n"
   ]
  },
  {
   "cell_type": "code",
   "execution_count": 80,
   "metadata": {},
   "outputs": [],
   "source": [
    "w_africa_muslim = ['Touba', 'N\\'Djamena', 'Maiduguri', 'Zaria', 'Sokoto', 'Kenema',\n",
    "                   'Cetoua', 'Mopte', 'Bobo-Dioulasso', 'Kayes', 'Monrovia',\n",
    "                    '', '', '', '', '',\n",
    "                     '', '', '', '']\n",
    "cyber_df['city'] = cyber_df['city'].where(df['city'].apply(\n",
    "                                lambda x: x not in w_africa_muslim), other = 'Muslim_West_Africa')\n"
   ]
  },
  {
   "cell_type": "code",
   "execution_count": 81,
   "metadata": {},
   "outputs": [],
   "source": [
    "w_africa_mixed = ['Dogondutchi', 'Niamey', 'Parakou', 'Abuja', 'Kaduna', 'Kankan',\n",
    "                  'Lagos', 'Port Harcourt', 'Couala', 'Yaounde', 'Kumasi', 'Bamako',\n",
    "                  'Bertoua', 'Liberville', 'Port-Gentil', 'Zinder', 'Ouagadougou',\n",
    "                  'Freetown', 'Conakry', 'Bissau', 'Banjul', 'Dakar']\n",
    "cyber_df['city'] = cyber_df['city'].where(df['city'].apply(\n",
    "                                lambda x: x not in w_africa_mixed), other = 'Mixed_West_Africa')\n"
   ]
  },
  {
   "cell_type": "code",
   "execution_count": 82,
   "metadata": {},
   "outputs": [],
   "source": [
    "w_africa_christian = ['Benin City', 'Onitsha', 'Abidjan', 'Takoradi', 'Accra',\n",
    "                       'Lome']\n",
    "cyber_df['city'] = cyber_df['city'].where(df['city'].apply(\n",
    "                                lambda x: x not in w_africa_christian), other = 'Christian_West_Africa')\n"
   ]
  },
  {
   "cell_type": "code",
   "execution_count": 83,
   "metadata": {
    "collapsed": true
   },
   "outputs": [
    {
     "data": {
      "text/plain": [
       "Sunni_Shia_Split         874\n",
       "Sunni_Cities             497\n",
       "Unknown                  483\n",
       "Makhachkala              175\n",
       "Baqubah                  129\n",
       "Shia_Cities               96\n",
       "Kabul                     80\n",
       "Karachi                   76\n",
       "Mogadishu                 75\n",
       "Athens                    67\n",
       "Tuz Khormato              50\n",
       "Abu Ghraib                49\n",
       "Peshawar                  47\n",
       "Imphal                    39\n",
       "Quetta                    36\n",
       "Sanaa                     33\n",
       "Tuz Khormato district     32\n",
       "Tarmiyah                  30\n",
       "Muslim_West_Africa        29\n",
       "Azim                      27\n",
       "Baiji                     23\n",
       "Muqdadiyah                23\n",
       "Tarin Kot                 23\n",
       "Dhaka                     22\n",
       "Dimapur                   21\n",
       "Taji                      21\n",
       "Jalalabad                 20\n",
       "Benghazi                  20\n",
       "Bara                      19\n",
       "Arish                     18\n",
       "                        ... \n",
       "Bab al-Sham                1\n",
       "Qalandiyah                 1\n",
       "Dowr                       1\n",
       "Ahmed Deen Brohi           1\n",
       "Khengjang                  1\n",
       "Thmar Da                   1\n",
       "Tambalang                  1\n",
       "Dardsun Kupwara            1\n",
       "Golakganj                  1\n",
       "Khala                      1\n",
       "Muhajireen                 1\n",
       "Abu Karma                  1\n",
       "Shah Burhan                1\n",
       "Karanjuguda                1\n",
       "Saduniyah                  1\n",
       "Kart-e-Faizabad            1\n",
       "El Atatfa                  1\n",
       "Ban Klong Nam Daeng        1\n",
       "Tiixo                      1\n",
       "Puting Bato West           1\n",
       "Qush Tepa district         1\n",
       "Chang Phuak                1\n",
       "Deh Adam Khan              1\n",
       "Fier                       1\n",
       "Gwaram district            1\n",
       "Gharib                     1\n",
       "Sai                        1\n",
       "Mendipathar                1\n",
       "Chingai                    1\n",
       "Pang Dewana Baba           1\n",
       "Name: city, Length: 3997, dtype: int64"
      ]
     },
     "execution_count": 83,
     "metadata": {},
     "output_type": "execute_result"
    }
   ],
   "source": [
    "cyber_df['city'].value_counts()"
   ]
  },
  {
   "cell_type": "markdown",
   "metadata": {},
   "source": [
    "### 4. Preliminary Models:"
   ]
  },
  {
   "cell_type": "markdown",
   "metadata": {},
   "source": [
    "> Starting with some models that will help us determine feature importance (Select K-Best and Random Forest).  Also running some pca on our copied frame in case our filtering immediately above didn't work."
   ]
  },
  {
   "cell_type": "markdown",
   "metadata": {},
   "source": [
    "#### A. Select K-Best:"
   ]
  },
  {
   "cell_type": "code",
   "execution_count": 72,
   "metadata": {},
   "outputs": [],
   "source": [
    "import sklearn.feature_selection"
   ]
  },
  {
   "cell_type": "code",
   "execution_count": 84,
   "metadata": {},
   "outputs": [
    {
     "data": {
      "text/plain": [
       "event_id                    0\n",
       "year                        0\n",
       "month                       0\n",
       "day                         0\n",
       "24+hrs                      0\n",
       "country                     0\n",
       "country_txt                 0\n",
       "region                      0\n",
       "region_txt                  0\n",
       "region_2                    0\n",
       "city                       46\n",
       "summary                     0\n",
       "crit1                       0\n",
       "crit2                       0\n",
       "crit3                       0\n",
       "doubt                       0\n",
       "success                     0\n",
       "suicide                     0\n",
       "attack_1                    0\n",
       "attack_1txt                 0\n",
       "target_1                    0\n",
       "target_1txt                 0\n",
       "sub_target                  0\n",
       "sub_targettxt               0\n",
       "corp1                    1435\n",
       "specific_target            14\n",
       "victim_nationalitytxt       0\n",
       "group_name                  0\n",
       "motive                      0\n",
       "group_attrib_crtainty      47\n",
       "unaffil_individ             0\n",
       "nperps                   1329\n",
       "weapon                      0\n",
       "weapontxt                   0\n",
       "sub_weapon                  0\n",
       "sub_weapontxt               0\n",
       "property                    0\n",
       "dtype: int64"
      ]
     },
     "execution_count": 84,
     "metadata": {},
     "output_type": "execute_result"
    }
   ],
   "source": [
    "# Defining our X and Y's: \n",
    "cyber_df.isna().sum()"
   ]
  },
  {
   "cell_type": "code",
   "execution_count": null,
   "metadata": {},
   "outputs": [],
   "source": []
  },
  {
   "cell_type": "code",
   "execution_count": null,
   "metadata": {},
   "outputs": [],
   "source": []
  },
  {
   "cell_type": "code",
   "execution_count": null,
   "metadata": {},
   "outputs": [],
   "source": []
  },
  {
   "cell_type": "code",
   "execution_count": null,
   "metadata": {},
   "outputs": [],
   "source": []
  },
  {
   "cell_type": "code",
   "execution_count": null,
   "metadata": {},
   "outputs": [],
   "source": []
  },
  {
   "cell_type": "code",
   "execution_count": null,
   "metadata": {},
   "outputs": [],
   "source": []
  },
  {
   "cell_type": "code",
   "execution_count": null,
   "metadata": {},
   "outputs": [],
   "source": []
  },
  {
   "cell_type": "code",
   "execution_count": null,
   "metadata": {},
   "outputs": [],
   "source": []
  },
  {
   "cell_type": "code",
   "execution_count": null,
   "metadata": {},
   "outputs": [],
   "source": []
  },
  {
   "cell_type": "code",
   "execution_count": null,
   "metadata": {},
   "outputs": [],
   "source": []
  },
  {
   "cell_type": "code",
   "execution_count": null,
   "metadata": {},
   "outputs": [],
   "source": []
  },
  {
   "cell_type": "markdown",
   "metadata": {},
   "source": [
    "Groupnames:\n",
    "http://www.start.umd.edu/baad/database\n",
    "\n",
    "Asian Conflicts:\n",
    "http://www.satp.org/conflict-maps/bangladesh\n",
    "\n",
    "\n",
    "\n",
    "Middle East Conflicts:\n",
    "http://gulf2000.columbia.edu/maps.shtml\n",
    "    west africa map: http://gulf2000.columbia.edu/images/maps/West_Africa_Religion_lg.png\n",
    "    libya maphttp://gulf2000.columbia.edu/images/maps/Libya_Religion_Western_Sector_lg.png\n",
    "    http://gulf2000.columbia.edu/images/maps/ShiasReligionCore_lg.png\n",
    "    \n",
    "    \n",
    "Columbia Maps:\n",
    "https://www.crisisgroup.org/\n",
    "    https://www.crisisgroup.org/latin-america-caribbean/andes/colombia/63-colombias-armed-groups-battle-spoils-peace#map-5700-8\n",
    "    https://www.crisisgroup.org/latin-america-caribbean/andes/colombia/68-missing-peace-colombias-new-government-and-last-guerrillas#map-6189-1"
   ]
  }
 ],
 "metadata": {
  "kernelspec": {
   "display_name": "Python 3",
   "language": "python",
   "name": "python3"
  },
  "language_info": {
   "codemirror_mode": {
    "name": "ipython",
    "version": 3
   },
   "file_extension": ".py",
   "mimetype": "text/x-python",
   "name": "python",
   "nbconvert_exporter": "python",
   "pygments_lexer": "ipython3",
   "version": "3.7.0"
  },
  "toc": {
   "base_numbering": 1,
   "nav_menu": {},
   "number_sections": false,
   "sideBar": true,
   "skip_h1_title": false,
   "title_cell": "Table of Contents",
   "title_sidebar": "Contents",
   "toc_cell": false,
   "toc_position": {},
   "toc_section_display": true,
   "toc_window_display": true
  }
 },
 "nbformat": 4,
 "nbformat_minor": 2
}
